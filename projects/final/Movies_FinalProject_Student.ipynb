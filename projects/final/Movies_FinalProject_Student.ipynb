{
 "cells": [
  {
   "cell_type": "code",
   "execution_count": 1,
   "id": "84d462ae-7188-441d-a583-02e8ef4fb974",
   "metadata": {},
   "outputs": [],
   "source": [
    "%load_ext jupyter_ai_magics"
   ]
  },
  {
   "cell_type": "code",
   "execution_count": 2,
   "id": "06f6c6ba-56f0-4e2d-b4c7-c62fc7dc63c5",
   "metadata": {},
   "outputs": [],
   "source": [
    "from datascience import *\n",
    "import numpy as np\n",
    "import ast\n",
    "from collections import Counter\n",
    "# needed for plotting with datascience module\n",
    "%matplotlib inline\n",
    "import matplotlib.pyplot as plt\n",
    "#plots.style.use('fivethirtyeight')\n",
    "\n",
    "from IPython.display import display, Image"
   ]
  },
  {
   "cell_type": "markdown",
   "id": "cb4ef7ea-c086-46f6-b4be-cdb92f377ca9",
   "metadata": {},
   "source": [
    "# CMPSC 5A Final — Movie Ratings\n",
    "\n",
    "In this project, you will learn to apply all the concepts you have learned in the class so far. This includes table manipulation (all table functions), iteration (for loops), conditional (if statements), data cleaning, and hypothesis testing, etc."
   ]
  },
  {
   "cell_type": "markdown",
   "id": "7a332c90-9f1f-449b-9ef2-3f3e725670a5",
   "metadata": {},
   "source": [
    "## Names\n",
    "Please list the full names of all students who worked on this project.\n",
    "1. Student Name 1\n",
    "2. Student Name 2\n",
    "3. Student Name 3\n",
    "4. Student Name 4"
   ]
  },
  {
   "cell_type": "markdown",
   "id": "086830d8",
   "metadata": {},
   "source": [
    "## Member Responsibilities\n",
    "To make sure every member of your team contributes fairly, you should split up responsibilities before starting in writing. This should be a couple sentences. Here’s two examples of what that could look like for a hypothetical team of 2 (Alice and Bob):\n",
    "- “Alice will work on Q1-5 and Bob will do Q6-10. Each of us will make the slides that correspond to the problems we did.” \n",
    "- “We will meet in person to do the whole assignment as a team, switching up who is typing. Whoever is not currently typing will still help by checking documentation pages for the typist and advising the typist as they write code. Alice will make the first half of the slides, Bob will make the second half.” \n",
    "\n",
    "As these examples show, everyone should contribute to the notebook and presentation roughly equally.\n",
    "\n",
    "After presentations are complete, we will send out a survey where you say what you ended up doing and whether your teammate(s) held up their end of the bargain. Your self-evaluation and your teammates evaluation of you is not directly part of the rubric. \n",
    "\n",
    "This does not mean you can't help each other!!! It’s a group project. Please please please reach out to your teammate(s) if you’re struggling with questions that are assigned to you!! The survey evaluation is not a competition. We do not care if someone thinks they did 55% of the work and their partner did 45%. We care a lot if someone is not doing their work, not communicating with their team, and generally not contributing in good faith."
   ]
  },
  {
   "cell_type": "markdown",
   "id": "afd6c1d8",
   "metadata": {},
   "source": [
    "*Write your team member responsibility distribution here*"
   ]
  },
  {
   "cell_type": "markdown",
   "id": "b1151b30-ea27-47c0-be98-4d6165218000",
   "metadata": {
    "jp-MarkdownHeadingCollapsed": true
   },
   "source": [
    "## Logistics\n",
    "\n",
    "**Deadline:** The final project notebook is due Thursday, March 13th, 2025 at 11:59pm PT. The final project presentation slides are due by 10:00am PT on Friday, March 14th, 2025. Unlike labs, **no late submissions are allowed**. After presentations are complete, we will send out a survey where you say what you ended up doing and whether your teammate(s) held up their end of the bargain.\n",
    "\n",
    "**Submission:** For full credit, you must complete all the questions and submit to Gradescope. You may still change your answers before the project deadline - only your final submission will be graded for correctness. Only one partner needs to submit the notebook to Gradescope, and they will need to add the other two group members as members on Gradescope. See [How to Add Group Member in Gradescope](https://help.gradescope.com/article/m5qz2xsnjy-student-add-group-members). **After they submit, all group members should open their Gradescope accounts and see that a submission has been processed. Be sure that the final notebook has all the ChatGPT prompts used by all the team members**.\n",
    "\n",
    "**Presentation:** Your group will need to create a presentation slide deck and give a 6-8 minute oral presentation during your assigned time slot. Presentations must use slides. Your group is not allowed to scroll through your notebook during the presentation. All slides must be uploaded to https://drive.google.com/drive/folders/17r2EyxJYd40E7OAldljNb7QcjD_YikWh?usp=sharing.\n",
    "\n",
    "**Final Project Rubric:** The rubric for the Final Project can be found [here](https://docs.google.com/document/d/1LCjgJ_OTntaBKx6abFevrOupjzK2Iw0G/edit).\n",
    "\n",
    "**IMPORTANT NOTES:** \n",
    "- You are not limited to just one solution code cell, one prompt cell and one workflow cell for each question. Use as many of each as you like to ensure your notebook is presented well, easy-to-read, and has all the required plots and intermediate tables visible to show how you deduced that answer.\n",
    "- None of the questions are created in a way that will allow you to just give a one line answer. Remember, if your answer is just a one line answer, you are probably missing something.\n",
    "- Every group's answers may be different based on the approach you take for data analysis. Others may have visually presented it with a graph that may be different from yours, or filtered the table in a different way. That does not mean yours is wrong. We are looking for diversity in how information is displayed and there are more than one correct answers for each question.\n",
    "\n",
    "**Partners:** You will work with two or three other partners (total three or four in a group); your partners can be from any lab section. **Please sign-up with your partners on the [final project sign-up sheet](https://docs.google.com/spreadsheets/d/1mT-_lz-b4fx5X1Ma7wtxio_rpFeWxfBz/edit?usp=sharing&ouid=109499873917928324217&rtpof=true&sd=true) using your UCSB email by Monday, March 3, 2025 at 5:00pm PT.** If you have less than three people, please check the sheet on Tuesday, March 4, 2025 to see if you were assigned a random partner.\n",
    "\n",
    "**Rules:** Don't share your code with anybody but your partners. You are welcome to discuss questions with other students, but don't share the answers. The experience of solving the problems in this project will prepare you for exams (and life). If someone asks you for the answer, resist! Instead, you can demonstrate how you would solve a similar problem. Since the problems are open-ended, they can have various different answers. What is important is the approach you take to solve your task.\n",
    "\n",
    "**Support:** You are not alone! Come to office hours, post on Ed, and talk to your classmates. If you want to ask about the details of your solution to a problem, make a private Ed post and the staff will respond. If you're ever feeling overwhelmed or don't know how to make progress, please talk to your TA or ULA.\n",
    "\n",
    "**Advice:** Develop your answers incrementally. To perform a complicated table manipulation, break it up into steps, perform each step on a different line, give a new name to each result, and check that each intermediate result is what you expect. You can add any additional names or functions you want to the provided cells. Make sure that you are using distinct and meaningful variable names throughout the notebook. Along that line, **TRY NOT TO** reuse the variable names.\n",
    "\n",
    "You **never** have to use just one line in this project or any others. Use intermediate variables and multiple lines as much as you would like!"
   ]
  },
  {
   "cell_type": "markdown",
   "id": "f6a7a349-80e7-49cf-a51b-2519ce76a0d8",
   "metadata": {},
   "source": [
    "## The IMDB Movies Dataset"
   ]
  },
  {
   "cell_type": "markdown",
   "id": "f082848f-77d7-4379-bf1c-1a8e430f13d2",
   "metadata": {},
   "source": [
    "What can we say about the success of a movie before it is released? Are there certain companies (Pixar?) that have found a consistent formula? Given that major films costing over $100 million to produce can still flop, this question is more important than ever to the industry. Film aficionados might have different interests. Can we predict which films will be highly rated, whether or not they are a commercial success?\n",
    "\n",
    "This is a great place to start digging in to those questions, with data on the director, budget, rating, genres and revenues of thousands of films.\n",
    "\n",
    "You will be working with three seperate datasets throughout this final project. You might be required to even join these datasets at some point. Lets go through what each dataset contains:\n",
    "\n",
    "1. *movies.csv*\n",
    "- `id`: The iMDB movie ID\n",
    "- `budget`: The budget in dollars for that film\n",
    "- `original_language`: The original language the movie was released in\n",
    "- `original_title`: The original title of the movie\n",
    "- `popularity`: A custom iMDB score that tracks how popular the movie is amongst its users\n",
    "- `release_date`: The release date of the movie\n",
    "- `revenue`: The revenue earned in dollars at the time of release in theatres\n",
    "- `runtime`: The runtime of the movie in minutes\n",
    "- `title`: The title of the movie\n",
    "- `vote_average`: The average vote score given by iMDB users\n",
    "- `vote_count`: The number of votes a movie has.\n",
    "- `genres`: An underscore seperated string of genres that the movie comes under.\n",
    "\n",
    "\n",
    "2. *credits.csv*\n",
    "- `id`: The iMDB movie ID\n",
    "- `title`: The movie title\n",
    "- `Director`: The director of the movie\n",
    "\n",
    "3. *cir_info.csv*\n",
    "- `year`: The year\n",
    "- `CIR`: The Cumulative Inflation Rate from that year to 2023\n",
    "\n",
    "Please refer to [Chapter 11: Hypothesis testing](https://inferentialthinking.com/chapters/11/Testing_Hypotheses.html) and [Chapter 12.1: A/B Testing](https://inferentialthinking.com/chapters/12/1/AB_Testing.html) when completing this final project as many of the questions use concepts covered there!"
   ]
  },
  {
   "cell_type": "markdown",
   "id": "2f060471-3153-454b-9b8f-af6a359bd807",
   "metadata": {},
   "source": [
    "**Q1**. The first step to working with data is cleaning and organizing your data. Go through your datasets and make sure you understand all the columns and their data types. Combine the __movie__ and __credits__ tables so that you have one table with all the information you need. Additionally, make sure to perform the following data cleaning steps:\n",
    "1. Remove any rows with a nan value in it\n",
    "2. Remove any rows with a revenue AND budget of 0"
   ]
  },
  {
   "cell_type": "code",
   "execution_count": null,
   "id": "b033cbd0",
   "metadata": {},
   "outputs": [],
   "source": [
    "movies = Table().read_table('data/movies.csv')\n",
    "credits = Table().read_table('data/credits.csv')"
   ]
  },
  {
   "cell_type": "code",
   "execution_count": null,
   "id": "68e63c13-df39-4fd5-9b70-bb1a800cc173",
   "metadata": {},
   "outputs": [],
   "source": [
    "#SOLUTION"
   ]
  },
  {
   "cell_type": "markdown",
   "id": "47fd3da7-72bb-4621-8520-9d8bde3693ce",
   "metadata": {},
   "source": [
    "#### Enter prompt below:"
   ]
  },
  {
   "cell_type": "code",
   "execution_count": null,
   "id": "b2175cf8-eb83-45ba-85a1-30793f207c70",
   "metadata": {},
   "outputs": [],
   "source": [
    "%%ai openai-chat:gpt-4"
   ]
  },
  {
   "cell_type": "markdown",
   "id": "75530341-4892-4694-ad7a-48f0e8baee37",
   "metadata": {},
   "source": [
    "#### Explain your answer below:"
   ]
  },
  {
   "cell_type": "markdown",
   "id": "977599f2-c0ac-4901-a2b7-ff4525c8f313",
   "metadata": {},
   "source": [
    "_type your answer here_"
   ]
  },
  {
   "cell_type": "markdown",
   "id": "a3c5403b-24f8-4ac2-a963-82720ac4ca54",
   "metadata": {},
   "source": [
    "**Q2.** Before we get started, we need a score for every movie. We could use the `vote_average` of the movie as the score but using this won't be fair enough since a movie with a 8.9 average and only 3 votes cannot be considered better than the movie with 7.8 as the average but with 40 votes. \n",
    "\n",
    "So we'll be using IMDB's weighted rating (wr) which is given as:\n",
    "\n",
    "$$ \\text{Weighted Rating (WR)} = (\\frac{v}{v+m} \\times R) + (\\frac{m}{v+m} \\times C)$$\n",
    "\n",
    "where,\n",
    "\n",
    "* *v* is the number of votes for the movie;\n",
    "* *m* is the minimum votes required to be listed in the chart;\n",
    "* *R* is the average rating of the movie; And\n",
    "* *C* is the mean vote across the filtered dataset\n",
    "\n",
    "We already have *v (vote_count)* and *R (vote_average)*. The next step is to determine an appropriate value for *m*, the minimum votes required to be listed in the chart. We will use 90th percentile as our cutoff. In other words, for a movie to feature in the charts, it must have more votes than at least 90% of the movies in the list. Add a new column called `custom_score` which calculates this rating for each movie."
   ]
  },
  {
   "cell_type": "code",
   "execution_count": null,
   "id": "193e73cd-e446-4cea-b82f-43f06135d589",
   "metadata": {},
   "outputs": [],
   "source": [
    "#SOLUTION"
   ]
  },
  {
   "cell_type": "markdown",
   "id": "33c3ac11-dd73-4e0d-87a8-f8e27908fc45",
   "metadata": {},
   "source": [
    "#### Enter prompt below:"
   ]
  },
  {
   "cell_type": "code",
   "execution_count": null,
   "id": "983a6161-4981-4afb-a110-fbf217eea879",
   "metadata": {},
   "outputs": [],
   "source": [
    "%%ai openai-chat:gpt-4"
   ]
  },
  {
   "cell_type": "markdown",
   "id": "3575f2c0-4472-47d2-a541-c1c578cf10d5",
   "metadata": {},
   "source": [
    "#### Explain your answer below:"
   ]
  },
  {
   "cell_type": "markdown",
   "id": "e94121d3-5a73-4546-840d-eb86dbc14838",
   "metadata": {},
   "source": [
    "_type your answer here_"
   ]
  },
  {
   "cell_type": "markdown",
   "id": "aa7df9bf-c6e0-4771-9c5d-94cea3267eca",
   "metadata": {},
   "source": [
    "**Q3.** Now lets get into some data analysis! We'll look at Genres first. Maybe directors like to make a particular kind of movie. Plot the top 10 genres with the highest movie count.\n",
    "\n",
    "**HINT:** You'll have noticed that the genres for each movie are seperated by underscores. A movie can have multiple genres, make sure you consider each one individually by splitting these strings"
   ]
  },
  {
   "cell_type": "code",
   "execution_count": null,
   "id": "27ff4d9a-323a-4cbf-b629-27c2189a03ce",
   "metadata": {},
   "outputs": [],
   "source": [
    "#SOLUTION"
   ]
  },
  {
   "cell_type": "markdown",
   "id": "5e869a2c-0767-4031-a516-629d21f78b89",
   "metadata": {},
   "source": [
    "#### Enter prompt below:"
   ]
  },
  {
   "cell_type": "code",
   "execution_count": null,
   "id": "e1319614-97f0-4908-9bb6-69d147fbc7c1",
   "metadata": {},
   "outputs": [],
   "source": [
    "%%ai openai-chat:gpt-4"
   ]
  },
  {
   "cell_type": "markdown",
   "id": "47f849e5-28fa-4f2f-b038-d4c24ec9a97f",
   "metadata": {},
   "source": [
    "#### Explain your answer below:"
   ]
  },
  {
   "cell_type": "markdown",
   "id": "2089a550-c9a8-4bb7-9928-6165dcc64307",
   "metadata": {},
   "source": [
    "_type your answer here_"
   ]
  },
  {
   "cell_type": "markdown",
   "id": "dec186db-8407-411c-9b59-cef3b3f007e9",
   "metadata": {},
   "source": [
    "A major indicator of a movie's success is the profit it makes. The profit is dependent on two components, the budget for the film and its revenue in the box office. The next few questions will be looking into these variables and how they affect the data we have.\n",
    "\n",
    "**Q4.1** First, let's create a new column that calculates the profit for each movie called `profit`, and then also visualize the correlation between the two variables `revenue` and `budget`. Is there a correlation? \n",
    "\n",
    "**Hint:** $ \\text{Profit} = \\text{Revenue} - \\text{Budget} $"
   ]
  },
  {
   "cell_type": "code",
   "execution_count": null,
   "id": "aeb6cf7a-a130-4b27-88de-0a1b4a874dad",
   "metadata": {},
   "outputs": [],
   "source": [
    "#SOLUTION"
   ]
  },
  {
   "cell_type": "markdown",
   "id": "0072728b-4741-4065-b68b-50eadc2a47ef",
   "metadata": {},
   "source": [
    "#### Enter prompt below:"
   ]
  },
  {
   "cell_type": "code",
   "execution_count": null,
   "id": "ed37a6c2-d68f-442f-9c50-2e5fc6511700",
   "metadata": {},
   "outputs": [],
   "source": [
    "%%ai openai-chat:gpt-4"
   ]
  },
  {
   "cell_type": "markdown",
   "id": "08006e02-14ed-4307-bb8c-efaaebab2b89",
   "metadata": {},
   "source": [
    "#### Explain your answer below:"
   ]
  },
  {
   "cell_type": "markdown",
   "id": "3d8fda7e-1495-454a-a1aa-924fbde7ec20",
   "metadata": {},
   "source": [
    "_type your answer here_"
   ]
  },
  {
   "cell_type": "markdown",
   "id": "01d83dee-dd32-4368-98e4-23bcdae3f324",
   "metadata": {},
   "source": [
    "\n",
    "\n",
    "**Q4.2** Lets see how much a movie would make if it was released in 2023 instead of the year it was originally released in. Load *cir_info.csv* from the data folder and **join** it with your dataset. \n",
    "The CIR is the cumulative inflation rate from that year to 2023. Generate three new columns called `adjusted_budget`, `adjusted_revenue`, and `adjusted_profit` that account for inflation of the US Dollar. Then plot your revenue and budget correlation visualization again.\n",
    "\n",
    "**Hint:** It is vital to note that the CIR times any value gives you the inflation adjustment and NOT the inflated value itself. So for example, the adjusted budget calculation should be $$ \\text{budget} + \\text{budget}*\\text{CIR}/100 $$"
   ]
  },
  {
   "cell_type": "code",
   "execution_count": null,
   "id": "40b976e3-724a-4099-94bf-b00f05de7263",
   "metadata": {},
   "outputs": [],
   "source": [
    "#SOLUTION"
   ]
  },
  {
   "cell_type": "markdown",
   "id": "1efcf9aa-9413-4843-88a1-acdaa187a529",
   "metadata": {},
   "source": [
    "#### Enter prompt below:"
   ]
  },
  {
   "cell_type": "code",
   "execution_count": null,
   "id": "bf956da7-ec91-4401-9b2e-e41d39445952",
   "metadata": {},
   "outputs": [],
   "source": [
    "%%ai openai-chat:gpt-4"
   ]
  },
  {
   "cell_type": "markdown",
   "id": "1c12cee6-81f3-4cf6-b9b7-35748a269473",
   "metadata": {},
   "source": [
    "#### Explain your answer below:"
   ]
  },
  {
   "cell_type": "markdown",
   "id": "d4b942bd-c63f-463e-a622-afabb163969f",
   "metadata": {},
   "source": [
    "_type your answer here_"
   ]
  },
  {
   "cell_type": "markdown",
   "id": "b1e9ebcb-c874-4e8a-bbf4-755d555e634a",
   "metadata": {},
   "source": [
    "**Q5.1** Sometimes movies with small budgets make big waves in the box office. Lets look at Indie hits! Show the top 10 movies that had their budgets in the bottom 20 percentile but made the biggest profit. (Use adjusted profit and adjusted revenue)."
   ]
  },
  {
   "cell_type": "code",
   "execution_count": null,
   "id": "556a3dd0-93be-41a4-9af1-5fd2c5cc8135",
   "metadata": {},
   "outputs": [],
   "source": [
    "#SOLUTION"
   ]
  },
  {
   "cell_type": "markdown",
   "id": "1d67cff0-219c-4fda-87f8-e90aaf910389",
   "metadata": {},
   "source": [
    "#### Enter prompt below:"
   ]
  },
  {
   "cell_type": "code",
   "execution_count": null,
   "id": "ec70581a-4a8a-477a-a8e3-e98f6a3fd7b5",
   "metadata": {},
   "outputs": [],
   "source": [
    "%%ai openai-chat:gpt-4"
   ]
  },
  {
   "cell_type": "markdown",
   "id": "d971b0ef-de85-4801-9121-211282dde818",
   "metadata": {},
   "source": [
    "#### Explain your answer below:"
   ]
  },
  {
   "cell_type": "markdown",
   "id": "fa8ad491-a964-4b74-ae8d-b580cebaca28",
   "metadata": {},
   "source": [
    "_type your answer here_"
   ]
  },
  {
   "cell_type": "markdown",
   "id": "e26d10ad-6c00-4c02-ac04-e8bbf5bb587e",
   "metadata": {},
   "source": [
    "**Q5.2**  Next, let's look at which directors are good at making blockbusters. Identify the 5 most profitable directors and their favorite genres. (Use adjusted profit)\n",
    "\n",
    "**Hint:** `Counter()` might help you out. Look it up!"
   ]
  },
  {
   "cell_type": "code",
   "execution_count": null,
   "id": "4c8061ba-2426-487b-aafa-a27140083fad",
   "metadata": {},
   "outputs": [],
   "source": [
    "#SOLUTION"
   ]
  },
  {
   "cell_type": "markdown",
   "id": "3adec81d-56f0-4d38-8eb4-4878e17dde1a",
   "metadata": {},
   "source": [
    "#### Enter prompt below:"
   ]
  },
  {
   "cell_type": "code",
   "execution_count": null,
   "id": "db5017af-7d2b-47cd-a284-a114456637f9",
   "metadata": {},
   "outputs": [],
   "source": [
    "%%ai openai-chat:gpt-4"
   ]
  },
  {
   "cell_type": "markdown",
   "id": "28f6091f-d4d1-4956-bdc9-26a2ac1e0d1f",
   "metadata": {},
   "source": [
    "#### Explain your answer below:"
   ]
  },
  {
   "cell_type": "markdown",
   "id": "eedd50a8-a9a5-4398-8159-4b70b172db36",
   "metadata": {},
   "source": [
    "_type your answer here_"
   ]
  },
  {
   "cell_type": "markdown",
   "id": "d336de5a-f184-43b3-bf4f-bd9c4c021e3f",
   "metadata": {},
   "source": [
    "**Q6** Looks like our table came with 2 columns, one called `original_title` and another called `title`. It seems weird that we would have two columns like this. As a data scientist, you now have to investigate! What seems to be the main reason for having two seperate columns? You will need to show both code and an analysis."
   ]
  },
  {
   "cell_type": "code",
   "execution_count": null,
   "id": "c6e627a1-e3cd-49b6-bcfa-3b1914df1e9e",
   "metadata": {},
   "outputs": [],
   "source": [
    "#SOLUTION"
   ]
  },
  {
   "cell_type": "markdown",
   "id": "93749cf3-842a-4c39-8973-6d9e3712b1cc",
   "metadata": {},
   "source": [
    "#### Enter prompt below:"
   ]
  },
  {
   "cell_type": "code",
   "execution_count": null,
   "id": "80e4c6d5-fb08-48ca-bb27-8142a934a59d",
   "metadata": {},
   "outputs": [],
   "source": [
    "%%ai openai-chat:gpt-4"
   ]
  },
  {
   "cell_type": "markdown",
   "id": "6b407c2c-7de6-4fa2-8f42-75119b9e4123",
   "metadata": {},
   "source": [
    "#### Explain your answer below:"
   ]
  },
  {
   "cell_type": "markdown",
   "id": "a0bb19c5-34a5-47bc-84aa-86212c021fbe",
   "metadata": {},
   "source": [
    "_type your answer here_"
   ]
  },
  {
   "cell_type": "markdown",
   "id": "2a2db262-7ada-4e2a-bc58-aeb04e81592e",
   "metadata": {},
   "source": [
    "**Q7.** Nobody likes sitting through long, boring movies. Maybe nobody likes sitting through long movies in general. In this question you will be testing the hypothesis that excessively long movies do not have a good weighted rating due to audience attention spans. \n",
    "\n",
    "We'll go with a bold claim. Any movie **over 90 minutes** is considered a long movie.\n",
    "\n",
    "You need to perform at least 4 major steps. You will receive a full grade for this question ONLY if all 4 steps are present.\n",
    "\n",
    "1. Formally state your null and alternate hypothesis and state the test statistic that you will be using.\n",
    "2. Calculate the observed value of your statistic and develop a simulation scheme to simulate your test statistic\n",
    "3. Visualize the distribution of your test statistic and identify where your observed statistic lies.\n",
    "4. Use a significance level of 5% and 10% and come to a conclusion for both these significance levels."
   ]
  },
  {
   "cell_type": "code",
   "execution_count": null,
   "id": "3d14db36-90b4-45d7-a784-92431234c397",
   "metadata": {},
   "outputs": [],
   "source": [
    "#SOLUTION"
   ]
  },
  {
   "cell_type": "markdown",
   "id": "d3258c26-b103-4c8a-9c2c-4768f5d6a4b2",
   "metadata": {},
   "source": [
    "#### Enter prompt below:"
   ]
  },
  {
   "cell_type": "code",
   "execution_count": null,
   "id": "2ce6f821-7b16-4a53-9d6c-eedd89608357",
   "metadata": {},
   "outputs": [],
   "source": [
    "%%ai openai-chat:gpt-4"
   ]
  },
  {
   "cell_type": "markdown",
   "id": "c3b318c1-0006-4993-814b-4b9fc7a80960",
   "metadata": {},
   "source": [
    "#### Explain your answer below:"
   ]
  },
  {
   "cell_type": "markdown",
   "id": "29086487-d6ab-46ee-8e0f-3b634e3c4154",
   "metadata": {},
   "source": [
    "_type your answer here_"
   ]
  },
  {
   "cell_type": "markdown",
   "id": "92b2e3ae-9bfc-45e1-97a1-ca5b3f2d0cef",
   "metadata": {},
   "source": [
    "**Q8.** Now run the same hypothesis test but this time. Use the adjusted revenue as your variable of observation instead of the custom rating. Run all 4 steps again. Does your conclusion change? What do you think is happening? Why is there a difference in your conclusion as you change the variable you're observing?"
   ]
  },
  {
   "cell_type": "code",
   "execution_count": null,
   "id": "6d3fb7be-2f13-4160-a23b-6fc3dcdc1b5e",
   "metadata": {},
   "outputs": [],
   "source": [
    "#SOLUTION"
   ]
  },
  {
   "cell_type": "markdown",
   "id": "2637a3b5-af38-4189-9251-df7054646af7",
   "metadata": {},
   "source": [
    "#### Enter prompt below:"
   ]
  },
  {
   "cell_type": "code",
   "execution_count": null,
   "id": "d89bb392-9402-4973-9255-d0c97dc836bd",
   "metadata": {},
   "outputs": [],
   "source": [
    "%%ai openai-chat:gpt-4"
   ]
  },
  {
   "cell_type": "markdown",
   "id": "358634dd-4c24-40b7-817d-f50d237272d6",
   "metadata": {},
   "source": [
    "#### Explain your answer below:"
   ]
  },
  {
   "cell_type": "markdown",
   "id": "591d8eab-a59a-4e55-8b57-d68a39cb2037",
   "metadata": {},
   "source": [
    "_type your answer here_"
   ]
  },
  {
   "cell_type": "markdown",
   "id": "af78e271-abba-4db3-9e04-d88a5167521d",
   "metadata": {},
   "source": [
    "**Question 9 (Novel Analysis Part 1):**\n",
    "\n",
    "Design your own A/B test! Choose one variable whose trends you would like to investigate, and create a new table with that variable's data for the years and states you would like to analyze. Remember to divide the overall table into two groups that you want to compare for the test, and conduct an A/B test investigating the differences between the two groups.\n",
    "\n",
    "Let's begin the process.\n",
    "\n",
    "a) Define null and alternate hypotheses.\n",
    "\n",
    "b) Plot the observed distribution of the variable you will be observing\n",
    "\n",
    "c) State your test statistic value and what it means in the context of the problem."
   ]
  },
  {
   "cell_type": "code",
   "execution_count": null,
   "id": "ec7ca6ec-7d6b-4b5b-8eac-a52d72db0c56",
   "metadata": {},
   "outputs": [],
   "source": [
    "#SOLUTION"
   ]
  },
  {
   "cell_type": "markdown",
   "id": "d66e2b77-4486-468a-a0a3-cfd8e22ab47f",
   "metadata": {},
   "source": [
    "#### Enter prompt below:"
   ]
  },
  {
   "cell_type": "code",
   "execution_count": null,
   "id": "91d3a949-c697-496d-9345-ced5fb9df66e",
   "metadata": {},
   "outputs": [],
   "source": [
    "%%ai openai-chat:gpt-4"
   ]
  },
  {
   "cell_type": "markdown",
   "id": "633ea157-4164-45df-9ac5-d8475220dfdd",
   "metadata": {},
   "source": [
    "#### Explain your answer below:"
   ]
  },
  {
   "cell_type": "markdown",
   "id": "d5d9ef07-b0a4-4659-8e53-0acc70ba26b0",
   "metadata": {},
   "source": [
    "_type your answer here_"
   ]
  },
  {
   "cell_type": "markdown",
   "id": "35574497-fc7f-4c3f-9dc6-e2f4e37927e4",
   "metadata": {},
   "source": [
    "**Question 10 (Novel Analysis Part 2):**\n",
    "\n",
    "Continue the A/B Test from Question 9!\n",
    "\n",
    "\n",
    "a) Simulate the test statistic under the null hypothesis and visualize the results.\n",
    "\n",
    "b) Select a significance level for your test and state the conclusion of the hypothesis test."
   ]
  },
  {
   "cell_type": "code",
   "execution_count": null,
   "id": "58ee26ca-4cfd-4586-b3da-08118ae5ccbc",
   "metadata": {},
   "outputs": [],
   "source": [
    "#SOLUTION"
   ]
  },
  {
   "cell_type": "markdown",
   "id": "6f051a61-4ea5-424d-b68f-60653e673e37",
   "metadata": {},
   "source": [
    "#### Enter prompt below:"
   ]
  },
  {
   "cell_type": "code",
   "execution_count": null,
   "id": "259b8e04-7460-47e9-bd21-ccca51fb62a3",
   "metadata": {},
   "outputs": [],
   "source": [
    "%%ai openai-chat:gpt-4"
   ]
  },
  {
   "cell_type": "markdown",
   "id": "193c8fbc-a6bb-4c0b-b158-7e74fbb8f767",
   "metadata": {},
   "source": [
    "#### Explain your answer below:"
   ]
  },
  {
   "cell_type": "markdown",
   "id": "d642bfec-5bb9-4e2c-a33c-5c1d217e5f1a",
   "metadata": {},
   "source": [
    "_type your answer here_"
   ]
  }
 ],
 "metadata": {
  "kernelspec": {
   "display_name": "Python 3 (ipykernel)",
   "language": "python",
   "name": "python3"
  },
  "language_info": {
   "codemirror_mode": {
    "name": "ipython",
    "version": 3
   },
   "file_extension": ".py",
   "mimetype": "text/x-python",
   "name": "python",
   "nbconvert_exporter": "python",
   "pygments_lexer": "ipython3",
   "version": "3.12.3"
  }
 },
 "nbformat": 4,
 "nbformat_minor": 5
}
