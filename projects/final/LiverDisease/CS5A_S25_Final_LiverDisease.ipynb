{
  "nbformat": 4,
  "nbformat_minor": 0,
  "metadata": {
    "colab": {
      "provenance": []
    },
    "kernelspec": {
      "name": "python3",
      "display_name": "Python 3"
    },
    "language_info": {
      "name": "python"
    }
  },
  "cells": [
    {
      "cell_type": "code",
      "source": [
        "# Run this cell once when starting on notebook.\n",
        "# On Google Colab, wait for the Google Drive permission prompts before proceeding\n",
        "import matplotlib.pyplot as plt\n",
        "%matplotlib inline\n",
        "import os\n",
        "import sys\n",
        "try:\n",
        "    %load_ext jupyter_ai_magics\n",
        "except:\n",
        "    print(\"%%ai cells will not work in this notebook\")\n",
        "    print(\"Please use Gemini for AI queries instead\")\n",
        "from datascience import *\n",
        "import numpy as np\n",
        "import math\n",
        "\n",
        "DATA_FILENAME=\"data/ILPD.csv\"\n",
        "try:\n",
        "  from google.colab import drive\n",
        "  drive.mount('/content/drive', force_remount=True)\n",
        "  !mkdir -p /content/data\n",
        "  !gdown --fuzzy https://drive.google.com/file/d/1VSNdp_68F-AxjDfDMOryx7RMMp-27uQK/view?usp=drive_link -O /content/data/ILPD.csv\n",
        "  DATA_FILENAME = DATA_FILENAME.replace(\"data\", \"/content/data/\")\n",
        "  !ls -l /content/data\n",
        "except:\n",
        "  print(\"Google Drive not mounted; this is normal on Jupyter Hub\")\n"
      ],
      "metadata": {
        "id": "iNtXqjFfN82R",
        "colab": {
          "base_uri": "https://localhost:8080/"
        },
        "outputId": "7b17ab8f-bd09-4b34-b48e-f419c18ad841"
      },
      "execution_count": 1,
      "outputs": [
        {
          "output_type": "stream",
          "name": "stdout",
          "text": [
            "%%ai cells will not work in this notebook\n",
            "Please use Gemini for AI queries instead\n",
            "Mounted at /content/drive\n",
            "Downloading...\n",
            "From: https://drive.google.com/uc?id=1VSNdp_68F-AxjDfDMOryx7RMMp-27uQK\n",
            "To: /content/data/ILPD.csv\n",
            "100% 23.2k/23.2k [00:00<00:00, 69.7MB/s]\n",
            "total 24\n",
            "-rw-r--r-- 1 root root 23233 May 20 19:31 ILPD.csv\n"
          ]
        }
      ]
    },
    {
      "cell_type": "markdown",
      "source": [
        "# CS5A S25 Final Project: LiverDisease\n",
        "\n",
        "* Please refer to the general instructions in [this document](https://docs.google.com/document/d/1qgS-GPKsbcbqNq8bbDk8kiB0bH-HRZcfN4La75bOtWU/edit?usp=sharing) before starting.\n",
        "* You may work on either JupyterHub or Google Colab\n",
        "\n",
        "\n",
        "If working on Colab:\n",
        "\n",
        "* The Google Colab version is [this folder](https://drive.google.com/drive/folders/1wsVszAufxxmSR7_uoOoR6QBQmjlurPNx?usp=drive_link)\n",
        "* Make a copy of the notebook in your group folder for the final team project before starting to make edits.\n",
        "* If/when working in the same file, be sure to coordinate with your group so that only one member of the group is editing at a time; Colab doesn't handle simulataneous editing very well.\n",
        "\n",
        "\n",
        "\n",
        "\n"
      ],
      "metadata": {
        "id": "bUr3oeqXbQta"
      }
    },
    {
      "cell_type": "markdown",
      "metadata": {
        "id": "fb628b80-9a09-4416-aa52-8091e651e658"
      },
      "source": [
        "## Names\n",
        "\n",
        "Please list all students that were a member of this team\n",
        "\n",
        "1. Student Name 1\n",
        "2. Student Name 2\n",
        "3. Student Name 3\n",
        "4. Student Name 4"
      ]
    },
    {
      "cell_type": "markdown",
      "source": [],
      "metadata": {
        "id": "8w9XkJutPZCK"
      }
    },
    {
      "cell_type": "markdown",
      "metadata": {
        "id": "b16c7130"
      },
      "source": [
        "## Member Responsibilities\n"
      ]
    },
    {
      "cell_type": "markdown",
      "metadata": {
        "id": "f2ca30bb"
      },
      "source": [
        "*Write your team member responsibility distribution here* (See [instructions](https://docs.google.com/document/d/1gYMuXukOTtJkEthxUeHmWuA1Qn9BtIYkSJa37Gb524E/edit?tab=t.0#bookmark=id.igbdergm85kj))"
      ]
    },
    {
      "cell_type": "markdown",
      "source": [],
      "metadata": {
        "id": "F7sLecsuCF3r"
      }
    },
    {
      "cell_type": "markdown",
      "metadata": {
        "id": "c78c06c3-605d-4654-8c81-72103e96bc6f"
      },
      "source": [
        "## Liver Disorders Dataset"
      ]
    },
    {
      "cell_type": "markdown",
      "metadata": {
        "id": "819519cc-0f68-48fa-8be0-ab7e0fc79172"
      },
      "source": [
        "Death by liver cirrhosis continues to increase, given the increase in alcohol consumption rates, chronic hepatitis infections, and obesity-related liver disease. Notwithstanding the high mortality of this disease, liver diseases do not affect all sub-populations equally. The early detection of pathology is a determinant of patient outcomes. The dataset comprises 584 patient records collected from the NorthEast of Andhra Pradesh, India.\n",
        "* **Age**: Patient's age.\n",
        "* **Gender**: Patient's gender.\n",
        "* **Total Bilirubin (TB)**: The total amount of bilirubin in the blood, a yellow pigment produced by the breakdown of red blood cells.\n",
        "* **Direct Bilirubin (DB)**: The direct fraction of bilirubin, specifically associated with liver function.\n",
        "* **Total Proteins (TP)**: The total amount of proteins in the blood, including albumin and globulins.\n",
        "* **Albumin (ALB)**: A protein synthesized by the liver, crucial for maintaining blood volume and pressure.\n",
        "* **A/G Ratio**: The ratio of albumin to globulins, providing insights into liver and kidney function.\n",
        "* **SGPT (Serum Glutamic Pyruvic Transaminase)**: An enzyme indicating liver health; elevated levels may suggest liver damage.\n",
        "* **SGOT (Serum Glutamic Oxaloacetic Transaminase)**: Another liver enzyme reflecting liver function; elevated levels may indicate liver problems.\n",
        "* **Alkphos (Alkaline Phosphatase)**: An enzyme associated with the biliary system; elevated levels may indicate liver or bone issues.\n",
        "*  **Selector**: Class labels for healthy (*1*) vs diagnosed with liver desease (*2*) patients."
      ]
    },
    {
      "cell_type": "markdown",
      "metadata": {
        "id": "8bc965af-e5e8-4ff7-aad3-9be160bb78a5"
      },
      "source": [
        "Please refer to [Chapter 11: Hypothesis testing](https://inferentialthinking.com/chapters/11/Testing_Hypotheses.html) and [Chapter 12.1: A/B Testing](https://inferentialthinking.com/chapters/12/1/AB_Testing.html) when completing this final project as many of the questions use concepts covered there!"
      ]
    },
    {
      "cell_type": "code",
      "execution_count": 2,
      "metadata": {
        "id": "fdeffad4-c7f0-4e73-b85d-3c7d52dba336",
        "colab": {
          "base_uri": "https://localhost:8080/",
          "height": 392
        },
        "outputId": "3464f31d-75d7-41e0-f8b6-26555cf0eb1c"
      },
      "outputs": [
        {
          "output_type": "display_data",
          "data": {
            "text/plain": [
              "<IPython.core.display.HTML object>"
            ],
            "text/html": [
              "<table border=\"1\" class=\"dataframe\">\n",
              "    <thead>\n",
              "        <tr>\n",
              "            <th>Age</th> <th>Gender</th> <th>TB</th> <th>DB</th> <th>Alkphos</th> <th>Sgpt</th> <th>Sgot</th> <th>TP</th> <th>ALB</th> <th>A/G Ratio</th> <th>Selector</th>\n",
              "        </tr>\n",
              "    </thead>\n",
              "    <tbody>\n",
              "        <tr>\n",
              "            <td>65  </td> <td>Female</td> <td>0.7 </td> <td>0.1 </td> <td>187    </td> <td>16  </td> <td>18  </td> <td>6.8 </td> <td>3.3 </td> <td>0.9      </td> <td>1       </td>\n",
              "        </tr>\n",
              "        <tr>\n",
              "            <td>62  </td> <td>Male  </td> <td>10.9</td> <td>5.5 </td> <td>699    </td> <td>64  </td> <td>100 </td> <td>7.5 </td> <td>3.2 </td> <td>0.74     </td> <td>1       </td>\n",
              "        </tr>\n",
              "        <tr>\n",
              "            <td>62  </td> <td>Male  </td> <td>7.3 </td> <td>4.1 </td> <td>490    </td> <td>60  </td> <td>68  </td> <td>7   </td> <td>3.3 </td> <td>0.89     </td> <td>1       </td>\n",
              "        </tr>\n",
              "        <tr>\n",
              "            <td>58  </td> <td>Male  </td> <td>1   </td> <td>0.4 </td> <td>182    </td> <td>14  </td> <td>20  </td> <td>6.8 </td> <td>3.4 </td> <td>1        </td> <td>1       </td>\n",
              "        </tr>\n",
              "        <tr>\n",
              "            <td>72  </td> <td>Male  </td> <td>3.9 </td> <td>2   </td> <td>195    </td> <td>27  </td> <td>59  </td> <td>7.3 </td> <td>2.4 </td> <td>0.4      </td> <td>1       </td>\n",
              "        </tr>\n",
              "        <tr>\n",
              "            <td>46  </td> <td>Male  </td> <td>1.8 </td> <td>0.7 </td> <td>208    </td> <td>19  </td> <td>14  </td> <td>7.6 </td> <td>4.4 </td> <td>1.3      </td> <td>1       </td>\n",
              "        </tr>\n",
              "        <tr>\n",
              "            <td>26  </td> <td>Female</td> <td>0.9 </td> <td>0.2 </td> <td>154    </td> <td>16  </td> <td>12  </td> <td>7   </td> <td>3.5 </td> <td>1        </td> <td>1       </td>\n",
              "        </tr>\n",
              "        <tr>\n",
              "            <td>29  </td> <td>Female</td> <td>0.9 </td> <td>0.3 </td> <td>202    </td> <td>14  </td> <td>11  </td> <td>6.7 </td> <td>3.6 </td> <td>1.1      </td> <td>1       </td>\n",
              "        </tr>\n",
              "        <tr>\n",
              "            <td>17  </td> <td>Male  </td> <td>0.9 </td> <td>0.3 </td> <td>202    </td> <td>22  </td> <td>19  </td> <td>7.4 </td> <td>4.1 </td> <td>1.2      </td> <td>2       </td>\n",
              "        </tr>\n",
              "        <tr>\n",
              "            <td>55  </td> <td>Male  </td> <td>0.7 </td> <td>0.2 </td> <td>290    </td> <td>53  </td> <td>58  </td> <td>6.8 </td> <td>3.4 </td> <td>1        </td> <td>1       </td>\n",
              "        </tr>\n",
              "    </tbody>\n",
              "</table>\n",
              "<p>... (573 rows omitted)</p>"
            ]
          },
          "metadata": {}
        }
      ],
      "source": [
        "# Read the dataset\n",
        "patients_uncleaned = Table.read_table(DATA_FILENAME)\n",
        "\n",
        "# Display the first few rows of the table\n",
        "patients_uncleaned.show(10)"
      ]
    },
    {
      "cell_type": "markdown",
      "metadata": {
        "id": "4edbe877-1e0e-4363-878f-cc04a488f270"
      },
      "source": [
        "**Question 1.** As you you've already learned while working on your midterm project, real-world datasets do not always have complete information! Missing values (`nan`) can be spotted in the dataset that was provided. Let's do some data cleaning first and then understand what each of the columns means.\n",
        "\n",
        "There are many ways to work with missing or skewed data. For now, we will just choose to delete any rows that have missing information. Name the final table something meaningful - like `patients`. This will be the table we use to answer all the other questions.\n",
        "\n",
        "Hint: One way you can do this is by writing a function and then using the `apply()` function."
      ]
    },
    {
      "cell_type": "code",
      "execution_count": null,
      "metadata": {
        "id": "2c304fcf-f911-41d2-af9c-ba10c11380be"
      },
      "outputs": [],
      "source": [
        "# SOLUTION"
      ]
    },
    {
      "cell_type": "markdown",
      "metadata": {
        "id": "14de6f19-3584-44ec-adce-35fd02e7722e"
      },
      "source": [
        "### Enter prompt below:\n"
      ]
    },
    {
      "cell_type": "code",
      "execution_count": null,
      "metadata": {
        "id": "62f3c267-df0f-44a0-95a4-d0d449cfc10a"
      },
      "outputs": [],
      "source": [
        "%%ai openai-chat:gpt-4"
      ]
    },
    {
      "cell_type": "markdown",
      "metadata": {
        "id": "0755b1ed-233a-4b06-b25f-1bf780239a87"
      },
      "source": [
        "### Explain your answer below:\n",
        "\n",
        "*type your answer here*\n",
        "\n"
      ]
    },
    {
      "cell_type": "markdown",
      "metadata": {
        "id": "adac24a5-0988-44b6-9f5b-d0cb9895adc9"
      },
      "source": [
        "**Question 2.** Explore the relationship between the *Total Proteins* and *Albumin*. Is there a correlation between the total amount of proteins in the blood and albumin? Think about what kind of plots you can make to show a correlation between two columns? What do you infer from this plot?"
      ]
    },
    {
      "cell_type": "code",
      "execution_count": null,
      "metadata": {
        "id": "89e614e4-2965-4fa5-91ab-94fa7524cca9"
      },
      "outputs": [],
      "source": [
        "# SOLUTION"
      ]
    },
    {
      "cell_type": "markdown",
      "metadata": {
        "id": "00e232e5-b5eb-40f3-89d4-4eeb5a2c9958"
      },
      "source": [
        "### Enter prompt below:\n"
      ]
    },
    {
      "cell_type": "code",
      "execution_count": null,
      "metadata": {
        "id": "05886ae5-3c16-43c6-8f3a-311b1b712d44"
      },
      "outputs": [],
      "source": [
        "%%ai openai-chat:gpt-4"
      ]
    },
    {
      "cell_type": "markdown",
      "metadata": {
        "id": "0b0d1681-1510-42a1-bc28-90dd570c9120"
      },
      "source": [
        "### Explain your answer below:\n",
        "\n",
        "*type your answer here*\n",
        "\n"
      ]
    },
    {
      "cell_type": "markdown",
      "metadata": {
        "id": "d8dc4ebb-c6ed-4e69-a168-167d21a56bad"
      },
      "source": [
        "**Question 3.** Analyze the distribution of the ages of subjects in the dataset. Are most of the subjects young, old, or is there a uniform distribution across different ages?"
      ]
    },
    {
      "cell_type": "code",
      "execution_count": null,
      "metadata": {
        "id": "7d41f314-9665-4588-9576-8108afaf5dbc"
      },
      "outputs": [],
      "source": [
        "# SOLUTION"
      ]
    },
    {
      "cell_type": "markdown",
      "metadata": {
        "id": "2d99e145-049e-43ea-a2ff-d10b0f4ba9c1"
      },
      "source": [
        "### Enter prompt below:\n"
      ]
    },
    {
      "cell_type": "code",
      "execution_count": null,
      "metadata": {
        "id": "c842a000-5a36-456b-aa2c-f55d39746087"
      },
      "outputs": [],
      "source": [
        "%%ai openai-chat:gpt-4"
      ]
    },
    {
      "cell_type": "markdown",
      "metadata": {
        "id": "22d03c8a-2c65-4f21-b766-68af6afc200b"
      },
      "source": [
        "### Explain your answer below:\n",
        "\n",
        "*type your answer here*\n",
        "\n"
      ]
    },
    {
      "cell_type": "markdown",
      "metadata": {
        "id": "fd50a651-faed-4db4-9ebf-2f064536ce18"
      },
      "source": [
        "**Question 4.** What is the probability of a man under the age of 60 being diagnosed with liver disease? What about a woman under the same age? Visualize the two probabilities.\n"
      ]
    },
    {
      "cell_type": "code",
      "execution_count": null,
      "metadata": {
        "id": "83f87e1d-62cb-4e36-b498-12f97e11f645"
      },
      "outputs": [],
      "source": [
        "# SOLUTION"
      ]
    },
    {
      "cell_type": "markdown",
      "metadata": {
        "id": "293b37ea-eea8-4839-a4b3-5408d71a8708"
      },
      "source": [
        "### Enter prompt below:\n"
      ]
    },
    {
      "cell_type": "code",
      "execution_count": null,
      "metadata": {
        "id": "b41ca234-83c6-4809-9289-af737ed84d37"
      },
      "outputs": [],
      "source": [
        "%%ai openai-chat:gpt-4"
      ]
    },
    {
      "cell_type": "markdown",
      "metadata": {
        "id": "b9024949-22b7-4b77-859e-672322ee1c6e"
      },
      "source": [
        "### Explain your answer below:\n",
        "\n",
        "*type your answer here*\n",
        "\n"
      ]
    },
    {
      "cell_type": "markdown",
      "metadata": {
        "id": "ee5de9b7-2bd7-4f69-9c92-b888decbfba8"
      },
      "source": [
        "**Question 5.** Plot a graph that shows how the total amount of bilirubin (TB) in the blood changes with respect to the direct fraction of bilirubin (DB) for female subjects who suffer from liver cirrhosis. Is a high concentration of bilirubin in the blood associated with an elevated direct fraction of bilirubin?"
      ]
    },
    {
      "cell_type": "code",
      "execution_count": null,
      "metadata": {
        "id": "803a5603-51a2-4d99-9203-e1e5364a4a0e"
      },
      "outputs": [],
      "source": [
        "# SOLUTION"
      ]
    },
    {
      "cell_type": "markdown",
      "metadata": {
        "id": "dd1b89a2-fc5c-4b51-81af-93597caaa6c6"
      },
      "source": [
        "### Enter prompt below:\n"
      ]
    },
    {
      "cell_type": "code",
      "execution_count": null,
      "metadata": {
        "id": "1c35be2a-402a-458a-9227-19dc8aa4af9f"
      },
      "outputs": [],
      "source": [
        "%%ai openai-chat:gpt-4"
      ]
    },
    {
      "cell_type": "markdown",
      "metadata": {
        "id": "e036e59e-393a-41c6-b2fb-658c605a567f"
      },
      "source": [
        "### Explain your answer below:\n",
        "\n",
        "*type your answer here*\n",
        "\n"
      ]
    },
    {
      "cell_type": "markdown",
      "metadata": {
        "id": "43086de2-9989-40c0-9dbd-301e692628ff"
      },
      "source": [
        "**Question 6.** We will now perform a hypothesis test. A new study has recently been published saying liver cirrhosis is way more likely for men than it is for women. Evaluate the validity of this model based on your dataset. What could the null and alternate hypotheses be? Create a visualization to display the distribution of test statistic.\n",
        "\n",
        "*Hint*: Assume the prevalence of liver cirrhosis is the same for both men and women in the dataset, meaning that individual probabilities will not depend on various factors and can be derived directly from the patients' gender ratio."
      ]
    },
    {
      "cell_type": "code",
      "execution_count": null,
      "metadata": {
        "id": "392f3823-35b2-4bb1-899a-7fdfc7065f23"
      },
      "outputs": [],
      "source": [
        "# SOLUTION"
      ]
    },
    {
      "cell_type": "markdown",
      "metadata": {
        "id": "4125aedf-f515-4da0-9687-c6eb68386a05"
      },
      "source": [
        "### Enter prompt below:\n"
      ]
    },
    {
      "cell_type": "code",
      "execution_count": null,
      "metadata": {
        "id": "039ec4f5-c520-42d0-a096-0cd3991180e7"
      },
      "outputs": [],
      "source": [
        "%%ai openai-chat:gpt-4"
      ]
    },
    {
      "cell_type": "markdown",
      "metadata": {
        "id": "19c1388e-f065-45a6-a44b-095f4d1e9a59"
      },
      "source": [
        "### Explain your answer below:\n",
        "\n",
        "*type your answer here*\n",
        "\n"
      ]
    },
    {
      "cell_type": "markdown",
      "metadata": {
        "id": "2c0dcd8f-fc69-4b4d-90e3-ea3a8ae6c4a9"
      },
      "source": [
        "**Question 7.** Now use the information you have to conduct an A/B Test. Run simulations and use a p-value cutoff of 5% to determine if your observation is statistically significant"
      ]
    },
    {
      "cell_type": "code",
      "execution_count": null,
      "metadata": {
        "id": "cd7c746f-11d5-4512-966e-475538c28718"
      },
      "outputs": [],
      "source": [
        "# SOLUTION"
      ]
    },
    {
      "cell_type": "markdown",
      "metadata": {
        "id": "3735b64a-8bd6-4231-8981-e8c75ff1d1f7"
      },
      "source": [
        "### Enter prompt below:\n"
      ]
    },
    {
      "cell_type": "code",
      "execution_count": null,
      "metadata": {
        "id": "9e6940fe-3445-4a15-9cbc-7227bcd571da"
      },
      "outputs": [],
      "source": [
        "%%ai openai-chat:gpt-4"
      ]
    },
    {
      "cell_type": "markdown",
      "metadata": {
        "id": "38b36490-6af3-4dc6-9925-f1b4e75973d2"
      },
      "source": [
        "### Explain your answer below:\n",
        "\n",
        "*type your answer here*\n",
        "\n"
      ]
    },
    {
      "cell_type": "markdown",
      "metadata": {
        "id": "0e5986c6-380a-4458-98c5-b6f6c2e70561"
      },
      "source": [
        "**Question 8.** Now we aim to conduct a study to see whether the concentration of albumin is associated with liver cirrhosis in female subjects. You should evaluate your results by demonstrating a complete A/B testing analysis. State a conclusion from this test using a p-value cutoff of 5%."
      ]
    },
    {
      "cell_type": "code",
      "execution_count": null,
      "metadata": {
        "id": "ff970b08-dc54-4c1e-ae96-2cdc7b8befb6"
      },
      "outputs": [],
      "source": [
        "# SOLUTION"
      ]
    },
    {
      "cell_type": "markdown",
      "metadata": {
        "id": "60e68690-fad4-4d72-8df4-793231ef9bfb"
      },
      "source": [
        "### Enter prompt below:\n"
      ]
    },
    {
      "cell_type": "code",
      "execution_count": null,
      "metadata": {
        "id": "37605db3-d765-490a-804f-1a4273dac2b7"
      },
      "outputs": [],
      "source": [
        "%%ai openai-chat:gpt-4"
      ]
    },
    {
      "cell_type": "markdown",
      "metadata": {
        "id": "1f96c320-b02c-4a88-948c-39d23e05f025"
      },
      "source": [
        "### Explain your answer below:\n",
        "\n",
        "*type your answer here*\n",
        "\n"
      ]
    },
    {
      "cell_type": "markdown",
      "metadata": {
        "id": "5faa31ce-fd2e-4397-88d6-023fc6f53157"
      },
      "source": [
        "### Question 9 (Novel Analysis Part 1):"
      ]
    },
    {
      "cell_type": "markdown",
      "metadata": {
        "id": "ccc494d2-3063-48f1-9073-0b46c42343a7"
      },
      "source": [
        "**Question 9 (Novel Analysis Part 1):**\n",
        "\n",
        "Design your own A/B test! Choose one variable whose trends you would like to investigate, and create a new table with that variable's data for the years and states you would like to analyze. Remember to divide the overall table into two groups that you want to compare for the test, and conduct an A/B test investigating the differences between the two groups.\n",
        "\n",
        "Let's begin the process.\n",
        "\n",
        "a) Define null and alternate hypotheses.\n",
        "\n",
        "b) Plot the observed distribution of the variable you will be observing\n",
        "\n",
        "c) State your test statistic value and what it means in the context of the problem."
      ]
    },
    {
      "cell_type": "code",
      "execution_count": null,
      "metadata": {
        "id": "93c48488-5aff-45b8-b9b4-6db70895ade9"
      },
      "outputs": [],
      "source": [
        "# SOLUTION"
      ]
    },
    {
      "cell_type": "markdown",
      "metadata": {
        "id": "f70b1434-c9ac-42ab-8d41-3bede8b0d652"
      },
      "source": [
        "### Enter prompt below:\n"
      ]
    },
    {
      "cell_type": "code",
      "execution_count": null,
      "metadata": {
        "id": "1fe27a37-fae3-4cf7-9557-48eba90ae3bf"
      },
      "outputs": [],
      "source": [
        "%%ai openai-chat:gpt-4"
      ]
    },
    {
      "cell_type": "markdown",
      "metadata": {
        "id": "29c8e959-b883-491f-bfb9-9666100398cb"
      },
      "source": [
        "### Explain your answer below:\n",
        "\n",
        "*type your answer here*\n",
        "\n"
      ]
    },
    {
      "cell_type": "markdown",
      "metadata": {
        "id": "3156ddcf-d17c-40a0-a17d-368c5d366a3a"
      },
      "source": [
        "### Question 10 (Novel Analysis Part 2):"
      ]
    },
    {
      "cell_type": "markdown",
      "metadata": {
        "id": "4ece1388-3f63-4400-8823-29598a7c6d0d"
      },
      "source": [
        "Continue the A/B Test from Question 9!\n",
        "\n",
        "\n",
        "a) Simulate the test statistic under the null hypothesis and visualize the results.\n",
        "\n",
        "b) Select a significance level for your test and state the conclusion of the hypothesis test."
      ]
    },
    {
      "cell_type": "code",
      "execution_count": null,
      "metadata": {
        "id": "3bf0b7c4-bd07-431c-8fd9-c7da631b7962"
      },
      "outputs": [],
      "source": [
        "# SOLUTION"
      ]
    },
    {
      "cell_type": "markdown",
      "metadata": {
        "id": "0ca24526-8ac5-49a1-b0df-3c3cbad99d9c"
      },
      "source": [
        "### Enter prompt below:\n"
      ]
    },
    {
      "cell_type": "code",
      "execution_count": null,
      "metadata": {
        "id": "2702c96c-aa75-4a10-9ef8-b756701a5a64"
      },
      "outputs": [],
      "source": [
        "%%ai openai-chat:gpt-4"
      ]
    },
    {
      "cell_type": "markdown",
      "metadata": {
        "id": "142fecb4-11b2-403a-b170-323a40b624a6"
      },
      "source": [
        "### Explain your answer below:\n",
        "\n",
        "*type your answer here*\n",
        "\n"
      ]
    }
  ]
}