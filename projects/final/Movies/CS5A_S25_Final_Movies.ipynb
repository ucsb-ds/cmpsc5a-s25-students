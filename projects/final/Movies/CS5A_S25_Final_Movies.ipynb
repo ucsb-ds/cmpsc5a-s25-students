{
  "nbformat": 4,
  "nbformat_minor": 0,
  "metadata": {
    "colab": {
      "provenance": []
    },
    "kernelspec": {
      "name": "python3",
      "display_name": "Python 3"
    },
    "language_info": {
      "name": "python"
    }
  },
  "cells": [
    {
      "cell_type": "code",
      "source": [
        "# Run this cell once when starting on notebook.\n",
        "# On Google Colab, wait for the Google Drive permission prompts before proceeding\n",
        "import matplotlib.pyplot as plt\n",
        "%matplotlib inline\n",
        "import os\n",
        "import sys\n",
        "try:\n",
        "    %load_ext jupyter_ai_magics\n",
        "except:\n",
        "    print(\"%%ai cells will not work in this notebook\")\n",
        "    print(\"Please use Gemini for AI queries instead\")\n",
        "from datascience import *\n",
        "import numpy as np\n",
        "import math\n",
        "\n",
        "DATA_FOLDER=\"data/\"\n",
        "try:\n",
        "  from google.colab import drive\n",
        "  drive.mount('/content/drive', force_remount=True)\n",
        "  !mkdir -p /content/data\n",
        "  !gdown --folder https://drive.google.com/drive/folders/1i8dRvMYzQv2HOBTfTUzjg3vQ42UZzwa3?usp=drive_link -O /content/data\n",
        "  DATA_FOLDER = DATA_FOLDER.replace(\"data/\", \"/content/data/\")\n",
        "  !ls -l /content/data\n",
        "except:\n",
        "  print(\"Google Drive not mounted; this is normal on Jupyter Hub\")\n",
        "\n",
        "import ast\n",
        "from collections import Counter"
      ],
      "metadata": {
        "id": "iNtXqjFfN82R",
        "colab": {
          "base_uri": "https://localhost:8080/"
        },
        "outputId": "32db8267-e215-4f79-f7c9-8c6382652c29"
      },
      "execution_count": 4,
      "outputs": [
        {
          "output_type": "stream",
          "name": "stdout",
          "text": [
            "%%ai cells will not work in this notebook\n",
            "Please use Gemini for AI queries instead\n",
            "Mounted at /content/drive\n",
            "Retrieving folder contents\n",
            "Processing file 1V5UMLFvQ2P_6tZw3-5EPVjamB3eLEHaP cir_info.csv\n",
            "Processing file 1RiOeeIxTq_OrRKeBN5JM42WRkifcQ4AA credits.csv\n",
            "Processing file 1yuyo7TcrtiLQnpa7YtPp2SMikO3TPlbm movies.csv\n",
            "Retrieving folder contents completed\n",
            "Building directory structure\n",
            "Building directory structure completed\n",
            "Downloading...\n",
            "From: https://drive.google.com/uc?id=1V5UMLFvQ2P_6tZw3-5EPVjamB3eLEHaP\n",
            "To: /content/data/cir_info.csv\n",
            "100% 589/589 [00:00<00:00, 2.09MB/s]\n",
            "Downloading...\n",
            "From: https://drive.google.com/uc?id=1RiOeeIxTq_OrRKeBN5JM42WRkifcQ4AA\n",
            "To: /content/data/credits.csv\n",
            "100% 174k/174k [00:00<00:00, 26.0MB/s]\n",
            "Downloading...\n",
            "From: https://drive.google.com/uc?id=1yuyo7TcrtiLQnpa7YtPp2SMikO3TPlbm\n",
            "To: /content/data/movies.csv\n",
            "100% 525k/525k [00:00<00:00, 65.0MB/s]\n",
            "Download completed\n",
            "total 1904\n",
            "-rw-r--r-- 1 root root     589 May 20 19:32 cir_info.csv\n",
            "-rw-r--r-- 1 root root  173910 May 20 19:32 credits.csv\n",
            "-rw-r--r-- 1 root root 1238008 May 28 18:39 data93t4e4aj.part\n",
            "-rw-r--r-- 1 root root  525168 May 20 19:32 movies.csv\n"
          ]
        }
      ]
    },
    {
      "cell_type": "markdown",
      "source": [
        "# CS5A S25 Final Project: Movies\n",
        "\n",
        "* Please refer to the general instructions in [this document](https://docs.google.com/document/d/1qgS-GPKsbcbqNq8bbDk8kiB0bH-HRZcfN4La75bOtWU/edit?usp=sharing) before starting.\n",
        "* You may work on either JupyterHub or Google Colab\n",
        "\n",
        "\n",
        "If working on Colab:\n",
        "\n",
        "* The Google Colab version is [this folder](https://drive.google.com/drive/folders/1wsVszAufxxmSR7_uoOoR6QBQmjlurPNx?usp=drive_link)\n",
        "* Make a copy of the notebook in your group folder for the final team project before starting to make edits.\n",
        "* If/when working in the same file, be sure to coordinate with your group so that only one member of the group is editing at a time; Colab doesn't handle simulataneous editing very well.\n",
        "\n",
        "\n",
        "\n"
      ],
      "metadata": {
        "id": "bUr3oeqXbQta"
      }
    },
    {
      "cell_type": "markdown",
      "metadata": {
        "id": "fb628b80-9a09-4416-aa52-8091e651e658"
      },
      "source": [
        "## Names\n",
        "\n",
        "Please list all students that were a member of this team\n",
        "\n",
        "1. Student Name 1\n",
        "2. Student Name 2\n",
        "3. Student Name 3\n",
        "4. Student Name 4"
      ]
    },
    {
      "cell_type": "markdown",
      "source": [],
      "metadata": {
        "id": "8w9XkJutPZCK"
      }
    },
    {
      "cell_type": "markdown",
      "metadata": {
        "id": "b16c7130"
      },
      "source": [
        "## Member Responsibilities\n"
      ]
    },
    {
      "cell_type": "markdown",
      "metadata": {
        "id": "f2ca30bb"
      },
      "source": [
        "*Write your team member responsibility distribution here* (See [instructions](https://docs.google.com/document/d/1qgS-GPKsbcbqNq8bbDk8kiB0bH-HRZcfN4La75bOtWU/edit?tab=t.0#bookmark=id.igbdergm85kj))"
      ]
    },
    {
      "cell_type": "markdown",
      "source": [],
      "metadata": {
        "id": "tHamSujCJJD5"
      }
    },
    {
      "cell_type": "markdown",
      "metadata": {
        "id": "f6a7a349-80e7-49cf-a51b-2519ce76a0d8"
      },
      "source": [
        "## The IMDB Movies Dataset"
      ]
    },
    {
      "cell_type": "markdown",
      "metadata": {
        "id": "f082848f-77d7-4379-bf1c-1a8e430f13d2"
      },
      "source": [
        "What can we say about the success of a movie before it is released? Are there certain companies (Pixar?) that have found a consistent formula? Given that major films costing over $100 million to produce can still flop, this question is more important than ever to the industry. Film aficionados might have different interests. Can we predict which films will be highly rated, whether or not they are a commercial success?\n",
        "\n",
        "This is a great place to start digging in to those questions, with data on the director, budget, rating, genres and revenues of thousands of films.\n",
        "\n",
        "You will be working with three seperate datasets throughout this final project. You might be required to even join these datasets at some point. Lets go through what each dataset contains:\n",
        "\n",
        "1. *movies.csv*\n",
        "- `id`: The iMDB movie ID\n",
        "- `budget`: The budget in dollars for that film\n",
        "- `original_language`: The original language the movie was released in\n",
        "- `original_title`: The original title of the movie\n",
        "- `popularity`: A custom iMDB score that tracks how popular the movie is amongst its users\n",
        "- `release_date`: The release date of the movie\n",
        "- `revenue`: The revenue earned in dollars at the time of release in theatres\n",
        "- `runtime`: The runtime of the movie in minutes\n",
        "- `title`: The title of the movie\n",
        "- `vote_average`: The average vote score given by iMDB users\n",
        "- `vote_count`: The number of votes a movie has.\n",
        "- `genres`: An underscore seperated string of genres that the movie comes under.\n",
        "\n",
        "\n",
        "2. *credits.csv*\n",
        "- `id`: The iMDB movie ID\n",
        "- `title`: The movie title\n",
        "- `Director`: The director of the movie\n",
        "\n",
        "3. *cir_info.csv*\n",
        "- `year`: The year\n",
        "- `CIR`: The Cumulative Inflation Rate from that year to 2023\n",
        "\n",
        "Please refer to [Chapter 11: Hypothesis testing](https://inferentialthinking.com/chapters/11/Testing_Hypotheses.html) and [Chapter 12.1: A/B Testing](https://inferentialthinking.com/chapters/12/1/AB_Testing.html) when completing this final project as many of the questions use concepts covered there!"
      ]
    },
    {
      "cell_type": "markdown",
      "metadata": {
        "id": "2f060471-3153-454b-9b8f-af6a359bd807"
      },
      "source": [
        "**Q1**. The first step to working with data is cleaning and organizing your data. Go through your datasets and make sure you understand all the columns and their data types. Combine the __movie__ and __credits__ tables so that you have one table with all the information you need. Additionally, make sure to perform the following data cleaning steps:\n",
        "1. Remove any rows with a nan value in it\n",
        "2. Remove any rows with a revenue AND budget of 0"
      ]
    },
    {
      "cell_type": "code",
      "execution_count": 7,
      "metadata": {
        "id": "b033cbd0",
        "colab": {
          "base_uri": "https://localhost:8080/",
          "height": 435
        },
        "outputId": "95802e49-18bc-4053-8824-15d1735f6858"
      },
      "outputs": [
        {
          "output_type": "display_data",
          "data": {
            "text/plain": [
              "<IPython.core.display.HTML object>"
            ],
            "text/html": [
              "<table border=\"1\" class=\"dataframe\">\n",
              "    <thead>\n",
              "        <tr>\n",
              "            <th>budget</th> <th>id</th> <th>original_language</th> <th>original_title</th> <th>popularity</th> <th>release_date</th> <th>revenue</th> <th>runtime</th> <th>title</th> <th>vote_average</th> <th>vote_count</th> <th>genres</th>\n",
              "        </tr>\n",
              "    </thead>\n",
              "    <tbody>\n",
              "        <tr>\n",
              "            <td>237000000</td> <td>19995 </td> <td>en               </td> <td>Avatar                                  </td> <td>150.438   </td> <td>2009-12-10  </td> <td>2787965087</td> <td>162    </td> <td>Avatar                                  </td> <td>7.2         </td> <td>11800     </td> <td>Action_Adventure_Fantasy_Science Fiction</td>\n",
              "        </tr>\n",
              "        <tr>\n",
              "            <td>300000000</td> <td>285   </td> <td>en               </td> <td>Pirates of the Caribbean: At World's End</td> <td>139.083   </td> <td>2007-05-19  </td> <td>961000000 </td> <td>169    </td> <td>Pirates of the Caribbean: At World's End</td> <td>6.9         </td> <td>4500      </td> <td>Adventure_Fantasy_Action                </td>\n",
              "        </tr>\n",
              "        <tr>\n",
              "            <td>245000000</td> <td>206647</td> <td>en               </td> <td>Spectre                                 </td> <td>107.377   </td> <td>2015-10-26  </td> <td>880674609 </td> <td>148    </td> <td>Spectre                                 </td> <td>6.3         </td> <td>4466      </td> <td>Action_Adventure_Crime                  </td>\n",
              "        </tr>\n",
              "    </tbody>\n",
              "</table>\n",
              "<p>... (4800 rows omitted)</p>"
            ]
          },
          "metadata": {}
        },
        {
          "output_type": "display_data",
          "data": {
            "text/plain": [
              "<IPython.core.display.HTML object>"
            ],
            "text/html": [
              "<table border=\"1\" class=\"dataframe\">\n",
              "    <thead>\n",
              "        <tr>\n",
              "            <th>id</th> <th>title</th> <th>Director</th>\n",
              "        </tr>\n",
              "    </thead>\n",
              "    <tbody>\n",
              "        <tr>\n",
              "            <td>19995 </td> <td>Avatar                                  </td> <td>James Cameron </td>\n",
              "        </tr>\n",
              "        <tr>\n",
              "            <td>285   </td> <td>Pirates of the Caribbean: At World's End</td> <td>Gore Verbinski</td>\n",
              "        </tr>\n",
              "        <tr>\n",
              "            <td>206647</td> <td>Spectre                                 </td> <td>Sam Mendes    </td>\n",
              "        </tr>\n",
              "    </tbody>\n",
              "</table>\n",
              "<p>... (4800 rows omitted)</p>"
            ]
          },
          "metadata": {}
        }
      ],
      "source": [
        "movies = Table().read_table(DATA_FOLDER + 'movies.csv')\n",
        "credits = Table().read_table(DATA_FOLDER + 'credits.csv')\n",
        "movies.show(3)\n",
        "credits.show(3)"
      ]
    },
    {
      "cell_type": "code",
      "execution_count": null,
      "metadata": {
        "id": "68e63c13-df39-4fd5-9b70-bb1a800cc173"
      },
      "outputs": [],
      "source": [
        "#SOLUTION"
      ]
    },
    {
      "cell_type": "markdown",
      "metadata": {
        "id": "47fd3da7-72bb-4621-8520-9d8bde3693ce"
      },
      "source": [
        "#### Enter prompt below:"
      ]
    },
    {
      "cell_type": "code",
      "execution_count": null,
      "metadata": {
        "id": "b2175cf8-eb83-45ba-85a1-30793f207c70"
      },
      "outputs": [],
      "source": [
        "%%ai openai-chat:gpt-4"
      ]
    },
    {
      "cell_type": "markdown",
      "metadata": {
        "id": "75530341-4892-4694-ad7a-48f0e8baee37"
      },
      "source": [
        "#### Explain your answer below:"
      ]
    },
    {
      "cell_type": "markdown",
      "metadata": {
        "id": "977599f2-c0ac-4901-a2b7-ff4525c8f313"
      },
      "source": [
        "_type your answer here_"
      ]
    },
    {
      "cell_type": "markdown",
      "metadata": {
        "id": "a3c5403b-24f8-4ac2-a963-82720ac4ca54"
      },
      "source": [
        "**Q2.** Before we get started, we need a score for every movie. We could use the `vote_average` of the movie as the score but using this won't be fair enough since a movie with a 8.9 average and only 3 votes cannot be considered better than the movie with 7.8 as the average but with 40 votes.\n",
        "\n",
        "So we'll be using IMDB's weighted rating (wr) which is given as:\n",
        "\n",
        "$$ \\text{Weighted Rating (WR)} = (\\frac{v}{v+m} \\times R) + (\\frac{m}{v+m} \\times C)$$\n",
        "\n",
        "where,\n",
        "\n",
        "* *v* is the number of votes for the movie;\n",
        "* *m* is the minimum votes required to be listed in the chart;\n",
        "* *R* is the average rating of the movie; And\n",
        "* *C* is the mean vote across the filtered dataset\n",
        "\n",
        "We already have *v (vote_count)* and *R (vote_average)*. The next step is to determine an appropriate value for *m*, the minimum votes required to be listed in the chart. We will use 90th percentile as our cutoff. In other words, for a movie to feature in the charts, it must have more votes than at least 90% of the movies in the list. Add a new column called `custom_score` which calculates this rating for each movie."
      ]
    },
    {
      "cell_type": "code",
      "execution_count": null,
      "metadata": {
        "id": "193e73cd-e446-4cea-b82f-43f06135d589"
      },
      "outputs": [],
      "source": [
        "#SOLUTION"
      ]
    },
    {
      "cell_type": "markdown",
      "metadata": {
        "id": "33c3ac11-dd73-4e0d-87a8-f8e27908fc45"
      },
      "source": [
        "#### Enter prompt below:"
      ]
    },
    {
      "cell_type": "code",
      "execution_count": null,
      "metadata": {
        "id": "983a6161-4981-4afb-a110-fbf217eea879"
      },
      "outputs": [],
      "source": [
        "%%ai openai-chat:gpt-4"
      ]
    },
    {
      "cell_type": "markdown",
      "metadata": {
        "id": "3575f2c0-4472-47d2-a541-c1c578cf10d5"
      },
      "source": [
        "#### Explain your answer below:"
      ]
    },
    {
      "cell_type": "markdown",
      "metadata": {
        "id": "e94121d3-5a73-4546-840d-eb86dbc14838"
      },
      "source": [
        "_type your answer here_"
      ]
    },
    {
      "cell_type": "markdown",
      "metadata": {
        "id": "aa7df9bf-c6e0-4771-9c5d-94cea3267eca"
      },
      "source": [
        "**Q3.** Now lets get into some data analysis! We'll look at Genres first. Maybe directors like to make a particular kind of movie. Plot the top 10 genres with the highest movie count.\n",
        "\n",
        "**HINT:** You'll have noticed that the genres for each movie are seperated by underscores. A movie can have multiple genres, make sure you consider each one individually by splitting these strings"
      ]
    },
    {
      "cell_type": "code",
      "execution_count": null,
      "metadata": {
        "id": "27ff4d9a-323a-4cbf-b629-27c2189a03ce"
      },
      "outputs": [],
      "source": [
        "#SOLUTION"
      ]
    },
    {
      "cell_type": "markdown",
      "metadata": {
        "id": "5e869a2c-0767-4031-a516-629d21f78b89"
      },
      "source": [
        "#### Enter prompt below:"
      ]
    },
    {
      "cell_type": "code",
      "execution_count": null,
      "metadata": {
        "id": "e1319614-97f0-4908-9bb6-69d147fbc7c1"
      },
      "outputs": [],
      "source": [
        "%%ai openai-chat:gpt-4"
      ]
    },
    {
      "cell_type": "markdown",
      "metadata": {
        "id": "47f849e5-28fa-4f2f-b038-d4c24ec9a97f"
      },
      "source": [
        "#### Explain your answer below:"
      ]
    },
    {
      "cell_type": "markdown",
      "metadata": {
        "id": "2089a550-c9a8-4bb7-9928-6165dcc64307"
      },
      "source": [
        "_type your answer here_"
      ]
    },
    {
      "cell_type": "markdown",
      "metadata": {
        "id": "dec186db-8407-411c-9b59-cef3b3f007e9"
      },
      "source": [
        "A major indicator of a movie's success is the profit it makes. The profit is dependent on two components, the budget for the film and its revenue in the box office. The next few questions will be looking into these variables and how they affect the data we have.\n",
        "\n",
        "**Q4.1** First, let's create a new column that calculates the profit for each movie called `profit`, and then also visualize the correlation between the two variables `revenue` and `budget`. Is there a correlation?\n",
        "\n",
        "**Hint:** $ \\text{Profit} = \\text{Revenue} - \\text{Budget} $"
      ]
    },
    {
      "cell_type": "code",
      "execution_count": null,
      "metadata": {
        "id": "aeb6cf7a-a130-4b27-88de-0a1b4a874dad"
      },
      "outputs": [],
      "source": [
        "#SOLUTION"
      ]
    },
    {
      "cell_type": "markdown",
      "metadata": {
        "id": "0072728b-4741-4065-b68b-50eadc2a47ef"
      },
      "source": [
        "#### Enter prompt below:"
      ]
    },
    {
      "cell_type": "code",
      "execution_count": null,
      "metadata": {
        "id": "ed37a6c2-d68f-442f-9c50-2e5fc6511700"
      },
      "outputs": [],
      "source": [
        "%%ai openai-chat:gpt-4"
      ]
    },
    {
      "cell_type": "markdown",
      "metadata": {
        "id": "08006e02-14ed-4307-bb8c-efaaebab2b89"
      },
      "source": [
        "#### Explain your answer below:"
      ]
    },
    {
      "cell_type": "markdown",
      "metadata": {
        "id": "3d8fda7e-1495-454a-a1aa-924fbde7ec20"
      },
      "source": [
        "_type your answer here_"
      ]
    },
    {
      "cell_type": "markdown",
      "metadata": {
        "id": "01d83dee-dd32-4368-98e4-23bcdae3f324"
      },
      "source": [
        "\n",
        "\n",
        "**Q4.2** Lets see how much a movie would make if it was released in 2023 instead of the year it was originally released in. Load *cir_info.csv* from the data folder and **join** it with your dataset.\n",
        "The CIR is the cumulative inflation rate from that year to 2023. Generate three new columns called `adjusted_budget`, `adjusted_revenue`, and `adjusted_profit` that account for inflation of the US Dollar. Then plot your revenue and budget correlation visualization again.\n",
        "\n",
        "**Hint:** It is vital to note that the CIR times any value gives you the inflation adjustment and NOT the inflated value itself. So for example, the adjusted budget calculation should be $$ \\text{budget} + \\text{budget}*\\text{CIR}/100 $$"
      ]
    },
    {
      "cell_type": "code",
      "execution_count": null,
      "metadata": {
        "id": "40b976e3-724a-4099-94bf-b00f05de7263"
      },
      "outputs": [],
      "source": [
        "#SOLUTION"
      ]
    },
    {
      "cell_type": "markdown",
      "metadata": {
        "id": "1efcf9aa-9413-4843-88a1-acdaa187a529"
      },
      "source": [
        "#### Enter prompt below:"
      ]
    },
    {
      "cell_type": "code",
      "execution_count": null,
      "metadata": {
        "id": "bf956da7-ec91-4401-9b2e-e41d39445952"
      },
      "outputs": [],
      "source": [
        "%%ai openai-chat:gpt-4"
      ]
    },
    {
      "cell_type": "markdown",
      "metadata": {
        "id": "1c12cee6-81f3-4cf6-b9b7-35748a269473"
      },
      "source": [
        "#### Explain your answer below:"
      ]
    },
    {
      "cell_type": "markdown",
      "metadata": {
        "id": "d4b942bd-c63f-463e-a622-afabb163969f"
      },
      "source": [
        "_type your answer here_"
      ]
    },
    {
      "cell_type": "markdown",
      "metadata": {
        "id": "b1e9ebcb-c874-4e8a-bbf4-755d555e634a"
      },
      "source": [
        "**Q5.1** Sometimes movies with small budgets make big waves in the box office. Lets look at Indie hits! Show the top 10 movies that had their budgets in the bottom 20 percentile but made the biggest profit. (Use adjusted profit and adjusted revenue)."
      ]
    },
    {
      "cell_type": "code",
      "execution_count": null,
      "metadata": {
        "id": "556a3dd0-93be-41a4-9af1-5fd2c5cc8135"
      },
      "outputs": [],
      "source": [
        "#SOLUTION"
      ]
    },
    {
      "cell_type": "markdown",
      "metadata": {
        "id": "1d67cff0-219c-4fda-87f8-e90aaf910389"
      },
      "source": [
        "#### Enter prompt below:"
      ]
    },
    {
      "cell_type": "code",
      "execution_count": null,
      "metadata": {
        "id": "ec70581a-4a8a-477a-a8e3-e98f6a3fd7b5"
      },
      "outputs": [],
      "source": [
        "%%ai openai-chat:gpt-4"
      ]
    },
    {
      "cell_type": "markdown",
      "metadata": {
        "id": "d971b0ef-de85-4801-9121-211282dde818"
      },
      "source": [
        "#### Explain your answer below:"
      ]
    },
    {
      "cell_type": "markdown",
      "metadata": {
        "id": "fa8ad491-a964-4b74-ae8d-b580cebaca28"
      },
      "source": [
        "_type your answer here_"
      ]
    },
    {
      "cell_type": "markdown",
      "metadata": {
        "id": "e26d10ad-6c00-4c02-ac04-e8bbf5bb587e"
      },
      "source": [
        "**Q5.2**  Next, let's look at which directors are good at making blockbusters. Identify the 5 most profitable directors and their favorite genres. (Use adjusted profit)\n",
        "\n",
        "**Hint:** `Counter()` might help you out. Look it up!"
      ]
    },
    {
      "cell_type": "code",
      "execution_count": null,
      "metadata": {
        "id": "4c8061ba-2426-487b-aafa-a27140083fad"
      },
      "outputs": [],
      "source": [
        "#SOLUTION"
      ]
    },
    {
      "cell_type": "markdown",
      "metadata": {
        "id": "3adec81d-56f0-4d38-8eb4-4878e17dde1a"
      },
      "source": [
        "#### Enter prompt below:"
      ]
    },
    {
      "cell_type": "code",
      "execution_count": null,
      "metadata": {
        "id": "db5017af-7d2b-47cd-a284-a114456637f9"
      },
      "outputs": [],
      "source": [
        "%%ai openai-chat:gpt-4"
      ]
    },
    {
      "cell_type": "markdown",
      "metadata": {
        "id": "28f6091f-d4d1-4956-bdc9-26a2ac1e0d1f"
      },
      "source": [
        "#### Explain your answer below:"
      ]
    },
    {
      "cell_type": "markdown",
      "metadata": {
        "id": "eedd50a8-a9a5-4398-8159-4b70b172db36"
      },
      "source": [
        "_type your answer here_"
      ]
    },
    {
      "cell_type": "markdown",
      "metadata": {
        "id": "d336de5a-f184-43b3-bf4f-bd9c4c021e3f"
      },
      "source": [
        "**Q6** Looks like our table came with 2 columns, one called `original_title` and another called `title`. It seems weird that we would have two columns like this. As a data scientist, you now have to investigate! What seems to be the main reason for having two seperate columns? You will need to show both code and an analysis."
      ]
    },
    {
      "cell_type": "code",
      "execution_count": null,
      "metadata": {
        "id": "c6e627a1-e3cd-49b6-bcfa-3b1914df1e9e"
      },
      "outputs": [],
      "source": [
        "#SOLUTION"
      ]
    },
    {
      "cell_type": "markdown",
      "metadata": {
        "id": "93749cf3-842a-4c39-8973-6d9e3712b1cc"
      },
      "source": [
        "#### Enter prompt below:"
      ]
    },
    {
      "cell_type": "code",
      "execution_count": null,
      "metadata": {
        "id": "80e4c6d5-fb08-48ca-bb27-8142a934a59d"
      },
      "outputs": [],
      "source": [
        "%%ai openai-chat:gpt-4"
      ]
    },
    {
      "cell_type": "markdown",
      "metadata": {
        "id": "6b407c2c-7de6-4fa2-8f42-75119b9e4123"
      },
      "source": [
        "#### Explain your answer below:"
      ]
    },
    {
      "cell_type": "markdown",
      "metadata": {
        "id": "a0bb19c5-34a5-47bc-84aa-86212c021fbe"
      },
      "source": [
        "_type your answer here_"
      ]
    },
    {
      "cell_type": "markdown",
      "metadata": {
        "id": "2a2db262-7ada-4e2a-bc58-aeb04e81592e"
      },
      "source": [
        "**Q7.** Nobody likes sitting through long, boring movies. Maybe nobody likes sitting through long movies in general. In this question you will be testing the hypothesis that excessively long movies do not have a good weighted rating due to audience attention spans.\n",
        "\n",
        "We'll go with a bold claim. Any movie **over 90 minutes** is considered a long movie.\n",
        "\n",
        "You need to perform at least 4 major steps. You will receive a full grade for this question ONLY if all 4 steps are present.\n",
        "\n",
        "1. Formally state your null and alternate hypothesis and state the test statistic that you will be using.\n",
        "2. Calculate the observed value of your statistic and develop a simulation scheme to simulate your test statistic\n",
        "3. Visualize the distribution of your test statistic and identify where your observed statistic lies.\n",
        "4. Use a significance level of 5% and 10% and come to a conclusion for both these significance levels."
      ]
    },
    {
      "cell_type": "code",
      "execution_count": null,
      "metadata": {
        "id": "3d14db36-90b4-45d7-a784-92431234c397"
      },
      "outputs": [],
      "source": [
        "#SOLUTION"
      ]
    },
    {
      "cell_type": "markdown",
      "metadata": {
        "id": "d3258c26-b103-4c8a-9c2c-4768f5d6a4b2"
      },
      "source": [
        "#### Enter prompt below:"
      ]
    },
    {
      "cell_type": "code",
      "execution_count": null,
      "metadata": {
        "id": "2ce6f821-7b16-4a53-9d6c-eedd89608357"
      },
      "outputs": [],
      "source": [
        "%%ai openai-chat:gpt-4"
      ]
    },
    {
      "cell_type": "markdown",
      "metadata": {
        "id": "c3b318c1-0006-4993-814b-4b9fc7a80960"
      },
      "source": [
        "#### Explain your answer below:"
      ]
    },
    {
      "cell_type": "markdown",
      "metadata": {
        "id": "29086487-d6ab-46ee-8e0f-3b634e3c4154"
      },
      "source": [
        "_type your answer here_"
      ]
    },
    {
      "cell_type": "markdown",
      "metadata": {
        "id": "92b2e3ae-9bfc-45e1-97a1-ca5b3f2d0cef"
      },
      "source": [
        "**Q8.** Now run the same hypothesis test but this time. Use the adjusted revenue as your variable of observation instead of the custom rating. Run all 4 steps again. Does your conclusion change? What do you think is happening? Why is there a difference in your conclusion as you change the variable you're observing?"
      ]
    },
    {
      "cell_type": "code",
      "execution_count": null,
      "metadata": {
        "id": "6d3fb7be-2f13-4160-a23b-6fc3dcdc1b5e"
      },
      "outputs": [],
      "source": [
        "#SOLUTION"
      ]
    },
    {
      "cell_type": "markdown",
      "metadata": {
        "id": "2637a3b5-af38-4189-9251-df7054646af7"
      },
      "source": [
        "#### Enter prompt below:"
      ]
    },
    {
      "cell_type": "code",
      "execution_count": null,
      "metadata": {
        "id": "d89bb392-9402-4973-9255-d0c97dc836bd"
      },
      "outputs": [],
      "source": [
        "%%ai openai-chat:gpt-4"
      ]
    },
    {
      "cell_type": "markdown",
      "metadata": {
        "id": "358634dd-4c24-40b7-817d-f50d237272d6"
      },
      "source": [
        "#### Explain your answer below:"
      ]
    },
    {
      "cell_type": "markdown",
      "metadata": {
        "id": "591d8eab-a59a-4e55-8b57-d68a39cb2037"
      },
      "source": [
        "_type your answer here_"
      ]
    },
    {
      "cell_type": "markdown",
      "metadata": {
        "id": "af78e271-abba-4db3-9e04-d88a5167521d"
      },
      "source": [
        "**Question 9 (Novel Analysis Part 1):**\n",
        "\n",
        "Design your own A/B test! Choose one variable whose trends you would like to investigate, and create a new table with that variable's data for the years and states you would like to analyze. Remember to divide the overall table into two groups that you want to compare for the test, and conduct an A/B test investigating the differences between the two groups.\n",
        "\n",
        "Let's begin the process.\n",
        "\n",
        "a) Define null and alternate hypotheses.\n",
        "\n",
        "b) Plot the observed distribution of the variable you will be observing\n",
        "\n",
        "c) State your test statistic value and what it means in the context of the problem."
      ]
    },
    {
      "cell_type": "code",
      "execution_count": null,
      "metadata": {
        "id": "ec7ca6ec-7d6b-4b5b-8eac-a52d72db0c56"
      },
      "outputs": [],
      "source": [
        "#SOLUTION"
      ]
    },
    {
      "cell_type": "markdown",
      "metadata": {
        "id": "d66e2b77-4486-468a-a0a3-cfd8e22ab47f"
      },
      "source": [
        "#### Enter prompt below:"
      ]
    },
    {
      "cell_type": "code",
      "execution_count": null,
      "metadata": {
        "id": "91d3a949-c697-496d-9345-ced5fb9df66e"
      },
      "outputs": [],
      "source": [
        "%%ai openai-chat:gpt-4"
      ]
    },
    {
      "cell_type": "markdown",
      "metadata": {
        "id": "633ea157-4164-45df-9ac5-d8475220dfdd"
      },
      "source": [
        "#### Explain your answer below:"
      ]
    },
    {
      "cell_type": "markdown",
      "metadata": {
        "id": "d5d9ef07-b0a4-4659-8e53-0acc70ba26b0"
      },
      "source": [
        "_type your answer here_"
      ]
    },
    {
      "cell_type": "markdown",
      "metadata": {
        "id": "35574497-fc7f-4c3f-9dc6-e2f4e37927e4"
      },
      "source": [
        "**Question 10 (Novel Analysis Part 2):**\n",
        "\n",
        "Continue the A/B Test from Question 9!\n",
        "\n",
        "\n",
        "a) Simulate the test statistic under the null hypothesis and visualize the results.\n",
        "\n",
        "b) Select a significance level for your test and state the conclusion of the hypothesis test."
      ]
    },
    {
      "cell_type": "code",
      "execution_count": null,
      "metadata": {
        "id": "58ee26ca-4cfd-4586-b3da-08118ae5ccbc"
      },
      "outputs": [],
      "source": [
        "#SOLUTION"
      ]
    },
    {
      "cell_type": "markdown",
      "metadata": {
        "id": "6f051a61-4ea5-424d-b68f-60653e673e37"
      },
      "source": [
        "#### Enter prompt below:"
      ]
    },
    {
      "cell_type": "code",
      "execution_count": null,
      "metadata": {
        "id": "259b8e04-7460-47e9-bd21-ccca51fb62a3"
      },
      "outputs": [],
      "source": [
        "%%ai openai-chat:gpt-4"
      ]
    },
    {
      "cell_type": "markdown",
      "metadata": {
        "id": "193c8fbc-a6bb-4c0b-b158-7e74fbb8f767"
      },
      "source": [
        "#### Explain your answer below:"
      ]
    },
    {
      "cell_type": "markdown",
      "metadata": {
        "id": "d642bfec-5bb9-4e2c-a33c-5c1d217e5f1a"
      },
      "source": [
        "_type your answer here_"
      ]
    }
  ]
}