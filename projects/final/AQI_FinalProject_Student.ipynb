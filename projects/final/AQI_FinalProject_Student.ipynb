{
 "cells": [
  {
   "cell_type": "code",
   "execution_count": 2,
   "id": "f102d109-1882-4406-b615-18f547fabb21",
   "metadata": {},
   "outputs": [],
   "source": [
    "# Run this cell\n",
    "%load_ext jupyter_ai_magics\n",
    "from datascience import *\n",
    "import numpy as np\n",
    "import math\n",
    "%matplotlib inline\n",
    "import matplotlib.pyplot as plt"
   ]
  },
  {
   "cell_type": "markdown",
   "id": "21fde9ca-a6ad-4504-bdf8-7b7ba4a3ce75",
   "metadata": {},
   "source": [
    "# CMPSC 5A Final — AQI\n",
    "\n",
    "In this project, you will learn to apply all the concepts you have learnt in the class for far. This includes table manipulation (all table functions), iteration (for loops), conditional (if statements), data cleaning, and hypothesis testing etc."
   ]
  },
  {
   "cell_type": "markdown",
   "id": "987bea32-fce7-4c84-b4bf-cd5ae12176f1",
   "metadata": {},
   "source": [
    "## Names\n",
    "Please list the full names of all students who worked on this project.\n",
    "1. Student Name 1\n",
    "2. Student Name 2\n",
    "3. Student Name 3\n",
    "4. Student Name 4"
   ]
  },
  {
   "cell_type": "markdown",
   "id": "e498610a",
   "metadata": {},
   "source": [
    "## Member Responsibilities\n",
    "To make sure every member of your team contributes fairly, you should split up responsibilities before starting in writing. This should be a couple sentences. Here’s two examples of what that could look like for a hypothetical team of 2 (Alice and Bob):\n",
    "- “Alice will work on Q1-5 and Bob will do Q6-10. Each of us will make the slides that correspond to the problems we did.” \n",
    "- “We will meet in person to do the whole assignment as a team, switching up who is typing. Whoever is not currently typing will still help by checking documentation pages for the typist and advising the typist as they write code. Alice will make the first half of the slides, Bob will make the second half.” \n",
    "\n",
    "As these examples show, everyone should contribute to the notebook and presentation roughly equally.\n",
    "\n",
    "After presentations are complete, we will send out a survey where you say what you ended up doing and whether your teammate(s) held up their end of the bargain. Your self-evaluation and your teammates evaluation of you is not directly part of the rubric. \n",
    "\n",
    "This does not mean you can't help each other!!! It’s a group project. Please please please reach out to your teammate(s) if you’re struggling with questions that are assigned to you!! The survey evaluation is not a competition. We do not care if someone thinks they did 55% of the work and their partner did 45%. We care a lot if someone is not doing their work, not communicating with their team, and generally not contributing in good faith."
   ]
  },
  {
   "cell_type": "markdown",
   "id": "c84174b6",
   "metadata": {},
   "source": [
    "*Write your team member responsibility distribution here*"
   ]
  },
  {
   "cell_type": "markdown",
   "id": "b86d5514-b16c-45b1-9270-f8602b7bcffb",
   "metadata": {},
   "source": [
    "## Logistics\n",
    "\n",
    "**Deadline:** The final project notebook is due Thursday, March 13th, 2025 at 11:59pm PT. The final project presentation slides are due by 10:00am PT on Friday, March 14th, 2025. Unlike labs, **no late submissions are allowed**. After presentations are complete, we will send out a survey where you say what you ended up doing and whether your teammate(s) held up their end of the bargain.\n",
    "\n",
    "**Submission:** For full credit, you must complete all the questions and submit to Gradescope. You may still change your answers before the project deadline - only your final submission will be graded for correctness. Only one partner needs to submit the notebook to Gradescope, and they will need to add the other two group members as members on Gradescope. See [How to Add Group Member in Gradescope](https://help.gradescope.com/article/m5qz2xsnjy-student-add-group-members). **After they submit, all group members should open their Gradescope accounts and see that a submission has been processed. Be sure that the final notebook has all the ChatGPT prompts used by all the team members**.\n",
    "\n",
    "**Presentation:** Your group will need to create a presentation slide deck and give a 6-8 minute oral presentation during your assigned time slot. Presentations must use slides. Your group is not allowed to scroll through your notebook during the presentation. All slides must be uploaded to https://drive.google.com/drive/folders/17r2EyxJYd40E7OAldljNb7QcjD_YikWh?usp=sharing.\n",
    "\n",
    "**Final Project Rubric:** The rubric for the Final Project can be found [here](https://docs.google.com/document/d/1LCjgJ_OTntaBKx6abFevrOupjzK2Iw0G/edit).\n",
    "\n",
    "**IMPORTANT NOTES:** \n",
    "- You are not limited to just one solution code cell, one prompt cell and one workflow cell for each question. Use as many of each as you like to ensure your notebook is presented well, easy-to-read, and has all the required plots and intermediate tables visible to show how you deduced that answer.\n",
    "- None of the questions are created in a way that will allow you to just give a one line answer. Remember, if your answer is just a one line answer, you are probably missing something.\n",
    "- Every group's answers may be different based on the approach you take for data analysis. Others may have visually presented it with a graph that may be different from yours, or filtered the table in a different way. That does not mean yours is wrong. We are looking for diversity in how information is displayed and there are more than one correct answers for each question.\n",
    "\n",
    "**Partners:** You will work with two or three other partners (total three or four in a group); your partners can be from any lab section. **Please sign-up with your partners on the [final project sign-up sheet](https://docs.google.com/spreadsheets/d/1mT-_lz-b4fx5X1Ma7wtxio_rpFeWxfBz/edit?usp=sharing&ouid=109499873917928324217&rtpof=true&sd=true) using your UCSB email by Monday, March 3, 2025 at 5:00pm PT.** If you have less than three people, please check the sheet on Tuesday, March 4, 2025 to see if you were assigned a random partner.\n",
    "\n",
    "**Rules:** Don't share your code with anybody but your partners. You are welcome to discuss questions with other students, but don't share the answers. The experience of solving the problems in this project will prepare you for exams (and life). If someone asks you for the answer, resist! Instead, you can demonstrate how you would solve a similar problem. Since the problems are open-ended, they can have various different answers. What is important is the approach you take to solve your task.\n",
    "\n",
    "**Support:** You are not alone! Come to office hours, post on Ed, and talk to your classmates. If you want to ask about the details of your solution to a problem, make a private Ed post and the staff will respond. If you're ever feeling overwhelmed or don't know how to make progress, please talk to your TA or ULA.\n",
    "\n",
    "**Advice:** Develop your answers incrementally. To perform a complicated table manipulation, break it up into steps, perform each step on a different line, give a new name to each result, and check that each intermediate result is what you expect. You can add any additional names or functions you want to the provided cells. Make sure that you are using distinct and meaningful variable names throughout the notebook. Along that line, **TRY NOT TO** reuse the variable names.\n",
    "\n",
    "You **never** have to use just one line in this project or any others. Use intermediate variables and multiple lines as much as you would like!"
   ]
  },
  {
   "cell_type": "markdown",
   "id": "51e25de8-d7dd-4a8a-be52-16cfc6ccd838",
   "metadata": {},
   "source": [
    "# AQI Dataset"
   ]
  },
  {
   "cell_type": "markdown",
   "id": "33e43efd-964c-4edd-bf11-9d029e9f6850",
   "metadata": {},
   "source": [
    "The Air Quality Index (AQI) is a standardized indicator used to communicate how polluted the air currently is or how polluted it is forecasted to become. Public health risks increase as the AQI rises, and the index is used by government agencies to determine when to issue health advisories or restrictions on industrial activities.\n",
    "\n",
    "The dataset you will use is AQI by County. This dataset is compiled by the Environmental Protection Agency (EPA). This kind of data could be used for a variety of purposes, including public health analysis, environmental policy-making, and academic research into the effects of air quality on population health. It is also a valuable tool for informing the public about day-to-day variations in air quality and for issuing warnings on days when the air quality is particularly poor. The data contains entries for the years 2017 - 2023.\n",
    "\n",
    "- `State`: The state in the United States where the measurement was taken.\n",
    "- `County`: The specific county within the state where the air quality data was recorded.\n",
    "- `Year`: The year for which the data is relevant.\n",
    "- `Days with AQI`: The number of days in the year when the AQI was recorded.\n",
    "- `Good Days`: The number of days where the AQI indicated that the air quality was good.\n",
    "- `Moderate Days`: The number of days where the AQI indicated a moderate health concern.\n",
    "- `Unhealthy for Sensitive Groups Days`: Days when the AQI suggested health effects for sensitive groups.\n",
    "- `Unhealthy Days`: The number of days where the AQI indicated health effects for everyone.\n",
    "- `Very Unhealthy Days`: Days where the AQI suggested health alert conditions.\n",
    "- `Hazardous Days`: The number of days indicating hazardous air quality.\n",
    "- `Max AQI`: The highest AQI recorded in the county for the year.\n",
    "- `90th Percentile AQI`: The AQI level below which 90% of the AQI values fall.\n",
    "- `Median AQI`: The median AQI value for the year.\n",
    "- `Days CO`: The number of days when carbon monoxide was the predominant pollutant.\n",
    "- `Days NO2`: The number of days when nitrogen dioxide was the predominant pollutant.\n",
    "- `Days Ozone`: The count of days when ozone was the main pollutant.\n",
    "- `Days PM2.5`: The number of days when fine particulate matter (PM2.5) was the main pollutant.\n",
    "- `Days PM10`: The number of days when coarse particulate matter (PM10) was the main pollutant.\n",
    "\n",
    "Please refer to [Chapter 12.1: A/B Testing](https://inferentialthinking.com/chapters/12/1/AB_Testing.html) when completing this final project as many of the questions use concepts covered there!"
   ]
  },
  {
   "cell_type": "code",
   "execution_count": 3,
   "id": "f68d0504-03f7-4a00-a7b3-a7cb9b1f01b1",
   "metadata": {},
   "outputs": [
    {
     "data": {
      "text/html": [
       "<table border=\"1\" class=\"dataframe\">\n",
       "    <thead>\n",
       "        <tr>\n",
       "            <th>State</th> <th>County</th> <th>Year</th> <th>Days with AQI</th> <th>Good Days</th> <th>Moderate Days</th> <th>Unhealthy for Sensitive Groups Days</th> <th>Unhealthy Days</th> <th>Very Unhealthy Days</th> <th>Hazardous Days</th> <th>Max AQI</th> <th>90th Percentile AQI</th> <th>Median AQI</th> <th>Days CO</th> <th>Days NO2</th> <th>Days Ozone</th> <th>Days PM2.5</th> <th>Days PM10</th>\n",
       "        </tr>\n",
       "    </thead>\n",
       "    <tbody>\n",
       "        <tr>\n",
       "            <td>Alabama</td> <td>Baldwin   </td> <td>2023</td> <td>170          </td> <td>143      </td> <td>27           </td> <td>0                                  </td> <td>0             </td> <td>0                  </td> <td>0             </td> <td>90     </td> <td>54                 </td> <td>40        </td> <td>0      </td> <td>0       </td> <td>84        </td> <td>86        </td> <td>0        </td>\n",
       "        </tr>\n",
       "        <tr>\n",
       "            <td>Alabama</td> <td>Clay      </td> <td>2023</td> <td>155          </td> <td>109      </td> <td>46           </td> <td>0                                  </td> <td>0             </td> <td>0                  </td> <td>0             </td> <td>83     </td> <td>61                 </td> <td>40        </td> <td>0      </td> <td>0       </td> <td>0         </td> <td>155       </td> <td>0        </td>\n",
       "        </tr>\n",
       "        <tr>\n",
       "            <td>Alabama</td> <td>DeKalb    </td> <td>2023</td> <td>212          </td> <td>155      </td> <td>55           </td> <td>2                                  </td> <td>0             </td> <td>0                  </td> <td>0             </td> <td>133    </td> <td>63                 </td> <td>43        </td> <td>0      </td> <td>0       </td> <td>141       </td> <td>71        </td> <td>0        </td>\n",
       "        </tr>\n",
       "        <tr>\n",
       "            <td>Alabama</td> <td>Elmore    </td> <td>2023</td> <td>118          </td> <td>102      </td> <td>16           </td> <td>0                                  </td> <td>0             </td> <td>0                  </td> <td>0             </td> <td>90     </td> <td>54                 </td> <td>40        </td> <td>0      </td> <td>0       </td> <td>118       </td> <td>0         </td> <td>0        </td>\n",
       "        </tr>\n",
       "        <tr>\n",
       "            <td>Alabama</td> <td>Etowah    </td> <td>2023</td> <td>181          </td> <td>126      </td> <td>55           </td> <td>0                                  </td> <td>0             </td> <td>0                  </td> <td>0             </td> <td>100    </td> <td>64                 </td> <td>43        </td> <td>0      </td> <td>0       </td> <td>74        </td> <td>107       </td> <td>0        </td>\n",
       "        </tr>\n",
       "        <tr>\n",
       "            <td>Alabama</td> <td>Jefferson </td> <td>2023</td> <td>182          </td> <td>72       </td> <td>98           </td> <td>8                                  </td> <td>3             </td> <td>1                  </td> <td>0             </td> <td>230    </td> <td>91                 </td> <td>54        </td> <td>1      </td> <td>0       </td> <td>63        </td> <td>118       </td> <td>0        </td>\n",
       "        </tr>\n",
       "        <tr>\n",
       "            <td>Alabama</td> <td>Madison   </td> <td>2023</td> <td>181          </td> <td>129      </td> <td>50           </td> <td>2                                  </td> <td>0             </td> <td>0                  </td> <td>0             </td> <td>115    </td> <td>68                 </td> <td>43        </td> <td>0      </td> <td>0       </td> <td>86        </td> <td>95        </td> <td>0        </td>\n",
       "        </tr>\n",
       "        <tr>\n",
       "            <td>Alabama</td> <td>Mobile    </td> <td>2023</td> <td>178          </td> <td>133      </td> <td>45           </td> <td>0                                  </td> <td>0             </td> <td>0                  </td> <td>0             </td> <td>90     </td> <td>59                 </td> <td>43        </td> <td>0      </td> <td>0       </td> <td>68        </td> <td>110       </td> <td>0        </td>\n",
       "        </tr>\n",
       "        <tr>\n",
       "            <td>Alabama</td> <td>Montgomery</td> <td>2023</td> <td>150          </td> <td>97       </td> <td>53           </td> <td>0                                  </td> <td>0             </td> <td>0                  </td> <td>0             </td> <td>93     </td> <td>71                 </td> <td>47        </td> <td>0      </td> <td>0       </td> <td>66        </td> <td>84        </td> <td>0        </td>\n",
       "        </tr>\n",
       "        <tr>\n",
       "            <td>Alabama</td> <td>Morgan    </td> <td>2023</td> <td>181          </td> <td>138      </td> <td>41           </td> <td>2                                  </td> <td>0             </td> <td>0                  </td> <td>0             </td> <td>140    </td> <td>64                 </td> <td>41        </td> <td>0      </td> <td>0       </td> <td>95        </td> <td>86        </td> <td>0        </td>\n",
       "        </tr>\n",
       "    </tbody>\n",
       "</table>\n",
       "<p>... (7014 rows omitted)</p>"
      ],
      "text/plain": [
       "State   | County     | Year | Days with AQI | Good Days | Moderate Days | Unhealthy for Sensitive Groups Days | Unhealthy Days | Very Unhealthy Days | Hazardous Days | Max AQI | 90th Percentile AQI | Median AQI | Days CO | Days NO2 | Days Ozone | Days PM2.5 | Days PM10\n",
       "Alabama | Baldwin    | 2023 | 170           | 143       | 27            | 0                                   | 0              | 0                   | 0              | 90      | 54                  | 40         | 0       | 0        | 84         | 86         | 0\n",
       "Alabama | Clay       | 2023 | 155           | 109       | 46            | 0                                   | 0              | 0                   | 0              | 83      | 61                  | 40         | 0       | 0        | 0          | 155        | 0\n",
       "Alabama | DeKalb     | 2023 | 212           | 155       | 55            | 2                                   | 0              | 0                   | 0              | 133     | 63                  | 43         | 0       | 0        | 141        | 71         | 0\n",
       "Alabama | Elmore     | 2023 | 118           | 102       | 16            | 0                                   | 0              | 0                   | 0              | 90      | 54                  | 40         | 0       | 0        | 118        | 0          | 0\n",
       "Alabama | Etowah     | 2023 | 181           | 126       | 55            | 0                                   | 0              | 0                   | 0              | 100     | 64                  | 43         | 0       | 0        | 74         | 107        | 0\n",
       "Alabama | Jefferson  | 2023 | 182           | 72        | 98            | 8                                   | 3              | 1                   | 0              | 230     | 91                  | 54         | 1       | 0        | 63         | 118        | 0\n",
       "Alabama | Madison    | 2023 | 181           | 129       | 50            | 2                                   | 0              | 0                   | 0              | 115     | 68                  | 43         | 0       | 0        | 86         | 95         | 0\n",
       "Alabama | Mobile     | 2023 | 178           | 133       | 45            | 0                                   | 0              | 0                   | 0              | 90      | 59                  | 43         | 0       | 0        | 68         | 110        | 0\n",
       "Alabama | Montgomery | 2023 | 150           | 97        | 53            | 0                                   | 0              | 0                   | 0              | 93      | 71                  | 47         | 0       | 0        | 66         | 84         | 0\n",
       "Alabama | Morgan     | 2023 | 181           | 138       | 41            | 2                                   | 0              | 0                   | 0              | 140     | 64                  | 41         | 0       | 0        | 95         | 86         | 0\n",
       "... (7014 rows omitted)"
      ]
     },
     "execution_count": 3,
     "metadata": {},
     "output_type": "execute_result"
    }
   ],
   "source": [
    "# Run this cell\n",
    "aqi = Table.read_table(\"data/annual_aqi_2017-2023.csv\")\n",
    "aqi"
   ]
  },
  {
   "cell_type": "markdown",
   "id": "3ee43dc5-16ee-4a80-a60e-c7a9b5d20286",
   "metadata": {},
   "source": [
    "**Question 1:** Can you plot a multi-series line graph to compare the trend of `Good Days`, `Moderate Days`, and `Days with AQI` over the years for **a particular county of your choice**? This could help identify if there is a seasonal pattern in AQI ratings."
   ]
  },
  {
   "cell_type": "code",
   "execution_count": null,
   "id": "82e22ccd-d7e3-4bf4-9c64-2a76f42c5bff",
   "metadata": {},
   "outputs": [],
   "source": [
    "#SOLUTION"
   ]
  },
  {
   "cell_type": "markdown",
   "id": "af9a96f1-3559-4c55-8d9d-a207f72d40f3",
   "metadata": {},
   "source": [
    "#### Enter prompt below:"
   ]
  },
  {
   "cell_type": "code",
   "execution_count": null,
   "id": "d8866768-a215-42db-ae55-d693900e98b2",
   "metadata": {},
   "outputs": [],
   "source": [
    "%%ai openai-chat:gpt-4"
   ]
  },
  {
   "cell_type": "markdown",
   "id": "92e5ff38-9e85-4d87-8dcd-cf253d55c4ba",
   "metadata": {},
   "source": [
    "#### Explain your answer below:"
   ]
  },
  {
   "cell_type": "markdown",
   "id": "d5a6217a-b449-4fec-9c1c-23fbcc90ea2d",
   "metadata": {},
   "source": [
    "_type your answer here_"
   ]
  },
  {
   "cell_type": "markdown",
   "id": "467ffd37-f4be-41ab-b0f0-309b8fbeb154",
   "metadata": {},
   "source": [
    "**Question 2:** **Select a single year** and create a graph for any 3 counties within a single state where the number of `Unhealthy for Sensitive Groups Days` > 4. Show the composition of `Good Days`, `Moderate Days`, `Unhealthy for Sensitive Groups Days`, `Unhealthy Days`, `Very Unhealthy Days`, and `Hazardous Days`. This will visually indicate the overall air quality profile for each county. **Repeat this thrice: choose three different states**."
   ]
  },
  {
   "cell_type": "code",
   "execution_count": null,
   "id": "a2b46f7b-4b88-4ef0-8b8a-eb7ca51bc64d",
   "metadata": {},
   "outputs": [],
   "source": [
    "#SOLUTION"
   ]
  },
  {
   "cell_type": "markdown",
   "id": "d2ee198f-4b24-4c70-ba81-a0368e0e6060",
   "metadata": {},
   "source": [
    "#### Enter prompt below:"
   ]
  },
  {
   "cell_type": "code",
   "execution_count": null,
   "id": "1be5f009-d240-42ed-996f-6f1fcf65e1c1",
   "metadata": {},
   "outputs": [],
   "source": [
    "%%ai openai-chat:gpt-4"
   ]
  },
  {
   "cell_type": "markdown",
   "id": "75552949-e89c-4a0a-a7ad-d73cdfadfa4b",
   "metadata": {},
   "source": [
    "#### Explain your answer below:"
   ]
  },
  {
   "cell_type": "markdown",
   "id": "06643333-87a4-4097-a216-95129a5339f6",
   "metadata": {},
   "source": [
    "_type your answer here_"
   ]
  },
  {
   "cell_type": "markdown",
   "id": "ee3f82ad-6fa7-4759-8eb2-17d469e40948",
   "metadata": {},
   "source": [
    "**Question 3:** What is the probability, based on the data for year 2023, that the County of Santa Barbara in California will have a good day? What about moderate days? Visualize the probability and also create a supplement graph that show the `Median AQI` over time in Santa Barbara."
   ]
  },
  {
   "cell_type": "code",
   "execution_count": null,
   "id": "eed4f921-a1dc-4cee-ac07-d76edbe77968",
   "metadata": {},
   "outputs": [],
   "source": [
    "#SOLUTION"
   ]
  },
  {
   "cell_type": "markdown",
   "id": "802f98a7-d88b-4156-8621-b0483fe68ac3",
   "metadata": {},
   "source": [
    "#### Enter prompt below:"
   ]
  },
  {
   "cell_type": "code",
   "execution_count": null,
   "id": "c1e994c5-3fa1-42a0-b5bd-f5ca235858c4",
   "metadata": {},
   "outputs": [],
   "source": [
    "%%ai openai-chat:gpt-4"
   ]
  },
  {
   "cell_type": "markdown",
   "id": "b67a8a48-d72b-4c51-a5bb-64e0a42eecfc",
   "metadata": {},
   "source": [
    "#### Explain your answer below:"
   ]
  },
  {
   "cell_type": "markdown",
   "id": "a4f7aedf-bc11-4c5e-974a-807348bdea82",
   "metadata": {},
   "source": [
    "_type your answer here_"
   ]
  },
  {
   "cell_type": "markdown",
   "id": "1ef26b12-4253-4fbb-a10f-79ab3692a79a",
   "metadata": {},
   "source": [
    "**Question 4:** Let's investigate AQI trends by state. First, define a table that contains the sum of Median AQIs for each state, and categorize each state by whether it is North or South. The categorizations are given to you, so delete any rows whose states are not included. The table should contain two columns:\n",
    "- `Label`: Denotes if a state is North or South\n",
    "- `Total Median AQI`: The sum of the total median AQI for each state.\n",
    "\n",
    "Then, construct an overlaid histogram of two observed distributions: the total median AQI in Northern States and the total median AQI in Southern States."
   ]
  },
  {
   "cell_type": "code",
   "execution_count": null,
   "id": "8b6324e3",
   "metadata": {},
   "outputs": [],
   "source": [
    "# Run This cell\n",
    "north_states = [\n",
    "    'Washington', 'Oregon', 'Idaho', 'Montana', 'Wyoming', 'North Dakota', 'South Dakota', \n",
    "    'Minnesota', 'Wisconsin', 'Michigan', 'New York', 'Maine', 'Vermont', 'New Hampshire', \n",
    "    'Massachusetts', 'Rhode Island', 'Connecticut', 'Pennsylvania', 'New Jersey', 'Ohio', \n",
    "    'Indiana', 'Illinois', 'Iowa', 'Nebraska', 'Colorado', 'Utah', 'Nevada', 'California', 'Alaska'\n",
    "]\n",
    "\n",
    "south_states = [\n",
    "    'Arizona', 'New Mexico', 'Texas', 'Oklahoma', 'Kansas', 'Missouri', 'Arkansas', 'Louisiana', \n",
    "    'Mississippi', 'Alabama', 'Georgia', 'Florida', 'South Carolina', 'North Carolina', 'Tennessee', \n",
    "    'Kentucky', 'Virginia', 'West Virginia', 'Maryland', 'Delaware', 'Hawaii'\n",
    "]"
   ]
  },
  {
   "cell_type": "code",
   "execution_count": null,
   "id": "3894b025-8420-4e2b-80d0-bda5cb113e6f",
   "metadata": {},
   "outputs": [],
   "source": [
    "#SOLUTION"
   ]
  },
  {
   "cell_type": "markdown",
   "id": "56448fc1-229b-4a97-9503-59a0bbc69a25",
   "metadata": {},
   "source": [
    "#### Enter prompt below:"
   ]
  },
  {
   "cell_type": "code",
   "execution_count": null,
   "id": "f911ab89-8ab7-4aa6-9a67-900f28f0ebb2",
   "metadata": {},
   "outputs": [],
   "source": [
    "%%ai openai-chat:gpt-4"
   ]
  },
  {
   "cell_type": "markdown",
   "id": "24509c1f-4859-4116-8ca6-633543b86408",
   "metadata": {},
   "source": [
    "#### Explain your answer below:"
   ]
  },
  {
   "cell_type": "markdown",
   "id": "b8dbe520-7e22-4e2a-831e-9b819c7bce04",
   "metadata": {},
   "source": [
    "_type your answer here_"
   ]
  },
  {
   "cell_type": "markdown",
   "id": "9f02d4b4-d271-403a-8012-d250a644358a",
   "metadata": {},
   "source": [
    "**Question 5:** You are helping out a researcher conduct an in-progress A/B test about the differences in Days Ozone in California and Texas. Create a table which has the `Days Ozone` data for each California and Texas county.\n",
    "\n",
    "The researcher is interested in analyzing the following observed test statistic:\n",
    "$$\\text{average days ozone across California counties} - \\text{average days ozone across Texas counties}$$\n",
    "\n",
    "**State one possible set of null and alternate hypotheses, and write another function** to simulate the test statistic under the null hypothesis once and return the value of the test statistic for that simulated sample. Then, use a loop to run your function 5000 times and store each sample test statistic in an array. Create a visualization to display the distribution of sample test statistics.\n"
   ]
  },
  {
   "cell_type": "code",
   "execution_count": null,
   "id": "9b48c45e-b091-4e27-bbc6-541a074e642b",
   "metadata": {},
   "outputs": [],
   "source": [
    "#SOLUTION"
   ]
  },
  {
   "cell_type": "markdown",
   "id": "3ca8ed50-200a-4b61-9e3d-a6fff7674642",
   "metadata": {},
   "source": [
    "#### Enter prompt below:"
   ]
  },
  {
   "cell_type": "code",
   "execution_count": null,
   "id": "d9ba1e22-8a0b-41af-a4c1-5026f068b614",
   "metadata": {},
   "outputs": [],
   "source": [
    "%%ai openai-chat:gpt-4"
   ]
  },
  {
   "cell_type": "markdown",
   "id": "c7d96fdb-f9d8-4aa0-9ee3-5b0e6a192241",
   "metadata": {},
   "source": [
    "#### Explain your answer below:"
   ]
  },
  {
   "cell_type": "markdown",
   "id": "318ed863-eaaa-4319-acaf-ccd1b045ba40",
   "metadata": {},
   "source": [
    "_type your answer here_"
   ]
  },
  {
   "cell_type": "markdown",
   "id": "f5e3200b-d50d-4125-b824-70bca8157aaf",
   "metadata": {},
   "source": [
    "**Question 6:** \n",
    "Using the observed test statistic and the array of sample test statistics, compute the p-value for the hypothesis test. Remember, we introduce p-values and how to compute them in [Ch 11.3 Decisions and Uncertainty](https://inferentialthinking.com/chapters/11/3/Decisions_and_Uncertainty.html). State a conclusion from this test using a p-value cutoff of 5%."
   ]
  },
  {
   "cell_type": "code",
   "execution_count": null,
   "id": "09a6752d-1c4a-4bb9-a854-2cd1ba317e8d",
   "metadata": {},
   "outputs": [],
   "source": [
    "#SOLUTION"
   ]
  },
  {
   "cell_type": "markdown",
   "id": "595b48ee-8f9e-411c-b2b1-c205d8c4ab84",
   "metadata": {},
   "source": [
    "#### Enter prompt below:"
   ]
  },
  {
   "cell_type": "code",
   "execution_count": null,
   "id": "6eaa9715-87f1-4571-b454-e03104dff8df",
   "metadata": {},
   "outputs": [],
   "source": [
    "%%ai openai-chat:gpt-4"
   ]
  },
  {
   "cell_type": "markdown",
   "id": "38ac8907-13ef-4491-9dee-e0e89b0577bb",
   "metadata": {},
   "source": [
    "#### Explain your answer below:"
   ]
  },
  {
   "cell_type": "markdown",
   "id": "becbaef0-0bf9-43e4-8864-8f3bc1a52e00",
   "metadata": {},
   "source": [
    "_type your answer here_"
   ]
  },
  {
   "cell_type": "markdown",
   "id": "643ddfd7-11e0-4961-8186-8d1a9cd32d24",
   "metadata": {},
   "source": [
    "**Question 7:**  Create a table that has one row for each state in 2023 with its `Median AQI`. Divide the states into West Coast states and East Coast states based on the [U.S. Map](https://upload.wikimedia.org/wikipedia/commons/a/a4/Map_of_USA_with_state_and_territory_names_2.png). You don't have to use all the states. Let's begin the process of conducting an A/B test investigating the differences in average `Median AQI` between West Coast and East Coast States. Please define a null and alternate hypothesis, create appropriate visuals to display and compare the two distributions, and compute your test statistic. What does your test statistic mean in context?"
   ]
  },
  {
   "cell_type": "code",
   "execution_count": null,
   "id": "1690bcf5-1c8b-4356-9106-db42f737c5c3",
   "metadata": {},
   "outputs": [],
   "source": [
    "#SOLUTION"
   ]
  },
  {
   "cell_type": "markdown",
   "id": "b30c0fa2-65f2-4bde-8e00-d70bcab69128",
   "metadata": {},
   "source": [
    "#### Enter prompt below:"
   ]
  },
  {
   "cell_type": "code",
   "execution_count": null,
   "id": "761848fe-520a-4d23-8cdd-6c13661bc501",
   "metadata": {},
   "outputs": [],
   "source": [
    "%%ai openai-chat:gpt-4"
   ]
  },
  {
   "cell_type": "markdown",
   "id": "8c402e09-7c20-40c1-ac00-42ea027942ca",
   "metadata": {},
   "source": [
    "#### Explain your answer below:"
   ]
  },
  {
   "cell_type": "markdown",
   "id": "7a46c80f-3c8e-431f-86b2-6c3cd9b4e1c8",
   "metadata": {},
   "source": [
    "_type your answer here_"
   ]
  },
  {
   "cell_type": "markdown",
   "id": "51b5ec14-8045-48d3-8857-b413a224f619",
   "metadata": {},
   "source": [
    "**Question 8:** Continue the A/B test from Question 7. Simulate the test statistic under the null hypotheses and visualize the results. Compute the p-value for the test and state the conclusion of the hypothesis test.\n"
   ]
  },
  {
   "cell_type": "code",
   "execution_count": null,
   "id": "efe645d9-487c-4ecd-a4b0-5c61c626da84",
   "metadata": {},
   "outputs": [],
   "source": [
    "#SOLUTION"
   ]
  },
  {
   "cell_type": "markdown",
   "id": "5c57e752-8854-4685-9dee-98924813931a",
   "metadata": {},
   "source": [
    "#### Enter prompt below:"
   ]
  },
  {
   "cell_type": "code",
   "execution_count": null,
   "id": "eeee1415-9149-4799-8eda-300fe3101d83",
   "metadata": {},
   "outputs": [],
   "source": [
    "%%ai openai-chat:gpt-4"
   ]
  },
  {
   "cell_type": "markdown",
   "id": "d725fdc9-a25a-44af-a7fd-3f0e249c449b",
   "metadata": {},
   "source": [
    "#### Explain your answer below:"
   ]
  },
  {
   "cell_type": "markdown",
   "id": "4f30a1fc-3130-40bd-823c-576977193e2f",
   "metadata": {},
   "source": [
    "_type your answer here_"
   ]
  },
  {
   "cell_type": "markdown",
   "id": "cf4c30d9-89da-4ccd-8cb7-133acb1bf8d4",
   "metadata": {},
   "source": [
    "**Question 9 (Novel Analysis Part 1):**\n",
    "\n",
    "Design your own A/B test! Choose one variable whose trends you would like to investigate, and create a new table with that variable's data for the years and states you would like to analyze. Remember to divide the overall table into two groups that you want to compare for the test, and conduct an A/B test investigating the differences between the two groups.\n",
    "\n",
    "Let's begin the process.\n",
    "\n",
    "a) Define null and alternate hypotheses.\n",
    "\n",
    "b) Plot the observed distribution of the variable you will be observing\n",
    "\n",
    "c) State your test statistic value and what it means in the context of the problem."
   ]
  },
  {
   "cell_type": "code",
   "execution_count": null,
   "id": "a026b6b8-6336-44a7-a36c-c6b4384b6393",
   "metadata": {},
   "outputs": [],
   "source": [
    "#SOLUTION"
   ]
  },
  {
   "cell_type": "markdown",
   "id": "bc232860-b7a4-465c-b015-047ae03c7ff0",
   "metadata": {},
   "source": [
    "#### Enter prompt below:"
   ]
  },
  {
   "cell_type": "code",
   "execution_count": null,
   "id": "2b638ac1-5184-4ed3-a9a9-fb3a01460b12",
   "metadata": {},
   "outputs": [],
   "source": [
    "%%ai openai-chat:gpt-4"
   ]
  },
  {
   "cell_type": "markdown",
   "id": "029ea2d2-be56-4887-b781-8a8f88059876",
   "metadata": {},
   "source": [
    "#### Explain your answer below:"
   ]
  },
  {
   "cell_type": "markdown",
   "id": "e8763c9f-7505-491a-8ae6-6547ccb82a67",
   "metadata": {},
   "source": [
    "_type your answer here_"
   ]
  },
  {
   "cell_type": "markdown",
   "id": "92eb495c-66f3-4cdf-83cd-36dac88b1f5f",
   "metadata": {},
   "source": [
    "**Question 10 (Novel Analysis Part 2)**"
   ]
  },
  {
   "cell_type": "markdown",
   "id": "7de2e2f2-bc35-4b8b-b7f6-356117f24850",
   "metadata": {},
   "source": [
    "Continue the A/B Test from Question 9!\n",
    "\n",
    "\n",
    "a) Simulate the test statistic under the null hypothesis and visualize the results.\n",
    "\n",
    "b) Select a significance level for your test and state the conclusion of the hypothesis test."
   ]
  },
  {
   "cell_type": "code",
   "execution_count": null,
   "id": "4265c8a2-7a46-4aab-93a1-3565ad75a7f8",
   "metadata": {},
   "outputs": [],
   "source": [
    "#SOLUTION"
   ]
  },
  {
   "cell_type": "markdown",
   "id": "f0c8c186-ae99-4110-ac4d-d3cd7dda85cd",
   "metadata": {},
   "source": [
    "#### Enter prompt below:"
   ]
  },
  {
   "cell_type": "code",
   "execution_count": null,
   "id": "828c79cc-fc16-4064-a5e9-cffd0d2f8dd6",
   "metadata": {},
   "outputs": [],
   "source": [
    "%%ai openai-chat:gpt-3.5-turbo"
   ]
  },
  {
   "cell_type": "markdown",
   "id": "eb583122-39b8-40fe-bbe7-b4da1e861cf8",
   "metadata": {},
   "source": [
    "#### Explain your answer below:"
   ]
  },
  {
   "cell_type": "markdown",
   "id": "54a31bc4-3a3e-445a-a5ce-9b746e35fb48",
   "metadata": {},
   "source": [
    "_type your answer here_"
   ]
  }
 ],
 "metadata": {
  "kernelspec": {
   "display_name": "Python 3 (ipykernel)",
   "language": "python",
   "name": "python3"
  },
  "language_info": {
   "codemirror_mode": {
    "name": "ipython",
    "version": 3
   },
   "file_extension": ".py",
   "mimetype": "text/x-python",
   "name": "python",
   "nbconvert_exporter": "python",
   "pygments_lexer": "ipython3",
   "version": "3.10.13"
  }
 },
 "nbformat": 4,
 "nbformat_minor": 5
}
