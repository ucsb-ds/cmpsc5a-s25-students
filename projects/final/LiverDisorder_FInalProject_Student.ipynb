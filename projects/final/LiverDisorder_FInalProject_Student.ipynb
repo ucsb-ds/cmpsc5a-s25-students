{
 "cells": [
  {
   "cell_type": "code",
   "execution_count": null,
   "id": "46f7b5a2-34a8-4076-99dd-76b7232b13d7",
   "metadata": {},
   "outputs": [],
   "source": [
    "%load_ext jupyter_ai_magics\n",
    "from datascience import *\n",
    "import numpy as np\n",
    "import math\n",
    "import matplotlib.pyplot as plt\n",
    "%matplotlib inline"
   ]
  },
  {
   "cell_type": "markdown",
   "id": "8a9a667a-d89f-4d88-952e-e75350ecc37b",
   "metadata": {},
   "source": [
    "# CMPSC 5A Final — Liver Disorders\n",
    "\n",
    "In this project, you will learn to apply all the concepts you have learnt in the class for far. This includes table manipulation (all table functions), iteration (for loops), conditional (if statements), data cleaning, and hypothesis testing etc."
   ]
  },
  {
   "cell_type": "markdown",
   "id": "80dc3de0-df2b-476f-b023-9cd3668f8ff1",
   "metadata": {},
   "source": [
    "## Names\n",
    "Please list the full names of all students who worked on this project.\n",
    "1. Student Name 1\n",
    "2. Student Name 2\n",
    "3. Student Name 3\n",
    "4. Student Name 4"
   ]
  },
  {
   "cell_type": "markdown",
   "id": "df805ce8",
   "metadata": {},
   "source": [
    "## Member Responsibilities\n",
    "To make sure every member of your team contributes fairly, you should split up responsibilities before starting in writing. This should be a couple sentences. Here’s two examples of what that could look like for a hypothetical team of 2 (Alice and Bob):\n",
    "- “Alice will work on Q1-5 and Bob will do Q6-10. Each of us will make the slides that correspond to the problems we did.” \n",
    "- “We will meet in person to do the whole assignment as a team, switching up who is typing. Whoever is not currently typing will still help by checking documentation pages for the typist and advising the typist as they write code. Alice will make the first half of the slides, Bob will make the second half.” \n",
    "\n",
    "As these examples show, everyone should contribute to the notebook and presentation roughly equally.\n",
    "\n",
    "After presentations are complete, we will send out a survey where you say what you ended up doing and whether your teammate(s) held up their end of the bargain. Your self-evaluation and your teammates evaluation of you is not directly part of the rubric. \n",
    "\n",
    "This does not mean you can't help each other!!! It’s a group project. Please please please reach out to your teammate(s) if you’re struggling with questions that are assigned to you!! The survey evaluation is not a competition. We do not care if someone thinks they did 55% of the work and their partner did 45%. We care a lot if someone is not doing their work, not communicating with their team, and generally not contributing in good faith."
   ]
  },
  {
   "cell_type": "markdown",
   "id": "2519c236",
   "metadata": {},
   "source": [
    "*Write your team member responsibility distribution here*"
   ]
  },
  {
   "cell_type": "markdown",
   "id": "db3b10a5-daaa-48c4-9b9c-fad50c4b7ff1",
   "metadata": {
    "jp-MarkdownHeadingCollapsed": true
   },
   "source": [
    "## Logistics\n",
    "\n",
    "**Deadline:** The final project notebook is due Thursday, March 13th, 2025 at 11:59pm PT. The final project presentation slides are due by 10:00am PT on Friday, March 14th, 2025. Unlike labs, **no late submissions are allowed**. After presentations are complete, we will send out a survey where you say what you ended up doing and whether your teammate(s) held up their end of the bargain.\n",
    "\n",
    "**Submission:** For full credit, you must complete all the questions and submit to Gradescope. You may still change your answers before the project deadline - only your final submission will be graded for correctness. Only one partner needs to submit the notebook to Gradescope, and they will need to add the other two group members as members on Gradescope. See [How to Add Group Member in Gradescope](https://help.gradescope.com/article/m5qz2xsnjy-student-add-group-members). **After they submit, all group members should open their Gradescope accounts and see that a submission has been processed. Be sure that the final notebook has all the ChatGPT prompts used by all the team members**.\n",
    "\n",
    "**Presentation:** Your group will need to create a presentation slide deck and give a 6-8 minute oral presentation during your assigned time slot. Presentations must use slides. Your group is not allowed to scroll through your notebook during the presentation. All slides must be uploaded to https://drive.google.com/drive/folders/17r2EyxJYd40E7OAldljNb7QcjD_YikWh?usp=sharing.\n",
    "\n",
    "**Final Project Rubric:** The rubric for the Final Project can be found [here](https://docs.google.com/document/d/1LCjgJ_OTntaBKx6abFevrOupjzK2Iw0G/edit).\n",
    "\n",
    "**IMPORTANT NOTES:** \n",
    "- You are not limited to just one solution code cell, one prompt cell and one workflow cell for each question. Use as many of each as you like to ensure your notebook is presented well, easy-to-read, and has all the required plots and intermediate tables visible to show how you deduced that answer.\n",
    "- None of the questions are created in a way that will allow you to just give a one line answer. Remember, if your answer is just a one line answer, you are probably missing something.\n",
    "- Every group's answers may be different based on the approach you take for data analysis. Others may have visually presented it with a graph that may be different from yours, or filtered the table in a different way. That does not mean yours is wrong. We are looking for diversity in how information is displayed and there are more than one correct answers for each question.\n",
    "\n",
    "**Partners:** You will work with two or three other partners (total three or four in a group); your partners can be from any lab section. **Please sign-up with your partners on the [final project sign-up sheet](https://docs.google.com/spreadsheets/d/1mT-_lz-b4fx5X1Ma7wtxio_rpFeWxfBz/edit?usp=sharing&ouid=109499873917928324217&rtpof=true&sd=true) using your UCSB email by Monday, March 3, 2025 at 5:00pm PT.** If you have less than three people, please check the sheet on Tuesday, March 4, 2025 to see if you were assigned a random partner.\n",
    "\n",
    "**Rules:** Don't share your code with anybody but your partners. You are welcome to discuss questions with other students, but don't share the answers. The experience of solving the problems in this project will prepare you for exams (and life). If someone asks you for the answer, resist! Instead, you can demonstrate how you would solve a similar problem. Since the problems are open-ended, they can have various different answers. What is important is the approach you take to solve your task.\n",
    "\n",
    "**Support:** You are not alone! Come to office hours, post on Ed, and talk to your classmates. If you want to ask about the details of your solution to a problem, make a private Ed post and the staff will respond. If you're ever feeling overwhelmed or don't know how to make progress, please talk to your TA or ULA.\n",
    "\n",
    "**Advice:** Develop your answers incrementally. To perform a complicated table manipulation, break it up into steps, perform each step on a different line, give a new name to each result, and check that each intermediate result is what you expect. You can add any additional names or functions you want to the provided cells. Make sure that you are using distinct and meaningful variable names throughout the notebook. Along that line, **TRY NOT TO** reuse the variable names.\n",
    "\n",
    "You **never** have to use just one line in this project or any others. Use intermediate variables and multiple lines as much as you would like!"
   ]
  },
  {
   "cell_type": "markdown",
   "id": "c78c06c3-605d-4654-8c81-72103e96bc6f",
   "metadata": {},
   "source": [
    "## Liver Disorders Dataset"
   ]
  },
  {
   "cell_type": "markdown",
   "id": "819519cc-0f68-48fa-8be0-ab7e0fc79172",
   "metadata": {},
   "source": [
    "Death by liver cirrhosis continues to increase, given the increase in alcohol consumption rates, chronic hepatitis infections, and obesity-related liver disease. Notwithstanding the high mortality of this disease, liver diseases do not affect all sub-populations equally. The early detection of pathology is a determinant of patient outcomes. The dataset comprises 584 patient records collected from the NorthEast of Andhra Pradesh, India. \n",
    "* **Age**: Patient's age.\n",
    "* **Gender**: Patient's gender.\n",
    "* **Total Bilirubin (TB)**: The total amount of bilirubin in the blood, a yellow pigment produced by the breakdown of red blood cells.\n",
    "* **Direct Bilirubin (DB)**: The direct fraction of bilirubin, specifically associated with liver function.\n",
    "* **Total Proteins (TP)**: The total amount of proteins in the blood, including albumin and globulins.\n",
    "* **Albumin (ALB)**: A protein synthesized by the liver, crucial for maintaining blood volume and pressure.\n",
    "* **A/G Ratio**: The ratio of albumin to globulins, providing insights into liver and kidney function.\n",
    "* **SGPT (Serum Glutamic Pyruvic Transaminase)**: An enzyme indicating liver health; elevated levels may suggest liver damage.\n",
    "* **SGOT (Serum Glutamic Oxaloacetic Transaminase)**: Another liver enzyme reflecting liver function; elevated levels may indicate liver problems.\n",
    "* **Alkphos (Alkaline Phosphatase)**: An enzyme associated with the biliary system; elevated levels may indicate liver or bone issues.\n",
    "*  **Selector**: Class labels for healthy (*1*) vs diagnosed with liver desease (*2*) patients."
   ]
  },
  {
   "cell_type": "markdown",
   "id": "8bc965af-e5e8-4ff7-aad3-9be160bb78a5",
   "metadata": {},
   "source": [
    "Please refer to [Chapter 11: Hypothesis testing](https://inferentialthinking.com/chapters/11/Testing_Hypotheses.html) and [Chapter 12.1: A/B Testing](https://inferentialthinking.com/chapters/12/1/AB_Testing.html) when completing this final project as many of the questions use concepts covered there!"
   ]
  },
  {
   "cell_type": "code",
   "execution_count": null,
   "id": "fdeffad4-c7f0-4e73-b85d-3c7d52dba336",
   "metadata": {},
   "outputs": [],
   "source": [
    "# Read the dataset\n",
    "patients_uncleaned = Table.read_table(\"data/Indian Liver Patient Dataset (ILPD).csv\")\n",
    "\n",
    "# Display the first few rows of the table\n",
    "patients_uncleaned.show(10)"
   ]
  },
  {
   "cell_type": "markdown",
   "id": "4edbe877-1e0e-4363-878f-cc04a488f270",
   "metadata": {},
   "source": [
    "**Question 1.** As you you've already learned while working on your midterm project, real-world datasets do not always have complete information! Missing values (`nan`) can be spotted in the dataset that was provided. Let's do some data cleaning first and then understand what each of the columns means.\n",
    "\n",
    "There are many ways to work with missing or skewed data. For now, we will just choose to delete any rows that have missing information. Name the final table something meaningful - like `patients`. This will be the table we use to answer all the other questions.\n",
    "\n",
    "Hint: One way you can do this is by writing a function and then using the `apply()` function."
   ]
  },
  {
   "cell_type": "code",
   "execution_count": null,
   "id": "2c304fcf-f911-41d2-af9c-ba10c11380be",
   "metadata": {},
   "outputs": [],
   "source": [
    "# SOLUTION"
   ]
  },
  {
   "cell_type": "markdown",
   "id": "14de6f19-3584-44ec-adce-35fd02e7722e",
   "metadata": {},
   "source": [
    "### Enter prompt below:\n"
   ]
  },
  {
   "cell_type": "code",
   "execution_count": null,
   "id": "62f3c267-df0f-44a0-95a4-d0d449cfc10a",
   "metadata": {},
   "outputs": [],
   "source": [
    "%%ai openai-chat:gpt-4"
   ]
  },
  {
   "cell_type": "markdown",
   "id": "0755b1ed-233a-4b06-b25f-1bf780239a87",
   "metadata": {},
   "source": [
    "### Explain your answer below:\n",
    "\n",
    "*type your answer here*\n",
    "\n"
   ]
  },
  {
   "cell_type": "markdown",
   "id": "adac24a5-0988-44b6-9f5b-d0cb9895adc9",
   "metadata": {},
   "source": [
    "**Question 2.** Explore the relationship between the *Total Proteins* and *Albumin*. Is there a correlation between the total amount of proteins in the blood and albumin? Think about what kind of plots you can make to show a correlation between two columns? What do you infer from this plot?"
   ]
  },
  {
   "cell_type": "code",
   "execution_count": null,
   "id": "89e614e4-2965-4fa5-91ab-94fa7524cca9",
   "metadata": {},
   "outputs": [],
   "source": [
    "# SOLUTION"
   ]
  },
  {
   "cell_type": "markdown",
   "id": "00e232e5-b5eb-40f3-89d4-4eeb5a2c9958",
   "metadata": {},
   "source": [
    "### Enter prompt below:\n"
   ]
  },
  {
   "cell_type": "code",
   "execution_count": null,
   "id": "05886ae5-3c16-43c6-8f3a-311b1b712d44",
   "metadata": {},
   "outputs": [],
   "source": [
    "%%ai openai-chat:gpt-4"
   ]
  },
  {
   "cell_type": "markdown",
   "id": "0b0d1681-1510-42a1-bc28-90dd570c9120",
   "metadata": {},
   "source": [
    "### Explain your answer below:\n",
    "\n",
    "*type your answer here*\n",
    "\n"
   ]
  },
  {
   "cell_type": "markdown",
   "id": "d8dc4ebb-c6ed-4e69-a168-167d21a56bad",
   "metadata": {},
   "source": [
    "**Question 3.** Analyze the distribution of the ages of subjects in the dataset. Are most of the subjects young, old, or is there a uniform distribution across different ages?"
   ]
  },
  {
   "cell_type": "code",
   "execution_count": null,
   "id": "7d41f314-9665-4588-9576-8108afaf5dbc",
   "metadata": {},
   "outputs": [],
   "source": [
    "# SOLUTION"
   ]
  },
  {
   "cell_type": "markdown",
   "id": "2d99e145-049e-43ea-a2ff-d10b0f4ba9c1",
   "metadata": {},
   "source": [
    "### Enter prompt below:\n"
   ]
  },
  {
   "cell_type": "code",
   "execution_count": null,
   "id": "c842a000-5a36-456b-aa2c-f55d39746087",
   "metadata": {},
   "outputs": [],
   "source": [
    "%%ai openai-chat:gpt-4"
   ]
  },
  {
   "cell_type": "markdown",
   "id": "22d03c8a-2c65-4f21-b766-68af6afc200b",
   "metadata": {},
   "source": [
    "### Explain your answer below:\n",
    "\n",
    "*type your answer here*\n",
    "\n"
   ]
  },
  {
   "cell_type": "markdown",
   "id": "fd50a651-faed-4db4-9ebf-2f064536ce18",
   "metadata": {},
   "source": [
    "**Question 4.** What is the probability of a man under the age of 60 being diagnosed with liver disease? What about a woman under the same age? Visualize the two probabilities.\n"
   ]
  },
  {
   "cell_type": "code",
   "execution_count": null,
   "id": "83f87e1d-62cb-4e36-b498-12f97e11f645",
   "metadata": {},
   "outputs": [],
   "source": [
    "# SOLUTION "
   ]
  },
  {
   "cell_type": "markdown",
   "id": "293b37ea-eea8-4839-a4b3-5408d71a8708",
   "metadata": {},
   "source": [
    "### Enter prompt below:\n"
   ]
  },
  {
   "cell_type": "code",
   "execution_count": null,
   "id": "b41ca234-83c6-4809-9289-af737ed84d37",
   "metadata": {},
   "outputs": [],
   "source": [
    "%%ai openai-chat:gpt-4"
   ]
  },
  {
   "cell_type": "markdown",
   "id": "b9024949-22b7-4b77-859e-672322ee1c6e",
   "metadata": {},
   "source": [
    "### Explain your answer below:\n",
    "\n",
    "*type your answer here*\n",
    "\n"
   ]
  },
  {
   "cell_type": "markdown",
   "id": "ee5de9b7-2bd7-4f69-9c92-b888decbfba8",
   "metadata": {},
   "source": [
    "**Question 5.** Plot a graph that shows how the total amount of bilirubin (TB) in the blood changes with respect to the direct fraction of bilirubin (DB) for female subjects who suffer from liver cirrhosis. Is a high concentration of bilirubin in the blood associated with an elevated direct fraction of bilirubin?"
   ]
  },
  {
   "cell_type": "code",
   "execution_count": null,
   "id": "803a5603-51a2-4d99-9203-e1e5364a4a0e",
   "metadata": {},
   "outputs": [],
   "source": [
    "# SOLUTION"
   ]
  },
  {
   "cell_type": "markdown",
   "id": "dd1b89a2-fc5c-4b51-81af-93597caaa6c6",
   "metadata": {},
   "source": [
    "### Enter prompt below:\n"
   ]
  },
  {
   "cell_type": "code",
   "execution_count": null,
   "id": "1c35be2a-402a-458a-9227-19dc8aa4af9f",
   "metadata": {},
   "outputs": [],
   "source": [
    "%%ai openai-chat:gpt-4"
   ]
  },
  {
   "cell_type": "markdown",
   "id": "e036e59e-393a-41c6-b2fb-658c605a567f",
   "metadata": {},
   "source": [
    "### Explain your answer below:\n",
    "\n",
    "*type your answer here*\n",
    "\n"
   ]
  },
  {
   "cell_type": "markdown",
   "id": "43086de2-9989-40c0-9dbd-301e692628ff",
   "metadata": {},
   "source": [
    "**Question 6.** We will now perform a hypothesis test. A new study has recently been published saying liver cirrhosis is way more likely for men than it is for women. Evaluate the validity of this model based on your dataset. What could the null and alternate hypotheses be? Create a visualization to display the distribution of test statistic.\n",
    "\n",
    "*Hint*: Assume the prevalence of liver cirrhosis is the same for both men and women in the dataset, meaning that individual probabilities will not depend on various factors and can be derived directly from the patients' gender ratio."
   ]
  },
  {
   "cell_type": "code",
   "execution_count": null,
   "id": "392f3823-35b2-4bb1-899a-7fdfc7065f23",
   "metadata": {},
   "outputs": [],
   "source": [
    "# SOLUTION"
   ]
  },
  {
   "cell_type": "markdown",
   "id": "4125aedf-f515-4da0-9687-c6eb68386a05",
   "metadata": {},
   "source": [
    "### Enter prompt below:\n"
   ]
  },
  {
   "cell_type": "code",
   "execution_count": null,
   "id": "039ec4f5-c520-42d0-a096-0cd3991180e7",
   "metadata": {},
   "outputs": [],
   "source": [
    "%%ai openai-chat:gpt-4"
   ]
  },
  {
   "cell_type": "markdown",
   "id": "19c1388e-f065-45a6-a44b-095f4d1e9a59",
   "metadata": {},
   "source": [
    "### Explain your answer below:\n",
    "\n",
    "*type your answer here*\n",
    "\n"
   ]
  },
  {
   "cell_type": "markdown",
   "id": "2c0dcd8f-fc69-4b4d-90e3-ea3a8ae6c4a9",
   "metadata": {},
   "source": [
    "**Question 7.** Now use the information you have to conduct an A/B Test. Run simulations and use a p-value cutoff of 5% to determine if your observation is statistically significant"
   ]
  },
  {
   "cell_type": "code",
   "execution_count": null,
   "id": "cd7c746f-11d5-4512-966e-475538c28718",
   "metadata": {},
   "outputs": [],
   "source": [
    "# SOLUTION"
   ]
  },
  {
   "cell_type": "markdown",
   "id": "3735b64a-8bd6-4231-8981-e8c75ff1d1f7",
   "metadata": {},
   "source": [
    "### Enter prompt below:\n"
   ]
  },
  {
   "cell_type": "code",
   "execution_count": null,
   "id": "9e6940fe-3445-4a15-9cbc-7227bcd571da",
   "metadata": {},
   "outputs": [],
   "source": [
    "%%ai openai-chat:gpt-4"
   ]
  },
  {
   "cell_type": "markdown",
   "id": "38b36490-6af3-4dc6-9925-f1b4e75973d2",
   "metadata": {},
   "source": [
    "### Explain your answer below:\n",
    "\n",
    "*type your answer here*\n",
    "\n"
   ]
  },
  {
   "cell_type": "markdown",
   "id": "0e5986c6-380a-4458-98c5-b6f6c2e70561",
   "metadata": {},
   "source": [
    "**Question 8.** Now we aim to conduct a study to see whether the concentration of albumin is associated with liver cirrhosis in female subjects. You should evaluate your results by demonstrating a complete A/B testing analysis. State a conclusion from this test using a p-value cutoff of 5%."
   ]
  },
  {
   "cell_type": "code",
   "execution_count": null,
   "id": "ff970b08-dc54-4c1e-ae96-2cdc7b8befb6",
   "metadata": {},
   "outputs": [],
   "source": [
    "# SOLUTION"
   ]
  },
  {
   "cell_type": "markdown",
   "id": "60e68690-fad4-4d72-8df4-793231ef9bfb",
   "metadata": {},
   "source": [
    "### Enter prompt below:\n"
   ]
  },
  {
   "cell_type": "code",
   "execution_count": null,
   "id": "37605db3-d765-490a-804f-1a4273dac2b7",
   "metadata": {},
   "outputs": [],
   "source": [
    "%%ai openai-chat:gpt-4"
   ]
  },
  {
   "cell_type": "markdown",
   "id": "1f96c320-b02c-4a88-948c-39d23e05f025",
   "metadata": {},
   "source": [
    "### Explain your answer below:\n",
    "\n",
    "*type your answer here*\n",
    "\n"
   ]
  },
  {
   "cell_type": "markdown",
   "id": "5faa31ce-fd2e-4397-88d6-023fc6f53157",
   "metadata": {},
   "source": [
    "### Question 9 (Novel Analysis Part 1):"
   ]
  },
  {
   "cell_type": "markdown",
   "id": "ccc494d2-3063-48f1-9073-0b46c42343a7",
   "metadata": {},
   "source": [
    "**Question 9 (Novel Analysis Part 1):**\n",
    "\n",
    "Design your own A/B test! Choose one variable whose trends you would like to investigate, and create a new table with that variable's data for the years and states you would like to analyze. Remember to divide the overall table into two groups that you want to compare for the test, and conduct an A/B test investigating the differences between the two groups.\n",
    "\n",
    "Let's begin the process.\n",
    "\n",
    "a) Define null and alternate hypotheses.\n",
    "\n",
    "b) Plot the observed distribution of the variable you will be observing\n",
    "\n",
    "c) State your test statistic value and what it means in the context of the problem."
   ]
  },
  {
   "cell_type": "code",
   "execution_count": null,
   "id": "93c48488-5aff-45b8-b9b4-6db70895ade9",
   "metadata": {},
   "outputs": [],
   "source": [
    "# SOLUTION"
   ]
  },
  {
   "cell_type": "markdown",
   "id": "f70b1434-c9ac-42ab-8d41-3bede8b0d652",
   "metadata": {},
   "source": [
    "### Enter prompt below:\n"
   ]
  },
  {
   "cell_type": "code",
   "execution_count": null,
   "id": "1fe27a37-fae3-4cf7-9557-48eba90ae3bf",
   "metadata": {},
   "outputs": [],
   "source": [
    "%%ai openai-chat:gpt-4"
   ]
  },
  {
   "cell_type": "markdown",
   "id": "29c8e959-b883-491f-bfb9-9666100398cb",
   "metadata": {},
   "source": [
    "### Explain your answer below:\n",
    "\n",
    "*type your answer here*\n",
    "\n"
   ]
  },
  {
   "cell_type": "markdown",
   "id": "3156ddcf-d17c-40a0-a17d-368c5d366a3a",
   "metadata": {},
   "source": [
    "### Question 10 (Novel Analysis Part 2):"
   ]
  },
  {
   "cell_type": "markdown",
   "id": "4ece1388-3f63-4400-8823-29598a7c6d0d",
   "metadata": {},
   "source": [
    "Continue the A/B Test from Question 9!\n",
    "\n",
    "\n",
    "a) Simulate the test statistic under the null hypothesis and visualize the results.\n",
    "\n",
    "b) Select a significance level for your test and state the conclusion of the hypothesis test."
   ]
  },
  {
   "cell_type": "code",
   "execution_count": null,
   "id": "3bf0b7c4-bd07-431c-8fd9-c7da631b7962",
   "metadata": {},
   "outputs": [],
   "source": [
    "# SOLUTION "
   ]
  },
  {
   "cell_type": "markdown",
   "id": "0ca24526-8ac5-49a1-b0df-3c3cbad99d9c",
   "metadata": {},
   "source": [
    "### Enter prompt below:\n"
   ]
  },
  {
   "cell_type": "code",
   "execution_count": null,
   "id": "2702c96c-aa75-4a10-9ef8-b756701a5a64",
   "metadata": {},
   "outputs": [],
   "source": [
    "%%ai openai-chat:gpt-4"
   ]
  },
  {
   "cell_type": "markdown",
   "id": "142fecb4-11b2-403a-b170-323a40b624a6",
   "metadata": {},
   "source": [
    "### Explain your answer below:\n",
    "\n",
    "*type your answer here*\n",
    "\n"
   ]
  }
 ],
 "metadata": {
  "kernelspec": {
   "display_name": "Python 3 (ipykernel)",
   "language": "python",
   "name": "python3"
  },
  "language_info": {
   "codemirror_mode": {
    "name": "ipython",
    "version": 3
   },
   "file_extension": ".py",
   "mimetype": "text/x-python",
   "name": "python",
   "nbconvert_exporter": "python",
   "pygments_lexer": "ipython3",
   "version": "3.12.3"
  }
 },
 "nbformat": 4,
 "nbformat_minor": 5
}
