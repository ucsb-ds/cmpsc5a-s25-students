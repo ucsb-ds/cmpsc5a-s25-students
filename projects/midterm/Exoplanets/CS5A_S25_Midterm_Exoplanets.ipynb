{
  "nbformat": 4,
  "nbformat_minor": 0,
  "metadata": {
    "colab": {
      "provenance": []
    },
    "kernelspec": {
      "name": "python3",
      "display_name": "Python 3"
    },
    "language_info": {
      "name": "python"
    }
  },
  "cells": [
    {
      "cell_type": "code",
      "source": [
        "# Run this cell once when starting on notebook.\n",
        "# On Google Colab, wait for the Google Drive permission prompts before proceeding\n",
        "import matplotlib.pyplot as plt\n",
        "%matplotlib inline\n",
        "import os\n",
        "import sys\n",
        "try:\n",
        "    %load_ext jupyter_ai_magics\n",
        "except:\n",
        "    print(\"%%ai cells will not work in this notebook\")\n",
        "    print(\"Please use Gemini for AI queries instead\")\n",
        "from datascience import *\n",
        "import numpy as np\n",
        "import math\n",
        "\n",
        "DATA_FILENAME=\"data/PSCompPars.csv\"\n",
        "try:\n",
        "  from google.colab import drive\n",
        "  drive.mount('/content/drive', force_remount=True)\n",
        "  !mkdir -p /content/data\n",
        "  !gdown --fuzzy https://drive.google.com/file/d/1oiOoEkLxWiTb8jnighU2PQ6I-IWGV-Ch/view?usp=drive_link -O /content/data/PSCompPars.csv\n",
        "  DATA_FILENAME = DATA_FILENAME.replace(\"data\", \"/content/data/\")\n",
        "  !ls -l /content/data\n",
        "except:\n",
        "  print(\"Google Drive not mounted; this is normal on Jupyter Hub\")\n"
      ],
      "metadata": {
        "id": "iNtXqjFfN82R"
      },
      "execution_count": null,
      "outputs": []
    },
    {
      "cell_type": "markdown",
      "source": [
        "# CS5A S25 Midterm Project: Exoplanets\n",
        "\n",
        "* Please refer to the general instructions in [this document](https://docs.google.com/document/d/1gYMuXukOTtJkEthxUeHmWuA1Qn9BtIYkSJa37Gb524E/edit?usp=sharing) before starting.\n",
        "* You may work on either JupyterHub or Google Colab\n",
        "* The Google Colab version is [this folder](https://drive.google.com/drive/folders/1r6v3k0fO5rGgLqPiDkfA71TB_hWkjKpK?usp=drive_link); you should make a copy of the notebook in your[ group folder for the midterm team project](https://docs.google.com/spreadsheets/d/1oLPWP0j1jvx7eLq7kcQc15PiSDUwjlnZAolUVSHWBOQ/edit?usp=sharing) before starting to make edits.\n",
        "\n",
        "\n",
        "\n",
        "\n"
      ],
      "metadata": {
        "id": "bUr3oeqXbQta"
      }
    },
    {
      "cell_type": "markdown",
      "metadata": {
        "id": "fb628b80-9a09-4416-aa52-8091e651e658"
      },
      "source": [
        "## Names\n",
        "\n",
        "Please list all students that were a member of this team\n",
        "\n",
        "1. Student Name 1\n",
        "2. Student Name 2\n",
        "3. Student Name 3\n",
        "4. Student Name 4"
      ]
    },
    {
      "cell_type": "markdown",
      "source": [],
      "metadata": {
        "id": "8w9XkJutPZCK"
      }
    },
    {
      "cell_type": "markdown",
      "metadata": {
        "id": "b16c7130"
      },
      "source": [
        "## Member Responsibilities\n"
      ]
    },
    {
      "cell_type": "markdown",
      "metadata": {
        "id": "f2ca30bb"
      },
      "source": [
        "*Write your team member responsibility distribution here* (See [instructions](https://docs.google.com/document/d/1gYMuXukOTtJkEthxUeHmWuA1Qn9BtIYkSJa37Gb524E/edit?tab=t.0#bookmark=id.igbdergm85kj))"
      ]
    },
    {
      "cell_type": "markdown",
      "metadata": {
        "id": "337bbcd3-d114-404c-a50b-3522706ce3ba"
      },
      "source": [
        "## NASA Exoplanet Science Institute's Planetary Systems Composite Planet Dataset"
      ]
    },
    {
      "cell_type": "markdown",
      "metadata": {
        "id": "051bc5a3-21a9-4761-8184-a07d612402a8"
      },
      "source": [
        "The Planetary Systems Composite Parameters Planet Data table is an extensive collection of data regarding known [Confirmed Exoplanets](https://exoplanetarchive.ipac.caltech.edu/docs/exoplanet_criteria.html). It includes a range of parameters related to the planetary systems, stars, and the planets themselves. The primary goal of this table is to offer a comprehensive statistical perspective on the population of known exoplanets and their respective hosting environments.\n",
        "\n",
        "Managed by the NASA Exoplanet Archive, this resource compiles a variety of parameters that have been documented in peer-reviewed scientific literature. The Planetary Systems Table presents this data in a unified format, where each exoplanet's information is consolidated into a single row. This row encompasses a complete set of parameters, incorporating details about the planet, its star, and the overall system, with each reference providing a unique row in the table."
      ]
    },
    {
      "cell_type": "markdown",
      "metadata": {
        "id": "59d3a183-2b49-4f47-87fd-e3cd592c38cd"
      },
      "source": [
        "The NASA Exoplanet Archive has adopted a policy of including and classifying all objects as planetary that meet the following criteria:\n",
        "\n",
        "- The mass (or minimum mass) is equal to or less than 30 Jupiter masses.\n",
        "- The planet is not free floating.\n",
        "- Sufficient follow-up observations and validation have been undertaken to deem the possibility of the object being a false positive as unlikely.\n",
        "- The above information, along with further orbital and/or physical properties, are available in peer-reviewed publications.\n",
        "- The results must be peer reviewed and be accepted for publication in the astrophysical literature.\n"
      ]
    },
    {
      "cell_type": "code",
      "execution_count": null,
      "metadata": {
        "id": "89ba795d-9945-4d1d-9002-9760fffca714"
      },
      "outputs": [],
      "source": [
        "# Read the dataset\n",
        "planets_uncleaned = Table.read_table(DATA_FILENAME)\n",
        "\n",
        "# Display the first few rows of the table\n",
        "planets_uncleaned.show(15)"
      ]
    },
    {
      "cell_type": "markdown",
      "metadata": {
        "id": "8771092a-6b60-4339-a4cd-753e0e075159"
      },
      "source": [
        "**Question 1.** Real-world datasets do not always have complete information! If you observe some of the rows above, you will find a `nan` (Not a Number). `nan` values are **NOT** strings. They are of type `None` (another kind of data type). These are missing values that can cause issues if we try to use their corresponding rows to do any kind of arithmetic. Let's do some data cleaning first and then understand what each of the columns mean.\n",
        "\n",
        "There are many ways to work with missing or skewed data. For now, we will just choose to delete any rows thats that have missing information. Name the final table something meaningful - like `planets`. This will be the table we use to answer all the other questions.\n",
        "\n",
        "Hint: One way you can do this is by writing a function and then using the apply() function.\n",
        "\n",
        "Hint: In Python, `nan` is equal to *nothing*, not even itself. So, to check if a variable x is `nan`, you can test x != x."
      ]
    },
    {
      "cell_type": "code",
      "execution_count": null,
      "metadata": {
        "id": "241957dd-8ba7-4644-b534-62e33b3468f9"
      },
      "outputs": [],
      "source": [
        "# SOLUTION"
      ]
    },
    {
      "cell_type": "markdown",
      "metadata": {
        "id": "d1ed2412-f9cc-42d0-b7fc-bac3bfcc8093"
      },
      "source": [
        "#### Enter prompt below"
      ]
    },
    {
      "cell_type": "code",
      "execution_count": null,
      "metadata": {
        "id": "c09082ce-20c9-487e-8cac-ab8fa95d1aa2"
      },
      "outputs": [],
      "source": [
        "%%ai openai-chat:gpt-4"
      ]
    },
    {
      "cell_type": "code",
      "source": [],
      "metadata": {
        "id": "te-lkvQ0RwEt"
      },
      "execution_count": null,
      "outputs": []
    },
    {
      "cell_type": "markdown",
      "metadata": {
        "id": "b6db3487-4795-4b12-be0d-cb3a927ff319"
      },
      "source": [
        "#### Explain your workflow below:"
      ]
    },
    {
      "cell_type": "markdown",
      "metadata": {
        "id": "4f4986cb-7467-4445-89af-0e349579035e"
      },
      "source": [
        "*type your answer here*"
      ]
    },
    {
      "cell_type": "markdown",
      "metadata": {
        "id": "dcc66088-609f-424e-9afc-2a0cdc9f67e3"
      },
      "source": [
        "Check that all the rows that had `nan` are now deleted.\n",
        "\n",
        "We now have the final dataset that we will work with."
      ]
    },
    {
      "cell_type": "markdown",
      "metadata": {
        "id": "9ece1405-da4c-43be-b675-c0f0f788cfdb"
      },
      "source": [
        "The column names don't make too much sense right now. We should relabel them before we start working on the data for it to make more sense for us and anyone looking through our data analysis. Given below is a list of what the existing column names correspond to:\n",
        "\n",
        "- pl_name: Planet Name\n",
        "- sy_snum: Number of Stars\n",
        "- sy_pnum: Number of Planets\n",
        "- discoverymethod: Discovery Method\n",
        "- disc_year: Discovery Year\n",
        "- disc_facility: Discovery Facility\n",
        "- pl_orbper: Orbital Period (days)\n",
        "- pl_orbsmax: Orbit Semi-Major Axis\n",
        "- pl_rade: Planet Radius (Earth Radius)\n",
        "- pl_bmasse: Planet Mass (Earth Mass)\n",
        "- st_age: Stellar Age (gigayear)\n",
        "- sy_dist: Distance (parsec)\n",
        "\n",
        "You should also read up about what each of these columns mean and in what units they are measured: https://exoplanetarchive.ipac.caltech.edu/docs/API_PS_columns.html\n",
        "\n",
        "**UNCOMMENT AND COMPLETE THE CODE WRITTEN BELOW. ADD YOUR TABLE NAME IN PLACE OF THE <>.**"
      ]
    },
    {
      "cell_type": "code",
      "execution_count": null,
      "metadata": {
        "id": "9e75323c-a6b8-4842-b392-9bcc5620f134"
      },
      "outputs": [],
      "source": [
        "#<TABLE_NAME> = <TABLE_NAME>.relabeled('pl_name', 'Planet Name').relabeled('sy_snum', 'Number of Stars').relabeled('sy_pnum', 'Number of Planets').relabeled('discoverymethod', 'Discovery Method').relabeled('disc_year', 'Discovery Year').relabeled('disc_facility', 'Discovery Facility').relabeled('pl_orbper', 'Orbital Period (days)').relabeled('pl_orbsmax', 'Orbit Semi-Major Axis').relabeled('pl_rade', 'Planet Radius (Earth Radius)').relabeled('pl_bmasse', 'Planet Mass (Earth Mass)').relabeled('st_age', 'Stellar Age (gigayear)').relabeled('sy_dist', 'Distance (parsec)')\n",
        "#<TABLE_NAME>"
      ]
    },
    {
      "cell_type": "markdown",
      "metadata": {
        "id": "300cbe26-5678-4c70-b59e-c272438cb137"
      },
      "source": [
        "We are now ready to perform some Exploratory Data Analysis (EDA)!\n",
        "\n",
        "All the questions are open-ended and you have the freedom to present as much information as you think will make a case for your arguments. You are also free to add columns if it will aid in presenting your results. Try to be as clear with any correlations you make. Use as many markdown or code cells as you need to explain your analysis in depth."
      ]
    },
    {
      "cell_type": "markdown",
      "metadata": {
        "id": "8424a1d9-7d67-4523-9ede-5c112e1f4795"
      },
      "source": [
        "**Question 2.** Explore the relationship between the Planet Mass and its Orbital Semi-Major Axis. Is there a correlation between the distance of a planet from its star and its mass? Think about what kind of plots you can make to show a correlation between two columns? What do you infer from this plot?"
      ]
    },
    {
      "cell_type": "code",
      "execution_count": null,
      "metadata": {
        "id": "f89e0b7b-a68c-4067-bbe9-397ab0ab918f"
      },
      "outputs": [],
      "source": [
        "# SOLUTION"
      ]
    },
    {
      "cell_type": "markdown",
      "metadata": {
        "id": "ba71933c-8900-4e66-974f-35e3b5f6c7fa"
      },
      "source": [
        "#### Enter prompt below:"
      ]
    },
    {
      "cell_type": "code",
      "execution_count": null,
      "metadata": {
        "id": "6375b8dc-7321-4b8c-ba36-223649b11de3"
      },
      "outputs": [],
      "source": [
        "%%ai openai-chat:gpt-4"
      ]
    },
    {
      "cell_type": "code",
      "source": [],
      "metadata": {
        "id": "O7YzRVaIR2Vn"
      },
      "execution_count": null,
      "outputs": []
    },
    {
      "cell_type": "markdown",
      "metadata": {
        "id": "88ca411d-1ded-486a-8c79-c9b0f5c61d92"
      },
      "source": [
        "#### Explain your workflow below:"
      ]
    },
    {
      "cell_type": "markdown",
      "metadata": {
        "id": "cc93998e-f810-4117-ba39-71d65cbb2668"
      },
      "source": [
        "*type your answer here*"
      ]
    },
    {
      "cell_type": "markdown",
      "metadata": {
        "id": "525e04d4-0fd6-4bee-a319-a338b95637cd"
      },
      "source": [
        "**Question 3.** How has the discovery of planets evolved over time? Are there trends in the number of planets discovered each year, the methods used, or the types of planets discovered (e.g., comparing the radius or mass)?"
      ]
    },
    {
      "cell_type": "code",
      "execution_count": null,
      "metadata": {
        "id": "29602b46-56d1-456d-b019-1050b6f9b6e4"
      },
      "outputs": [],
      "source": [
        "# SOLUTION"
      ]
    },
    {
      "cell_type": "markdown",
      "metadata": {
        "id": "a310607a-ae93-4268-af37-a18150076753"
      },
      "source": [
        "#### Enter prompt below:"
      ]
    },
    {
      "cell_type": "code",
      "execution_count": null,
      "metadata": {
        "id": "d2d831f5-ebb4-4bac-9446-fde00f17d7e9"
      },
      "outputs": [],
      "source": [
        "%%ai openai-chat:gpt-4"
      ]
    },
    {
      "cell_type": "code",
      "source": [],
      "metadata": {
        "id": "C6mUUqY8R3DF"
      },
      "execution_count": null,
      "outputs": []
    },
    {
      "cell_type": "markdown",
      "metadata": {
        "id": "dfb890a2-4aab-4f9c-9fd2-47348fbce0ab"
      },
      "source": [
        "#### Explain your workflow below:"
      ]
    },
    {
      "cell_type": "markdown",
      "metadata": {
        "id": "4c7f7bf7-4199-4d0c-9f8e-fded6f9054d8"
      },
      "source": [
        "*type your answer here*"
      ]
    },
    {
      "cell_type": "markdown",
      "metadata": {
        "id": "08596284-ef92-469a-8545-ed1861018702"
      },
      "source": [
        "**Question 4.** Analyze the distribution of the ages of stars in the dataset. Are most of the stars young, old, or is there a uniform distribution across different ages?"
      ]
    },
    {
      "cell_type": "code",
      "execution_count": null,
      "metadata": {
        "id": "42f55e47-ac5f-45df-90c8-35622e0a298b"
      },
      "outputs": [],
      "source": [
        "# SOLUTION"
      ]
    },
    {
      "cell_type": "markdown",
      "metadata": {
        "id": "b57d970e-b0b8-4ed3-b719-6f83f86dbcd7"
      },
      "source": [
        "#### Enter prompt below:"
      ]
    },
    {
      "cell_type": "code",
      "execution_count": null,
      "metadata": {
        "id": "4f37f3e0-2d7b-4608-bf59-ef151b0fffc1"
      },
      "outputs": [],
      "source": [
        "%%ai openai-chat:gpt-4"
      ]
    },
    {
      "cell_type": "code",
      "source": [],
      "metadata": {
        "id": "R9uEcC7xR4Dx"
      },
      "execution_count": null,
      "outputs": []
    },
    {
      "cell_type": "markdown",
      "metadata": {
        "id": "45a951ca-8490-4069-ac81-520427a1d17e"
      },
      "source": [
        "#### Explain your workflow below:"
      ]
    },
    {
      "cell_type": "markdown",
      "metadata": {
        "id": "1f9106fe-b0ee-4824-a694-47b63da8ab3a"
      },
      "source": [
        "*type your answer here*"
      ]
    },
    {
      "cell_type": "markdown",
      "metadata": {
        "id": "2e381a83-0203-4e6e-8bef-f6817d5b6ceb"
      },
      "source": [
        "**Question 5.** Plot a line graph that shows how the average or median distance of discovered planets from Earth (sy_dist) has changed over the years (disc_year). Are we finding more distant planets as time goes on?"
      ]
    },
    {
      "cell_type": "code",
      "execution_count": null,
      "metadata": {
        "id": "47b4a3fc-3da7-41f2-9850-fc73f285c267"
      },
      "outputs": [],
      "source": [
        "# SOLUTION"
      ]
    },
    {
      "cell_type": "markdown",
      "metadata": {
        "id": "8fe7559a-99c5-4215-9e1e-acbe7d96f9bc"
      },
      "source": [
        "#### Enter prompt below:"
      ]
    },
    {
      "cell_type": "code",
      "execution_count": null,
      "metadata": {
        "id": "ef15824e-dc3b-453e-be20-e48545aea8bf"
      },
      "outputs": [],
      "source": [
        "%%ai openai-chat:gpt-4"
      ]
    },
    {
      "cell_type": "code",
      "source": [],
      "metadata": {
        "id": "U-Y8pwd_R44Q"
      },
      "execution_count": null,
      "outputs": []
    },
    {
      "cell_type": "markdown",
      "metadata": {
        "id": "4df58429-fd7f-4736-961e-ea3f1a1a79bc"
      },
      "source": [
        "#### Explain your workflow below:"
      ]
    },
    {
      "cell_type": "markdown",
      "metadata": {
        "id": "dce36c61-e03f-47e2-8d39-f657e591ae9b"
      },
      "source": [
        "*type your answer here*"
      ]
    },
    {
      "cell_type": "markdown",
      "metadata": {
        "id": "c95702fd-10a0-46cf-b4aa-18f33ce77479"
      },
      "source": [
        "**Question 6.** Investigate the occurrence rate of multi-planet systems (planetary systems with more than one planet) in the context of stellar age. Are younger or older stars more likely to host multiple planets?"
      ]
    },
    {
      "cell_type": "code",
      "execution_count": null,
      "metadata": {
        "id": "71ca798e-465b-49ae-9cd4-8890349ca53a"
      },
      "outputs": [],
      "source": [
        "# SOLUTION"
      ]
    },
    {
      "cell_type": "markdown",
      "metadata": {
        "id": "9115c184-016c-412d-9c47-0c12518ccc02"
      },
      "source": [
        "#### Enter prompt below:"
      ]
    },
    {
      "cell_type": "code",
      "execution_count": null,
      "metadata": {
        "id": "87c8d7f7-6494-49e7-b2cf-5bded755097b"
      },
      "outputs": [],
      "source": [
        "%%ai openai-chat:gpt-4"
      ]
    },
    {
      "cell_type": "code",
      "source": [],
      "metadata": {
        "id": "wAtDdFcHR6CH"
      },
      "execution_count": null,
      "outputs": []
    },
    {
      "cell_type": "markdown",
      "metadata": {
        "id": "321958db-ac82-4fc3-aa5c-08604b95650f"
      },
      "source": [
        "#### Explain your workflow below:"
      ]
    },
    {
      "cell_type": "markdown",
      "metadata": {
        "id": "c4e29286-34c4-4b70-9899-523d7b11a818"
      },
      "source": [
        "*type your answer here*"
      ]
    },
    {
      "cell_type": "markdown",
      "metadata": {
        "id": "70da3377-9c35-4ec5-8934-5f5bf5b476ab"
      },
      "source": [
        "**Question 7.** Compare the discovery methods used for the planets in the dataset. Which methods have been the most successful in terms of number of planets discovered? Are certain types of planets (e.g., Planet Radius or Planet Mass) more likely to be discovered by one method over another?\n",
        "\n",
        "Hint: To answer this question consider placing the values of your choice (for example: Planet Radius) into buckets/bins with a given range. How would you make these buckets? Take the minimum and maximum values of size and divide it into equal buckets. Now that you have these buckets, what type of visualization would be appropriate? How many visualizations would be appropriate to make your case? As many as the number of unique values in 'Discovery Method'.\n",
        "\n",
        "You are free to use anything apart from Planet Radius as well, if you think there could be some correlation between that column and Discovery Method."
      ]
    },
    {
      "cell_type": "code",
      "execution_count": null,
      "metadata": {
        "id": "5e29623a-0ff4-4afe-9dd2-d80871c15373"
      },
      "outputs": [],
      "source": [
        "# SOLUTION"
      ]
    },
    {
      "cell_type": "markdown",
      "metadata": {
        "id": "427c2baa-77a2-45d1-b7df-351cf2a828ed"
      },
      "source": [
        "#### Enter prompt below:"
      ]
    },
    {
      "cell_type": "code",
      "execution_count": null,
      "metadata": {
        "id": "c037b9a1-4127-4838-a34e-a8254b9685e9"
      },
      "outputs": [],
      "source": [
        "%%ai openai-chat:gpt-4"
      ]
    },
    {
      "cell_type": "code",
      "source": [],
      "metadata": {
        "id": "okhBWp2BR8xa"
      },
      "execution_count": null,
      "outputs": []
    },
    {
      "cell_type": "markdown",
      "metadata": {
        "id": "34125b31-42f6-4dab-87b5-87e4b0983e6f"
      },
      "source": [
        "#### Explain your workflow below:"
      ]
    },
    {
      "cell_type": "markdown",
      "metadata": {
        "id": "97fe8b72-dbbc-4d0b-b9f8-bcb6ab55b8dd"
      },
      "source": [
        "*type your answer here*"
      ]
    },
    {
      "cell_type": "markdown",
      "metadata": {
        "id": "b835b58a-d54c-4a74-95b5-b6ecd1bcc79e"
      },
      "source": [
        "**Question 8.** Examine if there is any geographical pattern to where planets are discovered based on the location of the discovery facility. Is there a predominance of discoveries in certain parts of the world, and if so, what might be contributing factors (e.g., technological advancement, number of observatories, geographical reasons)? Note: You will need to look up the locations of the top observatories."
      ]
    },
    {
      "cell_type": "code",
      "execution_count": null,
      "metadata": {
        "id": "22cba652-d3a9-4a29-812b-268587fe1817"
      },
      "outputs": [],
      "source": [
        "# SOLUTION"
      ]
    },
    {
      "cell_type": "markdown",
      "metadata": {
        "id": "da49bbfd-1401-4f92-8b55-0a2e6a7b06e7"
      },
      "source": [
        "#### Enter prompt below:"
      ]
    },
    {
      "cell_type": "code",
      "execution_count": null,
      "metadata": {
        "id": "b18f5a77-03cb-4767-b0b9-5605569aaaf3"
      },
      "outputs": [],
      "source": [
        "%%ai openai-chat:gpt-4"
      ]
    },
    {
      "cell_type": "code",
      "source": [],
      "metadata": {
        "id": "kPcbms31R8Cx"
      },
      "execution_count": null,
      "outputs": []
    },
    {
      "cell_type": "markdown",
      "metadata": {
        "id": "ed747476-586e-4253-a713-cc09c4b404ff"
      },
      "source": [
        "#### Explain your workflow below:"
      ]
    },
    {
      "cell_type": "markdown",
      "metadata": {
        "id": "55addc0d-be31-46e2-a361-ac4343d3a58f"
      },
      "source": [
        "*type your answer here*"
      ]
    },
    {
      "cell_type": "markdown",
      "metadata": {
        "id": "f5e88686-830a-49bf-abf9-aa546206ca82"
      },
      "source": [
        "## Novel analysis\n",
        "For the last section of your midterm project, you are expected to think like a data scientist. Formulate **TWO** unique questions/problems/insights that you can solve or obtain from the dataset given to you. **You need to come up with the problem and present the solution in the notebook**. The problems you come up with will be graded on novelty and the work necessary to obtain them. **DO NOT** reuse problems that are already covered in the midterm or those that could be solved or visualized with a single line of code."
      ]
    },
    {
      "cell_type": "markdown",
      "metadata": {
        "id": "8a4a633b-1ba5-4a93-b122-b8f2beb7ad73"
      },
      "source": [
        "**Question 9. *Type your question here***"
      ]
    },
    {
      "cell_type": "code",
      "execution_count": null,
      "metadata": {
        "id": "1775708b-f272-4b73-8158-de0e9bf20148"
      },
      "outputs": [],
      "source": [
        "# SOLUTION"
      ]
    },
    {
      "cell_type": "markdown",
      "metadata": {
        "id": "bb6722d9-41ce-4cc6-89db-fc2d7081a802"
      },
      "source": [
        "#### Enter prompt below:"
      ]
    },
    {
      "cell_type": "code",
      "execution_count": null,
      "metadata": {
        "id": "07eb1236-f4c9-4e8f-964b-ea558c9ff0b8"
      },
      "outputs": [],
      "source": [
        "%%ai openai-chat:gpt-4"
      ]
    },
    {
      "cell_type": "code",
      "source": [],
      "metadata": {
        "id": "Wu08FsY9R_Js"
      },
      "execution_count": null,
      "outputs": []
    },
    {
      "cell_type": "markdown",
      "metadata": {
        "id": "1b221292-c76a-4d56-bcd3-144d5d61c080"
      },
      "source": [
        "#### Explain your workflow below:"
      ]
    },
    {
      "cell_type": "markdown",
      "metadata": {
        "id": "1eb6423c-dc50-48f4-992c-aac74b1402f6"
      },
      "source": [
        "*type your answer here*"
      ]
    },
    {
      "cell_type": "markdown",
      "metadata": {
        "id": "4a01aedd-54a3-4cc8-9bb8-87cbe81fdd26"
      },
      "source": [
        "**Question 10. *Type your question here***"
      ]
    },
    {
      "cell_type": "code",
      "execution_count": null,
      "metadata": {
        "id": "47cd5454-abfe-4d26-a860-d380a46ef0f0"
      },
      "outputs": [],
      "source": [
        "# SOLUTION"
      ]
    },
    {
      "cell_type": "markdown",
      "metadata": {
        "id": "bd889d54-2433-43b8-a39d-4d02c73c4406"
      },
      "source": [
        "#### Enter prompt below:"
      ]
    },
    {
      "cell_type": "code",
      "execution_count": null,
      "metadata": {
        "id": "9ba8b9ce-de23-4833-b77e-ec73825647e5"
      },
      "outputs": [],
      "source": [
        "%%ai openai-chat:gpt-4"
      ]
    },
    {
      "cell_type": "code",
      "source": [],
      "metadata": {
        "id": "DztNHvDpR_vo"
      },
      "execution_count": null,
      "outputs": []
    },
    {
      "cell_type": "markdown",
      "metadata": {
        "id": "dd3370b4-8da5-42db-bf11-c245ce9ada81"
      },
      "source": [
        "#### Explain your workflow below:"
      ]
    },
    {
      "cell_type": "markdown",
      "metadata": {
        "id": "caa67b1f-d184-49b3-9636-5f62f0aa3b30"
      },
      "source": [
        "*type your answer here*"
      ]
    },
    {
      "cell_type": "markdown",
      "metadata": {
        "id": "d7ee0214-9c6c-4c3e-ac22-d325abecf431"
      },
      "source": [
        "# Deadine and Submission\n",
        "\n",
        "References these links\n",
        "\n",
        "* [Deadlines](https://docs.google.com/document/d/1gYMuXukOTtJkEthxUeHmWuA1Qn9BtIYkSJa37Gb524E/edit?tab=t.0#bookmark=id.fqop8bpqcnvf)\n",
        "* [Submission Instructions](https://docs.google.com/document/d/1gYMuXukOTtJkEthxUeHmWuA1Qn9BtIYkSJa37Gb524E/edit?tab=t.0#bookmark=id.vsf44v7st0t)\n"
      ]
    },
    {
      "cell_type": "code",
      "execution_count": null,
      "metadata": {
        "id": "fd4970c6-4b1c-4512-aa7e-886536c85109"
      },
      "outputs": [],
      "source": []
    }
  ]
}