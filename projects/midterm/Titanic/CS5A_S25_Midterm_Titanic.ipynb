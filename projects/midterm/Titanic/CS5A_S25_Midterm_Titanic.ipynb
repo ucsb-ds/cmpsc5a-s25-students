{
  "nbformat": 4,
  "nbformat_minor": 0,
  "metadata": {
    "colab": {
      "provenance": []
    },
    "kernelspec": {
      "name": "python3",
      "display_name": "Python 3"
    },
    "language_info": {
      "name": "python"
    }
  },
  "cells": [
    {
      "cell_type": "code",
      "execution_count": null,
      "metadata": {
        "id": "3AlQg2F-Zrye"
      },
      "outputs": [],
      "source": [
        "# Run this cell once when starting on notebook.\n",
        "# On Google Colab, wait for the Google Drive permission prompts before proceeding\n",
        "import matplotlib.pyplot as plt\n",
        "%matplotlib inline\n",
        "import os\n",
        "import sys\n",
        "try:\n",
        "    %load_ext jupyter_ai_magics\n",
        "except:\n",
        "    print(\"%%ai cells will not work in this notebook\")\n",
        "    print(\"Please use Gemini for AI queries instead\")\n",
        "from datascience import *\n",
        "import numpy as np\n",
        "import math\n",
        "\n",
        "DATA_FILENAME=\"data/titanic.csv\"\n",
        "try:\n",
        "  from google.colab import drive\n",
        "  drive.mount('/content/drive', force_remount=True)\n",
        "  !mkdir -p /content/data\n",
        "  !gdown --fuzzy https://drive.google.com/file/d/1ZOLRWMYK6XVLY8E8xdvzysyRbCkcoMve/view?usp=sharing -O /content/data/titanic.csv\n",
        "  DATA_FILENAME = DATA_FILENAME.replace(\"data/\", \"/content/data/\")\n",
        "  !ls -l /content/data\n",
        "except:\n",
        "  print(\"Google Drive not mounted; this is normal on Jupyter Hub\")\n"
      ]
    },
    {
      "cell_type": "code",
      "source": [],
      "metadata": {
        "id": "uPlajYpFaMbA"
      },
      "execution_count": null,
      "outputs": []
    },
    {
      "cell_type": "markdown",
      "metadata": {
        "id": "f65e3e59-90ad-450e-8a9b-9b66066bb331"
      },
      "source": [
        "## CS5A S25 Midterm Project: Exoplanets\n",
        "\n",
        "* Please refer to the general instructions in [this document](https://docs.google.com/document/d/1gYMuXukOTtJkEthxUeHmWuA1Qn9BtIYkSJa37Gb524E/edit?usp=sharing) before starting.\n",
        "* You may work on either JupyterHub or Google Colab\n",
        "* The Google Colab version is [this folder](https://drive.google.com/drive/folders/1r6v3k0fO5rGgLqPiDkfA71TB_hWkjKpK?usp=drive_link); you should make a copy of the notebook in your[ group folder for the midterm team project](https://docs.google.com/spreadsheets/d/1oLPWP0j1jvx7eLq7kcQc15PiSDUwjlnZAolUVSHWBOQ/edit?usp=sharing) before starting to make edits.\n",
        "\n",
        "\n",
        "\n"
      ]
    },
    {
      "cell_type": "markdown",
      "metadata": {
        "id": "b0b4e7d6-d58e-46c0-b050-6362423014f1"
      },
      "source": [
        "## Names\n",
        "Please list all students who worked on this project.\n",
        "1. Student Name 1\n",
        "2. Student Name 2\n",
        "3. Student Name 3\n",
        "4. Student Name 4"
      ]
    },
    {
      "cell_type": "markdown",
      "metadata": {
        "id": "ab8d6f0b"
      },
      "source": [
        "*Write your team member responsibility distribution here*"
      ]
    },
    {
      "cell_type": "markdown",
      "metadata": {
        "id": "cee913c4"
      },
      "source": [
        "## Titanic Dataset\n",
        "The *R.M.S. Titanic* was a British luxury passenger and mail carrying ocean liner that was operated by the White Star Line. It was the largest ship afloat at the time of its creation, and the ship was thought to be unsinkable. The *Titanic* began its maiden voyage from Southampton, United Kingdom on April 10, 1912 en route to New York City. However, the *Titanic* struck an iceberg at 11:40 p.m. on April 14, 1912, and the ship sank in the Atlantic Ocean during the morning of April 15, 1912.\n",
        "\n",
        "The *Titanic* dataset was created by Thomas Cason of the University of Virginia and reflects information known as of August 2, 1999. The dataset contains information of 1309 passengers, and it does not contain information about the *Titanic* crew. A total of 2240 people (passengers and crew) sailed on the *Titanic*. The dataset originated from the [Encyclopedia Titanica](https://www.encyclopedia-titanica.org/), which has a goal of telling the story of every single person that traveled on the *Titanic*. The dataset is consistently being evolved, and therefore some data is missing, which is common in many real-world datasets. The missing data are marked by `nan`.\n",
        "\n",
        "Below are the descriptions of the variables in the dataset.\n",
        "\n",
        "- `Pclass`: Passenger Class (1 = 1st; 2 = 2nd; 3 = 3rd)\n",
        "\n",
        "- `survived`: Survival (0 = No; 1 = Yes)\n",
        "\n",
        "- `name`: Name\n",
        "\n",
        "- `sex`: Sex\n",
        "\n",
        "- `age`: Age (years)\n",
        "\n",
        "- `sibsp`: Number of Siblings/Spouses Aboard\n",
        "\n",
        "- `parch`: Number of Parents/Children Aboard\n",
        "\n",
        "- `ticket`: Ticket Number\n",
        "\n",
        "- `fare`: Passenger Fare (British pound)\n",
        "\n",
        "- `embarked`: Port of Embarkation (C = Cherbourg; Q = Queenstown; S = Southampton)\n",
        "\n",
        "- `boat`: Lifeboat\n",
        "\n",
        "- `body`: Body Identification Number\n",
        "\n",
        "- `home.dest`: Home/Destination"
      ]
    },
    {
      "cell_type": "code",
      "execution_count": null,
      "metadata": {
        "scrolled": true,
        "id": "d125d061-d828-4eac-9c44-49a150ef7b4f"
      },
      "outputs": [],
      "source": [
        "# Run This Cell\n",
        "\n",
        "# Read the dataset\n",
        "titanic_unclean = Table.read_table(DATA_FILENAME)\n",
        "\n",
        "# Display the first few rows of the table\n",
        "titanic_unclean.show(10)"
      ]
    },
    {
      "cell_type": "markdown",
      "metadata": {
        "id": "529d11c6-854a-4dfc-89d4-7804b195da83"
      },
      "source": [
        "**Question 1:** Real-world datasets do not always have complete information! If you observe some of the rows above, you will find a `nan` (Not a Number). **`nan` values are not strings in the case of this dataset**. They are of type `None` (another kind of data type). These are missing values that can cause issues if we try to use their corresponding rows to do any kind of arithmetic. There are many ways to work with missing or skewed data. For now, we will just choose to delete any rows that have missing information. Name the final table something meaningful - like `titanic`. This will be the table we use to answer all the other questions.\n",
        "\n",
        "*Hint:*\n",
        "- One way you can do this is by writing a function and then using the `.apply()` function.\n",
        "- **Your final dataset should have roughly 1000-1100 rows.**\n",
        "- In Python, `nan` is equal to *nothing*, not even itself. So, to check if a variable x is `nan`, you can test x != x.\n",
        "\n",
        "**Note: Do not remove rows if they are only missing values in the `boat`, `body` and `home.dest` columns. Missing values in `boat` and `body` are deliberately missing. They correspond to those who did not get on the lifeboat and did not die or were not found respectively. We are okay to work with `home.dest` as it is.**"
      ]
    },
    {
      "cell_type": "code",
      "execution_count": null,
      "metadata": {
        "id": "5c5c1638-b976-4404-bdb7-4a558df29da5"
      },
      "outputs": [],
      "source": [
        "# SOLUTION"
      ]
    },
    {
      "cell_type": "markdown",
      "metadata": {
        "id": "4ebba60c-d158-45cf-9597-1ea01bd0cf93"
      },
      "source": [
        "#### Prompt below:"
      ]
    },
    {
      "cell_type": "code",
      "execution_count": null,
      "metadata": {
        "id": "4fe6e083-bf8f-4ac7-b2df-7c823c43e01c"
      },
      "outputs": [],
      "source": [
        "%%ai openai-chat:gpt-4"
      ]
    },
    {
      "cell_type": "markdown",
      "metadata": {
        "id": "9807bc37-54ac-44e6-a8c0-1198221f5af1"
      },
      "source": [
        "#### Explain your answer below:"
      ]
    },
    {
      "cell_type": "markdown",
      "metadata": {
        "id": "fe05046d-c1b4-4ed8-96ab-0c6e133c5176"
      },
      "source": [
        "*Type your answer here*"
      ]
    },
    {
      "cell_type": "markdown",
      "metadata": {
        "id": "d580c0a0-7657-4b44-a6d5-f598a27f9015"
      },
      "source": [
        "We now have the final dataset ready to use!"
      ]
    },
    {
      "cell_type": "markdown",
      "metadata": {
        "jp-MarkdownHeadingCollapsed": true,
        "id": "ebaad064-aad3-4586-8140-64f902ee4928"
      },
      "source": [
        "**Question 2:** Exploratory data analysis is one of the first steps data scientists conduct to identify and analyze patterns in the data. Investigate the passengers aboard the *Titanic* so you can get to know your data better. What was the average age of the passengers? What was the sum of all the passenger fares? How many males and females were on board? Which was the most common port of embarkation?\n"
      ]
    },
    {
      "cell_type": "code",
      "execution_count": null,
      "metadata": {
        "id": "4010ffe8-1ed6-4d2f-91bd-04cf0759b1e4"
      },
      "outputs": [],
      "source": [
        "# SOLUTION"
      ]
    },
    {
      "cell_type": "markdown",
      "metadata": {
        "id": "964d979c-3921-4dee-9921-5326df3dde48"
      },
      "source": [
        "#### Prompt below:"
      ]
    },
    {
      "cell_type": "code",
      "execution_count": null,
      "metadata": {
        "id": "270edd11-08bc-4f7f-a66e-ba9650cfa677"
      },
      "outputs": [],
      "source": [
        "%%ai openai-chat:gpt-4"
      ]
    },
    {
      "cell_type": "markdown",
      "metadata": {
        "id": "26795921-e251-4137-839a-e012265e31e5"
      },
      "source": [
        "#### Explain your answer below:"
      ]
    },
    {
      "cell_type": "markdown",
      "metadata": {
        "id": "3472bfe0-fbca-48de-90b4-2b1fe9f79a34"
      },
      "source": [
        "*Type your answer here*"
      ]
    },
    {
      "cell_type": "markdown",
      "metadata": {
        "id": "d42cd25e-79f3-4045-ba94-8cf1bdbc4a23"
      },
      "source": [
        "**Question 3:** Explore the relationship between `Age` and `Fare`. Is there a correlation between the two variables? Think about what kind of plot you could make to show a correlation between two variables, and produce that below. What can you infer from this plot?"
      ]
    },
    {
      "cell_type": "code",
      "execution_count": null,
      "metadata": {
        "id": "73a1381c-7245-4c0a-ad0d-e12faea4115c"
      },
      "outputs": [],
      "source": [
        "# SOLUTION"
      ]
    },
    {
      "cell_type": "markdown",
      "metadata": {
        "id": "32011d7c-3587-4faf-8803-7467eb6a8ed6"
      },
      "source": [
        "#### Prompt below:"
      ]
    },
    {
      "cell_type": "code",
      "execution_count": null,
      "metadata": {
        "id": "30853ab2-5cf3-4902-8578-2e1a3d0aab55"
      },
      "outputs": [],
      "source": [
        "%%ai openai-chat:gpt-4"
      ]
    },
    {
      "cell_type": "markdown",
      "metadata": {
        "id": "58bd8ce8-a520-4f1b-afa0-efc481aab3ac"
      },
      "source": [
        "#### Explain your answer below:"
      ]
    },
    {
      "cell_type": "markdown",
      "metadata": {
        "id": "d76eacbc-321b-46d3-9706-e3d639f2de24"
      },
      "source": [
        "*Type your answer here*"
      ]
    },
    {
      "cell_type": "markdown",
      "metadata": {
        "id": "2ca3316b-bd53-43e7-baf0-7bb108e881f6"
      },
      "source": [
        "**Question 4:** Examine the relationship between passenger class (`Pclass`), which serves as a proxy for socio-economic status, and survival (`survived`). Calculate the survival rate for each passenger class. What percentage of first-class passengers survived? What percentage of third-class passengers survived? What could be possible reasons for the discrepancy? What might this tell us about the socio-economic disparities in survival rates? Support your answer with statistics."
      ]
    },
    {
      "cell_type": "code",
      "execution_count": null,
      "metadata": {
        "id": "486d03f5-c344-4f45-abf0-ea29df7628d7"
      },
      "outputs": [],
      "source": [
        "# SOLUTION"
      ]
    },
    {
      "cell_type": "markdown",
      "metadata": {
        "id": "679bd1db-7438-495b-9b36-10e367dda749"
      },
      "source": [
        "#### Prompt below:"
      ]
    },
    {
      "cell_type": "code",
      "execution_count": null,
      "metadata": {
        "id": "f292992b-be4e-4222-b16d-ffe73ea655ec"
      },
      "outputs": [],
      "source": [
        "%%ai openai-chat:gpt-4"
      ]
    },
    {
      "cell_type": "markdown",
      "metadata": {
        "id": "30fccf2e-b96b-4979-8fea-cc6ab00a13fb"
      },
      "source": [
        "#### Explain your answer below:"
      ]
    },
    {
      "cell_type": "markdown",
      "metadata": {
        "id": "86c9e38a-13b3-48ca-8bd0-7276f26303aa"
      },
      "source": [
        "*Type your answer here*"
      ]
    },
    {
      "cell_type": "markdown",
      "metadata": {
        "id": "06c8d019-69af-44e5-b013-083e628145c7"
      },
      "source": [
        "**Question 5:** Create an age profile of the passengers on board. You can categorize the ages into different groups (e.g., 0-12, 13-19, 20-35, etc.) and then calculate the proportion of each age group within the total number of passengers. Using this, you should also find the most common class amongst each age range. Discuss any interesting findings and how this age profile might reflect the demographics of early 20th-century travelers."
      ]
    },
    {
      "cell_type": "code",
      "execution_count": null,
      "metadata": {
        "id": "f7e1a590-29b6-4ff3-a7dc-aae97cf9c0f0"
      },
      "outputs": [],
      "source": [
        "# SOLUTION"
      ]
    },
    {
      "cell_type": "markdown",
      "metadata": {
        "id": "3d2a7917-b0ad-49ae-b1e8-6e45c05bdd45"
      },
      "source": [
        "#### Prompt below:"
      ]
    },
    {
      "cell_type": "code",
      "execution_count": null,
      "metadata": {
        "id": "6654c82f-0113-4275-99f5-864bebb35170"
      },
      "outputs": [],
      "source": [
        "%%ai openai-chat:gpt-4"
      ]
    },
    {
      "cell_type": "markdown",
      "metadata": {
        "id": "98a74437-1912-4c64-b618-b1ce50e6a9c5"
      },
      "source": [
        "#### Explain your answer below:"
      ]
    },
    {
      "cell_type": "markdown",
      "metadata": {
        "id": "3535ca53-fc36-4afa-b2a9-aa8542d18d1f"
      },
      "source": [
        "*Type your answer here*"
      ]
    },
    {
      "cell_type": "markdown",
      "metadata": {
        "id": "e957a4cb-b4e5-4376-9516-68dc920fcd32"
      },
      "source": [
        "**Question 6:** Explore how the number of siblings/spouses (`sibsp`) and parents/children (`parch`) aboard might relate to a passenger's chance of survival. Start by creating new variables to represent family size, and then group the passengers by their family size to calculate survival rates. What trends do you notice?"
      ]
    },
    {
      "cell_type": "code",
      "execution_count": null,
      "metadata": {
        "id": "fd73f63c-37b5-4ed9-9448-01f38bc779d9"
      },
      "outputs": [],
      "source": [
        "# SOLUTION"
      ]
    },
    {
      "cell_type": "markdown",
      "metadata": {
        "id": "779561a5-63fc-4f63-bfe5-9ebae82450bb"
      },
      "source": [
        "#### Prompt below:"
      ]
    },
    {
      "cell_type": "code",
      "execution_count": null,
      "metadata": {
        "id": "627d5b9c-0d6e-4341-a66b-7092d5c2f1ec"
      },
      "outputs": [],
      "source": [
        "%%ai openai-chat:gpt-4"
      ]
    },
    {
      "cell_type": "markdown",
      "metadata": {
        "id": "62b037a7-720d-47ff-b081-af4f67d4d2ee"
      },
      "source": [
        "#### Explain your answer below:"
      ]
    },
    {
      "cell_type": "markdown",
      "metadata": {
        "id": "0216dd56-453c-4e43-b31d-fc6450e6d851"
      },
      "source": [
        "*Type your answer here*"
      ]
    },
    {
      "cell_type": "markdown",
      "metadata": {
        "id": "811904f2-0cc0-4a05-bcc8-f1419b8e1ff6"
      },
      "source": [
        "**Question 7:** Investigate the passengers on the *Titanic* who got on a lifeboat. How many were there? How many were males, and how many were females? What were their top three home destinations? How many survived?\n",
        "\n",
        "Think about how you can best display the distribution of ages in equal size bins among those who escaped and those who didn't, and make appropriate plots. What can you infer from the plots?"
      ]
    },
    {
      "cell_type": "code",
      "execution_count": null,
      "metadata": {
        "id": "a05b7c0b-ad1b-464a-950a-f4e32573b265"
      },
      "outputs": [],
      "source": [
        "# SOLUTION"
      ]
    },
    {
      "cell_type": "markdown",
      "metadata": {
        "id": "8db72a11-d9ca-4fc9-8c70-75a36e9a153b"
      },
      "source": [
        "#### Prompt below:"
      ]
    },
    {
      "cell_type": "code",
      "execution_count": null,
      "metadata": {
        "id": "a6d84273-aa17-49a1-a9df-2c4e01f13b08"
      },
      "outputs": [],
      "source": [
        "%%ai openai-chat:gpt-4"
      ]
    },
    {
      "cell_type": "markdown",
      "metadata": {
        "id": "4aac7a38-bef4-4589-a177-33dbe44456fc"
      },
      "source": [
        "#### Explain your answer below:"
      ]
    },
    {
      "cell_type": "markdown",
      "metadata": {
        "id": "9ca3d7e2-1c48-4688-b9c7-b9d2b03bf168"
      },
      "source": [
        "*Type your answer here*"
      ]
    },
    {
      "cell_type": "markdown",
      "metadata": {
        "id": "79bfc48f-53cc-46c7-9df7-227eac139553"
      },
      "source": [
        "**Question 8:** Investigate and plot the frequency of the titles (ex: Mr, Mrs, etc.) of the passengers. What are the names of the passengers aboard the ship whose title was unique? Then, analyze and explain the relationship between passenger title and at least 2 variables in the dataset of your choice that you believe would give the best insights. Are there any patterns? What could be the reasons for such patterns? Support your answer with data and use comparative charts.\n",
        "\n",
        "Hint: Python has functions/methods like `append()` and `split()` that you can potentially use to extract a passenger's title."
      ]
    },
    {
      "cell_type": "code",
      "execution_count": null,
      "metadata": {
        "id": "8cd6c542-806c-4cc6-9e28-6e3dfba60e10"
      },
      "outputs": [],
      "source": [
        "# SOLUTION"
      ]
    },
    {
      "cell_type": "markdown",
      "metadata": {
        "id": "5f7ea5a4-1df1-4b43-b49e-30beaeb75113"
      },
      "source": [
        "#### Prompt below:"
      ]
    },
    {
      "cell_type": "code",
      "execution_count": null,
      "metadata": {
        "id": "ca7a2c3e-1aed-4487-81f6-25221384b2ea"
      },
      "outputs": [],
      "source": [
        "%%ai openai-chat:gpt-4"
      ]
    },
    {
      "cell_type": "markdown",
      "metadata": {
        "id": "47cd0c70-2687-410c-9b55-c16371b155e6"
      },
      "source": [
        "#### Explain your answer below:"
      ]
    },
    {
      "cell_type": "markdown",
      "metadata": {
        "id": "e6a34a0e-0630-4881-9664-849d868ce275"
      },
      "source": [
        "*Type your answer here*"
      ]
    },
    {
      "cell_type": "markdown",
      "metadata": {
        "id": "0dab05d2-25b5-4a73-9445-f012b8e4f8b5"
      },
      "source": [
        "## Novel analysis\n",
        "For the last section of your midterm project, you are expected to think like a data scientist. Formulate **TWO** unique questions/problems/insights that you can solve or obtain from the dataset given to you. **You need to come up with the problem and present the solution in the notebook**. The problems you come up with will be graded on novelty and the work necessary to obtain them. **DO NOT** reuse problems that are already covered in the midterm or those that could be solved or visualized with a single line of code."
      ]
    },
    {
      "cell_type": "markdown",
      "metadata": {
        "id": "903ac917-9646-49b1-9887-05e1ea4499b2"
      },
      "source": [
        "**Question 9. *Type your question here***"
      ]
    },
    {
      "cell_type": "code",
      "execution_count": null,
      "metadata": {
        "id": "d74efd23-ab4f-48c6-a1e9-66de77dff302"
      },
      "outputs": [],
      "source": [
        "# SOLUTION"
      ]
    },
    {
      "cell_type": "markdown",
      "metadata": {
        "id": "47bb26ec-8c52-4c22-ac0e-c4c9e7b6370c"
      },
      "source": [
        "#### Prompt below:"
      ]
    },
    {
      "cell_type": "code",
      "execution_count": null,
      "metadata": {
        "id": "62bbb67d-ea79-4655-b661-e7dbb82492d4"
      },
      "outputs": [],
      "source": [
        "%%ai openai-chat:gpt-4"
      ]
    },
    {
      "cell_type": "markdown",
      "metadata": {
        "id": "f744621b-d840-4912-9d18-942a69f48377"
      },
      "source": [
        "#### Explain your answer below:"
      ]
    },
    {
      "cell_type": "markdown",
      "metadata": {
        "id": "0919d362-d154-4ef0-86ff-73a0f0623e9f"
      },
      "source": [
        "*Type your answer here*"
      ]
    },
    {
      "cell_type": "markdown",
      "metadata": {
        "id": "00640c16-d72d-489c-b8a1-07b8f2dcf8d0"
      },
      "source": [
        "**Question 10. *Type your question here***"
      ]
    },
    {
      "cell_type": "code",
      "execution_count": null,
      "metadata": {
        "id": "9a3c2bd6-6921-4240-87af-4e6f855e96e6"
      },
      "outputs": [],
      "source": [
        "# SOLUTION"
      ]
    },
    {
      "cell_type": "markdown",
      "metadata": {
        "id": "762df0e3-00f6-4830-8ab2-d38b96b7691b"
      },
      "source": [
        "#### Prompt below:"
      ]
    },
    {
      "cell_type": "code",
      "execution_count": null,
      "metadata": {
        "id": "799b0a9c-c129-4086-a39c-2b7e9d8435de"
      },
      "outputs": [],
      "source": [
        "%%ai openai-chat:gpt-4"
      ]
    },
    {
      "cell_type": "markdown",
      "metadata": {
        "id": "c1f90672-d52c-4dc1-8c7d-baedb10765c6"
      },
      "source": [
        "#### Explain your answer below:"
      ]
    },
    {
      "cell_type": "markdown",
      "metadata": {
        "id": "c410e685-8367-4c2c-b036-5ce2691313be"
      },
      "source": [
        "*Type your answer here*"
      ]
    },
    {
      "cell_type": "markdown",
      "metadata": {
        "id": "0926cbdb-31c8-4e0b-8e84-86a9d1993855"
      },
      "source": [
        "# Deadine and Submission\n",
        "\n",
        "References these links\n",
        "\n",
        "* [Deadlines](https://docs.google.com/document/d/1gYMuXukOTtJkEthxUeHmWuA1Qn9BtIYkSJa37Gb524E/edit?tab=t.0#bookmark=id.fqop8bpqcnvf)\n",
        "* [Submission Instructions](https://docs.google.com/document/d/1gYMuXukOTtJkEthxUeHmWuA1Qn9BtIYkSJa37Gb524E/edit?tab=t.0#bookmark=id.vsf44v7st0t)\n"
      ]
    },
    {
      "cell_type": "code",
      "source": [],
      "metadata": {
        "id": "bPrWwlSsmphb"
      },
      "execution_count": null,
      "outputs": []
    }
  ]
}