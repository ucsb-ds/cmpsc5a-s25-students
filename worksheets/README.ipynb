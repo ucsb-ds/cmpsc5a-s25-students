{
 "cells": [
  {
   "cell_type": "markdown",
   "id": "ef2e8058-afde-4f5c-920f-d4cf6aa8e37a",
   "metadata": {
    "jp-MarkdownHeadingCollapsed": true
   },
   "source": [
    "# Worksheets\n",
    "\n",
    "In this directory, you'll find the Jupyter Notebooks for the worksheets for this course.\n",
    "\n",
    "Worksheets are submitted via Gradescope.  \n",
    "\n",
    "Due dates for worksheets are posted on Gradescope.\n",
    "\n",
    "If a due data is referenced somewhere else (e.g. in lecture, on an Ed post, etc.) it is the due date on Gradescope that represents the authoritative \"source of truth\".\n",
    "\n"
   ]
  }
 ],
 "metadata": {
  "kernelspec": {
   "display_name": "Python 3 (ipykernel)",
   "language": "python",
   "name": "python3"
  },
  "language_info": {
   "codemirror_mode": {
    "name": "ipython",
    "version": 3
   },
   "file_extension": ".py",
   "mimetype": "text/x-python",
   "name": "python",
   "nbconvert_exporter": "python",
   "pygments_lexer": "ipython3",
   "version": "3.12.8"
  }
 },
 "nbformat": 4,
 "nbformat_minor": 5
}
