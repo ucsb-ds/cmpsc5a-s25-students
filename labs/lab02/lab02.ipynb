{
 "cells": [
  {
   "cell_type": "code",
   "execution_count": 1,
   "id": "ceb5e963-1888-4d91-9f07-9e4b59f366e4",
   "metadata": {},
   "outputs": [],
   "source": [
    "# Click into this cell and press shift-enter before using this notebook.\n",
    "# This line loads the ability to use %%ai in your file\n",
    "%load_ext jupyter_ai_magics\n",
    "# These lines import the Python modules we commonly use in CMPSC 5A\n",
    "from datascience import *\n",
    "import numpy as np\n",
    "%matplotlib inline\n",
    "import matplotlib.pyplot as plots"
   ]
  },
  {
   "cell_type": "markdown",
   "id": "1c476d94-bb66-41da-91d6-81f3aba74904",
   "metadata": {},
   "source": [
    "# lab02, Student Starter Code, CMPSC 5A, S25"
   ]
  },
  {
   "cell_type": "markdown",
   "id": "3e7fb147-8b58-4e2b-adad-204508a19eb8",
   "metadata": {},
   "source": [
    "## Tables\n",
    "\n",
    "Tables are a structured representation of data and fundamental in viewing and analyzing data. "
   ]
  },
  {
   "cell_type": "markdown",
   "id": "68c871a5-d94a-403d-8963-c94b347d7f39",
   "metadata": {},
   "source": [
    "To get you up to speed with tables and all the functionality they bring with them, we'll be exploring the Word University Rankings table. As you can guess, this dataset has the information of the world's top universities and their rank along with the scoring factors that their rank was computed from. You will be analyzing this dataset throughout this lab notebook. Lets begin!"
   ]
  },
  {
   "cell_type": "code",
   "execution_count": 2,
   "id": "736b62d1-304a-4c5b-9bc3-38615083d0dd",
   "metadata": {},
   "outputs": [],
   "source": [
    "ranking = Table().read_table(\"data/world_university_rankings.csv\")"
   ]
  },
  {
   "cell_type": "code",
   "execution_count": 3,
   "id": "0218648d-7ac4-4b3c-94d6-fa7a44ef7fe7",
   "metadata": {},
   "outputs": [
    {
     "data": {
      "text/html": [
       "<table border=\"1\" class=\"dataframe\">\n",
       "    <thead>\n",
       "        <tr>\n",
       "            <th>rank</th> <th>ranking-institution-title</th> <th>location</th> <th>Overall scores</th> <th>Research Quality Score</th> <th>Industry Score</th> <th>International Outlook</th> <th>Research Environment Score</th> <th>Teaching Score</th>\n",
       "        </tr>\n",
       "    </thead>\n",
       "    <tbody>\n",
       "        <tr>\n",
       "            <td>1   </td> <td>Massachusetts Institute of Technology</td> <td>United States </td> <td>94.8          </td> <td>92.2                  </td> <td>99.9          </td> <td>89.6                 </td> <td>96.5                      </td> <td>96            </td>\n",
       "        </tr>\n",
       "        <tr>\n",
       "            <td>2   </td> <td>Stanford University                  </td> <td>United States </td> <td>93.1          </td> <td>91.9                  </td> <td>100           </td> <td>83.5                 </td> <td>91.8                      </td> <td>98.2          </td>\n",
       "        </tr>\n",
       "        <tr>\n",
       "            <td>3   </td> <td>University of Oxford                 </td> <td>United Kingdom</td> <td>91.3          </td> <td>81.7                  </td> <td>89.4          </td> <td>94.5                 </td> <td>97.4                      </td> <td>93.5          </td>\n",
       "        </tr>\n",
       "        <tr>\n",
       "            <td>4   </td> <td>University of California, Berkeley   </td> <td>United States </td> <td>90.6          </td> <td>95.2                  </td> <td>90.6          </td> <td>83.5                 </td> <td>92.7                      </td> <td>91.1          </td>\n",
       "        </tr>\n",
       "        <tr>\n",
       "            <td>5   </td> <td>Peking University                    </td> <td>China         </td> <td>90.4          </td> <td>74.5                  </td> <td>95.4          </td> <td>94                   </td> <td>91.8                      </td> <td>96.3          </td>\n",
       "        </tr>\n",
       "        <tr>\n",
       "            <td>6   </td> <td>Tsinghua University                  </td> <td>China         </td> <td>89.6          </td> <td>82.5                  </td> <td>99.5          </td> <td>77.7                 </td> <td>95.2                      </td> <td>93.2          </td>\n",
       "        </tr>\n",
       "        <tr>\n",
       "            <td>7   </td> <td>University of Cambridge              </td> <td>United Kingdom</td> <td>89.4          </td> <td>86.6                  </td> <td>76.7          </td> <td>95.4                 </td> <td>94.6                      </td> <td>93.8          </td>\n",
       "        </tr>\n",
       "        <tr>\n",
       "            <td>8   </td> <td>ETH Zurich                           </td> <td>Switzerland   </td> <td>88.3          </td> <td>87.1                  </td> <td>99.5          </td> <td>96.4                 </td> <td>83.1                      </td> <td>75.2          </td>\n",
       "        </tr>\n",
       "        <tr>\n",
       "            <td>9   </td> <td>Harvard University                   </td> <td>United States </td> <td>87.1          </td> <td>95.2                  </td> <td>69.8          </td> <td>82.1                 </td> <td>93.4                      </td> <td>95            </td>\n",
       "        </tr>\n",
       "        <tr>\n",
       "            <td>10  </td> <td>National University of Singapore     </td> <td>Singapore     </td> <td>86.8          </td> <td>79.7                  </td> <td>97.9          </td> <td>80.4                 </td> <td>95.9                      </td> <td>79.9          </td>\n",
       "        </tr>\n",
       "    </tbody>\n",
       "</table>\n",
       "<p>... (900 rows omitted)</p>"
      ],
      "text/plain": [
       "<IPython.core.display.HTML object>"
      ]
     },
     "metadata": {},
     "output_type": "display_data"
    }
   ],
   "source": [
    "ranking.show(10)"
   ]
  },
  {
   "cell_type": "markdown",
   "id": "afac8792-c2a8-4ea1-80bf-09f40a60665e",
   "metadata": {},
   "source": [
    "**Q1:** To get started, print all column names of the university ranking table and the number of rows. *Hint:* Check out https://inferentialthinking.com/chapters/06/Tables.html"
   ]
  },
  {
   "cell_type": "code",
   "execution_count": 4,
   "id": "5ca9268d-96e8-42ed-9e8f-cc5c34962df9",
   "metadata": {},
   "outputs": [
    {
     "data": {
      "text/plain": [
       "('rank',\n",
       " 'ranking-institution-title',\n",
       " 'location',\n",
       " 'Overall scores',\n",
       " 'Research Quality Score',\n",
       " 'Industry Score',\n",
       " 'International Outlook',\n",
       " 'Research Environment Score',\n",
       " 'Teaching Score')"
      ]
     },
     "execution_count": 4,
     "metadata": {},
     "output_type": "execute_result"
    }
   ],
   "source": [
    "#SOLUTION\n",
    "ranking.labels"
   ]
  },
  {
   "cell_type": "markdown",
   "id": "1f411afe-dac8-40e0-8613-d77c668b56ba",
   "metadata": {},
   "source": [
    "### Prompt Below:"
   ]
  },
  {
   "cell_type": "code",
   "execution_count": null,
   "id": "ad7e904a-5db1-49df-936d-0a508d7dee05",
   "metadata": {},
   "outputs": [],
   "source": [
    "%%ai openai-chat:gpt-4"
   ]
  },
  {
   "cell_type": "markdown",
   "id": "8b7519ab-f2ee-4fb2-90c0-0a7575690142",
   "metadata": {},
   "source": [
    "### Explain your workflow below:"
   ]
  },
  {
   "cell_type": "markdown",
   "id": "8bd00479-2f80-4c77-87b2-32f0899c9f37",
   "metadata": {},
   "source": [
    "*type your answer here*"
   ]
  },
  {
   "cell_type": "markdown",
   "id": "89050bc5-1c16-4375-8db2-308a9672a93c",
   "metadata": {},
   "source": [
    "**Q2:** Filter your table to display the names of only the top 5 institutes by rank (i.e., no additional columns). \n",
    "*Hint:* https://inferentialthinking.com/chapters/06/2/Selecting_Rows.html and https://inferentialthinking.com/chapters/06/Tables.html might be helpful."
   ]
  },
  {
   "cell_type": "code",
   "execution_count": 5,
   "id": "0df16abd-6a4d-4b18-92a6-172c0efb52cf",
   "metadata": {},
   "outputs": [
    {
     "data": {
      "text/html": [
       "<table border=\"1\" class=\"dataframe\">\n",
       "    <thead>\n",
       "        <tr>\n",
       "            <th>rank</th> <th>ranking-institution-title</th>\n",
       "        </tr>\n",
       "    </thead>\n",
       "    <tbody>\n",
       "        <tr>\n",
       "            <td>1   </td> <td>Massachusetts Institute of Technology</td>\n",
       "        </tr>\n",
       "        <tr>\n",
       "            <td>2   </td> <td>Stanford University                  </td>\n",
       "        </tr>\n",
       "        <tr>\n",
       "            <td>3   </td> <td>University of Oxford                 </td>\n",
       "        </tr>\n",
       "        <tr>\n",
       "            <td>4   </td> <td>University of California, Berkeley   </td>\n",
       "        </tr>\n",
       "        <tr>\n",
       "            <td>5   </td> <td>Peking University                    </td>\n",
       "        </tr>\n",
       "    </tbody>\n",
       "</table>"
      ],
      "text/plain": [
       "rank | ranking-institution-title\n",
       "1    | Massachusetts Institute of Technology\n",
       "2    | Stanford University\n",
       "3    | University of Oxford\n",
       "4    | University of California, Berkeley\n",
       "5    | Peking University"
      ]
     },
     "execution_count": 5,
     "metadata": {},
     "output_type": "execute_result"
    }
   ],
   "source": [
    "#SOLUTION\n",
    "ranking.select('rank', 'ranking-institution-title').where('rank', are.below_or_equal_to(5))"
   ]
  },
  {
   "cell_type": "markdown",
   "id": "1bc77c01-8a5b-4eed-be47-95c4e2650369",
   "metadata": {},
   "source": [
    "### Prompt Below:"
   ]
  },
  {
   "cell_type": "code",
   "execution_count": null,
   "id": "e453ac89-58d3-46d2-9ef0-88b15c4349bd",
   "metadata": {},
   "outputs": [],
   "source": [
    "%%ai openai-chat:gpt-4"
   ]
  },
  {
   "cell_type": "markdown",
   "id": "e2cfecd8-29c2-4028-80e1-c2ef80a365c0",
   "metadata": {},
   "source": [
    "### Explain your workflow below:"
   ]
  },
  {
   "cell_type": "markdown",
   "id": "b79e93c1-d45d-4296-a9dc-5977b334a9fa",
   "metadata": {},
   "source": [
    "*type your answer here*"
   ]
  },
  {
   "cell_type": "markdown",
   "id": "4dfb3799-b841-4739-a60c-f9a2293ee977",
   "metadata": {},
   "source": [
    "**Q3:** How can display the rows of only the universities of rank 1, 5, 10, 50, 100, and 500?\n",
    "*Hint:* Think of a table function that can select individual rows. https://inferentialthinking.com/chapters/06/2/Selecting_Rows.html "
   ]
  },
  {
   "cell_type": "code",
   "execution_count": 6,
   "id": "19ab66bc-2e05-4f3e-8c18-1b1277fdcdda",
   "metadata": {},
   "outputs": [
    {
     "data": {
      "text/html": [
       "<table border=\"1\" class=\"dataframe\">\n",
       "    <thead>\n",
       "        <tr>\n",
       "            <th>rank</th> <th>ranking-institution-title</th> <th>location</th> <th>Overall scores</th> <th>Research Quality Score</th> <th>Industry Score</th> <th>International Outlook</th> <th>Research Environment Score</th> <th>Teaching Score</th>\n",
       "        </tr>\n",
       "    </thead>\n",
       "    <tbody>\n",
       "        <tr>\n",
       "            <td>1   </td> <td>Massachusetts Institute of Technology</td> <td>United States</td> <td>94.8          </td> <td>92.2                  </td> <td>99.9          </td> <td>89.6                 </td> <td>96.5                      </td> <td>96            </td>\n",
       "        </tr>\n",
       "        <tr>\n",
       "            <td>5   </td> <td>Peking University                    </td> <td>China        </td> <td>90.4          </td> <td>74.5                  </td> <td>95.4          </td> <td>94                   </td> <td>91.8                      </td> <td>96.3          </td>\n",
       "        </tr>\n",
       "        <tr>\n",
       "            <td>10  </td> <td>National University of Singapore     </td> <td>Singapore    </td> <td>86.8          </td> <td>79.7                  </td> <td>97.9          </td> <td>80.4                 </td> <td>95.9                      </td> <td>79.9          </td>\n",
       "        </tr>\n",
       "        <tr>\n",
       "            <td>50  </td> <td>University of Minnesota              </td> <td>United States</td> <td>70.6          </td> <td>77.3                  </td> <td>82            </td> <td>56.5                 </td> <td>72.8                      </td> <td>64.3          </td>\n",
       "        </tr>\n",
       "        <tr>\n",
       "            <td>50  </td> <td>Maastricht University                </td> <td>Netherlands  </td> <td>70.6          </td> <td>69.2                  </td> <td>93.8          </td> <td>96.3                 </td> <td>45                        </td> <td>48.5          </td>\n",
       "        </tr>\n",
       "        <tr>\n",
       "            <td>100 </td> <td>University of Massachusetts          </td> <td>United States</td> <td>62.9          </td> <td>72.7                  </td> <td>66.6          </td> <td>73.2                 </td> <td>46.7                      </td> <td>55.2          </td>\n",
       "        </tr>\n",
       "        <tr>\n",
       "            <td>500 </td> <td>University of Milan                  </td> <td>Italy        </td> <td>41.2          </td> <td>66.1                  </td> <td>50            </td> <td>50.2                 </td> <td>24.5                      </td> <td>15.2          </td>\n",
       "        </tr>\n",
       "        <tr>\n",
       "            <td>500 </td> <td>UiT The Arctic University of Norway  </td> <td>Norway       </td> <td>41.2          </td> <td>71.6                  </td> <td>60            </td> <td>46.1                 </td> <td>17                        </td> <td>11.4          </td>\n",
       "        </tr>\n",
       "    </tbody>\n",
       "</table>"
      ],
      "text/plain": [
       "rank | ranking-institution-title             | location      | Overall scores | Research Quality Score | Industry Score | International Outlook | Research Environment Score | Teaching Score\n",
       "1    | Massachusetts Institute of Technology | United States | 94.8           | 92.2                   | 99.9           | 89.6                  | 96.5                       | 96\n",
       "5    | Peking University                     | China         | 90.4           | 74.5                   | 95.4           | 94                    | 91.8                       | 96.3\n",
       "10   | National University of Singapore      | Singapore     | 86.8           | 79.7                   | 97.9           | 80.4                  | 95.9                       | 79.9\n",
       "50   | University of Minnesota               | United States | 70.6           | 77.3                   | 82             | 56.5                  | 72.8                       | 64.3\n",
       "50   | Maastricht University                 | Netherlands   | 70.6           | 69.2                   | 93.8           | 96.3                  | 45                         | 48.5\n",
       "100  | University of Massachusetts           | United States | 62.9           | 72.7                   | 66.6           | 73.2                  | 46.7                       | 55.2\n",
       "500  | University of Milan                   | Italy         | 41.2           | 66.1                   | 50             | 50.2                  | 24.5                       | 15.2\n",
       "500  | UiT The Arctic University of Norway   | Norway        | 41.2           | 71.6                   | 60             | 46.1                  | 17                         | 11.4"
      ]
     },
     "execution_count": 6,
     "metadata": {},
     "output_type": "execute_result"
    }
   ],
   "source": [
    "#SOLUTION\n",
    "ranking.where(\"rank\", are.contained_in([1, 5, 10, 50, 100, 500]))"
   ]
  },
  {
   "cell_type": "markdown",
   "id": "df6e488c-eb30-49f4-973a-1d3cd88534e6",
   "metadata": {},
   "source": [
    "### Prompt Below:"
   ]
  },
  {
   "cell_type": "code",
   "execution_count": null,
   "id": "35a4e61a-1508-40ed-b407-f0087b0fddfa",
   "metadata": {},
   "outputs": [],
   "source": [
    "%%ai openai-chat:gpt-4"
   ]
  },
  {
   "cell_type": "markdown",
   "id": "1f0356b7-c742-4c80-9691-edd72382c398",
   "metadata": {},
   "source": [
    "### Explain your workflow below:"
   ]
  },
  {
   "cell_type": "markdown",
   "id": "9e622e98-0036-4a4f-8cae-92e152e89cfb",
   "metadata": {},
   "source": [
    "*type your answer here*"
   ]
  },
  {
   "cell_type": "markdown",
   "id": "38aad16d-0e79-4590-b1f3-7eeaac10be63",
   "metadata": {},
   "source": [
    "**Q4:** The table has institutions from many different countries. Can you generate a table that only contains universities from the US?\n",
    "*Hint:* Is there a function that allows you to filter functions based on a condition? https://inferentialthinking.com/chapters/06/2/Selecting_Rows.html"
   ]
  },
  {
   "cell_type": "code",
   "execution_count": 7,
   "id": "345db8a1-dc23-4f43-9c82-c2b108f3842f",
   "metadata": {},
   "outputs": [
    {
     "data": {
      "text/html": [
       "<table border=\"1\" class=\"dataframe\">\n",
       "    <thead>\n",
       "        <tr>\n",
       "            <th>rank</th> <th>ranking-institution-title</th> <th>location</th> <th>Overall scores</th> <th>Research Quality Score</th> <th>Industry Score</th> <th>International Outlook</th> <th>Research Environment Score</th> <th>Teaching Score</th>\n",
       "        </tr>\n",
       "    </thead>\n",
       "    <tbody>\n",
       "        <tr>\n",
       "            <td>1   </td> <td>Massachusetts Institute of Technology</td> <td>United States</td> <td>94.8          </td> <td>92.2                  </td> <td>99.9          </td> <td>89.6                 </td> <td>96.5                      </td> <td>96            </td>\n",
       "        </tr>\n",
       "        <tr>\n",
       "            <td>2   </td> <td>Stanford University                  </td> <td>United States</td> <td>93.1          </td> <td>91.9                  </td> <td>100           </td> <td>83.5                 </td> <td>91.8                      </td> <td>98.2          </td>\n",
       "        </tr>\n",
       "        <tr>\n",
       "            <td>4   </td> <td>University of California, Berkeley   </td> <td>United States</td> <td>90.6          </td> <td>95.2                  </td> <td>90.6          </td> <td>83.5                 </td> <td>92.7                      </td> <td>91.1          </td>\n",
       "        </tr>\n",
       "        <tr>\n",
       "            <td>9   </td> <td>Harvard University                   </td> <td>United States</td> <td>87.1          </td> <td>95.2                  </td> <td>69.8          </td> <td>82.1                 </td> <td>93.4                      </td> <td>95            </td>\n",
       "        </tr>\n",
       "        <tr>\n",
       "            <td>11  </td> <td>Duke University                      </td> <td>United States</td> <td>85.7          </td> <td>80.2                  </td> <td>100           </td> <td>83                   </td> <td>87.5                      </td> <td>77.7          </td>\n",
       "        </tr>\n",
       "        <tr>\n",
       "            <td>12  </td> <td>The University of Chicago            </td> <td>United States</td> <td>85.6          </td> <td>95.8                  </td> <td>67.6          </td> <td>79                   </td> <td>93.5                      </td> <td>91.9          </td>\n",
       "        </tr>\n",
       "        <tr>\n",
       "            <td>14  </td> <td>Yale University                      </td> <td>United States</td> <td>85            </td> <td>86.9                  </td> <td>67.8          </td> <td>85.1                 </td> <td>89.3                      </td> <td>96.1          </td>\n",
       "        </tr>\n",
       "        <tr>\n",
       "            <td>15  </td> <td>Columbia University                  </td> <td>United States</td> <td>84.8          </td> <td>79.2                  </td> <td>77.3          </td> <td>87.7                 </td> <td>87.8                      </td> <td>92            </td>\n",
       "        </tr>\n",
       "        <tr>\n",
       "            <td>16  </td> <td>Northwestern University              </td> <td>United States</td> <td>84.1          </td> <td>86.2                  </td> <td>77.2          </td> <td>79.8                 </td> <td>89.4                      </td> <td>88            </td>\n",
       "        </tr>\n",
       "        <tr>\n",
       "            <td>17  </td> <td>University of Pennsylvania           </td> <td>United States</td> <td>82.9          </td> <td>86.9                  </td> <td>71.4          </td> <td>74.9                 </td> <td>89.2                      </td> <td>92.2          </td>\n",
       "        </tr>\n",
       "    </tbody>\n",
       "</table>\n",
       "<p>... (133 rows omitted)</p>"
      ],
      "text/plain": [
       "rank | ranking-institution-title             | location      | Overall scores | Research Quality Score | Industry Score | International Outlook | Research Environment Score | Teaching Score\n",
       "1    | Massachusetts Institute of Technology | United States | 94.8           | 92.2                   | 99.9           | 89.6                  | 96.5                       | 96\n",
       "2    | Stanford University                   | United States | 93.1           | 91.9                   | 100            | 83.5                  | 91.8                       | 98.2\n",
       "4    | University of California, Berkeley    | United States | 90.6           | 95.2                   | 90.6           | 83.5                  | 92.7                       | 91.1\n",
       "9    | Harvard University                    | United States | 87.1           | 95.2                   | 69.8           | 82.1                  | 93.4                       | 95\n",
       "11   | Duke University                       | United States | 85.7           | 80.2                   | 100            | 83                    | 87.5                       | 77.7\n",
       "12   | The University of Chicago             | United States | 85.6           | 95.8                   | 67.6           | 79                    | 93.5                       | 91.9\n",
       "14   | Yale University                       | United States | 85             | 86.9                   | 67.8           | 85.1                  | 89.3                       | 96.1\n",
       "15   | Columbia University                   | United States | 84.8           | 79.2                   | 77.3           | 87.7                  | 87.8                       | 92\n",
       "16   | Northwestern University               | United States | 84.1           | 86.2                   | 77.2           | 79.8                  | 89.4                       | 88\n",
       "17   | University of Pennsylvania            | United States | 82.9           | 86.9                   | 71.4           | 74.9                  | 89.2                       | 92.2\n",
       "... (133 rows omitted)"
      ]
     },
     "execution_count": 7,
     "metadata": {},
     "output_type": "execute_result"
    }
   ],
   "source": [
    "#SOLUTION\n",
    "ranking.where(\"location\", \"United States\")"
   ]
  },
  {
   "cell_type": "markdown",
   "id": "e4993394-35b7-4ca7-827b-9cb6e21084c8",
   "metadata": {},
   "source": [
    "### Prompt Below:"
   ]
  },
  {
   "cell_type": "code",
   "execution_count": null,
   "id": "f51c028c-461c-4a21-865a-649440385d9d",
   "metadata": {},
   "outputs": [],
   "source": [
    "%%ai openai-chat:gpt-4"
   ]
  },
  {
   "cell_type": "markdown",
   "id": "bde7bb79-9bbb-40d5-802a-91234135ea32",
   "metadata": {},
   "source": [
    "### Explain your workflow below:"
   ]
  },
  {
   "cell_type": "markdown",
   "id": "b1314a3f-83ab-4a14-9035-d3742de7880e",
   "metadata": {},
   "source": [
    "*type your answer here*"
   ]
  },
  {
   "cell_type": "markdown",
   "id": "a7bb7bf4-2f05-4ee8-9208-112f1492ef25",
   "metadata": {},
   "source": [
    "**Q4.1:** Lets take it up a notch. Can you generate a table that only contains universities from the US that have a research quality score above 90?\n",
    "*Hint:* Work through the problem one step at a time"
   ]
  },
  {
   "cell_type": "code",
   "execution_count": 9,
   "id": "4a37e503-ade4-4da1-a34d-e96367071336",
   "metadata": {},
   "outputs": [
    {
     "data": {
      "text/html": [
       "<table border=\"1\" class=\"dataframe\">\n",
       "    <thead>\n",
       "        <tr>\n",
       "            <th>rank</th> <th>ranking-institution-title</th> <th>location</th> <th>Overall scores</th> <th>Research Quality Score</th> <th>Industry Score</th> <th>International Outlook</th> <th>Research Environment Score</th> <th>Teaching Score</th>\n",
       "        </tr>\n",
       "    </thead>\n",
       "    <tbody>\n",
       "        <tr>\n",
       "            <td>1   </td> <td>Massachusetts Institute of Technology</td> <td>United States</td> <td>94.8          </td> <td>92.2                  </td> <td>99.9          </td> <td>89.6                 </td> <td>96.5                      </td> <td>96            </td>\n",
       "        </tr>\n",
       "        <tr>\n",
       "            <td>2   </td> <td>Stanford University                  </td> <td>United States</td> <td>93.1          </td> <td>91.9                  </td> <td>100           </td> <td>83.5                 </td> <td>91.8                      </td> <td>98.2          </td>\n",
       "        </tr>\n",
       "        <tr>\n",
       "            <td>4   </td> <td>University of California, Berkeley   </td> <td>United States</td> <td>90.6          </td> <td>95.2                  </td> <td>90.6          </td> <td>83.5                 </td> <td>92.7                      </td> <td>91.1          </td>\n",
       "        </tr>\n",
       "        <tr>\n",
       "            <td>9   </td> <td>Harvard University                   </td> <td>United States</td> <td>87.1          </td> <td>95.2                  </td> <td>69.8          </td> <td>82.1                 </td> <td>93.4                      </td> <td>95            </td>\n",
       "        </tr>\n",
       "        <tr>\n",
       "            <td>12  </td> <td>The University of Chicago            </td> <td>United States</td> <td>85.6          </td> <td>95.8                  </td> <td>67.6          </td> <td>79                   </td> <td>93.5                      </td> <td>91.9          </td>\n",
       "        </tr>\n",
       "        <tr>\n",
       "            <td>76  </td> <td>Dartmouth College                    </td> <td>United States</td> <td>65.7          </td> <td>93.7                  </td> <td>67.5          </td> <td>60.6                 </td> <td>41                        </td> <td>65.7          </td>\n",
       "        </tr>\n",
       "        <tr>\n",
       "            <td>78  </td> <td>Boston University                    </td> <td>United States</td> <td>65.5          </td> <td>91.3                  </td> <td>63.5          </td> <td>81.4                 </td> <td>44.1                      </td> <td>47            </td>\n",
       "        </tr>\n",
       "        <tr>\n",
       "            <td>190 </td> <td>Worcester Polytechnic Institute      </td> <td>United States</td> <td>55.7          </td> <td>98.6                  </td> <td>67.2          </td> <td>67.9                 </td> <td>21.9                      </td> <td>23            </td>\n",
       "        </tr>\n",
       "    </tbody>\n",
       "</table>"
      ],
      "text/plain": [
       "rank | ranking-institution-title             | location      | Overall scores | Research Quality Score | Industry Score | International Outlook | Research Environment Score | Teaching Score\n",
       "1    | Massachusetts Institute of Technology | United States | 94.8           | 92.2                   | 99.9           | 89.6                  | 96.5                       | 96\n",
       "2    | Stanford University                   | United States | 93.1           | 91.9                   | 100            | 83.5                  | 91.8                       | 98.2\n",
       "4    | University of California, Berkeley    | United States | 90.6           | 95.2                   | 90.6           | 83.5                  | 92.7                       | 91.1\n",
       "9    | Harvard University                    | United States | 87.1           | 95.2                   | 69.8           | 82.1                  | 93.4                       | 95\n",
       "12   | The University of Chicago             | United States | 85.6           | 95.8                   | 67.6           | 79                    | 93.5                       | 91.9\n",
       "76   | Dartmouth College                     | United States | 65.7           | 93.7                   | 67.5           | 60.6                  | 41                         | 65.7\n",
       "78   | Boston University                     | United States | 65.5           | 91.3                   | 63.5           | 81.4                  | 44.1                       | 47\n",
       "190  | Worcester Polytechnic Institute       | United States | 55.7           | 98.6                   | 67.2           | 67.9                  | 21.9                       | 23"
      ]
     },
     "execution_count": 9,
     "metadata": {},
     "output_type": "execute_result"
    }
   ],
   "source": [
    "#SOLUTION\n",
    "ranking.where(\"location\", \"United States\").where(\"Research Quality Score\", are.above(90))"
   ]
  },
  {
   "cell_type": "markdown",
   "id": "a4d962f1-199f-4b97-a674-9a3719c9a631",
   "metadata": {},
   "source": [
    "### Prompt Below:"
   ]
  },
  {
   "cell_type": "code",
   "execution_count": null,
   "id": "ef60557a-dfc1-44af-8e7f-e86b05a12f9d",
   "metadata": {},
   "outputs": [],
   "source": [
    "%%ai openai-chat:gpt-4"
   ]
  },
  {
   "cell_type": "markdown",
   "id": "fe32f754-6750-4a92-be71-5bf856d4cf61",
   "metadata": {},
   "source": [
    "### Explain your workflow below:"
   ]
  },
  {
   "cell_type": "markdown",
   "id": "ef2aedcc-d9dd-4fd7-b0f1-a2adfd374975",
   "metadata": {},
   "source": [
    "*type your answer here*"
   ]
  },
  {
   "cell_type": "markdown",
   "id": "0cfcf8e9-8a91-42ed-8c88-afa4e058222d",
   "metadata": {},
   "source": [
    "**Q5:** How can you add a column to the table of US universities that shows the rank of each university considering only US universities? *Hint:* Check out https://inferentialthinking.com/chapters/06/Tables.html.\n",
    "\n",
    "*Hint:* Remember, if you need a new column for your table, you need an array first"
   ]
  },
  {
   "cell_type": "code",
   "execution_count": 10,
   "id": "fec02b66-97e9-4daa-872e-d85884b7dfcb",
   "metadata": {},
   "outputs": [
    {
     "data": {
      "text/html": [
       "<table border=\"1\" class=\"dataframe\">\n",
       "    <thead>\n",
       "        <tr>\n",
       "            <th>rank</th> <th>ranking-institution-title</th> <th>location</th> <th>Overall scores</th> <th>Research Quality Score</th> <th>Industry Score</th> <th>International Outlook</th> <th>Research Environment Score</th> <th>Teaching Score</th> <th>US Rank</th>\n",
       "        </tr>\n",
       "    </thead>\n",
       "    <tbody>\n",
       "        <tr>\n",
       "            <td>1   </td> <td>Massachusetts Institute of Technology</td> <td>United States</td> <td>94.8          </td> <td>92.2                  </td> <td>99.9          </td> <td>89.6                 </td> <td>96.5                      </td> <td>96            </td> <td>1      </td>\n",
       "        </tr>\n",
       "        <tr>\n",
       "            <td>2   </td> <td>Stanford University                  </td> <td>United States</td> <td>93.1          </td> <td>91.9                  </td> <td>100           </td> <td>83.5                 </td> <td>91.8                      </td> <td>98.2          </td> <td>2      </td>\n",
       "        </tr>\n",
       "        <tr>\n",
       "            <td>4   </td> <td>University of California, Berkeley   </td> <td>United States</td> <td>90.6          </td> <td>95.2                  </td> <td>90.6          </td> <td>83.5                 </td> <td>92.7                      </td> <td>91.1          </td> <td>3      </td>\n",
       "        </tr>\n",
       "        <tr>\n",
       "            <td>9   </td> <td>Harvard University                   </td> <td>United States</td> <td>87.1          </td> <td>95.2                  </td> <td>69.8          </td> <td>82.1                 </td> <td>93.4                      </td> <td>95            </td> <td>4      </td>\n",
       "        </tr>\n",
       "        <tr>\n",
       "            <td>11  </td> <td>Duke University                      </td> <td>United States</td> <td>85.7          </td> <td>80.2                  </td> <td>100           </td> <td>83                   </td> <td>87.5                      </td> <td>77.7          </td> <td>5      </td>\n",
       "        </tr>\n",
       "        <tr>\n",
       "            <td>12  </td> <td>The University of Chicago            </td> <td>United States</td> <td>85.6          </td> <td>95.8                  </td> <td>67.6          </td> <td>79                   </td> <td>93.5                      </td> <td>91.9          </td> <td>6      </td>\n",
       "        </tr>\n",
       "        <tr>\n",
       "            <td>14  </td> <td>Yale University                      </td> <td>United States</td> <td>85            </td> <td>86.9                  </td> <td>67.8          </td> <td>85.1                 </td> <td>89.3                      </td> <td>96.1          </td> <td>7      </td>\n",
       "        </tr>\n",
       "        <tr>\n",
       "            <td>15  </td> <td>Columbia University                  </td> <td>United States</td> <td>84.8          </td> <td>79.2                  </td> <td>77.3          </td> <td>87.7                 </td> <td>87.8                      </td> <td>92            </td> <td>8      </td>\n",
       "        </tr>\n",
       "        <tr>\n",
       "            <td>16  </td> <td>Northwestern University              </td> <td>United States</td> <td>84.1          </td> <td>86.2                  </td> <td>77.2          </td> <td>79.8                 </td> <td>89.4                      </td> <td>88            </td> <td>9      </td>\n",
       "        </tr>\n",
       "        <tr>\n",
       "            <td>17  </td> <td>University of Pennsylvania           </td> <td>United States</td> <td>82.9          </td> <td>86.9                  </td> <td>71.4          </td> <td>74.9                 </td> <td>89.2                      </td> <td>92.2          </td> <td>10     </td>\n",
       "        </tr>\n",
       "    </tbody>\n",
       "</table>\n",
       "<p>... (133 rows omitted)</p>"
      ],
      "text/plain": [
       "rank | ranking-institution-title             | location      | Overall scores | Research Quality Score | Industry Score | International Outlook | Research Environment Score | Teaching Score | US Rank\n",
       "1    | Massachusetts Institute of Technology | United States | 94.8           | 92.2                   | 99.9           | 89.6                  | 96.5                       | 96             | 1\n",
       "2    | Stanford University                   | United States | 93.1           | 91.9                   | 100            | 83.5                  | 91.8                       | 98.2           | 2\n",
       "4    | University of California, Berkeley    | United States | 90.6           | 95.2                   | 90.6           | 83.5                  | 92.7                       | 91.1           | 3\n",
       "9    | Harvard University                    | United States | 87.1           | 95.2                   | 69.8           | 82.1                  | 93.4                       | 95             | 4\n",
       "11   | Duke University                       | United States | 85.7           | 80.2                   | 100            | 83                    | 87.5                       | 77.7           | 5\n",
       "12   | The University of Chicago             | United States | 85.6           | 95.8                   | 67.6           | 79                    | 93.5                       | 91.9           | 6\n",
       "14   | Yale University                       | United States | 85             | 86.9                   | 67.8           | 85.1                  | 89.3                       | 96.1           | 7\n",
       "15   | Columbia University                   | United States | 84.8           | 79.2                   | 77.3           | 87.7                  | 87.8                       | 92             | 8\n",
       "16   | Northwestern University               | United States | 84.1           | 86.2                   | 77.2           | 79.8                  | 89.4                       | 88             | 9\n",
       "17   | University of Pennsylvania            | United States | 82.9           | 86.9                   | 71.4           | 74.9                  | 89.2                       | 92.2           | 10\n",
       "... (133 rows omitted)"
      ]
     },
     "execution_count": 10,
     "metadata": {},
     "output_type": "execute_result"
    }
   ],
   "source": [
    "#SOLUTION\n",
    "# Step 1: Filter the table to only US universities\n",
    "us_universities = ranking.where(\"location\", are.equal_to(\"United States\"))\n",
    "\n",
    "# Step 2: Add a new column with US-specific ranks\n",
    "us_ranked = us_universities.with_column(\n",
    "    \"US Rank\", np.arange(1, us_universities.num_rows + 1)\n",
    ")\n",
    "\n",
    "us_ranked"
   ]
  },
  {
   "cell_type": "markdown",
   "id": "f403e69c-6d54-44f9-ac96-5d2e38381ecc",
   "metadata": {},
   "source": [
    "### Prompt Below:"
   ]
  },
  {
   "cell_type": "code",
   "execution_count": null,
   "id": "18abf03e-7f32-42b1-a53b-c0477f23b2b1",
   "metadata": {},
   "outputs": [],
   "source": [
    "%%ai openai-chat:gpt-4"
   ]
  },
  {
   "cell_type": "markdown",
   "id": "1f60768c-9efc-43a3-83d2-fbe6832de3b2",
   "metadata": {},
   "source": [
    "### Explain your workflow below:"
   ]
  },
  {
   "cell_type": "markdown",
   "id": "777da540-749c-465f-b4d7-3a1e01589fb3",
   "metadata": {},
   "source": [
    "*type your answer here*"
   ]
  },
  {
   "cell_type": "markdown",
   "id": "59d56e16-2217-4084-b456-597bd69bb0a4",
   "metadata": {},
   "source": [
    "**Q6:** What is the rank of the University of Florida internationally and in the US? Show only the name of the university and the two ranks. *Hint:* https://inferentialthinking.com/chapters/06/2/Selecting_Rows.html might give you an idea."
   ]
  },
  {
   "cell_type": "code",
   "execution_count": 12,
   "id": "8aed707d-6e62-4a91-b36c-b73d620c299c",
   "metadata": {},
   "outputs": [
    {
     "data": {
      "text/html": [
       "<table border=\"1\" class=\"dataframe\">\n",
       "    <thead>\n",
       "        <tr>\n",
       "            <th>ranking-institution-title</th> <th>rank</th> <th>US Rank</th>\n",
       "        </tr>\n",
       "    </thead>\n",
       "    <tbody>\n",
       "        <tr>\n",
       "            <td>University of Florida    </td> <td>140 </td> <td>40     </td>\n",
       "        </tr>\n",
       "    </tbody>\n",
       "</table>"
      ],
      "text/plain": [
       "ranking-institution-title | rank | US Rank\n",
       "University of Florida     | 140  | 40"
      ]
     },
     "execution_count": 12,
     "metadata": {},
     "output_type": "execute_result"
    }
   ],
   "source": [
    "#SOLUTION\n",
    "us_ranked.where(\"ranking-institution-title\", \"University of Florida\").select(\"ranking-institution-title\", \"rank\", \"US Rank\")"
   ]
  },
  {
   "cell_type": "markdown",
   "id": "c98d7672-5bba-4038-ae66-6700d6f1f9c8",
   "metadata": {},
   "source": [
    "### Prompt Below:"
   ]
  },
  {
   "cell_type": "code",
   "execution_count": null,
   "id": "e3831abd-a0de-49b3-acf1-5523379842b1",
   "metadata": {},
   "outputs": [],
   "source": [
    "%%ai openai-chat:gpt-4"
   ]
  },
  {
   "cell_type": "markdown",
   "id": "23e57857-5f0c-48fb-a12f-bf5d0a8b4b74",
   "metadata": {},
   "source": [
    "### Explain your workflow below:"
   ]
  },
  {
   "cell_type": "markdown",
   "id": "9e9741c3-3a7d-4e12-9019-36cc90a6223b",
   "metadata": {},
   "source": [
    "*type your answer here*"
   ]
  },
  {
   "cell_type": "markdown",
   "id": "ce0b305f-2c68-4f4e-8a71-dd145a7f65d8",
   "metadata": {},
   "source": [
    "**Q7:** How many countries have at least 1 university in your rankings table? You need to get the count and a table with just the names of the universities *Hint:* Are there any table methods you might use to group information?"
   ]
  },
  {
   "cell_type": "code",
   "execution_count": 13,
   "id": "31bfc3d9-a700-438f-8ed3-ad17e4f500e5",
   "metadata": {},
   "outputs": [
    {
     "data": {
      "text/plain": [
       "78"
      ]
     },
     "execution_count": 13,
     "metadata": {},
     "output_type": "execute_result"
    }
   ],
   "source": [
    "#SOLUTION\n",
    "ranking.group(\"location\").num_rows"
   ]
  },
  {
   "cell_type": "markdown",
   "id": "fdddfb3d-7b1d-42fc-b48e-9bd8c2ae22d5",
   "metadata": {},
   "source": [
    "### Prompt Below:"
   ]
  },
  {
   "cell_type": "code",
   "execution_count": null,
   "id": "e84f4f27-5749-4528-bd9d-6c8d80ca4eeb",
   "metadata": {},
   "outputs": [],
   "source": [
    "%%ai openai-chat:gpt-4"
   ]
  },
  {
   "cell_type": "markdown",
   "id": "31bb651c-925f-4476-9e33-8f871e3827da",
   "metadata": {},
   "source": [
    "### Explain your workflow below:"
   ]
  },
  {
   "cell_type": "markdown",
   "id": "b45aa323-b8e7-406d-a0aa-736abc1fd0cc",
   "metadata": {},
   "source": [
    "*type your answer here*"
   ]
  },
  {
   "cell_type": "markdown",
   "id": "18176f22-be57-4faa-ba6c-9fdd4ed7de6a",
   "metadata": {},
   "source": [
    "**Q8:** What is the best university in teaching in the US? What is it worldwide? *Hint*: Check out https://inferentialthinking.com/chapters/06/1/Sorting_Rows.html."
   ]
  },
  {
   "cell_type": "code",
   "execution_count": 16,
   "id": "005c6a62-9c8a-4282-8dd5-46ae5c95bd6c",
   "metadata": {},
   "outputs": [
    {
     "data": {
      "text/html": [
       "<table border=\"1\" class=\"dataframe\">\n",
       "    <thead>\n",
       "        <tr>\n",
       "            <th>rank</th> <th>ranking-institution-title</th> <th>location</th> <th>Overall scores</th> <th>Research Quality Score</th> <th>Industry Score</th> <th>International Outlook</th> <th>Research Environment Score</th> <th>Teaching Score</th> <th>US Rank</th>\n",
       "        </tr>\n",
       "    </thead>\n",
       "    <tbody>\n",
       "        <tr>\n",
       "            <td>2   </td> <td>Stanford University      </td> <td>United States</td> <td>93.1          </td> <td>91.9                  </td> <td>100           </td> <td>83.5                 </td> <td>91.8                      </td> <td>98.2          </td> <td>2      </td>\n",
       "        </tr>\n",
       "    </tbody>\n",
       "</table>"
      ],
      "text/plain": [
       "rank | ranking-institution-title | location      | Overall scores | Research Quality Score | Industry Score | International Outlook | Research Environment Score | Teaching Score | US Rank\n",
       "2    | Stanford University       | United States | 93.1           | 91.9                   | 100            | 83.5                  | 91.8                       | 98.2           | 2"
      ]
     },
     "execution_count": 16,
     "metadata": {},
     "output_type": "execute_result"
    }
   ],
   "source": [
    "#SOLUTION\n",
    "us_ranked.sort(\"Teaching Score\", descending=True).take(0)\n",
    "# ranking.sort(\"Teaching Score\", descending=True).take(0)"
   ]
  },
  {
   "cell_type": "markdown",
   "id": "784b4e20-8f93-4583-aeb8-1ffedc00d067",
   "metadata": {},
   "source": [
    "### Prompt Below:"
   ]
  },
  {
   "cell_type": "code",
   "execution_count": null,
   "id": "430109f2-dda0-4e86-8b0b-2ce24518c0ed",
   "metadata": {},
   "outputs": [],
   "source": [
    "%%ai openai-chat:gpt-4"
   ]
  },
  {
   "cell_type": "markdown",
   "id": "3922bfa2-768a-4bf4-876a-484878732175",
   "metadata": {},
   "source": [
    "### Explain your workflow below:"
   ]
  },
  {
   "cell_type": "markdown",
   "id": "2622e438-c8b2-4ddd-aca4-4d312ddb994b",
   "metadata": {},
   "source": [
    "*type your answer here*"
   ]
  },
  {
   "cell_type": "markdown",
   "id": "e8c5ca32-5c00-4166-b5bc-43c154bf43ad",
   "metadata": {},
   "source": [
    "**Q9:** How many universities have a research quality score below the average score? *Hint:* Think array operations on columns."
   ]
  },
  {
   "cell_type": "code",
   "execution_count": 17,
   "id": "94e3b719-a48b-40ae-9642-91fdc8d98490",
   "metadata": {},
   "outputs": [
    {
     "data": {
      "text/plain": [
       "409"
      ]
     },
     "execution_count": 17,
     "metadata": {},
     "output_type": "execute_result"
    }
   ],
   "source": [
    "#SOLUTION\n",
    "# Step 1: Compute the average Research Quality Score\n",
    "avg_score = np.mean(ranking.column(\"Research Quality Score\"))\n",
    "\n",
    "# Step 2: Filter universities with score below the average\n",
    "below_avg = ranking.where(\"Research Quality Score\", are.below(avg_score))\n",
    "\n",
    "# Step 3: Count how many universities meet the condition\n",
    "below_avg.num_rows"
   ]
  },
  {
   "cell_type": "markdown",
   "id": "68cc9aa9-fe29-4578-9e92-8c75b75380a4",
   "metadata": {},
   "source": [
    "### Prompt Below:"
   ]
  },
  {
   "cell_type": "code",
   "execution_count": null,
   "id": "8c81867e-ae67-4cf1-9f7d-72ca8e275199",
   "metadata": {},
   "outputs": [],
   "source": [
    "%%ai openai-chat:gpt-4"
   ]
  },
  {
   "cell_type": "markdown",
   "id": "8cf1061e-bd9a-4572-a67e-46703a2beb57",
   "metadata": {},
   "source": [
    "### Explain your workflow below:"
   ]
  },
  {
   "cell_type": "markdown",
   "id": "6bc354a9-4bc4-428c-a565-df7e55f8f8f7",
   "metadata": {},
   "source": [
    "*type your answer here*"
   ]
  },
  {
   "cell_type": "markdown",
   "id": "a8cc87e5-f464-4d74-9bc1-7cb8f0991f87",
   "metadata": {},
   "source": [
    "**Q10:** Is there a university that is in the top 20% according to the industry score but in the bottom 20% according to the research quality score? *Hint:* Divide this task into steps and solve it piece by piece. Dont forget to store important information in different variables! You might just need to access it later"
   ]
  },
  {
   "cell_type": "code",
   "execution_count": null,
   "id": "e245f6fd-b580-40cc-83be-73d94f593275",
   "metadata": {},
   "outputs": [],
   "source": [
    "#SOLUTION"
   ]
  },
  {
   "cell_type": "markdown",
   "id": "fc4fdc58-69ef-4631-90df-7b086be9ae82",
   "metadata": {},
   "source": [
    "### Prompt Below:"
   ]
  },
  {
   "cell_type": "code",
   "execution_count": null,
   "id": "84977801-ec74-4962-bf00-82df8dc85ed9",
   "metadata": {},
   "outputs": [],
   "source": [
    "%%ai openai-chat:gpt-4"
   ]
  },
  {
   "cell_type": "markdown",
   "id": "5524f797-1461-4047-8562-11543f1d69e5",
   "metadata": {},
   "source": [
    "### Explain your workflow below:"
   ]
  },
  {
   "cell_type": "markdown",
   "id": "3d7d43cf-f891-44ce-897f-6e426a959161",
   "metadata": {},
   "source": [
    "*type your answer here*"
   ]
  },
  {
   "cell_type": "markdown",
   "id": "b0243889-01ac-44aa-b08c-5a4a953f8517",
   "metadata": {},
   "source": [
    "**Q11:** From which country is the university with the lowest ranking in research environment? Print only the country. *Hint:* https://inferentialthinking.com/chapters/06/1/Sorting_Rows.html might give you an idea."
   ]
  },
  {
   "cell_type": "code",
   "execution_count": null,
   "id": "832739a1-a7b1-4f0b-9683-91fcaeade82f",
   "metadata": {},
   "outputs": [],
   "source": [
    "#SOLUTION"
   ]
  },
  {
   "cell_type": "markdown",
   "id": "0a0b19dc-a26f-4078-b625-764ae706899d",
   "metadata": {},
   "source": [
    "### Prompt Below:"
   ]
  },
  {
   "cell_type": "code",
   "execution_count": null,
   "id": "d3b3a616-a94a-4db1-ada0-6f9e7e736f4e",
   "metadata": {},
   "outputs": [],
   "source": [
    "%%ai openai-chat:gpt-4"
   ]
  },
  {
   "cell_type": "markdown",
   "id": "b4bfb714-877b-40b9-9eb4-a455ca7c917e",
   "metadata": {},
   "source": [
    "### Explain your workflow below:"
   ]
  },
  {
   "cell_type": "markdown",
   "id": "b38e0519-4307-4b6b-b883-3c2edf0ba0a8",
   "metadata": {},
   "source": [
    "*type your answer here*"
   ]
  },
  {
   "cell_type": "markdown",
   "id": "eec44054-7c68-435b-9da7-a00be40669da",
   "metadata": {},
   "source": [
    "**Q12: Challenge Question - UNGRADED**\n",
    "You are a data analyst at Times Higher Education , one of the companies that releases the worldwide university ranking list every year. As an alternative list, your company wants to release a research focused university ranking list. The current ranking is decided by the Overall Score, which is a mean of all 5 factor scores. For a research focused ranking, your manager has asked you to make the following changes to how the score is calculated:\n",
    "1. Research Quality Score and Research Environment Score are worth **1.5** times what they currently are\n",
    "2. Industry Score and International Outlook are worth **half** of their current value.\n",
    "\n",
    "Using these new weighing schemes. Calculate the new overall score and return the top 5 research universities.\n",
    "\n",
    "This question can be solved by using the techniques taught in lectures and labs so far.\n",
    "\n",
    "*Hint:* Look up array broadcasting https://numpy.org/doc/stable/user/basics.broadcasting.html and arithmetic operations with numpy arrays https://www.geeksforgeeks.org/numpy-arithmetic-operations/\n",
    "\n",
    "This question will not be graded but you are strongly encouraged to give it a try. This question gives a good example of the level of problems you will be expected to solve in your project assignments (Midterm and Final). If you cannot solve it, try to write down the steps you would take to solve the problem. See if chatgpt can solve it for you with the right prompts."
   ]
  },
  {
   "cell_type": "code",
   "execution_count": null,
   "id": "3aaedc21-ffc4-48bd-8ca3-b703d2858424",
   "metadata": {},
   "outputs": [],
   "source": [
    "#SOLUTION"
   ]
  },
  {
   "cell_type": "markdown",
   "id": "5166420c-f8d0-4e12-bddc-619d4921eb21",
   "metadata": {},
   "source": [
    "### Prompt Below:"
   ]
  },
  {
   "cell_type": "code",
   "execution_count": null,
   "id": "7883e382-841b-4667-a468-af6a6ae05169",
   "metadata": {},
   "outputs": [],
   "source": [
    "%%ai openai-chat:gpt-4"
   ]
  },
  {
   "cell_type": "markdown",
   "id": "f5a39951-95ac-4a50-8e85-938b4f8106e4",
   "metadata": {},
   "source": [
    "### Explain your workflow below:"
   ]
  },
  {
   "cell_type": "markdown",
   "id": "48295c4a-4ff5-4c67-93da-8d5c850fc3ad",
   "metadata": {},
   "source": [
    "*type your answer here*"
   ]
  },
  {
   "cell_type": "markdown",
   "id": "cd2f088e",
   "metadata": {},
   "source": [
    "**Congratulations! You have completed Lab 2. Please ensure all your code cells have been run, but do not rerun your ChatGPT cells. Please download the file in .ipynb format and submit it to Gradescope.** "
   ]
  }
 ],
 "metadata": {
  "kernelspec": {
   "display_name": "Python 3 (ipykernel)",
   "language": "python",
   "name": "python3"
  },
  "language_info": {
   "codemirror_mode": {
    "name": "ipython",
    "version": 3
   },
   "file_extension": ".py",
   "mimetype": "text/x-python",
   "name": "python",
   "nbconvert_exporter": "python",
   "pygments_lexer": "ipython3",
   "version": "3.12.9"
  }
 },
 "nbformat": 4,
 "nbformat_minor": 5
}
