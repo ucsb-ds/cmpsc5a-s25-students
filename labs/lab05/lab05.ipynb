{
 "cells": [
  {
   "cell_type": "code",
   "execution_count": null,
   "id": "4c5bd2ae-fbf8-4412-8f7a-5d24fde4a83a",
   "metadata": {},
   "outputs": [],
   "source": [
    "%load_ext jupyter_ai_magics"
   ]
  },
  {
   "cell_type": "code",
   "execution_count": null,
   "id": "cca9e2d3-14ef-4661-ad1e-13c52f61e68e",
   "metadata": {},
   "outputs": [],
   "source": [
    "from datascience import *\n",
    "import numpy as np\n",
    "\n",
    "# needed for plotting with datascience module\n",
    "%matplotlib inline\n",
    "import matplotlib.pyplot as plots\n",
    "plots.style.use('fivethirtyeight')\n",
    "\n",
    "from IPython.display import display, Image"
   ]
  },
  {
   "cell_type": "markdown",
   "id": "9d7db5e4-4549-44ee-afe1-73dc07a80833",
   "metadata": {},
   "source": [
    "# CMPSC 5A, S25, lab05: Wine Quality Control\n",
    "\n",
    "In this lab, we'll dive into the fascinating world of wine quality analysis, something very topical for our local economy in Santa Barbara county.\n",
    "\n",
    "We're going to explore a dataset from [Kaggle.com](https://www.kaggle.com/) that contains detailed information about various wines, including their chemical properties like acidity, sugar content, alcohol level, and more, as well as a quality rating given by wine experts. This dataset is not just a collection of numbers and facts; it's a doorway into understanding how different factors contribute to the taste and quality of wine.\n",
    "\n",
    "Now, you might wonder why we can't just test every bottle to ensure top quality in a wine manufacturing plant. The answer lies in practicality and efficiency. Imagine a plant producing thousands of bottles per day - testing each one would be time-consuming and costly; if you open *every* bottle and test it, you have nothing left to sell! \n",
    "\n",
    "This is where the concept of sampling comes in. By carefully selecting a *representative sample* of bottles for quality testing, we can draw reliable conclusions about the overall quality of the wine production without having to test every single bottle. \n",
    "\n",
    "Sampling is a powerful tool in quality control, allowing us to maintain high standards efficiently and effectively. Through this dataset and our analysis, we'll uncover the secrets of what makes a great wine and learn how sampling helps maintain this greatness across batches.\n",
    "\n",
    "## Concepts covered in this lab\n",
    "\n",
    "In addition to sampling and simulation, we'll also briefly visit *Correlation* in this lab.\n",
    "\n",
    "Correlation is discussed in [Section 15.1 of our textbook](https://inferentialthinking.com/chapters/15/1/Correlation.html), and explained briefly later in this lab.\n",
    "\n",
    "You are invited to read (or review) Section 15.1 when we get to the questions about correlation.   *Don't worry* that we are skipping past many chapters; this one section does not depend on the material we are skipping over.  (However, don't feel the need to read on past Section 15.1; if you get into Section 15.2, you will encounter material we haven't covered yet.)\n",
    "\n",
    "## The wine_quality table\n",
    "\n",
    "Let's explore the wine quality table:"
   ]
  },
  {
   "cell_type": "code",
   "execution_count": null,
   "id": "9656c9e8-e235-49eb-8342-f6b1b49d39fd",
   "metadata": {},
   "outputs": [],
   "source": [
    "wine_quality = Table().read_table(\"data/winequality-red.csv\")\n",
    "\n",
    "def add_noise(col):\n",
    "    noise = num = np.random.uniform(-0.5, 0.5)\n",
    "    return col+noise\n",
    "wine_quality['quality'] = wine_quality.apply(add_noise, 'quality')\n",
    "\n",
    "wine_quality.show(5)"
   ]
  },
  {
   "cell_type": "markdown",
   "id": "f8cfdbff-1a50-4f8a-90b8-e1b1a4f04881",
   "metadata": {},
   "source": [
    "# Part 1: Correlations\n",
    "\n",
    "Correlation is a measure of the  strength and direction of relationship between two\n",
    "variables.  It ranges from -1 to +1\n",
    "\n",
    "* +1: Perfect positive correlation\n",
    "* -1: Perfect negative correlation\n",
    "* 0: No correlation\n",
    "\n",
    "The formula for correlation is:\n",
    "\n",
    "$ r = \\frac{\\sum{(x - \\mu_x)(y - \\mu_y)}}{\\sigma_x \\sigma_y} $\n",
    "\n",
    "\n",
    "Or, on one line: r = Σ((x - μₓ)(y - μᵧ)) / (σₓσᵧ)"
   ]
  },
  {
   "cell_type": "markdown",
   "id": "d564c301-f969-41dc-a06f-4bf07f5be8fe",
   "metadata": {},
   "source": [
    "Fortunately, we don't really need to implement the details of this mathematical formula;  `numpy` will compute this for us with this function:\n",
    "\n",
    "```\n",
    "np.corrcoef(array_1, array_2)\n",
    "```\n",
    "\n",
    "The following table shows how we can interpret the results:\n",
    "\n",
    "| Correlation Coefficient (r) | Strength & Direction         |\n",
    "|-----------------------------|-------------------------------|\n",
    "| +1.0                        | Perfect positive correlation  |\n",
    "| +0.7 to +0.9                | Strong positive correlation   |\n",
    "| +0.4 to +0.6                | Moderate positive correlation |\n",
    "| +0.1 to +0.3                | Weak positive correlation     |\n",
    "| 0                           | No correlation                |\n",
    "| -0.1 to -0.3                | Weak negative correlation     |\n",
    "| -0.4 to -0.6                | Moderate negative correlation |\n",
    "| -0.7 to -0.9                | Strong negative correlation   |\n",
    "| -1.0                        | Perfect negative correlation  |\n",
    "\n",
    "\n",
    "**Correlation Example**: We can assess the correlation between residual sugar and alcohol in the `wine_quality` dataset with this calculation:\n"
   ]
  },
  {
   "cell_type": "code",
   "execution_count": null,
   "id": "8f998b80-033e-4b0e-934d-bc34e381acce",
   "metadata": {},
   "outputs": [],
   "source": [
    "sugar = wine_quality.column(\"residual sugar\")\n",
    "alcohol = wine_quality.column(\"alcohol\")\n",
    "sugar_vs_alcohol_pearson_correlation = np.corrcoef(sugar, alcohol)\n",
    "sugar_vs_alcohol_pearson_correlation"
   ]
  },
  {
   "cell_type": "markdown",
   "id": "3033b48c-4c5d-4cfa-9fc6-c49a722fec78",
   "metadata": {},
   "source": [
    "Note that the answer you get back is expressed as a 2x2 matrix, like this:\n",
    "\n",
    "```\n",
    "array([[ 1.        ,  0.04207544],\n",
    "       [ 0.04207544,  1.        ]])\n",
    "```"
   ]
  },
  {
   "cell_type": "markdown",
   "id": "2b1314ed-fd09-4d54-a870-97a0048cacc5",
   "metadata": {},
   "source": [
    "The actual pearson coefficient is in position `[0][1]` and `[1][0]`.  The reason is that we specified two variables, and what we are getting back is actually the coefficients for every combination of those, including comparing each variable with itself (which, obviously, has a correlation of 1.0).\n",
    "\n",
    "We can also specify three variables, but to do that, we need to structure things a bit differently.\n"
   ]
  },
  {
   "cell_type": "code",
   "execution_count": null,
   "id": "dc270da0-3360-4652-89ce-95695c6d3143",
   "metadata": {},
   "outputs": [],
   "source": [
    "sugar = wine_quality.column(\"residual sugar\")\n",
    "alcohol = wine_quality.column(\"alcohol\")\n",
    "quality = wine_quality.column(\"quality\")\n",
    "\n",
    "data = np.array([sugar, alcohol, quality])\n",
    "three_way_comparison = np.corrcoef(data)\n",
    "three_way_comparison"
   ]
  },
  {
   "cell_type": "markdown",
   "id": "d3fb1bc8-fff3-4c5a-ab40-841d08ef293a",
   "metadata": {},
   "source": [
    "Here's how to interpet this data:\n",
    "\n",
    "|         | sugar                       | alcohol                      | quality                       |\n",
    "|---------|-----------------------------|------------------------------|-------------------------------|\n",
    "| sugar   | sugar,sugar (1.0)           | sugar,alcohol (0.04207544)   | sugar, quality (0.01373164)   |\n",
    "| alcohol | alcohol,sugar (0.04207544)  | alcohol,alcohol (1.0)        | alcohol, quality (0.47616632) |\n",
    "| quality | quality,sugar (0.01373164)  | quality,alcohol (0.47616632) | quality, quality (1.0) |\n",
    "\n",
    "This extends to as many dimensions as you want.\n",
    "\n",
    "**Using Scatter Plots to show correlations**\n",
    "\n",
    "We can also get a sense of correlations through scatter plots.  Highly correlated data will cluster near something like a \"line\", while uncorrelated data will be scattered all over the $x,y$ Cartesian plane.\n",
    "\n",
    "For example, since there seems to be a \"moderate positive\" correlation between alcohol and quality, let's plot those on an x,y scatter plot.  We'll include `fit_line=True`; this shows what is called a *regression line*.  \n",
    "\n",
    "This *regression line* is related to the Pearson correlation coefficient, though that's all we are going to say about it for now; we'll explore that relationship later in the course if time permits.). For now, we'll just say that it helps us to see what the relationship between the data looks like, if there is one.\n",
    "\n"
   ]
  },
  {
   "cell_type": "code",
   "execution_count": null,
   "id": "906c01b8-537d-4e6e-977b-47aa0f791793",
   "metadata": {},
   "outputs": [],
   "source": [
    "wine_quality.scatter(\"alcohol\",\"quality\", fit_line=True)"
   ]
  },
  {
   "cell_type": "markdown",
   "id": "f08d4051-6797-455e-a741-7e8b0781cd89",
   "metadata": {},
   "source": [
    "Here's one more calculation of correlation and the scatter plot to go with it.  From the names and a persual of the data, we might expect `fixed acidity` and  \t`volatile acidity` to be correlated.  Here's that calcuation:"
   ]
  },
  {
   "cell_type": "code",
   "execution_count": null,
   "id": "048bd46c-d53d-4cdb-b86c-2992a57a11de",
   "metadata": {},
   "outputs": [],
   "source": [
    "fixed = wine_quality.column(\"fixed acidity\")\n",
    "volatile = wine_quality.column(\"volatile acidity\")\n",
    "fixed_vs_volatile = np.corrcoef(fixed, volatile)\n",
    "fixed_vs_volatile"
   ]
  },
  {
   "cell_type": "markdown",
   "id": "709a9d74-b279-462f-98b2-c8156d53d673",
   "metadata": {},
   "source": [
    "Looks like it's a weak negative correlation.  Here's the plot:"
   ]
  },
  {
   "cell_type": "code",
   "execution_count": null,
   "id": "d22059d0-de94-4001-9c41-70ff052da91c",
   "metadata": {},
   "outputs": [],
   "source": [
    "wine_quality.scatter(\"fixed acidity\",\"volatile acidity\", fit_line=True)"
   ]
  },
  {
   "cell_type": "markdown",
   "id": "7a4f4503-e52e-4622-bfe5-f5c2d7272ee2",
   "metadata": {},
   "source": [
    "As you can see, the `fit_line` has a negative slope, which correponds to the negative value for the Pearson coefficient."
   ]
  },
  {
   "cell_type": "code",
   "execution_count": null,
   "id": "5392c498-661b-4c7f-899e-35b4f7c761bb",
   "metadata": {},
   "outputs": [],
   "source": []
  },
  {
   "cell_type": "markdown",
   "id": "72f3a312-ee36-4331-9a49-8dbea36a4dc3",
   "metadata": {},
   "source": [
    "**Q1.1** Lets quickly analyze some key columns in our dataset using sampling. \n",
    "\n",
    "First, use the code cell below to obtain a random sample of 100 wines from the dataset. \n",
    "\n",
    "Then, in the markdown/text cell, answer these questions:\n",
    "1. What is the average quality rating of the sampled wines?\n",
    "2. Does this average differ significantly from the overall average quality rating in the full dataset?"
   ]
  },
  {
   "cell_type": "code",
   "execution_count": null,
   "id": "62ba5a81-c94d-4067-9048-cf7ec5a6568e",
   "metadata": {},
   "outputs": [],
   "source": [
    "# SOLUTION (code to obtain random sample of 100 wines)\n",
    "random_sample = ...\n",
    "average_quality_rating_of_sample = ...\n",
    "average_quality_of_entire_dataset = ..."
   ]
  },
  {
   "cell_type": "markdown",
   "id": "471ec30b-ecd8-4a3d-9a14-1df2ae9236ca",
   "metadata": {},
   "source": [
    "*SOLUTION* (answer both text questions) \n",
    "1. answer here\n",
    "2. answer here"
   ]
  },
  {
   "cell_type": "markdown",
   "id": "f16c49f9-051b-4d3a-a804-b6685ca366b5",
   "metadata": {},
   "source": [
    "### Prompt Here"
   ]
  },
  {
   "cell_type": "code",
   "execution_count": null,
   "id": "95d9ab32-5bdd-4eb1-8e3f-490ef4c37b4b",
   "metadata": {},
   "outputs": [],
   "source": [
    "%%ai openai-chat:gpt-3.5-turbo"
   ]
  },
  {
   "cell_type": "markdown",
   "id": "e9a37458-b4aa-4bb9-b51e-33de312017e5",
   "metadata": {},
   "source": [
    "### Workflow"
   ]
  },
  {
   "cell_type": "markdown",
   "id": "3e5cb68c-7642-49d6-81fa-9363cd3eb073",
   "metadata": {},
   "source": [
    "Enter Workflow Here."
   ]
  },
  {
   "cell_type": "markdown",
   "id": "07ab3a33-2e92-44d2-9d7d-8138752ac946",
   "metadata": {},
   "source": [
    "**Q1.2** Using your random sample, identify the top three chemical properties that correlate the most strongly with the wine quality. \n",
    "\n",
    "You must have visualizations supporting your conclusions.\n",
    "\n",
    "Hint: One approach is scatter plots that compare quality on one axis, and each of the other qualities on the other axis.\n",
    "\n",
    "Note: You need to provide three things to get full credit for this question:\n",
    "* A text cell explaining the top three chemical properties that correlate most strongly with the wine quality\n",
    "* Visualizations and/or data tables to support your conclusions\n",
    "* The code that produces those"
   ]
  },
  {
   "cell_type": "markdown",
   "id": "7439b6a0-b036-4ec5-9459-9d63af65af54",
   "metadata": {},
   "source": [
    "*SOLUTION* (your English text answer goes here where you identify the top three chemical properties that correlate with wine quality, and explain how you arrived at that conclusion.  Make reference to the tables or visualizations below that you used to come up with your answer.)"
   ]
  },
  {
   "cell_type": "code",
   "execution_count": null,
   "id": "f5b53ff0-cfc3-4c07-ae98-1de2e7577da8",
   "metadata": {},
   "outputs": [],
   "source": [
    "# SOLUTION CODE CELLS (you will likely need multiple cells; \n",
    "# add as many as you need; delete the extra ones that you don't end up using)"
   ]
  },
  {
   "cell_type": "code",
   "execution_count": null,
   "id": "c194a931-833d-46f7-b700-8d94377cb75f",
   "metadata": {},
   "outputs": [],
   "source": [
    "# SOLUTION CODE CELLS (you will likely need multiple cells; \n",
    "# add as many as you need; delete the extra ones that you don't end up using)"
   ]
  },
  {
   "cell_type": "code",
   "execution_count": null,
   "id": "fd35fd5a-892f-4cc6-8510-cdff5bc3b616",
   "metadata": {},
   "outputs": [],
   "source": [
    "# SOLUTION CODE CELLS (you will likely need multiple cells; \n",
    "# add as many as you need; delete the extra ones that you don't end up using)"
   ]
  },
  {
   "cell_type": "code",
   "execution_count": null,
   "id": "fcd3ac0f-3396-4df7-8d27-47006d70e103",
   "metadata": {},
   "outputs": [],
   "source": [
    "# SOLUTION CODE CELLS (you will likely need multiple cells; \n",
    "# add as many as you need; delete the extra ones that you don't end up using)"
   ]
  },
  {
   "cell_type": "code",
   "execution_count": null,
   "id": "c92a9d3d-8a82-4cd2-b295-a2ed23c4be75",
   "metadata": {},
   "outputs": [],
   "source": [
    "# SOLUTION CODE CELLS (you will likely need multiple cells; \n",
    "# add as many as you need; delete the extra ones that you don't end up using)"
   ]
  },
  {
   "cell_type": "markdown",
   "id": "f48df23d-2427-4635-9065-3060f36d0125",
   "metadata": {},
   "source": [
    "### Prompt Here"
   ]
  },
  {
   "cell_type": "code",
   "execution_count": null,
   "id": "ce707e1e-a8ee-4684-9367-b38fab3de33a",
   "metadata": {},
   "outputs": [],
   "source": [
    "%%ai openai-chat:gpt-3.5-turbo"
   ]
  },
  {
   "cell_type": "markdown",
   "id": "afc45f74-c166-495b-a937-b94a91d2c8df",
   "metadata": {},
   "source": [
    "### Workflow"
   ]
  },
  {
   "cell_type": "markdown",
   "id": "5a39c904-cb4f-4fe1-8635-33d1b7466c8a",
   "metadata": {},
   "source": [
    "Enter Workflow Here."
   ]
  },
  {
   "cell_type": "markdown",
   "id": "17adf527-318e-4909-ae74-3e9f4330f3e2",
   "metadata": {},
   "source": [
    "# Part 2: Identifying High Quality Wines\n",
    "\n",
    "Pretend you are a wine quality tester. Your job is to identify the best wines given the following information. A high quality wine can be identified by the following factors:\n",
    "\n",
    "1. High **quality** (7 or above)\n",
    "2. Low **pH** value leading to good acidity (3.26 and below)\n",
    "3. Just the right amount of total sulfur dioxide (Between 35 and 50)\n",
    "\n",
    "These three factors are going to help you identify the high quality wines in this data. We are going to see exactly how rare a good high quality red wine is using probability. We will also leverage sampling and simulation to see the law of large numbers in action."
   ]
  },
  {
   "cell_type": "markdown",
   "id": "5da09060-99d8-4397-ab0d-36c5121c2c8d",
   "metadata": {},
   "source": [
    "**Q2.1** Based on this data set, what is the probability of getting a wine that satisfies condition 1?\n",
    "\n",
    "Hint: Compute how many wines in the data set have this property, and divide by the total number of rows in the data set.\n",
    "\n"
   ]
  },
  {
   "cell_type": "code",
   "execution_count": null,
   "id": "4208743a-7133-476d-b597-8d09c813002a",
   "metadata": {},
   "outputs": [],
   "source": [
    "#SOLUTION"
   ]
  },
  {
   "cell_type": "markdown",
   "id": "109828d6-e9eb-40ab-9764-8b468bcd326e",
   "metadata": {},
   "source": [
    "### Prompt Here"
   ]
  },
  {
   "cell_type": "code",
   "execution_count": null,
   "id": "7003265c-0894-4a10-825c-158e884eb61b",
   "metadata": {},
   "outputs": [],
   "source": [
    "%%ai openai-chat:gpt-4"
   ]
  },
  {
   "cell_type": "markdown",
   "id": "f36267d8-eee9-43cb-939c-f14d7feffc67",
   "metadata": {},
   "source": [
    "### Workflow"
   ]
  },
  {
   "cell_type": "markdown",
   "id": "db570f90-2706-47db-a444-dd4c71e3a7b2",
   "metadata": {},
   "source": [
    "Enter Workflow Here."
   ]
  },
  {
   "cell_type": "markdown",
   "id": "fc21a29a-4db9-4589-98f7-0fe20ede3959",
   "metadata": {},
   "source": [
    "**Q2.2** What is the probability of getting a wine that satisfies condition 1 and condition 2?"
   ]
  },
  {
   "cell_type": "code",
   "execution_count": null,
   "id": "e5ab4731-9f33-4a3f-bdb1-08449b376343",
   "metadata": {},
   "outputs": [],
   "source": [
    "#SOLUTION"
   ]
  },
  {
   "cell_type": "markdown",
   "id": "120bbe2f-9c5e-4344-907c-0a77a1b8ebf6",
   "metadata": {},
   "source": [
    "### Prompt Here"
   ]
  },
  {
   "cell_type": "code",
   "execution_count": null,
   "id": "aa7cba01-4eed-4d59-8b67-c09e08d17747",
   "metadata": {},
   "outputs": [],
   "source": [
    "%%ai openai-chat:gpt-4"
   ]
  },
  {
   "cell_type": "markdown",
   "id": "95d22c74-dc16-4564-9b67-f3dfcfcbf185",
   "metadata": {},
   "source": [
    "### Workflow"
   ]
  },
  {
   "cell_type": "markdown",
   "id": "3e1c2570-50f5-4e18-a36d-9e7ba903ae7e",
   "metadata": {},
   "source": [
    "Enter Workflow Here."
   ]
  },
  {
   "cell_type": "markdown",
   "id": "1e2fbed8-199d-4c4c-a094-97cf5bbdfc4c",
   "metadata": {},
   "source": [
    "**Q2.3** What is the probability of getting a wine that satisfies all three conditions?"
   ]
  },
  {
   "cell_type": "code",
   "execution_count": null,
   "id": "ec7e639f-6cb7-4118-895d-f686bf061764",
   "metadata": {},
   "outputs": [],
   "source": [
    "#SOLUTION"
   ]
  },
  {
   "cell_type": "markdown",
   "id": "e4c94246-95e2-426c-9579-5e220873c52b",
   "metadata": {},
   "source": [
    "### Prompt Here"
   ]
  },
  {
   "cell_type": "code",
   "execution_count": null,
   "id": "12485904-7bdb-48db-98ae-b6fe7952b473",
   "metadata": {},
   "outputs": [],
   "source": [
    "%%ai openai-chat:gpt-4"
   ]
  },
  {
   "cell_type": "markdown",
   "id": "993e12e5-f820-48af-b745-8fb8a48322fe",
   "metadata": {},
   "source": [
    "### Workflow"
   ]
  },
  {
   "cell_type": "markdown",
   "id": "08884bab-127a-4f5f-8774-c78a2b6c209e",
   "metadata": {},
   "source": [
    "Enter Workflow Here."
   ]
  },
  {
   "cell_type": "markdown",
   "id": "b59af0a0-1940-4747-9310-b03e3d45ccd9",
   "metadata": {},
   "source": [
    "# Part 3: The Law of Averages \n",
    "\n",
    "The Law of Averages states the following: \n",
    "\n",
    "> If a chance experiment is repeated independently and under identical conditions, then, in the long run, the proportion of times that an event occurs gets closer and closer to the theoretical probability of the event.\n",
    "\n",
    "The law above implies that if the chance experiment is repeated a large number of times then the proportion of times that an event occurs is very likely to be close to the theoretical probability of the event."
   ]
  },
  {
   "cell_type": "markdown",
   "id": "55f7befe-a2c2-40b0-a817-3933e9fb81c8",
   "metadata": {},
   "source": [
    "**Q3.1** Complete the function below called `high_quality_low_ph_fraction()` that take a table of rows from this data set as a parameter, and compute the fraction of them that meet both the conditions in the previous question, i.e.\n",
    "\n",
    "* High quality (7 or above)\n",
    "* Low pH value leading to good acidity (3.26 and below)\n",
    "\n",
    "After you define it, run it on the entire table with the line shown (`high_quality_low_ph_fraction(wine_quality)`)"
   ]
  },
  {
   "cell_type": "code",
   "execution_count": null,
   "id": "c711b98a-8a34-4fd0-ac99-4ad5f50ce38c",
   "metadata": {},
   "outputs": [],
   "source": [
    "# SOLUTION (finish the function definition by replacing the ... with the needed code)\n",
    "\n",
    "def high_quality_low_ph_fraction(winetable):\n",
    "    new_table = winetable.where(...) # finish this \n",
    "    return new_table.num_rows / winetable.num_rows\n",
    "\n",
    "high_quality_low_ph_fraction(wine_quality)"
   ]
  },
  {
   "cell_type": "markdown",
   "id": "f1d14732-f64d-4aac-8c85-fd218a31dd58",
   "metadata": {},
   "source": [
    "Then run this on a *random sample* of 50 wines from the table.   Note that each time you run the cell, the value obtained may be different, because your sample is different.   Keep running this until you see the value change, and notice whether the value is above, below or close to the value for the entire dataset."
   ]
  },
  {
   "cell_type": "code",
   "execution_count": null,
   "id": "944311d4-ab7a-4fc3-90e6-13b3c3fd34f0",
   "metadata": {},
   "outputs": [],
   "source": [
    "high_quality_low_ph_fraction(wine_quality.sample(50))"
   ]
  },
  {
   "cell_type": "markdown",
   "id": "1936e32e-c0fc-4d30-9ea6-90c88317b8ec",
   "metadata": {},
   "source": [
    "### Prompt Here"
   ]
  },
  {
   "cell_type": "code",
   "execution_count": null,
   "id": "1e4cbc73-0937-4b79-82df-1c4c2686d2a2",
   "metadata": {},
   "outputs": [],
   "source": [
    "%%ai openai-chat:gpt-4"
   ]
  },
  {
   "cell_type": "markdown",
   "id": "03fd339d-f728-47cd-9a81-f96f4114d9ac",
   "metadata": {},
   "source": [
    "### Workflow"
   ]
  },
  {
   "cell_type": "markdown",
   "id": "f59cdbf4-b5b9-4bba-a17a-684658de5c86",
   "metadata": {},
   "source": [
    "Enter Workflow Here."
   ]
  },
  {
   "cell_type": "markdown",
   "id": "42568eea-85e6-474b-a7e4-20b692fcde5d",
   "metadata": {},
   "source": [
    "**Q3.2** Now, lets observe the law of large numbers in action. \n",
    "\n",
    "Consider the line of code in the previous problem:\n",
    "\n",
    "```python\n",
    "high_quality_low_ph_fraction(wine_quality.sample(50))\n",
    "```\n",
    "\n",
    "Each time we run this by hand, we get a different estimate of the proportion of wines that meet the two quality criteria (high quality, low acidity, i.e. quality >= 7, pH <= 3.26).\n",
    "\n",
    "We could sit here all day pressing shift enter on the cell above and watching the numbers change.\n",
    "But it's more efficient to let the computer do that for us.\n",
    "\n",
    "Here's a function definition that will allow us to speed up this process.\n",
    "\n",
    "It will run this function a specified number of times; we'll call this value `n`, because it's the number\n",
    "of repetitions.\n",
    "\n",
    "The function:\n",
    "* Initializes an empty list\n",
    "* Loops through a number of times\n",
    "* Runs the `high_quality_low_ph_fraction` on a random sample of 50 wines\n",
    "* Appends the result to a list\n",
    "* At the end, converts that list to a `numpy` array and returns it:"
   ]
  },
  {
   "cell_type": "code",
   "execution_count": null,
   "id": "10310288-b3f9-402d-8c31-cc353d411156",
   "metadata": {},
   "outputs": [],
   "source": [
    "def get_samples(n):\n",
    "    samples = []\n",
    "    for i in range(n):\n",
    "        sample = high_quality_low_ph_fraction(wine_quality.sample(50))\n",
    "        samples.append(sample)\n",
    "    return np.array(samples)\n",
    "\n",
    "get_samples(10)"
   ]
  },
  {
   "cell_type": "markdown",
   "id": "df9afbba-06f9-4f06-aaf3-e498057ec628",
   "metadata": {},
   "source": [
    "Let's try doing this four times.  \n",
    "\n",
    "* Call the function `get_samples` with values 10, 100, 1000, and 10000.\n",
    "* Assign those results to variables called `samples_10`, `samples_100`, `samples_1000` and `samples_10000`.\n",
    "* Plot a histogram of each of those four arrays\n",
    "* Print out the mean of each of those four arrays"
   ]
  },
  {
   "cell_type": "markdown",
   "id": "6fe029ce-a1f1-4fa2-bebf-41d6d7428636",
   "metadata": {},
   "source": [
    "**Q3.2a** (10 repetitions)\n"
   ]
  },
  {
   "cell_type": "code",
   "execution_count": null,
   "id": "4cdf010c-0fb1-4582-b7b7-550799ef0c05",
   "metadata": {},
   "outputs": [],
   "source": [
    "# SOLUTION (compute samples_10)\n",
    "\n",
    "samples_10 = ..."
   ]
  },
  {
   "cell_type": "code",
   "execution_count": null,
   "id": "6b4736d8-6e19-44e9-a45b-b09b4a5cc660",
   "metadata": {},
   "outputs": [],
   "source": [
    "# SOLUTION (show histogram of samples_10, and mean(average) of samples_10)\n",
    "# Hint: Create a table with a single column, using your samples_10 data, then use the .hist() method on that \n",
    "# Then display the mean of samples_10\n"
   ]
  },
  {
   "cell_type": "markdown",
   "id": "490c6943-d0c0-4d97-b4e8-ca64a97cd58a",
   "metadata": {},
   "source": [
    "**Q3.2b** (100 repetitions)"
   ]
  },
  {
   "cell_type": "code",
   "execution_count": null,
   "id": "63636379-004b-442e-832f-affc883fa34c",
   "metadata": {},
   "outputs": [],
   "source": [
    "# SOLUTION (compute samples_100)\n",
    "\n",
    "samples_100 = ..."
   ]
  },
  {
   "cell_type": "code",
   "execution_count": null,
   "id": "d0dd5f32-42a4-41ee-b61c-cae1dfbd59e0",
   "metadata": {},
   "outputs": [],
   "source": [
    "# SOLUTION (show histogram and mean)\n"
   ]
  },
  {
   "cell_type": "markdown",
   "id": "9ae9b635-4996-4914-bbf9-a145d900980a",
   "metadata": {},
   "source": [
    "**Q3.2c** (1000 repetitions)"
   ]
  },
  {
   "cell_type": "code",
   "execution_count": null,
   "id": "066415fb-d8f2-4e73-9dee-603d23d592f8",
   "metadata": {},
   "outputs": [],
   "source": [
    "# SOLUTION (compute samples_1000)\n",
    "\n",
    "samples_1000 = ..."
   ]
  },
  {
   "cell_type": "code",
   "execution_count": null,
   "id": "0310882c-4169-44c0-bece-10cc1066c018",
   "metadata": {},
   "outputs": [],
   "source": [
    "# SOLUTION (show histogram and mean)\n"
   ]
  },
  {
   "cell_type": "markdown",
   "id": "e68c99f4-01c9-45df-9dc4-e810e0ef7612",
   "metadata": {},
   "source": [
    "**Q3.2d** (10000 repetitions)"
   ]
  },
  {
   "cell_type": "code",
   "execution_count": null,
   "id": "426c6a24-460c-4b24-9148-82dd41f95b17",
   "metadata": {},
   "outputs": [],
   "source": [
    "# SOLUTION (compute samples_1000)\n",
    "\n",
    "samples_10000 = ..."
   ]
  },
  {
   "cell_type": "code",
   "execution_count": null,
   "id": "ba8908a7-39ba-45bd-97dc-677ec85b89e5",
   "metadata": {},
   "outputs": [],
   "source": [
    "# SOLUTION (show histogram and mean)\n"
   ]
  },
  {
   "cell_type": "markdown",
   "id": "100263d2-2afc-483b-92f1-0c0b03d458e9",
   "metadata": {},
   "source": [
    "### Prompt Here (for Q3.2 all parts)"
   ]
  },
  {
   "cell_type": "code",
   "execution_count": null,
   "id": "06834b26-7506-4f33-834a-6e690a2b9b7d",
   "metadata": {},
   "outputs": [],
   "source": [
    "%%ai openai-chat:gpt-4"
   ]
  },
  {
   "cell_type": "markdown",
   "id": "ea2b9300-15ef-4102-8203-341a4fd5c31e",
   "metadata": {},
   "source": [
    "### Workflow (for Q3.2 all parts)"
   ]
  },
  {
   "cell_type": "markdown",
   "id": "67b047a9-316c-4ac4-b7ea-f0375a77d97d",
   "metadata": {},
   "source": [
    "Enter Workflow Here."
   ]
  },
  {
   "cell_type": "markdown",
   "id": "294d26f3-9b49-4c8d-9c03-81d8586af54c",
   "metadata": {},
   "source": [
    "**Q3.4** Now, look at all four histograms above, as well as the means for all four values of `n`. \n",
    "\n",
    "Compare each of these to the actual fraction of wines that meet the two quality criteria in the entire data set (your answer to  Q2.2.\n",
    "\n",
    "In the Markdown cell below, discuss any trends you observed as you increased the number of times you took a random sample of 50 wines. "
   ]
  },
  {
   "cell_type": "markdown",
   "id": "7907b322-86e1-41aa-95ef-a66ca242bb45",
   "metadata": {},
   "source": [
    "*SOLUTION* (as English text)"
   ]
  },
  {
   "cell_type": "markdown",
   "id": "30f319cc-4229-4d32-b8e8-72be00a235a2",
   "metadata": {},
   "source": [
    "### Prompt Here"
   ]
  },
  {
   "cell_type": "code",
   "execution_count": null,
   "id": "01ca09b7-2271-4996-afc5-b75f5e28234f",
   "metadata": {},
   "outputs": [],
   "source": [
    "%%ai openai-chat:gpt-4"
   ]
  },
  {
   "cell_type": "markdown",
   "id": "9104d688-b943-4772-958c-a8c2f6b75021",
   "metadata": {},
   "source": [
    "### Workflow"
   ]
  },
  {
   "cell_type": "markdown",
   "id": "02d1765e-c067-425c-99b9-e423df271a6e",
   "metadata": {},
   "source": [
    "Enter Workflow Here."
   ]
  },
  {
   "cell_type": "markdown",
   "id": "cfc8fbea-ed97-41c2-afea-d6450c5da15b",
   "metadata": {},
   "source": [
    "**Q3.5** Now lets switch it up a notch. Simulate the probability in Q2.2 again by sampling **500** wines randomly from the dataset. Run the simulation 10, 100, 1000 and 10000 times. \n",
    "\n",
    "Plot a histogram of the probability values you observed during each simulation process and compute the average probability from each simulation (just as you did in Q3.2).\n",
    "\n",
    "Note that you may want to define a new function to do this (similar to the `get_samples` function where we hard coded the sample size as 50.)\n",
    "\n",
    "You'll probably need multiple code cells for your solution as well.   Add as many as you need.\n"
   ]
  },
  {
   "cell_type": "code",
   "execution_count": null,
   "id": "cdc8c9f9-adf4-4f79-9203-22db6eba82a2",
   "metadata": {},
   "outputs": [],
   "source": [
    "# SOLUTION code cells"
   ]
  },
  {
   "cell_type": "code",
   "execution_count": null,
   "id": "01797d15-2b61-46f0-af0f-4cc875321b6b",
   "metadata": {},
   "outputs": [],
   "source": [
    "# SOLUTION code cells"
   ]
  },
  {
   "cell_type": "code",
   "execution_count": null,
   "id": "a98e6e07-82a7-47f9-a1ba-96c3e67df081",
   "metadata": {},
   "outputs": [],
   "source": [
    "# SOLUTION code cells"
   ]
  },
  {
   "cell_type": "code",
   "execution_count": null,
   "id": "c728cce9-8dba-4dba-8b2d-ad27329bb991",
   "metadata": {},
   "outputs": [],
   "source": [
    "# SOLUTION code cells"
   ]
  },
  {
   "cell_type": "code",
   "execution_count": null,
   "id": "4f9b09d3-138f-4ecb-b2f8-677536e28c63",
   "metadata": {},
   "outputs": [],
   "source": [
    "# SOLUTION code cells"
   ]
  },
  {
   "cell_type": "markdown",
   "id": "713a9bda-589d-4553-a636-6bde6b49051c",
   "metadata": {},
   "source": [
    "### Prompt Here"
   ]
  },
  {
   "cell_type": "code",
   "execution_count": null,
   "id": "501f3894-2669-4890-9dd7-b0b1626cefa0",
   "metadata": {},
   "outputs": [],
   "source": [
    "%%ai openai-chat:gpt-4"
   ]
  },
  {
   "cell_type": "markdown",
   "id": "3e98c169-4ade-40fb-bd8d-b82f9922f1a1",
   "metadata": {},
   "source": [
    "### Workflow"
   ]
  },
  {
   "cell_type": "markdown",
   "id": "26a39a6e-95bd-422c-b5ec-010c37dac06b",
   "metadata": {},
   "source": [
    "Enter Workflow Here."
   ]
  },
  {
   "cell_type": "markdown",
   "id": "1102fd15-cb39-4569-b341-7aa4f5ae6cc9",
   "metadata": {},
   "source": [
    "##### **Q3.6** Now what changes do you observe? Does the simulated probability converge to the actual probability faster? Slower? Is it more or less accurate?"
   ]
  },
  {
   "cell_type": "markdown",
   "id": "e836f886-4cce-4203-8264-2be3b463f640",
   "metadata": {},
   "source": [
    "*SOLUTION* (as English text; be sure you answer *all* parts of the question)"
   ]
  },
  {
   "cell_type": "markdown",
   "id": "2b11f590-cc9a-4e48-b900-31ceec4dec0b",
   "metadata": {},
   "source": [
    "### Prompt Here"
   ]
  },
  {
   "cell_type": "code",
   "execution_count": null,
   "id": "6b3cabc2-6442-4677-89be-b92c31ba0dc9",
   "metadata": {},
   "outputs": [],
   "source": [
    "%%ai openai-chat:gpt-4"
   ]
  },
  {
   "cell_type": "markdown",
   "id": "9991bcf8-2f62-464b-bded-2d2cdab36c5d",
   "metadata": {},
   "source": [
    "### Workflow"
   ]
  },
  {
   "cell_type": "markdown",
   "id": "6e8251d1-fa03-469b-866c-40e8403eb7f5",
   "metadata": {},
   "source": [
    "Enter Workflow Here."
   ]
  },
  {
   "cell_type": "markdown",
   "id": "8198ec31-a26d-4ccc-8d16-a3e32f142cdd",
   "metadata": {},
   "source": [
    "# Finishing and submitting"
   ]
  },
  {
   "cell_type": "markdown",
   "id": "8445a09d-c163-48bd-986f-6a51b6220a55",
   "metadata": {},
   "source": [
    "Congratulations, you're done with Lab 5!  Be sure to \n",
    "- **Keep all your prompts** . \n",
    "- **Save and Checkpoint** from the `File` menu.\n",
    "- **Ensure every cell has been run (has a number Ex:[34] beside the cell)**.\n",
    "- Submit to Gradescope!"
   ]
  },
  {
   "cell_type": "code",
   "execution_count": null,
   "id": "0c74faef-5080-4ceb-b126-dbc629dbfd6d",
   "metadata": {},
   "outputs": [],
   "source": []
  }
 ],
 "metadata": {
  "kernelspec": {
   "display_name": "Python 3 (ipykernel)",
   "language": "python",
   "name": "python3"
  },
  "language_info": {
   "codemirror_mode": {
    "name": "ipython",
    "version": 3
   },
   "file_extension": ".py",
   "mimetype": "text/x-python",
   "name": "python",
   "nbconvert_exporter": "python",
   "pygments_lexer": "ipython3",
   "version": "3.12.9"
  }
 },
 "nbformat": 4,
 "nbformat_minor": 5
}
