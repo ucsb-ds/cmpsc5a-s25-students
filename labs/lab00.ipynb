{
 "cells": [
  {
   "cell_type": "code",
   "execution_count": 4,
   "id": "c24128c0-55cb-43af-bf9a-6dbadb7df07c",
   "metadata": {},
   "outputs": [
    {
     "name": "stdout",
     "output_type": "stream",
     "text": [
      "The jupyter_ai_magics extension is already loaded. To reload it, use:\n",
      "  %reload_ext jupyter_ai_magics\n"
     ]
    }
   ],
   "source": [
    "# Always press shift-enter to run this cell before trying to use AI in this notebook\n",
    "%load_ext jupyter_ai_magics"
   ]
  },
  {
   "cell_type": "markdown",
   "id": "06fa0abf-5517-4f93-956d-74559c468bea",
   "metadata": {},
   "source": [
    "# CMPSC 5A, S25, lab00\n",
    "\n",
    "In this lab, you have five tasks to complete:\n",
    "\n",
    "1. (70 points) You get the first 70 points just for downloading and submitting this file on your Gradescope (even with no modifications). We encourage you do that part during your week 1 discussion section, as it is also an attendance check (in-class assignment ic02).\n",
    "2. (10 points) Add a markdown cell with the heading `# About Me` (we'll cover the details below)\n",
    "4. (10 points) Add an AI cell with a prompt that asks about data sources for a subject you are interested in.\n",
    "5. (10 points) Add one more markdown cell with the heading `# AI Results` where you discuss the results you got from your prompt."
   ]
  },
  {
   "cell_type": "markdown",
   "id": "4abc9f5a-7da2-42ec-bc8b-3c7de2e86344",
   "metadata": {},
   "source": [
    "# Task 1 (70 points)\n",
    "\n",
    "The instructions for this are on Canvas; please find them there and follow them."
   ]
  },
  {
   "cell_type": "markdown",
   "id": "9d8c7a67-2f8b-4efc-baaf-46d1f8c028a2",
   "metadata": {},
   "source": [
    "# Task 2 (10 points)\n",
    "\n",
    "1. Double click inside this cell (the one you are reading now).  You should see a set of buttons at top right; one of them looks like a rectangle with a plus under it.  Clicking this should add a new empty cell. Do that now.  If you end up with extra empty cells, don't worry about it; we won't penalize you for that.  We just need at least one new empty cell below this one.   After you do that, press shift-enter to turn this cell from raw Markdown back into formatted text.\n",
    "2. Now, find the menu item at the top, just under `Settings` and `Help` that allows you to switch the cell between `Code`, `Markdown` and `Raw`.  Click into the new blank cell you created, and change it's type to `Markdown`.\n",
    "3. Now, in your new Markdown cell, enter a heading `# About Me`.  Then press shift-enter; you should see a formatted header that says \"About Me\".\n",
    "4. Now, go back in the cell, and enter some information about yourself as a bulletted list, like this:\n",
    "   ```\n",
    "   # About Me\n",
    "\n",
    "   * Name: Chris Gaucho\n",
    "   * Pronouns: she/her\n",
    "   * Major: Political Science\n",
    "   * Section Start Time: noon\n",
    "   * Data Interest: Sports, specifically professional Tennis\n",
    "   ```\n",
    "Some additional instructions appear below."
   ]
  },
  {
   "cell_type": "markdown",
   "id": "780ec536-c431-488f-b515-d1b4dfe7b35d",
   "metadata": {},
   "source": [
    "# Additional Instructions for the About Me Section\n",
    "\n",
    "For the name, choose the name you'd like to be called (e.g. if your offical name is Christina but you go by Chris, put Chris.)\n",
    "\n",
    "For the section time, choose one of: `noon`, `1pm`, `2pm`, `3pm`, or `4pm`.\n",
    "\n",
    "For the the `Data Interest` section, choose a kind of data that interests you that we could explroe in this course, just as we did in lecture; if you missed that, here are some examples. You can choose one of these if it appeals to you, but these are not the only choices. Feel free to suggest something that's not on the list.\n",
    "\n",
    "* Entertainment Data (movies, TV shows, Broadway shows)\n",
    "* Sports Data (team and individual performance)\n",
    "* Economic Data (income, debt, cost of living)\n",
    "* Weather Data\n",
    "* Earthquake Data\n",
    "* UCSB Enrollment Trends (which courses fill up the fastest?)\n",
    "* Transportation Data (which airline routes are most often delayed?)"
   ]
  },
  {
   "cell_type": "markdown",
   "id": "63dfa125-2aaa-466a-b275-a7f9946c97f6",
   "metadata": {},
   "source": [
    "# Task 2: (10 points) Create a code cell with an AI prompt\n",
    "\n",
    "Below this cell, there is an example of an AI prompt cell. Click on that cell and press control-enter to run it and see the results.\n",
    "\n",
    "Then, your task is to:\n",
    "* Create a new cell below that one\n",
    "* Change it's cell type to `Code`\n",
    "* Copy paste the contents of the existing AI prompt cell into the new code cell you create\n",
    "* Change the prompt to one that asks about the kind of data you are interested in, such as `Please provide me with links to some good source of data about (put your topic here) in CSV format`\n",
    "* Run the prompt."
   ]
  },
  {
   "cell_type": "code",
   "execution_count": 3,
   "id": "6058b5e2-8e40-4b9f-a382-85bd82a570bb",
   "metadata": {},
   "outputs": [
    {
     "data": {
      "text/markdown": [
       "Data Science is a field that involves extracting insights from data using various techniques and tools for decision-making purposes."
      ],
      "text/plain": [
       "<IPython.core.display.Markdown object>"
      ]
     },
     "execution_count": 3,
     "metadata": {
      "text/markdown": {
       "jupyter_ai": {
        "model_id": "gpt-3.5-turbo",
        "provider_id": "openai-chat"
       }
      }
     },
     "output_type": "execute_result"
    }
   ],
   "source": [
    "%%ai openai-chat:gpt-3.5-turbo\n",
    "In 20 words or fewer, what is Data Science?"
   ]
  },
  {
   "cell_type": "markdown",
   "id": "d3aae6db-ffe2-4b8f-b8ca-cf00e5820927",
   "metadata": {},
   "source": [
    "# Task 3: (10 points) Add one more markdown cell with heading `# AI Results`\n",
    "\n",
    "Now, add one more markdown cell below this with with heading `# AI Results`.  \n",
    "\n",
    "Then look at the results you got from ChatGPT.  Explore the links.  Are they good links or dead links?  Do you find any files in CSV (Comma Separated Value) format that have data that looks interesting?  (Optionally: if you don't know what CSV format is, add another AI prompt and ask chatgpt to \"Please give me a simple explanation of what CSV format is and how it is useful for data science\".\n",
    "\n",
    "Once you've looked over the results, write a couple of sentences describing whether the results you got seem useful or not.\n",
    "\n",
    "It is not required, but if you didn't get good results, optionally, add additional prompts to try to refine the results.  For example, in lecture yesterday, the instructor asked for data about NFL football, but the first two results were dead links.  He then said to chatgpt: \"Dude, those were dead links.  Can you try again and give me some good links this time?\"  And, indeed, on the second try, we got some live links!\n",
    "\n",
    "# IMPORTANT: Remember to resubmit!\n",
    "\n",
    "After completing steps 2, 3 and 4 (or as many as you can complete before the deadline, do step 1 again to submit your revised `lab00.ipynb` to Gradescope!\n"
   ]
  },
  {
   "cell_type": "code",
   "execution_count": null,
   "id": "3e23f254-0610-4ac8-9660-7a5409e62531",
   "metadata": {},
   "outputs": [],
   "source": []
  }
 ],
 "metadata": {
  "kernelspec": {
   "display_name": "Python 3 (ipykernel)",
   "language": "python",
   "name": "python3"
  },
  "language_info": {
   "codemirror_mode": {
    "name": "ipython",
    "version": 3
   },
   "file_extension": ".py",
   "mimetype": "text/x-python",
   "name": "python",
   "nbconvert_exporter": "python",
   "pygments_lexer": "ipython3",
   "version": "3.12.9"
  }
 },
 "nbformat": 4,
 "nbformat_minor": 5
}
