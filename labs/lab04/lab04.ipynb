{
 "cells": [
  {
   "cell_type": "code",
   "execution_count": null,
   "id": "5ea6ab15-a465-4faa-8501-8d4e45caf6d9",
   "metadata": {},
   "outputs": [],
   "source": [
    "# Click into this cell and press shift-enter before using this notebook.\n",
    "# This line loads the ability to use %%ai in your file\n",
    "%load_ext jupyter_ai_magics\n",
    "# These lines import the Python modules we commonly use in CMPSC 5A\n",
    "from datascience import *\n",
    "import numpy as np\n",
    "%matplotlib inline\n",
    "import matplotlib.pyplot as plots\n",
    "\n",
    "from IPython.display import display, Image"
   ]
  },
  {
   "cell_type": "markdown",
   "id": "35079670-768a-4ee2-ae51-5bbc83164cd8",
   "metadata": {},
   "source": [
    "# lab04, Student Starter Code, CMPSC 5A, S25"
   ]
  },
  {
   "cell_type": "markdown",
   "id": "f5451b45-add8-4f51-811d-244efbc87dd4",
   "metadata": {},
   "source": [
    "### Data Analysis and Visualization\n",
    "Let us continue analyzing the World University Rankings dataset. \n",
    "\n",
    "We will learn how to ask analytical questions and visualize data."
   ]
  },
  {
   "cell_type": "code",
   "execution_count": 2,
   "id": "e7c1b863-265e-4232-b7d0-2dca10de1ccc",
   "metadata": {},
   "outputs": [
    {
     "data": {
      "text/html": [
       "<table border=\"1\" class=\"dataframe\">\n",
       "    <thead>\n",
       "        <tr>\n",
       "            <th>rank</th> <th>ranking-institution-title</th> <th>location</th> <th>Overall scores</th> <th>Research Quality Score</th> <th>Industry Score</th> <th>International Outlook</th> <th>Research Environment Score</th> <th>Teaching Score</th>\n",
       "        </tr>\n",
       "    </thead>\n",
       "    <tbody>\n",
       "        <tr>\n",
       "            <td>1   </td> <td>Massachusetts Institute of Technology</td> <td>United States </td> <td>94.8          </td> <td>92.2                  </td> <td>99.9          </td> <td>89.6                 </td> <td>96.5                      </td> <td>96            </td>\n",
       "        </tr>\n",
       "        <tr>\n",
       "            <td>2   </td> <td>Stanford University                  </td> <td>United States </td> <td>93.1          </td> <td>91.9                  </td> <td>100           </td> <td>83.5                 </td> <td>91.8                      </td> <td>98.2          </td>\n",
       "        </tr>\n",
       "        <tr>\n",
       "            <td>3   </td> <td>University of Oxford                 </td> <td>United Kingdom</td> <td>91.3          </td> <td>81.7                  </td> <td>89.4          </td> <td>94.5                 </td> <td>97.4                      </td> <td>93.5          </td>\n",
       "        </tr>\n",
       "        <tr>\n",
       "            <td>4   </td> <td>University of California, Berkeley   </td> <td>United States </td> <td>90.6          </td> <td>95.2                  </td> <td>90.6          </td> <td>83.5                 </td> <td>92.7                      </td> <td>91.1          </td>\n",
       "        </tr>\n",
       "        <tr>\n",
       "            <td>5   </td> <td>Peking University                    </td> <td>China         </td> <td>90.4          </td> <td>74.5                  </td> <td>95.4          </td> <td>94                   </td> <td>91.8                      </td> <td>96.3          </td>\n",
       "        </tr>\n",
       "    </tbody>\n",
       "</table>\n",
       "<p>... (905 rows omitted)</p>"
      ],
      "text/plain": [
       "<IPython.core.display.HTML object>"
      ]
     },
     "metadata": {},
     "output_type": "display_data"
    }
   ],
   "source": [
    "# Recall the show method\n",
    "ranking = Table.read_table(\"data/world_university_rankings.csv\")\n",
    "ranking.show(5)"
   ]
  },
  {
   "cell_type": "code",
   "execution_count": 3,
   "id": "b3f04484-2547-4a38-a47b-4d1c714e3a33",
   "metadata": {},
   "outputs": [
    {
     "data": {
      "text/html": [
       "<table border=\"1\" class=\"dataframe\">\n",
       "    <thead>\n",
       "        <tr>\n",
       "            <th>rank</th> <th>ranking-institution-title</th> <th>location</th> <th>Overall scores</th> <th>Research Quality Score</th> <th>Industry Score</th> <th>International Outlook</th> <th>Research Environment Score</th> <th>Teaching Score</th>\n",
       "        </tr>\n",
       "    </thead>\n",
       "    <tbody>\n",
       "        <tr>\n",
       "            <td>99  </td> <td>University of Massachusetts</td> <td>United States</td> <td>62.9          </td> <td>72.7                  </td> <td>66.6          </td> <td>73.2                 </td> <td>46.7                      </td> <td>55.2          </td>\n",
       "        </tr>\n",
       "    </tbody>\n",
       "</table>"
      ],
      "text/plain": [
       "rank | ranking-institution-title   | location      | Overall scores | Research Quality Score | Industry Score | International Outlook | Research Environment Score | Teaching Score\n",
       "99   | University of Massachusetts | United States | 62.9           | 72.7                   | 66.6           | 73.2                  | 46.7                       | 55.2"
      ]
     },
     "execution_count": 3,
     "metadata": {},
     "output_type": "execute_result"
    }
   ],
   "source": [
    "ranking.where('ranking-institution-title',\"University of Massachusetts\")"
   ]
  },
  {
   "cell_type": "code",
   "execution_count": 4,
   "id": "597c1ea9-9e0b-443b-82b0-0b7d7ddf52d1",
   "metadata": {},
   "outputs": [
    {
     "data": {
      "text/html": [
       "<table border=\"1\" class=\"dataframe\">\n",
       "    <thead>\n",
       "        <tr>\n",
       "            <th>rank</th> <th>ranking-institution-title</th> <th>location</th> <th>Overall scores</th> <th>Research Quality Score</th> <th>Industry Score</th> <th>International Outlook</th> <th>Research Environment Score</th> <th>Teaching Score</th>\n",
       "        </tr>\n",
       "    </thead>\n",
       "    <tbody>\n",
       "        <tr>\n",
       "            <td>99  </td> <td>University of Virginia (Main campus)</td> <td>United States</td> <td>62.9          </td> <td>83.4                  </td> <td>67.3          </td> <td>63.6                 </td> <td>38.9                      </td> <td>61.2          </td>\n",
       "        </tr>\n",
       "        <tr>\n",
       "            <td>99  </td> <td>University of Massachusetts         </td> <td>United States</td> <td>62.9          </td> <td>72.7                  </td> <td>66.6          </td> <td>73.2                 </td> <td>46.7                      </td> <td>55.2          </td>\n",
       "        </tr>\n",
       "    </tbody>\n",
       "</table>"
      ],
      "text/plain": [
       "rank | ranking-institution-title            | location      | Overall scores | Research Quality Score | Industry Score | International Outlook | Research Environment Score | Teaching Score\n",
       "99   | University of Virginia (Main campus) | United States | 62.9           | 83.4                   | 67.3           | 63.6                  | 38.9                       | 61.2\n",
       "99   | University of Massachusetts          | United States | 62.9           | 72.7                   | 66.6           | 73.2                  | 46.7                       | 55.2"
      ]
     },
     "execution_count": 4,
     "metadata": {},
     "output_type": "execute_result"
    }
   ],
   "source": [
    "ranking.where('rank',99)"
   ]
  },
  {
   "cell_type": "markdown",
   "id": "3d2c8b7d-bb13-48b8-b38d-4a03b8c8986c",
   "metadata": {},
   "source": [
    "Let's explore some of the questions we can ask about this data set"
   ]
  },
  {
   "cell_type": "markdown",
   "id": "db47ab26-182d-4363-8a4e-a9b2692a9b4d",
   "metadata": {},
   "source": [
    "**Q1**. What are the average Overall scores for countries in the given array below? How can we compare them (visualize them)? Show the new table with average scores as well as the visualization you use. Hint: Think `are.contained_in` https://www.data8.org/datascience/predicates.html#datascience.predicates.are.contained_in and bar charts (`barh`)!"
   ]
  },
  {
   "cell_type": "code",
   "execution_count": 6,
   "id": "5c5255e1-9514-432e-9ab1-5c51c595ba66",
   "metadata": {},
   "outputs": [],
   "source": [
    "countries = make_array(\"Australia\", \"Canada\", \"China\",\"India\", \"Switzerland\", \"Singapore\", \"United States\")"
   ]
  },
  {
   "cell_type": "code",
   "execution_count": null,
   "id": "1a6ed628-85e4-46e9-b967-233197c2aa50",
   "metadata": {},
   "outputs": [],
   "source": []
  },
  {
   "cell_type": "code",
   "execution_count": 2,
   "id": "b7e733b2-fb3c-4510-88dc-cf3abcda15ad",
   "metadata": {},
   "outputs": [],
   "source": [
    "#SOLUTION\n"
   ]
  },
  {
   "cell_type": "code",
   "execution_count": null,
   "id": "7edb68ad-dbc9-4562-bca5-216fd695c121",
   "metadata": {},
   "outputs": [],
   "source": []
  },
  {
   "cell_type": "markdown",
   "id": "2bf6d41d-61be-46b5-8579-173737e6fe69",
   "metadata": {},
   "source": [
    "#### Prompt Below"
   ]
  },
  {
   "cell_type": "code",
   "execution_count": null,
   "id": "bbe981ce-26fd-4f0c-9550-fc0c1e591091",
   "metadata": {},
   "outputs": [],
   "source": [
    "%%ai openai-chat:gpt-3.5-turbo"
   ]
  },
  {
   "cell_type": "markdown",
   "id": "d69d1cec-0bc5-4d19-bbfb-fa175e8cba9a",
   "metadata": {},
   "source": [
    "#### Explain workflow here:"
   ]
  },
  {
   "cell_type": "markdown",
   "id": "3a3b8b0f-9071-447e-9bbf-7a6e265fede1",
   "metadata": {},
   "source": [
    "*Type your answer here*"
   ]
  },
  {
   "cell_type": "markdown",
   "id": "5f29d1f4-88d6-48ee-b433-e5be696c7e19",
   "metadata": {},
   "source": [
    "**Q2.1**. How do the Overall scores relate to Research Quality Scores? How can you compare them visually? What can we say about their relationship? Hint: Think `association` or `causality`. Also, note that the two variables are numerical! Which plot would be appropriate to visualize them?"
   ]
  },
  {
   "cell_type": "code",
   "execution_count": null,
   "id": "496939ea-30fa-405f-ada2-056937ddc42a",
   "metadata": {},
   "outputs": [],
   "source": [
    "#SOLUTION"
   ]
  },
  {
   "cell_type": "markdown",
   "id": "f5e871b2-c344-4ad9-9c4c-fd078e8a8d08",
   "metadata": {},
   "source": [
    "#### Prompt Below"
   ]
  },
  {
   "cell_type": "code",
   "execution_count": null,
   "id": "9268cae9-ce55-40dd-a43e-9ca2d170af47",
   "metadata": {},
   "outputs": [],
   "source": [
    "%%ai openai-chat:gpt-4o"
   ]
  },
  {
   "cell_type": "markdown",
   "id": "85d6ab15-f5ad-48c5-98b7-2b61522542f8",
   "metadata": {},
   "source": [
    "#### Explain workflow here:"
   ]
  },
  {
   "cell_type": "markdown",
   "id": "538fe376-448d-44c2-bd93-d9b7d197c8b4",
   "metadata": {},
   "source": [
    "*Type your answer here*"
   ]
  },
  {
   "cell_type": "markdown",
   "id": "d0638d6d-3d13-4f62-987b-245b76d2096e",
   "metadata": {},
   "source": [
    "**Q2.2**. Similarly, how do the Overall scores relate to Industry Scores? How can you compare them? What can we say about their relationship?"
   ]
  },
  {
   "cell_type": "code",
   "execution_count": null,
   "id": "98637ffa-20f9-4a2f-992a-ff6c050945d6",
   "metadata": {},
   "outputs": [],
   "source": [
    "#SOLUTION"
   ]
  },
  {
   "cell_type": "markdown",
   "id": "e6580139-df8c-47aa-a68b-46fabbd62ab9",
   "metadata": {},
   "source": [
    "#### Prompt Below"
   ]
  },
  {
   "cell_type": "code",
   "execution_count": null,
   "id": "b1bdb02f-542b-4a38-8626-033ae02ea236",
   "metadata": {},
   "outputs": [],
   "source": [
    "%%ai openai-chat:gpt-4o"
   ]
  },
  {
   "cell_type": "markdown",
   "id": "00ee6170-27dd-49d2-96e0-1dc6e4ec7555",
   "metadata": {},
   "source": [
    "#### Explain workflow here:"
   ]
  },
  {
   "cell_type": "markdown",
   "id": "ad67f3db-fd4a-424b-920d-2447d6ee1212",
   "metadata": {},
   "source": [
    "*Type your answer here*"
   ]
  },
  {
   "cell_type": "markdown",
   "id": "be664af1-c60d-47ea-913f-feab99821980",
   "metadata": {},
   "source": [
    "**Challenge Question (UNGRADED)** Can you figure out how the Overall scores and all the other scores in the data are related?"
   ]
  },
  {
   "cell_type": "code",
   "execution_count": null,
   "id": "993f1e03-1eae-4e33-b819-188c1538aeeb",
   "metadata": {},
   "outputs": [],
   "source": [
    "# SOLUTION "
   ]
  },
  {
   "cell_type": "markdown",
   "id": "3d1f551e-109c-42bf-9282-04f11ba97572",
   "metadata": {},
   "source": [
    "**Q3.1**. How can we better represent Overall scores to understand its distribution? Visualize the distribution of Overall score. Hint: Think histograms!"
   ]
  },
  {
   "cell_type": "code",
   "execution_count": null,
   "id": "77e2901f-1464-4a78-90a1-e7b128bda95a",
   "metadata": {},
   "outputs": [],
   "source": [
    "#SOLUTION"
   ]
  },
  {
   "cell_type": "markdown",
   "id": "aa5f3177-21e4-4e0c-a070-d1494f235455",
   "metadata": {},
   "source": [
    "#### Prompt Below"
   ]
  },
  {
   "cell_type": "code",
   "execution_count": null,
   "id": "48b44d47-98a3-4ac2-a223-8a7525461fb3",
   "metadata": {},
   "outputs": [],
   "source": [
    "%%ai openai-chat:gpt-4o"
   ]
  },
  {
   "cell_type": "markdown",
   "id": "5db952f8-66f0-415a-a32b-810dea8e11b6",
   "metadata": {},
   "source": [
    "#### Explain workflow here:"
   ]
  },
  {
   "cell_type": "markdown",
   "id": "ada44a8d-2c9c-4969-9fad-c08a3e6b14c4",
   "metadata": {},
   "source": [
    "*Type your answer here*"
   ]
  },
  {
   "cell_type": "markdown",
   "id": "b7927877-3b47-4d85-859a-fb446287de28",
   "metadata": {},
   "source": [
    "**Q3.2**. Now let us look at the range of Overall scores (code given below). Can you come up with a clearer visualization that makes these numbers easier to read/work with? Hint: Think binning! https://inferentialthinking.com/chapters/07/2/Visualizing_Numerical_Distributions.html#binning-the-data"
   ]
  },
  {
   "cell_type": "code",
   "execution_count": null,
   "id": "4590ad0e-6c02-4a01-ae03-057d73a3c85a",
   "metadata": {},
   "outputs": [],
   "source": [
    "# range of Overall scores\n",
    "min(ranking.column('Overall scores')), max(ranking.column('Overall scores'))"
   ]
  },
  {
   "cell_type": "code",
   "execution_count": null,
   "id": "7e3300c5-49a8-486b-bfbc-621c1611eb82",
   "metadata": {},
   "outputs": [],
   "source": [
    "#SOLUTION"
   ]
  },
  {
   "cell_type": "markdown",
   "id": "ece36ca4-0af5-48b1-b276-fdc5844a2671",
   "metadata": {},
   "source": [
    "#### Prompt Below"
   ]
  },
  {
   "cell_type": "code",
   "execution_count": null,
   "id": "a902a1ca-2ce9-442e-83be-ea5ea044d0f8",
   "metadata": {},
   "outputs": [],
   "source": [
    "%%ai openai-chat:gpt-4o"
   ]
  },
  {
   "cell_type": "markdown",
   "id": "f07f9110-cca4-4d67-895f-8108e68a4ed9",
   "metadata": {},
   "source": [
    "#### Explain workflow here:"
   ]
  },
  {
   "cell_type": "markdown",
   "id": "865f2773-3412-496c-9492-00a83cbacb25",
   "metadata": {},
   "source": [
    "*Type your answer here*"
   ]
  },
  {
   "cell_type": "markdown",
   "id": "7b4e0602-79ac-4ce8-a45f-0b2643ca66f7",
   "metadata": {},
   "source": [
    "**Q3.3**. What does the plot from the previous question tell you about the overall scores distribution - how is the shape (bell, uniform, etc.)? Is it skewed (right or left skewed)? Are the scores concentrated within a small range or spread out across a wider range? Is it centered around a particular score range (i.e., mode of the values)?\n",
    "Hint: Mode https://mathworld.wolfram.com/Mode.html. Ask your TAs and ULAs for more help!"
   ]
  },
  {
   "cell_type": "code",
   "execution_count": null,
   "id": "f1821433-96bd-426e-aef2-bfec2a7c010b",
   "metadata": {},
   "outputs": [],
   "source": [
    "#SOLUTION"
   ]
  },
  {
   "cell_type": "markdown",
   "id": "d9b59b2c-e606-4d05-bfde-0fe1e3e2265d",
   "metadata": {},
   "source": [
    "#### Prompt Below"
   ]
  },
  {
   "cell_type": "code",
   "execution_count": null,
   "id": "abcc71a2-5659-4b0a-b520-aa40f03dd8ec",
   "metadata": {},
   "outputs": [],
   "source": [
    "%%ai openai-chat:gpt-4o"
   ]
  },
  {
   "cell_type": "markdown",
   "id": "9b38e5c7-3c5f-4680-82d0-aba8deecc33c",
   "metadata": {},
   "source": [
    "#### Explain workflow here:"
   ]
  },
  {
   "cell_type": "markdown",
   "id": "4e581f3b-22f7-4743-9eb9-a12389ca64ce",
   "metadata": {},
   "source": [
    "*Type your answer here*"
   ]
  },
  {
   "cell_type": "markdown",
   "id": "87448cb1-c299-426e-bef6-3010d26cb36e",
   "metadata": {},
   "source": [
    "**Q4**. Which country has the most universities in the top 10 rankings? Can you visualize the distribution of the locations of the top 20 universities. Order your visualization in descending order (The country with the most universities in the top 20 needs to be at the top).\n",
    "Hint: Think _where_, _group_, _sort_, and _barh_!"
   ]
  },
  {
   "cell_type": "code",
   "execution_count": null,
   "id": "d8754b49-bfe7-4079-a05c-a594e91b7d2f",
   "metadata": {},
   "outputs": [],
   "source": [
    "#SOLUTION"
   ]
  },
  {
   "cell_type": "markdown",
   "id": "fc3e82c2-9a49-4405-9a2e-30a71c5d0712",
   "metadata": {},
   "source": [
    "#### Prompt Below"
   ]
  },
  {
   "cell_type": "code",
   "execution_count": null,
   "id": "edf0a5d8-a183-4e0c-a0da-d9f623a14a58",
   "metadata": {},
   "outputs": [],
   "source": [
    "%%ai openai-chat:gpt-4o"
   ]
  },
  {
   "cell_type": "markdown",
   "id": "6895667c-2519-4e49-958c-ca261669ae95",
   "metadata": {},
   "source": [
    "#### Explain workflow here:"
   ]
  },
  {
   "cell_type": "markdown",
   "id": "2d4697c4-193c-4ca1-8d1e-62243e8a6a79",
   "metadata": {},
   "source": [
    "*Type your answer here*"
   ]
  },
  {
   "cell_type": "markdown",
   "id": "60dc2544-794c-4a6c-8fed-14c23e1f2c3a",
   "metadata": {},
   "source": [
    "**Q5.1**. You are at University of California, Santa Barbara. Can you find it in the table (state your answer and show the code)? What are the different UCs present in the dataset (show the code and the table)? Hint: You may benefit from looking at the documentation https://www.data8.org/datascience/predicates.html#datascience.predicates.are.containing. "
   ]
  },
  {
   "cell_type": "code",
   "execution_count": null,
   "id": "88d09956-25e9-48f5-9f32-24db98000d42",
   "metadata": {},
   "outputs": [],
   "source": [
    "#SOLUTION"
   ]
  },
  {
   "cell_type": "markdown",
   "id": "58209d3f-2e9c-46cf-9907-ff91c2f80060",
   "metadata": {},
   "source": [
    "#### Prompt Below"
   ]
  },
  {
   "cell_type": "code",
   "execution_count": null,
   "id": "0a94a346-2092-4c65-8f1a-6e6ff70e80c4",
   "metadata": {},
   "outputs": [],
   "source": [
    "%%ai openai-chat:gpt-3.5-turbo"
   ]
  },
  {
   "cell_type": "markdown",
   "id": "28087330-2ab1-4b8c-9d5c-d7456431df61",
   "metadata": {},
   "source": [
    "#### Explain workflow here:"
   ]
  },
  {
   "cell_type": "markdown",
   "id": "37f87f2a-8226-4b59-8afa-0934f1b9df01",
   "metadata": {},
   "source": [
    "*Type your answer here*"
   ]
  },
  {
   "cell_type": "markdown",
   "id": "a4f42511-864c-4037-9825-09c4f2801b62",
   "metadata": {},
   "source": [
    "**Q5.2**. How do the Overall scores of different UCs compare? Which UC has the highest score? Hint: What type of visualization would you use?"
   ]
  },
  {
   "cell_type": "code",
   "execution_count": null,
   "id": "b4deac11-e9e1-4f2c-a73f-ee510b8adf89",
   "metadata": {},
   "outputs": [],
   "source": [
    "#SOLUTION"
   ]
  },
  {
   "cell_type": "markdown",
   "id": "7da686b6-49a7-43ea-a4e8-c82b47e03056",
   "metadata": {},
   "source": [
    "#### Prompt Below"
   ]
  },
  {
   "cell_type": "code",
   "execution_count": null,
   "id": "ad6ed214-8ed4-43f9-bba6-a9655b613b69",
   "metadata": {},
   "outputs": [],
   "source": [
    "%%ai openai-chat:gpt-4o"
   ]
  },
  {
   "cell_type": "markdown",
   "id": "df29428e-a2a7-4575-a9de-a2c4ecc41d52",
   "metadata": {},
   "source": [
    "#### Explain workflow here:"
   ]
  },
  {
   "cell_type": "markdown",
   "id": "1ef4bb10-4928-4a77-b20d-8cb8b7017640",
   "metadata": {},
   "source": [
    "*Type your answer here*"
   ]
  },
  {
   "cell_type": "markdown",
   "id": "ab52c221-adfa-4450-800b-d893370aa575",
   "metadata": {},
   "source": [
    "**Q5.3**. Do the rankings among different UCs change if we look at Research Quality instead? Show your results."
   ]
  },
  {
   "cell_type": "code",
   "execution_count": null,
   "id": "22265c41-ecea-44d4-8747-c83243a2c627",
   "metadata": {},
   "outputs": [],
   "source": [
    "#SOLUTION"
   ]
  },
  {
   "cell_type": "markdown",
   "id": "400b0457-ac6b-4d2f-a429-4018a7c9a414",
   "metadata": {},
   "source": [
    "#### Prompt Below"
   ]
  },
  {
   "cell_type": "code",
   "execution_count": null,
   "id": "0fb59265-52fd-4364-9fd0-19541651568f",
   "metadata": {},
   "outputs": [],
   "source": [
    "%%ai openai-chat:gpt-4o"
   ]
  },
  {
   "cell_type": "markdown",
   "id": "8e9dbfff-4b3b-495c-82b5-ea0a80bf2228",
   "metadata": {},
   "source": [
    "#### Explain workflow here:"
   ]
  },
  {
   "cell_type": "markdown",
   "id": "f88816f1-7467-47e7-af0c-ff25b4471eaf",
   "metadata": {},
   "source": [
    "*Type your answer here*"
   ]
  },
  {
   "cell_type": "markdown",
   "id": "d82fd7f2-fe9f-4b99-b819-e7f7df2cf502",
   "metadata": {},
   "source": [
    "**Q5.4**. How do the rankings among different UCs compare if we look at Industry Score? Show your results."
   ]
  },
  {
   "cell_type": "code",
   "execution_count": null,
   "id": "98091035-a044-4bce-add3-c38df8eb153c",
   "metadata": {},
   "outputs": [],
   "source": [
    "#SOLUTION"
   ]
  },
  {
   "cell_type": "markdown",
   "id": "54e6b9db-b9ad-4530-b70d-49c1561a9904",
   "metadata": {},
   "source": [
    "#### Prompt Below"
   ]
  },
  {
   "cell_type": "code",
   "execution_count": null,
   "id": "a66db6c4-eff2-4861-ac5e-7ec9d3cc1c00",
   "metadata": {},
   "outputs": [],
   "source": [
    "%%ai openai-chat:gpt-4o"
   ]
  },
  {
   "cell_type": "markdown",
   "id": "1cb51e73-0003-41d4-baf8-8df25856dcaf",
   "metadata": {},
   "source": [
    "#### Explain workflow here:"
   ]
  },
  {
   "cell_type": "markdown",
   "id": "29b1973b-8d42-4796-b0ee-a5312612d9bc",
   "metadata": {},
   "source": [
    "*Type your answer here*"
   ]
  },
  {
   "cell_type": "markdown",
   "id": "2e49966d-2b48-45dc-bd6d-5d9e769fa277",
   "metadata": {},
   "source": [
    "**Q6.1**. Now, you have a better hold of the data. You have decided that you are more inclined towards the Industry and you want to apply to some of the schools in the dataset. How can you find the top 10 universities better suited for your applications? Add a column that shows the new rank of every university if it was ranked by Industry Score. Think table methods _sort_, _take_, _with_column_ and use the numpy module!"
   ]
  },
  {
   "cell_type": "code",
   "execution_count": null,
   "id": "75cd8f9e-2a0d-4820-ab99-e6d3698c9269",
   "metadata": {},
   "outputs": [],
   "source": [
    "#SOLUTION"
   ]
  },
  {
   "cell_type": "markdown",
   "id": "178b1ab0-7c9c-4862-8eeb-d44b95ef9a4a",
   "metadata": {},
   "source": [
    "#### Prompt Below"
   ]
  },
  {
   "cell_type": "code",
   "execution_count": null,
   "id": "7c4049fd-303e-4e59-b840-9a35079953e7",
   "metadata": {},
   "outputs": [],
   "source": [
    "%%ai openai-chat:gpt-4o"
   ]
  },
  {
   "cell_type": "markdown",
   "id": "d2fee92b-280b-483f-833d-04253088bd47",
   "metadata": {},
   "source": [
    "#### Explain workflow here:"
   ]
  },
  {
   "cell_type": "markdown",
   "id": "171e41b1-fcfb-4e5a-b623-87bf9df6e83e",
   "metadata": {},
   "source": [
    "*Type your answer here*"
   ]
  },
  {
   "cell_type": "markdown",
   "id": "0d84c94a-65c1-420a-94b2-c65a39ab8755",
   "metadata": {},
   "source": [
    "**Q6.2**. Now that you know which universities rank highest in your area of interest, you have decided to narrow it down to schools only in the US. What are your possible options in that case? Can you better visualize this data? What do you notice about the scores of these universities and how do you think you will rank them now to make a better decision? "
   ]
  },
  {
   "cell_type": "code",
   "execution_count": null,
   "id": "5c6b7a6e-921f-42bb-bad2-eaa3e31628b8",
   "metadata": {},
   "outputs": [],
   "source": [
    "#SOLUTION"
   ]
  },
  {
   "cell_type": "markdown",
   "id": "b8e7ab4b-5ece-4941-8927-48743c34fec9",
   "metadata": {},
   "source": [
    "#### Prompt Below"
   ]
  },
  {
   "cell_type": "code",
   "execution_count": null,
   "id": "a5c588af-6aa5-4526-85a7-8d1633e79b80",
   "metadata": {},
   "outputs": [],
   "source": [
    "%%ai openai-chat:gpt-4o"
   ]
  },
  {
   "cell_type": "markdown",
   "id": "822cc746-05b3-40bf-af5e-19358e69a4e0",
   "metadata": {},
   "source": [
    "#### Explain workflow here:"
   ]
  },
  {
   "cell_type": "markdown",
   "id": "8bc089e4-ed04-4024-8827-5563563b3e86",
   "metadata": {},
   "source": [
    "*Type your answer here*"
   ]
  },
  {
   "cell_type": "markdown",
   "id": "2a346575-bca1-456f-978b-840f0c09078a",
   "metadata": {},
   "source": [
    "We just learned how to ask interesting questions to a dataset all while practicing visualizations! If you/your sibling want to apply to universities, you can now analyze a relevant dataset and make a better informed decision based on your personal preferences!"
   ]
  },
  {
   "cell_type": "markdown",
   "id": "e0417661-9f51-4a5b-99ad-4520a71dfc84",
   "metadata": {},
   "source": [
    "Congratulations, you're done with Lab 4!  Be sure to \n",
    "- **Keep all your prompts** . \n",
    "- **Save and Download** from the `File` menu.\n",
    "- **Ensure every cell has been run (has a number Ex:[34] beside the cell)**.\n",
    "- Submit to Gradescope!"
   ]
  }
 ],
 "metadata": {
  "kernelspec": {
   "display_name": "Python 3 (ipykernel)",
   "language": "python",
   "name": "python3"
  },
  "language_info": {
   "codemirror_mode": {
    "name": "ipython",
    "version": 3
   },
   "file_extension": ".py",
   "mimetype": "text/x-python",
   "name": "python",
   "nbconvert_exporter": "python",
   "pygments_lexer": "ipython3",
   "version": "3.12.9"
  }
 },
 "nbformat": 4,
 "nbformat_minor": 5
}
