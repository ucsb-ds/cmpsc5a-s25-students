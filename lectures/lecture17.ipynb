{
  "nbformat": 4,
  "nbformat_minor": 0,
  "metadata": {
    "colab": {
      "provenance": []
    },
    "kernelspec": {
      "name": "python3",
      "display_name": "Python 3"
    },
    "language_info": {
      "name": "python"
    }
  },
  "cells": [
    {
      "cell_type": "code",
      "execution_count": 1,
      "metadata": {
        "colab": {
          "base_uri": "https://localhost:8080/"
        },
        "id": "hZN2fHoBhCK-",
        "outputId": "61c4dcf5-816c-434b-d9cc-a56eb9cfa039"
      },
      "outputs": [
        {
          "output_type": "stream",
          "name": "stdout",
          "text": [
            "%%ai cells will not work in this notebook\n",
            "Please use Gemini for AI queries instead\n",
            "Mounted at /content/drive\n",
            "Retrieving folder contents\n",
            "Processing file 1hOMU36QJH-8E1xMqZqick7tdYPtRqXWc codes.csv\n",
            "Processing file 1-pQmPDnV44eDEVIOm_dglgktbO1ng7pe data_science_salaries_raw.csv\n",
            "Processing file 1Cl56p5ygZPsG_TdGagMpd2wxMAnsNUN0 ucsb-f25-courses.csv\n",
            "Processing file 1A6TJBGq7Fg5eO_4XrHgrRRM27RRxB6w7 ucsb-m25-courses.csv\n",
            "Processing file 1KqFgPgttI11ADhBdGWipQ4RaCyM7S8iZ ucsb-s25-courses.csv\n",
            "Processing file 1DHBdvECi_-cQtiJ1FZl4v_JfLgAMrauE world_happiness_2015.csv\n",
            "Processing file 10lU_ehl4CmZqXZ8Ow4tz_G4zHvB9kkwV world_happiness_2019.csv\n",
            "Processing file 17-CMnZGvqhCNc4_dzlS86njmmPWl_c2g world_university_rankings.csv\n",
            "Retrieving folder contents completed\n",
            "Building directory structure\n",
            "Building directory structure completed\n",
            "Downloading...\n",
            "From: https://drive.google.com/uc?id=1hOMU36QJH-8E1xMqZqick7tdYPtRqXWc\n",
            "To: /content/data/codes.csv\n",
            "100% 6.40k/6.40k [00:00<00:00, 22.0MB/s]\n",
            "Downloading...\n",
            "From: https://drive.google.com/uc?id=1-pQmPDnV44eDEVIOm_dglgktbO1ng7pe\n",
            "To: /content/data/data_science_salaries_raw.csv\n",
            "100% 388k/388k [00:00<00:00, 104MB/s]\n",
            "Downloading...\n",
            "From: https://drive.google.com/uc?id=1Cl56p5ygZPsG_TdGagMpd2wxMAnsNUN0\n",
            "To: /content/data/ucsb-f25-courses.csv\n",
            "100% 333k/333k [00:00<00:00, 141MB/s]\n",
            "Downloading...\n",
            "From: https://drive.google.com/uc?id=1A6TJBGq7Fg5eO_4XrHgrRRM27RRxB6w7\n",
            "To: /content/data/ucsb-m25-courses.csv\n",
            "100% 136k/136k [00:00<00:00, 120MB/s]\n",
            "Downloading...\n",
            "From: https://drive.google.com/uc?id=1KqFgPgttI11ADhBdGWipQ4RaCyM7S8iZ\n",
            "To: /content/data/ucsb-s25-courses.csv\n",
            "100% 467k/467k [00:00<00:00, 90.7MB/s]\n",
            "Downloading...\n",
            "From: https://drive.google.com/uc?id=1DHBdvECi_-cQtiJ1FZl4v_JfLgAMrauE\n",
            "To: /content/data/world_happiness_2015.csv\n",
            "100% 16.6k/16.6k [00:00<00:00, 39.5MB/s]\n",
            "Downloading...\n",
            "From: https://drive.google.com/uc?id=10lU_ehl4CmZqXZ8Ow4tz_G4zHvB9kkwV\n",
            "To: /content/data/world_happiness_2019.csv\n",
            "100% 8.82k/8.82k [00:00<00:00, 30.9MB/s]\n",
            "Downloading...\n",
            "From: https://drive.google.com/uc?id=17-CMnZGvqhCNc4_dzlS86njmmPWl_c2g\n",
            "To: /content/data/world_university_rankings.csv\n",
            "100% 64.5k/64.5k [00:00<00:00, 106MB/s]\n",
            "Download completed\n",
            "total 1408\n",
            "-rw-r--r-- 1 root root   6398 May  3 23:18 codes.csv\n",
            "-rw-r--r-- 1 root root 388472 May 12 01:18 data_science_salaries_raw.csv\n",
            "-rw-r--r-- 1 root root 333319 May  3 16:55 ucsb-f25-courses.csv\n",
            "-rw-r--r-- 1 root root 136234 May  3 16:55 ucsb-m25-courses.csv\n",
            "-rw-r--r-- 1 root root 467356 May  1 20:25 ucsb-s25-courses.csv\n",
            "-rw-r--r-- 1 root root  16557 May 12 18:04 world_happiness_2015.csv\n",
            "-rw-r--r-- 1 root root   8822 May 12 18:04 world_happiness_2019.csv\n",
            "-rw-r--r-- 1 root root  64532 May 27 08:29 world_university_rankings.csv\n"
          ]
        }
      ],
      "source": [
        "# Run this cell once when starting on notebook.\n",
        "# On Google Colab, wait for the Google Drive permission prompts before proceeding\n",
        "import matplotlib.pyplot as plt\n",
        "%matplotlib inline\n",
        "import os\n",
        "import sys\n",
        "try:\n",
        "    %load_ext jupyter_ai_magics\n",
        "except:\n",
        "    print(\"%%ai cells will not work in this notebook\")\n",
        "    print(\"Please use Gemini for AI queries instead\")\n",
        "from datascience import *\n",
        "import numpy as np\n",
        "import math\n",
        "\n",
        "DATA_FOLDER=\"data/\"\n",
        "try:\n",
        "  from google.colab import drive\n",
        "  drive.mount('/content/drive', force_remount=True)\n",
        "  !mkdir -p /content/data\n",
        "  !gdown --folder https://drive.google.com/drive/folders/1XifjqyxFHvjK6nOUi4doYsG12hGPhOcI?usp=drive_link -O /content/data\n",
        "  DATA_FOLDER = DATA_FOLDER.replace(\"data/\", \"/content/data/\")\n",
        "  !ls -l /content/data\n",
        "except:\n",
        "  print(\"Google Drive not mounted; this is normal on Jupyter Hub\")\n"
      ]
    },
    {
      "cell_type": "markdown",
      "source": [
        "\n",
        "\n",
        "```\n",
        "# This is formatted as code\n",
        "```\n",
        "\n",
        "# Lecture 17, CMPSC 5A, S25\n",
        "\n",
        "Tue 05/27/2025, Week 9\n",
        "\n",
        "Google Colab versions of lecture notebooks can be found in this folder:\n",
        "* <https://drive.google.com/drive/folders/1jS1Fa0BpGUVaijXwIYX0I21Un6XOGQM-?usp=sharing>\n",
        "\n",
        "Note that the Google Colab version will have any updates made during class, while the copy on Jupyter Hub may not.\n"
      ],
      "metadata": {
        "id": "mYtNl-6GhLX3"
      }
    },
    {
      "cell_type": "markdown",
      "source": [
        "\n",
        "## ic27 Participation Assignment\n",
        "\n",
        "Just one today, on Gradescope as [ic27](https://www.gradescope.com/courses/1014383/assignments/6284213/submissions)\n",
        "\n"
      ],
      "metadata": {
        "id": "mm3oaAvJkFRK"
      }
    },
    {
      "cell_type": "markdown",
      "source": [
        "\n",
        "# Where are we in the reading?\n",
        "\n",
        "By today, you should have finished reading:\n",
        "\n",
        "* [Chapter 1: What is Data Science](https://inferentialthinking.com/chapters/01/what-is-data-science.html)\n",
        "* [Chapter 2 Causality and Experiments](https://inferentialthinking.com/chapters/02/causality-and-experiments.html)\n",
        "* [Chapter 3: Programming in Python](https://inferentialthinking.com/chapters/03/programming-in-python.html)\n",
        "* [Chapter 4: Data Types](https://inferentialthinking.com/chapters/04/Data_Types.html)\n",
        "* [Chapter 5: Sequences](https://inferentialthinking.com/chapters/05/Sequences.html)\n",
        "* [Chapter 6: Tables](https://inferentialthinking.com/chapters/06/Tables.html)\n",
        "* [Chapter 7: Visualization](https://inferentialthinking.com/chapters/07/Visualization.html)\n",
        "* [Chapter 8: Functions and Tables (Intro)](https://inferentialthinking.com/chapters/08/Functions_and_Tables.html)\n",
        "* [Chapter 9: Randomness](https://inferentialthinking.com/chapters/09/Randomness.html)\n",
        "* [Chapter 10 (Sampling and Empirical Distributions)](https://inferentialthinking.com/chapters/10/Sampling_and_Empirical_Distributions.html)\n",
        "* [Chapter 14 (intro, Why the Mean Matters)](https://inferentialthinking.com/chapters/14/Why_the_Mean_Matters.html)\n",
        "* [Section 14.1, (Properties of the Mean)](https://inferentialthinking.com/chapters/14/1/Properties_of_the_Mean.html)\n",
        "* [Section 14.2, (Variability)](https://inferentialthinking.com/chapters/14/2/Variability.html)\n",
        "* [Section 15.1, (Correlation)](https://inferentialthinking.com/chapters/15/1/Correlation.html)\n",
        "\n",
        "\n",
        "\n",
        "*New Reading for Today, Tuesday (week 9, 05/27):*\n",
        "\n",
        "* [Chapter 11 (Testing Hypotheses, including p-values)](https://inferentialthinking.com/chapters/11/Testing_Hypotheses.html)\n",
        "\n",
        "New Reading for Thursday (week 9, 05/29):\n",
        "* [Chapter 12 (Comparing Two Samples, including A/B testing)](https://inferentialthinking.com/chapters/11/Testing_Hypotheses.html)\n",
        "\n",
        "Unless I update you otherwise, this is all the reading for the quarter.\n",
        "\n"
      ],
      "metadata": {
        "id": "EHfRHuV6AEHA"
      }
    },
    {
      "cell_type": "markdown",
      "source": [
        "# Logistics"
      ],
      "metadata": {
        "id": "2tsc7ZOJHTS4"
      }
    },
    {
      "cell_type": "markdown",
      "source": [
        "- There will be no lab06\n",
        "- You will have the option to resubmit lab04 or lab05 if you are not satisfied with your score or have a missed submission.\n",
        "  - However, the highest score for your resubmission will be 60/100\n",
        "- Select your final project group on Canvas, similar to the midterm. Your group members do not have to be in your section for the final\n",
        "  - This will be part of today's attendance check\n",
        "- Final projects will be released this week (hopefully by this tomorrow), and you should have time during section tomorrow to get started"
      ],
      "metadata": {
        "id": "vfBTDC2bHVtk"
      }
    },
    {
      "cell_type": "markdown",
      "source": [
        "# Review"
      ],
      "metadata": {
        "id": "wvYQ5lyvL5KZ"
      }
    },
    {
      "cell_type": "markdown",
      "source": [
        "So far, we’ve just learned that correlation helps us measure relationships between variables.\n",
        "\n",
        "For example, how strongly ice cream sales and temperature rise together would likely represent a positive correlation, as one variable increases so does the other. Similarly we could have a negative correlation, between TV time and test scores. One may find that as entertainment time goes up, test score performance decreases.\n",
        "\n",
        "But correlation alone doesn’t tell us if one thing is actually causing the other, or if it’s just a coincidence.\n",
        "\n",
        "The goal for our lecture today is to build an understanding of how we can gauge whether a certain set of observed data points (distribution) is unusual enough that it likely didn’t happen just by chance; or whether it's the kind of result we’d expect to see even if nothing special were going on."
      ],
      "metadata": {
        "id": "on1k5MWv4QSl"
      }
    },
    {
      "cell_type": "markdown",
      "source": [
        "In the previous lecture we discussed how we can assess whether a certain set of observations falls within a model.\n",
        "\n",
        "Specifically, we looked at the process of jury selection in Alabama 1962.\n",
        "\n",
        "\n"
      ],
      "metadata": {
        "id": "0aUYkjKNMMxf"
      }
    },
    {
      "cell_type": "markdown",
      "source": [
        "* At the time of the trial, only men aged 21 or more were eligible to serve on juries in Talladega County.\n",
        "* Jury was chosen from panel of 100 men.\n",
        "* 8 of those jurors were black (i.e. 8%)\n",
        "* 26% of the men eligible to serve on juries were black\n",
        "\n",
        "The question:\n",
        "\n",
        "* If the jury process is unbiased and representative, you'd expect \"on average\" to have 26 black men on every jury panel of 100.\n",
        "* But it wouldn't be exactly 26; there' would be some variation due to random chance.\n",
        "\n",
        "But: how often would you get 8 out of 100 if the expected number is 26?, *and* if the process were fair and impartial?\n",
        "\n",
        "## Choice of a statistic:\n",
        "\n",
        "\"A natural statistic, then, is the number or count of Black panelists in the sample. Small values of the statistic would mean there is likely a chance of bias."
      ],
      "metadata": {
        "id": "fGDyNCYHoVRM"
      }
    },
    {
      "cell_type": "markdown",
      "source": [
        "Now let's review the code that we can use to answer our original question on whether the jury selection from the case in Alabama 1962 was fair and impartial."
      ],
      "metadata": {
        "id": "82bMAjIADJ_Y"
      }
    },
    {
      "cell_type": "markdown",
      "source": [
        "Picking a jury involves sampling the entire population that is eligible to serving on the jury."
      ],
      "metadata": {
        "id": "Lm9EeBn1DrO0"
      }
    },
    {
      "cell_type": "code",
      "source": [
        "sample_size = 100\n",
        "eligible_population = [0.26, 0.74]"
      ],
      "metadata": {
        "id": "lOVheULgEFBa"
      },
      "execution_count": 2,
      "outputs": []
    },
    {
      "cell_type": "markdown",
      "source": [
        "Based on the eligible population, one would **EXPECT** the distribution of the jury to match the distribution of eligibile jurors."
      ],
      "metadata": {
        "id": "5YAb8ZBCFhtQ"
      }
    },
    {
      "cell_type": "code",
      "source": [
        "expected_distribution = sample_size * make_array(*eligible_population)\n",
        "\n",
        "print(\"Expected # of Black Men on Jury: \\t{}\".format(int(expected_distribution[0])))\n",
        "print(\"Expected # of Non-Black Men on Jury: \\t{}\".format(int(expected_distribution[1])))"
      ],
      "metadata": {
        "colab": {
          "base_uri": "https://localhost:8080/"
        },
        "id": "YIGwiNCJEgcs",
        "outputId": "9f2501ba-a0fa-45e2-cd32-9e315c24380f"
      },
      "execution_count": 3,
      "outputs": [
        {
          "output_type": "stream",
          "name": "stdout",
          "text": [
            "Expected # of Black Men on Jury: \t26\n",
            "Expected # of Non-Black Men on Jury: \t74\n"
          ]
        }
      ]
    },
    {
      "cell_type": "markdown",
      "source": [
        "However, picking a jury is a random sample from the eligible jurors and may not exactly match the expected outcome. We can use the `sample_proportions` function to simulate the process of random sampling for a certain distribution.  \n",
        "\n",
        "In this case we want to select 100 jurors (`sample_size`) with the distribution (`eligible_population`) that 26% of the eligible jurors are black males and 74% of the jurors are not black."
      ],
      "metadata": {
        "id": "ubIU3PtjFzcm"
      }
    },
    {
      "cell_type": "code",
      "source": [
        "sample_size = 100\n",
        "eligible_population = [0.26, 0.74]\n",
        "\n",
        "sampled_distribution = sample_size * sample_proportions(sample_size, eligible_population)\n",
        "print(\"Observed # of Black Men on Jury: \\t{}\".format(int(sampled_distribution[0])))\n",
        "print(\"Observed # of Non-Black Men on Jury: \\t{}\".format(int(sampled_distribution[1])))"
      ],
      "metadata": {
        "colab": {
          "base_uri": "https://localhost:8080/"
        },
        "id": "Ho1XZumxDBJk",
        "outputId": "8e454255-f57b-45ee-c649-fc3c2a51af93"
      },
      "execution_count": 4,
      "outputs": [
        {
          "output_type": "stream",
          "name": "stdout",
          "text": [
            "Observed # of Black Men on Jury: \t24\n",
            "Observed # of Non-Black Men on Jury: \t76\n"
          ]
        }
      ]
    },
    {
      "cell_type": "markdown",
      "source": [
        "Note that if we run the above cell many times we observe that the distribution changes within each sample.\n",
        "\n",
        "For each sample distribution we have a count for the observed number of jurors that were black men.\n",
        "\n",
        "We can use a group of sample distributions, by running this code many times, to form a probability distribution for the number of jurors that are black men given the distribution within the eligible population (26% of population is black men).\n",
        "\n",
        "A probability distribution will convey the likelihood that the `Observed # of Black Men on Jury` is equal to a certain value."
      ],
      "metadata": {
        "id": "uVh65zAqKn3S"
      }
    },
    {
      "cell_type": "code",
      "source": [
        "sample_size = 100\n",
        "eligible_population = [0.26, 0.74]\n",
        "\n",
        "def one_simulated_count():\n",
        "    return sample_size * sample_proportions(sample_size, eligible_population).item(0)\n",
        "\n",
        "counts = make_array()\n",
        "repetitions = 10000\n",
        "for i in np.arange(repetitions):\n",
        "    counts = np.append(counts, one_simulated_count())\n",
        "\n",
        "counts"
      ],
      "metadata": {
        "id": "nDycA1MxNBTt",
        "colab": {
          "base_uri": "https://localhost:8080/"
        },
        "outputId": "0a972686-ea1b-43de-b46a-5b5666669ded"
      },
      "execution_count": 5,
      "outputs": [
        {
          "output_type": "execute_result",
          "data": {
            "text/plain": [
              "array([ 21.,  29.,  26., ...,  23.,  26.,  22.])"
            ]
          },
          "metadata": {},
          "execution_count": 5
        }
      ]
    },
    {
      "cell_type": "markdown",
      "source": [
        "**Question**: What kind of graphs could we use to visualize a probability distribution? Why?"
      ],
      "metadata": {
        "id": "9OnDo2JdLTUk"
      }
    },
    {
      "cell_type": "code",
      "source": [],
      "metadata": {
        "id": "0LFyDhmUNbUD"
      },
      "execution_count": null,
      "outputs": []
    },
    {
      "cell_type": "code",
      "source": [],
      "metadata": {
        "id": "8HNXUIBsNbWw"
      },
      "execution_count": null,
      "outputs": []
    },
    {
      "cell_type": "code",
      "source": [],
      "metadata": {
        "id": "utUTPfu1NbZK"
      },
      "execution_count": null,
      "outputs": []
    },
    {
      "cell_type": "code",
      "source": [],
      "metadata": {
        "id": "MHrQCXkYNb0O"
      },
      "execution_count": null,
      "outputs": []
    },
    {
      "cell_type": "code",
      "source": [
        "%matplotlib inline\n",
        "\n",
        "import matplotlib.pyplot as plt\n",
        "import numpy as np\n",
        "\n",
        "\n",
        "Table().with_column(\n",
        "    'Count in a Random Sample', counts\n",
        ").hist(bins = np.arange(5.5, 46.6, 1))\n",
        "\n",
        "\n",
        "plt.title('Simulated Counts of Black Jurors')\n",
        "plt.xlabel('Number of Black Jurors')\n",
        "plt.ylabel('Proportion per Unit')\n"
      ],
      "metadata": {
        "colab": {
          "base_uri": "https://localhost:8080/",
          "height": 434
        },
        "id": "Zs_JUO_NqSAo",
        "outputId": "fcd5da62-ed1b-4444-b793-5082cb453fcf"
      },
      "execution_count": 6,
      "outputs": [
        {
          "output_type": "execute_result",
          "data": {
            "text/plain": [
              "Text(0, 0.5, 'Proportion per Unit')"
            ]
          },
          "metadata": {},
          "execution_count": 6
        },
        {
          "output_type": "display_data",
          "data": {
            "text/plain": [
              "<Figure size 600x400 with 1 Axes>"
            ],
            "image/png": "[encoded data removed]"
          },
          "metadata": {}
        }
      ]
    },
    {
      "cell_type": "markdown",
      "source": [
        "Great, now we have a probability distribution (over all 10,000 sampled distributions) for the number of black men selected as jurors.\n",
        "\n",
        "Now we can visualize where our specific observation from the Alabama case in 1962 falls on this probability distribution.\n",
        "\n",
        "We use the `scatter` function from matplotlib to add a single red point to the plot to indicate the number of selected jurors that were black men is equal to 8. `plt.scatter(8, 0, color='red', s=30)`"
      ],
      "metadata": {
        "id": "akqR6KcFNoMa"
      }
    },
    {
      "cell_type": "code",
      "source": [
        "import matplotlib.pyplot as plt\n",
        "import numpy as np\n",
        "Table().with_column(\n",
        "    'Count in a Random Sample', counts\n",
        ").hist(bins = np.arange(5.5, 46.6, 1))\n",
        "plt.title('Simulated Counts of Black Jurors')\n",
        "plt.xlabel('Number of Black Jurors')\n",
        "plt.ylabel('Proportion per Unit')\n",
        "\n",
        "plt.ylim(-0.002, 0.09)\n",
        "plt.scatter(8, 0, color='red', s=30);\n",
        "plt.show()"
      ],
      "metadata": {
        "colab": {
          "base_uri": "https://localhost:8080/",
          "height": 416
        },
        "id": "H52AcFQJNSmg",
        "outputId": "328336b1-35ab-4e18-9fea-d4b20c061dd0"
      },
      "execution_count": 7,
      "outputs": [
        {
          "output_type": "display_data",
          "data": {
            "text/plain": [
              "<Figure size 600x400 with 1 Axes>"
            ],
            "image/png": "[encoded data removed]"
          },
          "metadata": {}
        }
      ]
    },
    {
      "cell_type": "markdown",
      "source": [
        "From this histogram we can see the proportion of our 10000 simulations where the number of black jurors was a specific value.\n",
        "\n",
        "The red point indicates what the observed number of black jurors was in the specific trial we observed in Alabama 1962.\n",
        "\n",
        "**Conclusion**: We observe that over the 10000 simulations, not a single one ever ended up with only 8 jurors that were black men, meaning that we can likely conclude that the jury for the trial was biased.\n",
        "\n"
      ],
      "metadata": {
        "id": "v4s0JSeTr3qW"
      }
    },
    {
      "cell_type": "markdown",
      "source": [
        "Through this process we were able to conclude that the claim (or hypothesis) that the jury selection process for the Alabama 1962 case was fair and impartial is **NOT** true. In other words, we concluded that the jury selection process was biased and unfair.\n",
        "\n",
        "Hypothesis testing provides a structured way to evaluate claims about a population or process. It allows us to quantify uncertainty (by incorporating probability that provides evidence for whether something is true or whether observed data is consistent with a claim). Many real-world decisions depend on binary outcomes such as accepting or rejecting a claim, approving or disapproving a new policy, and this framework supports that."
      ],
      "metadata": {
        "id": "ry4e_NXBPMI4"
      }
    },
    {
      "cell_type": "markdown",
      "source": [
        "\n",
        "Specifically, we were testing out our hypotheses, the null hypothesis and the alternative hypothesis, about whether the process of jury selection in this Alabama 1962 case was fair and impartial."
      ],
      "metadata": {
        "id": "VewTPFUpPLad"
      }
    },
    {
      "cell_type": "markdown",
      "source": [
        "Why two hypotheses? It's like a courtroom analogy: The **null hypothesis** is like \"innocent until proven guilty\". The **alternative hypothesis** is the claim of guilt. You need strong evidence (data) to reject the null hypothesis in favor of the alternative.\n",
        "\n",
        "\n",
        "\n",
        "Let's understand this further:\n",
        "\n",
        "1. **The null hypothesis** acts as a sort of \"status quo\" or \"no effect\" statement. Its the default or starting assumption. It says that nothing unusual or unexpected is happening, and any differences we see in the data are just due to random chance. For example, if you roll a die, the null hypothesis might be: The die is fair (each number has an equal chance of 1/6). The word “null” reinforces the idea that if the data look different from what the null hypothesis predicts, the difference is due to nothing but chance. From a practical perspective, the null hypothesis is a hypothesis under which you can simulate data. Under this hypothesis, we can simulate random samples by using say `sample_proportions`.\n",
        "\n",
        "It serves as the default or baseline assumption that there is no significant effect, relationship, or difference in the population parameters being studied. In simpler terms, the null hypothesis (often denoted as **H0**) represents the idea that any observed differences or patterns in your data are purely due to random chance or sampling variability. For example, if you are comparing the mean scores of two groups, the null hypothesis might state that there is no significant difference in the means of the two groups.\n",
        "\n",
        "\n",
        "    \n",
        "2. **The alternative hypothesis** In the context of data science, it is a statement that contradicts the null hypothesis. It is the opposite of the null hypothesis. It says that there is something unusual or unexpected going on—there’s a real effect or difference. It’s the hypothesis we’re trying to find evidence for! In other words, this says that some reason other than chance made the data differ from the predictions of the model in the null hypothesis. For example, if you roll a die, the alternative hypothesis might be: The die is not fair (it is biased/the chances of each number are not equal).\n",
        "\n",
        "It represents the researcher's specific claim or expectation about the population parameters being studied. Unlike the null hypothesis, the alternative hypothesis (often denoted as **H1**) asserts that there is a significant effect, relationship, or difference in the data. In simpler terms, the alternative hypothesis is what researchers are trying to find evidence for. For example, if you are conducting a study comparing the mean scores of two groups, the null hypothesis might state that there is no significant difference in the means, while the alternative hypothesis would assert that there is a specific difference in the means.\n"
      ],
      "metadata": {
        "id": "5rQr2adVp7Fs"
      }
    },
    {
      "cell_type": "markdown",
      "source": [
        "**Question**: What is the null hypothesis in the above juror example?"
      ],
      "metadata": {
        "id": "peyXZlJaQcdM"
      }
    },
    {
      "cell_type": "markdown",
      "source": [
        "**Question**: What is the alternative hypothesis in the above juror example?"
      ],
      "metadata": {
        "id": "m_3fNrIVQjJi"
      }
    },
    {
      "cell_type": "markdown",
      "source": [
        "**Any questions so far?**"
      ],
      "metadata": {
        "id": "Cm4Rom4CygDF"
      }
    },
    {
      "cell_type": "markdown",
      "source": [
        "# [Section 11.2: Multiple Categories](https://inferentialthinking.com/chapters/11/2/Multiple_Categories.html)\n",
        "\n",
        "\n",
        "\"The focus of the study by the ACLU of Northern California was the racial and ethnic composition of jury panels in Alameda County. The ACLU compiled data on the composition of the jury panels in 11 felony trials in Alameda County in the years 2009 and 2010. \"\n",
        "\n",
        "Now, instead of just \"black\" and \"white\", we are looking at:\n",
        "\n",
        "```\n",
        "('Asian/PI', 'Black/AA', 'Caucasian', 'Hispanic', 'Other')\n",
        "```\n",
        "\n",
        "But it's the same basic question: are the juries selected in a way that is representative of the population, or is there inherent bias?\n",
        "\n",
        "In the previous example we only considered a single value (26%) as the proportion of eligible jurors that were black men. In this example we now have a proportion for each category.\n"
      ],
      "metadata": {
        "id": "31zKzl8PybWT"
      }
    },
    {
      "cell_type": "code",
      "source": [
        "jury = Table().with_columns(\n",
        "    'Ethnicity', make_array('Asian/PI', 'Black/AA', 'Caucasian', 'Hispanic', 'Other'),\n",
        "    'Eligible', make_array(0.15, 0.18, 0.54, 0.12, 0.01),\n",
        "    'Panels', make_array(0.26, 0.08, 0.54, 0.08, 0.04)\n",
        ")\n",
        "jury"
      ],
      "metadata": {
        "colab": {
          "base_uri": "https://localhost:8080/",
          "height": 206
        },
        "id": "iAUNXIHFy6t_",
        "outputId": "91701752-d9c0-4db4-f231-b70c7c0ecdb2"
      },
      "execution_count": 8,
      "outputs": [
        {
          "output_type": "execute_result",
          "data": {
            "text/plain": [
              "Ethnicity | Eligible | Panels\n",
              "Asian/PI  | 0.15     | 0.26\n",
              "Black/AA  | 0.18     | 0.08\n",
              "Caucasian | 0.54     | 0.54\n",
              "Hispanic  | 0.12     | 0.08\n",
              "Other     | 0.01     | 0.04"
            ],
            "text/html": [
              "<table border=\"1\" class=\"dataframe\">\n",
              "    <thead>\n",
              "        <tr>\n",
              "            <th>Ethnicity</th> <th>Eligible</th> <th>Panels</th>\n",
              "        </tr>\n",
              "    </thead>\n",
              "    <tbody>\n",
              "        <tr>\n",
              "            <td>Asian/PI </td> <td>0.15    </td> <td>0.26  </td>\n",
              "        </tr>\n",
              "        <tr>\n",
              "            <td>Black/AA </td> <td>0.18    </td> <td>0.08  </td>\n",
              "        </tr>\n",
              "        <tr>\n",
              "            <td>Caucasian</td> <td>0.54    </td> <td>0.54  </td>\n",
              "        </tr>\n",
              "        <tr>\n",
              "            <td>Hispanic </td> <td>0.12    </td> <td>0.08  </td>\n",
              "        </tr>\n",
              "        <tr>\n",
              "            <td>Other    </td> <td>0.01    </td> <td>0.04  </td>\n",
              "        </tr>\n",
              "    </tbody>\n",
              "</table>"
            ]
          },
          "metadata": {},
          "execution_count": 8
        }
      ]
    },
    {
      "cell_type": "code",
      "source": [
        "jury.barh('Ethnicity')"
      ],
      "metadata": {
        "colab": {
          "base_uri": "https://localhost:8080/",
          "height": 368
        },
        "id": "5cktYpuXy6wh",
        "outputId": "2da3be4a-951b-4d72-9ef5-49550be10683"
      },
      "execution_count": null,
      "outputs": [
        {
          "output_type": "display_data",
          "data": {
            "text/plain": [
              "<Figure size 600x400 with 1 Axes>"
            ],
            "image/png": "[encoded data removed]"
          },
          "metadata": {}
        }
      ]
    },
    {
      "cell_type": "markdown",
      "source": [
        "Now over these 11 felony trials, let us consider choosing a sample of 1100 people for 100 people each to serve on the 11 juries, following a similar approach to the previous example."
      ],
      "metadata": {
        "id": "R5Fl9nFYSf_Z"
      }
    },
    {
      "cell_type": "code",
      "source": [
        "eligible_population = jury.column('Eligible')\n",
        "eligible_population"
      ],
      "metadata": {
        "colab": {
          "base_uri": "https://localhost:8080/"
        },
        "id": "iZPnrqnepMCt",
        "outputId": "b7e2bc9c-a750-4335-c627-fd7534b739d9"
      },
      "execution_count": 9,
      "outputs": [
        {
          "output_type": "execute_result",
          "data": {
            "text/plain": [
              "array([ 0.15,  0.18,  0.54,  0.12,  0.01])"
            ]
          },
          "metadata": {},
          "execution_count": 9
        }
      ]
    },
    {
      "cell_type": "code",
      "source": [
        "eligible_population = jury.column('Eligible')\n",
        "sample_distribution = sample_proportions(1100, eligible_population)\n",
        "panels_and_sample = jury.with_column('Random Sample', sample_distribution)\n",
        "panels_and_sample"
      ],
      "metadata": {
        "colab": {
          "base_uri": "https://localhost:8080/",
          "height": 206
        },
        "id": "OYAgsic_y6zD",
        "outputId": "a593667b-283b-4eef-e6f0-a2c9408da203"
      },
      "execution_count": 10,
      "outputs": [
        {
          "output_type": "execute_result",
          "data": {
            "text/plain": [
              "Ethnicity | Eligible | Panels | Random Sample\n",
              "Asian/PI  | 0.15     | 0.26   | 0.156364\n",
              "Black/AA  | 0.18     | 0.08   | 0.157273\n",
              "Caucasian | 0.54     | 0.54   | 0.573636\n",
              "Hispanic  | 0.12     | 0.08   | 0.102727\n",
              "Other     | 0.01     | 0.04   | 0.01"
            ],
            "text/html": [
              "<table border=\"1\" class=\"dataframe\">\n",
              "    <thead>\n",
              "        <tr>\n",
              "            <th>Ethnicity</th> <th>Eligible</th> <th>Panels</th> <th>Random Sample</th>\n",
              "        </tr>\n",
              "    </thead>\n",
              "    <tbody>\n",
              "        <tr>\n",
              "            <td>Asian/PI </td> <td>0.15    </td> <td>0.26  </td> <td>0.156364     </td>\n",
              "        </tr>\n",
              "        <tr>\n",
              "            <td>Black/AA </td> <td>0.18    </td> <td>0.08  </td> <td>0.157273     </td>\n",
              "        </tr>\n",
              "        <tr>\n",
              "            <td>Caucasian</td> <td>0.54    </td> <td>0.54  </td> <td>0.573636     </td>\n",
              "        </tr>\n",
              "        <tr>\n",
              "            <td>Hispanic </td> <td>0.12    </td> <td>0.08  </td> <td>0.102727     </td>\n",
              "        </tr>\n",
              "        <tr>\n",
              "            <td>Other    </td> <td>0.01    </td> <td>0.04  </td> <td>0.01         </td>\n",
              "        </tr>\n",
              "    </tbody>\n",
              "</table>"
            ]
          },
          "metadata": {},
          "execution_count": 10
        }
      ]
    },
    {
      "cell_type": "code",
      "source": [
        "eligible_population = jury.column('Eligible')\n",
        "sample_distribution = sample_proportions(1100, eligible_population)\n",
        "panels_and_sample = jury.with_column('Random Sample', sample_distribution)\n",
        "panels_and_sample.barh('Ethnicity')"
      ],
      "metadata": {
        "colab": {
          "base_uri": "https://localhost:8080/",
          "height": 368
        },
        "id": "_EyvgrESzFfl",
        "outputId": "23e8a2ad-2a18-4628-9db8-08d5110ae5cf"
      },
      "execution_count": 11,
      "outputs": [
        {
          "output_type": "display_data",
          "data": {
            "text/plain": [
              "<Figure size 600x400 with 1 Axes>"
            ],
            "image/png": "[encoded data removed]"
          },
          "metadata": {}
        }
      ]
    },
    {
      "cell_type": "markdown",
      "source": [
        "We can see that the blue bars (random sample vs. eligible jurors) are always similar to each other, even when we run this many times.\n",
        "\n",
        "**Sanity Check**: Why is this the case?"
      ],
      "metadata": {
        "id": "ReFcj9bNS03V"
      }
    },
    {
      "cell_type": "markdown",
      "source": [
        "Note that the light blue bar represents a single randomly sampled distribution. In the previous example, our next step would be to generate a group of randomly sample distributions and then observe the probability distribution.\n"
      ],
      "metadata": {
        "id": "SXHnHwIGTuj3"
      }
    },
    {
      "cell_type": "code",
      "source": [
        "sample_size = 1100\n",
        "eligible_population = jury.column('Eligible')\n",
        "index = 3\n",
        "\n",
        "def one_simulated_count():\n",
        "    return sample_size * sample_proportions(sample_size, eligible_population).item(index)\n",
        "\n",
        "counts = make_array()\n",
        "repetitions = 10000\n",
        "for i in np.arange(repetitions):\n",
        "    counts = np.append(counts, one_simulated_count())\n",
        "\n",
        "print(\"Counts for Category Index {}: {}\".format(index, jury.column('Ethnicity').take(0)))\n",
        "counts\n"
      ],
      "metadata": {
        "colab": {
          "base_uri": "https://localhost:8080/"
        },
        "id": "pa589OUmUKuS",
        "outputId": "8999e57f-014f-4120-ecb9-76e04ccfa102"
      },
      "execution_count": 12,
      "outputs": [
        {
          "output_type": "stream",
          "name": "stdout",
          "text": [
            "Counts for Category Index 3: Asian/PI\n"
          ]
        },
        {
          "output_type": "execute_result",
          "data": {
            "text/plain": [
              "array([ 138.,  130.,  127., ...,  136.,  132.,  142.])"
            ]
          },
          "metadata": {},
          "execution_count": 12
        }
      ]
    },
    {
      "cell_type": "code",
      "source": [
        "print(np.min(counts))\n",
        "print(np.max(counts))"
      ],
      "metadata": {
        "colab": {
          "base_uri": "https://localhost:8080/"
        },
        "id": "QfWrqqRyUxmK",
        "outputId": "f9dca011-1156-498a-c16d-953debabe658"
      },
      "execution_count": 13,
      "outputs": [
        {
          "output_type": "stream",
          "name": "stdout",
          "text": [
            "94.0\n",
            "177.0\n"
          ]
        }
      ]
    },
    {
      "cell_type": "code",
      "source": [
        "Table().with_column(\n",
        "    'Counts for Category Index {}: {}'.format(index, jury.column('Ethnicity').take(index)), counts\n",
        ").hist(bins = np.arange((np.min(counts) // 10) * 10, (np.max(counts) // 10) * 10, 10))\n",
        "\n",
        "plt.scatter(jury.column('Panels').take(index) * sample_size, 0, color='red', s=30);\n",
        "plt.show()"
      ],
      "metadata": {
        "colab": {
          "base_uri": "https://localhost:8080/",
          "height": 394
        },
        "id": "h95Gr6ryU-T-",
        "outputId": "a4af8376-39c8-4d90-ebd0-2bc3a2032912"
      },
      "execution_count": 14,
      "outputs": [
        {
          "output_type": "display_data",
          "data": {
            "text/plain": [
              "<Figure size 600x400 with 1 Axes>"
            ],
            "image/png": "[encoded data removed]"
          },
          "metadata": {}
        }
      ]
    },
    {
      "cell_type": "markdown",
      "source": [
        "Through this process we can iterate through each category to understand whether the observed statistic fall within our probability distribution.\n",
        "\n",
        "But how can we tell if two distributions are similar overall, not just in one statistic? To do that, we need a way to measure how far apart entire distributions are, a kind of distance metric."
      ],
      "metadata": {
        "id": "EPky-cKPWfz5"
      }
    },
    {
      "cell_type": "code",
      "source": [
        "# Augment the table with a column of differences between proportions\n",
        "\n",
        "jury_with_diffs = jury.with_column(\n",
        "    'Difference', jury.column('Panels') - jury.column('Eligible')\n",
        ")\n",
        "jury_with_diffs"
      ],
      "metadata": {
        "colab": {
          "base_uri": "https://localhost:8080/",
          "height": 206
        },
        "id": "Zj5_iiFczs2e",
        "outputId": "c814d229-5696-4231-d1c6-65a18a363f31"
      },
      "execution_count": 15,
      "outputs": [
        {
          "output_type": "execute_result",
          "data": {
            "text/plain": [
              "Ethnicity | Eligible | Panels | Difference\n",
              "Asian/PI  | 0.15     | 0.26   | 0.11\n",
              "Black/AA  | 0.18     | 0.08   | -0.1\n",
              "Caucasian | 0.54     | 0.54   | 0\n",
              "Hispanic  | 0.12     | 0.08   | -0.04\n",
              "Other     | 0.01     | 0.04   | 0.03"
            ],
            "text/html": [
              "<table border=\"1\" class=\"dataframe\">\n",
              "    <thead>\n",
              "        <tr>\n",
              "            <th>Ethnicity</th> <th>Eligible</th> <th>Panels</th> <th>Difference</th>\n",
              "        </tr>\n",
              "    </thead>\n",
              "    <tbody>\n",
              "        <tr>\n",
              "            <td>Asian/PI </td> <td>0.15    </td> <td>0.26  </td> <td>0.11      </td>\n",
              "        </tr>\n",
              "        <tr>\n",
              "            <td>Black/AA </td> <td>0.18    </td> <td>0.08  </td> <td>-0.1      </td>\n",
              "        </tr>\n",
              "        <tr>\n",
              "            <td>Caucasian</td> <td>0.54    </td> <td>0.54  </td> <td>0         </td>\n",
              "        </tr>\n",
              "        <tr>\n",
              "            <td>Hispanic </td> <td>0.12    </td> <td>0.08  </td> <td>-0.04     </td>\n",
              "        </tr>\n",
              "        <tr>\n",
              "            <td>Other    </td> <td>0.01    </td> <td>0.04  </td> <td>0.03      </td>\n",
              "        </tr>\n",
              "    </tbody>\n",
              "</table>"
            ]
          },
          "metadata": {},
          "execution_count": 15
        }
      ]
    },
    {
      "cell_type": "code",
      "source": [
        "jury_with_diffs = jury_with_diffs.with_column(\n",
        "    'Absolute Difference', np.abs(jury_with_diffs.column('Difference'))\n",
        ")\n",
        "\n",
        "jury_with_diffs"
      ],
      "metadata": {
        "colab": {
          "base_uri": "https://localhost:8080/",
          "height": 206
        },
        "id": "fugvARfSzs64",
        "outputId": "45c47679-2ea5-4966-ee3a-5ca00e4b36af"
      },
      "execution_count": 16,
      "outputs": [
        {
          "output_type": "execute_result",
          "data": {
            "text/plain": [
              "Ethnicity | Eligible | Panels | Difference | Absolute Difference\n",
              "Asian/PI  | 0.15     | 0.26   | 0.11       | 0.11\n",
              "Black/AA  | 0.18     | 0.08   | -0.1       | 0.1\n",
              "Caucasian | 0.54     | 0.54   | 0          | 0\n",
              "Hispanic  | 0.12     | 0.08   | -0.04      | 0.04\n",
              "Other     | 0.01     | 0.04   | 0.03       | 0.03"
            ],
            "text/html": [
              "<table border=\"1\" class=\"dataframe\">\n",
              "    <thead>\n",
              "        <tr>\n",
              "            <th>Ethnicity</th> <th>Eligible</th> <th>Panels</th> <th>Difference</th> <th>Absolute Difference</th>\n",
              "        </tr>\n",
              "    </thead>\n",
              "    <tbody>\n",
              "        <tr>\n",
              "            <td>Asian/PI </td> <td>0.15    </td> <td>0.26  </td> <td>0.11      </td> <td>0.11               </td>\n",
              "        </tr>\n",
              "        <tr>\n",
              "            <td>Black/AA </td> <td>0.18    </td> <td>0.08  </td> <td>-0.1      </td> <td>0.1                </td>\n",
              "        </tr>\n",
              "        <tr>\n",
              "            <td>Caucasian</td> <td>0.54    </td> <td>0.54  </td> <td>0         </td> <td>0                  </td>\n",
              "        </tr>\n",
              "        <tr>\n",
              "            <td>Hispanic </td> <td>0.12    </td> <td>0.08  </td> <td>-0.04     </td> <td>0.04               </td>\n",
              "        </tr>\n",
              "        <tr>\n",
              "            <td>Other    </td> <td>0.01    </td> <td>0.04  </td> <td>0.03      </td> <td>0.03               </td>\n",
              "        </tr>\n",
              "    </tbody>\n",
              "</table>"
            ]
          },
          "metadata": {},
          "execution_count": 16
        }
      ]
    },
    {
      "cell_type": "code",
      "source": [
        "jury_with_diffs.column('Absolute Difference').sum() / 2"
      ],
      "metadata": {
        "colab": {
          "base_uri": "https://localhost:8080/"
        },
        "id": "HXCdWo3bzs9v",
        "outputId": "d68b97ca-e0e6-4f3b-ba15-69c6693d7ddc"
      },
      "execution_count": 17,
      "outputs": [
        {
          "output_type": "execute_result",
          "data": {
            "text/plain": [
              "0.14000000000000001"
            ]
          },
          "metadata": {},
          "execution_count": 17
        }
      ]
    },
    {
      "cell_type": "code",
      "source": [
        "def total_variation_distance(distribution_1, distribution_2):\n",
        "    return sum(np.abs(distribution_1 - distribution_2)) / 2"
      ],
      "metadata": {
        "id": "vvRBgCcbz7WZ"
      },
      "execution_count": 18,
      "outputs": []
    },
    {
      "cell_type": "code",
      "source": [
        "total_variation_distance(jury.column('Panels'), jury.column('Eligible'))"
      ],
      "metadata": {
        "colab": {
          "base_uri": "https://localhost:8080/"
        },
        "id": "3zMHVLloz7b5",
        "outputId": "a6c90818-bc30-44d0-eca9-618942fb9830"
      },
      "execution_count": 19,
      "outputs": [
        {
          "output_type": "execute_result",
          "data": {
            "text/plain": [
              "0.14000000000000001"
            ]
          },
          "metadata": {},
          "execution_count": 19
        }
      ]
    },
    {
      "cell_type": "code",
      "source": [
        "sample_distribution = sample_proportions(1453, eligible_population)\n",
        "total_variation_distance(sample_distribution, eligible_population)"
      ],
      "metadata": {
        "colab": {
          "base_uri": "https://localhost:8080/"
        },
        "id": "s7OmgiXLz7fs",
        "outputId": "3fe89f9c-e587-4b97-eea2-955a01aa2238"
      },
      "execution_count": 20,
      "outputs": [
        {
          "output_type": "execute_result",
          "data": {
            "text/plain": [
              "0.016620784583620131"
            ]
          },
          "metadata": {},
          "execution_count": 20
        }
      ]
    },
    {
      "cell_type": "code",
      "source": [
        "def one_simulated_tvd():\n",
        "    sample_distribution = sample_proportions(1453, eligible_population)\n",
        "    return total_variation_distance(sample_distribution, eligible_population)"
      ],
      "metadata": {
        "id": "dSCfUWXC0NKX"
      },
      "execution_count": 21,
      "outputs": []
    },
    {
      "cell_type": "code",
      "source": [
        "tvds = make_array()\n",
        "repetitions = 10000\n",
        "for i in np.arange(repetitions):\n",
        "    tvds = np.append(tvds, one_simulated_tvd())"
      ],
      "metadata": {
        "id": "bsLVCdoS0NNY"
      },
      "execution_count": 24,
      "outputs": []
    },
    {
      "cell_type": "code",
      "source": [
        "Table().with_column('TVD', tvds).hist(bins=np.arange(0, 0.2, 0.005))\n",
        "\n",
        "plt.title('Prediction Assuming Random Selection')\n",
        "plt.xlim(0, 0.15)\n",
        "plt.ylim(-5, 50)\n",
        "plt.scatter(0.14, 0, color='red', s=30);"
      ],
      "metadata": {
        "colab": {
          "base_uri": "https://localhost:8080/",
          "height": 442
        },
        "id": "qgDksxDA0Rwp",
        "outputId": "6d5aa595-5c75-46c0-8339-1e7e659d4897"
      },
      "execution_count": 25,
      "outputs": [
        {
          "output_type": "display_data",
          "data": {
            "text/plain": [
              "<Figure size 600x400 with 1 Axes>"
            ],
            "image/png": "[encoded data removed]"
          },
          "metadata": {}
        }
      ]
    },
    {
      "cell_type": "markdown",
      "source": [
        "Note in the above graph, the y-axis represents the absolute number of repititions that has a value that falls into the bin. This is due to how the datascience library normalizes the graph based on the size of the bins."
      ],
      "metadata": {
        "id": "8AQlV1i1-_if"
      }
    },
    {
      "cell_type": "markdown",
      "source": [
        "In both of these examples it's pretty clear that the alternative hypothesis is more likely to be true since the observed test statistic significantly differs from the null hypothesis.\n",
        "\n",
        "Let's look at an example that may not be so obvious concerning university rankings that we've looked at before."
      ],
      "metadata": {
        "id": "NIuFcZtZ2YHu"
      }
    },
    {
      "cell_type": "code",
      "source": [
        "university_rankings = Table().read_table(\"data/world_university_rankings.csv\")\n",
        "university_rankings"
      ],
      "metadata": {
        "colab": {
          "base_uri": "https://localhost:8080/",
          "height": 462
        },
        "id": "GsGTrIzb2Mrw",
        "outputId": "f7af1099-470c-4e56-b623-af00e33eb537"
      },
      "execution_count": 28,
      "outputs": [
        {
          "output_type": "execute_result",
          "data": {
            "text/plain": [
              "rank | ranking-institution-title             | location       | Overall scores | Research Quality Score | Industry Score | International Outlook | Research Environment Score | Teaching Score\n",
              "1    | Massachusetts Institute of Technology | United States  | 94.8           | 92.2                   | 99.9           | 89.6                  | 96.5                       | 96\n",
              "2    | Stanford University                   | United States  | 93.1           | 91.9                   | 100            | 83.5                  | 91.8                       | 98.2\n",
              "3    | University of Oxford                  | United Kingdom | 91.3           | 81.7                   | 89.4           | 94.5                  | 97.4                       | 93.5\n",
              "4    | University of California, Berkeley    | United States  | 90.6           | 95.2                   | 90.6           | 83.5                  | 92.7                       | 91.1\n",
              "5    | Peking University                     | China          | 90.4           | 74.5                   | 95.4           | 94                    | 91.8                       | 96.3\n",
              "6    | Tsinghua University                   | China          | 89.6           | 82.5                   | 99.5           | 77.7                  | 95.2                       | 93.2\n",
              "7    | University of Cambridge               | United Kingdom | 89.4           | 86.6                   | 76.7           | 95.4                  | 94.6                       | 93.8\n",
              "8    | ETH Zurich                            | Switzerland    | 88.3           | 87.1                   | 99.5           | 96.4                  | 83.1                       | 75.2\n",
              "9    | Harvard University                    | United States  | 87.1           | 95.2                   | 69.8           | 82.1                  | 93.4                       | 95\n",
              "10   | National University of Singapore      | Singapore      | 86.8           | 79.7                   | 97.9           | 80.4                  | 95.9                       | 79.9\n",
              "... (900 rows omitted)"
            ],
            "text/html": [
              "<table border=\"1\" class=\"dataframe\">\n",
              "    <thead>\n",
              "        <tr>\n",
              "            <th>rank</th> <th>ranking-institution-title</th> <th>location</th> <th>Overall scores</th> <th>Research Quality Score</th> <th>Industry Score</th> <th>International Outlook</th> <th>Research Environment Score</th> <th>Teaching Score</th>\n",
              "        </tr>\n",
              "    </thead>\n",
              "    <tbody>\n",
              "        <tr>\n",
              "            <td>1   </td> <td>Massachusetts Institute of Technology</td> <td>United States </td> <td>94.8          </td> <td>92.2                  </td> <td>99.9          </td> <td>89.6                 </td> <td>96.5                      </td> <td>96            </td>\n",
              "        </tr>\n",
              "        <tr>\n",
              "            <td>2   </td> <td>Stanford University                  </td> <td>United States </td> <td>93.1          </td> <td>91.9                  </td> <td>100           </td> <td>83.5                 </td> <td>91.8                      </td> <td>98.2          </td>\n",
              "        </tr>\n",
              "        <tr>\n",
              "            <td>3   </td> <td>University of Oxford                 </td> <td>United Kingdom</td> <td>91.3          </td> <td>81.7                  </td> <td>89.4          </td> <td>94.5                 </td> <td>97.4                      </td> <td>93.5          </td>\n",
              "        </tr>\n",
              "        <tr>\n",
              "            <td>4   </td> <td>University of California, Berkeley   </td> <td>United States </td> <td>90.6          </td> <td>95.2                  </td> <td>90.6          </td> <td>83.5                 </td> <td>92.7                      </td> <td>91.1          </td>\n",
              "        </tr>\n",
              "        <tr>\n",
              "            <td>5   </td> <td>Peking University                    </td> <td>China         </td> <td>90.4          </td> <td>74.5                  </td> <td>95.4          </td> <td>94                   </td> <td>91.8                      </td> <td>96.3          </td>\n",
              "        </tr>\n",
              "        <tr>\n",
              "            <td>6   </td> <td>Tsinghua University                  </td> <td>China         </td> <td>89.6          </td> <td>82.5                  </td> <td>99.5          </td> <td>77.7                 </td> <td>95.2                      </td> <td>93.2          </td>\n",
              "        </tr>\n",
              "        <tr>\n",
              "            <td>7   </td> <td>University of Cambridge              </td> <td>United Kingdom</td> <td>89.4          </td> <td>86.6                  </td> <td>76.7          </td> <td>95.4                 </td> <td>94.6                      </td> <td>93.8          </td>\n",
              "        </tr>\n",
              "        <tr>\n",
              "            <td>8   </td> <td>ETH Zurich                           </td> <td>Switzerland   </td> <td>88.3          </td> <td>87.1                  </td> <td>99.5          </td> <td>96.4                 </td> <td>83.1                      </td> <td>75.2          </td>\n",
              "        </tr>\n",
              "        <tr>\n",
              "            <td>9   </td> <td>Harvard University                   </td> <td>United States </td> <td>87.1          </td> <td>95.2                  </td> <td>69.8          </td> <td>82.1                 </td> <td>93.4                      </td> <td>95            </td>\n",
              "        </tr>\n",
              "        <tr>\n",
              "            <td>10  </td> <td>National University of Singapore     </td> <td>Singapore     </td> <td>86.8          </td> <td>79.7                  </td> <td>97.9          </td> <td>80.4                 </td> <td>95.9                      </td> <td>79.9          </td>\n",
              "        </tr>\n",
              "    </tbody>\n",
              "</table>\n",
              "<p>... (900 rows omitted)</p>"
            ]
          },
          "metadata": {},
          "execution_count": 28
        }
      ]
    },
    {
      "cell_type": "markdown",
      "source": [
        "Let's say you propose the following model that predicts something about American universities: For an American university, there is a 68% chance that it has an overall score that is higher than the average overall score of all the universities. Now, you want to check if this claim matches reality by testing it with data!\n",
        "\n",
        "To test your claim, you set up two competing ideas: Let's define our *null* and *alternative* hypotheses."
      ],
      "metadata": {
        "id": "QD5gSA6H3jqI"
      }
    },
    {
      "cell_type": "code",
      "source": [],
      "metadata": {
        "id": "sbr70iZCXgGG"
      },
      "execution_count": null,
      "outputs": []
    },
    {
      "cell_type": "code",
      "source": [],
      "metadata": {
        "id": "4UJrEiecXgM_"
      },
      "execution_count": null,
      "outputs": []
    },
    {
      "cell_type": "code",
      "source": [],
      "metadata": {
        "id": "2F_suKmIXgPW"
      },
      "execution_count": null,
      "outputs": []
    },
    {
      "cell_type": "code",
      "source": [],
      "metadata": {
        "id": "zLlWGdEkXgRu"
      },
      "execution_count": null,
      "outputs": []
    },
    {
      "cell_type": "code",
      "source": [],
      "metadata": {
        "id": "qEaxDA6ZXgT9"
      },
      "execution_count": null,
      "outputs": []
    },
    {
      "cell_type": "markdown",
      "source": [
        "The *null hypothesis* states that the assumptions of your model are good. In other words, an American university does really have a 68% chance of having an overall score that is higher than the average of all the universities.\n",
        "The *alternative hypothesis* simply states that the assumptions of your model are not correct, i.e., an American university does **not** have a 68% chance of having an overall score that is higher than the average of all the universities. Simple, right?\n",
        "\n",
        "We will use our data to perform a test of hypotheses and see if our model looks good."
      ],
      "metadata": {
        "id": "RmzIy7BmXfHz"
      }
    },
    {
      "cell_type": "code",
      "source": [
        "average_score_all = np.mean(university_rankings.column('Overall scores'))\n",
        "average_score_all"
      ],
      "metadata": {
        "colab": {
          "base_uri": "https://localhost:8080/"
        },
        "id": "Bd6vff-V3fNj",
        "outputId": "259602c3-d9d9-4d9e-d878-91e9ca81bd71"
      },
      "execution_count": null,
      "outputs": [
        {
          "output_type": "execute_result",
          "data": {
            "text/plain": [
              "44.430769230769229"
            ]
          },
          "metadata": {},
          "execution_count": 38
        }
      ]
    },
    {
      "cell_type": "code",
      "source": [
        "average_score_all = np.average(university_rankings.column('Overall scores'))\n",
        "# Filtering the American universities with scores higher than the average (of all universities)\n",
        "higher_than_average = university_rankings.where('location', are.equal_to('United States')) \\\n",
        "                          .where('Overall scores', are.above(average_score_all))\n",
        "\n",
        "# Counting the number of American universities that meet the condition\n",
        "num_higher_than_average = higher_than_average.num_rows\n",
        "\n",
        "# Counting the number of American universities that don't meet the condition\n",
        "num_lower_than_average = university_rankings.where('location', are.equal_to('United States')).num_rows - num_higher_than_average\n",
        "\n",
        "# Creating a new table to display the results\n",
        "result_table = Table().with_columns([\n",
        "    'Condition', ['Higher than Average', 'Lower than Average'],\n",
        "    'Count', [num_higher_than_average, num_lower_than_average]\n",
        "])\n",
        "\n",
        "# Displaying the result in markdown format\n",
        "result_table.show()"
      ],
      "metadata": {
        "colab": {
          "base_uri": "https://localhost:8080/",
          "height": 112
        },
        "id": "Frjp7TA_3sKT",
        "outputId": "2b23acc7-5bba-4d62-b992-bdf09e6b437c"
      },
      "execution_count": 136,
      "outputs": [
        {
          "output_type": "display_data",
          "data": {
            "text/plain": [
              "<IPython.core.display.HTML object>"
            ],
            "text/html": [
              "<table border=\"1\" class=\"dataframe\">\n",
              "    <thead>\n",
              "        <tr>\n",
              "            <th>Condition</th> <th>Count</th>\n",
              "        </tr>\n",
              "    </thead>\n",
              "    <tbody>\n",
              "        <tr>\n",
              "            <td>Higher than Average</td> <td>89   </td>\n",
              "        </tr>\n",
              "        <tr>\n",
              "            <td>Lower than Average </td> <td>54   </td>\n",
              "        </tr>\n",
              "    </tbody>\n",
              "</table>"
            ]
          },
          "metadata": {}
        }
      ]
    },
    {
      "cell_type": "markdown",
      "source": [
        "The next step is essentially the step where you quantify the difference between what your model predicts and what you observe in the data. Let's break it down:\n",
        "\n",
        "A test statistic is a single number that summarizes the data in a way that helps you decide between the null and alternative hypotheses. It measures how far the data is from the null hypothesis prediction.\n",
        "\n",
        "Using the *total variation distance*:\n",
        "\n",
        "Your model prediction: 68% of American universities have a score higher than the average.\n",
        "\n",
        "What you observed: The actual percentage of American universities in your dataset with scores higher than the average.\n",
        "In this case, the total variational distance comes down to the distance between the sample percent of American universities that have an overall score higher than the average and 68%, which is the corresponding percent in the model you originally assumed. I.e.,\n",
        "\n",
        "Distance = ∣Observed Percent−68%∣ (This tells you how far the observed percentage is from the 68% predicted by your model)\n",
        "\n",
        "Next, we collect the required data (in our case, we already have the data), and calculate the *observed value of the statistic*. This is the observed value given our data. It is the specific value of the test statistic derived from the data - its going to be the \"red dot\" in our plot."
      ],
      "metadata": {
        "id": "9q-L5QxA36oA"
      }
    },
    {
      "cell_type": "code",
      "source": [
        "# observed chance that a US university has overall score above average (in %)\n",
        "(89/(54+89)) * 100"
      ],
      "metadata": {
        "colab": {
          "base_uri": "https://localhost:8080/"
        },
        "id": "FFGCkGYV35-h",
        "outputId": "02f3d00f-981d-45e5-dcb7-08ef9c8ec189"
      },
      "execution_count": null,
      "outputs": [
        {
          "output_type": "execute_result",
          "data": {
            "text/plain": [
              "62.23776223776224"
            ]
          },
          "metadata": {},
          "execution_count": 40
        }
      ]
    },
    {
      "cell_type": "code",
      "source": [
        "observed_statistic = abs ( 100 * (89 / 143) - 68)\n",
        "observed_statistic"
      ],
      "metadata": {
        "colab": {
          "base_uri": "https://localhost:8080/"
        },
        "id": "qrMKHPn_5QnC",
        "outputId": "b91f9c24-5b40-449e-89cb-3412aef19dab"
      },
      "execution_count": null,
      "outputs": [
        {
          "output_type": "execute_result",
          "data": {
            "text/plain": [
              "5.76223776223776"
            ]
          },
          "metadata": {},
          "execution_count": 68
        }
      ]
    },
    {
      "cell_type": "markdown",
      "source": [
        "Observed statistic:\n",
        "\n",
        "This is the specific value calculated from our observed data. This represents the distance between the observed proportion (62.24%) and the null hypothesis proportion (68%). It is the real-world value we're testing.\n",
        "\n",
        "Test Statistic:\n",
        "\n",
        "This is the generic term for the metric we use to measure the difference between our observed data and the null hypothesis. In this case, our test statistic is the absolute distance metric (scaled by 100 for percentage comparison). The test statistic is computed for both the observed data (yielding the observed statistic) and the simulated data under the null hypothesis (in this case, since we are simulating, observe that it can come out to be different for different simulations as expected).\n",
        "\n",
        "In hypothesis testing:\n",
        "Small observed statistic (near 0 is best): The sample data aligns closely with the null hypothesis.\n",
        "Large observed statistic (e.g., 5.76 in our case): The sample data deviates significantly from the null, suggesting evidence for the alternative hypothesis."
      ],
      "metadata": {
        "id": "b8FThXWq5fVZ"
      }
    },
    {
      "cell_type": "code",
      "source": [
        "model_proportions = make_array(0.68, 0.32)\n",
        "model_proportions_pos = model_proportions.item(0)\n",
        "sample_size = 143\n",
        "\n",
        "def one_simulated_distance():\n",
        "    sample_proportion_pos = sample_proportions(143, model_proportions).item(0)\n",
        "    return 100 * abs(sample_proportion_pos - model_proportions_pos)\n",
        "\n",
        "repetitions = 10000\n",
        "distances = make_array()\n",
        "\n",
        "for i in np.arange(repetitions):\n",
        "    distances = np.append(distances, one_simulated_distance())\n",
        "\n",
        "\n",
        "# This is the histogram of the distribution of the test statistic predicted by the null hypothesis.\n",
        "Table().with_column(\n",
        "    'Dist between Sample % and 68%', distances\n",
        ").hist() # rmember that hist by default will bin it into 10 intervals\n",
        "plt.title('Prediction Made by the Null Hypothesis');"
      ],
      "metadata": {
        "colab": {
          "base_uri": "https://localhost:8080/",
          "height": 416
        },
        "id": "syVtcMmA5lFM",
        "outputId": "607f1064-36b7-4f97-9478-14752695a1ab"
      },
      "execution_count": 137,
      "outputs": [
        {
          "output_type": "display_data",
          "data": {
            "text/plain": [
              "<Figure size 600x400 with 1 Axes>"
            ],
            "image/png": "[encoded data removed]"
          },
          "metadata": {}
        }
      ]
    },
    {
      "cell_type": "code",
      "source": [
        "Table().with_column(\n",
        "    'Dist between Sample% and our model (68%)', distances\n",
        ").hist()\n",
        "plt.ylim(-0.02, 0.2) # this is just to help you see the red dot (observed statistic) better\n",
        "plt.title('Prediction Made by the Null Hypothesis')\n",
        "plt.scatter(observed_statistic, 0, color='red', s=40);"
      ],
      "metadata": {
        "colab": {
          "base_uri": "https://localhost:8080/",
          "height": 416
        },
        "id": "IW7QDNKt5lIC",
        "outputId": "c4e13b68-8cac-46d3-9b0e-4ca0f73b6746"
      },
      "execution_count": 138,
      "outputs": [
        {
          "output_type": "display_data",
          "data": {
            "text/plain": [
              "<Figure size 600x400 with 1 Axes>"
            ],
            "image/png": "[encoded data removed]"
          },
          "metadata": {}
        }
      ]
    },
    {
      "cell_type": "markdown",
      "source": [],
      "metadata": {
        "id": "cTidoDf65G6K"
      }
    },
    {
      "cell_type": "markdown",
      "source": [
        "The observed statistic is like a typical distance predicted by the null hypothesis. Now, from a quick glance, it seems like the null hypothesis is our model (the red dot seems to be in the heart of the distribution). How do we conclude that the data are consistent with our model or in other words, our model looks good?\n",
        "\n",
        "Hmmm...the answer is not as clear as it was with the jury examples. It depends on whether you think the red dot is too far from the bulk of the predicted values to be consistent with the prediction based on your model. But, thankfully enough we have a way to quantify if 'far' is too far. Enter p-value or observed significance level of a test!\n",
        "\n",
        "The p-value of a test is the probability, assuming the null hypothesis (in this case, the 68% model) is true, of obtaining a test statistic as extreme as or more extreme than the observed statistic.\n",
        "\n",
        "A small p-value means that such values are unlikely under the null hypothesis, suggesting the observed statistic deviates significantly from what the null predicts. This provides evidence that the data align more closely with the alternative hypothesis than with the null."
      ],
      "metadata": {
        "id": "6yPRFj4U1yQW"
      }
    },
    {
      "cell_type": "markdown",
      "source": [
        "Two Short Videos on P-Values\n",
        "\n",
        "https://app.jove.com/science-education/v/13611/p-value\n",
        "\n",
        "https://app.jove.com/science-education/v/13613/decision-making-p-value-method"
      ],
      "metadata": {
        "id": "-cKfNzg57gq9"
      }
    },
    {
      "cell_type": "markdown",
      "source": [
        "Common Misinterpretations:  \n",
        "❌ \"p = 0.05 means there's a 5% chance the null hypothesis is true\"  \n",
        "❌ \"p = 0.05 means there's a 95% chance the alternative hypothesis is true\"  \n",
        "✅ \"If the null hypothesis were true, we'd see results this extreme about 5% of the time  "
      ],
      "metadata": {
        "id": "DYAIc7yg6LIN"
      }
    },
    {
      "cell_type": "markdown",
      "source": [
        "Now that we know what the *p-value* is, let's calculate it for our problem.\n",
        "\n",
        "The p-value quantifies how \"far\" the observed statistic is from the bulk of the null distribution, allowing you to make an objective decision! In other words, the p-value quantifies how surprising or unusual the observed data would be if the null hypothesis were true."
      ],
      "metadata": {
        "id": "OI6PbZRW6LLD"
      }
    },
    {
      "cell_type": "code",
      "source": [
        "# this is the p-value for our problem!\n",
        "# If the p-value is less than 5%, it is considered small and the result is called “statistically significant.”\n",
        "# If the p-value is even smaller – less than 1% – the result is called “highly statistically significant.”\n",
        "# Typically, along with your conclusion, provide the observed statistic and the p-value as well, so that readers can use their own judgment.\n",
        "np.count_nonzero(distances >= observed_statistic) / repetitions"
      ],
      "metadata": {
        "id": "3YM6zIlU0TJ4",
        "colab": {
          "base_uri": "https://localhost:8080/"
        },
        "outputId": "de89406f-5a80-471a-a44a-e23819baaad9"
      },
      "execution_count": 139,
      "outputs": [
        {
          "output_type": "execute_result",
          "data": {
            "text/plain": [
              "0.1499"
            ]
          },
          "metadata": {},
          "execution_count": 139
        }
      ]
    },
    {
      "cell_type": "markdown",
      "source": [
        "Under the null hypothesis, about 16% of simulated samples produced a test statistic as extreme as or more extreme than the observed value of 5.76.\n",
        "\n",
        "Based on what we know now, if we consider the typical threshold of 0.05, that does seem like a big chance indicating that the observed data is reasonably likely to occur by chance alone or in other words, it supports our null hypothesis (that an American university has a 68% chance of having an overall score that is higher than the average of all the universities).\n",
        "\n",
        "#### You can also think of it this way:\n",
        "Under the null hypothesis, we assume that the null hypothesis provides an accurate model of the world. This means the observed data (or observed test statistic) should fit within the range of typical values predicted by the null. If the observed test statistic is very far from the values expected under the null (i.e., \"extreme\"), it suggests that the null may not be a good model for the data.\n",
        "\n",
        "The p-value is the probability of obtaining a test statistic as extreme as (or more extreme than) the observed statistic if the null hypothesis were true. A small p-value indicates that the observed statistic is unusual under the null, leading us to question whether the null hypothesis is correct. A large p-value suggests the observed statistic is consistent with the null, so there's no reason to reject it.\n",
        "\n",
        "If the null hypothesis is true, extreme test statistics should rarely happen because they fall into the tails of the null distribution (low probability). When we observe such an extreme value, it casts doubt on the null hypothesis, because either the null hypothesis is wrong, OR something very unusual happened by chance."
      ],
      "metadata": {
        "id": "lsbq74sJ6lMc"
      }
    },
    {
      "cell_type": "markdown",
      "source": [
        "**Any Questions?**"
      ],
      "metadata": {
        "id": "cgWvm5gnY7IX"
      }
    },
    {
      "cell_type": "markdown",
      "source": [
        "# In-Class Assignment"
      ],
      "metadata": {
        "id": "mggGpXHW7KkR"
      }
    },
    {
      "cell_type": "markdown",
      "source": [
        "ic27 on gradescope! Make sure to complete this"
      ],
      "metadata": {
        "id": "dToPdlHG_g_V"
      }
    },
    {
      "cell_type": "code",
      "source": [],
      "metadata": {
        "id": "zTPE1STt7Nnp"
      },
      "execution_count": null,
      "outputs": []
    }
  ]
}