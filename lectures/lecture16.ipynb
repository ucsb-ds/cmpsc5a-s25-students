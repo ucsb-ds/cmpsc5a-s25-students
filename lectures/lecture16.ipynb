{
  "nbformat": 4,
  "nbformat_minor": 0,
  "metadata": {
    "colab": {
      "provenance": []
    },
    "kernelspec": {
      "name": "python3",
      "display_name": "Python 3"
    },
    "language_info": {
      "name": "python"
    }
  },
  "cells": [
    {
      "cell_type": "code",
      "execution_count": 1,
      "metadata": {
        "colab": {
          "base_uri": "https://localhost:8080/"
        },
        "id": "hZN2fHoBhCK-",
        "outputId": "156efdaa-11bc-46a5-fd02-7103e06380bc"
      },
      "outputs": [
        {
          "output_type": "stream",
          "name": "stdout",
          "text": [
            "%%ai cells will not work in this notebook\n",
            "Please use Gemini for AI queries instead\n"
          ]
        }
      ],
      "source": [
        "# Run this cell once when starting on notebook.\n",
        "# On Google Colab, wait for the Google Drive permission prompts before proceeding\n",
        "import matplotlib.pyplot as plt\n",
        "%matplotlib inline\n",
        "import os\n",
        "import sys\n",
        "try:\n",
        "    %load_ext jupyter_ai_magics\n",
        "except:\n",
        "    print(\"%%ai cells will not work in this notebook\")\n",
        "    print(\"Please use Gemini for AI queries instead\")\n",
        "from datascience import *\n",
        "import numpy as np\n",
        "import math\n",
        "\n"
      ]
    },
    {
      "cell_type": "code",
      "source": [
        "DATA_FOLDER=\"data/\"\n",
        "try:\n",
        "  from google.colab import drive\n",
        "  drive.mount('/content/drive', force_remount=True)\n",
        "  !mkdir -p /content/data\n",
        "  !gdown --folder https://drive.google.com/drive/folders/1XifjqyxFHvjK6nOUi4doYsG12hGPhOcI?usp=drive_link -O /content/data\n",
        "  DATA_FOLDER = DATA_FOLDER.replace(\"data/\", \"/content/data/\")\n",
        "  !ls -l /content/data\n",
        "except:\n",
        "  print(\"Google Drive not mounted; this is normal on Jupyter Hub\")"
      ],
      "metadata": {
        "id": "LvvzcwirxJ1g"
      },
      "execution_count": null,
      "outputs": []
    },
    {
      "cell_type": "markdown",
      "source": [
        "# Lecture 16, CMPSC 5A, S25\n",
        "\n",
        "Thu 05/22/2025, Week 8\n",
        "\n",
        "Google Colab versions of lecture notebooks can be found in this folder:\n",
        "* <https://drive.google.com/drive/folders/1jS1Fa0BpGUVaijXwIYX0I21Un6XOGQM-?usp=sharing>\n",
        "\n",
        "Note that the Google Colab version will have any updates made during class, while the copy on Jupyter Hub may not.\n"
      ],
      "metadata": {
        "id": "mYtNl-6GhLX3"
      }
    },
    {
      "cell_type": "markdown",
      "source": [
        "# The rest of the course\n",
        "\n",
        "| Week | Tue | Wed | Thu | Fri |\n",
        "|-|-|-|-|-|\n",
        "| 8 | | 05/21 Start lab05 (required) | | |\n",
        "| 8 | | 05/21 Start worksheet7 (optional) | | |\n",
        "| 9 | 05/27 lab05 due (required) | start final projects* (required) | |\n",
        "| 9 | 05/27 worksheet7 due (optional) | (*earlier if available) | |\n",
        "| 9 |                                 | start worksheet8 (optional) | |\n",
        "| 10 | 06/03 worksheet8 due (optional) | *(time to work on final)* | final projects (notebook due) | final projects (slides, video due) |\n"
      ],
      "metadata": {
        "id": "v3P0nmY8VATf"
      }
    },
    {
      "cell_type": "markdown",
      "source": [
        "\n",
        "## ic26 Participation Assignment\n",
        "\n",
        "TODO: Create this and link to it on Gradescope\n",
        "\n",
        "Just one today, on Gradescope as [ic26](https://www.gradescope.com/courses/1014383/assignments/6263525)\n",
        "\n"
      ],
      "metadata": {
        "id": "mm3oaAvJkFRK"
      }
    },
    {
      "cell_type": "markdown",
      "source": [
        "\n",
        "# Where are we in the reading?\n",
        "\n",
        "By today, you should have finished reading:\n",
        "\n",
        "* [Chapter 1: What is Data Science](https://inferentialthinking.com/chapters/01/what-is-data-science.html)\n",
        "* [Chapter 2 Causality and Experiments](https://inferentialthinking.com/chapters/02/causality-and-experiments.html)\n",
        "* [Chapter 3: Programming in Python](https://inferentialthinking.com/chapters/03/programming-in-python.html)\n",
        "* [Chapter 4: Data Types](https://inferentialthinking.com/chapters/04/Data_Types.html)\n",
        "* [Chapter 5: Sequences](https://inferentialthinking.com/chapters/05/Sequences.html)\n",
        "* [Chapter 6: Tables](https://inferentialthinking.com/chapters/06/Tables.html)\n",
        "* [Chapter 7: Visualization](https://inferentialthinking.com/chapters/07/Visualization.html)\n",
        "* [Chapter 8: Functions and Tables (Intro)](https://inferentialthinking.com/chapters/08/Functions_and_Tables.html)\n",
        "* [Chapter 9: Randomness](https://inferentialthinking.com/chapters/09/Randomness.html)\n",
        "* [Chapter 14 (intro, Why the Mean Matters)](https://inferentialthinking.com/chapters/14/Why_the_Mean_Matters.html)\n",
        "* [Section 14.1, (Properties of the Mean)](https://inferentialthinking.com/chapters/14/1/Properties_of_the_Mean.html)\n",
        "* [Section 14.2, (Variability)](https://inferentialthinking.com/chapters/14/2/Variability.html)\n",
        "* [Section 15.1, (Correlation)](https://inferentialthinking.com/chapters/15/1/Correlation.html)\n",
        "\n",
        "*New Reading for Today (week 8, 05/22):*\n",
        "\n",
        "* [Chapter 10 (Sampling and Empirical Distributions)](https://inferentialthinking.com/chapters/10/Sampling_and_Empirical_Distributions.html)\n",
        "\n",
        "*New Reading for Tuesday (week 9, 05/27):*\n",
        "\n",
        "* [Chapter 11 (Testing Hypotheses, including p-values)](https://inferentialthinking.com/chapters/11/Testing_Hypotheses.html) (**Needed for final project**)\n",
        "\n",
        "New Reading for Thursday (week 9, 05/29):\n",
        "* [Chapter 12 (Comparing Two Samples, including A/B testing)](https://inferentialthinking.com/chapters/11/Testing_Hypotheses.html) (**Needed for final project**)\n",
        "\n",
        "Unless I update you otherwise, this is all the reading for the quarter.\n",
        "\n"
      ],
      "metadata": {
        "id": "EHfRHuV6AEHA"
      }
    },
    {
      "cell_type": "code",
      "source": [],
      "metadata": {
        "id": "5zHSDiPOvIHP"
      },
      "execution_count": null,
      "outputs": []
    },
    {
      "cell_type": "markdown",
      "source": [
        "# Review of Correlation\n",
        "\n",
        "Here are some brief videos to review the main concepts of Correlation.\n",
        "\n",
        "They can be accessed through Canvas:\n",
        "\n",
        "[Correlation Videos](https://ucsb.instructure.com/courses/25658/pages/jove-videos-on-correlation)"
      ],
      "metadata": {
        "id": "RkNhu62V5zjV"
      }
    },
    {
      "cell_type": "markdown",
      "source": [
        "# Something different for today's lecture\n",
        "\n",
        "I'm trying something different today based on:\n",
        "* Feedback that students would like to see more \"live coding\" instead of \"everything already done\" in the lecture notebooks.\n",
        "* Helping students to know how to get more out of the reading.\n",
        "\n",
        "So today, I'll be doing something I normally do *not* do, and that's to\n",
        "lecture straight from the textbook reading.  \n",
        "\n",
        "BUT: my intention is to show you how to interact with the textbook material in a Jupyter Notebook as you read.\n",
        "\n",
        "I'm going to do that in Google co-lab because it's quicker for you to get the edits; they come live, as opposed to Jupyter where I'd have to separately publish them after class, and then the versions get all messed up, etc.\n",
        "\n",
        "But I will try to download a \"snapshot\" of the notebook *after* lecture to JupyterHub.\n",
        "\n"
      ],
      "metadata": {
        "id": "7LJ87j_hsG5u"
      }
    },
    {
      "cell_type": "markdown",
      "source": [
        "# Chapter 11\n",
        "\n",
        "I'm skipping directly to [Chapter 11 (Testing Hypotheses, including p-values)](https://inferentialthinking.com/chapters/11/Testing_Hypotheses.html) because it is needed for your final project.\n",
        "\n",
        "If [Chapter 10 (Sampling and Empirical Distributions)](https://inferentialthinking.com/chapters/10/Sampling_and_Empirical_Distributions.html) material arises, we'll dive back in as needed."
      ],
      "metadata": {
        "id": "gITN1AamsxQu"
      }
    },
    {
      "cell_type": "code",
      "source": [
        ""
      ],
      "metadata": {
        "id": "tWOLxMHMID8e"
      },
      "execution_count": null,
      "outputs": []
    },
    {
      "cell_type": "markdown",
      "source": [
        "# Chapter 11 intro\n",
        "\n",
        "We'll be dealing with questions such as these:\n",
        "\n",
        "* Is chocolate good for you?\n",
        "* Did water from the Broad Street pump cause cholera?\n",
        "* Have the demographics in California changed over the past decade?\n",
        "\n",
        "And talking about how data can shed light on these questions.  \n",
        "\n",
        "We're focusing on the *data science* aspects. It's important to realize that *disciplinary expertise* is always needed to interpret data; but we can certainly do the number crunching to get ready to talk to the experts.\n"
      ],
      "metadata": {
        "id": "JePonmaptRLa"
      }
    },
    {
      "cell_type": "markdown",
      "source": [
        "# Chapter 11.1: Assessing a model [link](https://inferentialthinking.com/chapters/11/1/Assessing_a_Model.html)"
      ],
      "metadata": {
        "id": "8de0pkk_twAl"
      }
    },
    {
      "cell_type": "markdown",
      "source": [
        "We'll read through the section together.\n",
        "\n",
        "As we do, we'll copy the code cells from the chapter, and run them.\n",
        "\n",
        "*This is how I suggest you proceed as you read each section in the textbook*."
      ],
      "metadata": {
        "id": "vIdbNV8xt1OM"
      }
    },
    {
      "cell_type": "markdown",
      "source": [
        "Big picture:\n",
        "* \"...[A]n impartial jury is that it should be selected from a jury panel that is representative of the population of the relevant region.\"\n",
        "* \"... Robert Swain, a Black man [was] convicted in Talladega County, Alabama, in 1962. He appealed his indictment ... on the grounds that Black people were systematically excluded from juries in Talladega County. The Supreme Court denied his appeal and Robert Swain was later sentenced to life imprisonment.\"\n",
        "* But what do the data say?\n",
        "\n",
        "Relevant facts:\n",
        "\n",
        "* At the time of the trial, only men aged 21 or more were eligible to serve on juries in Talladega County.\n",
        "* Jury was chosen from panel of 100 men.\n",
        "* 8 of those jurors were white (i.e. 8%)\n",
        "* 26% of the men eligible to serve on juries were black\n",
        "\n",
        "The question:\n",
        "\n",
        "* If the jury process is unbiased and representative, you'd expect \"on average\" to have 26 black men on every jury panel of 100.\n",
        "* But it wouldn't be exactly 26; there' would be some variation due to random chance.\n",
        "\n",
        "But: how often would you get 8 out of 100 if the expected number is 26?, *and* if the process were fair and impartial?\n",
        "\n",
        "## Choice of a statistic:\n",
        "\n",
        "\"A natural statistic, then, is the number or count of Black panelists in the sample. Small values of the statistic will favor Robert Swain’s viewpoint.\"\n",
        "\n",
        "# The context\n",
        "\n",
        "There are important legal, philosophical, ethical and political questions that that arise from the quesiton and the answer.  Those are covered in other courses at UCSB; we'll focus only on the math, coding and data science aspects."
      ],
      "metadata": {
        "id": "H-MWLo8Ftv4g"
      }
    },
    {
      "cell_type": "markdown",
      "source": [
        "# Now... let's do some coding.\n",
        "\n",
        "TODO: Fill this in during lecture with code from this section of the textbook."
      ],
      "metadata": {
        "id": "WkdogQrZvucS"
      }
    },
    {
      "cell_type": "code",
      "source": [],
      "metadata": {
        "id": "3NCUHIqdtmuG"
      },
      "execution_count": null,
      "outputs": []
    },
    {
      "cell_type": "markdown",
      "source": [
        "# IF time: continue with [Section 11.2: Multiple Categories](https://inferentialthinking.com/chapters/11/2/Multiple_Categories.html)\n",
        "\n",
        "\n",
        "\"The focus of the study by the ACLU of Northern California was the racial and ethnic composition of jury panels in Alameda County. The ACLU compiled data on the composition of the jury panels in 11 felony trials in Alameda County in the years 2009 and 2010. \"\n",
        "\n",
        "Now, instead of just \"black\" and \"white\", we are looking at:\n",
        "\n",
        "```\n",
        "('Asian/PI', 'Black/AA', 'Caucasian', 'Hispanic', 'Other')\n",
        "```\n",
        "\n",
        "But it's the same basic question: are the juries selected in a way that is representative of the population, or is there inherent bias?\n",
        "\n",
        "Again: Note that there are important legal, philosophical, ethical and political questions that that arise from the quesiton and the answer.  Those are covered in other courses at UCSB; we'll focus only on the math, coding and data science aspects.\n"
      ],
      "metadata": {
        "id": "-2bAaBLxv2EE"
      }
    },
    {
      "cell_type": "code",
      "source": [],
      "metadata": {
        "id": "n4DWrcy-wJeC"
      },
      "execution_count": null,
      "outputs": []
    }
  ]
}