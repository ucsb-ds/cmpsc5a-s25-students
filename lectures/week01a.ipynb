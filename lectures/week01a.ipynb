{
 "cells": [
  {
   "cell_type": "markdown",
   "id": "57e2608f-b745-4e9a-9dcb-c82652473ebe",
   "metadata": {},
   "source": [
    "# Welcome to CMPSC 5A for Spring 2025\n",
    "\n",
    "One of the first things we need to do is make sure that your\n",
    "access to the Jupyter hub is working.\n",
    "\n",
    "You'll use this throughout the course to do almost everything,\n",
    "and it's where can follow along with the lectures.\n",
    "\n",
    "The link is on Canvas.  Please follow along with me as I demonstrate...\n",
    "\n",
    "(Here, the instructor will demonstrate logging in to Jupyter hub,\n",
    "and ask the students to do the same.)"
   ]
  },
  {
   "cell_type": "markdown",
   "id": "ec71f271-08e5-40de-a560-9e6a3a86aa30",
   "metadata": {},
   "source": [
    "# Turn off vim mode!\n",
    "\n",
    "Please go to the `Settings` menu in your Jupyter hub window,\n",
    "and find where it says `Enable Vim Mode`.  If there is a check mark\n",
    "beside it, that's what you DO NOT want.  Select the menu item, \n",
    "and make the check go away.\n",
    "\n"
   ]
  },
  {
   "cell_type": "markdown",
   "id": "2a496ab3-2ebe-4cf1-af12-fd9cc48cff18",
   "metadata": {},
   "source": [
    "# Python code can be embedded in a Notebook\n",
    "\n",
    "Here's an example.  This example shows assigning variables.   The *assignment statement* is one of the basic concepts of Python programming. \n",
    "\n",
    "Each assignment statement has a *variable name* e.g. `x`, `y`, or `z` on the left hand side, and an *expression* on the right hand side.  Expressions can take many forms, but some of the simplest ones are shown here: numbers, and variables that have already been assigned values.\n",
    "\n",
    "The line `print(z)` can be used to show the value of a particular variable.\n",
    "\n",
    "In a Jupyter notebook, you can have three kinds of cells: `Markdown`, `Code` and `Raw`.  We are only going to talk about Markdown and Code today.  \n",
    "* This is a `Markdown` cell; it has text in it formatted using a language called `Markdown`\n",
    "* The next cell is a `Code` cell; it contains Python code.\n",
    "\n",
    "You use `Control-Enter` to make a cell \"do something\" (format the text, or run the code).\n",
    "\n"
   ]
  },
  {
   "cell_type": "code",
   "execution_count": 1,
   "id": "d9eeb7bf-81f7-4efc-af96-118f892cb341",
   "metadata": {},
   "outputs": [
    {
     "name": "stdout",
     "output_type": "stream",
     "text": [
      "3\n"
     ]
    }
   ],
   "source": [
    "x = 1\n",
    "y = 2\n",
    "z = x + y\n",
    "print(z)"
   ]
  }
 ],
 "metadata": {
  "kernelspec": {
   "display_name": "Python 3 (ipykernel)",
   "language": "python",
   "name": "python3"
  },
  "language_info": {
   "codemirror_mode": {
    "name": "ipython",
    "version": 3
   },
   "file_extension": ".py",
   "mimetype": "text/x-python",
   "name": "python",
   "nbconvert_exporter": "python",
   "pygments_lexer": "ipython3",
   "version": "3.12.9"
  }
 },
 "nbformat": 4,
 "nbformat_minor": 5
}
