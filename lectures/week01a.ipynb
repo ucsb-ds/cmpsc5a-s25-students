{
 "cells": [
  {
   "cell_type": "markdown",
   "id": "57e2608f-b745-4e9a-9dcb-c82652473ebe",
   "metadata": {},
   "source": [
    "# Welcome to CMPSC 5A for Spring 2025\n",
    "\n",
    "One of the first things we need to do is make sure that your\n",
    "access to the Jupyter hub is working.\n",
    "\n",
    "You'll use this throughout the course to do almost everything,\n",
    "and it's where can follow along with the lectures.\n",
    "\n",
    "The link is on Canvas.  Please follow along with me as I demonstrate...\n",
    "\n",
    "(Here, the instructor will demonstrate logging in to Jupyter hub,\n",
    "and ask the students to do the same.)"
   ]
  },
  {
   "cell_type": "markdown",
   "id": "ec71f271-08e5-40de-a560-9e6a3a86aa30",
   "metadata": {},
   "source": [
    "# Turn off vim mode!\n",
    "\n",
    "Please go to the `Settings` menu in your Jupyter hub window,\n",
    "and find where it says `Enable Vim Mode`.  If there is a check mark\n",
    "beside it, that's what you DO NOT want.  Select the menu item, \n",
    "and make the check go away.\n",
    "\n"
   ]
  },
  {
   "cell_type": "code",
   "execution_count": null,
   "id": "d9eeb7bf-81f7-4efc-af96-118f892cb341",
   "metadata": {},
   "outputs": [],
   "source": []
  },
  {
   "cell_type": "code",
   "execution_count": null,
   "id": "c10d72d4-3042-455c-a759-d426008153d8",
   "metadata": {},
   "outputs": [],
   "source": []
  }
 ],
 "metadata": {
  "kernelspec": {
   "display_name": "Python 3 (ipykernel)",
   "language": "python",
   "name": "python3"
  },
  "language_info": {
   "codemirror_mode": {
    "name": "ipython",
    "version": 3
   },
   "file_extension": ".py",
   "mimetype": "text/x-python",
   "name": "python",
   "nbconvert_exporter": "python",
   "pygments_lexer": "ipython3",
   "version": "3.12.9"
  }
 },
 "nbformat": 4,
 "nbformat_minor": 5
}
