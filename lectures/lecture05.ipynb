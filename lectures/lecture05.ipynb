{
 "cells": [
  {
   "cell_type": "code",
   "execution_count": 9,
   "id": "c69335b4-90c3-42d1-a0dd-45dca880c5bb",
   "metadata": {
    "collapsed": true,
    "jupyter": {
     "outputs_hidden": true,
     "source_hidden": true
    }
   },
   "outputs": [
    {
     "name": "stdout",
     "output_type": "stream",
     "text": [
      "The jupyter_ai_magics extension is already loaded. To reload it, use:\n",
      "  %reload_ext jupyter_ai_magics\n"
     ]
    }
   ],
   "source": [
    "# Click into this cell and press shift-enter before using this notebook.\n",
    "# This line loads the ability to use %%ai in your file\n",
    "%load_ext jupyter_ai_magics\n",
    "# These lines import the Python modules we commonly use in CMPSC 5A\n",
    "from datascience import *\n",
    "import numpy as np\n",
    "%matplotlib inline\n",
    "import matplotlib.pyplot as plots"
   ]
  },
  {
   "cell_type": "markdown",
   "id": "a5307c6f-b955-4df2-b497-dce5867d6e4b",
   "metadata": {},
   "source": [
    "# Lecture 5, CMPSC 5A, S25\n",
    "\n",
    "04/15/2025, Week 3"
   ]
  },
  {
   "cell_type": "markdown",
   "id": "ece8615a-2e2e-4f99-8c07-f78e8e080b12",
   "metadata": {},
   "source": [
    "## Note to self: check in about font size"
   ]
  },
  {
   "cell_type": "markdown",
   "id": "843536a4-68c0-4265-a220-7382d62147cf",
   "metadata": {},
   "source": [
    "## Where are we in the reading?\n",
    "\n",
    "By today, you should have finished reading:\n",
    "* [Chapter 1: What is Data Science](https://inferentialthinking.com/chapters/01/what-is-data-science.html)\n",
    "* [Chapter 3: Programming in Python](https://inferentialthinking.com/chapters/03/programming-in-python.html)\n",
    "* [Chapter 4: Data Types](https://inferentialthinking.com/chapters/04/Data_Types.html)\n",
    "* [Chapter 5 (Sequences)](https://inferentialthinking.com/chapters/05/Sequences.html) \n",
    "* [Chapter 6 (Intro)](https://inferentialthinking.com/chapters/06/Tables.html)\n",
    "* [Section 6.1 (Sorting Rows)](https://inferentialthinking.com/chapters/06/1/Sorting_Rows.html#)\n",
    "* [Section 6.2 (Selecting Rows)](https://inferentialthinking.com/chapters/06/2/Selecting_Rows.html)"
   ]
  },
  {
   "cell_type": "markdown",
   "id": "2c46c096-9c2d-4ae5-b575-db214f351050",
   "metadata": {},
   "source": [
    "## Skipping ahead a bit: diving into Tables\n",
    "\n",
    "Last lecture I went through Chapter 3 from the text, and we covered:\n",
    "* Expresssions (and operators)\n",
    "* Names (variables)\n",
    "* Call Expressions (function calls)\n",
    "* Introduction to Tables\n",
    "\n",
    "We're going to skip past Chapters 4 and 5 for now and return to them as needed\n",
    "* We've covered some of that material in lecture already\n",
    "* And, I'm going to assume that you got the information you needed from the reading\n",
    "* The interesting *Data Science* stuff all involves working with Tables, so we're going to plow ahead into Chapter 6.\n",
    "\n",
    "We will circle back to all of those topics, but in the meantime, as/when you have questions about the material in Chapters 4 and 5, please:\n",
    "* Ask questions in lecture, section, office hours\n",
    "* Make Ed posts with your questions "
   ]
  },
  {
   "cell_type": "markdown",
   "id": "46711f38-b601-467b-a7c4-a051c9c2ac2c",
   "metadata": {},
   "source": [
    "## CSV Files\n",
    "\n",
    "Last time we started looking at CSV files.  Here's what a CSV file looks like \"under the hood\":\n",
    "\n"
   ]
  },
  {
   "cell_type": "code",
   "execution_count": 12,
   "id": "36df848b-b075-4bbb-970e-e115bb5fdcd8",
   "metadata": {},
   "outputs": [
    {
     "data": {
      "text/markdown": [
       "```csv\n",
       "Campus,Location,Undergrad Enrollment,Grad Enrollment,Total Enrollment,Year Founded,Latitude,Longitude\n",
       "UCLA,Los Angeles,31600,13100,44700,1919,34.0689,-118.4439\n",
       "UC Berkeley,Berkeley,30800,11700,42500,1868,37.8719,-122.2585\n",
       "UC San Diego,San Diego,30200,9700,39900,1960,32.8801,-117.2340\n",
       "UC Davis,Davis,30300,7500,37800,1905,38.5382,-121.7617\n",
       "UC Santa Barbara,Santa Barbara,22000,3600,25600,1944,34.4133,-119.8489\n",
       "UC Irvine,Irvine,29600,5800,35400,1965,33.6405,-117.8443\n",
       "UC Santa Cruz,Santa Cruz,17300,1800,19100,1965,36.9914,-122.0588\n",
       "UC Riverside,Riverside,23900,5400,29300,1954,33.9737,-117.3281\n",
       "UC Merced,Merced,7700,1100,8800,2005,37.3646,-120.4244\n",
       "```"
      ],
      "text/plain": [
       "<IPython.core.display.Markdown object>"
      ]
     },
     "execution_count": 12,
     "metadata": {
      "text/markdown": {
       "jupyter_ai": {
        "model_id": "gpt-3.5-turbo",
        "provider_id": "openai-chat"
       }
      }
     },
     "output_type": "execute_result"
    }
   ],
   "source": [
    "%%ai openai-chat:gpt-3.5-turbo\n",
    "Please produce a CSV file with data about the University of California campuses \n",
    "Please show it in raw form with these columns:\n",
    "Campus,Location,Undergrad Enrollment,Grad Enrollment,Total Enrollment,Year Founded,Latitude,Longitude"
   ]
  },
  {
   "cell_type": "markdown",
   "id": "6499da4c-b684-4e23-ab4b-b22efe02c8ea",
   "metadata": {},
   "source": [
    "We can copy paste these results into a cell and assign them to a variable:"
   ]
  },
  {
   "cell_type": "code",
   "execution_count": 48,
   "id": "2406eb7e-ab8b-46e7-aaa4-31ecc9dd4e6c",
   "metadata": {
    "collapsed": true,
    "jupyter": {
     "outputs_hidden": true
    }
   },
   "outputs": [],
   "source": [
    "uc_csv_data = \"\"\"\n",
    "Campus,Location,Undergrad Enrollment,Grad Enrollment,Total Enrollment,Year Founded,Latitude,Longitude\n",
    "UCLA,Los Angeles,31600,13100,44700,1919,34.0689,-118.4439\n",
    "UC Berkeley,Berkeley,30800,11700,42500,1868,37.8719,-122.2585\n",
    "UC San Diego,San Diego,30200,9700,39900,1960,32.8801,-117.2340\n",
    "UC Davis,Davis,30300,7500,37800,1905,38.5382,-121.7617\n",
    "UC Santa Barbara,Santa Barbara,22000,3600,25600,1944,34.4133,-119.8489\n",
    "UC Irvine,Irvine,29600,5800,35400,1965,33.6405,-117.8443\n",
    "UC Santa Cruz,Santa Cruz,17300,1800,19100,1965,36.9914,-122.0588\n",
    "UC Riverside,Riverside,23900,5400,29300,1954,33.9737,-117.3281\n",
    "UC Merced,Merced,7700,1100,8800,2005,37.3646,-120.4244\n",
    "\"\"\""
   ]
  },
  {
   "cell_type": "markdown",
   "id": "f3bbb6bc-cfe4-44b0-ab6c-7786d9044da7",
   "metadata": {},
   "source": [
    "We can then load those into a table like this:"
   ]
  },
  {
   "cell_type": "code",
   "execution_count": 14,
   "id": "bdc94127-c58b-495f-b40a-8991687654d9",
   "metadata": {
    "collapsed": true,
    "jupyter": {
     "outputs_hidden": true
    }
   },
   "outputs": [],
   "source": [
    "from io import StringIO\n",
    "ucTable = Table.read_table(StringIO(uc_csv_data))"
   ]
  },
  {
   "cell_type": "code",
   "execution_count": 15,
   "id": "c5287905-e644-4ce8-906f-592602bacee0",
   "metadata": {},
   "outputs": [
    {
     "data": {
      "text/html": [
       "<table border=\"1\" class=\"dataframe\">\n",
       "    <thead>\n",
       "        <tr>\n",
       "            <th>Campus</th> <th>Location</th> <th>Undergrad Enrollment</th> <th>Grad Enrollment</th> <th>Total Enrollment</th> <th>Year Founded</th> <th>Latitude</th> <th>Longitude</th>\n",
       "        </tr>\n",
       "    </thead>\n",
       "    <tbody>\n",
       "        <tr>\n",
       "            <td>UCLA            </td> <td>Los Angeles  </td> <td>31600               </td> <td>13100          </td> <td>44700           </td> <td>1919        </td> <td>34.0689 </td> <td>-118.444 </td>\n",
       "        </tr>\n",
       "        <tr>\n",
       "            <td>UC Berkeley     </td> <td>Berkeley     </td> <td>30800               </td> <td>11700          </td> <td>42500           </td> <td>1868        </td> <td>37.8719 </td> <td>-122.258 </td>\n",
       "        </tr>\n",
       "        <tr>\n",
       "            <td>UC San Diego    </td> <td>San Diego    </td> <td>30200               </td> <td>9700           </td> <td>39900           </td> <td>1960        </td> <td>32.8801 </td> <td>-117.234 </td>\n",
       "        </tr>\n",
       "        <tr>\n",
       "            <td>UC Davis        </td> <td>Davis        </td> <td>30300               </td> <td>7500           </td> <td>37800           </td> <td>1905        </td> <td>38.5382 </td> <td>-121.762 </td>\n",
       "        </tr>\n",
       "        <tr>\n",
       "            <td>UC Santa Barbara</td> <td>Santa Barbara</td> <td>22000               </td> <td>3600           </td> <td>25600           </td> <td>1944        </td> <td>34.4133 </td> <td>-119.849 </td>\n",
       "        </tr>\n",
       "        <tr>\n",
       "            <td>UC Irvine       </td> <td>Irvine       </td> <td>29600               </td> <td>5800           </td> <td>35400           </td> <td>1965        </td> <td>33.6405 </td> <td>-117.844 </td>\n",
       "        </tr>\n",
       "        <tr>\n",
       "            <td>UC Santa Cruz   </td> <td>Santa Cruz   </td> <td>17300               </td> <td>1800           </td> <td>19100           </td> <td>1965        </td> <td>36.9914 </td> <td>-122.059 </td>\n",
       "        </tr>\n",
       "        <tr>\n",
       "            <td>UC Riverside    </td> <td>Riverside    </td> <td>23900               </td> <td>5400           </td> <td>29300           </td> <td>1954        </td> <td>33.9737 </td> <td>-117.328 </td>\n",
       "        </tr>\n",
       "        <tr>\n",
       "            <td>UC Merced       </td> <td>Merced       </td> <td>7700                </td> <td>1100           </td> <td>8800            </td> <td>2005        </td> <td>37.3646 </td> <td>-120.424 </td>\n",
       "        </tr>\n",
       "    </tbody>\n",
       "</table>"
      ],
      "text/plain": [
       "Campus           | Location      | Undergrad Enrollment | Grad Enrollment | Total Enrollment | Year Founded | Latitude | Longitude\n",
       "UCLA             | Los Angeles   | 31600                | 13100           | 44700            | 1919         | 34.0689  | -118.444\n",
       "UC Berkeley      | Berkeley      | 30800                | 11700           | 42500            | 1868         | 37.8719  | -122.258\n",
       "UC San Diego     | San Diego     | 30200                | 9700            | 39900            | 1960         | 32.8801  | -117.234\n",
       "UC Davis         | Davis         | 30300                | 7500            | 37800            | 1905         | 38.5382  | -121.762\n",
       "UC Santa Barbara | Santa Barbara | 22000                | 3600            | 25600            | 1944         | 34.4133  | -119.849\n",
       "UC Irvine        | Irvine        | 29600                | 5800            | 35400            | 1965         | 33.6405  | -117.844\n",
       "UC Santa Cruz    | Santa Cruz    | 17300                | 1800            | 19100            | 1965         | 36.9914  | -122.059\n",
       "UC Riverside     | Riverside     | 23900                | 5400            | 29300            | 1954         | 33.9737  | -117.328\n",
       "UC Merced        | Merced        | 7700                 | 1100            | 8800             | 2005         | 37.3646  | -120.424"
      ]
     },
     "execution_count": 15,
     "metadata": {},
     "output_type": "execute_result"
    }
   ],
   "source": [
    "ucTable"
   ]
  },
  {
   "cell_type": "markdown",
   "id": "dc70d62c-3162-42b8-9b81-e9b18d21f530",
   "metadata": {},
   "source": [
    "Because this table has only nine rows, we see the entire table.  \n",
    "\n",
    "Recall that when a table has more than 10 rows, we don't see the entire table unless we use the `.show()` method on the table. \n",
    "\n",
    "### Side note: The staff asks that you avoid `.show()` unless you really need it\n",
    "\n",
    "But note: the staff have asked me to request that you avoid doing this unless you *really* need it; apparently, it causes the file size of your Jupyter Notebook to get really big (many more megabytes of storage on the disk), which makes it hard to download and grade.\n",
    "\n",
    "### Still show your tables though, just with the table name:\n",
    "\n",
    "You should still display your tables; the staff  do want to see the table for grading! \n",
    "\n",
    "But they typically only need the the first few rows, which typing the table name gives you, like this:"
   ]
  },
  {
   "cell_type": "code",
   "execution_count": 49,
   "id": "be3604e8-f7f5-4dec-a5a5-b0adce06e769",
   "metadata": {},
   "outputs": [
    {
     "data": {
      "text/html": [
       "<table border=\"1\" class=\"dataframe\">\n",
       "    <thead>\n",
       "        <tr>\n",
       "            <th>Campus</th> <th>Location</th> <th>Undergrad Enrollment</th> <th>Grad Enrollment</th> <th>Total Enrollment</th> <th>Year Founded</th> <th>Latitude</th> <th>Longitude</th>\n",
       "        </tr>\n",
       "    </thead>\n",
       "    <tbody>\n",
       "        <tr>\n",
       "            <td>UCLA            </td> <td>Los Angeles  </td> <td>31600               </td> <td>13100          </td> <td>44700           </td> <td>1919        </td> <td>34.0689 </td> <td>-118.444 </td>\n",
       "        </tr>\n",
       "        <tr>\n",
       "            <td>UC Berkeley     </td> <td>Berkeley     </td> <td>30800               </td> <td>11700          </td> <td>42500           </td> <td>1868        </td> <td>37.8719 </td> <td>-122.258 </td>\n",
       "        </tr>\n",
       "        <tr>\n",
       "            <td>UC San Diego    </td> <td>San Diego    </td> <td>30200               </td> <td>9700           </td> <td>39900           </td> <td>1960        </td> <td>32.8801 </td> <td>-117.234 </td>\n",
       "        </tr>\n",
       "        <tr>\n",
       "            <td>UC Davis        </td> <td>Davis        </td> <td>30300               </td> <td>7500           </td> <td>37800           </td> <td>1905        </td> <td>38.5382 </td> <td>-121.762 </td>\n",
       "        </tr>\n",
       "        <tr>\n",
       "            <td>UC Santa Barbara</td> <td>Santa Barbara</td> <td>22000               </td> <td>3600           </td> <td>25600           </td> <td>1944        </td> <td>34.4133 </td> <td>-119.849 </td>\n",
       "        </tr>\n",
       "        <tr>\n",
       "            <td>UC Irvine       </td> <td>Irvine       </td> <td>29600               </td> <td>5800           </td> <td>35400           </td> <td>1965        </td> <td>33.6405 </td> <td>-117.844 </td>\n",
       "        </tr>\n",
       "        <tr>\n",
       "            <td>UC Santa Cruz   </td> <td>Santa Cruz   </td> <td>17300               </td> <td>1800           </td> <td>19100           </td> <td>1965        </td> <td>36.9914 </td> <td>-122.059 </td>\n",
       "        </tr>\n",
       "        <tr>\n",
       "            <td>UC Riverside    </td> <td>Riverside    </td> <td>23900               </td> <td>5400           </td> <td>29300           </td> <td>1954        </td> <td>33.9737 </td> <td>-117.328 </td>\n",
       "        </tr>\n",
       "        <tr>\n",
       "            <td>UC Merced       </td> <td>Merced       </td> <td>7700                </td> <td>1100           </td> <td>8800            </td> <td>2005        </td> <td>37.3646 </td> <td>-120.424 </td>\n",
       "        </tr>\n",
       "    </tbody>\n",
       "</table>"
      ],
      "text/plain": [
       "Campus           | Location      | Undergrad Enrollment | Grad Enrollment | Total Enrollment | Year Founded | Latitude | Longitude\n",
       "UCLA             | Los Angeles   | 31600                | 13100           | 44700            | 1919         | 34.0689  | -118.444\n",
       "UC Berkeley      | Berkeley      | 30800                | 11700           | 42500            | 1868         | 37.8719  | -122.258\n",
       "UC San Diego     | San Diego     | 30200                | 9700            | 39900            | 1960         | 32.8801  | -117.234\n",
       "UC Davis         | Davis         | 30300                | 7500            | 37800            | 1905         | 38.5382  | -121.762\n",
       "UC Santa Barbara | Santa Barbara | 22000                | 3600            | 25600            | 1944         | 34.4133  | -119.849\n",
       "UC Irvine        | Irvine        | 29600                | 5800            | 35400            | 1965         | 33.6405  | -117.844\n",
       "UC Santa Cruz    | Santa Cruz    | 17300                | 1800            | 19100            | 1965         | 36.9914  | -122.059\n",
       "UC Riverside     | Riverside     | 23900                | 5400            | 29300            | 1954         | 33.9737  | -117.328\n",
       "UC Merced        | Merced        | 7700                 | 1100            | 8800             | 2005         | 37.3646  | -120.424"
      ]
     },
     "execution_count": 49,
     "metadata": {},
     "output_type": "execute_result"
    }
   ],
   "source": [
    "ucTable"
   ]
  },
  {
   "cell_type": "markdown",
   "id": "1650fe46-ee63-44da-8e4e-e59e0b2aaeba",
   "metadata": {},
   "source": [
    "## Some things we can do with a Table\n",
    "\n",
    "We've already seen that we can find the number of rows and columns:"
   ]
  },
  {
   "cell_type": "code",
   "execution_count": 16,
   "id": "18200016-be85-47c3-b098-a0658c029489",
   "metadata": {},
   "outputs": [
    {
     "data": {
      "text/plain": [
       "9"
      ]
     },
     "execution_count": 16,
     "metadata": {},
     "output_type": "execute_result"
    }
   ],
   "source": [
    "ucTable.num_rows"
   ]
  },
  {
   "cell_type": "code",
   "execution_count": 17,
   "id": "7fd378c9-a2dd-4614-8284-183f7568e1d7",
   "metadata": {},
   "outputs": [
    {
     "data": {
      "text/plain": [
       "8"
      ]
     },
     "execution_count": 17,
     "metadata": {},
     "output_type": "execute_result"
    }
   ],
   "source": [
    "ucTable.num_columns"
   ]
  },
  {
   "cell_type": "markdown",
   "id": "329af65e-0a50-43be-9bc8-8d26b7021d6d",
   "metadata": {},
   "source": [
    "We've seen that we can make a new table with just particular columns:"
   ]
  },
  {
   "cell_type": "code",
   "execution_count": 19,
   "id": "12dbf17b-b70a-4a97-a49b-6fe3f911fa3e",
   "metadata": {},
   "outputs": [
    {
     "data": {
      "text/html": [
       "<table border=\"1\" class=\"dataframe\">\n",
       "    <thead>\n",
       "        <tr>\n",
       "            <th>Campus</th> <th>Location</th> <th>Latitude</th> <th>Longitude</th>\n",
       "        </tr>\n",
       "    </thead>\n",
       "    <tbody>\n",
       "        <tr>\n",
       "            <td>UCLA            </td> <td>Los Angeles  </td> <td>34.0689 </td> <td>-118.444 </td>\n",
       "        </tr>\n",
       "        <tr>\n",
       "            <td>UC Berkeley     </td> <td>Berkeley     </td> <td>37.8719 </td> <td>-122.258 </td>\n",
       "        </tr>\n",
       "        <tr>\n",
       "            <td>UC San Diego    </td> <td>San Diego    </td> <td>32.8801 </td> <td>-117.234 </td>\n",
       "        </tr>\n",
       "        <tr>\n",
       "            <td>UC Davis        </td> <td>Davis        </td> <td>38.5382 </td> <td>-121.762 </td>\n",
       "        </tr>\n",
       "        <tr>\n",
       "            <td>UC Santa Barbara</td> <td>Santa Barbara</td> <td>34.4133 </td> <td>-119.849 </td>\n",
       "        </tr>\n",
       "        <tr>\n",
       "            <td>UC Irvine       </td> <td>Irvine       </td> <td>33.6405 </td> <td>-117.844 </td>\n",
       "        </tr>\n",
       "        <tr>\n",
       "            <td>UC Santa Cruz   </td> <td>Santa Cruz   </td> <td>36.9914 </td> <td>-122.059 </td>\n",
       "        </tr>\n",
       "        <tr>\n",
       "            <td>UC Riverside    </td> <td>Riverside    </td> <td>33.9737 </td> <td>-117.328 </td>\n",
       "        </tr>\n",
       "        <tr>\n",
       "            <td>UC Merced       </td> <td>Merced       </td> <td>37.3646 </td> <td>-120.424 </td>\n",
       "        </tr>\n",
       "    </tbody>\n",
       "</table>"
      ],
      "text/plain": [
       "Campus           | Location      | Latitude | Longitude\n",
       "UCLA             | Los Angeles   | 34.0689  | -118.444\n",
       "UC Berkeley      | Berkeley      | 37.8719  | -122.258\n",
       "UC San Diego     | San Diego     | 32.8801  | -117.234\n",
       "UC Davis         | Davis         | 38.5382  | -121.762\n",
       "UC Santa Barbara | Santa Barbara | 34.4133  | -119.849\n",
       "UC Irvine        | Irvine        | 33.6405  | -117.844\n",
       "UC Santa Cruz    | Santa Cruz    | 36.9914  | -122.059\n",
       "UC Riverside     | Riverside     | 33.9737  | -117.328\n",
       "UC Merced        | Merced        | 37.3646  | -120.424"
      ]
     },
     "execution_count": 19,
     "metadata": {},
     "output_type": "execute_result"
    }
   ],
   "source": [
    "ucLocations = ucTable.select(\"Campus\", \"Location\",\"Latitude\", \"Longitude\")\n",
    "ucLocations"
   ]
  },
  {
   "cell_type": "markdown",
   "id": "262599eb-468e-45db-8553-fa631643f685",
   "metadata": {},
   "source": [
    "## Chapter 6 Intro\n",
    "\n",
    "\n",
    "In your text, the \n",
    "[Chapter 6 Introduction](https://inferentialthinking.com/chapters/06/Tables.html)\n",
    "explains a bit more about Tables than what we learned in \n",
    "[Section 3.4: Introduction to Tables](https://inferentialthinking.com/chapters/03/4/Introduction_to_Tables.html).\n",
    "\n",
    "We've already covered a few of these things.  Here are the topics from the intro to Chapter 6 that we've already covered.\n"
   ]
  },
  {
   "cell_type": "markdown",
   "id": "c34fdd72-8aa8-44bc-8d64-282098779e0d",
   "metadata": {},
   "source": [
    "| Code | Explanation |\n",
    "|-|-|\n",
    "| `table = Table()` | Create an empty table |\n",
    "| `table.with_columns(title, data)` | Table with a column with name `title` and the column filled with the sequence (array, list, etc.) from `data` |\n",
    "| `table.with_columns(title1, data1, title2, data2 ... titleN, dataN)` | Table with multiple columns \n",
    "| `Table().read_table(filename)` | Create a table from the CSV file in `filename` |\n",
    "| `table.num_columns` | Number of columns | \n",
    "| `table.num_rows` | Number of rows | \n",
    "| `table.labels` | The labels on the columns (i.e. column names, column titles) |\n",
    "| `table.relabelled(old_name, new_name)` | Create a new table with the name change indicated |\n"
   ]
  },
  {
   "cell_type": "markdown",
   "id": "6babd5d8-ff2a-42de-b93a-fa150d82483f",
   "metadata": {},
   "source": [
    "Here are some new things in the intro to Chapter 6 that we haven't covered yet:"
   ]
  },
  {
   "cell_type": "markdown",
   "id": "cf8022ba-b7d7-470d-9995-a96889197d55",
   "metadata": {},
   "source": [
    "| Code | Explanation |\n",
    "|-|-|\n",
    "| `table.labels` | The labels on the columns (i.e. column names, column titles) |\n",
    "| `table.relabelled(old_name, new_name)` | Create a new table with the name change indicated |\n",
    "| `table.column(column_name)` | If `column_name` is a string, return data from the column with that name as an array, not as a table |\n",
    "| `table.column(column_num)` | If `column_num` is an integer, return data from that column (columns numbered 0, 1, 2 ... etc. |\n",
    "| `table.column(column_num).item(row_num)` | Return data item from column and row |"
   ]
  },
  {
   "cell_type": "markdown",
   "id": "329597ec-964c-4480-9c61-5be4a8d6102c",
   "metadata": {},
   "source": [
    "Let's explore some of these on our `ucTable`.  Here's a reminder of what's in our `ucTable`:"
   ]
  },
  {
   "cell_type": "code",
   "execution_count": 22,
   "id": "64f6f6c9-0524-4afe-bad4-3583cf57ecb6",
   "metadata": {},
   "outputs": [
    {
     "data": {
      "text/html": [
       "<table border=\"1\" class=\"dataframe\">\n",
       "    <thead>\n",
       "        <tr>\n",
       "            <th>Campus</th> <th>Location</th> <th>Undergrad Enrollment</th> <th>Grad Enrollment</th> <th>Total Enrollment</th> <th>Year Founded</th> <th>Latitude</th> <th>Longitude</th>\n",
       "        </tr>\n",
       "    </thead>\n",
       "    <tbody>\n",
       "        <tr>\n",
       "            <td>UCLA            </td> <td>Los Angeles  </td> <td>31600               </td> <td>13100          </td> <td>44700           </td> <td>1919        </td> <td>34.0689 </td> <td>-118.444 </td>\n",
       "        </tr>\n",
       "        <tr>\n",
       "            <td>UC Berkeley     </td> <td>Berkeley     </td> <td>30800               </td> <td>11700          </td> <td>42500           </td> <td>1868        </td> <td>37.8719 </td> <td>-122.258 </td>\n",
       "        </tr>\n",
       "        <tr>\n",
       "            <td>UC San Diego    </td> <td>San Diego    </td> <td>30200               </td> <td>9700           </td> <td>39900           </td> <td>1960        </td> <td>32.8801 </td> <td>-117.234 </td>\n",
       "        </tr>\n",
       "        <tr>\n",
       "            <td>UC Davis        </td> <td>Davis        </td> <td>30300               </td> <td>7500           </td> <td>37800           </td> <td>1905        </td> <td>38.5382 </td> <td>-121.762 </td>\n",
       "        </tr>\n",
       "        <tr>\n",
       "            <td>UC Santa Barbara</td> <td>Santa Barbara</td> <td>22000               </td> <td>3600           </td> <td>25600           </td> <td>1944        </td> <td>34.4133 </td> <td>-119.849 </td>\n",
       "        </tr>\n",
       "        <tr>\n",
       "            <td>UC Irvine       </td> <td>Irvine       </td> <td>29600               </td> <td>5800           </td> <td>35400           </td> <td>1965        </td> <td>33.6405 </td> <td>-117.844 </td>\n",
       "        </tr>\n",
       "        <tr>\n",
       "            <td>UC Santa Cruz   </td> <td>Santa Cruz   </td> <td>17300               </td> <td>1800           </td> <td>19100           </td> <td>1965        </td> <td>36.9914 </td> <td>-122.059 </td>\n",
       "        </tr>\n",
       "        <tr>\n",
       "            <td>UC Riverside    </td> <td>Riverside    </td> <td>23900               </td> <td>5400           </td> <td>29300           </td> <td>1954        </td> <td>33.9737 </td> <td>-117.328 </td>\n",
       "        </tr>\n",
       "        <tr>\n",
       "            <td>UC Merced       </td> <td>Merced       </td> <td>7700                </td> <td>1100           </td> <td>8800            </td> <td>2005        </td> <td>37.3646 </td> <td>-120.424 </td>\n",
       "        </tr>\n",
       "    </tbody>\n",
       "</table>"
      ],
      "text/plain": [
       "Campus           | Location      | Undergrad Enrollment | Grad Enrollment | Total Enrollment | Year Founded | Latitude | Longitude\n",
       "UCLA             | Los Angeles   | 31600                | 13100           | 44700            | 1919         | 34.0689  | -118.444\n",
       "UC Berkeley      | Berkeley      | 30800                | 11700           | 42500            | 1868         | 37.8719  | -122.258\n",
       "UC San Diego     | San Diego     | 30200                | 9700            | 39900            | 1960         | 32.8801  | -117.234\n",
       "UC Davis         | Davis         | 30300                | 7500            | 37800            | 1905         | 38.5382  | -121.762\n",
       "UC Santa Barbara | Santa Barbara | 22000                | 3600            | 25600            | 1944         | 34.4133  | -119.849\n",
       "UC Irvine        | Irvine        | 29600                | 5800            | 35400            | 1965         | 33.6405  | -117.844\n",
       "UC Santa Cruz    | Santa Cruz    | 17300                | 1800            | 19100            | 1965         | 36.9914  | -122.059\n",
       "UC Riverside     | Riverside     | 23900                | 5400            | 29300            | 1954         | 33.9737  | -117.328\n",
       "UC Merced        | Merced        | 7700                 | 1100            | 8800             | 2005         | 37.3646  | -120.424"
      ]
     },
     "execution_count": 22,
     "metadata": {},
     "output_type": "execute_result"
    }
   ],
   "source": [
    "ucTable"
   ]
  },
  {
   "cell_type": "markdown",
   "id": "f58cb8aa-d9c5-4614-b756-8087ed37443e",
   "metadata": {},
   "source": [
    "### `.labels`\n",
    "\n",
    "The `.labels` method returns a *tuple* of strings of that consists of all of the column labels for a table.\n",
    "\n",
    "A `tuple` in Python is a data type similar to a list; we can use slices on it just like a list.  The differences between lists and tuples that we care about are these:\n",
    "* A `list` uses square brackets like this: `['Thing Zero', 'Thing One', 'Thing Two']`\n",
    "* A `tuple` uses parentheses like this: `('Thing Zero', 'Thing One', 'Thing Two')`\n",
    "* We can change a list (it is *mutable*) by adding things to it or removing things.\n",
    "* We cannot change a tuple (it is *immutable*); it's value never changes."
   ]
  },
  {
   "cell_type": "code",
   "execution_count": 23,
   "id": "0f7b73ad-4e11-4ef4-8a94-53b9dc30ef16",
   "metadata": {},
   "outputs": [
    {
     "data": {
      "text/plain": [
       "('Campus',\n",
       " 'Location',\n",
       " 'Undergrad Enrollment',\n",
       " 'Grad Enrollment',\n",
       " 'Total Enrollment',\n",
       " 'Year Founded',\n",
       " 'Latitude',\n",
       " 'Longitude')"
      ]
     },
     "execution_count": 23,
     "metadata": {},
     "output_type": "execute_result"
    }
   ],
   "source": [
    "ucTable.labels"
   ]
  },
  {
   "cell_type": "code",
   "execution_count": 29,
   "id": "dcede5bd-76ed-4481-96b4-ad4e6c3fd9bb",
   "metadata": {},
   "outputs": [
    {
     "data": {
      "text/plain": [
       "tuple"
      ]
     },
     "execution_count": 29,
     "metadata": {},
     "output_type": "execute_result"
    }
   ],
   "source": [
    "type(ucTable.labels)"
   ]
  },
  {
   "cell_type": "code",
   "execution_count": 24,
   "id": "442ce64b-eb80-4868-ab7c-447b21013369",
   "metadata": {},
   "outputs": [
    {
     "data": {
      "text/plain": [
       "'Campus'"
      ]
     },
     "execution_count": 24,
     "metadata": {},
     "output_type": "execute_result"
    }
   ],
   "source": [
    "ucTable.labels[0]"
   ]
  },
  {
   "cell_type": "code",
   "execution_count": 25,
   "id": "c885c8ef-7add-4292-8417-1bea93baa06c",
   "metadata": {},
   "outputs": [
    {
     "data": {
      "text/plain": [
       "'Year Founded'"
      ]
     },
     "execution_count": 25,
     "metadata": {},
     "output_type": "execute_result"
    }
   ],
   "source": [
    "ucTable.labels[5]"
   ]
  },
  {
   "cell_type": "code",
   "execution_count": 26,
   "id": "1de6cec9-562a-4a30-9fce-e726a531e528",
   "metadata": {},
   "outputs": [
    {
     "data": {
      "text/plain": [
       "8"
      ]
     },
     "execution_count": 26,
     "metadata": {},
     "output_type": "execute_result"
    }
   ],
   "source": [
    "len(ucTable.labels)"
   ]
  },
  {
   "cell_type": "markdown",
   "id": "968b1564-5df3-4e0d-8980-b5a2f6cc1591",
   "metadata": {},
   "source": [
    "Note that `len(ucTable.labels)` and `ucTable.num_columns` are the same; that should be true for any table:"
   ]
  },
  {
   "cell_type": "code",
   "execution_count": 27,
   "id": "b4490932-9212-4444-ba63-27e775d16e35",
   "metadata": {},
   "outputs": [
    {
     "data": {
      "text/plain": [
       "8"
      ]
     },
     "execution_count": 27,
     "metadata": {},
     "output_type": "execute_result"
    }
   ],
   "source": [
    "ucTable.num_columns"
   ]
  },
  {
   "cell_type": "markdown",
   "id": "73bc62b3-fc73-4234-852d-1b181f76db75",
   "metadata": {},
   "source": [
    "### `table.relabelled(old_name, new_name)` \n",
    "\n",
    "We can relabel a column if we don't care for the names we were given. For example, consider our ucTable:"
   ]
  },
  {
   "cell_type": "code",
   "execution_count": 30,
   "id": "7df75b7a-c044-4275-b761-c3bef9885710",
   "metadata": {},
   "outputs": [
    {
     "data": {
      "text/html": [
       "<table border=\"1\" class=\"dataframe\">\n",
       "    <thead>\n",
       "        <tr>\n",
       "            <th>Campus</th> <th>Location</th> <th>Undergrad Enrollment</th> <th>Grad Enrollment</th> <th>Total Enrollment</th> <th>Year Founded</th> <th>Latitude</th> <th>Longitude</th>\n",
       "        </tr>\n",
       "    </thead>\n",
       "    <tbody>\n",
       "        <tr>\n",
       "            <td>UCLA            </td> <td>Los Angeles  </td> <td>31600               </td> <td>13100          </td> <td>44700           </td> <td>1919        </td> <td>34.0689 </td> <td>-118.444 </td>\n",
       "        </tr>\n",
       "        <tr>\n",
       "            <td>UC Berkeley     </td> <td>Berkeley     </td> <td>30800               </td> <td>11700          </td> <td>42500           </td> <td>1868        </td> <td>37.8719 </td> <td>-122.258 </td>\n",
       "        </tr>\n",
       "        <tr>\n",
       "            <td>UC San Diego    </td> <td>San Diego    </td> <td>30200               </td> <td>9700           </td> <td>39900           </td> <td>1960        </td> <td>32.8801 </td> <td>-117.234 </td>\n",
       "        </tr>\n",
       "        <tr>\n",
       "            <td>UC Davis        </td> <td>Davis        </td> <td>30300               </td> <td>7500           </td> <td>37800           </td> <td>1905        </td> <td>38.5382 </td> <td>-121.762 </td>\n",
       "        </tr>\n",
       "        <tr>\n",
       "            <td>UC Santa Barbara</td> <td>Santa Barbara</td> <td>22000               </td> <td>3600           </td> <td>25600           </td> <td>1944        </td> <td>34.4133 </td> <td>-119.849 </td>\n",
       "        </tr>\n",
       "        <tr>\n",
       "            <td>UC Irvine       </td> <td>Irvine       </td> <td>29600               </td> <td>5800           </td> <td>35400           </td> <td>1965        </td> <td>33.6405 </td> <td>-117.844 </td>\n",
       "        </tr>\n",
       "        <tr>\n",
       "            <td>UC Santa Cruz   </td> <td>Santa Cruz   </td> <td>17300               </td> <td>1800           </td> <td>19100           </td> <td>1965        </td> <td>36.9914 </td> <td>-122.059 </td>\n",
       "        </tr>\n",
       "        <tr>\n",
       "            <td>UC Riverside    </td> <td>Riverside    </td> <td>23900               </td> <td>5400           </td> <td>29300           </td> <td>1954        </td> <td>33.9737 </td> <td>-117.328 </td>\n",
       "        </tr>\n",
       "        <tr>\n",
       "            <td>UC Merced       </td> <td>Merced       </td> <td>7700                </td> <td>1100           </td> <td>8800            </td> <td>2005        </td> <td>37.3646 </td> <td>-120.424 </td>\n",
       "        </tr>\n",
       "    </tbody>\n",
       "</table>"
      ],
      "text/plain": [
       "Campus           | Location      | Undergrad Enrollment | Grad Enrollment | Total Enrollment | Year Founded | Latitude | Longitude\n",
       "UCLA             | Los Angeles   | 31600                | 13100           | 44700            | 1919         | 34.0689  | -118.444\n",
       "UC Berkeley      | Berkeley      | 30800                | 11700           | 42500            | 1868         | 37.8719  | -122.258\n",
       "UC San Diego     | San Diego     | 30200                | 9700            | 39900            | 1960         | 32.8801  | -117.234\n",
       "UC Davis         | Davis         | 30300                | 7500            | 37800            | 1905         | 38.5382  | -121.762\n",
       "UC Santa Barbara | Santa Barbara | 22000                | 3600            | 25600            | 1944         | 34.4133  | -119.849\n",
       "UC Irvine        | Irvine        | 29600                | 5800            | 35400            | 1965         | 33.6405  | -117.844\n",
       "UC Santa Cruz    | Santa Cruz    | 17300                | 1800            | 19100            | 1965         | 36.9914  | -122.059\n",
       "UC Riverside     | Riverside     | 23900                | 5400            | 29300            | 1954         | 33.9737  | -117.328\n",
       "UC Merced        | Merced        | 7700                 | 1100            | 8800             | 2005         | 37.3646  | -120.424"
      ]
     },
     "execution_count": 30,
     "metadata": {},
     "output_type": "execute_result"
    }
   ],
   "source": [
    "ucTable"
   ]
  },
  {
   "cell_type": "markdown",
   "id": "3b3a510c-af30-4c7a-b190-90fe3b3606bf",
   "metadata": {},
   "source": [
    "We can make a new table by selecting out just the Campus, Latitude and Longitude:"
   ]
  },
  {
   "cell_type": "code",
   "execution_count": 31,
   "id": "9839d561-eb1d-4d92-92d8-1bb89e04c167",
   "metadata": {},
   "outputs": [],
   "source": [
    "ucLocations = ucTable.select(\"Campus\",\"Latitude\",\"Longitude\")"
   ]
  },
  {
   "cell_type": "code",
   "execution_count": 32,
   "id": "072e5068-e214-4503-b9bb-8b2f4c488392",
   "metadata": {},
   "outputs": [
    {
     "data": {
      "text/html": [
       "<table border=\"1\" class=\"dataframe\">\n",
       "    <thead>\n",
       "        <tr>\n",
       "            <th>Campus</th> <th>Latitude</th> <th>Longitude</th>\n",
       "        </tr>\n",
       "    </thead>\n",
       "    <tbody>\n",
       "        <tr>\n",
       "            <td>UCLA            </td> <td>34.0689 </td> <td>-118.444 </td>\n",
       "        </tr>\n",
       "        <tr>\n",
       "            <td>UC Berkeley     </td> <td>37.8719 </td> <td>-122.258 </td>\n",
       "        </tr>\n",
       "        <tr>\n",
       "            <td>UC San Diego    </td> <td>32.8801 </td> <td>-117.234 </td>\n",
       "        </tr>\n",
       "        <tr>\n",
       "            <td>UC Davis        </td> <td>38.5382 </td> <td>-121.762 </td>\n",
       "        </tr>\n",
       "        <tr>\n",
       "            <td>UC Santa Barbara</td> <td>34.4133 </td> <td>-119.849 </td>\n",
       "        </tr>\n",
       "        <tr>\n",
       "            <td>UC Irvine       </td> <td>33.6405 </td> <td>-117.844 </td>\n",
       "        </tr>\n",
       "        <tr>\n",
       "            <td>UC Santa Cruz   </td> <td>36.9914 </td> <td>-122.059 </td>\n",
       "        </tr>\n",
       "        <tr>\n",
       "            <td>UC Riverside    </td> <td>33.9737 </td> <td>-117.328 </td>\n",
       "        </tr>\n",
       "        <tr>\n",
       "            <td>UC Merced       </td> <td>37.3646 </td> <td>-120.424 </td>\n",
       "        </tr>\n",
       "    </tbody>\n",
       "</table>"
      ],
      "text/plain": [
       "Campus           | Latitude | Longitude\n",
       "UCLA             | 34.0689  | -118.444\n",
       "UC Berkeley      | 37.8719  | -122.258\n",
       "UC San Diego     | 32.8801  | -117.234\n",
       "UC Davis         | 38.5382  | -121.762\n",
       "UC Santa Barbara | 34.4133  | -119.849\n",
       "UC Irvine        | 33.6405  | -117.844\n",
       "UC Santa Cruz    | 36.9914  | -122.059\n",
       "UC Riverside     | 33.9737  | -117.328\n",
       "UC Merced        | 37.3646  | -120.424"
      ]
     },
     "execution_count": 32,
     "metadata": {},
     "output_type": "execute_result"
    }
   ],
   "source": [
    "ucLocations"
   ]
  },
  {
   "cell_type": "markdown",
   "id": "cc709579-f47a-4ff7-8ed6-5c96b2185a96",
   "metadata": {},
   "source": [
    "And then, we can rename the columns to make it easier to work with:"
   ]
  },
  {
   "cell_type": "code",
   "execution_count": 38,
   "id": "3f850024-7f2b-462f-a607-3d0c31116fb2",
   "metadata": {},
   "outputs": [],
   "source": [
    "ucLocationsNew = ucLocations.relabeled(\"Campus\",\"name\")"
   ]
  },
  {
   "cell_type": "code",
   "execution_count": 39,
   "id": "c862c13f-e277-43ce-9de5-2af0c7cd7d53",
   "metadata": {},
   "outputs": [
    {
     "data": {
      "text/html": [
       "<table border=\"1\" class=\"dataframe\">\n",
       "    <thead>\n",
       "        <tr>\n",
       "            <th>name</th> <th>Latitude</th> <th>Longitude</th>\n",
       "        </tr>\n",
       "    </thead>\n",
       "    <tbody>\n",
       "        <tr>\n",
       "            <td>UCLA            </td> <td>34.0689 </td> <td>-118.444 </td>\n",
       "        </tr>\n",
       "        <tr>\n",
       "            <td>UC Berkeley     </td> <td>37.8719 </td> <td>-122.258 </td>\n",
       "        </tr>\n",
       "        <tr>\n",
       "            <td>UC San Diego    </td> <td>32.8801 </td> <td>-117.234 </td>\n",
       "        </tr>\n",
       "        <tr>\n",
       "            <td>UC Davis        </td> <td>38.5382 </td> <td>-121.762 </td>\n",
       "        </tr>\n",
       "        <tr>\n",
       "            <td>UC Santa Barbara</td> <td>34.4133 </td> <td>-119.849 </td>\n",
       "        </tr>\n",
       "        <tr>\n",
       "            <td>UC Irvine       </td> <td>33.6405 </td> <td>-117.844 </td>\n",
       "        </tr>\n",
       "        <tr>\n",
       "            <td>UC Santa Cruz   </td> <td>36.9914 </td> <td>-122.059 </td>\n",
       "        </tr>\n",
       "        <tr>\n",
       "            <td>UC Riverside    </td> <td>33.9737 </td> <td>-117.328 </td>\n",
       "        </tr>\n",
       "        <tr>\n",
       "            <td>UC Merced       </td> <td>37.3646 </td> <td>-120.424 </td>\n",
       "        </tr>\n",
       "    </tbody>\n",
       "</table>"
      ],
      "text/plain": [
       "name             | Latitude | Longitude\n",
       "UCLA             | 34.0689  | -118.444\n",
       "UC Berkeley      | 37.8719  | -122.258\n",
       "UC San Diego     | 32.8801  | -117.234\n",
       "UC Davis         | 38.5382  | -121.762\n",
       "UC Santa Barbara | 34.4133  | -119.849\n",
       "UC Irvine        | 33.6405  | -117.844\n",
       "UC Santa Cruz    | 36.9914  | -122.059\n",
       "UC Riverside     | 33.9737  | -117.328\n",
       "UC Merced        | 37.3646  | -120.424"
      ]
     },
     "execution_count": 39,
     "metadata": {},
     "output_type": "execute_result"
    }
   ],
   "source": [
    "ucLocationsNew"
   ]
  },
  {
   "cell_type": "markdown",
   "id": "9e3e151e-cefa-4261-9e5e-1ee85dbd7124",
   "metadata": {},
   "source": [
    "We can also *chain* these methods to do multiple renamings:"
   ]
  },
  {
   "cell_type": "code",
   "execution_count": 41,
   "id": "455acc53-f7e1-40fd-900b-1fa8e57abccb",
   "metadata": {
    "collapsed": true,
    "jupyter": {
     "outputs_hidden": true,
     "source_hidden": true
    }
   },
   "outputs": [],
   "source": [
    "ucLocationsNew = ucLocations.relabeled(\"Campus\",\"name\").relabeled(\"Latitude\",\"lat\").relabeled(\"Longitude\",\"long\")"
   ]
  },
  {
   "cell_type": "code",
   "execution_count": 42,
   "id": "2f6f0e59-3840-4efe-bd27-406ced74b444",
   "metadata": {},
   "outputs": [
    {
     "data": {
      "text/html": [
       "<table border=\"1\" class=\"dataframe\">\n",
       "    <thead>\n",
       "        <tr>\n",
       "            <th>name</th> <th>lat</th> <th>long</th>\n",
       "        </tr>\n",
       "    </thead>\n",
       "    <tbody>\n",
       "        <tr>\n",
       "            <td>UCLA            </td> <td>34.0689</td> <td>-118.444</td>\n",
       "        </tr>\n",
       "        <tr>\n",
       "            <td>UC Berkeley     </td> <td>37.8719</td> <td>-122.258</td>\n",
       "        </tr>\n",
       "        <tr>\n",
       "            <td>UC San Diego    </td> <td>32.8801</td> <td>-117.234</td>\n",
       "        </tr>\n",
       "        <tr>\n",
       "            <td>UC Davis        </td> <td>38.5382</td> <td>-121.762</td>\n",
       "        </tr>\n",
       "        <tr>\n",
       "            <td>UC Santa Barbara</td> <td>34.4133</td> <td>-119.849</td>\n",
       "        </tr>\n",
       "        <tr>\n",
       "            <td>UC Irvine       </td> <td>33.6405</td> <td>-117.844</td>\n",
       "        </tr>\n",
       "        <tr>\n",
       "            <td>UC Santa Cruz   </td> <td>36.9914</td> <td>-122.059</td>\n",
       "        </tr>\n",
       "        <tr>\n",
       "            <td>UC Riverside    </td> <td>33.9737</td> <td>-117.328</td>\n",
       "        </tr>\n",
       "        <tr>\n",
       "            <td>UC Merced       </td> <td>37.3646</td> <td>-120.424</td>\n",
       "        </tr>\n",
       "    </tbody>\n",
       "</table>"
      ],
      "text/plain": [
       "name             | lat     | long\n",
       "UCLA             | 34.0689 | -118.444\n",
       "UC Berkeley      | 37.8719 | -122.258\n",
       "UC San Diego     | 32.8801 | -117.234\n",
       "UC Davis         | 38.5382 | -121.762\n",
       "UC Santa Barbara | 34.4133 | -119.849\n",
       "UC Irvine        | 33.6405 | -117.844\n",
       "UC Santa Cruz    | 36.9914 | -122.059\n",
       "UC Riverside     | 33.9737 | -117.328\n",
       "UC Merced        | 37.3646 | -120.424"
      ]
     },
     "execution_count": 42,
     "metadata": {},
     "output_type": "execute_result"
    }
   ],
   "source": [
    "ucLocationsNew"
   ]
  },
  {
   "cell_type": "markdown",
   "id": "4f019704-a984-4565-9313-8bffd74ad6f0",
   "metadata": {},
   "source": [
    "## Line continuation in Python\n",
    "\n",
    "If we don't like the way that looks in the code (really long), we can format the code like this, using a backslash `\\` at the end of each line (except the last one) to say \"there' more to come!\""
   ]
  },
  {
   "cell_type": "code",
   "execution_count": 47,
   "id": "7767b49d-aa0f-45a0-b94d-c4ff477e0429",
   "metadata": {},
   "outputs": [
    {
     "data": {
      "text/html": [
       "<table border=\"1\" class=\"dataframe\">\n",
       "    <thead>\n",
       "        <tr>\n",
       "            <th>name</th> <th>lat</th> <th>long</th>\n",
       "        </tr>\n",
       "    </thead>\n",
       "    <tbody>\n",
       "        <tr>\n",
       "            <td>UCLA            </td> <td>34.0689</td> <td>-118.444</td>\n",
       "        </tr>\n",
       "        <tr>\n",
       "            <td>UC Berkeley     </td> <td>37.8719</td> <td>-122.258</td>\n",
       "        </tr>\n",
       "        <tr>\n",
       "            <td>UC San Diego    </td> <td>32.8801</td> <td>-117.234</td>\n",
       "        </tr>\n",
       "        <tr>\n",
       "            <td>UC Davis        </td> <td>38.5382</td> <td>-121.762</td>\n",
       "        </tr>\n",
       "        <tr>\n",
       "            <td>UC Santa Barbara</td> <td>34.4133</td> <td>-119.849</td>\n",
       "        </tr>\n",
       "        <tr>\n",
       "            <td>UC Irvine       </td> <td>33.6405</td> <td>-117.844</td>\n",
       "        </tr>\n",
       "        <tr>\n",
       "            <td>UC Santa Cruz   </td> <td>36.9914</td> <td>-122.059</td>\n",
       "        </tr>\n",
       "        <tr>\n",
       "            <td>UC Riverside    </td> <td>33.9737</td> <td>-117.328</td>\n",
       "        </tr>\n",
       "        <tr>\n",
       "            <td>UC Merced       </td> <td>37.3646</td> <td>-120.424</td>\n",
       "        </tr>\n",
       "    </tbody>\n",
       "</table>"
      ],
      "text/plain": [
       "name             | lat     | long\n",
       "UCLA             | 34.0689 | -118.444\n",
       "UC Berkeley      | 37.8719 | -122.258\n",
       "UC San Diego     | 32.8801 | -117.234\n",
       "UC Davis         | 38.5382 | -121.762\n",
       "UC Santa Barbara | 34.4133 | -119.849\n",
       "UC Irvine        | 33.6405 | -117.844\n",
       "UC Santa Cruz    | 36.9914 | -122.059\n",
       "UC Riverside     | 33.9737 | -117.328\n",
       "UC Merced        | 37.3646 | -120.424"
      ]
     },
     "execution_count": 47,
     "metadata": {},
     "output_type": "execute_result"
    }
   ],
   "source": [
    "ucLocationsNew = ucLocations \\\n",
    "  .relabeled(\"Campus\",\"name\") \\\n",
    "  .relabeled(\"Latitude\",\"lat\") \\\n",
    "  .relabeled(\"Longitude\",\"long\")\n",
    "ucLocationsNew"
   ]
  },
  {
   "cell_type": "markdown",
   "id": "33412230-a2b3-4de8-9e30-c6a0bafe3c78",
   "metadata": {},
   "source": [
    "But note!  When you do this, the `\\` (backslash) has to be the *last character on the line*.  If there is even so much as a space after it, it won't work."
   ]
  },
  {
   "cell_type": "code",
   "execution_count": 46,
   "id": "6a4d3e40-7d1f-4347-8055-921c272aad53",
   "metadata": {},
   "outputs": [
    {
     "ename": "SyntaxError",
     "evalue": "unexpected character after line continuation character (3027024247.py, line 1)",
     "output_type": "error",
     "traceback": [
      "  \u001b[36mCell\u001b[39m\u001b[36m \u001b[39m\u001b[32mIn[46]\u001b[39m\u001b[32m, line 1\u001b[39m\n\u001b[31m    \u001b[39m\u001b[31mucLocationsNew = ucLocations \\\u001b[39m\n                                  ^\n\u001b[31mSyntaxError\u001b[39m\u001b[31m:\u001b[39m unexpected character after line continuation character\n"
     ]
    }
   ],
   "source": [
    "ucLocationsNew = ucLocations \\ \n",
    "  .relabeled(\"Campus\",\"name\") \\\n",
    "  .relabeled(\"Latitude\",\"lat\") \\\n",
    "  .relabeled(\"Longitude\",\"long\")"
   ]
  },
  {
   "cell_type": "markdown",
   "id": "af332267-cccb-42a7-99e3-45fc199d07ea",
   "metadata": {},
   "source": [
    "### A certain column as an array: `table.column(col)`\n",
    "\n",
    "We can get a specfic column as an `array` like this:"
   ]
  },
  {
   "cell_type": "code",
   "execution_count": 90,
   "id": "b7aef175-b2d9-4a9f-b902-20c2f650948d",
   "metadata": {},
   "outputs": [
    {
     "data": {
      "text/plain": [
       "array(['UCLA', 'UC Berkeley', 'UC San Diego', 'UC Davis',\n",
       "       'UC Santa Barbara', 'UC Irvine', 'UC Santa Cruz', 'UC Riverside',\n",
       "       'UC Merced'],\n",
       "      dtype='<U16')"
      ]
     },
     "execution_count": 90,
     "metadata": {},
     "output_type": "execute_result"
    }
   ],
   "source": [
    "ucTable.column(\"Campus\")"
   ]
  },
  {
   "cell_type": "markdown",
   "id": "5a8a1ddd-a7e8-44e7-9fe9-1993423e4a7a",
   "metadata": {},
   "source": [
    "Using `.column` gives us the specified column as an `array`, not as a table.  \n",
    "\n",
    "Compare `.column` vs. `.select`:"
   ]
  },
  {
   "cell_type": "code",
   "execution_count": 91,
   "id": "140176ab-75d5-407a-9e7c-d520e99d15cb",
   "metadata": {},
   "outputs": [
    {
     "data": {
      "text/html": [
       "<table border=\"1\" class=\"dataframe\">\n",
       "    <thead>\n",
       "        <tr>\n",
       "            <th>Campus</th>\n",
       "        </tr>\n",
       "    </thead>\n",
       "    <tbody>\n",
       "        <tr>\n",
       "            <td>UCLA            </td>\n",
       "        </tr>\n",
       "        <tr>\n",
       "            <td>UC Berkeley     </td>\n",
       "        </tr>\n",
       "        <tr>\n",
       "            <td>UC San Diego    </td>\n",
       "        </tr>\n",
       "        <tr>\n",
       "            <td>UC Davis        </td>\n",
       "        </tr>\n",
       "        <tr>\n",
       "            <td>UC Santa Barbara</td>\n",
       "        </tr>\n",
       "        <tr>\n",
       "            <td>UC Irvine       </td>\n",
       "        </tr>\n",
       "        <tr>\n",
       "            <td>UC Santa Cruz   </td>\n",
       "        </tr>\n",
       "        <tr>\n",
       "            <td>UC Riverside    </td>\n",
       "        </tr>\n",
       "        <tr>\n",
       "            <td>UC Merced       </td>\n",
       "        </tr>\n",
       "    </tbody>\n",
       "</table>"
      ],
      "text/plain": [
       "Campus\n",
       "UCLA\n",
       "UC Berkeley\n",
       "UC San Diego\n",
       "UC Davis\n",
       "UC Santa Barbara\n",
       "UC Irvine\n",
       "UC Santa Cruz\n",
       "UC Riverside\n",
       "UC Merced"
      ]
     },
     "execution_count": 91,
     "metadata": {},
     "output_type": "execute_result"
    }
   ],
   "source": [
    "ucTable.select(\"Campus\")"
   ]
  },
  {
   "cell_type": "markdown",
   "id": "edf95fc2-6008-4157-b417-2061fd5ab570",
   "metadata": {},
   "source": [
    "And compare the data types.  Note that the data type is important because it tells you what methods you can and cannot apply to the object:"
   ]
  },
  {
   "cell_type": "code",
   "execution_count": 92,
   "id": "8f617987-6637-4952-8e03-bfccd6e49542",
   "metadata": {},
   "outputs": [
    {
     "data": {
      "text/plain": [
       "datascience.tables.Table"
      ]
     },
     "execution_count": 92,
     "metadata": {},
     "output_type": "execute_result"
    }
   ],
   "source": [
    "type(ucTable.select(\"Campus\"))"
   ]
  },
  {
   "cell_type": "code",
   "execution_count": 93,
   "id": "f791b3e9-7c7f-4304-b80d-aefccb43823e",
   "metadata": {},
   "outputs": [
    {
     "data": {
      "text/plain": [
       "numpy.ndarray"
      ]
     },
     "execution_count": 93,
     "metadata": {},
     "output_type": "execute_result"
    }
   ],
   "source": [
    "type(ucTable.column(\"Campus\"))"
   ]
  },
  {
   "cell_type": "markdown",
   "id": "2c7482f7-d7db-45d5-b58a-3911d2f627cf",
   "metadata": {},
   "source": [
    "* Using `.select`, we get a `datascience.tables.Table` back and we can use the `Table()` methods on it (from Chapter 6).\n",
    "* Using `.column`, we get a `numpy.ndarray` back and we can use the `array` methods on it (from Chapter 5)."
   ]
  },
  {
   "cell_type": "markdown",
   "id": "60254099-3da1-43f1-9ede-2c1316c57d9c",
   "metadata": {},
   "source": [
    "## A single cell: `table.column(col).item_num(row)`\n",
    "\n",
    "If we want a specific cell, we can ask for it by column and row, using either column name or column number, and then row number.\n",
    "\n",
    "For example:\n"
   ]
  },
  {
   "cell_type": "code",
   "execution_count": 85,
   "id": "a6909537-0b7a-4102-852b-cd9f1926fa38",
   "metadata": {},
   "outputs": [
    {
     "data": {
      "text/html": [
       "<table border=\"1\" class=\"dataframe\">\n",
       "    <thead>\n",
       "        <tr>\n",
       "            <th>Campus</th> <th>Location</th> <th>Undergrad Enrollment</th> <th>Grad Enrollment</th> <th>Total Enrollment</th> <th>Year Founded</th> <th>Latitude</th> <th>Longitude</th>\n",
       "        </tr>\n",
       "    </thead>\n",
       "    <tbody>\n",
       "        <tr>\n",
       "            <td>UCLA            </td> <td>Los Angeles  </td> <td>31600               </td> <td>13100          </td> <td>44700           </td> <td>1919        </td> <td>34.0689 </td> <td>-118.444 </td>\n",
       "        </tr>\n",
       "        <tr>\n",
       "            <td>UC Berkeley     </td> <td>Berkeley     </td> <td>30800               </td> <td>11700          </td> <td>42500           </td> <td>1868        </td> <td>37.8719 </td> <td>-122.258 </td>\n",
       "        </tr>\n",
       "        <tr>\n",
       "            <td>UC San Diego    </td> <td>San Diego    </td> <td>30200               </td> <td>9700           </td> <td>39900           </td> <td>1960        </td> <td>32.8801 </td> <td>-117.234 </td>\n",
       "        </tr>\n",
       "        <tr>\n",
       "            <td>UC Davis        </td> <td>Davis        </td> <td>30300               </td> <td>7500           </td> <td>37800           </td> <td>1905        </td> <td>38.5382 </td> <td>-121.762 </td>\n",
       "        </tr>\n",
       "        <tr>\n",
       "            <td>UC Santa Barbara</td> <td>Santa Barbara</td> <td>22000               </td> <td>3600           </td> <td>25600           </td> <td>1944        </td> <td>34.4133 </td> <td>-119.849 </td>\n",
       "        </tr>\n",
       "        <tr>\n",
       "            <td>UC Irvine       </td> <td>Irvine       </td> <td>29600               </td> <td>5800           </td> <td>35400           </td> <td>1965        </td> <td>33.6405 </td> <td>-117.844 </td>\n",
       "        </tr>\n",
       "        <tr>\n",
       "            <td>UC Santa Cruz   </td> <td>Santa Cruz   </td> <td>17300               </td> <td>1800           </td> <td>19100           </td> <td>1965        </td> <td>36.9914 </td> <td>-122.059 </td>\n",
       "        </tr>\n",
       "        <tr>\n",
       "            <td>UC Riverside    </td> <td>Riverside    </td> <td>23900               </td> <td>5400           </td> <td>29300           </td> <td>1954        </td> <td>33.9737 </td> <td>-117.328 </td>\n",
       "        </tr>\n",
       "        <tr>\n",
       "            <td>UC Merced       </td> <td>Merced       </td> <td>7700                </td> <td>1100           </td> <td>8800            </td> <td>2005        </td> <td>37.3646 </td> <td>-120.424 </td>\n",
       "        </tr>\n",
       "    </tbody>\n",
       "</table>"
      ],
      "text/plain": [
       "Campus           | Location      | Undergrad Enrollment | Grad Enrollment | Total Enrollment | Year Founded | Latitude | Longitude\n",
       "UCLA             | Los Angeles   | 31600                | 13100           | 44700            | 1919         | 34.0689  | -118.444\n",
       "UC Berkeley      | Berkeley      | 30800                | 11700           | 42500            | 1868         | 37.8719  | -122.258\n",
       "UC San Diego     | San Diego     | 30200                | 9700            | 39900            | 1960         | 32.8801  | -117.234\n",
       "UC Davis         | Davis         | 30300                | 7500            | 37800            | 1905         | 38.5382  | -121.762\n",
       "UC Santa Barbara | Santa Barbara | 22000                | 3600            | 25600            | 1944         | 34.4133  | -119.849\n",
       "UC Irvine        | Irvine        | 29600                | 5800            | 35400            | 1965         | 33.6405  | -117.844\n",
       "UC Santa Cruz    | Santa Cruz    | 17300                | 1800            | 19100            | 1965         | 36.9914  | -122.059\n",
       "UC Riverside     | Riverside     | 23900                | 5400            | 29300            | 1954         | 33.9737  | -117.328\n",
       "UC Merced        | Merced        | 7700                 | 1100            | 8800             | 2005         | 37.3646  | -120.424"
      ]
     },
     "execution_count": 85,
     "metadata": {},
     "output_type": "execute_result"
    }
   ],
   "source": [
    "ucTable"
   ]
  },
  {
   "cell_type": "code",
   "execution_count": 88,
   "id": "26b046e8-618a-4aee-8f49-9f3a8bb13abc",
   "metadata": {},
   "outputs": [
    {
     "data": {
      "text/plain": [
       "'UC Santa Barbara'"
      ]
     },
     "execution_count": 88,
     "metadata": {},
     "output_type": "execute_result"
    }
   ],
   "source": [
    "ucTable.column(\"Campus\").item(4)"
   ]
  },
  {
   "cell_type": "code",
   "execution_count": 89,
   "id": "e849bd49-b6e7-4b83-b083-cc67a1fcbade",
   "metadata": {},
   "outputs": [
    {
     "data": {
      "text/plain": [
       "22000"
      ]
     },
     "execution_count": 89,
     "metadata": {},
     "output_type": "execute_result"
    }
   ],
   "source": [
    "ucTable.column(\"Undergrad Enrollment\").item(4)"
   ]
  },
  {
   "cell_type": "markdown",
   "id": "dcde7c7f-b2a3-487e-92ce-82030c8a713e",
   "metadata": {},
   "source": [
    "### Still in Chapter 6 intro; but we need to go back...\n",
    "\n",
    "Now, we are still working through the Chapter 6 intro, but we are going to need to go back a bit, because \n",
    "some of what we see in Chapter 6 depends on understanding *sequences*, especially the `array` data type which is described in [Chapter 5](https://inferentialthinking.com/chapters/05/Sequences.html).\n",
    "\n",
    "Here's an example of why we need it.  \n",
    "\n",
    "Let's make a smaller table from our `ucTable` that just shows campus and year founded:"
   ]
  },
  {
   "cell_type": "code",
   "execution_count": 51,
   "id": "0c5bfeed-cef6-4c12-815e-6b71ec792b8d",
   "metadata": {
    "collapsed": true,
    "jupyter": {
     "outputs_hidden": true,
     "source_hidden": true
    }
   },
   "outputs": [
    {
     "data": {
      "text/html": [
       "<table border=\"1\" class=\"dataframe\">\n",
       "    <thead>\n",
       "        <tr>\n",
       "            <th>name</th> <th>year</th>\n",
       "        </tr>\n",
       "    </thead>\n",
       "    <tbody>\n",
       "        <tr>\n",
       "            <td>UCLA            </td> <td>1919</td>\n",
       "        </tr>\n",
       "        <tr>\n",
       "            <td>UC Berkeley     </td> <td>1868</td>\n",
       "        </tr>\n",
       "        <tr>\n",
       "            <td>UC San Diego    </td> <td>1960</td>\n",
       "        </tr>\n",
       "        <tr>\n",
       "            <td>UC Davis        </td> <td>1905</td>\n",
       "        </tr>\n",
       "        <tr>\n",
       "            <td>UC Santa Barbara</td> <td>1944</td>\n",
       "        </tr>\n",
       "        <tr>\n",
       "            <td>UC Irvine       </td> <td>1965</td>\n",
       "        </tr>\n",
       "        <tr>\n",
       "            <td>UC Santa Cruz   </td> <td>1965</td>\n",
       "        </tr>\n",
       "        <tr>\n",
       "            <td>UC Riverside    </td> <td>1954</td>\n",
       "        </tr>\n",
       "        <tr>\n",
       "            <td>UC Merced       </td> <td>2005</td>\n",
       "        </tr>\n",
       "    </tbody>\n",
       "</table>"
      ],
      "text/plain": [
       "name             | year\n",
       "UCLA             | 1919\n",
       "UC Berkeley      | 1868\n",
       "UC San Diego     | 1960\n",
       "UC Davis         | 1905\n",
       "UC Santa Barbara | 1944\n",
       "UC Irvine        | 1965\n",
       "UC Santa Cruz    | 1965\n",
       "UC Riverside     | 1954\n",
       "UC Merced        | 2005"
      ]
     },
     "execution_count": 51,
     "metadata": {},
     "output_type": "execute_result"
    }
   ],
   "source": [
    "ucYears = ucTable.select(\"Campus\",\"Year Founded\") \\\n",
    "  .relabel(\"Year Founded\",\"year\") \\\n",
    "  .relabel(\"Campus\",\"name\")\n",
    "ucYears"
   ]
  },
  {
   "cell_type": "markdown",
   "id": "315aa8b4-a07a-435d-92b9-4cc8ea698a64",
   "metadata": {},
   "source": [
    "Suppose we want to add a column called \"age\" to this table, which is the number of years the campus has been around (i.e. 2025 - year).\n",
    "\n",
    "There are a few ways to do this, but the easiest is to add a new column that uses `array` operations.  Here's what that looks like.\n",
    "\n",
    "First, let's select out just the year column:\n"
   ]
  },
  {
   "cell_type": "code",
   "execution_count": 52,
   "id": "d09f8eb3-2d07-4754-9277-273e2d1d0c47",
   "metadata": {
    "collapsed": true,
    "jupyter": {
     "outputs_hidden": true,
     "source_hidden": true
    }
   },
   "outputs": [
    {
     "data": {
      "text/plain": [
       "array([1919, 1868, 1960, 1905, 1944, 1965, 1965, 1954, 2005])"
      ]
     },
     "execution_count": 52,
     "metadata": {},
     "output_type": "execute_result"
    }
   ],
   "source": [
    "ucYears.column(\"year\")"
   ]
  },
  {
   "cell_type": "markdown",
   "id": "8511c737-3fe2-406b-9cbb-584c31a0a6ad",
   "metadata": {},
   "source": [
    "Now, we'll use an array operation to subtract each of these years from 2025.  Note that this looks a little strange; we are subtracting an *entire column* of data (in the form of an `array`) from the integer 2025:"
   ]
  },
  {
   "cell_type": "code",
   "execution_count": 53,
   "id": "9a91d5a6-c749-42f5-984d-c4f29960a765",
   "metadata": {
    "collapsed": true,
    "jupyter": {
     "outputs_hidden": true,
     "source_hidden": true
    }
   },
   "outputs": [
    {
     "data": {
      "text/plain": [
       "array([106, 157,  65, 120,  81,  60,  60,  71,  20])"
      ]
     },
     "execution_count": 53,
     "metadata": {},
     "output_type": "execute_result"
    }
   ],
   "source": [
    "2025 - ucYears.column(\"year\") "
   ]
  },
  {
   "cell_type": "markdown",
   "id": "bb56128f-e20c-436b-bbb8-a917d5db7f88",
   "metadata": {},
   "source": [
    "Let's give that array a name, and ask what it's data type is:"
   ]
  },
  {
   "cell_type": "code",
   "execution_count": 55,
   "id": "21c9ce78-2d3f-445d-b9f7-5a138614ba2b",
   "metadata": {
    "collapsed": true,
    "jupyter": {
     "outputs_hidden": true,
     "source_hidden": true
    }
   },
   "outputs": [
    {
     "data": {
      "text/plain": [
       "numpy.ndarray"
      ]
     },
     "execution_count": 55,
     "metadata": {},
     "output_type": "execute_result"
    }
   ],
   "source": [
    "ages = 2025 - ucYears.column(\"year\") \n",
    "type(ages)"
   ]
  },
  {
   "cell_type": "markdown",
   "id": "60447d5d-c32a-4360-b477-3ba4e90f23b3",
   "metadata": {},
   "source": [
    "We see that the data type is `numpy.ndarray`.  \n",
    "* That means this comes from the `numpy` module.\n",
    "* When we ask ChatGPT questions about arrays, it may help to specify `numpy.ndarray` so that ChatGPT knows *specifically* what kind of array we are talking about.\n",
    "* `numpy` is the module that we have given the nickname (or *alias*) `np` at the top of our file with:\n",
    "  ```\n",
    "  import numpy as np\n",
    "  ```\n",
    "* The `nd` in `ndarray` stands for *n-dimensional*.  While the example we are seeing here has only one dimension, as we may see later, the array could also have 2 dimensions (like a table does), or even higher dimensions; it's a very useful abstraction.\n",
    "* Side note (and if you haven't taken a Linear Algebra course such as Math 4A, you may ignore what I'm about to say): the `numpy.ndarray` data type is often used to model vectors and matrices.\n"
   ]
  },
  {
   "cell_type": "markdown",
   "id": "fe6bcfa4-2de7-415f-9ef9-a82fe6038461",
   "metadata": {},
   "source": [
    "Now that we have `ages` in an array, we can add it to a new table:"
   ]
  },
  {
   "cell_type": "code",
   "execution_count": 58,
   "id": "d0085ba9-54c5-4c06-bfb1-8e25b5ef574a",
   "metadata": {
    "collapsed": true,
    "jupyter": {
     "outputs_hidden": true,
     "source_hidden": true
    }
   },
   "outputs": [
    {
     "data": {
      "text/html": [
       "<table border=\"1\" class=\"dataframe\">\n",
       "    <thead>\n",
       "        <tr>\n",
       "            <th>name</th> <th>year</th> <th>age</th>\n",
       "        </tr>\n",
       "    </thead>\n",
       "    <tbody>\n",
       "        <tr>\n",
       "            <td>UCLA            </td> <td>1919</td> <td>106 </td>\n",
       "        </tr>\n",
       "        <tr>\n",
       "            <td>UC Berkeley     </td> <td>1868</td> <td>157 </td>\n",
       "        </tr>\n",
       "        <tr>\n",
       "            <td>UC San Diego    </td> <td>1960</td> <td>65  </td>\n",
       "        </tr>\n",
       "        <tr>\n",
       "            <td>UC Davis        </td> <td>1905</td> <td>120 </td>\n",
       "        </tr>\n",
       "        <tr>\n",
       "            <td>UC Santa Barbara</td> <td>1944</td> <td>81  </td>\n",
       "        </tr>\n",
       "        <tr>\n",
       "            <td>UC Irvine       </td> <td>1965</td> <td>60  </td>\n",
       "        </tr>\n",
       "        <tr>\n",
       "            <td>UC Santa Cruz   </td> <td>1965</td> <td>60  </td>\n",
       "        </tr>\n",
       "        <tr>\n",
       "            <td>UC Riverside    </td> <td>1954</td> <td>71  </td>\n",
       "        </tr>\n",
       "        <tr>\n",
       "            <td>UC Merced       </td> <td>2005</td> <td>20  </td>\n",
       "        </tr>\n",
       "    </tbody>\n",
       "</table>"
      ],
      "text/plain": [
       "name             | year | age\n",
       "UCLA             | 1919 | 106\n",
       "UC Berkeley      | 1868 | 157\n",
       "UC San Diego     | 1960 | 65\n",
       "UC Davis         | 1905 | 120\n",
       "UC Santa Barbara | 1944 | 81\n",
       "UC Irvine        | 1965 | 60\n",
       "UC Santa Cruz    | 1965 | 60\n",
       "UC Riverside     | 1954 | 71\n",
       "UC Merced        | 2005 | 20"
      ]
     },
     "execution_count": 58,
     "metadata": {},
     "output_type": "execute_result"
    }
   ],
   "source": [
    "ucAges = ucYears.with_column(\"age\",ages)\n",
    "ucAges"
   ]
  },
  {
   "cell_type": "markdown",
   "id": "e59323b1-3fc4-479b-aaf9-52779f5d767c",
   "metadata": {},
   "source": [
    "That may be enough of the Chapter 5 material for now.\n",
    "\n",
    "Keep in mind we may have to dip our toes back in from time-to-time as the need arises, but I don't want to get bogged down; let's forge ahead with what we are going to need for lab02."
   ]
  },
  {
   "cell_type": "markdown",
   "id": "7562972b-719b-4d6d-a604-6296921797e3",
   "metadata": {},
   "source": [
    "## Section 6.1: Sorting a table\n",
    "\n",
    "Sorting a table is covered in [Section 6.1](https://inferentialthinking.com/chapters/06/1/Sorting_Rows.html).\n",
    "\n",
    "The following isn't a complete coverage of [Section 6.1](https://inferentialthinking.com/chapters/06/1/Sorting_Rows.html), so *you still need to read it*.\n",
    "\n",
    "Now that we have a table that has all of the UCs in it, let's sort them by age:"
   ]
  },
  {
   "cell_type": "code",
   "execution_count": 59,
   "id": "9ede8f0d-5d43-402e-b9d3-ed33b883af70",
   "metadata": {
    "collapsed": true,
    "jupyter": {
     "outputs_hidden": true,
     "source_hidden": true
    }
   },
   "outputs": [
    {
     "data": {
      "text/html": [
       "<table border=\"1\" class=\"dataframe\">\n",
       "    <thead>\n",
       "        <tr>\n",
       "            <th>name</th> <th>year</th> <th>age</th>\n",
       "        </tr>\n",
       "    </thead>\n",
       "    <tbody>\n",
       "        <tr>\n",
       "            <td>UC Merced       </td> <td>2005</td> <td>20  </td>\n",
       "        </tr>\n",
       "        <tr>\n",
       "            <td>UC Irvine       </td> <td>1965</td> <td>60  </td>\n",
       "        </tr>\n",
       "        <tr>\n",
       "            <td>UC Santa Cruz   </td> <td>1965</td> <td>60  </td>\n",
       "        </tr>\n",
       "        <tr>\n",
       "            <td>UC San Diego    </td> <td>1960</td> <td>65  </td>\n",
       "        </tr>\n",
       "        <tr>\n",
       "            <td>UC Riverside    </td> <td>1954</td> <td>71  </td>\n",
       "        </tr>\n",
       "        <tr>\n",
       "            <td>UC Santa Barbara</td> <td>1944</td> <td>81  </td>\n",
       "        </tr>\n",
       "        <tr>\n",
       "            <td>UCLA            </td> <td>1919</td> <td>106 </td>\n",
       "        </tr>\n",
       "        <tr>\n",
       "            <td>UC Davis        </td> <td>1905</td> <td>120 </td>\n",
       "        </tr>\n",
       "        <tr>\n",
       "            <td>UC Berkeley     </td> <td>1868</td> <td>157 </td>\n",
       "        </tr>\n",
       "    </tbody>\n",
       "</table>"
      ],
      "text/plain": [
       "name             | year | age\n",
       "UC Merced        | 2005 | 20\n",
       "UC Irvine        | 1965 | 60\n",
       "UC Santa Cruz    | 1965 | 60\n",
       "UC San Diego     | 1960 | 65\n",
       "UC Riverside     | 1954 | 71\n",
       "UC Santa Barbara | 1944 | 81\n",
       "UCLA             | 1919 | 106\n",
       "UC Davis         | 1905 | 120\n",
       "UC Berkeley      | 1868 | 157"
      ]
     },
     "execution_count": 59,
     "metadata": {},
     "output_type": "execute_result"
    }
   ],
   "source": [
    "ucAges.sort(\"age\")"
   ]
  },
  {
   "cell_type": "markdown",
   "id": "bb3701f7-b741-48b5-ae99-b1978d615284",
   "metadata": {},
   "source": [
    "By default, we get smallest to largest (in this case, newest first, oldest last).\n",
    "\n",
    "If we want the opposite direction, we can specify it this way:"
   ]
  },
  {
   "cell_type": "code",
   "execution_count": 62,
   "id": "02b45b6f-4544-4ee5-a479-4bb970c2046e",
   "metadata": {
    "collapsed": true,
    "jupyter": {
     "outputs_hidden": true,
     "source_hidden": true
    }
   },
   "outputs": [
    {
     "data": {
      "text/html": [
       "<table border=\"1\" class=\"dataframe\">\n",
       "    <thead>\n",
       "        <tr>\n",
       "            <th>name</th> <th>year</th> <th>age</th>\n",
       "        </tr>\n",
       "    </thead>\n",
       "    <tbody>\n",
       "        <tr>\n",
       "            <td>UC Berkeley     </td> <td>1868</td> <td>157 </td>\n",
       "        </tr>\n",
       "        <tr>\n",
       "            <td>UC Davis        </td> <td>1905</td> <td>120 </td>\n",
       "        </tr>\n",
       "        <tr>\n",
       "            <td>UCLA            </td> <td>1919</td> <td>106 </td>\n",
       "        </tr>\n",
       "        <tr>\n",
       "            <td>UC Santa Barbara</td> <td>1944</td> <td>81  </td>\n",
       "        </tr>\n",
       "        <tr>\n",
       "            <td>UC Riverside    </td> <td>1954</td> <td>71  </td>\n",
       "        </tr>\n",
       "        <tr>\n",
       "            <td>UC San Diego    </td> <td>1960</td> <td>65  </td>\n",
       "        </tr>\n",
       "        <tr>\n",
       "            <td>UC Irvine       </td> <td>1965</td> <td>60  </td>\n",
       "        </tr>\n",
       "        <tr>\n",
       "            <td>UC Santa Cruz   </td> <td>1965</td> <td>60  </td>\n",
       "        </tr>\n",
       "        <tr>\n",
       "            <td>UC Merced       </td> <td>2005</td> <td>20  </td>\n",
       "        </tr>\n",
       "    </tbody>\n",
       "</table>"
      ],
      "text/plain": [
       "name             | year | age\n",
       "UC Berkeley      | 1868 | 157\n",
       "UC Davis         | 1905 | 120\n",
       "UCLA             | 1919 | 106\n",
       "UC Santa Barbara | 1944 | 81\n",
       "UC Riverside     | 1954 | 71\n",
       "UC San Diego     | 1960 | 65\n",
       "UC Irvine        | 1965 | 60\n",
       "UC Santa Cruz    | 1965 | 60\n",
       "UC Merced        | 2005 | 20"
      ]
     },
     "execution_count": 62,
     "metadata": {},
     "output_type": "execute_result"
    }
   ],
   "source": [
    "ucAges.sort(\"age\", descending=True)"
   ]
  },
  {
   "cell_type": "markdown",
   "id": "3f814251-e01a-4f34-aff0-7edfc823e9cb",
   "metadata": {},
   "source": [
    "## Other things covered in Section 6.1\n",
    "\n",
    "I'm going to move past a few things from Section 6.1 that are important, but I'm going to leave you to read for yourself, because there isn't enough time for me to just walk you through *everything* in the textbook.\n",
    "\n",
    "Please read for yourself about:\n",
    "* positional arguments (this applies to *all* function and method calls in Python)\n",
    "* the `distinct` argument to the `sort` method for `Table()`."
   ]
  },
  {
   "cell_type": "markdown",
   "id": "dd5f1cca-07b4-4f07-9a6b-9cdb0e66a767",
   "metadata": {},
   "source": [
    "## Section 6.2: Selecting Rows from a table\n",
    "\n",
    "Selecting rows from a table is covered in [Section 6.2](https://inferentialthinking.com/chapters/06/2/Selecting_Rows.html)\n",
    "\n",
    "### Aside: What is a *use case*\n",
    "\n",
    "From time to time, you'll hear folks that deal with computing systems talk about a *use case*.\n",
    "\n",
    "This is a fancy way of saying: \"why would I ever need this\"?\n",
    "\n",
    "As an example, the `Table()` data type from the `datascience` library has a method called `take()`.\n",
    "\n",
    "I could either explain to you what it does: \n",
    "* It produces a new table with the selected rows, specified by their *indices* (row numbers starting from 0)\n",
    "\n",
    "But, what's typically more *helpful* is if I first explain the *use case*, i.e.\n",
    "* I explain \"what are we trying to do\" first,\n",
    "* And then I show you how to use `.take()` to *do that thing*.\n",
    "\n",
    "Note that a method like `.take()` typically has *many* use cases, not just one. But here's an important one:\n"
   ]
  },
  {
   "cell_type": "markdown",
   "id": "1703b561-c0ec-4818-baae-d89a56352c93",
   "metadata": {},
   "source": [
    "### Use case: List the five oldest UC Campuses\n",
    "\n",
    "If we have a table of UC Campuses with their ages, like this:\n"
   ]
  },
  {
   "cell_type": "code",
   "execution_count": 63,
   "id": "c1b04b96-e069-43c8-82a4-522057654b3e",
   "metadata": {
    "collapsed": true,
    "jupyter": {
     "outputs_hidden": true,
     "source_hidden": true
    }
   },
   "outputs": [
    {
     "data": {
      "text/html": [
       "<table border=\"1\" class=\"dataframe\">\n",
       "    <thead>\n",
       "        <tr>\n",
       "            <th>name</th> <th>year</th> <th>age</th>\n",
       "        </tr>\n",
       "    </thead>\n",
       "    <tbody>\n",
       "        <tr>\n",
       "            <td>UCLA            </td> <td>1919</td> <td>106 </td>\n",
       "        </tr>\n",
       "        <tr>\n",
       "            <td>UC Berkeley     </td> <td>1868</td> <td>157 </td>\n",
       "        </tr>\n",
       "        <tr>\n",
       "            <td>UC San Diego    </td> <td>1960</td> <td>65  </td>\n",
       "        </tr>\n",
       "        <tr>\n",
       "            <td>UC Davis        </td> <td>1905</td> <td>120 </td>\n",
       "        </tr>\n",
       "        <tr>\n",
       "            <td>UC Santa Barbara</td> <td>1944</td> <td>81  </td>\n",
       "        </tr>\n",
       "        <tr>\n",
       "            <td>UC Irvine       </td> <td>1965</td> <td>60  </td>\n",
       "        </tr>\n",
       "        <tr>\n",
       "            <td>UC Santa Cruz   </td> <td>1965</td> <td>60  </td>\n",
       "        </tr>\n",
       "        <tr>\n",
       "            <td>UC Riverside    </td> <td>1954</td> <td>71  </td>\n",
       "        </tr>\n",
       "        <tr>\n",
       "            <td>UC Merced       </td> <td>2005</td> <td>20  </td>\n",
       "        </tr>\n",
       "    </tbody>\n",
       "</table>"
      ],
      "text/plain": [
       "name             | year | age\n",
       "UCLA             | 1919 | 106\n",
       "UC Berkeley      | 1868 | 157\n",
       "UC San Diego     | 1960 | 65\n",
       "UC Davis         | 1905 | 120\n",
       "UC Santa Barbara | 1944 | 81\n",
       "UC Irvine        | 1965 | 60\n",
       "UC Santa Cruz    | 1965 | 60\n",
       "UC Riverside     | 1954 | 71\n",
       "UC Merced        | 2005 | 20"
      ]
     },
     "execution_count": 63,
     "metadata": {},
     "output_type": "execute_result"
    }
   ],
   "source": [
    "ucAges"
   ]
  },
  {
   "cell_type": "markdown",
   "id": "ce31131e-fa83-4120-bc04-926845b6f857",
   "metadata": {},
   "source": [
    "We can find the five oldest UCs, by:\n",
    "* First, sorting oldest to newest\n",
    "* Then, taking the first five rows\n",
    "\n",
    "Here's what that looks like:"
   ]
  },
  {
   "cell_type": "code",
   "execution_count": 65,
   "id": "63bc58b6-3d84-4908-83a7-bc2f5ef7d515",
   "metadata": {
    "collapsed": true,
    "jupyter": {
     "outputs_hidden": true,
     "source_hidden": true
    }
   },
   "outputs": [
    {
     "data": {
      "text/html": [
       "<table border=\"1\" class=\"dataframe\">\n",
       "    <thead>\n",
       "        <tr>\n",
       "            <th>name</th> <th>year</th> <th>age</th>\n",
       "        </tr>\n",
       "    </thead>\n",
       "    <tbody>\n",
       "        <tr>\n",
       "            <td>UC Berkeley     </td> <td>1868</td> <td>157 </td>\n",
       "        </tr>\n",
       "        <tr>\n",
       "            <td>UC Davis        </td> <td>1905</td> <td>120 </td>\n",
       "        </tr>\n",
       "        <tr>\n",
       "            <td>UCLA            </td> <td>1919</td> <td>106 </td>\n",
       "        </tr>\n",
       "        <tr>\n",
       "            <td>UC Santa Barbara</td> <td>1944</td> <td>81  </td>\n",
       "        </tr>\n",
       "        <tr>\n",
       "            <td>UC Riverside    </td> <td>1954</td> <td>71  </td>\n",
       "        </tr>\n",
       "    </tbody>\n",
       "</table>"
      ],
      "text/plain": [
       "name             | year | age\n",
       "UC Berkeley      | 1868 | 157\n",
       "UC Davis         | 1905 | 120\n",
       "UCLA             | 1919 | 106\n",
       "UC Santa Barbara | 1944 | 81\n",
       "UC Riverside     | 1954 | 71"
      ]
     },
     "execution_count": 65,
     "metadata": {},
     "output_type": "execute_result"
    }
   ],
   "source": [
    "ucAges.sort(\"age\",descending=True).take(np.arange(5))"
   ]
  },
  {
   "cell_type": "markdown",
   "id": "ca8a6b36-08a4-4795-b69d-38e23bd257b6",
   "metadata": {},
   "source": [
    "Let's unpack that from the inside out, starting with `np.arange(5)`\n",
    "\n",
    "* It's important to know that `np` is an abbreviation for `numpy` in case we want to look up the documentation for `arange` or ask an AI about it.\n",
    "* Thus: `np.arange(5)` refers to the `arange` function from the `numpy` module.\n",
    "* What it does is described in [Section 5.2 (Ranges)](https://inferentialthinking.com/chapters/05/2/Ranges.html), which you have hopefully already read, but lets review it now.\n",
    "\n",
    "So `np.arange(5)` gives us a numpy.ndarray (an n-dimensional array, but in this case a 1-dimensional array), with the numbers `0, 1, 2, 3, and 4`:"
   ]
  },
  {
   "cell_type": "code",
   "execution_count": 66,
   "id": "d45f4007-492a-4517-8aed-39acab17fe1b",
   "metadata": {
    "collapsed": true,
    "jupyter": {
     "outputs_hidden": true,
     "source_hidden": true
    }
   },
   "outputs": [
    {
     "data": {
      "text/plain": [
       "array([0, 1, 2, 3, 4])"
      ]
     },
     "execution_count": 66,
     "metadata": {},
     "output_type": "execute_result"
    }
   ],
   "source": [
    "np.arange(5)"
   ]
  },
  {
   "cell_type": "code",
   "execution_count": 67,
   "id": "e9df7b3c-6789-4c0b-846b-42af171cb3c4",
   "metadata": {
    "collapsed": true,
    "jupyter": {
     "outputs_hidden": true,
     "source_hidden": true
    }
   },
   "outputs": [
    {
     "data": {
      "text/plain": [
       "numpy.ndarray"
      ]
     },
     "execution_count": 67,
     "metadata": {},
     "output_type": "execute_result"
    }
   ],
   "source": [
    "type(np.arange(5))"
   ]
  },
  {
   "cell_type": "code",
   "execution_count": 68,
   "id": "0f188ca7-9727-4f50-a3fc-50f1537478e9",
   "metadata": {
    "collapsed": true,
    "jupyter": {
     "outputs_hidden": true,
     "source_hidden": true
    }
   },
   "outputs": [
    {
     "data": {
      "text/plain": [
       "5"
      ]
     },
     "execution_count": 68,
     "metadata": {},
     "output_type": "execute_result"
    }
   ],
   "source": [
    "len(np.arange(5))"
   ]
  },
  {
   "cell_type": "markdown",
   "id": "e6690e3d-cbdb-419f-9e29-9033bf0a3d0b",
   "metadata": {},
   "source": [
    "As you might guess, `np.arange(7)` starts at zero and ends at six:"
   ]
  },
  {
   "cell_type": "code",
   "execution_count": 69,
   "id": "407114f4-b0c0-4705-8bd8-a3607cfaaee4",
   "metadata": {
    "collapsed": true,
    "jupyter": {
     "outputs_hidden": true,
     "source_hidden": true
    }
   },
   "outputs": [
    {
     "data": {
      "text/plain": [
       "array([0, 1, 2, 3, 4, 5, 6])"
      ]
     },
     "execution_count": 69,
     "metadata": {},
     "output_type": "execute_result"
    }
   ],
   "source": [
    "np.arange(7)"
   ]
  },
  {
   "cell_type": "markdown",
   "id": "f78ca9c3-3eac-4dbf-9f65-8790fcc01295",
   "metadata": {},
   "source": [
    "So, now we can see that\n",
    "\n",
    "* The code `ucAges.sort(\"age\",descending=True).take(np.arange(5))`\n",
    "* is the same as: `ucAges.sort(\"age\",descending=True).take([0,1,2,3,4])`"
   ]
  },
  {
   "cell_type": "code",
   "execution_count": 70,
   "id": "0e00970d-057a-4143-b33e-8a735948cd10",
   "metadata": {
    "collapsed": true,
    "jupyter": {
     "outputs_hidden": true,
     "source_hidden": true
    }
   },
   "outputs": [
    {
     "data": {
      "text/html": [
       "<table border=\"1\" class=\"dataframe\">\n",
       "    <thead>\n",
       "        <tr>\n",
       "            <th>name</th> <th>year</th> <th>age</th>\n",
       "        </tr>\n",
       "    </thead>\n",
       "    <tbody>\n",
       "        <tr>\n",
       "            <td>UC Berkeley     </td> <td>1868</td> <td>157 </td>\n",
       "        </tr>\n",
       "        <tr>\n",
       "            <td>UC Davis        </td> <td>1905</td> <td>120 </td>\n",
       "        </tr>\n",
       "        <tr>\n",
       "            <td>UCLA            </td> <td>1919</td> <td>106 </td>\n",
       "        </tr>\n",
       "        <tr>\n",
       "            <td>UC Santa Barbara</td> <td>1944</td> <td>81  </td>\n",
       "        </tr>\n",
       "        <tr>\n",
       "            <td>UC Riverside    </td> <td>1954</td> <td>71  </td>\n",
       "        </tr>\n",
       "    </tbody>\n",
       "</table>"
      ],
      "text/plain": [
       "name             | year | age\n",
       "UC Berkeley      | 1868 | 157\n",
       "UC Davis         | 1905 | 120\n",
       "UCLA             | 1919 | 106\n",
       "UC Santa Barbara | 1944 | 81\n",
       "UC Riverside     | 1954 | 71"
      ]
     },
     "execution_count": 70,
     "metadata": {},
     "output_type": "execute_result"
    }
   ],
   "source": [
    "ucAges.sort(\"age\",descending=True).take([0,1,2,3,4])"
   ]
  },
  {
   "cell_type": "markdown",
   "id": "34449a1b-788e-4a37-af92-68dd26889a32",
   "metadata": {},
   "source": [
    "Which means: sort in descending order by age, and take the first five things (i.e. the five oldest)."
   ]
  },
  {
   "cell_type": "markdown",
   "id": "c834d3bc-7f61-469e-be1f-989fd01e21aa",
   "metadata": {},
   "source": [
    "What if we wanted the three newest?"
   ]
  },
  {
   "cell_type": "code",
   "execution_count": 73,
   "id": "763d4d90-a50b-4a4d-9636-133f7916ae84",
   "metadata": {
    "collapsed": true,
    "jupyter": {
     "outputs_hidden": true,
     "source_hidden": true
    }
   },
   "outputs": [
    {
     "data": {
      "text/html": [
       "<table border=\"1\" class=\"dataframe\">\n",
       "    <thead>\n",
       "        <tr>\n",
       "            <th>name</th> <th>year</th> <th>age</th>\n",
       "        </tr>\n",
       "    </thead>\n",
       "    <tbody>\n",
       "        <tr>\n",
       "            <td>UC Merced    </td> <td>2005</td> <td>20  </td>\n",
       "        </tr>\n",
       "        <tr>\n",
       "            <td>UC Irvine    </td> <td>1965</td> <td>60  </td>\n",
       "        </tr>\n",
       "        <tr>\n",
       "            <td>UC Santa Cruz</td> <td>1965</td> <td>60  </td>\n",
       "        </tr>\n",
       "    </tbody>\n",
       "</table>"
      ],
      "text/plain": [
       "name          | year | age\n",
       "UC Merced     | 2005 | 20\n",
       "UC Irvine     | 1965 | 60\n",
       "UC Santa Cruz | 1965 | 60"
      ]
     },
     "execution_count": 73,
     "metadata": {},
     "output_type": "execute_result"
    }
   ],
   "source": [
    "ucAges.sort(\"age\",descending=False).take([0,1,2])"
   ]
  },
  {
   "cell_type": "code",
   "execution_count": 75,
   "id": "52181847-bbcf-4eb5-88aa-2a4a12b74090",
   "metadata": {
    "collapsed": true,
    "jupyter": {
     "outputs_hidden": true,
     "source_hidden": true
    }
   },
   "outputs": [
    {
     "data": {
      "text/html": [
       "<table border=\"1\" class=\"dataframe\">\n",
       "    <thead>\n",
       "        <tr>\n",
       "            <th>name</th> <th>year</th> <th>age</th>\n",
       "        </tr>\n",
       "    </thead>\n",
       "    <tbody>\n",
       "        <tr>\n",
       "            <td>UC Merced    </td> <td>2005</td> <td>20  </td>\n",
       "        </tr>\n",
       "        <tr>\n",
       "            <td>UC Irvine    </td> <td>1965</td> <td>60  </td>\n",
       "        </tr>\n",
       "        <tr>\n",
       "            <td>UC Santa Cruz</td> <td>1965</td> <td>60  </td>\n",
       "        </tr>\n",
       "    </tbody>\n",
       "</table>"
      ],
      "text/plain": [
       "name          | year | age\n",
       "UC Merced     | 2005 | 20\n",
       "UC Irvine     | 1965 | 60\n",
       "UC Santa Cruz | 1965 | 60"
      ]
     },
     "execution_count": 75,
     "metadata": {},
     "output_type": "execute_result"
    }
   ],
   "source": [
    "ucAges.sort(\"age\",descending=False).take(np.arange(3))"
   ]
  },
  {
   "cell_type": "markdown",
   "id": "9f422296-e538-486c-b280-947fac167f1e",
   "metadata": {},
   "source": [
    "### HOWEVER!  Theres's a trap here!\n",
    "\n",
    "Look at the data for the ages of the UC Campuses. What is the trap that I could fall into when selecting the \"n oldest\" or \"n newest\" UCs using *this technique*?  There's a case where I might get the *wrong answer*.\n",
    "\n",
    "Think about that and discuss it with your neighbor for a moment; then I'll see if anyone has thoughts..."
   ]
  },
  {
   "cell_type": "code",
   "execution_count": 77,
   "id": "ef8eee85-96cf-447d-8292-8ddf1aa40511",
   "metadata": {
    "collapsed": true,
    "jupyter": {
     "outputs_hidden": true,
     "source_hidden": true
    }
   },
   "outputs": [
    {
     "data": {
      "text/html": [
       "<table border=\"1\" class=\"dataframe\">\n",
       "    <thead>\n",
       "        <tr>\n",
       "            <th>name</th> <th>year</th> <th>age</th>\n",
       "        </tr>\n",
       "    </thead>\n",
       "    <tbody>\n",
       "        <tr>\n",
       "            <td>UC Merced       </td> <td>2005</td> <td>20  </td>\n",
       "        </tr>\n",
       "        <tr>\n",
       "            <td>UC Irvine       </td> <td>1965</td> <td>60  </td>\n",
       "        </tr>\n",
       "        <tr>\n",
       "            <td>UC Santa Cruz   </td> <td>1965</td> <td>60  </td>\n",
       "        </tr>\n",
       "        <tr>\n",
       "            <td>UC San Diego    </td> <td>1960</td> <td>65  </td>\n",
       "        </tr>\n",
       "        <tr>\n",
       "            <td>UC Riverside    </td> <td>1954</td> <td>71  </td>\n",
       "        </tr>\n",
       "        <tr>\n",
       "            <td>UC Santa Barbara</td> <td>1944</td> <td>81  </td>\n",
       "        </tr>\n",
       "        <tr>\n",
       "            <td>UCLA            </td> <td>1919</td> <td>106 </td>\n",
       "        </tr>\n",
       "        <tr>\n",
       "            <td>UC Davis        </td> <td>1905</td> <td>120 </td>\n",
       "        </tr>\n",
       "        <tr>\n",
       "            <td>UC Berkeley     </td> <td>1868</td> <td>157 </td>\n",
       "        </tr>\n",
       "    </tbody>\n",
       "</table>"
      ],
      "text/plain": [
       "name             | year | age\n",
       "UC Merced        | 2005 | 20\n",
       "UC Irvine        | 1965 | 60\n",
       "UC Santa Cruz    | 1965 | 60\n",
       "UC San Diego     | 1960 | 65\n",
       "UC Riverside     | 1954 | 71\n",
       "UC Santa Barbara | 1944 | 81\n",
       "UCLA             | 1919 | 106\n",
       "UC Davis         | 1905 | 120\n",
       "UC Berkeley      | 1868 | 157"
      ]
     },
     "execution_count": 77,
     "metadata": {},
     "output_type": "execute_result"
    }
   ],
   "source": [
    "ucAges.sort(\"age\")"
   ]
  },
  {
   "cell_type": "markdown",
   "id": "2bd60662-def3-4143-846d-168fcc516029",
   "metadata": {},
   "source": [
    "<details>\n",
    "  <summary>Here's the situation I had in mind</summary>  \n",
    "  The trap occurs if I ask for the two newest UCs, or the seven oldest UCs using this method.\n",
    "  Can you figure out why?\n",
    "</details>\n"
   ]
  },
  {
   "cell_type": "markdown",
   "id": "9a9b504b-7b12-41b4-afc1-a0215835b622",
   "metadata": {},
   "source": [
    "<details>\n",
    "  <summary>Here's an example of it getting a wrong (or at least incomplete/misleading) answer </summary>  \n",
    "\n",
    "This approach to getting the two oldest or two newest UCs would use code like this:\n",
    "\n",
    "```python\n",
    "twoNewest = ucAges.sort(\"age\").take(np.arange(2)) # naive approach to \"two newest UCs\"\n",
    "sevenOldest = ucAges.sort(\"age\", descending=True).take(np.arange(7)) # naive approach to \"seven oldest UCs\"\n",
    "```\n",
    "\n",
    "But *there's a tie* between UC Santa Cruz and UC Irvine, which were founded in the same year.  \n",
    "\n",
    "Strictly speaking, we could break the tie by seeing if they were founded on different days of the year.\n",
    "\n",
    "(In fact, search results show that UC Santa Cruz was founded in June 1965, with the day unclear, and UC Irvine on October 4, 1965, so technically, UC Santa Cruz is older.)\n",
    "\n",
    "*BUT* for purposes of this example, let's pretend they were founded on the same day in 1965, and are exactly the same age.\n",
    "\n",
    "</details>\n"
   ]
  },
  {
   "cell_type": "markdown",
   "id": "46d5eb8f-dc9b-4fcd-a9ff-b6752a500d09",
   "metadata": {},
   "source": [
    "The next few cells and their output are *collapsed* so as not to give away the answer too soon in lecture.  You can *expand* a collapsed cell in a notebook on JupyterHub by using the commands on the `View` menu (`Collapse...` and `Expand...`) or by clicking the three dots on a collapsed cell (e.g. ••• )"
   ]
  },
  {
   "cell_type": "code",
   "execution_count": 83,
   "id": "0271fa6e-8f46-4998-8f1b-613f4c686aa6",
   "metadata": {
    "scrolled": true
   },
   "outputs": [
    {
     "data": {
      "text/html": [
       "<table border=\"1\" class=\"dataframe\">\n",
       "    <thead>\n",
       "        <tr>\n",
       "            <th>name</th> <th>year</th> <th>age</th>\n",
       "        </tr>\n",
       "    </thead>\n",
       "    <tbody>\n",
       "        <tr>\n",
       "            <td>UC Merced</td> <td>2005</td> <td>20  </td>\n",
       "        </tr>\n",
       "        <tr>\n",
       "            <td>UC Irvine</td> <td>1965</td> <td>60  </td>\n",
       "        </tr>\n",
       "    </tbody>\n",
       "</table>"
      ],
      "text/plain": [
       "name      | year | age\n",
       "UC Merced | 2005 | 20\n",
       "UC Irvine | 1965 | 60"
      ]
     },
     "execution_count": 83,
     "metadata": {},
     "output_type": "execute_result"
    }
   ],
   "source": [
    "ucAges.sort(\"age\").take(np.arange(2)) # naive approach to \"two newest UCs\""
   ]
  },
  {
   "cell_type": "code",
   "execution_count": 82,
   "id": "5629d349-708c-41b2-a2ae-179ecc7a29d3",
   "metadata": {},
   "outputs": [
    {
     "data": {
      "text/html": [
       "<table border=\"1\" class=\"dataframe\">\n",
       "    <thead>\n",
       "        <tr>\n",
       "            <th>name</th> <th>year</th> <th>age</th>\n",
       "        </tr>\n",
       "    </thead>\n",
       "    <tbody>\n",
       "        <tr>\n",
       "            <td>UC Berkeley     </td> <td>1868</td> <td>157 </td>\n",
       "        </tr>\n",
       "        <tr>\n",
       "            <td>UC Davis        </td> <td>1905</td> <td>120 </td>\n",
       "        </tr>\n",
       "        <tr>\n",
       "            <td>UCLA            </td> <td>1919</td> <td>106 </td>\n",
       "        </tr>\n",
       "        <tr>\n",
       "            <td>UC Santa Barbara</td> <td>1944</td> <td>81  </td>\n",
       "        </tr>\n",
       "        <tr>\n",
       "            <td>UC Riverside    </td> <td>1954</td> <td>71  </td>\n",
       "        </tr>\n",
       "        <tr>\n",
       "            <td>UC San Diego    </td> <td>1960</td> <td>65  </td>\n",
       "        </tr>\n",
       "        <tr>\n",
       "            <td>UC Irvine       </td> <td>1965</td> <td>60  </td>\n",
       "        </tr>\n",
       "    </tbody>\n",
       "</table>"
      ],
      "text/plain": [
       "name             | year | age\n",
       "UC Berkeley      | 1868 | 157\n",
       "UC Davis         | 1905 | 120\n",
       "UCLA             | 1919 | 106\n",
       "UC Santa Barbara | 1944 | 81\n",
       "UC Riverside     | 1954 | 71\n",
       "UC San Diego     | 1960 | 65\n",
       "UC Irvine        | 1965 | 60"
      ]
     },
     "execution_count": 82,
     "metadata": {},
     "output_type": "execute_result"
    }
   ],
   "source": [
    "ucAges.sort(\"age\", descending=True).take(np.arange(7)) # naive approach to \"seven oldest UCs\""
   ]
  },
  {
   "cell_type": "markdown",
   "id": "32b11620-c81a-426f-8454-d0a61ad7dc01",
   "metadata": {
    "collapsed": true,
    "jupyter": {
     "outputs_hidden": true
    }
   },
   "source": [
    "### A better approach\n",
    "\n",
    "If we want to find the seven oldest UCs *but also account for ties* (meaning we could get actually get more than two), we need a slightly more sophisticated approach. \n",
    "\n",
    "<details>\n",
    "    <summary>Here's what we'll do:</summary>\n",
    "\n",
    "* We start the same way, by sorting the table by age\n",
    "* Then, if we want the seven oldest UCs (but allowing for ties), we find the age of the single UC that's in position 6 in that list (recall that we use 6, not 7, because the numbers start at 0).\n",
    "* Then we find all UCs that have an age that is greater than or equal to that number.\n",
    "\n",
    "Here's what that looks like:\n",
    "    \n",
    "</details>"
   ]
  },
  {
   "cell_type": "code",
   "execution_count": 94,
   "id": "13f2af50-939e-4606-b2cd-081f151c6ccd",
   "metadata": {},
   "outputs": [
    {
     "data": {
      "text/plain": [
       "60"
      ]
     },
     "execution_count": 94,
     "metadata": {},
     "output_type": "execute_result"
    }
   ],
   "source": [
    "ageOf7thOldestUC = ucAges.sort(\"age\", descending=True).column(\"age\").item(6)\n",
    "ageOf7thOldestUC"
   ]
  },
  {
   "cell_type": "code",
   "execution_count": 96,
   "id": "acdae568-3243-435c-b055-381551ce57fa",
   "metadata": {},
   "outputs": [
    {
     "data": {
      "text/html": [
       "<table border=\"1\" class=\"dataframe\">\n",
       "    <thead>\n",
       "        <tr>\n",
       "            <th>name</th> <th>year</th> <th>age</th>\n",
       "        </tr>\n",
       "    </thead>\n",
       "    <tbody>\n",
       "        <tr>\n",
       "            <td>UCLA            </td> <td>1919</td> <td>106 </td>\n",
       "        </tr>\n",
       "        <tr>\n",
       "            <td>UC Berkeley     </td> <td>1868</td> <td>157 </td>\n",
       "        </tr>\n",
       "        <tr>\n",
       "            <td>UC San Diego    </td> <td>1960</td> <td>65  </td>\n",
       "        </tr>\n",
       "        <tr>\n",
       "            <td>UC Davis        </td> <td>1905</td> <td>120 </td>\n",
       "        </tr>\n",
       "        <tr>\n",
       "            <td>UC Santa Barbara</td> <td>1944</td> <td>81  </td>\n",
       "        </tr>\n",
       "        <tr>\n",
       "            <td>UC Irvine       </td> <td>1965</td> <td>60  </td>\n",
       "        </tr>\n",
       "        <tr>\n",
       "            <td>UC Santa Cruz   </td> <td>1965</td> <td>60  </td>\n",
       "        </tr>\n",
       "        <tr>\n",
       "            <td>UC Riverside    </td> <td>1954</td> <td>71  </td>\n",
       "        </tr>\n",
       "    </tbody>\n",
       "</table>"
      ],
      "text/plain": [
       "name             | year | age\n",
       "UCLA             | 1919 | 106\n",
       "UC Berkeley      | 1868 | 157\n",
       "UC San Diego     | 1960 | 65\n",
       "UC Davis         | 1905 | 120\n",
       "UC Santa Barbara | 1944 | 81\n",
       "UC Irvine        | 1965 | 60\n",
       "UC Santa Cruz    | 1965 | 60\n",
       "UC Riverside     | 1954 | 71"
      ]
     },
     "execution_count": 96,
     "metadata": {},
     "output_type": "execute_result"
    }
   ],
   "source": [
    "oldestUCs = ucAges.where(\"age\",are.above_or_equal_to(ageOf7thOldestUC))\n",
    "oldestUCs"
   ]
  },
  {
   "cell_type": "markdown",
   "id": "575ec46f-b898-4654-b751-5d6cdf6855e9",
   "metadata": {},
   "source": [
    "Note that this is the right answer, but the data aren't sorted!   That's because the sort command returns a new table; it doesn't sort the existing one!  \n",
    "\n",
    "So after the first command, the ucAges table is still in the origial order.  If we want it to be sorted, we have to sort it again, like this:"
   ]
  },
  {
   "cell_type": "code",
   "execution_count": 99,
   "id": "ba920aa7-6200-4f0d-9444-f532eb13817d",
   "metadata": {},
   "outputs": [
    {
     "data": {
      "text/html": [
       "<table border=\"1\" class=\"dataframe\">\n",
       "    <thead>\n",
       "        <tr>\n",
       "            <th>name</th> <th>year</th> <th>age</th>\n",
       "        </tr>\n",
       "    </thead>\n",
       "    <tbody>\n",
       "        <tr>\n",
       "            <td>UC Berkeley     </td> <td>1868</td> <td>157 </td>\n",
       "        </tr>\n",
       "        <tr>\n",
       "            <td>UC Davis        </td> <td>1905</td> <td>120 </td>\n",
       "        </tr>\n",
       "        <tr>\n",
       "            <td>UCLA            </td> <td>1919</td> <td>106 </td>\n",
       "        </tr>\n",
       "        <tr>\n",
       "            <td>UC Santa Barbara</td> <td>1944</td> <td>81  </td>\n",
       "        </tr>\n",
       "        <tr>\n",
       "            <td>UC Riverside    </td> <td>1954</td> <td>71  </td>\n",
       "        </tr>\n",
       "        <tr>\n",
       "            <td>UC San Diego    </td> <td>1960</td> <td>65  </td>\n",
       "        </tr>\n",
       "        <tr>\n",
       "            <td>UC Irvine       </td> <td>1965</td> <td>60  </td>\n",
       "        </tr>\n",
       "        <tr>\n",
       "            <td>UC Santa Cruz   </td> <td>1965</td> <td>60  </td>\n",
       "        </tr>\n",
       "    </tbody>\n",
       "</table>"
      ],
      "text/plain": [
       "name             | year | age\n",
       "UC Berkeley      | 1868 | 157\n",
       "UC Davis         | 1905 | 120\n",
       "UCLA             | 1919 | 106\n",
       "UC Santa Barbara | 1944 | 81\n",
       "UC Riverside     | 1954 | 71\n",
       "UC San Diego     | 1960 | 65\n",
       "UC Irvine        | 1965 | 60\n",
       "UC Santa Cruz    | 1965 | 60"
      ]
     },
     "execution_count": 99,
     "metadata": {},
     "output_type": "execute_result"
    }
   ],
   "source": [
    "oldestUCs = ucAges.where(\"age\",are.above_or_equal_to(ageOf7thOldestUC)).sort(\"age\", descending=\"True\")\n",
    "oldestUCs"
   ]
  },
  {
   "cell_type": "markdown",
   "id": "0dcdc15e-3c94-475d-8340-efe55d50927a",
   "metadata": {},
   "source": [
    "### Extra material if time\n",
    "\n",
    "What we've covered above, should be enough for you to work on lab02\n",
    "\n",
    "So if we get this far before the end of lecture, we'll\n",
    "* Take questions\n",
    "* Give you a preview of lab02\n",
    "* Go through the examples in lab02"
   ]
  },
  {
   "cell_type": "code",
   "execution_count": null,
   "id": "cb6279ee-c865-4139-a0e7-2ec249b4d56c",
   "metadata": {},
   "outputs": [],
   "source": []
  }
 ],
 "metadata": {
  "kernelspec": {
   "display_name": "Python 3 (ipykernel)",
   "language": "python",
   "name": "python3"
  },
  "language_info": {
   "codemirror_mode": {
    "name": "ipython",
    "version": 3
   },
   "file_extension": ".py",
   "mimetype": "text/x-python",
   "name": "python",
   "nbconvert_exporter": "python",
   "pygments_lexer": "ipython3",
   "version": "3.12.9"
  }
 },
 "nbformat": 4,
 "nbformat_minor": 5
}
