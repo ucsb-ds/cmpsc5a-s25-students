{
  "nbformat": 4,
  "nbformat_minor": 0,
  "metadata": {
    "colab": {
      "provenance": []
    },
    "kernelspec": {
      "name": "python3",
      "display_name": "Python 3"
    },
    "language_info": {
      "name": "python"
    }
  },
  "cells": [
    {
      "cell_type": "code",
      "execution_count": null,
      "metadata": {
        "id": "hZN2fHoBhCK-",
        "colab": {
          "base_uri": "https://localhost:8080/"
        },
        "outputId": "06e5dcc2-2678-4c39-bc0a-6553818e7dc3"
      },
      "outputs": [
        {
          "output_type": "stream",
          "name": "stdout",
          "text": [
            "%%ai cells will not work in this notebook\n",
            "Please use Gemini for AI queries instead\n",
            "Mounted at /content/drive\n",
            "Retrieving folder contents\n",
            "Processing file 1hOMU36QJH-8E1xMqZqick7tdYPtRqXWc codes.csv\n",
            "Processing file 1-pQmPDnV44eDEVIOm_dglgktbO1ng7pe data_science_salaries_raw.csv\n",
            "Processing file 1Cl56p5ygZPsG_TdGagMpd2wxMAnsNUN0 ucsb-f25-courses.csv\n",
            "Processing file 1A6TJBGq7Fg5eO_4XrHgrRRM27RRxB6w7 ucsb-m25-courses.csv\n",
            "Processing file 1KqFgPgttI11ADhBdGWipQ4RaCyM7S8iZ ucsb-s25-courses.csv\n",
            "Processing file 1DHBdvECi_-cQtiJ1FZl4v_JfLgAMrauE world_happiness_2015.csv\n",
            "Processing file 10lU_ehl4CmZqXZ8Ow4tz_G4zHvB9kkwV world_happiness_2019.csv\n",
            "Processing file 17-CMnZGvqhCNc4_dzlS86njmmPWl_c2g world_university_rankings.csv\n",
            "Retrieving folder contents completed\n",
            "Building directory structure\n",
            "Building directory structure completed\n",
            "Downloading...\n",
            "From: https://drive.google.com/uc?id=1hOMU36QJH-8E1xMqZqick7tdYPtRqXWc\n",
            "To: /content/data/codes.csv\n",
            "100% 6.40k/6.40k [00:00<00:00, 15.4MB/s]\n",
            "Downloading...\n",
            "From: https://drive.google.com/uc?id=1-pQmPDnV44eDEVIOm_dglgktbO1ng7pe\n",
            "To: /content/data/data_science_salaries_raw.csv\n",
            "100% 388k/388k [00:00<00:00, 90.8MB/s]\n",
            "Downloading...\n",
            "From: https://drive.google.com/uc?id=1Cl56p5ygZPsG_TdGagMpd2wxMAnsNUN0\n",
            "To: /content/data/ucsb-f25-courses.csv\n",
            "100% 333k/333k [00:00<00:00, 120MB/s]\n",
            "Downloading...\n",
            "From: https://drive.google.com/uc?id=1A6TJBGq7Fg5eO_4XrHgrRRM27RRxB6w7\n",
            "To: /content/data/ucsb-m25-courses.csv\n",
            "100% 136k/136k [00:00<00:00, 66.4MB/s]\n",
            "Downloading...\n",
            "From: https://drive.google.com/uc?id=1KqFgPgttI11ADhBdGWipQ4RaCyM7S8iZ\n",
            "To: /content/data/ucsb-s25-courses.csv\n",
            "100% 467k/467k [00:00<00:00, 128MB/s]\n",
            "Downloading...\n",
            "From: https://drive.google.com/uc?id=1DHBdvECi_-cQtiJ1FZl4v_JfLgAMrauE\n",
            "To: /content/data/world_happiness_2015.csv\n",
            "100% 16.6k/16.6k [00:00<00:00, 33.1MB/s]\n",
            "Downloading...\n",
            "From: https://drive.google.com/uc?id=10lU_ehl4CmZqXZ8Ow4tz_G4zHvB9kkwV\n",
            "To: /content/data/world_happiness_2019.csv\n",
            "100% 8.82k/8.82k [00:00<00:00, 13.2MB/s]\n",
            "Downloading...\n",
            "From: https://drive.google.com/uc?id=17-CMnZGvqhCNc4_dzlS86njmmPWl_c2g\n",
            "To: /content/data/world_university_rankings.csv\n",
            "100% 64.5k/64.5k [00:00<00:00, 91.0MB/s]\n",
            "Download completed\n",
            "total 1408\n",
            "-rw-r--r-- 1 root root   6398 May  3 23:18 codes.csv\n",
            "-rw-r--r-- 1 root root 388472 May 12 01:18 data_science_salaries_raw.csv\n",
            "-rw-r--r-- 1 root root 333319 May  3 16:55 ucsb-f25-courses.csv\n",
            "-rw-r--r-- 1 root root 136234 May  3 16:55 ucsb-m25-courses.csv\n",
            "-rw-r--r-- 1 root root 467356 May  1 20:25 ucsb-s25-courses.csv\n",
            "-rw-r--r-- 1 root root  16557 May 12 18:04 world_happiness_2015.csv\n",
            "-rw-r--r-- 1 root root   8822 May 12 18:04 world_happiness_2019.csv\n",
            "-rw-r--r-- 1 root root  64532 May 27 08:29 world_university_rankings.csv\n"
          ]
        }
      ],
      "source": [
        "# Run this cell once when starting on notebook.\n",
        "# On Google Colab, wait for the Google Drive permission prompts before proceeding\n",
        "import matplotlib.pyplot as plt\n",
        "%matplotlib inline\n",
        "import os\n",
        "import sys\n",
        "try:\n",
        "    %load_ext jupyter_ai_magics\n",
        "except:\n",
        "    print(\"%%ai cells will not work in this notebook\")\n",
        "    print(\"Please use Gemini for AI queries instead\")\n",
        "from datascience import *\n",
        "import numpy as np\n",
        "import math\n",
        "\n",
        "DATA_FOLDER=\"data/\"\n",
        "try:\n",
        "  from google.colab import drive\n",
        "  drive.mount('/content/drive', force_remount=True)\n",
        "  !mkdir -p /content/data\n",
        "  !gdown --folder https://drive.google.com/drive/folders/1XifjqyxFHvjK6nOUi4doYsG12hGPhOcI?usp=drive_link -O /content/data\n",
        "  DATA_FOLDER = DATA_FOLDER.replace(\"data/\", \"/content/data/\")\n",
        "  !ls -l /content/data\n",
        "except:\n",
        "  print(\"Google Drive not mounted; this is normal on Jupyter Hub\")\n"
      ]
    },
    {
      "cell_type": "markdown",
      "source": [
        "# Lecture 18, CMPSC 5A, S25\n",
        "\n",
        "Thu 05/29/2025, Week 9\n",
        "\n",
        "Google Colab versions of lecture notebooks can be found in this folder:\n",
        "* <https://drive.google.com/drive/folders/1jS1Fa0BpGUVaijXwIYX0I21Un6XOGQM-?usp=sharing>\n",
        "\n",
        "Note that the Google Colab version will have any updates made during class, while the copy on Jupyter Hub may not.\n"
      ],
      "metadata": {
        "id": "mYtNl-6GhLX3"
      }
    },
    {
      "cell_type": "markdown",
      "source": [
        "\n",
        "## ic29 Participation Assignment\n",
        "\n",
        "TODO: Create this and link to it on Gradescope\n",
        "\n",
        "Just one today, on Gradescope as [ic29]()\n",
        "\n"
      ],
      "metadata": {
        "id": "mm3oaAvJkFRK"
      }
    },
    {
      "cell_type": "markdown",
      "source": [
        "\n",
        "# Where are we in the reading?\n",
        "\n",
        "By today, you should have finished reading:\n",
        "\n",
        "* [Chapter 1: What is Data Science](https://inferentialthinking.com/chapters/01/what-is-data-science.html)\n",
        "* [Chapter 2 Causality and Experiments](https://inferentialthinking.com/chapters/02/causality-and-experiments.html)\n",
        "* [Chapter 3: Programming in Python](https://inferentialthinking.com/chapters/03/programming-in-python.html)\n",
        "* [Chapter 4: Data Types](https://inferentialthinking.com/chapters/04/Data_Types.html)\n",
        "* [Chapter 5: Sequences](https://inferentialthinking.com/chapters/05/Sequences.html)\n",
        "* [Chapter 6: Tables](https://inferentialthinking.com/chapters/06/Tables.html)\n",
        "* [Chapter 7: Visualization](https://inferentialthinking.com/chapters/07/Visualization.html)\n",
        "* [Chapter 8: Functions and Tables (Intro)](https://inferentialthinking.com/chapters/08/Functions_and_Tables.html)\n",
        "* [Chapter 9: Randomness](https://inferentialthinking.com/chapters/09/Randomness.html)\n",
        "* [Chapter 10 (Sampling and Empirical Distributions)](https://inferentialthinking.com/chapters/10/Sampling_and_Empirical_Distributions.html)\n",
        "* [Chapter 11 (Testing Hypotheses, including p-values)](https://inferentialthinking.com/chapters/11/Testing_Hypotheses.html)\n",
        "* [Chapter 14 (intro, Why the Mean Matters)](https://inferentialthinking.com/chapters/14/Why_the_Mean_Matters.html)\n",
        "* [Section 14.1, (Properties of the Mean)](https://inferentialthinking.com/chapters/14/1/Properties_of_the_Mean.html)\n",
        "* [Section 14.2, (Variability)](https://inferentialthinking.com/chapters/14/2/Variability.html)\n",
        "* [Section 15.1, (Correlation)](https://inferentialthinking.com/chapters/15/1/Correlation.html)\n",
        "\n",
        "\n",
        "\n",
        "New Reading for Today Thursday (week 9, 05/29):\n",
        "* [Chapter 12 (Comparing Two Samples, including A/B testing)](https://inferentialthinking.com/chapters/11/Testing_Hypotheses.html)\n",
        "\n",
        "Unless I update you otherwise, this is all the reading for the quarter.\n",
        "\n"
      ],
      "metadata": {
        "id": "EHfRHuV6AEHA"
      }
    },
    {
      "cell_type": "markdown",
      "source": [
        "# Logistics"
      ],
      "metadata": {
        "id": "ZS682jw_r4g8"
      }
    },
    {
      "cell_type": "markdown",
      "source": [],
      "metadata": {
        "id": "L9ptxmezr_yX"
      }
    },
    {
      "cell_type": "markdown",
      "source": [
        "# A/B Testing"
      ],
      "metadata": {
        "id": "Y4auiIbLr_4C"
      }
    },
    {
      "cell_type": "markdown",
      "source": [
        "Now you will learn how to decide on whether two numerical samples come from the same underlying distribution!\n",
        "#### What is A/B testing?\n",
        "\n",
        "A/B testing is a statistical method used to compare two groups (Group A and Group B) to determine if there is a significant difference between them. It's commonly used in decision-making, such as testing changes in website design, product features, or marketing strategies.\n",
        "\n",
        "In A/B testing, the goal is to evaluate whether the differences between two groups are due to a real effect (alternative hypothesis) or just random chance (null hypothesis).\n",
        "\n",
        "#### How Does A/B Testing Work?\n",
        "\n",
        "1) Formulate hypotheses just like before!\n",
        "\n",
        "Null Hypothesis - The two groups come from the same underlying distribution and any observed differences are due to random chance.\n",
        "\n",
        "Alternative Hypothesis - The two groups come from different distributions, meaning there is a real difference between them.\n",
        "\n",
        "2) Then you collect your data!\n",
        "\n",
        "Gather numerical data from two groups (e.g., conversion rates, scores, or revenue). In our example below, its going to be means of the groups.\n",
        "\n",
        "3) Then you compare the groups!\n",
        "\n",
        "Compute a test statistic (e.g., the difference in means or medians) to summarize the difference between the groups.\n",
        "\n",
        "4) And simulate under the null hypothesis and visualize the results!\n",
        "\n",
        "Shuffle or resample the data to simulate what differences might look like if there were no true effect. This generates a null distribution. Plot the null distribution and locate the observed statistic (our red dot!). If the observed statistic is far from the bulk of the null distribution, it's evidence against the null hypothesis.\n",
        "\n",
        "5) Time to make a decision!\n",
        "\n",
        "Calculate the p-value - the probability of observing a difference as extreme as (or more extreme than) the observed difference, assuming the null hypothesis is true. Compare the p-value to a significance threshold (e.g., 0.05) to decide whether to reject the null hypothesis. See the section above for more on hypotheses testing, test statistic and p-value!"
      ],
      "metadata": {
        "id": "xMxGC53DsTdN"
      }
    },
    {
      "cell_type": "markdown",
      "source": [
        " You will conduct a new study. You aim to see whether the *research quality score* of all the universities is associated with their *overall score* being higher or lower than the average.\n",
        "\n",
        "For that, let’s first look at the distribution of the research quality scores of the universities that have overall scores that are higher than the average compared to the universities that have overall scores that are below the average."
      ],
      "metadata": {
        "id": "oUoT-KxqSZZp"
      }
    },
    {
      "cell_type": "code",
      "source": [
        "university_rankings = Table().read_table(\"data/world_university_rankings.csv\")\n",
        "university_rankings"
      ],
      "metadata": {
        "id": "D4vZBLAQTTUj",
        "colab": {
          "base_uri": "https://localhost:8080/",
          "height": 392
        },
        "outputId": "f20ad389-6296-48a4-ca90-c6c03fa01445"
      },
      "execution_count": null,
      "outputs": [
        {
          "output_type": "execute_result",
          "data": {
            "text/plain": [
              "rank | ranking-institution-title             | location       | Overall scores | Research Quality Score | Industry Score | International Outlook | Research Environment Score | Teaching Score\n",
              "1    | Massachusetts Institute of Technology | United States  | 94.8           | 92.2                   | 99.9           | 89.6                  | 96.5                       | 96\n",
              "2    | Stanford University                   | United States  | 93.1           | 91.9                   | 100            | 83.5                  | 91.8                       | 98.2\n",
              "3    | University of Oxford                  | United Kingdom | 91.3           | 81.7                   | 89.4           | 94.5                  | 97.4                       | 93.5\n",
              "4    | University of California, Berkeley    | United States  | 90.6           | 95.2                   | 90.6           | 83.5                  | 92.7                       | 91.1\n",
              "5    | Peking University                     | China          | 90.4           | 74.5                   | 95.4           | 94                    | 91.8                       | 96.3\n",
              "6    | Tsinghua University                   | China          | 89.6           | 82.5                   | 99.5           | 77.7                  | 95.2                       | 93.2\n",
              "7    | University of Cambridge               | United Kingdom | 89.4           | 86.6                   | 76.7           | 95.4                  | 94.6                       | 93.8\n",
              "8    | ETH Zurich                            | Switzerland    | 88.3           | 87.1                   | 99.5           | 96.4                  | 83.1                       | 75.2\n",
              "9    | Harvard University                    | United States  | 87.1           | 95.2                   | 69.8           | 82.1                  | 93.4                       | 95\n",
              "10   | National University of Singapore      | Singapore      | 86.8           | 79.7                   | 97.9           | 80.4                  | 95.9                       | 79.9\n",
              "... (900 rows omitted)"
            ],
            "text/html": [
              "<table border=\"1\" class=\"dataframe\">\n",
              "    <thead>\n",
              "        <tr>\n",
              "            <th>rank</th> <th>ranking-institution-title</th> <th>location</th> <th>Overall scores</th> <th>Research Quality Score</th> <th>Industry Score</th> <th>International Outlook</th> <th>Research Environment Score</th> <th>Teaching Score</th>\n",
              "        </tr>\n",
              "    </thead>\n",
              "    <tbody>\n",
              "        <tr>\n",
              "            <td>1   </td> <td>Massachusetts Institute of Technology</td> <td>United States </td> <td>94.8          </td> <td>92.2                  </td> <td>99.9          </td> <td>89.6                 </td> <td>96.5                      </td> <td>96            </td>\n",
              "        </tr>\n",
              "        <tr>\n",
              "            <td>2   </td> <td>Stanford University                  </td> <td>United States </td> <td>93.1          </td> <td>91.9                  </td> <td>100           </td> <td>83.5                 </td> <td>91.8                      </td> <td>98.2          </td>\n",
              "        </tr>\n",
              "        <tr>\n",
              "            <td>3   </td> <td>University of Oxford                 </td> <td>United Kingdom</td> <td>91.3          </td> <td>81.7                  </td> <td>89.4          </td> <td>94.5                 </td> <td>97.4                      </td> <td>93.5          </td>\n",
              "        </tr>\n",
              "        <tr>\n",
              "            <td>4   </td> <td>University of California, Berkeley   </td> <td>United States </td> <td>90.6          </td> <td>95.2                  </td> <td>90.6          </td> <td>83.5                 </td> <td>92.7                      </td> <td>91.1          </td>\n",
              "        </tr>\n",
              "        <tr>\n",
              "            <td>5   </td> <td>Peking University                    </td> <td>China         </td> <td>90.4          </td> <td>74.5                  </td> <td>95.4          </td> <td>94                   </td> <td>91.8                      </td> <td>96.3          </td>\n",
              "        </tr>\n",
              "        <tr>\n",
              "            <td>6   </td> <td>Tsinghua University                  </td> <td>China         </td> <td>89.6          </td> <td>82.5                  </td> <td>99.5          </td> <td>77.7                 </td> <td>95.2                      </td> <td>93.2          </td>\n",
              "        </tr>\n",
              "        <tr>\n",
              "            <td>7   </td> <td>University of Cambridge              </td> <td>United Kingdom</td> <td>89.4          </td> <td>86.6                  </td> <td>76.7          </td> <td>95.4                 </td> <td>94.6                      </td> <td>93.8          </td>\n",
              "        </tr>\n",
              "        <tr>\n",
              "            <td>8   </td> <td>ETH Zurich                           </td> <td>Switzerland   </td> <td>88.3          </td> <td>87.1                  </td> <td>99.5          </td> <td>96.4                 </td> <td>83.1                      </td> <td>75.2          </td>\n",
              "        </tr>\n",
              "        <tr>\n",
              "            <td>9   </td> <td>Harvard University                   </td> <td>United States </td> <td>87.1          </td> <td>95.2                  </td> <td>69.8          </td> <td>82.1                 </td> <td>93.4                      </td> <td>95            </td>\n",
              "        </tr>\n",
              "        <tr>\n",
              "            <td>10  </td> <td>National University of Singapore     </td> <td>Singapore     </td> <td>86.8          </td> <td>79.7                  </td> <td>97.9          </td> <td>80.4                 </td> <td>95.9                      </td> <td>79.9          </td>\n",
              "        </tr>\n",
              "    </tbody>\n",
              "</table>\n",
              "<p>... (900 rows omitted)</p>"
            ]
          },
          "metadata": {},
          "execution_count": 20
        }
      ]
    },
    {
      "cell_type": "code",
      "source": [
        "higher_than_average = university_rankings\\\n",
        "                                  .where('Research Quality Score', are.above(np.average(university_rankings.column('Overall scores'))))\n",
        "higher_than_average"
      ],
      "metadata": {
        "colab": {
          "base_uri": "https://localhost:8080/",
          "height": 392
        },
        "id": "Z_wxavBe4f22",
        "outputId": "83bd68a4-1624-4927-954e-830b1cd3af69"
      },
      "execution_count": null,
      "outputs": [
        {
          "output_type": "execute_result",
          "data": {
            "text/plain": [
              "rank | ranking-institution-title             | location       | Overall scores | Research Quality Score | Industry Score | International Outlook | Research Environment Score | Teaching Score\n",
              "1    | Massachusetts Institute of Technology | United States  | 94.8           | 92.2                   | 99.9           | 89.6                  | 96.5                       | 96\n",
              "2    | Stanford University                   | United States  | 93.1           | 91.9                   | 100            | 83.5                  | 91.8                       | 98.2\n",
              "3    | University of Oxford                  | United Kingdom | 91.3           | 81.7                   | 89.4           | 94.5                  | 97.4                       | 93.5\n",
              "4    | University of California, Berkeley    | United States  | 90.6           | 95.2                   | 90.6           | 83.5                  | 92.7                       | 91.1\n",
              "5    | Peking University                     | China          | 90.4           | 74.5                   | 95.4           | 94                    | 91.8                       | 96.3\n",
              "6    | Tsinghua University                   | China          | 89.6           | 82.5                   | 99.5           | 77.7                  | 95.2                       | 93.2\n",
              "7    | University of Cambridge               | United Kingdom | 89.4           | 86.6                   | 76.7           | 95.4                  | 94.6                       | 93.8\n",
              "8    | ETH Zurich                            | Switzerland    | 88.3           | 87.1                   | 99.5           | 96.4                  | 83.1                       | 75.2\n",
              "9    | Harvard University                    | United States  | 87.1           | 95.2                   | 69.8           | 82.1                  | 93.4                       | 95\n",
              "10   | National University of Singapore      | Singapore      | 86.8           | 79.7                   | 97.9           | 80.4                  | 95.9                       | 79.9\n",
              "... (707 rows omitted)"
            ],
            "text/html": [
              "<table border=\"1\" class=\"dataframe\">\n",
              "    <thead>\n",
              "        <tr>\n",
              "            <th>rank</th> <th>ranking-institution-title</th> <th>location</th> <th>Overall scores</th> <th>Research Quality Score</th> <th>Industry Score</th> <th>International Outlook</th> <th>Research Environment Score</th> <th>Teaching Score</th>\n",
              "        </tr>\n",
              "    </thead>\n",
              "    <tbody>\n",
              "        <tr>\n",
              "            <td>1   </td> <td>Massachusetts Institute of Technology</td> <td>United States </td> <td>94.8          </td> <td>92.2                  </td> <td>99.9          </td> <td>89.6                 </td> <td>96.5                      </td> <td>96            </td>\n",
              "        </tr>\n",
              "        <tr>\n",
              "            <td>2   </td> <td>Stanford University                  </td> <td>United States </td> <td>93.1          </td> <td>91.9                  </td> <td>100           </td> <td>83.5                 </td> <td>91.8                      </td> <td>98.2          </td>\n",
              "        </tr>\n",
              "        <tr>\n",
              "            <td>3   </td> <td>University of Oxford                 </td> <td>United Kingdom</td> <td>91.3          </td> <td>81.7                  </td> <td>89.4          </td> <td>94.5                 </td> <td>97.4                      </td> <td>93.5          </td>\n",
              "        </tr>\n",
              "        <tr>\n",
              "            <td>4   </td> <td>University of California, Berkeley   </td> <td>United States </td> <td>90.6          </td> <td>95.2                  </td> <td>90.6          </td> <td>83.5                 </td> <td>92.7                      </td> <td>91.1          </td>\n",
              "        </tr>\n",
              "        <tr>\n",
              "            <td>5   </td> <td>Peking University                    </td> <td>China         </td> <td>90.4          </td> <td>74.5                  </td> <td>95.4          </td> <td>94                   </td> <td>91.8                      </td> <td>96.3          </td>\n",
              "        </tr>\n",
              "        <tr>\n",
              "            <td>6   </td> <td>Tsinghua University                  </td> <td>China         </td> <td>89.6          </td> <td>82.5                  </td> <td>99.5          </td> <td>77.7                 </td> <td>95.2                      </td> <td>93.2          </td>\n",
              "        </tr>\n",
              "        <tr>\n",
              "            <td>7   </td> <td>University of Cambridge              </td> <td>United Kingdom</td> <td>89.4          </td> <td>86.6                  </td> <td>76.7          </td> <td>95.4                 </td> <td>94.6                      </td> <td>93.8          </td>\n",
              "        </tr>\n",
              "        <tr>\n",
              "            <td>8   </td> <td>ETH Zurich                           </td> <td>Switzerland   </td> <td>88.3          </td> <td>87.1                  </td> <td>99.5          </td> <td>96.4                 </td> <td>83.1                      </td> <td>75.2          </td>\n",
              "        </tr>\n",
              "        <tr>\n",
              "            <td>9   </td> <td>Harvard University                   </td> <td>United States </td> <td>87.1          </td> <td>95.2                  </td> <td>69.8          </td> <td>82.1                 </td> <td>93.4                      </td> <td>95            </td>\n",
              "        </tr>\n",
              "        <tr>\n",
              "            <td>10  </td> <td>National University of Singapore     </td> <td>Singapore     </td> <td>86.8          </td> <td>79.7                  </td> <td>97.9          </td> <td>80.4                 </td> <td>95.9                      </td> <td>79.9          </td>\n",
              "        </tr>\n",
              "    </tbody>\n",
              "</table>\n",
              "<p>... (707 rows omitted)</p>"
            ]
          },
          "metadata": {},
          "execution_count": 22
        }
      ]
    },
    {
      "cell_type": "code",
      "source": [
        "average_score = np.average(university_rankings.column('Overall scores'))\n",
        "\n",
        "# Filtering universities with scores higher than the average\n",
        "higher_than_average = university_rankings\\\n",
        "                          .where('Overall scores', are.above(average_score))\n",
        "\n",
        "# Counting the number of universities that meet the condition\n",
        "num_higher_than_average = higher_than_average.num_rows\n",
        "\n",
        "# Counting the number of non-American universities that don't meet the condition\n",
        "num_lower_than_average = university_rankings.num_rows - num_higher_than_average\n",
        "\n",
        "# Creating a new table to display the results\n",
        "result_table = Table().with_columns([\n",
        "    'Condition', ['Higher than Average', 'Lower than Average'],\n",
        "    'Count', [num_higher_than_average, num_lower_than_average]\n",
        "])\n",
        "result_table"
      ],
      "metadata": {
        "id": "5zHSDiPOvIHP",
        "colab": {
          "base_uri": "https://localhost:8080/",
          "height": 112
        },
        "outputId": "2a91c537-a977-4278-f369-ea8347aad6ef"
      },
      "execution_count": null,
      "outputs": [
        {
          "output_type": "execute_result",
          "data": {
            "text/plain": [
              "Condition           | Count\n",
              "Higher than Average | 429\n",
              "Lower than Average  | 481"
            ],
            "text/html": [
              "<table border=\"1\" class=\"dataframe\">\n",
              "    <thead>\n",
              "        <tr>\n",
              "            <th>Condition</th> <th>Count</th>\n",
              "        </tr>\n",
              "    </thead>\n",
              "    <tbody>\n",
              "        <tr>\n",
              "            <td>Higher than Average</td> <td>429  </td>\n",
              "        </tr>\n",
              "        <tr>\n",
              "            <td>Lower than Average </td> <td>481  </td>\n",
              "        </tr>\n",
              "    </tbody>\n",
              "</table>"
            ]
          },
          "metadata": {},
          "execution_count": 25
        }
      ]
    },
    {
      "cell_type": "code",
      "source": [
        "%matplotlib inline\n",
        "\n",
        "# Create a label between A and B group for our A/B test\n",
        "def check_average(val):\n",
        "    if val>np.average(university_rankings.column('Overall scores')):\n",
        "        return True\n",
        "    else:\n",
        "        return False\n",
        "\n",
        "# apply function to create label column\n",
        "university_subset = university_rankings\\\n",
        ".with_column(\"Higher\",university_rankings.apply(check_average,\"Overall scores\"))\n",
        "\n",
        "\n",
        "university_subset.group(\"Higher\")\n",
        "university_subset.hist('Research Quality Score', group = 'Higher')"
      ],
      "metadata": {
        "id": "DBuQF8d0Sxy4",
        "colab": {
          "base_uri": "https://localhost:8080/",
          "height": 394
        },
        "outputId": "2f9dff20-07c0-435a-a01b-2603d7d63080"
      },
      "execution_count": null,
      "outputs": [
        {
          "output_type": "display_data",
          "data": {
            "text/plain": [
              "<Figure size 600x400 with 1 Axes>"
            ],
            "image/png": "[encoded data removed]"
          },
          "metadata": {}
        }
      ]
    },
    {
      "cell_type": "markdown",
      "source": [
        "You can observe that even though there is some distance between the averages of the two distributions, there is a significant amount of overlap happening between the histograms. This raises the question of whether the difference reflects just chance or a difference in the distributions in the larger population of universities.\n",
        "\n",
        "Alright. It's time for another test hypothesis! Let's repeat the problem statement -\n",
        "#### What do we want to know?\n",
        "We want to know if universities with overall scores above average tend to have higher research quality scores than those with below-average scores. This is the alternative hypothesis. The null hypothesis states there is no relationship between these scores.\n",
        "\n",
        "Again, define your *null* and *alternative* hypotheses. As a *null* hypothesis you can assume that the two distributions are identical but the differences that we observed on the graph above are attributed to chance. As an *alternative* hypothesis you can assume that among all the universities, the ones that have an overall score above the average, have a higher research quality score while the ones that have an overall score below the average, have a lower research quality score.\n",
        "\n",
        "What's next? Of course, you need to define your test statistic. It would be reasonable for you to use the difference between the two group means as your statistic, right? Yes and that is because the alternative hypothesis compares the averages of the research quality score for the two groups of universities."
      ],
      "metadata": {
        "id": "7ahQrgJLZ3tT"
      }
    },
    {
      "cell_type": "code",
      "source": [
        "ave1=np.average(university_rankings.where('Overall scores', are.above(average_score)).column('Research Quality Score'))\n",
        "ave2=np.average(university_rankings.where('Overall scores', are.below(average_score)).column('Research Quality Score'))\n",
        "result_table = result_table.with_columns([\n",
        "    'Average', [ave1, ave2]\n",
        "])\n",
        "result_table"
      ],
      "metadata": {
        "id": "ZZOC88HeTU2H",
        "colab": {
          "base_uri": "https://localhost:8080/",
          "height": 112
        },
        "outputId": "84a45078-caa7-4951-f07e-eb4c943558f1"
      },
      "execution_count": null,
      "outputs": [
        {
          "output_type": "execute_result",
          "data": {
            "text/plain": [
              "Condition           | Count | Average\n",
              "Higher than Average | 429   | 73.6242\n",
              "Lower than Average  | 481   | 50.9807"
            ],
            "text/html": [
              "<table border=\"1\" class=\"dataframe\">\n",
              "    <thead>\n",
              "        <tr>\n",
              "            <th>Condition</th> <th>Count</th> <th>Average</th>\n",
              "        </tr>\n",
              "    </thead>\n",
              "    <tbody>\n",
              "        <tr>\n",
              "            <td>Higher than Average</td> <td>429  </td> <td>73.6242</td>\n",
              "        </tr>\n",
              "        <tr>\n",
              "            <td>Lower than Average </td> <td>481  </td> <td>50.9807</td>\n",
              "        </tr>\n",
              "    </tbody>\n",
              "</table>"
            ]
          },
          "metadata": {},
          "execution_count": 27
        }
      ]
    },
    {
      "cell_type": "code",
      "source": [
        "means = result_table.column(2)\n",
        "observed_difference = means.item(1) - means.item(0)\n",
        "observed_difference"
      ],
      "metadata": {
        "colab": {
          "base_uri": "https://localhost:8080/"
        },
        "id": "47IZKfz5Z51P",
        "outputId": "8c757bdd-4b09-4e90-be5f-225ec7825cf3"
      },
      "execution_count": null,
      "outputs": [
        {
          "output_type": "execute_result",
          "data": {
            "text/plain": [
              "-22.643577143577147"
            ]
          },
          "metadata": {},
          "execution_count": 28
        }
      ]
    },
    {
      "cell_type": "markdown",
      "source": [
        "#### Time to simulate!\n",
        "To test the null hypothesis, we will simulate (say, 5000 - this can be 10000 or 20000 or a big enough number you choose) random differences in group means. These values represent what we'd expect if there were no real relationship between overall score and research quality score. This is called the null distribution.\n",
        "\n",
        "How do we do that? We don't have any probability arrays here! Thankfully enough we have tests that are based on random permutations of the data and are called *permutation tests*. Permutation tests allow us to \"shuffle\" or \"permute\" the data labels (a column of interest) to generate a distribution of differences that would occur under the null hypothesis. In other words, we are going to randomly re-assign values in a column!"
      ],
      "metadata": {
        "id": "-tDITAy3aSpC"
      }
    },
    {
      "cell_type": "markdown",
      "source": [
        "The random permutation test is a statistical method used to assess the significance of an observed result by comparing it to a distribution of randomly permuted data. Here is how it works:\n",
        "\n",
        "1. Start with a dataset containing your observed measurements or values.\n",
        "\n",
        "2. Identify the specific statistic or measure that you want to test. It could be a mean, median, correlation coefficient, or any other relevant measure.\n",
        "\n",
        "3. Randomly shuffle (permute) the values of your dataset, while keeping the associations between variables intact. For example, if you have two variables X and Y, make sure that the X and Y values remain paired in the permuted dataset.\n",
        "\n",
        "4. Calculate the statistic of interest (e.g., mean, median) using the permuted dataset.\n",
        "\n",
        "5. Repeat steps 3 and 4 a large number of times (e.g., 1000) to create a distribution of statistics generated from randomly permuted data.\n",
        "\n",
        "6. Compare the observed statistic (from step 2) with the distribution of permuted statistics. Determine the proportion of permuted statistics that are more extreme than the observed statistic.\n",
        "\n",
        "7. This proportion represents the p-value, which tells you the likelihood of obtaining a statistic as extreme as the observed one by chance alone. A smaller p-value indicates stronger evidence against the null hypothesis (i.e., that there is no significant effect or relationship).\n",
        "\n",
        "By using random permutations, the test allows you to generate a null distribution under the assumption of no effect, enabling you to assess the significance of your observed result in a robust and unbiased manner.\n",
        "\n",
        "An implementation will help.\n",
        "\n",
        "First you are going to need a function that computes the difference between the means."
      ],
      "metadata": {
        "id": "IHUlzeQ2aVpI"
      }
    },
    {
      "cell_type": "code",
      "source": [
        "def difference_of_means(table, group_label):\n",
        "\n",
        "    # Prune the table to reduce computational load\n",
        "    reduced = table.select('Research Quality Score', group_label)\n",
        "\n",
        "    # group based off Group A or Group B that have been randomly selected\n",
        "    means_table = reduced.group(group_label, np.average)\n",
        "\n",
        "    # Compute difference in mean Research Quality Score between group A and B\n",
        "    means = means_table.column(1)\n",
        "    return means.item(1) - means.item(0)"
      ],
      "metadata": {
        "id": "YwthQymqalmI"
      },
      "execution_count": null,
      "outputs": []
    },
    {
      "cell_type": "code",
      "source": [
        "university_reduced = university_rankings.with_column(\"Higher\",university_rankings.apply(check_average,\"Overall scores\")).select(\"ranking-institution-title\",'Higher','Research Quality Score')\n",
        "university_reduced"
      ],
      "metadata": {
        "id": "UZ39JQzCZ8Ob",
        "colab": {
          "base_uri": "https://localhost:8080/",
          "height": 392
        },
        "outputId": "4e31f53a-3b31-4c55-fb3f-c8239842a4e3"
      },
      "execution_count": null,
      "outputs": [
        {
          "output_type": "execute_result",
          "data": {
            "text/plain": [
              "ranking-institution-title             | Higher | Research Quality Score\n",
              "Massachusetts Institute of Technology | True   | 92.2\n",
              "Stanford University                   | True   | 91.9\n",
              "University of Oxford                  | True   | 81.7\n",
              "University of California, Berkeley    | True   | 95.2\n",
              "Peking University                     | True   | 74.5\n",
              "Tsinghua University                   | True   | 82.5\n",
              "University of Cambridge               | True   | 86.6\n",
              "ETH Zurich                            | True   | 87.1\n",
              "Harvard University                    | True   | 95.2\n",
              "National University of Singapore      | True   | 79.7\n",
              "... (900 rows omitted)"
            ],
            "text/html": [
              "<table border=\"1\" class=\"dataframe\">\n",
              "    <thead>\n",
              "        <tr>\n",
              "            <th>ranking-institution-title</th> <th>Higher</th> <th>Research Quality Score</th>\n",
              "        </tr>\n",
              "    </thead>\n",
              "    <tbody>\n",
              "        <tr>\n",
              "            <td>Massachusetts Institute of Technology</td> <td>True  </td> <td>92.2                  </td>\n",
              "        </tr>\n",
              "        <tr>\n",
              "            <td>Stanford University                  </td> <td>True  </td> <td>91.9                  </td>\n",
              "        </tr>\n",
              "        <tr>\n",
              "            <td>University of Oxford                 </td> <td>True  </td> <td>81.7                  </td>\n",
              "        </tr>\n",
              "        <tr>\n",
              "            <td>University of California, Berkeley   </td> <td>True  </td> <td>95.2                  </td>\n",
              "        </tr>\n",
              "        <tr>\n",
              "            <td>Peking University                    </td> <td>True  </td> <td>74.5                  </td>\n",
              "        </tr>\n",
              "        <tr>\n",
              "            <td>Tsinghua University                  </td> <td>True  </td> <td>82.5                  </td>\n",
              "        </tr>\n",
              "        <tr>\n",
              "            <td>University of Cambridge              </td> <td>True  </td> <td>86.6                  </td>\n",
              "        </tr>\n",
              "        <tr>\n",
              "            <td>ETH Zurich                           </td> <td>True  </td> <td>87.1                  </td>\n",
              "        </tr>\n",
              "        <tr>\n",
              "            <td>Harvard University                   </td> <td>True  </td> <td>95.2                  </td>\n",
              "        </tr>\n",
              "        <tr>\n",
              "            <td>National University of Singapore     </td> <td>True  </td> <td>79.7                  </td>\n",
              "        </tr>\n",
              "    </tbody>\n",
              "</table>\n",
              "<p>... (900 rows omitted)</p>"
            ]
          },
          "metadata": {},
          "execution_count": 29
        }
      ]
    },
    {
      "cell_type": "code",
      "source": [
        "shuffled_labels = university_reduced.sample(with_replacement = False).column(1)\n",
        "original_and_shuffled = university_reduced.with_column('Shuffled Label', shuffled_labels)\n",
        "original_and_shuffled"
      ],
      "metadata": {
        "id": "PsxjsT5panb9",
        "colab": {
          "base_uri": "https://localhost:8080/",
          "height": 392
        },
        "outputId": "0b6aeb71-0607-4d1f-9304-592a625024ee"
      },
      "execution_count": null,
      "outputs": [
        {
          "output_type": "execute_result",
          "data": {
            "text/plain": [
              "ranking-institution-title             | Higher | Research Quality Score | Shuffled Label\n",
              "Massachusetts Institute of Technology | True   | 92.2                   | True\n",
              "Stanford University                   | True   | 91.9                   | True\n",
              "University of Oxford                  | True   | 81.7                   | False\n",
              "University of California, Berkeley    | True   | 95.2                   | True\n",
              "Peking University                     | True   | 74.5                   | False\n",
              "Tsinghua University                   | True   | 82.5                   | False\n",
              "University of Cambridge               | True   | 86.6                   | True\n",
              "ETH Zurich                            | True   | 87.1                   | False\n",
              "Harvard University                    | True   | 95.2                   | True\n",
              "National University of Singapore      | True   | 79.7                   | False\n",
              "... (900 rows omitted)"
            ],
            "text/html": [
              "<table border=\"1\" class=\"dataframe\">\n",
              "    <thead>\n",
              "        <tr>\n",
              "            <th>ranking-institution-title</th> <th>Higher</th> <th>Research Quality Score</th> <th>Shuffled Label</th>\n",
              "        </tr>\n",
              "    </thead>\n",
              "    <tbody>\n",
              "        <tr>\n",
              "            <td>Massachusetts Institute of Technology</td> <td>True  </td> <td>92.2                  </td> <td>True          </td>\n",
              "        </tr>\n",
              "        <tr>\n",
              "            <td>Stanford University                  </td> <td>True  </td> <td>91.9                  </td> <td>True          </td>\n",
              "        </tr>\n",
              "        <tr>\n",
              "            <td>University of Oxford                 </td> <td>True  </td> <td>81.7                  </td> <td>False         </td>\n",
              "        </tr>\n",
              "        <tr>\n",
              "            <td>University of California, Berkeley   </td> <td>True  </td> <td>95.2                  </td> <td>True          </td>\n",
              "        </tr>\n",
              "        <tr>\n",
              "            <td>Peking University                    </td> <td>True  </td> <td>74.5                  </td> <td>False         </td>\n",
              "        </tr>\n",
              "        <tr>\n",
              "            <td>Tsinghua University                  </td> <td>True  </td> <td>82.5                  </td> <td>False         </td>\n",
              "        </tr>\n",
              "        <tr>\n",
              "            <td>University of Cambridge              </td> <td>True  </td> <td>86.6                  </td> <td>True          </td>\n",
              "        </tr>\n",
              "        <tr>\n",
              "            <td>ETH Zurich                           </td> <td>True  </td> <td>87.1                  </td> <td>False         </td>\n",
              "        </tr>\n",
              "        <tr>\n",
              "            <td>Harvard University                   </td> <td>True  </td> <td>95.2                  </td> <td>True          </td>\n",
              "        </tr>\n",
              "        <tr>\n",
              "            <td>National University of Singapore     </td> <td>True  </td> <td>79.7                  </td> <td>False         </td>\n",
              "        </tr>\n",
              "    </tbody>\n",
              "</table>\n",
              "<p>... (900 rows omitted)</p>"
            ]
          },
          "metadata": {},
          "execution_count": 35
        }
      ]
    },
    {
      "cell_type": "markdown",
      "source": [
        "Now you need to calcualte the distance between the averages of the suffled groups. So let's put your `difference_of_means` function into use. Eventually, you will need to compare that with the original groups."
      ],
      "metadata": {
        "id": "V5CRb5UnasDc"
      }
    },
    {
      "cell_type": "code",
      "source": [
        "shuffled_only = original_and_shuffled.select('Research Quality Score','Shuffled Label')\n",
        "shuffled_group_means = shuffled_only.group('Shuffled Label', np.average)\n",
        "shuffled_group_means\n",
        "difference_of_means(original_and_shuffled, 'Shuffled Label')"
      ],
      "metadata": {
        "id": "D908poySapNI",
        "colab": {
          "base_uri": "https://localhost:8080/"
        },
        "outputId": "610e7f94-c6c9-4cbf-c18c-d592fe281f74"
      },
      "execution_count": null,
      "outputs": [
        {
          "output_type": "execute_result",
          "data": {
            "text/plain": [
              "0.8383103383103432"
            ]
          },
          "metadata": {},
          "execution_count": 36
        }
      ]
    },
    {
      "cell_type": "markdown",
      "source": [
        "Now for your convenience let's put everything under a single function!"
      ],
      "metadata": {
        "id": "v5QO6l6aayNT"
      }
    },
    {
      "cell_type": "code",
      "source": [
        "def one_simulated_difference_of_means():\n",
        "    # array of shuffled labels\n",
        "    shuffled_labels = university_reduced.sample(with_replacement=False).column('Higher')\n",
        "\n",
        "    # table of original and shuffled labels\n",
        "    shuffled_table = university_reduced.select('Research Quality Score').with_column(\n",
        "        'Shuffled Label', shuffled_labels)\n",
        "\n",
        "    return difference_of_means(shuffled_table, 'Shuffled Label')\n",
        "\n",
        "one_simulated_difference_of_means()"
      ],
      "metadata": {
        "id": "ROZAFuoKau1Z",
        "colab": {
          "base_uri": "https://localhost:8080/"
        },
        "outputId": "ee71794f-0a9e-4122-ebec-7cc7d641e508"
      },
      "execution_count": null,
      "outputs": [
        {
          "output_type": "execute_result",
          "data": {
            "text/plain": [
              "0.13138663138662565"
            ]
          },
          "metadata": {},
          "execution_count": 39
        }
      ]
    },
    {
      "cell_type": "markdown",
      "source": [
        "It is now time to run some permutation test! For that you will need a `for` loop to be able to execute the function you built above multiple times."
      ],
      "metadata": {
        "id": "52RDMuNda3dv"
      }
    },
    {
      "cell_type": "code",
      "source": [
        "differences = make_array()\n",
        "\n",
        "repetitions = 10000\n",
        "for i in np.arange(repetitions):\n",
        "    new_difference = one_simulated_difference_of_means()\n",
        "    differences = np.append(differences, new_difference)"
      ],
      "metadata": {
        "id": "ZcrEglxnaz6L"
      },
      "execution_count": null,
      "outputs": []
    },
    {
      "cell_type": "markdown",
      "source": [
        "Finally, to draw any meaningfull conclusions, you will need to plot the histogram that shows the distribution of these 5,000 values. By now you should know how.\n",
        "\n",
        "Make sure you don't forget to plot the observed statistic as well!"
      ],
      "metadata": {
        "id": "grjYTQNga741"
      }
    },
    {
      "cell_type": "code",
      "source": [
        "Table().with_column('Difference Between Group Means', differences).hist()\n",
        "print('Observed Difference:', observed_difference)\n",
        "plt.title('Prediction Under the Null Hypothesis');\n",
        "plt.ylim(-0.02, 0.5)\n",
        "plt.scatter(observed_difference, 0, color='red', s=40);"
      ],
      "metadata": {
        "id": "X7FdfOW_a80R",
        "colab": {
          "base_uri": "https://localhost:8080/",
          "height": 433
        },
        "outputId": "e7632497-4c20-4b2e-99bc-7894728063a6"
      },
      "execution_count": null,
      "outputs": [
        {
          "output_type": "stream",
          "name": "stdout",
          "text": [
            "Observed Difference: -22.643577143577147\n"
          ]
        },
        {
          "output_type": "display_data",
          "data": {
            "text/plain": [
              "<Figure size 600x400 with 1 Axes>"
            ],
            "image/png": "[encoded data removed]"
          },
          "metadata": {}
        }
      ]
    },
    {
      "cell_type": "markdown",
      "source": [
        "You could calculate the p-value but let's be honest, the observed difference is so far from the mean that we could safely conclude to the fact that based on the test results data favor the alternative over the null hypothesis (you can assume that among all the universities, the ones that have an overall score above the average, have a higher research quality score while the ones that have an overall score below the average, have a lower research quality score)."
      ],
      "metadata": {
        "id": "o-n0500tbLRW"
      }
    }
  ]
}