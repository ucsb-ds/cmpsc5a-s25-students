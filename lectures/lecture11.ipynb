{
 "cells": [
  {
   "cell_type": "code",
   "execution_count": null,
   "metadata": {
    "colab": {
     "base_uri": "https://localhost:8080/"
    },
    "id": "hZN2fHoBhCK-",
    "outputId": "610d4594-929e-486c-c0c4-ca00ba202f18"
   },
   "outputs": [
    {
     "name": "stdout",
     "output_type": "stream",
     "text": [
      "%%ai cells will not work in this notebook\n",
      "Please use Gemini for AI queries instead\n",
      "Mounted at /content/drive\n",
      "Retrieving folder contents\n",
      "Processing file 1hOMU36QJH-8E1xMqZqick7tdYPtRqXWc codes.csv\n",
      "Processing file 1Cl56p5ygZPsG_TdGagMpd2wxMAnsNUN0 ucsb-f25-courses.csv\n",
      "Processing file 1A6TJBGq7Fg5eO_4XrHgrRRM27RRxB6w7 ucsb-m25-courses.csv\n",
      "Processing file 1KqFgPgttI11ADhBdGWipQ4RaCyM7S8iZ ucsb-s25-courses.csv\n",
      "Retrieving folder contents completed\n",
      "Building directory structure\n",
      "Building directory structure completed\n",
      "Downloading...\n",
      "From: https://drive.google.com/uc?id=1hOMU36QJH-8E1xMqZqick7tdYPtRqXWc\n",
      "To: /content/data/codes.csv\n",
      "100% 6.40k/6.40k [00:00<00:00, 19.2MB/s]\n",
      "Downloading...\n",
      "From: https://drive.google.com/uc?id=1Cl56p5ygZPsG_TdGagMpd2wxMAnsNUN0\n",
      "To: /content/data/ucsb-f25-courses.csv\n",
      "100% 333k/333k [00:00<00:00, 116MB/s]\n",
      "Downloading...\n",
      "From: https://drive.google.com/uc?id=1A6TJBGq7Fg5eO_4XrHgrRRM27RRxB6w7\n",
      "To: /content/data/ucsb-m25-courses.csv\n",
      "100% 136k/136k [00:00<00:00, 72.1MB/s]\n",
      "Downloading...\n",
      "From: https://drive.google.com/uc?id=1KqFgPgttI11ADhBdGWipQ4RaCyM7S8iZ\n",
      "To: /content/data/ucsb-s25-courses.csv\n",
      "100% 467k/467k [00:00<00:00, 84.6MB/s]\n",
      "Download completed\n",
      "total 932\n",
      "-rw-r--r-- 1 root root   6398 May  3 23:18 codes.csv\n",
      "-rw-r--r-- 1 root root 333319 May  3 16:55 ucsb-f25-courses.csv\n",
      "-rw-r--r-- 1 root root 136234 May  3 16:55 ucsb-m25-courses.csv\n",
      "-rw-r--r-- 1 root root 467356 May  1 20:25 ucsb-s25-courses.csv\n"
     ]
    }
   ],
   "source": [
    "# Run this cell once when starting on notebook.\n",
    "# On Google Colab, wait for the Google Drive permission prompts before proceeding\n",
    "import matplotlib.pyplot as plt\n",
    "%matplotlib inline\n",
    "import os\n",
    "import sys\n",
    "try:\n",
    "    %load_ext jupyter_ai_magics\n",
    "except:\n",
    "    print(\"%%ai cells will not work in this notebook\")\n",
    "    print(\"Please use Gemini for AI queries instead\")\n",
    "from datascience import *\n",
    "import numpy as np\n",
    "import math\n",
    "\n",
    "DATA_FOLDER=\"data/\"\n",
    "try:\n",
    "  from google.colab import drive\n",
    "  drive.mount('/content/drive', force_remount=True)\n",
    "  !mkdir -p /content/data\n",
    "  !gdown --folder https://drive.google.com/drive/folders/1XifjqyxFHvjK6nOUi4doYsG12hGPhOcI?usp=drive_link -O /content/data\n",
    "  DATA_FOLDER = DATA_FOLDER.replace(\"data/\", \"/content/data/\")\n",
    "  !ls -l /content/data\n",
    "except:\n",
    "  print(\"Google Drive not mounted; this is normal on Jupyter Hub\")\n"
   ]
  },
  {
   "cell_type": "markdown",
   "metadata": {
    "id": "mYtNl-6GhLX3"
   },
   "source": [
    "# Lecture 11a, CMPSC 5A, S25\n",
    "\n",
    "Tue 05/06/2025, Week 6\n"
   ]
  },
  {
   "cell_type": "markdown",
   "metadata": {
    "id": "EQbVKOcXkGRo"
   },
   "source": [
    "# Midterm Project\n",
    "\n",
    "We'll first go over the midterm project.\n",
    "\n",
    "This is the document we'll review:\n",
    "\n",
    "* [General Instructions, CS5A S25 Midterm](https://docs.google.com/document/d/1gYMuXukOTtJkEthxUeHmWuA1Qn9BtIYkSJa37Gb524E/edit?usp=sharing)\n",
    "\n"
   ]
  },
  {
   "cell_type": "markdown",
   "metadata": {
    "id": "mm3oaAvJkFRK"
   },
   "source": [
    "\n",
    "## ic17, ic18 Participation Assignments\n",
    "\n",
    "There are two participation assignments today\n",
    "* ic17 is [here on Canvas](https://ucsb.instructure.com/courses/25658/assignments/361251) and is simple:\n",
    "  * Check which [Midterm group](https://ucsb.instructure.com/courses/25658/groups#tab-22640) you are a part of (that link takes you to Canvas where you can see which group you joined).\n",
    "  * Find your group chat in [this spreadsheet](https://docs.google.com/spreadsheets/d/1oLPWP0j1jvx7eLq7kcQc15PiSDUwjlnZAolUVSHWBOQ/edit?gid=1128224438#gid=1128224438)\n",
    "  * Finally decided as a group which of the three projects you'll work on: Exoplanets, Life Expectancy, or Titanic\n",
    "  * One person per group, [submit that answer on Canvas for ic17](https://ucsb.instructure.com/courses/25658/assignments/361251) on behalf of the group.\n",
    "  * Each group member double check to see that they submission was made on their behalf.\n",
    "\n",
    "* ic18 is [on Gradescope, here](https://www.gradescope.com/courses/1014383/assignments/6202066/)\n",
    "  * ic18 should be done after ic17, since you need to commit to one of the three projects first.\n",
    "  * For ic18, you just need to click to indicate you are here (70%), then answer three short questions.\n",
    "\n"
   ]
  },
  {
   "cell_type": "markdown",
   "metadata": {
    "id": "EHfRHuV6AEHA"
   },
   "source": [
    "\n",
    "# Where are we in the reading?\n",
    "\n",
    "By today, you should have finished reading:\n",
    "\n",
    "* [Chapter 1: What is Data Science](https://inferentialthinking.com/chapters/01/what-is-data-science.html)\n",
    "* [Chapter 2 Causality and Experiments](https://inferentialthinking.com/chapters/02/causality-and-experiments.html)\n",
    "* [Chapter 3: Programming in Python](https://inferentialthinking.com/chapters/03/programming-in-python.html)\n",
    "* [Chapter 4: Data Types](https://inferentialthinking.com/chapters/04/Data_Types.html)\n",
    "* [Chapter 5: Sequences](https://inferentialthinking.com/chapters/05/Sequences.html)\n",
    "* [Chapter 6: Tables](https://inferentialthinking.com/chapters/06/Tables.html)\n",
    "* [Chapter 7: Visualization](https://inferentialthinking.com/chapters/07/Visualization.html)\n",
    "* [Chapter 8: Functions and Tables (Intro)](https://inferentialthinking.com/chapters/08/Functions_and_Tables.html)\n",
    "* [Section 8.1: (Applying a Function to a Column)](https://inferentialthinking.com/chapters/08/1/Applying_a_Function_to_a_Column.html)\n",
    "\n",
    "New Reading for Thursday 05/08 (Week 6)\n",
    "\n",
    "* [Section 8.2: (Classifying By One Variable)](https://inferentialthinking.com/chapters/08/2/Classifying_by_One_Variable.html) - This is about using `group`\n",
    "* [Section 8.3: (Cross Classifying)](https://inferentialthinking.com/chapters/08/3/Cross-Classifying_by_More_than_One_Variable.html) - This is about using `group` with two variables, and using `pivot`\n",
    "* [Section 8.4: (Joining Tables)](https://inferentialthinking.com/chapters/08/4/Joining_Tables_by_Columns.html#) - This is about using `join`\n",
    "* [Section 8.5: (Bike Sharing in the Bay Area)](https://inferentialthinking.com/chapters/08/5/Bike_Sharing_in_the_Bay_Area.html) - This introduces mapping (as in putting things on maps via latitude and longitude)\n",
    "\n",
    "New Reading for Next Tuesday (week 7, 05/13)\n",
    "\n",
    "* First part of [Chapter 9](https://inferentialthinking.com/chapters/09/Randomness.html#)\n",
    "  * [Chapter 9 (intro)](https://inferentialthinking.com/chapters/09/Randomness.html#) - Booleans (`True`, `False`) and comparisons\n",
    "  * [Section 9.1 (Conditional Statements)](https://inferentialthinking.com/chapters/09/1/Conditional_Statements.html#) - `if`/`elif`/`else`\n",
    "  * [Section 9.2 (Iteration)](https://inferentialthinking.com/chapters/09/2/Iteration.html) - loops, for loops, \"augmenting arrays\" (the *accumulator pattern*)\n",
    "\n",
    "New Reading for Next Thursday (week 7, 05/15)\n",
    "\n",
    "* Second part of [Chapter 9](https://inferentialthinking.com/chapters/09/Randomness.html#)\n",
    "  * [Section 9.3 (Simulation)](https://inferentialthinking.com/chapters/09/3/Simulation.html)\n",
    "  * [Section 9.4 (The Monty Hall Problem)](https://inferentialthinking.com/chapters/09/4/Monty_Hall_Problem.html)\n",
    "  * [Section 9.5 (Finding Probabilities)](https://inferentialthinking.com/chapters/09/5/Finding_Probabilities.html)\n",
    "\n",
    "\n"
   ]
  },
  {
   "cell_type": "markdown",
   "metadata": {
    "id": "IDQw978xiBOP"
   },
   "source": [
    "## Setting up our course table\n",
    "\n",
    "These first few cells are just setting up our course table with the usual columns so that we can use it as an example."
   ]
  },
  {
   "cell_type": "code",
   "execution_count": null,
   "metadata": {
    "id": "SiB_QHMAiDDL"
   },
   "outputs": [],
   "source": [
    "courseTable = Table.read_table(DATA_FOLDER + \"ucsb-s25-courses.csv\")"
   ]
  },
  {
   "cell_type": "code",
   "execution_count": null,
   "metadata": {
    "id": "icH_eRNiiC7y"
   },
   "outputs": [],
   "source": [
    "def courseIdToDept(courseId):\n",
    "    return courseId[0:8].strip()\n",
    "\n",
    "def courseIdToCourseNum(courseId):\n",
    "    return courseId[8:13].strip()\n",
    "\n",
    "def courseIdToSuffix(courseId):\n",
    "    return courseId[14:].strip()\n",
    "\n",
    "def isLecture(sectionNum):\n",
    "    # if section number is divisible by 100, it's a lecture\n",
    "    return sectionNum % 100 == 0\n",
    "\n",
    "# Developed in lecture10\n",
    "def courseIdToLevel(courseId):\n",
    "  character8 = courseId[8]\n",
    "  if character8 == \" \":\n",
    "    return \"L\" # lower division\n",
    "  elif character8 == \"1\":\n",
    "    return \"U\" # upper division\n",
    "  else:\n",
    "    return \"G\" # grad"
   ]
  },
  {
   "cell_type": "code",
   "execution_count": null,
   "metadata": {
    "id": "1gZUvwC7iCzB"
   },
   "outputs": [],
   "source": [
    "courses = courseTable.with_columns(\n",
    "    \"dept\", courseTable.apply(courseIdToDept, 0),\n",
    "    \"courseNum\", courseTable.apply(courseIdToCourseNum, 0),\n",
    "    \"suffix\", courseTable.apply(courseIdToSuffix, 0),\n",
    "    \"isLecture\", courseTable.apply(isLecture, \"SECTION\"),\n",
    "    \"level\", courseTable.apply(courseIdToLevel, \"COURSEID\")\n",
    ")\n"
   ]
  },
  {
   "cell_type": "code",
   "execution_count": null,
   "metadata": {
    "id": "S7U2JORwiCnR"
   },
   "outputs": [],
   "source": [
    "csLectures = courses \\\n",
    "   .where(\"dept\",are.equal_to(\"CMPSC\")) \\\n",
    "   .where(\"isLecture\",are.equal_to(True)) \\\n",
    "   .where(\"STATUS\",are.not_equal_to(\"Closed\"))"
   ]
  },
  {
   "cell_type": "markdown",
   "metadata": {
    "id": "o7Fljr8ptQ5S"
   },
   "source": [
    "# Table Tasks\n",
    "* Get the names of the columns: table.labels\n",
    "* Get only *some* of the columns: `table.select(...)`\n",
    "* Get only *some* of the rows:\n",
    "  - By row number: `table.take(...)`\n",
    "  - By criteria: `table.where('column', are....)`\n"
   ]
  },
  {
   "cell_type": "markdown",
   "metadata": {
    "id": "hPsqmhARjBLG"
   },
   "source": []
  },
  {
   "cell_type": "code",
   "execution_count": null,
   "metadata": {
    "colab": {
     "base_uri": "https://localhost:8080/",
     "height": 392
    },
    "id": "Gfb1JdK4jBde",
    "outputId": "ada16094-56d4-4e36-893e-5c3408305a8b"
   },
   "outputs": [
    {
     "data": {
      "text/html": [
       "<table border=\"1\" class=\"dataframe\">\n",
       "    <thead>\n",
       "        <tr>\n",
       "            <th>COURSEID</th> <th>ENROLLED</th> <th>GES</th> <th>INSTRUCTOR</th> <th>MAXENROLL</th> <th>QUARTER</th> <th>SECTION</th> <th>STATUS</th> <th>dept</th> <th>courseNum</th> <th>suffix</th> <th>isLecture</th> <th>level</th>\n",
       "        </tr>\n",
       "    </thead>\n",
       "    <tbody>\n",
       "        <tr>\n",
       "            <td>CMPSC     5A -1</td> <td>128     </td> <td>C (L&S), QNT (L&S)</td> <td>CONRAD P T</td> <td>150      </td> <td>20252  </td> <td>100    </td> <td>nan   </td> <td>CMPSC</td> <td>5A       </td> <td>1     </td> <td>True     </td> <td>L    </td>\n",
       "        </tr>\n",
       "        <tr>\n",
       "            <td>CMPSC     5A -1</td> <td>23      </td> <td>C (L&S), QNT (L&S)</td> <td>nan       </td> <td>30       </td> <td>20252  </td> <td>101    </td> <td>nan   </td> <td>CMPSC</td> <td>5A       </td> <td>1     </td> <td>False    </td> <td>L    </td>\n",
       "        </tr>\n",
       "        <tr>\n",
       "            <td>CMPSC     5A -1</td> <td>26      </td> <td>C (L&S), QNT (L&S)</td> <td>nan       </td> <td>30       </td> <td>20252  </td> <td>102    </td> <td>nan   </td> <td>CMPSC</td> <td>5A       </td> <td>1     </td> <td>False    </td> <td>L    </td>\n",
       "        </tr>\n",
       "        <tr>\n",
       "            <td>CMPSC     5A -1</td> <td>30      </td> <td>C (L&S), QNT (L&S)</td> <td>nan       </td> <td>30       </td> <td>20252  </td> <td>103    </td> <td>nan   </td> <td>CMPSC</td> <td>5A       </td> <td>1     </td> <td>False    </td> <td>L    </td>\n",
       "        </tr>\n",
       "        <tr>\n",
       "            <td>CMPSC     5A -1</td> <td>25      </td> <td>C (L&S), QNT (L&S)</td> <td>nan       </td> <td>30       </td> <td>20252  </td> <td>104    </td> <td>nan   </td> <td>CMPSC</td> <td>5A       </td> <td>1     </td> <td>False    </td> <td>L    </td>\n",
       "        </tr>\n",
       "        <tr>\n",
       "            <td>CMPSC     5A -1</td> <td>24      </td> <td>C (L&S), QNT (L&S)</td> <td>nan       </td> <td>30       </td> <td>20252  </td> <td>105    </td> <td>nan   </td> <td>CMPSC</td> <td>5A       </td> <td>1     </td> <td>False    </td> <td>L    </td>\n",
       "        </tr>\n",
       "        <tr>\n",
       "            <td>CMPSC     5B -1</td> <td>0       </td> <td>C (L&S), QNT (L&S)</td> <td>TANNA A A </td> <td>77       </td> <td>20252  </td> <td>100    </td> <td>Closed</td> <td>CMPSC</td> <td>5B       </td> <td>1     </td> <td>True     </td> <td>L    </td>\n",
       "        </tr>\n",
       "        <tr>\n",
       "            <td>CMPSC     5B -1</td> <td>0       </td> <td>C (L&S), QNT (L&S)</td> <td>nan       </td> <td>26       </td> <td>20252  </td> <td>101    </td> <td>Closed</td> <td>CMPSC</td> <td>5B       </td> <td>1     </td> <td>False    </td> <td>L    </td>\n",
       "        </tr>\n",
       "        <tr>\n",
       "            <td>CMPSC     5B -1</td> <td>0       </td> <td>C (L&S), QNT (L&S)</td> <td>nan       </td> <td>25       </td> <td>20252  </td> <td>102    </td> <td>Closed</td> <td>CMPSC</td> <td>5B       </td> <td>1     </td> <td>False    </td> <td>L    </td>\n",
       "        </tr>\n",
       "        <tr>\n",
       "            <td>CMPSC     5B -1</td> <td>0       </td> <td>C (L&S), QNT (L&S)</td> <td>nan       </td> <td>26       </td> <td>20252  </td> <td>103    </td> <td>Closed</td> <td>CMPSC</td> <td>5B       </td> <td>1     </td> <td>False    </td> <td>L    </td>\n",
       "        </tr>\n",
       "    </tbody>\n",
       "</table>\n",
       "<p>... (6869 rows omitted)</p>"
      ],
      "text/plain": [
       "COURSEID        | ENROLLED | GES                | INSTRUCTOR | MAXENROLL | QUARTER | SECTION | STATUS | dept  | courseNum | suffix | isLecture | level\n",
       "CMPSC     5A -1 | 128      | C (L&S), QNT (L&S) | CONRAD P T | 150       | 20252   | 100     | nan    | CMPSC | 5A        | 1      | True      | L\n",
       "CMPSC     5A -1 | 23       | C (L&S), QNT (L&S) | nan        | 30        | 20252   | 101     | nan    | CMPSC | 5A        | 1      | False     | L\n",
       "CMPSC     5A -1 | 26       | C (L&S), QNT (L&S) | nan        | 30        | 20252   | 102     | nan    | CMPSC | 5A        | 1      | False     | L\n",
       "CMPSC     5A -1 | 30       | C (L&S), QNT (L&S) | nan        | 30        | 20252   | 103     | nan    | CMPSC | 5A        | 1      | False     | L\n",
       "CMPSC     5A -1 | 25       | C (L&S), QNT (L&S) | nan        | 30        | 20252   | 104     | nan    | CMPSC | 5A        | 1      | False     | L\n",
       "CMPSC     5A -1 | 24       | C (L&S), QNT (L&S) | nan        | 30        | 20252   | 105     | nan    | CMPSC | 5A        | 1      | False     | L\n",
       "CMPSC     5B -1 | 0        | C (L&S), QNT (L&S) | TANNA A A  | 77        | 20252   | 100     | Closed | CMPSC | 5B        | 1      | True      | L\n",
       "CMPSC     5B -1 | 0        | C (L&S), QNT (L&S) | nan        | 26        | 20252   | 101     | Closed | CMPSC | 5B        | 1      | False     | L\n",
       "CMPSC     5B -1 | 0        | C (L&S), QNT (L&S) | nan        | 25        | 20252   | 102     | Closed | CMPSC | 5B        | 1      | False     | L\n",
       "CMPSC     5B -1 | 0        | C (L&S), QNT (L&S) | nan        | 26        | 20252   | 103     | Closed | CMPSC | 5B        | 1      | False     | L\n",
       "... (6869 rows omitted)"
      ]
     },
     "execution_count": 7,
     "metadata": {},
     "output_type": "execute_result"
    }
   ],
   "source": [
    "# Plain table\n",
    "courses"
   ]
  },
  {
   "cell_type": "code",
   "execution_count": null,
   "metadata": {
    "colab": {
     "base_uri": "https://localhost:8080/"
    },
    "id": "Wg9O2ZDqtOi6",
    "outputId": "6d06c9bc-16ae-44be-e185-5ac60fc8e565"
   },
   "outputs": [
    {
     "data": {
      "text/plain": [
       "('COURSEID',\n",
       " 'ENROLLED',\n",
       " 'GES',\n",
       " 'INSTRUCTOR',\n",
       " 'MAXENROLL',\n",
       " 'QUARTER',\n",
       " 'SECTION',\n",
       " 'STATUS',\n",
       " 'dept',\n",
       " 'courseNum',\n",
       " 'suffix',\n",
       " 'isLecture',\n",
       " 'level')"
      ]
     },
     "execution_count": 8,
     "metadata": {},
     "output_type": "execute_result"
    }
   ],
   "source": [
    "# Get names of columns\n",
    "courses.labels"
   ]
  },
  {
   "cell_type": "code",
   "execution_count": null,
   "metadata": {
    "colab": {
     "base_uri": "https://localhost:8080/"
    },
    "id": "mkGt45e4wudv",
    "outputId": "76976713-1e70-44d9-a23c-4b9a1497078e"
   },
   "outputs": [
    {
     "data": {
      "text/plain": [
       "6879"
      ]
     },
     "execution_count": 9,
     "metadata": {},
     "output_type": "execute_result"
    }
   ],
   "source": [
    "# get number of rows\n",
    "courses.num_rows"
   ]
  },
  {
   "cell_type": "code",
   "execution_count": null,
   "metadata": {
    "colab": {
     "base_uri": "https://localhost:8080/"
    },
    "id": "oj-48eXpwxZz",
    "outputId": "e324fda4-9e84-46e8-cce8-d8144f25ff68"
   },
   "outputs": [
    {
     "data": {
      "text/plain": [
       "13"
      ]
     },
     "execution_count": 10,
     "metadata": {},
     "output_type": "execute_result"
    }
   ],
   "source": [
    "# get number of columns\n",
    "courses.num_columns"
   ]
  },
  {
   "cell_type": "code",
   "execution_count": null,
   "metadata": {
    "colab": {
     "base_uri": "https://localhost:8080/",
     "height": 143
    },
    "id": "G_ytoslXxIxb",
    "outputId": "2c5a46f9-c83d-4f91-c4f3-2a63635ac9f5"
   },
   "outputs": [
    {
     "data": {
      "text/html": [
       "<table border=\"1\" class=\"dataframe\">\n",
       "    <thead>\n",
       "        <tr>\n",
       "            <th>COURSEID</th> <th>ENROLLED</th> <th>GES</th> <th>INSTRUCTOR</th> <th>MAXENROLL</th> <th>QUARTER</th> <th>SECTION</th> <th>STATUS</th> <th>dept</th> <th>courseNum</th> <th>suffix</th> <th>isLecture</th> <th>level</th>\n",
       "        </tr>\n",
       "    </thead>\n",
       "    <tbody>\n",
       "        <tr>\n",
       "            <td>CMPSC     5A -1</td> <td>128     </td> <td>C (L&S), QNT (L&S)</td> <td>CONRAD P T</td> <td>150      </td> <td>20252  </td> <td>100    </td> <td>nan   </td> <td>CMPSC</td> <td>5A       </td> <td>1     </td> <td>True     </td> <td>L    </td>\n",
       "        </tr>\n",
       "        <tr>\n",
       "            <td>CMPSC     5A -1</td> <td>23      </td> <td>C (L&S), QNT (L&S)</td> <td>nan       </td> <td>30       </td> <td>20252  </td> <td>101    </td> <td>nan   </td> <td>CMPSC</td> <td>5A       </td> <td>1     </td> <td>False    </td> <td>L    </td>\n",
       "        </tr>\n",
       "        <tr>\n",
       "            <td>CMPSC     5A -1</td> <td>26      </td> <td>C (L&S), QNT (L&S)</td> <td>nan       </td> <td>30       </td> <td>20252  </td> <td>102    </td> <td>nan   </td> <td>CMPSC</td> <td>5A       </td> <td>1     </td> <td>False    </td> <td>L    </td>\n",
       "        </tr>\n",
       "    </tbody>\n",
       "</table>"
      ],
      "text/plain": [
       "COURSEID        | ENROLLED | GES                | INSTRUCTOR | MAXENROLL | QUARTER | SECTION | STATUS | dept  | courseNum | suffix | isLecture | level\n",
       "CMPSC     5A -1 | 128      | C (L&S), QNT (L&S) | CONRAD P T | 150       | 20252   | 100     | nan    | CMPSC | 5A        | 1      | True      | L\n",
       "CMPSC     5A -1 | 23       | C (L&S), QNT (L&S) | nan        | 30        | 20252   | 101     | nan    | CMPSC | 5A        | 1      | False     | L\n",
       "CMPSC     5A -1 | 26       | C (L&S), QNT (L&S) | nan        | 30        | 20252   | 102     | nan    | CMPSC | 5A        | 1      | False     | L"
      ]
     },
     "execution_count": 11,
     "metadata": {},
     "output_type": "execute_result"
    }
   ],
   "source": [
    "# get the first three rows\n",
    "courses.take([0,1,2])"
   ]
  },
  {
   "cell_type": "code",
   "execution_count": null,
   "metadata": {
    "colab": {
     "base_uri": "https://localhost:8080/",
     "height": 206
    },
    "id": "0PrKcS5fxPG2",
    "outputId": "6534dc21-c941-423e-896e-4322997cf866"
   },
   "outputs": [
    {
     "data": {
      "text/html": [
       "<table border=\"1\" class=\"dataframe\">\n",
       "    <thead>\n",
       "        <tr>\n",
       "            <th>COURSEID</th> <th>ENROLLED</th> <th>GES</th> <th>INSTRUCTOR</th> <th>MAXENROLL</th> <th>QUARTER</th> <th>SECTION</th> <th>STATUS</th> <th>dept</th> <th>courseNum</th> <th>suffix</th> <th>isLecture</th> <th>level</th>\n",
       "        </tr>\n",
       "    </thead>\n",
       "    <tbody>\n",
       "        <tr>\n",
       "            <td>CMPSC     5A -1</td> <td>128     </td> <td>C (L&S), QNT (L&S)</td> <td>CONRAD P T</td> <td>150      </td> <td>20252  </td> <td>100    </td> <td>nan   </td> <td>CMPSC</td> <td>5A       </td> <td>1     </td> <td>True     </td> <td>L    </td>\n",
       "        </tr>\n",
       "        <tr>\n",
       "            <td>CMPSC     5A -1</td> <td>23      </td> <td>C (L&S), QNT (L&S)</td> <td>nan       </td> <td>30       </td> <td>20252  </td> <td>101    </td> <td>nan   </td> <td>CMPSC</td> <td>5A       </td> <td>1     </td> <td>False    </td> <td>L    </td>\n",
       "        </tr>\n",
       "        <tr>\n",
       "            <td>CMPSC     5A -1</td> <td>26      </td> <td>C (L&S), QNT (L&S)</td> <td>nan       </td> <td>30       </td> <td>20252  </td> <td>102    </td> <td>nan   </td> <td>CMPSC</td> <td>5A       </td> <td>1     </td> <td>False    </td> <td>L    </td>\n",
       "        </tr>\n",
       "        <tr>\n",
       "            <td>CMPSC     5A -1</td> <td>30      </td> <td>C (L&S), QNT (L&S)</td> <td>nan       </td> <td>30       </td> <td>20252  </td> <td>103    </td> <td>nan   </td> <td>CMPSC</td> <td>5A       </td> <td>1     </td> <td>False    </td> <td>L    </td>\n",
       "        </tr>\n",
       "        <tr>\n",
       "            <td>CMPSC     5A -1</td> <td>25      </td> <td>C (L&S), QNT (L&S)</td> <td>nan       </td> <td>30       </td> <td>20252  </td> <td>104    </td> <td>nan   </td> <td>CMPSC</td> <td>5A       </td> <td>1     </td> <td>False    </td> <td>L    </td>\n",
       "        </tr>\n",
       "    </tbody>\n",
       "</table>"
      ],
      "text/plain": [
       "COURSEID        | ENROLLED | GES                | INSTRUCTOR | MAXENROLL | QUARTER | SECTION | STATUS | dept  | courseNum | suffix | isLecture | level\n",
       "CMPSC     5A -1 | 128      | C (L&S), QNT (L&S) | CONRAD P T | 150       | 20252   | 100     | nan    | CMPSC | 5A        | 1      | True      | L\n",
       "CMPSC     5A -1 | 23       | C (L&S), QNT (L&S) | nan        | 30        | 20252   | 101     | nan    | CMPSC | 5A        | 1      | False     | L\n",
       "CMPSC     5A -1 | 26       | C (L&S), QNT (L&S) | nan        | 30        | 20252   | 102     | nan    | CMPSC | 5A        | 1      | False     | L\n",
       "CMPSC     5A -1 | 30       | C (L&S), QNT (L&S) | nan        | 30        | 20252   | 103     | nan    | CMPSC | 5A        | 1      | False     | L\n",
       "CMPSC     5A -1 | 25       | C (L&S), QNT (L&S) | nan        | 30        | 20252   | 104     | nan    | CMPSC | 5A        | 1      | False     | L"
      ]
     },
     "execution_count": 12,
     "metadata": {},
     "output_type": "execute_result"
    }
   ],
   "source": [
    "# get the first five rows\n",
    "courses.take(np.arange(5))"
   ]
  },
  {
   "cell_type": "code",
   "execution_count": null,
   "metadata": {
    "colab": {
     "base_uri": "https://localhost:8080/",
     "height": 415
    },
    "id": "P93LogfhX_P7",
    "outputId": "4aaba01e-ce39-4128-b769-356f96c29dac"
   },
   "outputs": [
    {
     "data": {
      "text/html": [
       "<table border=\"1\" class=\"dataframe\">\n",
       "    <thead>\n",
       "        <tr>\n",
       "            <th>COURSEID</th> <th>ENROLLED</th> <th>GES</th> <th>INSTRUCTOR</th> <th>MAXENROLL</th> <th>QUARTER</th> <th>SECTION</th> <th>STATUS</th> <th>dept</th> <th>courseNum</th> <th>suffix</th> <th>isLecture</th> <th>level</th>\n",
       "        </tr>\n",
       "    </thead>\n",
       "    <tbody>\n",
       "        <tr>\n",
       "            <td>CMPSC   196B -1 </td> <td>0       </td> <td>nan                                                         </td> <td>nan                 </td> <td>5        </td> <td>20252  </td> <td>100    </td> <td>nan   </td> <td>CMPSC  </td> <td>196B     </td> <td>1     </td> <td>True     </td> <td>U    </td>\n",
       "        </tr>\n",
       "        <tr>\n",
       "            <td>LING    595  -6 </td> <td>4       </td> <td>nan                                                         </td> <td>HOU L Y             </td> <td>15       </td> <td>20252  </td> <td>600    </td> <td>nan   </td> <td>LING   </td> <td>595      </td> <td>6     </td> <td>True     </td> <td>G    </td>\n",
       "        </tr>\n",
       "        <tr>\n",
       "            <td>ED       99  -7 </td> <td>0       </td> <td>nan                                                         </td> <td>AZZAM T             </td> <td>10       </td> <td>20252  </td> <td>700    </td> <td>nan   </td> <td>ED     </td> <td>99       </td> <td>7     </td> <td>True     </td> <td>L    </td>\n",
       "        </tr>\n",
       "        <tr>\n",
       "            <td>CHEM      2AL-14</td> <td>17      </td> <td>nan                                                         </td> <td>PAZOS S, DICKINSON G</td> <td>20       </td> <td>20252  </td> <td>1400   </td> <td>nan   </td> <td>CHEM   </td> <td>2AL      </td> <td>14    </td> <td>True     </td> <td>L    </td>\n",
       "        </tr>\n",
       "        <tr>\n",
       "            <td>HIST    250B -1 </td> <td>6       </td> <td>nan                                                         </td> <td>MENDEZ S C          </td> <td>12       </td> <td>20252  </td> <td>100    </td> <td>nan   </td> <td>HIST   </td> <td>250B     </td> <td>1     </td> <td>True     </td> <td>G    </td>\n",
       "        </tr>\n",
       "        <tr>\n",
       "            <td>CH ST     1C -1 </td> <td>20      </td> <td>AMH (UCSB), ETH (L&S), ETH (ENGR), ETH (CRST), WRT (ENGR ...</td> <td>LAZCANO AVILA       </td> <td>20       </td> <td>20252  </td> <td>110    </td> <td>nan   </td> <td>CH ST  </td> <td>1C       </td> <td>1     </td> <td>False    </td> <td>L    </td>\n",
       "        </tr>\n",
       "        <tr>\n",
       "            <td>PHIL    597  -1 </td> <td>0       </td> <td>nan                                                         </td> <td>nan                 </td> <td>15       </td> <td>20252  </td> <td>100    </td> <td>nan   </td> <td>PHIL   </td> <td>597      </td> <td>1     </td> <td>True     </td> <td>G    </td>\n",
       "        </tr>\n",
       "        <tr>\n",
       "            <td>ES   1-  45  -2 </td> <td>8       </td> <td>nan                                                         </td> <td>MYALL E             </td> <td>25       </td> <td>20252  </td> <td>200    </td> <td>nan   </td> <td>ES   1-</td> <td>45       </td> <td>2     </td> <td>True     </td> <td>L    </td>\n",
       "        </tr>\n",
       "        <tr>\n",
       "            <td>CHEM    151  -1 </td> <td>11      </td> <td>nan                                                         </td> <td>nan                 </td> <td>13       </td> <td>20252  </td> <td>101    </td> <td>nan   </td> <td>CHEM   </td> <td>151      </td> <td>1     </td> <td>False    </td> <td>U    </td>\n",
       "        </tr>\n",
       "        <tr>\n",
       "            <td>MUS A    47S -1 </td> <td>20      </td> <td>nan                                                         </td> <td>NATHAN J S          </td> <td>50       </td> <td>20252  </td> <td>100    </td> <td>nan   </td> <td>MUS A  </td> <td>47S      </td> <td>1     </td> <td>True     </td> <td>L    </td>\n",
       "        </tr>\n",
       "    </tbody>\n",
       "</table>"
      ],
      "text/plain": [
       "COURSEID         | ENROLLED | GES                                                          | INSTRUCTOR           | MAXENROLL | QUARTER | SECTION | STATUS | dept    | courseNum | suffix | isLecture | level\n",
       "CMPSC   196B -1  | 0        | nan                                                          | nan                  | 5         | 20252   | 100     | nan    | CMPSC   | 196B      | 1      | True      | U\n",
       "LING    595  -6  | 4        | nan                                                          | HOU L Y              | 15        | 20252   | 600     | nan    | LING    | 595       | 6      | True      | G\n",
       "ED       99  -7  | 0        | nan                                                          | AZZAM T              | 10        | 20252   | 700     | nan    | ED      | 99        | 7      | True      | L\n",
       "CHEM      2AL-14 | 17       | nan                                                          | PAZOS S, DICKINSON G | 20        | 20252   | 1400    | nan    | CHEM    | 2AL       | 14     | True      | L\n",
       "HIST    250B -1  | 6        | nan                                                          | MENDEZ S C           | 12        | 20252   | 100     | nan    | HIST    | 250B      | 1      | True      | G\n",
       "CH ST     1C -1  | 20       | AMH (UCSB), ETH (L&S), ETH (ENGR), ETH (CRST), WRT (ENGR ... | LAZCANO AVILA        | 20        | 20252   | 110     | nan    | CH ST   | 1C        | 1      | False     | L\n",
       "PHIL    597  -1  | 0        | nan                                                          | nan                  | 15        | 20252   | 100     | nan    | PHIL    | 597       | 1      | True      | G\n",
       "ES   1-  45  -2  | 8        | nan                                                          | MYALL E              | 25        | 20252   | 200     | nan    | ES   1- | 45        | 2      | True      | L\n",
       "CHEM    151  -1  | 11       | nan                                                          | nan                  | 13        | 20252   | 101     | nan    | CHEM    | 151       | 1      | False     | U\n",
       "MUS A    47S -1  | 20       | nan                                                          | NATHAN J S           | 50        | 20252   | 100     | nan    | MUS A   | 47S       | 1      | True      | L"
      ]
     },
     "execution_count": 13,
     "metadata": {},
     "output_type": "execute_result"
    }
   ],
   "source": [
    "# This gives me 10 random rows\n",
    "courses.take(np.random.randint(0, courses.num_rows, size=10))"
   ]
  },
  {
   "cell_type": "code",
   "execution_count": 11,
   "metadata": {
    "colab": {
     "base_uri": "https://localhost:8080/",
     "height": 363
    },
    "id": "DCEFXnklK_GS",
    "outputId": "f0aa1928-dd6f-4093-c240-4bc484f2c438"
   },
   "outputs": [
    {
     "data": {
      "text/html": [
       "<table border=\"1\" class=\"dataframe\">\n",
       "    <thead>\n",
       "        <tr>\n",
       "            <th>COURSEID</th> <th>ENROLLED</th> <th>GES</th> <th>INSTRUCTOR</th> <th>MAXENROLL</th> <th>QUARTER</th> <th>SECTION</th> <th>STATUS</th> <th>dept</th> <th>courseNum</th> <th>suffix</th> <th>isLecture</th> <th>level</th>\n",
       "        </tr>\n",
       "    </thead>\n",
       "    <tbody>\n",
       "        <tr>\n",
       "            <td>CHEM    595  -12</td> <td>1       </td> <td>nan </td> <td>ABU-OMAR M   </td> <td>45       </td> <td>20252  </td> <td>1200   </td> <td>nan   </td> <td>CHEM </td> <td>595      </td> <td>12    </td> <td>True     </td> <td>G    </td>\n",
       "        </tr>\n",
       "        <tr>\n",
       "            <td>PSTAT   131  -1 </td> <td>20      </td> <td>nan </td> <td>YU M         </td> <td>20       </td> <td>20252  </td> <td>102    </td> <td>nan   </td> <td>PSTAT</td> <td>131      </td> <td>1     </td> <td>False    </td> <td>U    </td>\n",
       "        </tr>\n",
       "        <tr>\n",
       "            <td>MCDB    597  -1 </td> <td>0       </td> <td>nan </td> <td>nan          </td> <td>10       </td> <td>20252  </td> <td>100    </td> <td>nan   </td> <td>MCDB </td> <td>597      </td> <td>1     </td> <td>True     </td> <td>G    </td>\n",
       "        </tr>\n",
       "        <tr>\n",
       "            <td>EEMB    184  -3 </td> <td>5       </td> <td>nan </td> <td>HODGES S A   </td> <td>1        </td> <td>20252  </td> <td>300    </td> <td>nan   </td> <td>EEMB </td> <td>184      </td> <td>3     </td> <td>True     </td> <td>U    </td>\n",
       "        </tr>\n",
       "        <tr>\n",
       "            <td>PSTAT   131  -1 </td> <td>20      </td> <td>nan </td> <td>BORSA C      </td> <td>20       </td> <td>20252  </td> <td>103    </td> <td>nan   </td> <td>PSTAT</td> <td>131      </td> <td>1     </td> <td>False    </td> <td>U    </td>\n",
       "        </tr>\n",
       "        <tr>\n",
       "            <td>CMPSC    40  -1 </td> <td>0       </td> <td>nan </td> <td>nan          </td> <td>30       </td> <td>20252  </td> <td>101    </td> <td>Closed</td> <td>CMPSC</td> <td>40       </td> <td>1     </td> <td>False    </td> <td>L    </td>\n",
       "        </tr>\n",
       "        <tr>\n",
       "            <td>RG ST   199  -2 </td> <td>1       </td> <td>nan </td> <td>BUSTO R V    </td> <td>50       </td> <td>20252  </td> <td>200    </td> <td>nan   </td> <td>RG ST</td> <td>199      </td> <td>2     </td> <td>True     </td> <td>U    </td>\n",
       "        </tr>\n",
       "        <tr>\n",
       "            <td>THTR     29B -1 </td> <td>4       </td> <td>nan </td> <td>SHEFFIELD C A</td> <td>4        </td> <td>20252  </td> <td>100    </td> <td>nan   </td> <td>THTR </td> <td>29B      </td> <td>1     </td> <td>True     </td> <td>L    </td>\n",
       "        </tr>\n",
       "        <tr>\n",
       "            <td>INT     200A -1 </td> <td>7       </td> <td>nan </td> <td>ROSKIES A    </td> <td>15       </td> <td>20252  </td> <td>100    </td> <td>nan   </td> <td>INT  </td> <td>200A     </td> <td>1     </td> <td>True     </td> <td>G    </td>\n",
       "        </tr>\n",
       "        <tr>\n",
       "            <td>PSY      10B -2 </td> <td>101     </td> <td>nan </td> <td>FEASEL S H   </td> <td>100      </td> <td>20252  </td> <td>200    </td> <td>nan   </td> <td>PSY  </td> <td>10B      </td> <td>2     </td> <td>True     </td> <td>L    </td>\n",
       "        </tr>\n",
       "    </tbody>\n",
       "</table>"
      ],
      "text/plain": [
       "COURSEID         | ENROLLED | GES  | INSTRUCTOR    | MAXENROLL | QUARTER | SECTION | STATUS | dept  | courseNum | suffix | isLecture | level\n",
       "CHEM    595  -12 | 1        | nan  | ABU-OMAR M    | 45        | 20252   | 1200    | nan    | CHEM  | 595       | 12     | True      | G\n",
       "PSTAT   131  -1  | 20       | nan  | YU M          | 20        | 20252   | 102     | nan    | PSTAT | 131       | 1      | False     | U\n",
       "MCDB    597  -1  | 0        | nan  | nan           | 10        | 20252   | 100     | nan    | MCDB  | 597       | 1      | True      | G\n",
       "EEMB    184  -3  | 5        | nan  | HODGES S A    | 1         | 20252   | 300     | nan    | EEMB  | 184       | 3      | True      | U\n",
       "PSTAT   131  -1  | 20       | nan  | BORSA C       | 20        | 20252   | 103     | nan    | PSTAT | 131       | 1      | False     | U\n",
       "CMPSC    40  -1  | 0        | nan  | nan           | 30        | 20252   | 101     | Closed | CMPSC | 40        | 1      | False     | L\n",
       "RG ST   199  -2  | 1        | nan  | BUSTO R V     | 50        | 20252   | 200     | nan    | RG ST | 199       | 2      | True      | U\n",
       "THTR     29B -1  | 4        | nan  | SHEFFIELD C A | 4         | 20252   | 100     | nan    | THTR  | 29B       | 1      | True      | L\n",
       "INT     200A -1  | 7        | nan  | ROSKIES A     | 15        | 20252   | 100     | nan    | INT   | 200A      | 1      | True      | G\n",
       "PSY      10B -2  | 101      | nan  | FEASEL S H    | 100       | 20252   | 200     | nan    | PSY   | 10B       | 2      | True      | L"
      ]
     },
     "execution_count": 11,
     "metadata": {},
     "output_type": "execute_result"
    }
   ],
   "source": [
    "# An easier way to get a random sample of 10 rows\n",
    "courses.sample(10)"
   ]
  },
  {
   "cell_type": "code",
   "execution_count": null,
   "metadata": {
    "colab": {
     "base_uri": "https://localhost:8080/",
     "height": 392
    },
    "id": "eQQdOLH2xSod",
    "outputId": "c6cedf55-35b8-4bcd-9424-1275733623b3"
   },
   "outputs": [
    {
     "data": {
      "text/html": [
       "<table border=\"1\" class=\"dataframe\">\n",
       "    <thead>\n",
       "        <tr>\n",
       "            <th>COURSEID</th> <th>ENROLLED</th> <th>GES</th> <th>INSTRUCTOR</th> <th>MAXENROLL</th> <th>QUARTER</th> <th>SECTION</th> <th>STATUS</th> <th>dept</th> <th>courseNum</th> <th>suffix</th> <th>isLecture</th> <th>level</th>\n",
       "        </tr>\n",
       "    </thead>\n",
       "    <tbody>\n",
       "        <tr>\n",
       "            <td>CMPSC     5A -1</td> <td>128     </td> <td>C (L&S), QNT (L&S)</td> <td>CONRAD P T   </td> <td>150      </td> <td>20252  </td> <td>100    </td> <td>nan   </td> <td>CMPSC</td> <td>5A       </td> <td>1     </td> <td>True     </td> <td>L    </td>\n",
       "        </tr>\n",
       "        <tr>\n",
       "            <td>CMPSC     9  -1</td> <td>166     </td> <td>nan               </td> <td>KHARITONOVA Y</td> <td>300      </td> <td>20252  </td> <td>100    </td> <td>nan   </td> <td>CMPSC</td> <td>9        </td> <td>1     </td> <td>True     </td> <td>L    </td>\n",
       "        </tr>\n",
       "        <tr>\n",
       "            <td>CMPSC    24  -1</td> <td>146     </td> <td>nan               </td> <td>MIRZA D      </td> <td>149      </td> <td>20252  </td> <td>100    </td> <td>nan   </td> <td>CMPSC</td> <td>24       </td> <td>1     </td> <td>True     </td> <td>L    </td>\n",
       "        </tr>\n",
       "        <tr>\n",
       "            <td>CMPSC    32  -1</td> <td>133     </td> <td>nan               </td> <td>NASIR N      </td> <td>150      </td> <td>20252  </td> <td>100    </td> <td>nan   </td> <td>CMPSC</td> <td>32       </td> <td>1     </td> <td>True     </td> <td>L    </td>\n",
       "        </tr>\n",
       "        <tr>\n",
       "            <td>CMPSC    99  -1</td> <td>0       </td> <td>nan               </td> <td>nan          </td> <td>0        </td> <td>20252  </td> <td>100    </td> <td>nan   </td> <td>CMPSC</td> <td>99       </td> <td>1     </td> <td>True     </td> <td>L    </td>\n",
       "        </tr>\n",
       "        <tr>\n",
       "            <td>CMPSC   130A -1</td> <td>91      </td> <td>nan               </td> <td>NASIR N      </td> <td>150      </td> <td>20252  </td> <td>100    </td> <td>nan   </td> <td>CMPSC</td> <td>130A     </td> <td>1     </td> <td>True     </td> <td>U    </td>\n",
       "        </tr>\n",
       "        <tr>\n",
       "            <td>CMPSC   130B -1</td> <td>90      </td> <td>nan               </td> <td>SINGH A K    </td> <td>150      </td> <td>20252  </td> <td>100    </td> <td>nan   </td> <td>CMPSC</td> <td>130B     </td> <td>1     </td> <td>True     </td> <td>U    </td>\n",
       "        </tr>\n",
       "        <tr>\n",
       "            <td>CMPSC   138  -1</td> <td>45      </td> <td>nan               </td> <td>EL ABBADI A  </td> <td>150      </td> <td>20252  </td> <td>100    </td> <td>nan   </td> <td>CMPSC</td> <td>138      </td> <td>1     </td> <td>True     </td> <td>U    </td>\n",
       "        </tr>\n",
       "        <tr>\n",
       "            <td>CMPSC   154  -1</td> <td>112     </td> <td>nan               </td> <td>BALKIND J M  </td> <td>150      </td> <td>20252  </td> <td>100    </td> <td>nan   </td> <td>CMPSC</td> <td>154      </td> <td>1     </td> <td>True     </td> <td>U    </td>\n",
       "        </tr>\n",
       "        <tr>\n",
       "            <td>CMPSC   156  -1</td> <td>96      </td> <td>nan               </td> <td>CONRAD P T   </td> <td>96       </td> <td>20252  </td> <td>100    </td> <td>nan   </td> <td>CMPSC</td> <td>156      </td> <td>1     </td> <td>True     </td> <td>U    </td>\n",
       "        </tr>\n",
       "    </tbody>\n",
       "</table>\n",
       "<p>... (88 rows omitted)</p>"
      ],
      "text/plain": [
       "COURSEID        | ENROLLED | GES                | INSTRUCTOR    | MAXENROLL | QUARTER | SECTION | STATUS | dept  | courseNum | suffix | isLecture | level\n",
       "CMPSC     5A -1 | 128      | C (L&S), QNT (L&S) | CONRAD P T    | 150       | 20252   | 100     | nan    | CMPSC | 5A        | 1      | True      | L\n",
       "CMPSC     9  -1 | 166      | nan                | KHARITONOVA Y | 300       | 20252   | 100     | nan    | CMPSC | 9         | 1      | True      | L\n",
       "CMPSC    24  -1 | 146      | nan                | MIRZA D       | 149       | 20252   | 100     | nan    | CMPSC | 24        | 1      | True      | L\n",
       "CMPSC    32  -1 | 133      | nan                | NASIR N       | 150       | 20252   | 100     | nan    | CMPSC | 32        | 1      | True      | L\n",
       "CMPSC    99  -1 | 0        | nan                | nan           | 0         | 20252   | 100     | nan    | CMPSC | 99        | 1      | True      | L\n",
       "CMPSC   130A -1 | 91       | nan                | NASIR N       | 150       | 20252   | 100     | nan    | CMPSC | 130A      | 1      | True      | U\n",
       "CMPSC   130B -1 | 90       | nan                | SINGH A K     | 150       | 20252   | 100     | nan    | CMPSC | 130B      | 1      | True      | U\n",
       "CMPSC   138  -1 | 45       | nan                | EL ABBADI A   | 150       | 20252   | 100     | nan    | CMPSC | 138       | 1      | True      | U\n",
       "CMPSC   154  -1 | 112      | nan                | BALKIND J M   | 150       | 20252   | 100     | nan    | CMPSC | 154       | 1      | True      | U\n",
       "CMPSC   156  -1 | 96       | nan                | CONRAD P T    | 96        | 20252   | 100     | nan    | CMPSC | 156       | 1      | True      | U\n",
       "... (88 rows omitted)"
      ]
     },
     "execution_count": 14,
     "metadata": {},
     "output_type": "execute_result"
    }
   ],
   "source": [
    "# get rows that match certain criteria\n",
    "# department is Computer Science (CMPSC)\n",
    "# lectures only\n",
    "# courses that are not closed\n",
    "courses.where(\"dept\",are.equal_to(\"CMPSC\")).where(\"isLecture\",are.equal_to(True)).where(\"STATUS\",are.not_equal_to(\"Closed\"))"
   ]
  },
  {
   "cell_type": "markdown",
   "metadata": {
    "id": "v9FVZBlrHgiQ"
   },
   "source": [
    "# Grouping is for Categorical Data\n",
    "\n",
    "Categorical Data comes from a finite set of specific values\n",
    "* Department (there is a limited number of specfic values Department can take)\n",
    "* isLecture (True or False are the only possible values)\n",
    "* level (we defined this as \"L\", \"U\", or \"G\" in our function `courseIdToLevel` listed below for reference"
   ]
  },
  {
   "cell_type": "code",
   "execution_count": null,
   "metadata": {
    "id": "UxhmfE3SIiOl"
   },
   "outputs": [],
   "source": [
    "# Developed in lecture10\n",
    "def courseIdToLevel(courseId):\n",
    "  character8 = courseId[8]\n",
    "  if character8 == \" \":\n",
    "    return \"L\" # lower division\n",
    "  elif character8 == \"1\":\n",
    "    return \"U\" # upper division\n",
    "  else:\n",
    "    return \"G\" # grad"
   ]
  },
  {
   "cell_type": "markdown",
   "metadata": {
    "id": "1gYhkKR6HgUH"
   },
   "source": []
  },
  {
   "cell_type": "code",
   "execution_count": null,
   "metadata": {
    "colab": {
     "base_uri": "https://localhost:8080/",
     "height": 392
    },
    "id": "6o1MzGW0tyrm",
    "outputId": "868ba775-b94f-471d-d338-42bcc88e1a93"
   },
   "outputs": [
    {
     "data": {
      "text/html": [
       "<table border=\"1\" class=\"dataframe\">\n",
       "    <thead>\n",
       "        <tr>\n",
       "            <th>dept</th> <th>count</th>\n",
       "        </tr>\n",
       "    </thead>\n",
       "    <tbody>\n",
       "        <tr>\n",
       "            <td>ANTH   </td> <td>126  </td>\n",
       "        </tr>\n",
       "        <tr>\n",
       "            <td>ART    </td> <td>50   </td>\n",
       "        </tr>\n",
       "        <tr>\n",
       "            <td>ART  CS</td> <td>17   </td>\n",
       "        </tr>\n",
       "        <tr>\n",
       "            <td>ARTHI  </td> <td>82   </td>\n",
       "        </tr>\n",
       "        <tr>\n",
       "            <td>AS AM  </td> <td>34   </td>\n",
       "        </tr>\n",
       "        <tr>\n",
       "            <td>ASTRO  </td> <td>11   </td>\n",
       "        </tr>\n",
       "        <tr>\n",
       "            <td>BIOE   </td> <td>26   </td>\n",
       "        </tr>\n",
       "        <tr>\n",
       "            <td>BIOL CS</td> <td>13   </td>\n",
       "        </tr>\n",
       "        <tr>\n",
       "            <td>BL ST  </td> <td>39   </td>\n",
       "        </tr>\n",
       "        <tr>\n",
       "            <td>C LIT  </td> <td>72   </td>\n",
       "        </tr>\n",
       "    </tbody>\n",
       "</table>\n",
       "<p>... (91 rows omitted)</p>"
      ],
      "text/plain": [
       "dept    | count\n",
       "ANTH    | 126\n",
       "ART     | 50\n",
       "ART  CS | 17\n",
       "ARTHI   | 82\n",
       "AS AM   | 34\n",
       "ASTRO   | 11\n",
       "BIOE    | 26\n",
       "BIOL CS | 13\n",
       "BL ST   | 39\n",
       "C LIT   | 72\n",
       "... (91 rows omitted)"
      ]
     },
     "execution_count": 16,
     "metadata": {},
     "output_type": "execute_result"
    }
   ],
   "source": [
    "# Group by department, and give a count of how many rows have each of these departments\n",
    "courses.group(\"dept\")"
   ]
  },
  {
   "cell_type": "markdown",
   "metadata": {
    "id": "1XijPkWZtQK9"
   },
   "source": [
    "We can also add a function sucb as `sum`, `max`, `min`, `np.average`, `np.median`.  The function will be applied to all of the numerical columns.\n",
    "\n",
    "Note however, that for some of these colunns, it *doesn't make any sense* to treat them as numerical and add them up.\n",
    "\n",
    "\n",
    "\n",
    "Let's first see what it looks like when we do `courses.group(\"dept\",sum)`,\n",
    "then we'll analyze the results, column by column.\n",
    "\n"
   ]
  },
  {
   "cell_type": "code",
   "execution_count": null,
   "metadata": {
    "colab": {
     "base_uri": "https://localhost:8080/",
     "height": 427
    },
    "id": "uxz9tnpxOQBy",
    "outputId": "a2b6e786-ea12-4973-ed13-c0b35814786f"
   },
   "outputs": [
    {
     "data": {
      "text/html": [
       "<table border=\"1\" class=\"dataframe\">\n",
       "    <thead>\n",
       "        <tr>\n",
       "            <th>dept</th> <th>COURSEID sum</th> <th>ENROLLED sum</th> <th>GES sum</th> <th>INSTRUCTOR sum</th> <th>MAXENROLL sum</th> <th>QUARTER sum</th> <th>SECTION sum</th> <th>STATUS sum</th> <th>courseNum sum</th> <th>suffix sum</th> <th>isLecture sum</th> <th>level sum</th>\n",
       "        </tr>\n",
       "    </thead>\n",
       "    <tbody>\n",
       "        <tr>\n",
       "            <td>ANTH   </td> <td>            </td> <td>2522        </td> <td>       </td> <td>              </td> <td>4000         </td> <td>2551752    </td> <td>26992      </td> <td>          </td> <td>             </td> <td>          </td> <td>73           </td> <td>         </td>\n",
       "        </tr>\n",
       "        <tr>\n",
       "            <td>ART    </td> <td>            </td> <td>605         </td> <td>       </td> <td>              </td> <td>1088         </td> <td>1012600    </td> <td>11213      </td> <td>          </td> <td>             </td> <td>          </td> <td>44           </td> <td>         </td>\n",
       "        </tr>\n",
       "        <tr>\n",
       "            <td>ART  CS</td> <td>            </td> <td>65          </td> <td>       </td> <td>              </td> <td>93           </td> <td>344284     </td> <td>6500       </td> <td>          </td> <td>             </td> <td>          </td> <td>17           </td> <td>         </td>\n",
       "        </tr>\n",
       "        <tr>\n",
       "            <td>ARTHI  </td> <td>            </td> <td>1765        </td> <td>       </td> <td>              </td> <td>2185         </td> <td>1660664    </td> <td>16062      </td> <td>          </td> <td>             </td> <td>          </td> <td>54           </td> <td>         </td>\n",
       "        </tr>\n",
       "        <tr>\n",
       "            <td>AS AM  </td> <td>            </td> <td>883         </td> <td>       </td> <td>              </td> <td>982          </td> <td>688568     </td> <td>3590       </td> <td>          </td> <td>             </td> <td>          </td> <td>16           </td> <td>         </td>\n",
       "        </tr>\n",
       "        <tr>\n",
       "            <td>ASTRO  </td> <td>            </td> <td>288         </td> <td>       </td> <td>              </td> <td>585          </td> <td>222772     </td> <td>1124       </td> <td>          </td> <td>             </td> <td>          </td> <td>3            </td> <td>         </td>\n",
       "        </tr>\n",
       "        <tr>\n",
       "            <td>BIOE   </td> <td>            </td> <td>102         </td> <td>       </td> <td>              </td> <td>625          </td> <td>526552     </td> <td>10700      </td> <td>          </td> <td>             </td> <td>          </td> <td>26           </td> <td>         </td>\n",
       "        </tr>\n",
       "        <tr>\n",
       "            <td>BIOL CS</td> <td>            </td> <td>56          </td> <td>       </td> <td>              </td> <td>67           </td> <td>263276     </td> <td>5800       </td> <td>          </td> <td>             </td> <td>          </td> <td>13           </td> <td>         </td>\n",
       "        </tr>\n",
       "        <tr>\n",
       "            <td>BL ST  </td> <td>            </td> <td>847         </td> <td>       </td> <td>              </td> <td>1101         </td> <td>789828     </td> <td>4534       </td> <td>          </td> <td>             </td> <td>          </td> <td>26           </td> <td>         </td>\n",
       "        </tr>\n",
       "        <tr>\n",
       "            <td>C LIT  </td> <td>            </td> <td>1211        </td> <td>       </td> <td>              </td> <td>1461         </td> <td>1458144    </td> <td>15578      </td> <td>          </td> <td>             </td> <td>          </td> <td>53           </td> <td>         </td>\n",
       "        </tr>\n",
       "    </tbody>\n",
       "</table>\n",
       "<p>... (91 rows omitted)</p>"
      ],
      "text/plain": [
       "dept    | COURSEID sum | ENROLLED sum | GES sum | INSTRUCTOR sum | MAXENROLL sum | QUARTER sum | SECTION sum | STATUS sum | courseNum sum | suffix sum | isLecture sum | level sum\n",
       "ANTH    |              | 2522         |         |                | 4000          | 2551752     | 26992       |            |               |            | 73            |\n",
       "ART     |              | 605          |         |                | 1088          | 1012600     | 11213       |            |               |            | 44            |\n",
       "ART  CS |              | 65           |         |                | 93            | 344284      | 6500        |            |               |            | 17            |\n",
       "ARTHI   |              | 1765         |         |                | 2185          | 1660664     | 16062       |            |               |            | 54            |\n",
       "AS AM   |              | 883          |         |                | 982           | 688568      | 3590        |            |               |            | 16            |\n",
       "ASTRO   |              | 288          |         |                | 585           | 222772      | 1124        |            |               |            | 3             |\n",
       "BIOE    |              | 102          |         |                | 625           | 526552      | 10700       |            |               |            | 26            |\n",
       "BIOL CS |              | 56           |         |                | 67            | 263276      | 5800        |            |               |            | 13            |\n",
       "BL ST   |              | 847          |         |                | 1101          | 789828      | 4534        |            |               |            | 26            |\n",
       "C LIT   |              | 1211         |         |                | 1461          | 1458144     | 15578       |            |               |            | 53            |\n",
       "... (91 rows omitted)"
      ]
     },
     "execution_count": 17,
     "metadata": {},
     "output_type": "execute_result"
    }
   ],
   "source": [
    "courses.group(\"dept\",sum)"
   ]
  },
  {
   "cell_type": "markdown",
   "metadata": {
    "id": "yjtr7Ul_OLeR"
   },
   "source": [
    "Look at these results:\n",
    "* adding up `ENROLLMENT` with `sum` by department makes sense; it tells us how many students are being served by a department.\n",
    "* adding up `MAXENROLL` with `sum` makes sense; it tells us how many students the department *would* be serving if all of the courses were fully enrolled.\n",
    "\n",
    "But adding up fields like `QUARTER` and `SECTION` makes no sense at all. In this case, every course has a quarter field of `20252`.   That number isn't representing twenty-thousand two-hundred and fifty-two of *anything*. It's just a convenient way to ensure that if we ever sort courses by quarter, than they show up in the right order.   In fact, it would be more sensible to treat it as a string instead of a number.\n",
    "\n",
    "For the `isLecture` column, we are basically getting a count of the number of \"True\" values.\n",
    "\n",
    "Here's a full analysis of all of the columns in the table and whether it makes sense to apply numerical functions such as `sum`, `min`, `max`, etc.\n",
    "\n",
    "| Column | Example | Type | What it means | Numerical | Categorical |\n",
    "|-|-|-|-|-|-|\n",
    "| `'COURSEID'` | `CMPSC 5A -1 ` | `str` | Identifies a course |  | ✅  |\n",
    "| `'ENROLLED'` | `128 ` | `int` | How many students enrolled | ✅ | |\n",
    "| `'GES'` | `C (L&S), QNT (L&S)` | `str` | What GEs are satisified | | ✅ |\n",
    "| `'INSTRUCTOR'`| `CONRAD P T` | `str` | Who teaches the course |  | ✅ |\n",
    "| `'MAXENROLL'`| `150` | `int` | Total capacity | ✅ |  |\n",
    "| `'QUARTER'`| `20252` | `int` | What quarter course is offered (YYYYQ) |  | ✅ |\n",
    "| `'SECTION'`| `100` | `int` | x00 is lecture; x01, x02, etc discussion sections |  | ✅ |\n",
    "| `'STATUS'`| `Closed` | `str` | Available to enroll or closed |  |  ✅ |\n",
    "| `'dept'`| `CMPSC` | `str` | What dept/subject area |  | ✅ |\n",
    "| `'courseNum'`| `5A` | `str` | Course number part of course id |  | ✅ |\n",
    "| `'suffix'` | `1` | `int` | Suffix for which lecture section |  | ✅ |\n",
    "| `'isLecture'` | `True` | `bool` | Is it a lecture sectio |  | ✅ |\n",
    "| `'level'`   | `L` | `str` | Lower Div, Upper Div or Grad |  | ✅ |\n",
    "\n",
    "We can still just write `courses.group(\"dept\",sum)` and it will apply `sum` to all columns that have type `int` or `float`, but in some cases, that doesn't really make sense.   \n",
    "\n",
    "Instead, it typically makes more sense to:\n",
    "* first select only the columns for which applying numerical functions make sense\n",
    "* then group\n",
    "\n",
    "For example:"
   ]
  },
  {
   "cell_type": "code",
   "execution_count": null,
   "metadata": {
    "colab": {
     "base_uri": "https://localhost:8080/",
     "height": 392
    },
    "id": "ekqoX1yit31y",
    "outputId": "9cd442a1-fe99-4fca-f2f2-74cf60ad46bb"
   },
   "outputs": [
    {
     "data": {
      "text/html": [
       "<table border=\"1\" class=\"dataframe\">\n",
       "    <thead>\n",
       "        <tr>\n",
       "            <th>dept</th> <th>ENROLLED sum</th> <th>MAXENROLL sum</th>\n",
       "        </tr>\n",
       "    </thead>\n",
       "    <tbody>\n",
       "        <tr>\n",
       "            <td>ANTH   </td> <td>2522        </td> <td>4000         </td>\n",
       "        </tr>\n",
       "        <tr>\n",
       "            <td>ART    </td> <td>605         </td> <td>1088         </td>\n",
       "        </tr>\n",
       "        <tr>\n",
       "            <td>ART  CS</td> <td>65          </td> <td>93           </td>\n",
       "        </tr>\n",
       "        <tr>\n",
       "            <td>ARTHI  </td> <td>1765        </td> <td>2185         </td>\n",
       "        </tr>\n",
       "        <tr>\n",
       "            <td>AS AM  </td> <td>883         </td> <td>982          </td>\n",
       "        </tr>\n",
       "        <tr>\n",
       "            <td>ASTRO  </td> <td>288         </td> <td>585          </td>\n",
       "        </tr>\n",
       "        <tr>\n",
       "            <td>BIOE   </td> <td>102         </td> <td>625          </td>\n",
       "        </tr>\n",
       "        <tr>\n",
       "            <td>BIOL CS</td> <td>56          </td> <td>67           </td>\n",
       "        </tr>\n",
       "        <tr>\n",
       "            <td>BL ST  </td> <td>847         </td> <td>1101         </td>\n",
       "        </tr>\n",
       "        <tr>\n",
       "            <td>C LIT  </td> <td>1211        </td> <td>1461         </td>\n",
       "        </tr>\n",
       "    </tbody>\n",
       "</table>\n",
       "<p>... (91 rows omitted)</p>"
      ],
      "text/plain": [
       "dept    | ENROLLED sum | MAXENROLL sum\n",
       "ANTH    | 2522         | 4000\n",
       "ART     | 605          | 1088\n",
       "ART  CS | 65           | 93\n",
       "ARTHI   | 1765         | 2185\n",
       "AS AM   | 883          | 982\n",
       "ASTRO   | 288          | 585\n",
       "BIOE    | 102          | 625\n",
       "BIOL CS | 56           | 67\n",
       "BL ST   | 847          | 1101\n",
       "C LIT   | 1211         | 1461\n",
       "... (91 rows omitted)"
      ]
     },
     "execution_count": 18,
     "metadata": {},
     "output_type": "execute_result"
    }
   ],
   "source": [
    "courses.select(\"dept\",\"ENROLLED\",\"MAXENROLL\").group(\"dept\", sum)\n"
   ]
  },
  {
   "cell_type": "markdown",
   "metadata": {
    "id": "Yp0lgs-QYPbw"
   },
   "source": [
    "We can group by one category:"
   ]
  },
  {
   "cell_type": "code",
   "execution_count": null,
   "metadata": {
    "colab": {
     "base_uri": "https://localhost:8080/",
     "height": 143
    },
    "id": "_ilwXizN1wgn",
    "outputId": "c5f22cba-1476-47a0-eb6c-1279fee6104b"
   },
   "outputs": [
    {
     "data": {
      "text/html": [
       "<table border=\"1\" class=\"dataframe\">\n",
       "    <thead>\n",
       "        <tr>\n",
       "            <th>level</th> <th>count</th>\n",
       "        </tr>\n",
       "    </thead>\n",
       "    <tbody>\n",
       "        <tr>\n",
       "            <td>G    </td> <td>2246 </td>\n",
       "        </tr>\n",
       "        <tr>\n",
       "            <td>L    </td> <td>2032 </td>\n",
       "        </tr>\n",
       "        <tr>\n",
       "            <td>U    </td> <td>2601 </td>\n",
       "        </tr>\n",
       "    </tbody>\n",
       "</table>"
      ],
      "text/plain": [
       "level | count\n",
       "G     | 2246\n",
       "L     | 2032\n",
       "U     | 2601"
      ]
     },
     "execution_count": 19,
     "metadata": {},
     "output_type": "execute_result"
    }
   ],
   "source": [
    "courses.group(\"level\")"
   ]
  },
  {
   "cell_type": "markdown",
   "metadata": {
    "id": "2ahrOeTEYVVr"
   },
   "source": [
    "Or we can group by two.  When we group by two, we get every combination of the two categories:"
   ]
  },
  {
   "cell_type": "code",
   "execution_count": null,
   "metadata": {
    "colab": {
     "base_uri": "https://localhost:8080/",
     "height": 445
    },
    "id": "rjRbfjlk1yx0",
    "outputId": "8dd51b19-b360-4381-97b6-5eb8138f3af2"
   },
   "outputs": [
    {
     "data": {
      "text/html": [
       "<table border=\"1\" class=\"dataframe\">\n",
       "    <thead>\n",
       "        <tr>\n",
       "            <th>dept</th> <th>level</th> <th>COURSEID sum</th> <th>ENROLLED sum</th> <th>GES sum</th> <th>INSTRUCTOR sum</th> <th>MAXENROLL sum</th> <th>QUARTER sum</th> <th>SECTION sum</th> <th>STATUS sum</th> <th>courseNum sum</th> <th>suffix sum</th> <th>isLecture sum</th>\n",
       "        </tr>\n",
       "    </thead>\n",
       "    <tbody>\n",
       "        <tr>\n",
       "            <td>ANTH   </td> <td>G    </td> <td>            </td> <td>60          </td> <td>       </td> <td>              </td> <td>735          </td> <td>708820     </td> <td>12200      </td> <td>          </td> <td>             </td> <td>          </td> <td>35           </td>\n",
       "        </tr>\n",
       "        <tr>\n",
       "            <td>ANTH   </td> <td>L    </td> <td>            </td> <td>2073        </td> <td>       </td> <td>              </td> <td>2385         </td> <td>1215120    </td> <td>7292       </td> <td>          </td> <td>             </td> <td>          </td> <td>7            </td>\n",
       "        </tr>\n",
       "        <tr>\n",
       "            <td>ANTH   </td> <td>U    </td> <td>            </td> <td>389         </td> <td>       </td> <td>              </td> <td>880          </td> <td>627812     </td> <td>7500       </td> <td>          </td> <td>             </td> <td>          </td> <td>31           </td>\n",
       "        </tr>\n",
       "        <tr>\n",
       "            <td>ART    </td> <td>G    </td> <td>            </td> <td>29          </td> <td>       </td> <td>              </td> <td>358          </td> <td>384788     </td> <td>4400       </td> <td>          </td> <td>             </td> <td>          </td> <td>19           </td>\n",
       "        </tr>\n",
       "        <tr>\n",
       "            <td>ART    </td> <td>L    </td> <td>            </td> <td>411         </td> <td>       </td> <td>              </td> <td>468          </td> <td>202520     </td> <td>1013       </td> <td>          </td> <td>             </td> <td>          </td> <td>4            </td>\n",
       "        </tr>\n",
       "        <tr>\n",
       "            <td>ART    </td> <td>U    </td> <td>            </td> <td>165         </td> <td>       </td> <td>              </td> <td>262          </td> <td>425292     </td> <td>5800       </td> <td>          </td> <td>             </td> <td>          </td> <td>21           </td>\n",
       "        </tr>\n",
       "        <tr>\n",
       "            <td>ART  CS</td> <td>L    </td> <td>            </td> <td>4           </td> <td>       </td> <td>              </td> <td>20           </td> <td>20252      </td> <td>100        </td> <td>          </td> <td>             </td> <td>          </td> <td>1            </td>\n",
       "        </tr>\n",
       "        <tr>\n",
       "            <td>ART  CS</td> <td>U    </td> <td>            </td> <td>61          </td> <td>       </td> <td>              </td> <td>73           </td> <td>324032     </td> <td>6400       </td> <td>          </td> <td>             </td> <td>          </td> <td>16           </td>\n",
       "        </tr>\n",
       "        <tr>\n",
       "            <td>ARTHI  </td> <td>G    </td> <td>            </td> <td>56          </td> <td>       </td> <td>              </td> <td>325          </td> <td>607560     </td> <td>9900       </td> <td>          </td> <td>             </td> <td>          </td> <td>30           </td>\n",
       "        </tr>\n",
       "        <tr>\n",
       "            <td>ARTHI  </td> <td>L    </td> <td>            </td> <td>1326        </td> <td>       </td> <td>              </td> <td>1400         </td> <td>627812     </td> <td>3262       </td> <td>          </td> <td>             </td> <td>          </td> <td>3            </td>\n",
       "        </tr>\n",
       "    </tbody>\n",
       "</table>\n",
       "<p>... (213 rows omitted)</p>"
      ],
      "text/plain": [
       "dept    | level | COURSEID sum | ENROLLED sum | GES sum | INSTRUCTOR sum | MAXENROLL sum | QUARTER sum | SECTION sum | STATUS sum | courseNum sum | suffix sum | isLecture sum\n",
       "ANTH    | G     |              | 60           |         |                | 735           | 708820      | 12200       |            |               |            | 35\n",
       "ANTH    | L     |              | 2073         |         |                | 2385          | 1215120     | 7292        |            |               |            | 7\n",
       "ANTH    | U     |              | 389          |         |                | 880           | 627812      | 7500        |            |               |            | 31\n",
       "ART     | G     |              | 29           |         |                | 358           | 384788      | 4400        |            |               |            | 19\n",
       "ART     | L     |              | 411          |         |                | 468           | 202520      | 1013        |            |               |            | 4\n",
       "ART     | U     |              | 165          |         |                | 262           | 425292      | 5800        |            |               |            | 21\n",
       "ART  CS | L     |              | 4            |         |                | 20            | 20252       | 100         |            |               |            | 1\n",
       "ART  CS | U     |              | 61           |         |                | 73            | 324032      | 6400        |            |               |            | 16\n",
       "ARTHI   | G     |              | 56           |         |                | 325           | 607560      | 9900        |            |               |            | 30\n",
       "ARTHI   | L     |              | 1326         |         |                | 1400          | 627812      | 3262        |            |               |            | 3\n",
       "... (213 rows omitted)"
      ]
     },
     "execution_count": 20,
     "metadata": {},
     "output_type": "execute_result"
    }
   ],
   "source": [
    "courses.group([\"dept\",\"level\"], np.sum)"
   ]
  },
  {
   "cell_type": "code",
   "execution_count": null,
   "metadata": {
    "colab": {
     "base_uri": "https://localhost:8080/",
     "height": 427
    },
    "id": "LEg_DgZQ2IbT",
    "outputId": "77222b6d-3345-4a97-b339-aa704e5815fb"
   },
   "outputs": [
    {
     "data": {
      "text/html": [
       "<table border=\"1\" class=\"dataframe\">\n",
       "    <thead>\n",
       "        <tr>\n",
       "            <th>level</th> <th>dept</th> <th>COURSEID sum</th> <th>ENROLLED sum</th> <th>GES sum</th> <th>INSTRUCTOR sum</th> <th>MAXENROLL sum</th> <th>QUARTER sum</th> <th>SECTION sum</th> <th>STATUS sum</th> <th>courseNum sum</th> <th>suffix sum</th> <th>isLecture sum</th>\n",
       "        </tr>\n",
       "    </thead>\n",
       "    <tbody>\n",
       "        <tr>\n",
       "            <td>G    </td> <td>ANTH </td> <td>            </td> <td>60          </td> <td>       </td> <td>              </td> <td>735          </td> <td>708820     </td> <td>12200      </td> <td>          </td> <td>             </td> <td>          </td> <td>35           </td>\n",
       "        </tr>\n",
       "        <tr>\n",
       "            <td>G    </td> <td>ART  </td> <td>            </td> <td>29          </td> <td>       </td> <td>              </td> <td>358          </td> <td>384788     </td> <td>4400       </td> <td>          </td> <td>             </td> <td>          </td> <td>19           </td>\n",
       "        </tr>\n",
       "        <tr>\n",
       "            <td>G    </td> <td>ARTHI</td> <td>            </td> <td>56          </td> <td>       </td> <td>              </td> <td>325          </td> <td>607560     </td> <td>9900       </td> <td>          </td> <td>             </td> <td>          </td> <td>30           </td>\n",
       "        </tr>\n",
       "        <tr>\n",
       "            <td>G    </td> <td>AS AM</td> <td>            </td> <td>7           </td> <td>       </td> <td>              </td> <td>10           </td> <td>20252      </td> <td>100        </td> <td>          </td> <td>             </td> <td>          </td> <td>1            </td>\n",
       "        </tr>\n",
       "        <tr>\n",
       "            <td>G    </td> <td>BIOE </td> <td>            </td> <td>102         </td> <td>       </td> <td>              </td> <td>625          </td> <td>526552     </td> <td>10700      </td> <td>          </td> <td>             </td> <td>          </td> <td>26           </td>\n",
       "        </tr>\n",
       "        <tr>\n",
       "            <td>G    </td> <td>BL ST</td> <td>            </td> <td>5           </td> <td>       </td> <td>              </td> <td>71           </td> <td>162016     </td> <td>1300       </td> <td>          </td> <td>             </td> <td>          </td> <td>8            </td>\n",
       "        </tr>\n",
       "        <tr>\n",
       "            <td>G    </td> <td>C LIT</td> <td>            </td> <td>26          </td> <td>       </td> <td>              </td> <td>181          </td> <td>465796     </td> <td>9300       </td> <td>          </td> <td>             </td> <td>          </td> <td>23           </td>\n",
       "        </tr>\n",
       "        <tr>\n",
       "            <td>G    </td> <td>CH E </td> <td>            </td> <td>240         </td> <td>       </td> <td>              </td> <td>2609         </td> <td>1255624    </td> <td>49300      </td> <td>          </td> <td>             </td> <td>          </td> <td>62           </td>\n",
       "        </tr>\n",
       "        <tr>\n",
       "            <td>G    </td> <td>CH ST</td> <td>            </td> <td>25          </td> <td>       </td> <td>              </td> <td>192          </td> <td>303780     </td> <td>2800       </td> <td>          </td> <td>             </td> <td>          </td> <td>15           </td>\n",
       "        </tr>\n",
       "        <tr>\n",
       "            <td>G    </td> <td>CHEM </td> <td>            </td> <td>240         </td> <td>       </td> <td>              </td> <td>4632         </td> <td>1660664    </td> <td>89100      </td> <td>          </td> <td>             </td> <td>          </td> <td>82           </td>\n",
       "        </tr>\n",
       "    </tbody>\n",
       "</table>\n",
       "<p>... (213 rows omitted)</p>"
      ],
      "text/plain": [
       "level | dept  | COURSEID sum | ENROLLED sum | GES sum | INSTRUCTOR sum | MAXENROLL sum | QUARTER sum | SECTION sum | STATUS sum | courseNum sum | suffix sum | isLecture sum\n",
       "G     | ANTH  |              | 60           |         |                | 735           | 708820      | 12200       |            |               |            | 35\n",
       "G     | ART   |              | 29           |         |                | 358           | 384788      | 4400        |            |               |            | 19\n",
       "G     | ARTHI |              | 56           |         |                | 325           | 607560      | 9900        |            |               |            | 30\n",
       "G     | AS AM |              | 7            |         |                | 10            | 20252       | 100         |            |               |            | 1\n",
       "G     | BIOE  |              | 102          |         |                | 625           | 526552      | 10700       |            |               |            | 26\n",
       "G     | BL ST |              | 5            |         |                | 71            | 162016      | 1300        |            |               |            | 8\n",
       "G     | C LIT |              | 26           |         |                | 181           | 465796      | 9300        |            |               |            | 23\n",
       "G     | CH E  |              | 240          |         |                | 2609          | 1255624     | 49300       |            |               |            | 62\n",
       "G     | CH ST |              | 25           |         |                | 192           | 303780      | 2800        |            |               |            | 15\n",
       "G     | CHEM  |              | 240          |         |                | 4632          | 1660664     | 89100       |            |               |            | 82\n",
       "... (213 rows omitted)"
      ]
     },
     "execution_count": 21,
     "metadata": {},
     "output_type": "execute_result"
    }
   ],
   "source": [
    "# If we reverse the order, the level comes first:\n",
    "courses.group([\"level\",\"dept\"], np.sum)"
   ]
  },
  {
   "cell_type": "markdown",
   "metadata": {
    "id": "Bz8YJhR8y177"
   },
   "source": [
    "# Pivot: two categorical columns\n",
    "\n",
    "Pivot is similar to group with two columns in that you can summarize data for all rows that match a combination of two categories.\n",
    "\n",
    "But it's different in that you:\n",
    "* focus on a single variable\n",
    "* put one category across the columns (the first one)\n",
    "* put the other category across the rows (the second one)\n",
    "\n",
    "Example:"
   ]
  },
  {
   "cell_type": "code",
   "execution_count": null,
   "metadata": {
    "colab": {
     "base_uri": "https://localhost:8080/",
     "height": 181
    },
    "id": "INzz4vFZ2oQI",
    "outputId": "ed0b202b-381c-4b14-d0ac-6b579bacd1db"
   },
   "outputs": [
    {
     "data": {
      "text/html": [
       "<table border=\"1\" class=\"dataframe\">\n",
       "    <thead>\n",
       "        <tr>\n",
       "            <th>level</th> <th>ANTH</th> <th>ART</th> <th>ART  CS</th> <th>ARTHI</th> <th>AS AM</th> <th>ASTRO</th> <th>BIOE</th> <th>BIOL CS</th> <th>BL ST</th> <th>C LIT</th> <th>CH E</th> <th>CH ST</th> <th>CHEM</th> <th>CHEM CS</th> <th>CHIN</th> <th>CLASS</th> <th>CMPSC</th> <th>CMPTGCS</th> <th>CNCSP</th> <th>COMM</th> <th>COMM W</th> <th>DANCE</th> <th>DYNS</th> <th>EACS</th> <th>EARTH</th> <th>ECE</th> <th>ECON</th> <th>ED</th> <th>ED   E</th> <th>ED   HSS</th> <th>ED   IA</th> <th>ED   LA</th> <th>ED   M</th> <th>ED   S</th> <th>ED   W</th> <th>EDS</th> <th>EEMB</th> <th>EEMB W</th> <th>ENGL</th> <th>ENGR</th> <th>ENV S</th> <th>ES   1-</th> <th>ESM</th> <th>ESS</th> <th>ESS  W</th> <th>FAMST</th> <th>FAMSTW</th> <th>FEMST</th> <th>FR</th> <th>GEOG</th> <th>GER</th> <th>GLOBL</th> <th>GRAD</th> <th>GREEK</th> <th>HEB</th> <th>HIST</th> <th>INT</th> <th>INT  CS</th> <th>IQB</th> <th>ITAL</th> <th>JAPAN</th> <th>KOR</th> <th>LAIS</th> <th>LATIN</th> <th>LING</th> <th>LING W</th> <th>MARINCS</th> <th>MARSC</th> <th>MAT</th> <th>MATH</th> <th>MATH CS</th> <th>MATRL</th> <th>MCDB</th> <th>ME</th> <th>ME   W</th> <th>ME ST</th> <th>MS</th> <th>MUS</th> <th>MUS  CS</th> <th>MUS A</th> <th>PHIL</th> <th>PHYS</th> <th>PHYS CS</th> <th>POL S</th> <th>POL SH</th> <th>PORT</th> <th>PSTAT</th> <th>PSTATW</th> <th>PSY</th> <th>RENST</th> <th>RG ST</th> <th>RUSS</th> <th>SLAV</th> <th>SOC</th> <th>SOC  W</th> <th>SPAN</th> <th>SPAN W</th> <th>THTR</th> <th>THTR W</th> <th>TMP</th> <th>WRIT</th>\n",
       "        </tr>\n",
       "    </thead>\n",
       "    <tbody>\n",
       "        <tr>\n",
       "            <td>G    </td> <td>60  </td> <td>29  </td> <td>0      </td> <td>56   </td> <td>7    </td> <td>0    </td> <td>102 </td> <td>0      </td> <td>5    </td> <td>26   </td> <td>240 </td> <td>25   </td> <td>240 </td> <td>0      </td> <td>13  </td> <td>17   </td> <td>425  </td> <td>0      </td> <td>231  </td> <td>107 </td> <td>0     </td> <td>0    </td> <td>34  </td> <td>9   </td> <td>83   </td> <td>575 </td> <td>227 </td> <td>509 </td> <td>18    </td> <td>53      </td> <td>4      </td> <td>49     </td> <td>15    </td> <td>49    </td> <td>0     </td> <td>185 </td> <td>178 </td> <td>0     </td> <td>77  </td> <td>0   </td> <td>24   </td> <td>0      </td> <td>962 </td> <td>0   </td> <td>0     </td> <td>53   </td> <td>0     </td> <td>33   </td> <td>1   </td> <td>190 </td> <td>0   </td> <td>52   </td> <td>11  </td> <td>7    </td> <td>0   </td> <td>172 </td> <td>26  </td> <td>0      </td> <td>97  </td> <td>0   </td> <td>10   </td> <td>0   </td> <td>4   </td> <td>5    </td> <td>105 </td> <td>0     </td> <td>0      </td> <td>56   </td> <td>64  </td> <td>235 </td> <td>0      </td> <td>537  </td> <td>245 </td> <td>251 </td> <td>0     </td> <td>0    </td> <td>0   </td> <td>52  </td> <td>0      </td> <td>16   </td> <td>65  </td> <td>300 </td> <td>0      </td> <td>76   </td> <td>0     </td> <td>4   </td> <td>421  </td> <td>30    </td> <td>273 </td> <td>0    </td> <td>69   </td> <td>0   </td> <td>0   </td> <td>89  </td> <td>0     </td> <td>23  </td> <td>0     </td> <td>25  </td> <td>0     </td> <td>149 </td> <td>23  </td>\n",
       "        </tr>\n",
       "        <tr>\n",
       "            <td>L    </td> <td>2073</td> <td>411 </td> <td>4      </td> <td>1326 </td> <td>548  </td> <td>288  </td> <td>0   </td> <td>42     </td> <td>474  </td> <td>887  </td> <td>49  </td> <td>1154 </td> <td>4726</td> <td>13     </td> <td>259 </td> <td>1566 </td> <td>1752 </td> <td>30     </td> <td>8    </td> <td>1727</td> <td>0     </td> <td>1022 </td> <td>0   </td> <td>231 </td> <td>2235 </td> <td>647 </td> <td>3732</td> <td>20  </td> <td>0     </td> <td>0       </td> <td>0      </td> <td>0      </td> <td>0     </td> <td>0     </td> <td>0     </td> <td>0   </td> <td>2051</td> <td>0     </td> <td>1461</td> <td>310 </td> <td>1654 </td> <td>397    </td> <td>0   </td> <td>373 </td> <td>68    </td> <td>428  </td> <td>0     </td> <td>0    </td> <td>165 </td> <td>996 </td> <td>138 </td> <td>538  </td> <td>0   </td> <td>2    </td> <td>13  </td> <td>3399</td> <td>462 </td> <td>0      </td> <td>0   </td> <td>172 </td> <td>107  </td> <td>63  </td> <td>194 </td> <td>17   </td> <td>718 </td> <td>114   </td> <td>0      </td> <td>0    </td> <td>0   </td> <td>5278</td> <td>0      </td> <td>56   </td> <td>664 </td> <td>378 </td> <td>0     </td> <td>0    </td> <td>87  </td> <td>1388</td> <td>0      </td> <td>144  </td> <td>1716</td> <td>3501</td> <td>127    </td> <td>727  </td> <td>238   </td> <td>29  </td> <td>1758 </td> <td>0     </td> <td>1485</td> <td>0    </td> <td>811  </td> <td>26  </td> <td>0   </td> <td>1358</td> <td>0     </td> <td>652 </td> <td>180   </td> <td>257 </td> <td>0     </td> <td>0   </td> <td>782 </td>\n",
       "        </tr>\n",
       "        <tr>\n",
       "            <td>U    </td> <td>389 </td> <td>165 </td> <td>61     </td> <td>383  </td> <td>328  </td> <td>0    </td> <td>0   </td> <td>14     </td> <td>368  </td> <td>298  </td> <td>521 </td> <td>532  </td> <td>1853</td> <td>0      </td> <td>78  </td> <td>133  </td> <td>2949 </td> <td>14     </td> <td>1024 </td> <td>1981</td> <td>155   </td> <td>167  </td> <td>0   </td> <td>39  </td> <td>509  </td> <td>1901</td> <td>4671</td> <td>920 </td> <td>0     </td> <td>0       </td> <td>0      </td> <td>0      </td> <td>0     </td> <td>0     </td> <td>28    </td> <td>0   </td> <td>1826</td> <td>282   </td> <td>1531</td> <td>151 </td> <td>2327 </td> <td>0      </td> <td>0   </td> <td>389 </td> <td>58    </td> <td>854  </td> <td>90    </td> <td>925  </td> <td>222 </td> <td>730 </td> <td>99  </td> <td>413  </td> <td>0   </td> <td>5    </td> <td>0   </td> <td>1158</td> <td>518 </td> <td>3      </td> <td>0   </td> <td>124 </td> <td>183  </td> <td>0   </td> <td>22  </td> <td>8    </td> <td>667 </td> <td>0     </td> <td>43     </td> <td>0    </td> <td>0   </td> <td>1130</td> <td>78     </td> <td>60   </td> <td>3385</td> <td>713 </td> <td>27    </td> <td>1    </td> <td>64  </td> <td>430 </td> <td>35     </td> <td>128  </td> <td>859 </td> <td>1106</td> <td>0      </td> <td>2063 </td> <td>0     </td> <td>101 </td> <td>5072 </td> <td>196   </td> <td>3590</td> <td>0    </td> <td>451  </td> <td>10  </td> <td>72  </td> <td>2283</td> <td>342   </td> <td>290 </td> <td>0     </td> <td>382 </td> <td>0     </td> <td>766 </td> <td>1521</td>\n",
       "        </tr>\n",
       "    </tbody>\n",
       "</table>"
      ],
      "text/plain": [
       "level | ANTH | ART  | ART  CS | ARTHI | AS AM | ASTRO | BIOE | BIOL CS | BL ST | C LIT | CH E | CH ST | CHEM | CHEM CS | CHIN | CLASS | CMPSC | CMPTGCS | CNCSP | COMM | COMM W | DANCE | DYNS | EACS | EARTH | ECE  | ECON | ED   | ED   E | ED   HSS | ED   IA | ED   LA | ED   M | ED   S | ED   W | EDS  | EEMB | EEMB W | ENGL | ENGR | ENV S | ES   1- | ESM  | ESS  | ESS  W | FAMST | FAMSTW | FEMST | FR   | GEOG | GER  | GLOBL | GRAD | GREEK | HEB  | HIST | INT  | INT  CS | IQB  | ITAL | JAPAN | KOR  | LAIS | LATIN | LING | LING W | MARINCS | MARSC | MAT  | MATH | MATH CS | MATRL | MCDB | ME   | ME   W | ME ST | MS   | MUS  | MUS  CS | MUS A | PHIL | PHYS | PHYS CS | POL S | POL SH | PORT | PSTAT | PSTATW | PSY  | RENST | RG ST | RUSS | SLAV | SOC  | SOC  W | SPAN | SPAN W | THTR | THTR W | TMP  | WRIT\n",
       "G     | 60   | 29   | 0       | 56    | 7     | 0     | 102  | 0       | 5     | 26    | 240  | 25    | 240  | 0       | 13   | 17    | 425   | 0       | 231   | 107  | 0      | 0     | 34   | 9    | 83    | 575  | 227  | 509  | 18     | 53       | 4       | 49      | 15     | 49     | 0      | 185  | 178  | 0      | 77   | 0    | 24    | 0       | 962  | 0    | 0      | 53    | 0      | 33    | 1    | 190  | 0    | 52    | 11   | 7     | 0    | 172  | 26   | 0       | 97   | 0    | 10    | 0    | 4    | 5     | 105  | 0      | 0       | 56    | 64   | 235  | 0       | 537   | 245  | 251  | 0      | 0     | 0    | 52   | 0       | 16    | 65   | 300  | 0       | 76    | 0      | 4    | 421   | 30     | 273  | 0     | 69    | 0    | 0    | 89   | 0      | 23   | 0      | 25   | 0      | 149  | 23\n",
       "L     | 2073 | 411  | 4       | 1326  | 548   | 288   | 0    | 42      | 474   | 887   | 49   | 1154  | 4726 | 13      | 259  | 1566  | 1752  | 30      | 8     | 1727 | 0      | 1022  | 0    | 231  | 2235  | 647  | 3732 | 20   | 0      | 0        | 0       | 0       | 0      | 0      | 0      | 0    | 2051 | 0      | 1461 | 310  | 1654  | 397     | 0    | 373  | 68     | 428   | 0      | 0     | 165  | 996  | 138  | 538   | 0    | 2     | 13   | 3399 | 462  | 0       | 0    | 172  | 107   | 63   | 194  | 17    | 718  | 114    | 0       | 0     | 0    | 5278 | 0       | 56    | 664  | 378  | 0      | 0     | 87   | 1388 | 0       | 144   | 1716 | 3501 | 127     | 727   | 238    | 29   | 1758  | 0      | 1485 | 0     | 811   | 26   | 0    | 1358 | 0      | 652  | 180    | 257  | 0      | 0    | 782\n",
       "U     | 389  | 165  | 61      | 383   | 328   | 0     | 0    | 14      | 368   | 298   | 521  | 532   | 1853 | 0       | 78   | 133   | 2949  | 14      | 1024  | 1981 | 155    | 167   | 0    | 39   | 509   | 1901 | 4671 | 920  | 0      | 0        | 0       | 0       | 0      | 0      | 28     | 0    | 1826 | 282    | 1531 | 151  | 2327  | 0       | 0    | 389  | 58     | 854   | 90     | 925   | 222  | 730  | 99   | 413   | 0    | 5     | 0    | 1158 | 518  | 3       | 0    | 124  | 183   | 0    | 22   | 8     | 667  | 0      | 43      | 0     | 0    | 1130 | 78      | 60    | 3385 | 713  | 27     | 1     | 64   | 430  | 35      | 128   | 859  | 1106 | 0       | 2063  | 0      | 101  | 5072  | 196    | 3590 | 0     | 451   | 10   | 72   | 2283 | 342    | 290  | 0      | 382  | 0      | 766  | 1521"
      ]
     },
     "execution_count": 22,
     "metadata": {},
     "output_type": "execute_result"
    }
   ],
   "source": [
    "courses.pivot(\"dept\", \"level\",\"ENROLLED\",sum)"
   ]
  },
  {
   "cell_type": "markdown",
   "metadata": {
    "id": "iIGsKGWY3nRN"
   },
   "source": []
  },
  {
   "cell_type": "code",
   "execution_count": null,
   "metadata": {
    "colab": {
     "base_uri": "https://localhost:8080/",
     "height": 392
    },
    "id": "_W45upUU3EPU",
    "outputId": "0004bf07-d37e-4a81-bb57-cc56c47673c7"
   },
   "outputs": [
    {
     "data": {
      "text/html": [
       "<table border=\"1\" class=\"dataframe\">\n",
       "    <thead>\n",
       "        <tr>\n",
       "            <th>dept</th> <th>G</th> <th>L</th> <th>U</th>\n",
       "        </tr>\n",
       "    </thead>\n",
       "    <tbody>\n",
       "        <tr>\n",
       "            <td>ANTH   </td> <td>60  </td> <td>2073</td> <td>389 </td>\n",
       "        </tr>\n",
       "        <tr>\n",
       "            <td>ART    </td> <td>29  </td> <td>411 </td> <td>165 </td>\n",
       "        </tr>\n",
       "        <tr>\n",
       "            <td>ART  CS</td> <td>0   </td> <td>4   </td> <td>61  </td>\n",
       "        </tr>\n",
       "        <tr>\n",
       "            <td>ARTHI  </td> <td>56  </td> <td>1326</td> <td>383 </td>\n",
       "        </tr>\n",
       "        <tr>\n",
       "            <td>AS AM  </td> <td>7   </td> <td>548 </td> <td>328 </td>\n",
       "        </tr>\n",
       "        <tr>\n",
       "            <td>ASTRO  </td> <td>0   </td> <td>288 </td> <td>0   </td>\n",
       "        </tr>\n",
       "        <tr>\n",
       "            <td>BIOE   </td> <td>102 </td> <td>0   </td> <td>0   </td>\n",
       "        </tr>\n",
       "        <tr>\n",
       "            <td>BIOL CS</td> <td>0   </td> <td>42  </td> <td>14  </td>\n",
       "        </tr>\n",
       "        <tr>\n",
       "            <td>BL ST  </td> <td>5   </td> <td>474 </td> <td>368 </td>\n",
       "        </tr>\n",
       "        <tr>\n",
       "            <td>C LIT  </td> <td>26  </td> <td>887 </td> <td>298 </td>\n",
       "        </tr>\n",
       "    </tbody>\n",
       "</table>\n",
       "<p>... (91 rows omitted)</p>"
      ],
      "text/plain": [
       "dept    | G    | L    | U\n",
       "ANTH    | 60   | 2073 | 389\n",
       "ART     | 29   | 411  | 165\n",
       "ART  CS | 0    | 4    | 61\n",
       "ARTHI   | 56   | 1326 | 383\n",
       "AS AM   | 7    | 548  | 328\n",
       "ASTRO   | 0    | 288  | 0\n",
       "BIOE    | 102  | 0    | 0\n",
       "BIOL CS | 0    | 42   | 14\n",
       "BL ST   | 5    | 474  | 368\n",
       "C LIT   | 26   | 887  | 298\n",
       "... (91 rows omitted)"
      ]
     },
     "execution_count": 23,
     "metadata": {},
     "output_type": "execute_result"
    }
   ],
   "source": [
    "courses.pivot(\"level\", \"dept\",\"ENROLLED\",sum)"
   ]
  },
  {
   "cell_type": "markdown",
   "metadata": {
    "id": "oTJqTicLgfFt"
   },
   "source": [
    "# Joins\n",
    "\n",
    "When you have data in  *two different* tables and you want to bring them together, you use a join.\n",
    "\n",
    "For example, here's a new table we haven't seen before."
   ]
  },
  {
   "cell_type": "code",
   "execution_count": null,
   "metadata": {
    "colab": {
     "base_uri": "https://localhost:8080/",
     "height": 392
    },
    "id": "ZROvVyt-gqMj",
    "outputId": "ac386dcb-bd05-4621-cb32-df4d633293f0"
   },
   "outputs": [
    {
     "data": {
      "text/html": [
       "<table border=\"1\" class=\"dataframe\">\n",
       "    <thead>\n",
       "        <tr>\n",
       "            <th>collegeCode</th> <th>deptCode</th> <th>inactive</th> <th>relatedDeptCode</th> <th>subjectCode</th> <th>subjectTranslation</th>\n",
       "        </tr>\n",
       "    </thead>\n",
       "    <tbody>\n",
       "        <tr>\n",
       "            <td>L&S        </td> <td>ANTH    </td> <td>False   </td> <td>nan            </td> <td>ANTH       </td> <td>Anthropology              </td>\n",
       "        </tr>\n",
       "        <tr>\n",
       "            <td>CRST       </td> <td>CRSTU   </td> <td>False   </td> <td>nan            </td> <td>ART  CS    </td> <td>Art (Creative Studies)    </td>\n",
       "        </tr>\n",
       "        <tr>\n",
       "            <td>L&S        </td> <td>ARTHI   </td> <td>False   </td> <td>nan            </td> <td>ARTHI      </td> <td>Art History               </td>\n",
       "        </tr>\n",
       "        <tr>\n",
       "            <td>L&S        </td> <td>ART     </td> <td>False   </td> <td>nan            </td> <td>ARTST      </td> <td>Art Studio                </td>\n",
       "        </tr>\n",
       "        <tr>\n",
       "            <td>L&S        </td> <td>ASAM    </td> <td>False   </td> <td>nan            </td> <td>AS AM      </td> <td>Asian American Studies    </td>\n",
       "        </tr>\n",
       "        <tr>\n",
       "            <td>L&S        </td> <td>PHYS    </td> <td>False   </td> <td>nan            </td> <td>ASTRO      </td> <td>Astronomy                 </td>\n",
       "        </tr>\n",
       "        <tr>\n",
       "            <td>CRST       </td> <td>CRSTU   </td> <td>False   </td> <td>nan            </td> <td>BIOL CS    </td> <td>Biology (Creative Studies)</td>\n",
       "        </tr>\n",
       "        <tr>\n",
       "            <td>L&S        </td> <td>BLKST   </td> <td>False   </td> <td>nan            </td> <td>BL ST      </td> <td>Black Studies             </td>\n",
       "        </tr>\n",
       "        <tr>\n",
       "            <td>L&S        </td> <td>CLIT    </td> <td>False   </td> <td>nan            </td> <td>C LIT      </td> <td>Comparative Literature    </td>\n",
       "        </tr>\n",
       "        <tr>\n",
       "            <td>ENGR       </td> <td>CNENG   </td> <td>False   </td> <td>nan            </td> <td>CH E       </td> <td>Chemical Engineering      </td>\n",
       "        </tr>\n",
       "    </tbody>\n",
       "</table>\n",
       "<p>... (135 rows omitted)</p>"
      ],
      "text/plain": [
       "collegeCode | deptCode | inactive | relatedDeptCode | subjectCode | subjectTranslation\n",
       "L&S         | ANTH     | False    | nan             | ANTH        | Anthropology\n",
       "CRST        | CRSTU    | False    | nan             | ART  CS     | Art (Creative Studies)\n",
       "L&S         | ARTHI    | False    | nan             | ARTHI       | Art History\n",
       "L&S         | ART      | False    | nan             | ARTST       | Art Studio\n",
       "L&S         | ASAM     | False    | nan             | AS AM       | Asian American Studies\n",
       "L&S         | PHYS     | False    | nan             | ASTRO       | Astronomy\n",
       "CRST        | CRSTU    | False    | nan             | BIOL CS     | Biology (Creative Studies)\n",
       "L&S         | BLKST    | False    | nan             | BL ST       | Black Studies\n",
       "L&S         | CLIT     | False    | nan             | C LIT       | Comparative Literature\n",
       "ENGR        | CNENG    | False    | nan             | CH E        | Chemical Engineering\n",
       "... (135 rows omitted)"
      ]
     },
     "execution_count": 24,
     "metadata": {},
     "output_type": "execute_result"
    }
   ],
   "source": [
    "codes = Table.read_table(\"data/codes.csv\")\n",
    "codes"
   ]
  },
  {
   "cell_type": "markdown",
   "metadata": {
    "id": "_3RSiY5LgtpN"
   },
   "source": [
    "This table allows us to translate the codes from the subjectAreas (`dept` in our courses table) into full name of that subject area.\n",
    "\n",
    "For example, `ANTH` becomes `Anthropology`.\n",
    "\n",
    "To make things easier, let's cut our two tables down to size a bit.  From courses, let's just select `COURSEID`, `dept`, `level`, and `ENROLLED`:"
   ]
  },
  {
   "cell_type": "code",
   "execution_count": null,
   "metadata": {
    "colab": {
     "base_uri": "https://localhost:8080/",
     "height": 392
    },
    "id": "Ku2mn3N4hLvM",
    "outputId": "ea20fcf7-29ed-44b2-9829-04aac4efc0fc"
   },
   "outputs": [
    {
     "data": {
      "text/html": [
       "<table border=\"1\" class=\"dataframe\">\n",
       "    <thead>\n",
       "        <tr>\n",
       "            <th>COURSEID</th> <th>dept</th> <th>level</th> <th>ENROLLED</th>\n",
       "        </tr>\n",
       "    </thead>\n",
       "    <tbody>\n",
       "        <tr>\n",
       "            <td>CMPSC     5A -1</td> <td>CMPSC</td> <td>L    </td> <td>128     </td>\n",
       "        </tr>\n",
       "        <tr>\n",
       "            <td>CMPSC     5A -1</td> <td>CMPSC</td> <td>L    </td> <td>23      </td>\n",
       "        </tr>\n",
       "        <tr>\n",
       "            <td>CMPSC     5A -1</td> <td>CMPSC</td> <td>L    </td> <td>26      </td>\n",
       "        </tr>\n",
       "        <tr>\n",
       "            <td>CMPSC     5A -1</td> <td>CMPSC</td> <td>L    </td> <td>30      </td>\n",
       "        </tr>\n",
       "        <tr>\n",
       "            <td>CMPSC     5A -1</td> <td>CMPSC</td> <td>L    </td> <td>25      </td>\n",
       "        </tr>\n",
       "        <tr>\n",
       "            <td>CMPSC     5A -1</td> <td>CMPSC</td> <td>L    </td> <td>24      </td>\n",
       "        </tr>\n",
       "        <tr>\n",
       "            <td>CMPSC     5B -1</td> <td>CMPSC</td> <td>L    </td> <td>0       </td>\n",
       "        </tr>\n",
       "        <tr>\n",
       "            <td>CMPSC     5B -1</td> <td>CMPSC</td> <td>L    </td> <td>0       </td>\n",
       "        </tr>\n",
       "        <tr>\n",
       "            <td>CMPSC     5B -1</td> <td>CMPSC</td> <td>L    </td> <td>0       </td>\n",
       "        </tr>\n",
       "        <tr>\n",
       "            <td>CMPSC     5B -1</td> <td>CMPSC</td> <td>L    </td> <td>0       </td>\n",
       "        </tr>\n",
       "    </tbody>\n",
       "</table>\n",
       "<p>... (6869 rows omitted)</p>"
      ],
      "text/plain": [
       "COURSEID        | dept  | level | ENROLLED\n",
       "CMPSC     5A -1 | CMPSC | L     | 128\n",
       "CMPSC     5A -1 | CMPSC | L     | 23\n",
       "CMPSC     5A -1 | CMPSC | L     | 26\n",
       "CMPSC     5A -1 | CMPSC | L     | 30\n",
       "CMPSC     5A -1 | CMPSC | L     | 25\n",
       "CMPSC     5A -1 | CMPSC | L     | 24\n",
       "CMPSC     5B -1 | CMPSC | L     | 0\n",
       "CMPSC     5B -1 | CMPSC | L     | 0\n",
       "CMPSC     5B -1 | CMPSC | L     | 0\n",
       "CMPSC     5B -1 | CMPSC | L     | 0\n",
       "... (6869 rows omitted)"
      ]
     },
     "execution_count": 25,
     "metadata": {},
     "output_type": "execute_result"
    }
   ],
   "source": [
    "courses1 = courses.select(\"COURSEID\",\"dept\",\"level\",\"ENROLLED\")\n",
    "courses1"
   ]
  },
  {
   "cell_type": "code",
   "execution_count": null,
   "metadata": {
    "id": "7NTNlrwThLh2"
   },
   "outputs": [],
   "source": []
  },
  {
   "cell_type": "markdown",
   "metadata": {
    "id": "DXm7s08zhSJh"
   },
   "source": [
    "And from the codes, let's just choose `subjectCode` and `subjectTranslation`"
   ]
  },
  {
   "cell_type": "code",
   "execution_count": null,
   "metadata": {
    "colab": {
     "base_uri": "https://localhost:8080/",
     "height": 392
    },
    "id": "r-lLP0s3hcZa",
    "outputId": "bf7be876-bbb7-4a2a-8069-085fb07f4202"
   },
   "outputs": [
    {
     "data": {
      "text/html": [
       "<table border=\"1\" class=\"dataframe\">\n",
       "    <thead>\n",
       "        <tr>\n",
       "            <th>subjectCode</th> <th>subjectTranslation</th>\n",
       "        </tr>\n",
       "    </thead>\n",
       "    <tbody>\n",
       "        <tr>\n",
       "            <td>ANTH       </td> <td>Anthropology              </td>\n",
       "        </tr>\n",
       "        <tr>\n",
       "            <td>ART  CS    </td> <td>Art (Creative Studies)    </td>\n",
       "        </tr>\n",
       "        <tr>\n",
       "            <td>ARTHI      </td> <td>Art History               </td>\n",
       "        </tr>\n",
       "        <tr>\n",
       "            <td>ARTST      </td> <td>Art Studio                </td>\n",
       "        </tr>\n",
       "        <tr>\n",
       "            <td>AS AM      </td> <td>Asian American Studies    </td>\n",
       "        </tr>\n",
       "        <tr>\n",
       "            <td>ASTRO      </td> <td>Astronomy                 </td>\n",
       "        </tr>\n",
       "        <tr>\n",
       "            <td>BIOL CS    </td> <td>Biology (Creative Studies)</td>\n",
       "        </tr>\n",
       "        <tr>\n",
       "            <td>BL ST      </td> <td>Black Studies             </td>\n",
       "        </tr>\n",
       "        <tr>\n",
       "            <td>C LIT      </td> <td>Comparative Literature    </td>\n",
       "        </tr>\n",
       "        <tr>\n",
       "            <td>CH E       </td> <td>Chemical Engineering      </td>\n",
       "        </tr>\n",
       "    </tbody>\n",
       "</table>\n",
       "<p>... (135 rows omitted)</p>"
      ],
      "text/plain": [
       "subjectCode | subjectTranslation\n",
       "ANTH        | Anthropology\n",
       "ART  CS     | Art (Creative Studies)\n",
       "ARTHI       | Art History\n",
       "ARTST       | Art Studio\n",
       "AS AM       | Asian American Studies\n",
       "ASTRO       | Astronomy\n",
       "BIOL CS     | Biology (Creative Studies)\n",
       "BL ST       | Black Studies\n",
       "C LIT       | Comparative Literature\n",
       "CH E        | Chemical Engineering\n",
       "... (135 rows omitted)"
      ]
     },
     "execution_count": 27,
     "metadata": {},
     "output_type": "execute_result"
    }
   ],
   "source": [
    "codes1 = codes.select(\"subjectCode\",\"subjectTranslation\")\n",
    "codes1"
   ]
  },
  {
   "cell_type": "markdown",
   "metadata": {
    "id": "yJ-3eyHGhgcq"
   },
   "source": [
    "Now let's make a new table using pivot and finding total enrollment:"
   ]
  },
  {
   "cell_type": "code",
   "execution_count": null,
   "metadata": {
    "colab": {
     "base_uri": "https://localhost:8080/",
     "height": 392
    },
    "id": "Cx7UFBp6hrsc",
    "outputId": "55fb09c4-2d5a-4c59-c69f-e201947b37c3"
   },
   "outputs": [
    {
     "data": {
      "text/html": [
       "<table border=\"1\" class=\"dataframe\">\n",
       "    <thead>\n",
       "        <tr>\n",
       "            <th>dept</th> <th>G</th> <th>L</th> <th>U</th>\n",
       "        </tr>\n",
       "    </thead>\n",
       "    <tbody>\n",
       "        <tr>\n",
       "            <td>ANTH   </td> <td>60  </td> <td>2073</td> <td>389 </td>\n",
       "        </tr>\n",
       "        <tr>\n",
       "            <td>ART    </td> <td>29  </td> <td>411 </td> <td>165 </td>\n",
       "        </tr>\n",
       "        <tr>\n",
       "            <td>ART  CS</td> <td>0   </td> <td>4   </td> <td>61  </td>\n",
       "        </tr>\n",
       "        <tr>\n",
       "            <td>ARTHI  </td> <td>56  </td> <td>1326</td> <td>383 </td>\n",
       "        </tr>\n",
       "        <tr>\n",
       "            <td>AS AM  </td> <td>7   </td> <td>548 </td> <td>328 </td>\n",
       "        </tr>\n",
       "        <tr>\n",
       "            <td>ASTRO  </td> <td>0   </td> <td>288 </td> <td>0   </td>\n",
       "        </tr>\n",
       "        <tr>\n",
       "            <td>BIOE   </td> <td>102 </td> <td>0   </td> <td>0   </td>\n",
       "        </tr>\n",
       "        <tr>\n",
       "            <td>BIOL CS</td> <td>0   </td> <td>42  </td> <td>14  </td>\n",
       "        </tr>\n",
       "        <tr>\n",
       "            <td>BL ST  </td> <td>5   </td> <td>474 </td> <td>368 </td>\n",
       "        </tr>\n",
       "        <tr>\n",
       "            <td>C LIT  </td> <td>26  </td> <td>887 </td> <td>298 </td>\n",
       "        </tr>\n",
       "    </tbody>\n",
       "</table>\n",
       "<p>... (91 rows omitted)</p>"
      ],
      "text/plain": [
       "dept    | G    | L    | U\n",
       "ANTH    | 60   | 2073 | 389\n",
       "ART     | 29   | 411  | 165\n",
       "ART  CS | 0    | 4    | 61\n",
       "ARTHI   | 56   | 1326 | 383\n",
       "AS AM   | 7    | 548  | 328\n",
       "ASTRO   | 0    | 288  | 0\n",
       "BIOE    | 102  | 0    | 0\n",
       "BIOL CS | 0    | 42   | 14\n",
       "BL ST   | 5    | 474  | 368\n",
       "C LIT   | 26   | 887  | 298\n",
       "... (91 rows omitted)"
      ]
     },
     "execution_count": 28,
     "metadata": {},
     "output_type": "execute_result"
    }
   ],
   "source": [
    "enrollments = courses1.pivot(\"level\",\"dept\",\"ENROLLED\",sum)\n",
    "enrollments"
   ]
  },
  {
   "cell_type": "markdown",
   "metadata": {
    "id": "vrxtDtrKhzvJ"
   },
   "source": [
    "Now, let's add the translation using join.    This was generated by Gemini and the prompt I used is shown.  I modified the generated results to show the intermediate steps."
   ]
  },
  {
   "cell_type": "code",
   "execution_count": null,
   "metadata": {
    "colab": {
     "base_uri": "https://localhost:8080/",
     "height": 392
    },
    "id": "4INWyyyhhy8R",
    "outputId": "c878ed85-be93-48ce-a275-d4c7aa828e76"
   },
   "outputs": [
    {
     "data": {
      "text/html": [
       "<table border=\"1\" class=\"dataframe\">\n",
       "    <thead>\n",
       "        <tr>\n",
       "            <th>dept</th> <th>G</th> <th>L</th> <th>U</th> <th>subjectTranslation</th>\n",
       "        </tr>\n",
       "    </thead>\n",
       "    <tbody>\n",
       "        <tr>\n",
       "            <td>ANTH   </td> <td>60  </td> <td>2073</td> <td>389 </td> <td>Anthropology              </td>\n",
       "        </tr>\n",
       "        <tr>\n",
       "            <td>ART    </td> <td>29  </td> <td>411 </td> <td>165 </td> <td>Art                       </td>\n",
       "        </tr>\n",
       "        <tr>\n",
       "            <td>ART  CS</td> <td>0   </td> <td>4   </td> <td>61  </td> <td>Art (Creative Studies)    </td>\n",
       "        </tr>\n",
       "        <tr>\n",
       "            <td>ARTHI  </td> <td>56  </td> <td>1326</td> <td>383 </td> <td>Art History               </td>\n",
       "        </tr>\n",
       "        <tr>\n",
       "            <td>AS AM  </td> <td>7   </td> <td>548 </td> <td>328 </td> <td>Asian American Studies    </td>\n",
       "        </tr>\n",
       "        <tr>\n",
       "            <td>ASTRO  </td> <td>0   </td> <td>288 </td> <td>0   </td> <td>Astronomy                 </td>\n",
       "        </tr>\n",
       "        <tr>\n",
       "            <td>BIOE   </td> <td>102 </td> <td>0   </td> <td>0   </td> <td>Biological Engineering    </td>\n",
       "        </tr>\n",
       "        <tr>\n",
       "            <td>BIOL CS</td> <td>0   </td> <td>42  </td> <td>14  </td> <td>Biology (Creative Studies)</td>\n",
       "        </tr>\n",
       "        <tr>\n",
       "            <td>BL ST  </td> <td>5   </td> <td>474 </td> <td>368 </td> <td>Black Studies             </td>\n",
       "        </tr>\n",
       "        <tr>\n",
       "            <td>C LIT  </td> <td>26  </td> <td>887 </td> <td>298 </td> <td>Comparative Literature    </td>\n",
       "        </tr>\n",
       "    </tbody>\n",
       "</table>\n",
       "<p>... (91 rows omitted)</p>"
      ],
      "text/plain": [
       "dept    | G    | L    | U    | subjectTranslation\n",
       "ANTH    | 60   | 2073 | 389  | Anthropology\n",
       "ART     | 29   | 411  | 165  | Art\n",
       "ART  CS | 0    | 4    | 61   | Art (Creative Studies)\n",
       "ARTHI   | 56   | 1326 | 383  | Art History\n",
       "AS AM   | 7    | 548  | 328  | Asian American Studies\n",
       "ASTRO   | 0    | 288  | 0    | Astronomy\n",
       "BIOE    | 102  | 0    | 0    | Biological Engineering\n",
       "BIOL CS | 0    | 42   | 14   | Biology (Creative Studies)\n",
       "BL ST   | 5    | 474  | 368  | Black Studies\n",
       "C LIT   | 26   | 887  | 298  | Comparative Literature\n",
       "... (91 rows omitted)"
      ]
     },
     "execution_count": 31,
     "metadata": {},
     "output_type": "execute_result"
    }
   ],
   "source": [
    "# prompt: I have a table enrollments with columns dept, G, L and U\n",
    "# I also have a table codes1 with columns subjectCode, and subjectTranslation\n",
    "# Make a new table that has the same columns as enrollments,\n",
    "# but in-between dept and G, put a new column called description\n",
    "# which uses the codes1 table to translate the dept.\n",
    "# Use join. The subjectCode values in codes1 are the same as the dept values in enrollments\n",
    "\n",
    "# Use join to combine enrollments and codes1 tables.\n",
    "# The 'dept' column in enrollments corresponds to 'subjectCode' in codes1.\n",
    "new_table1 = enrollments.join('dept', codes1, 'subjectCode')\n",
    "new_table1\n"
   ]
  },
  {
   "cell_type": "code",
   "execution_count": null,
   "metadata": {
    "colab": {
     "base_uri": "https://localhost:8080/",
     "height": 392
    },
    "id": "K3BhTkNOjH-2",
    "outputId": "915f6fe0-c4ce-49d4-e1cc-43ab0b8b6f05"
   },
   "outputs": [
    {
     "data": {
      "text/html": [
       "<table border=\"1\" class=\"dataframe\">\n",
       "    <thead>\n",
       "        <tr>\n",
       "            <th>dept</th> <th>G</th> <th>L</th> <th>U</th> <th>description</th>\n",
       "        </tr>\n",
       "    </thead>\n",
       "    <tbody>\n",
       "        <tr>\n",
       "            <td>ANTH   </td> <td>60  </td> <td>2073</td> <td>389 </td> <td>Anthropology              </td>\n",
       "        </tr>\n",
       "        <tr>\n",
       "            <td>ART    </td> <td>29  </td> <td>411 </td> <td>165 </td> <td>Art                       </td>\n",
       "        </tr>\n",
       "        <tr>\n",
       "            <td>ART  CS</td> <td>0   </td> <td>4   </td> <td>61  </td> <td>Art (Creative Studies)    </td>\n",
       "        </tr>\n",
       "        <tr>\n",
       "            <td>ARTHI  </td> <td>56  </td> <td>1326</td> <td>383 </td> <td>Art History               </td>\n",
       "        </tr>\n",
       "        <tr>\n",
       "            <td>AS AM  </td> <td>7   </td> <td>548 </td> <td>328 </td> <td>Asian American Studies    </td>\n",
       "        </tr>\n",
       "        <tr>\n",
       "            <td>ASTRO  </td> <td>0   </td> <td>288 </td> <td>0   </td> <td>Astronomy                 </td>\n",
       "        </tr>\n",
       "        <tr>\n",
       "            <td>BIOE   </td> <td>102 </td> <td>0   </td> <td>0   </td> <td>Biological Engineering    </td>\n",
       "        </tr>\n",
       "        <tr>\n",
       "            <td>BIOL CS</td> <td>0   </td> <td>42  </td> <td>14  </td> <td>Biology (Creative Studies)</td>\n",
       "        </tr>\n",
       "        <tr>\n",
       "            <td>BL ST  </td> <td>5   </td> <td>474 </td> <td>368 </td> <td>Black Studies             </td>\n",
       "        </tr>\n",
       "        <tr>\n",
       "            <td>C LIT  </td> <td>26  </td> <td>887 </td> <td>298 </td> <td>Comparative Literature    </td>\n",
       "        </tr>\n",
       "    </tbody>\n",
       "</table>\n",
       "<p>... (91 rows omitted)</p>"
      ],
      "text/plain": [
       "dept    | G    | L    | U    | description\n",
       "ANTH    | 60   | 2073 | 389  | Anthropology\n",
       "ART     | 29   | 411  | 165  | Art\n",
       "ART  CS | 0    | 4    | 61   | Art (Creative Studies)\n",
       "ARTHI   | 56   | 1326 | 383  | Art History\n",
       "AS AM   | 7    | 548  | 328  | Asian American Studies\n",
       "ASTRO   | 0    | 288  | 0    | Astronomy\n",
       "BIOE    | 102  | 0    | 0    | Biological Engineering\n",
       "BIOL CS | 0    | 42   | 14   | Biology (Creative Studies)\n",
       "BL ST   | 5    | 474  | 368  | Black Studies\n",
       "C LIT   | 26   | 887  | 298  | Comparative Literature\n",
       "... (91 rows omitted)"
      ]
     },
     "execution_count": 32,
     "metadata": {},
     "output_type": "execute_result"
    }
   ],
   "source": [
    "\n",
    "# Rename the 'subjectTranslation' column to 'description'\n",
    "new_table2 = new_table1.relabel('subjectTranslation', 'description')\n",
    "new_table2\n"
   ]
  },
  {
   "cell_type": "code",
   "execution_count": null,
   "metadata": {
    "colab": {
     "base_uri": "https://localhost:8080/",
     "height": 392
    },
    "id": "AWdRGcXIjUK3",
    "outputId": "3dd7ec3f-7305-4a5e-b266-88424c30561d"
   },
   "outputs": [
    {
     "data": {
      "text/html": [
       "<table border=\"1\" class=\"dataframe\">\n",
       "    <thead>\n",
       "        <tr>\n",
       "            <th>dept</th> <th>description</th> <th>G</th> <th>L</th> <th>U</th>\n",
       "        </tr>\n",
       "    </thead>\n",
       "    <tbody>\n",
       "        <tr>\n",
       "            <td>ANTH   </td> <td>Anthropology              </td> <td>60  </td> <td>2073</td> <td>389 </td>\n",
       "        </tr>\n",
       "        <tr>\n",
       "            <td>ART    </td> <td>Art                       </td> <td>29  </td> <td>411 </td> <td>165 </td>\n",
       "        </tr>\n",
       "        <tr>\n",
       "            <td>ART  CS</td> <td>Art (Creative Studies)    </td> <td>0   </td> <td>4   </td> <td>61  </td>\n",
       "        </tr>\n",
       "        <tr>\n",
       "            <td>ARTHI  </td> <td>Art History               </td> <td>56  </td> <td>1326</td> <td>383 </td>\n",
       "        </tr>\n",
       "        <tr>\n",
       "            <td>AS AM  </td> <td>Asian American Studies    </td> <td>7   </td> <td>548 </td> <td>328 </td>\n",
       "        </tr>\n",
       "        <tr>\n",
       "            <td>ASTRO  </td> <td>Astronomy                 </td> <td>0   </td> <td>288 </td> <td>0   </td>\n",
       "        </tr>\n",
       "        <tr>\n",
       "            <td>BIOE   </td> <td>Biological Engineering    </td> <td>102 </td> <td>0   </td> <td>0   </td>\n",
       "        </tr>\n",
       "        <tr>\n",
       "            <td>BIOL CS</td> <td>Biology (Creative Studies)</td> <td>0   </td> <td>42  </td> <td>14  </td>\n",
       "        </tr>\n",
       "        <tr>\n",
       "            <td>BL ST  </td> <td>Black Studies             </td> <td>5   </td> <td>474 </td> <td>368 </td>\n",
       "        </tr>\n",
       "        <tr>\n",
       "            <td>C LIT  </td> <td>Comparative Literature    </td> <td>26  </td> <td>887 </td> <td>298 </td>\n",
       "        </tr>\n",
       "    </tbody>\n",
       "</table>\n",
       "<p>... (91 rows omitted)</p>"
      ],
      "text/plain": [
       "dept    | description                | G    | L    | U\n",
       "ANTH    | Anthropology               | 60   | 2073 | 389\n",
       "ART     | Art                        | 29   | 411  | 165\n",
       "ART  CS | Art (Creative Studies)     | 0    | 4    | 61\n",
       "ARTHI   | Art History                | 56   | 1326 | 383\n",
       "AS AM   | Asian American Studies     | 7    | 548  | 328\n",
       "ASTRO   | Astronomy                  | 0    | 288  | 0\n",
       "BIOE    | Biological Engineering     | 102  | 0    | 0\n",
       "BIOL CS | Biology (Creative Studies) | 0    | 42   | 14\n",
       "BL ST   | Black Studies              | 5    | 474  | 368\n",
       "C LIT   | Comparative Literature     | 26   | 887  | 298\n",
       "... (91 rows omitted)"
      ]
     },
     "execution_count": 33,
     "metadata": {},
     "output_type": "execute_result"
    }
   ],
   "source": [
    "# Rearrange columns to match the desired order\n",
    "new_table3 = new_table2.select(['dept', 'description', 'G', 'L', 'U'])\n",
    "new_table3\n"
   ]
  },
  {
   "cell_type": "markdown",
   "metadata": {
    "id": "GclPlo3vGeN-"
   },
   "source": [
    "# Grouping, Pivots, Joins\n",
    "\n",
    "Slides: <https://docs.google.com/presentation/d/1FYg-mE8X0H5X0BHUUGlYIc0MAM9WzX8CtoVWGIrrg9k/edit?usp=sharing>"
   ]
  },
  {
   "cell_type": "markdown",
   "metadata": {
    "id": "N4U-KljRoU4D"
   },
   "source": [
    "# Circling back to [Section 7.3 (Overlaid Graphs)](https://inferentialthinking.com/chapters/07/3/Overlaid_Graphs.html)"
   ]
  },
  {
   "cell_type": "markdown",
   "metadata": {
    "id": "i527BrnvqTdW"
   },
   "source": [
    "We have seen various kinds of visalizations of data:\n",
    "* Bar charts\n",
    "* Histograms\n",
    "* Scatter plots\n",
    "\n",
    "There are others though that we haven't gone over in lecture yet.  Let's revisit the topic, and go over a few more, including *overlaid graphs*.\n"
   ]
  },
  {
   "cell_type": "markdown",
   "metadata": {
    "id": "UMPjSzrM-Wa-"
   },
   "source": [
    "\n",
    "# New Collection of Course Data Files\n",
    "\n",
    "NOTE: This part of today's notebook is only set up to run on Google Colab; the data files have not been migrated to JupyterHub, because it is a very large collection of data.\n",
    "\n",
    "To access the Google Colab version of this notebook, please visit:\n",
    "* <https://colab.research.google.com/drive/1a0rb4Dzgx-z6HJlzG0dcBZCQsRzF7XQV?usp=sharing>\n",
    "\n",
    "To explore additional ways of graphing data, we now have a new collection of data to explore.  We've been working with the file `ucsb-s25-courses.dat` which contains a snapshot of data from S25 (the very quarter this course is being offered).  But given that this quarter is not over yet, that is just a snapshot; students may have added and dropped courses since that snapshot was taken.\n",
    "\n",
    "So, here's a new directory of data to explore:\n",
    "\n",
    "* <https://drive.google.com/drive/folders/1Dv1GRzYdbxzm_htu3_dAd-CDoKw9A03G?usp=drive_link>\n",
    "\n",
    "The files in this directory are extracts of course data from quarters that are already fully completed and in the past.\n",
    "\n",
    "The name of the file contains a five digit number that identifies the quarter, for example:\n",
    "\n"
   ]
  },
  {
   "cell_type": "markdown",
   "metadata": {
    "id": "NjTjwsGDvDX8"
   },
   "source": [
    "![coursedata-files.png](data:image/png;base64,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)"
   ]
  },
  {
   "cell_type": "markdown",
   "metadata": {
    "id": "y7X7wclVvCDj"
   },
   "source": [
    "\n",
    "\n",
    "\n",
    "\n",
    "The first four digits are the year, and the final digit is:\n",
    "\n",
    "* 1 for Winter\n",
    "* 2 for Spring\n",
    "* 3 for Summer\n",
    "* 4 for Fall.\n",
    "\n",
    "The purpose of this way of representing the data is to allow data from different quarters to be sorted in chronological order.\n",
    "\n",
    "These files come from this endpoint:\n",
    "\n",
    "* <https://courses.dokku-00.cs.ucsb.edu/swagger-ui/index.html#/API%20for%20course%20data%20as%20CSV%20downloads>\n",
    "\n",
    "The data originally comes from this API:\n",
    "\n",
    "* <https://developer.ucsb.edu/content/academic-curriculums>\n",
    "\n",
    "(See [this Jupyter Notebook](https://colab.research.google.com/drive/188jTlQ4W8brr41kMA4jCLKJIupA9c7Fj?usp=drive_link) for a further exploration of getting data from APIs, including the UCSB Developer API.\n",
    "\n",
    "The data here includes three full academic years:\n",
    "* 2021-2022\n",
    "* 2022-2023\n",
    "* 2023-2024\n",
    "\n",
    "In addition there is partial data for the 2024-2025 school years (Fall and Winter quarters.)\n",
    "\n"
   ]
  },
  {
   "cell_type": "markdown",
   "metadata": {
    "id": "Iq983ee8vYF9"
   },
   "source": [
    "## Building a data set to study\n",
    "\n",
    "In order to build an interesting data set to study, let's build a single table with the following data:\n",
    "\n",
    "* Data across the three full academic years\n",
    "* Data only for CMPSC, PSTAT, MATH, COMM, ECON\n",
    "  * We are limiting the data to five departments mainly to keep the size manageable.\n",
    "* Data only for lectures that are not closed\n",
    "\n",
    "We'll start by building a single table for the quarter `20214` (Fall 2021).  Then we'll see how we can add other data to it.\n"
   ]
  },
  {
   "cell_type": "code",
   "execution_count": null,
   "metadata": {
    "id": "-8fJzIfC56RR"
   },
   "outputs": [],
   "source": []
  },
  {
   "cell_type": "markdown",
   "metadata": {
    "id": "9vR1M2n1wh0E"
   },
   "source": [
    "## Mounting the Data Directory\n",
    "\n",
    "First, we need to copy the data from the Google Drive folder into the workspace for our notebook.  We need to have run this code in the top cell of our notebook first:\n",
    "\n",
    "```python\n",
    "from google.colab import drive\n",
    "drive.mount('/content/drive', force_remount=True)\n",
    "```\n",
    "\n",
    "That puts us through the questions that ask us if we give permission to the notebook to access our Google Drive files.  Once that's done, this command will copy all of the files from a particular Google Drive folder URL into our notebook's workspace:"
   ]
  },
  {
   "cell_type": "code",
   "execution_count": null,
   "metadata": {
    "colab": {
     "base_uri": "https://localhost:8080/"
    },
    "id": "gizQgIKFB_k6",
    "outputId": "0df3825b-036e-4e8a-ef69-03d87613e747"
   },
   "outputs": [
    {
     "name": "stdout",
     "output_type": "stream",
     "text": [
      "Retrieving folder contents\n",
      "Processing file 1ft9Y2l_xRKNvqHCVfAEcf8E_bOlld9ad courses_20214.csv\n",
      "Processing file 1JK_DxjmrC7v5m7JBj2D2os_SgF3b2cAT courses_20221.csv\n",
      "Processing file 1XWWP6nmKr158r9dwf1uIFT97b2Z7Ktdy courses_20222.csv\n",
      "Processing file 1tjrNg3l3raxHTi5lUECpAwTe2UhjxAsJ courses_20223.csv\n",
      "Processing file 1b6BBhUuz2P7S14lOiheG6BvvUYe4x4h3 courses_20224.csv\n",
      "Processing file 1r4YM9-zgluhLCqMpdaMDyscfKm0P3-qG courses_20231.csv\n",
      "Processing file 1LgCPPUj8g9zF5qhXSaqeKYLP-5Nn9uLE courses_20232.csv\n",
      "Processing file 1MX3xWDLeURWkqD3yrPcVtMVvI8058I7q courses_20233.csv\n",
      "Processing file 1aNC1XZxcnemGn3iRSa8mOU0Mbxskfnps courses_20234.csv\n",
      "Processing file 199ns1V1Hbl5V5IIa7ydDsp22Ipx50bfr courses_20241.csv\n",
      "Processing file 1edBMNPRqmSlwiIop-2qeyl-JCpmluceT courses_20242.csv\n",
      "Processing file 1dF5ZXbG2P9bSb2-ikBa9mD7iDd4sFfZw courses_20243.csv\n",
      "Processing file 19T9Ib50tHQrGyzp2BODpYPM_nO3EiEJG courses_20244.csv\n",
      "Processing file 1pIREGZM2PuNGfgZdOnEpfMyo4glcIxDE courses_20251.csv\n",
      "Processing file 1lQlPX2BNSJoI8RWoIbxbOCf6Lz8uRzcRfaUD4XH1kRE README.md\n",
      "Retrieving folder contents completed\n",
      "Building directory structure\n",
      "Building directory structure completed\n",
      "Downloading...\n",
      "From: https://drive.google.com/uc?id=1ft9Y2l_xRKNvqHCVfAEcf8E_bOlld9ad\n",
      "To: /content/coursedata/courses_20214.csv\n",
      "100% 508k/508k [00:00<00:00, 14.4MB/s]\n",
      "Downloading...\n",
      "From: https://drive.google.com/uc?id=1JK_DxjmrC7v5m7JBj2D2os_SgF3b2cAT\n",
      "To: /content/coursedata/courses_20221.csv\n",
      "100% 503k/503k [00:00<00:00, 6.18MB/s]\n",
      "Downloading...\n",
      "From: https://drive.google.com/uc?id=1XWWP6nmKr158r9dwf1uIFT97b2Z7Ktdy\n",
      "To: /content/coursedata/courses_20222.csv\n",
      "100% 495k/495k [00:00<00:00, 19.3MB/s]\n",
      "Downloading...\n",
      "From: https://drive.google.com/uc?id=1tjrNg3l3raxHTi5lUECpAwTe2UhjxAsJ\n",
      "To: /content/coursedata/courses_20223.csv\n",
      "100% 164k/164k [00:00<00:00, 7.13MB/s]\n",
      "Downloading...\n",
      "From: https://drive.google.com/uc?id=1b6BBhUuz2P7S14lOiheG6BvvUYe4x4h3\n",
      "To: /content/coursedata/courses_20224.csv\n",
      "100% 503k/503k [00:00<00:00, 21.2MB/s]\n",
      "Downloading...\n",
      "From: https://drive.google.com/uc?id=1r4YM9-zgluhLCqMpdaMDyscfKm0P3-qG\n",
      "To: /content/coursedata/courses_20231.csv\n",
      "100% 499k/499k [00:00<00:00, 21.0MB/s]\n",
      "Downloading...\n",
      "From: https://drive.google.com/uc?id=1LgCPPUj8g9zF5qhXSaqeKYLP-5Nn9uLE\n",
      "To: /content/coursedata/courses_20232.csv\n",
      "100% 506k/506k [00:00<00:00, 21.0MB/s]\n",
      "Downloading...\n",
      "From: https://drive.google.com/uc?id=1MX3xWDLeURWkqD3yrPcVtMVvI8058I7q\n",
      "To: /content/coursedata/courses_20233.csv\n",
      "100% 175k/175k [00:00<00:00, 13.5MB/s]\n",
      "Downloading...\n",
      "From: https://drive.google.com/uc?id=1aNC1XZxcnemGn3iRSa8mOU0Mbxskfnps\n",
      "To: /content/coursedata/courses_20234.csv\n",
      "100% 513k/513k [00:00<00:00, 19.9MB/s]\n",
      "Downloading...\n",
      "From: https://drive.google.com/uc?id=199ns1V1Hbl5V5IIa7ydDsp22Ipx50bfr\n",
      "To: /content/coursedata/courses_20241.csv\n",
      "100% 492k/492k [00:00<00:00, 8.96MB/s]\n",
      "Downloading...\n",
      "From: https://drive.google.com/uc?id=1edBMNPRqmSlwiIop-2qeyl-JCpmluceT\n",
      "To: /content/coursedata/courses_20242.csv\n",
      "100% 491k/491k [00:00<00:00, 20.7MB/s]\n",
      "Downloading...\n",
      "From: https://drive.google.com/uc?id=1dF5ZXbG2P9bSb2-ikBa9mD7iDd4sFfZw\n",
      "To: /content/coursedata/courses_20243.csv\n",
      "100% 169k/169k [00:00<00:00, 7.13MB/s]\n",
      "Downloading...\n",
      "From: https://drive.google.com/uc?id=19T9Ib50tHQrGyzp2BODpYPM_nO3EiEJG\n",
      "To: /content/coursedata/courses_20244.csv\n",
      "100% 514k/514k [00:00<00:00, 12.2MB/s]\n",
      "Downloading...\n",
      "From: https://drive.google.com/uc?id=1pIREGZM2PuNGfgZdOnEpfMyo4glcIxDE\n",
      "To: /content/coursedata/courses_20251.csv\n",
      "100% 503k/503k [00:00<00:00, 11.8MB/s]\n",
      "Downloading...\n",
      "From (original): https://drive.google.com/uc?id=1lQlPX2BNSJoI8RWoIbxbOCf6Lz8uRzcRfaUD4XH1kRE\n",
      "From (redirected): https://docs.google.com/document/d/1lQlPX2BNSJoI8RWoIbxbOCf6Lz8uRzcRfaUD4XH1kRE/export?format=docx\n",
      "To: /content/coursedata/README.md\n",
      "7.58kB [00:00, 5.73MB/s]\n",
      "Download completed\n"
     ]
    }
   ],
   "source": [
    "!gdown --folder https://drive.google.com/drive/folders/1Dv1GRzYdbxzm_htu3_dAd-CDoKw9A03G?usp=drive_link -O /content/coursedata"
   ]
  },
  {
   "cell_type": "markdown",
   "metadata": {
    "id": "9_3QsfyYxUr4"
   },
   "source": [
    "Now let's get the data from `courses_20214.csv`"
   ]
  },
  {
   "cell_type": "code",
   "execution_count": null,
   "metadata": {
    "colab": {
     "base_uri": "https://localhost:8080/",
     "height": 392
    },
    "id": "AYklRjZGxUT0",
    "outputId": "3c0136c2-8e31-4c68-b708-7ac297e81399"
   },
   "outputs": [
    {
     "data": {
      "text/html": [
       "<table border=\"1\" class=\"dataframe\">\n",
       "    <thead>\n",
       "        <tr>\n",
       "            <th>COURSEID</th> <th>ENROLLED</th> <th>GES</th> <th>INSTRUCTOR</th> <th>MAXENROLL</th> <th>QUARTER</th> <th>SECTION</th> <th>STATUS</th>\n",
       "        </tr>\n",
       "    </thead>\n",
       "    <tbody>\n",
       "        <tr>\n",
       "            <td>ANTH      3  -1</td> <td>488     </td> <td>D (L&S), D (ENGR), NWC (L&S), WRT (ENGR), WRT (L&S), NWC ...</td> <td>SMITH S T, SMITH E K</td> <td>525      </td> <td>20214  </td> <td>100    </td> <td>nan   </td>\n",
       "        </tr>\n",
       "        <tr>\n",
       "            <td>ANTH      3  -1</td> <td>25      </td> <td>D (L&S), D (ENGR), NWC (L&S), WRT (ENGR), WRT (L&S), NWC ...</td> <td>BROBERG A A         </td> <td>25       </td> <td>20214  </td> <td>101    </td> <td>nan   </td>\n",
       "        </tr>\n",
       "        <tr>\n",
       "            <td>ANTH      3  -1</td> <td>20      </td> <td>D (L&S), D (ENGR), NWC (L&S), WRT (ENGR), WRT (L&S), NWC ...</td> <td>NOE S J             </td> <td>25       </td> <td>20214  </td> <td>103    </td> <td>nan   </td>\n",
       "        </tr>\n",
       "        <tr>\n",
       "            <td>ANTH      3  -1</td> <td>24      </td> <td>D (L&S), D (ENGR), NWC (L&S), WRT (ENGR), WRT (L&S), NWC ...</td> <td>BROBERG A A         </td> <td>25       </td> <td>20214  </td> <td>104    </td> <td>nan   </td>\n",
       "        </tr>\n",
       "        <tr>\n",
       "            <td>ANTH      3  -1</td> <td>24      </td> <td>D (L&S), D (ENGR), NWC (L&S), WRT (ENGR), WRT (L&S), NWC ...</td> <td>NOE S J             </td> <td>25       </td> <td>20214  </td> <td>105    </td> <td>nan   </td>\n",
       "        </tr>\n",
       "        <tr>\n",
       "            <td>ANTH      3  -1</td> <td>24      </td> <td>D (L&S), D (ENGR), NWC (L&S), WRT (ENGR), WRT (L&S), NWC ...</td> <td>LUCERO B M          </td> <td>25       </td> <td>20214  </td> <td>106    </td> <td>nan   </td>\n",
       "        </tr>\n",
       "        <tr>\n",
       "            <td>ANTH      3  -1</td> <td>23      </td> <td>D (L&S), D (ENGR), NWC (L&S), WRT (ENGR), WRT (L&S), NWC ...</td> <td>MITCHELL S T        </td> <td>25       </td> <td>20214  </td> <td>107    </td> <td>nan   </td>\n",
       "        </tr>\n",
       "        <tr>\n",
       "            <td>ANTH      3  -1</td> <td>21      </td> <td>D (L&S), D (ENGR), NWC (L&S), WRT (ENGR), WRT (L&S), NWC ...</td> <td>LOBIONDO M V        </td> <td>25       </td> <td>20214  </td> <td>108    </td> <td>nan   </td>\n",
       "        </tr>\n",
       "        <tr>\n",
       "            <td>ANTH      3  -1</td> <td>26      </td> <td>D (L&S), D (ENGR), NWC (L&S), WRT (ENGR), WRT (L&S), NWC ...</td> <td>IOANNIDES M J       </td> <td>25       </td> <td>20214  </td> <td>110    </td> <td>nan   </td>\n",
       "        </tr>\n",
       "        <tr>\n",
       "            <td>ANTH      3  -1</td> <td>24      </td> <td>D (L&S), D (ENGR), NWC (L&S), WRT (ENGR), WRT (L&S), NWC ...</td> <td>IOANNIDES M J       </td> <td>25       </td> <td>20214  </td> <td>111    </td> <td>nan   </td>\n",
       "        </tr>\n",
       "    </tbody>\n",
       "</table>\n",
       "<p>... (7321 rows omitted)</p>"
      ],
      "text/plain": [
       "COURSEID        | ENROLLED | GES                                                          | INSTRUCTOR           | MAXENROLL | QUARTER | SECTION | STATUS\n",
       "ANTH      3  -1 | 488      | D (L&S), D (ENGR), NWC (L&S), WRT (ENGR), WRT (L&S), NWC ... | SMITH S T, SMITH E K | 525       | 20214   | 100     | nan\n",
       "ANTH      3  -1 | 25       | D (L&S), D (ENGR), NWC (L&S), WRT (ENGR), WRT (L&S), NWC ... | BROBERG A A          | 25        | 20214   | 101     | nan\n",
       "ANTH      3  -1 | 20       | D (L&S), D (ENGR), NWC (L&S), WRT (ENGR), WRT (L&S), NWC ... | NOE S J              | 25        | 20214   | 103     | nan\n",
       "ANTH      3  -1 | 24       | D (L&S), D (ENGR), NWC (L&S), WRT (ENGR), WRT (L&S), NWC ... | BROBERG A A          | 25        | 20214   | 104     | nan\n",
       "ANTH      3  -1 | 24       | D (L&S), D (ENGR), NWC (L&S), WRT (ENGR), WRT (L&S), NWC ... | NOE S J              | 25        | 20214   | 105     | nan\n",
       "ANTH      3  -1 | 24       | D (L&S), D (ENGR), NWC (L&S), WRT (ENGR), WRT (L&S), NWC ... | LUCERO B M           | 25        | 20214   | 106     | nan\n",
       "ANTH      3  -1 | 23       | D (L&S), D (ENGR), NWC (L&S), WRT (ENGR), WRT (L&S), NWC ... | MITCHELL S T         | 25        | 20214   | 107     | nan\n",
       "ANTH      3  -1 | 21       | D (L&S), D (ENGR), NWC (L&S), WRT (ENGR), WRT (L&S), NWC ... | LOBIONDO M V         | 25        | 20214   | 108     | nan\n",
       "ANTH      3  -1 | 26       | D (L&S), D (ENGR), NWC (L&S), WRT (ENGR), WRT (L&S), NWC ... | IOANNIDES M J        | 25        | 20214   | 110     | nan\n",
       "ANTH      3  -1 | 24       | D (L&S), D (ENGR), NWC (L&S), WRT (ENGR), WRT (L&S), NWC ... | IOANNIDES M J        | 25        | 20214   | 111     | nan\n",
       "... (7321 rows omitted)"
      ]
     },
     "execution_count": 9,
     "metadata": {},
     "output_type": "execute_result"
    }
   ],
   "source": [
    "courses_20214 = Table().read_table(\"/content/coursedata/courses_20214.csv\")\n",
    "courses_20214"
   ]
  },
  {
   "cell_type": "markdown",
   "metadata": {
    "id": "QzSGzcxOyFrI"
   },
   "source": [
    "Now, our next inclination might be to write code like this:\n",
    "\n",
    "```python\n",
    "courses_20221 = Table().read_table(\"/content/coursedata/courses_20221.csv\")\n",
    "courses_20222 = Table().read_table(\"/content/coursedata/courses_20222.csv\")\n",
    "courses_20223 = Table().read_table(\"/content/coursedata/courses_20223.csv\")\n",
    "courses_20224 = Table().read_table(\"/content/coursedata/courses_20224.csv\")\n",
    "# etc...\n",
    "```\n",
    "\n",
    "But let's stop for a minute.   Any time you have variable names that have some kind of pattern like this, it's good to stop and consider the alternatives of a list or a dictionary.\n",
    "\n",
    "We haven't covered dictionaries yet, so let's use a list instead.  We'll start by making a list of all of the quarters we want data for:"
   ]
  },
  {
   "cell_type": "code",
   "execution_count": null,
   "metadata": {
    "colab": {
     "base_uri": "https://localhost:8080/"
    },
    "id": "H-yKoPLfxOpZ",
    "outputId": "62ac7c0d-caa2-422a-a451-aabab3d1924e"
   },
   "outputs": [
    {
     "data": {
      "text/plain": [
       "['20214',\n",
       " '20221',\n",
       " '20222',\n",
       " '20223',\n",
       " '20224',\n",
       " '20231',\n",
       " '20232',\n",
       " '20233',\n",
       " '20234',\n",
       " '20241',\n",
       " '20242',\n",
       " '20243']"
      ]
     },
     "execution_count": 10,
     "metadata": {},
     "output_type": "execute_result"
    }
   ],
   "source": [
    "quarters = [\"20214\", \"20221\", \"20222\", \"20223\", \"20224\", \"20231\", \"20232\", \"20233\", \"20234\", \"20241\", \"20242\", \"20243\"]\n",
    "quarters"
   ]
  },
  {
   "cell_type": "markdown",
   "metadata": {
    "id": "h1Nh9V9_zYVh"
   },
   "source": [
    "Now we can use a loop with something called the *accumulator pattern*.LookupError\n",
    "\n",
    "The accumulator pattern is covered in [Section 9.2.1](https://inferentialthinking.com/chapters/09/2/Iteration.html#augmenting-arrays) of your textbook as a way to \"augment arrays\".  I encourage you to read that shortly after this lecture so that you can try to find the parallels.\n",
    "\n",
    "Here we are using it to \"build a list\" which is not exactly the same but similar.   We'll return to this *accumulator pattern* idea frequently throughout the rest of the course.\n",
    "\n",
    "The basic idea is that we start with an empty list like this one:\n",
    "\n",
    "```python\n",
    "list_of_tables = []\n",
    "```\n",
    "\n",
    "Then, we add things to this list one at a time using `.append(...)`, which is a Python method that will change the list by adding a new element to it.\n",
    "\n",
    "### Short digression: using `.append(...)` with lists\n",
    "\n",
    "First, here's a reminder of how adding this to a list with append works:"
   ]
  },
  {
   "cell_type": "code",
   "execution_count": null,
   "metadata": {
    "colab": {
     "base_uri": "https://localhost:8080/"
    },
    "id": "3IJ5J7E50PeA",
    "outputId": "dde34c24-997e-4dd2-813b-3be34285944f"
   },
   "outputs": [
    {
     "data": {
      "text/plain": [
       "[]"
      ]
     },
     "execution_count": 20,
     "metadata": {},
     "output_type": "execute_result"
    }
   ],
   "source": [
    "schools = [] # Start with empty list\n",
    "schools"
   ]
  },
  {
   "cell_type": "code",
   "execution_count": null,
   "metadata": {
    "colab": {
     "base_uri": "https://localhost:8080/"
    },
    "id": "QwgdLcWA0PUe",
    "outputId": "b8094a0e-b85f-4957-b67d-ace47419002b"
   },
   "outputs": [
    {
     "data": {
      "text/plain": [
       "['UCSB']"
      ]
     },
     "execution_count": 21,
     "metadata": {},
     "output_type": "execute_result"
    }
   ],
   "source": [
    "schools.append(\"UCSB\")\n",
    "schools"
   ]
  },
  {
   "cell_type": "code",
   "execution_count": null,
   "metadata": {
    "colab": {
     "base_uri": "https://localhost:8080/"
    },
    "id": "4J_uvgdu0PLM",
    "outputId": "3acd8130-5a21-456a-f23d-110326d5d667"
   },
   "outputs": [
    {
     "data": {
      "text/plain": [
       "['UCSB', 'UCLA']"
      ]
     },
     "execution_count": 22,
     "metadata": {},
     "output_type": "execute_result"
    }
   ],
   "source": [
    "schools.append(\"UCLA\")\n",
    "schools"
   ]
  },
  {
   "cell_type": "markdown",
   "metadata": {
    "id": "BNWnHsQj0ery"
   },
   "source": [
    "Bascially every time you call `append` a new element is added to a list.\n",
    "\n",
    "## The accumulator pattern\n",
    "\n",
    "We can build up a new list this way using a loop.\n",
    "\n",
    "For example, suppose we have a list of quarters:"
   ]
  },
  {
   "cell_type": "code",
   "execution_count": null,
   "metadata": {
    "colab": {
     "base_uri": "https://localhost:8080/"
    },
    "id": "0lV5TGM80PAE",
    "outputId": "c64c4321-d160-4c09-9210-9d227eacc92e"
   },
   "outputs": [
    {
     "data": {
      "text/plain": [
       "['20214',\n",
       " '20221',\n",
       " '20222',\n",
       " '20223',\n",
       " '20224',\n",
       " '20231',\n",
       " '20232',\n",
       " '20233',\n",
       " '20234',\n",
       " '20241',\n",
       " '20242',\n",
       " '20243']"
      ]
     },
     "execution_count": 23,
     "metadata": {},
     "output_type": "execute_result"
    }
   ],
   "source": [
    "quarters"
   ]
  },
  {
   "cell_type": "markdown",
   "metadata": {
    "id": "7svtjf2A02Ie"
   },
   "source": [
    "Now we can use a loop with something called the *accumulator pattern* to build up a list of filenames.\n",
    "\n",
    "* We start with an empty list\n",
    "* We then use a loop over our quarters\n",
    "* Inside the loop, for each quarter, we form a filename and append it to the list\n",
    "* When the list is finished, we have a list of filenames\n"
   ]
  },
  {
   "cell_type": "code",
   "execution_count": null,
   "metadata": {
    "colab": {
     "base_uri": "https://localhost:8080/"
    },
    "id": "LUddEkGmzFW4",
    "outputId": "5ef9d9cb-c5ca-448d-aa1a-9b0f5fda2bab"
   },
   "outputs": [
    {
     "data": {
      "text/plain": [
       "['/content/coursedata/courses_20214.csv',\n",
       " '/content/coursedata/courses_20221.csv',\n",
       " '/content/coursedata/courses_20222.csv',\n",
       " '/content/coursedata/courses_20223.csv',\n",
       " '/content/coursedata/courses_20224.csv',\n",
       " '/content/coursedata/courses_20231.csv',\n",
       " '/content/coursedata/courses_20232.csv',\n",
       " '/content/coursedata/courses_20233.csv',\n",
       " '/content/coursedata/courses_20234.csv',\n",
       " '/content/coursedata/courses_20241.csv',\n",
       " '/content/coursedata/courses_20242.csv',\n",
       " '/content/coursedata/courses_20243.csv']"
      ]
     },
     "execution_count": 25,
     "metadata": {},
     "output_type": "execute_result"
    }
   ],
   "source": [
    "filenames = []\n",
    "for quarter in quarters:\n",
    "  filename = f\"/content/coursedata/courses_{quarter}.csv\"\n",
    "  filenames.append(filename)\n",
    "filenames"
   ]
  },
  {
   "cell_type": "markdown",
   "metadata": {
    "id": "oUKQBMU-1PR4"
   },
   "source": [
    "We can take this a step further: instead of just making a list of filenames, we can open each filename as a table, pull our just the the data we want, and add that data to a list of tables."
   ]
  },
  {
   "cell_type": "code",
   "execution_count": null,
   "metadata": {
    "colab": {
     "base_uri": "https://localhost:8080/"
    },
    "id": "e2rGhijz1Mum",
    "outputId": "899fecfa-8132-40e6-d593-296b965e6f20"
   },
   "outputs": [
    {
     "data": {
      "text/plain": [
       "12"
      ]
     },
     "execution_count": 35,
     "metadata": {},
     "output_type": "execute_result"
    }
   ],
   "source": [
    "tables = []\n",
    "for quarter in quarters:\n",
    "  filename = f\"/content/coursedata/courses_{quarter}.csv\"\n",
    "  courseTable = Table.read_table(filename)\n",
    "  courses = courseTable.with_columns(\n",
    "    \"dept\", courseTable.apply(courseIdToDept, 0),\n",
    "    \"courseNum\", courseTable.apply(courseIdToCourseNum, 0),\n",
    "    \"suffix\", courseTable.apply(courseIdToSuffix, 0),\n",
    "    \"isLecture\", courseTable.apply(isLecture, \"SECTION\"),\n",
    "    \"level\", courseTable.apply(courseIdToLevel, \"COURSEID\")\n",
    "  )\n",
    "  courses = courses.where(\"isLecture\", are.equal_to(True)) \\\n",
    "    .where(\"dept\", are.contained_in([\"CMPSC\", \"PSTAT\", \"MATH\", \"COMM\", \"ECON\"])) \\\n",
    "    .where(\"STATUS\", are.not_equal_to(\"Closed\"))\n",
    "  tables.append(courses)\n",
    "\n",
    "len(tables)"
   ]
  },
  {
   "cell_type": "markdown",
   "metadata": {
    "id": "51yhiMhi1p6s"
   },
   "source": [
    "Now we have a variable `tables` with a list of 12 tables.  \n",
    "\n",
    "We can see that:\n",
    "* `tables[0]` is a table of the courses from `20214` (i.e. Fall 2021)\n",
    "* `tables[11]` is a table of the courses fron `20243` (i.e. Summer 2024)"
   ]
  },
  {
   "cell_type": "code",
   "execution_count": null,
   "metadata": {
    "colab": {
     "base_uri": "https://localhost:8080/",
     "height": 392
    },
    "id": "kxkXNWwu1d6V",
    "outputId": "a159efe3-3163-4962-b704-42a5a95fd4f4"
   },
   "outputs": [
    {
     "data": {
      "text/html": [
       "<table border=\"1\" class=\"dataframe\">\n",
       "    <thead>\n",
       "        <tr>\n",
       "            <th>COURSEID</th> <th>ENROLLED</th> <th>GES</th> <th>INSTRUCTOR</th> <th>MAXENROLL</th> <th>QUARTER</th> <th>SECTION</th> <th>STATUS</th> <th>dept</th> <th>courseNum</th> <th>suffix</th> <th>isLecture</th> <th>level</th>\n",
       "        </tr>\n",
       "    </thead>\n",
       "    <tbody>\n",
       "        <tr>\n",
       "            <td>CMPSC     5A -1</td> <td>78      </td> <td>nan </td> <td>SOLIS S W   </td> <td>90       </td> <td>20214  </td> <td>100    </td> <td>nan   </td> <td>CMPSC</td> <td>5A       </td> <td>1     </td> <td>True     </td> <td>L    </td>\n",
       "        </tr>\n",
       "        <tr>\n",
       "            <td>CMPSC     5B -1</td> <td>22      </td> <td>nan </td> <td>SOLIS S W   </td> <td>80       </td> <td>20214  </td> <td>100    </td> <td>nan   </td> <td>CMPSC</td> <td>5B       </td> <td>1     </td> <td>True     </td> <td>L    </td>\n",
       "        </tr>\n",
       "        <tr>\n",
       "            <td>CMPSC     9  -1</td> <td>130     </td> <td>nan </td> <td>WANG R K    </td> <td>150      </td> <td>20214  </td> <td>100    </td> <td>nan   </td> <td>CMPSC</td> <td>9        </td> <td>1     </td> <td>True     </td> <td>L    </td>\n",
       "        </tr>\n",
       "        <tr>\n",
       "            <td>CMPSC    24A -1</td> <td>2       </td> <td>nan </td> <td>WANG R K    </td> <td>0        </td> <td>20214  </td> <td>100    </td> <td>nan   </td> <td>CMPSC</td> <td>24A      </td> <td>1     </td> <td>True     </td> <td>L    </td>\n",
       "        </tr>\n",
       "        <tr>\n",
       "            <td>CMPSC    32  -1</td> <td>89      </td> <td>nan </td> <td>EMRE M      </td> <td>90       </td> <td>20214  </td> <td>100    </td> <td>nan   </td> <td>CMPSC</td> <td>32       </td> <td>1     </td> <td>True     </td> <td>L    </td>\n",
       "        </tr>\n",
       "        <tr>\n",
       "            <td>CMPSC    40  -1</td> <td>73      </td> <td>nan </td> <td>MIRZA D     </td> <td>70       </td> <td>20214  </td> <td>100    </td> <td>nan   </td> <td>CMPSC</td> <td>40       </td> <td>1     </td> <td>True     </td> <td>L    </td>\n",
       "        </tr>\n",
       "        <tr>\n",
       "            <td>CMPSC    64  -1</td> <td>85      </td> <td>nan </td> <td>SHERWOOD T P</td> <td>90       </td> <td>20214  </td> <td>100    </td> <td>nan   </td> <td>CMPSC</td> <td>64       </td> <td>1     </td> <td>True     </td> <td>L    </td>\n",
       "        </tr>\n",
       "        <tr>\n",
       "            <td>CMPSC    99  -1</td> <td>0       </td> <td>nan </td> <td>nan         </td> <td>5        </td> <td>20214  </td> <td>100    </td> <td>nan   </td> <td>CMPSC</td> <td>99       </td> <td>1     </td> <td>True     </td> <td>L    </td>\n",
       "        </tr>\n",
       "        <tr>\n",
       "            <td>CMPSC    99  -2</td> <td>2       </td> <td>nan </td> <td>LOKSHTANOV D</td> <td>5        </td> <td>20214  </td> <td>200    </td> <td>nan   </td> <td>CMPSC</td> <td>99       </td> <td>2     </td> <td>True     </td> <td>L    </td>\n",
       "        </tr>\n",
       "        <tr>\n",
       "            <td>CMPSC    99  -3</td> <td>0       </td> <td>nan </td> <td>KOZERAWSKI J</td> <td>5        </td> <td>20214  </td> <td>300    </td> <td>nan   </td> <td>CMPSC</td> <td>99       </td> <td>3     </td> <td>True     </td> <td>L    </td>\n",
       "        </tr>\n",
       "    </tbody>\n",
       "</table>\n",
       "<p>... (446 rows omitted)</p>"
      ],
      "text/plain": [
       "COURSEID        | ENROLLED | GES  | INSTRUCTOR   | MAXENROLL | QUARTER | SECTION | STATUS | dept  | courseNum | suffix | isLecture | level\n",
       "CMPSC     5A -1 | 78       | nan  | SOLIS S W    | 90        | 20214   | 100     | nan    | CMPSC | 5A        | 1      | True      | L\n",
       "CMPSC     5B -1 | 22       | nan  | SOLIS S W    | 80        | 20214   | 100     | nan    | CMPSC | 5B        | 1      | True      | L\n",
       "CMPSC     9  -1 | 130      | nan  | WANG R K     | 150       | 20214   | 100     | nan    | CMPSC | 9         | 1      | True      | L\n",
       "CMPSC    24A -1 | 2        | nan  | WANG R K     | 0         | 20214   | 100     | nan    | CMPSC | 24A       | 1      | True      | L\n",
       "CMPSC    32  -1 | 89       | nan  | EMRE M       | 90        | 20214   | 100     | nan    | CMPSC | 32        | 1      | True      | L\n",
       "CMPSC    40  -1 | 73       | nan  | MIRZA D      | 70        | 20214   | 100     | nan    | CMPSC | 40        | 1      | True      | L\n",
       "CMPSC    64  -1 | 85       | nan  | SHERWOOD T P | 90        | 20214   | 100     | nan    | CMPSC | 64        | 1      | True      | L\n",
       "CMPSC    99  -1 | 0        | nan  | nan          | 5         | 20214   | 100     | nan    | CMPSC | 99        | 1      | True      | L\n",
       "CMPSC    99  -2 | 2        | nan  | LOKSHTANOV D | 5         | 20214   | 200     | nan    | CMPSC | 99        | 2      | True      | L\n",
       "CMPSC    99  -3 | 0        | nan  | KOZERAWSKI J | 5         | 20214   | 300     | nan    | CMPSC | 99        | 3      | True      | L\n",
       "... (446 rows omitted)"
      ]
     },
     "execution_count": 36,
     "metadata": {},
     "output_type": "execute_result"
    }
   ],
   "source": [
    "tables[0]"
   ]
  },
  {
   "cell_type": "code",
   "execution_count": null,
   "metadata": {
    "colab": {
     "base_uri": "https://localhost:8080/",
     "height": 392
    },
    "id": "HW2NNG0y3nK0",
    "outputId": "9f8650c9-f721-4efe-f071-93276d85abc8"
   },
   "outputs": [
    {
     "data": {
      "text/html": [
       "<table border=\"1\" class=\"dataframe\">\n",
       "    <thead>\n",
       "        <tr>\n",
       "            <th>COURSEID</th> <th>ENROLLED</th> <th>GES</th> <th>INSTRUCTOR</th> <th>MAXENROLL</th> <th>QUARTER</th> <th>SECTION</th> <th>STATUS</th> <th>dept</th> <th>courseNum</th> <th>suffix</th> <th>isLecture</th> <th>level</th>\n",
       "        </tr>\n",
       "    </thead>\n",
       "    <tbody>\n",
       "        <tr>\n",
       "            <td>CMPSC     9  -1</td> <td>57      </td> <td>nan </td> <td>WANG R K     </td> <td>75       </td> <td>20243  </td> <td>100    </td> <td>nan   </td> <td>CMPSC</td> <td>9        </td> <td>1     </td> <td>True     </td> <td>L    </td>\n",
       "        </tr>\n",
       "        <tr>\n",
       "            <td>CMPSC     9  -2</td> <td>30      </td> <td>nan </td> <td>SISCO Z D    </td> <td>40       </td> <td>20243  </td> <td>200    </td> <td>nan   </td> <td>CMPSC</td> <td>9        </td> <td>2     </td> <td>True     </td> <td>L    </td>\n",
       "        </tr>\n",
       "        <tr>\n",
       "            <td>CMPSC    16  -1</td> <td>24      </td> <td>nan </td> <td>DOWNING M E  </td> <td>75       </td> <td>20243  </td> <td>100    </td> <td>nan   </td> <td>CMPSC</td> <td>16       </td> <td>1     </td> <td>True     </td> <td>L    </td>\n",
       "        </tr>\n",
       "        <tr>\n",
       "            <td>CMPSC    24  -1</td> <td>15      </td> <td>nan </td> <td>MAJEDI M     </td> <td>35       </td> <td>20243  </td> <td>100    </td> <td>nan   </td> <td>CMPSC</td> <td>24       </td> <td>1     </td> <td>True     </td> <td>L    </td>\n",
       "        </tr>\n",
       "        <tr>\n",
       "            <td>CMPSC    40  -1</td> <td>12      </td> <td>nan </td> <td>SURIANARAYANA</td> <td>40       </td> <td>20243  </td> <td>100    </td> <td>nan   </td> <td>CMPSC</td> <td>40       </td> <td>1     </td> <td>True     </td> <td>L    </td>\n",
       "        </tr>\n",
       "        <tr>\n",
       "            <td>CMPSC    99  -1</td> <td>0       </td> <td>nan </td> <td>nan          </td> <td>5        </td> <td>20243  </td> <td>100    </td> <td>nan   </td> <td>CMPSC</td> <td>99       </td> <td>1     </td> <td>True     </td> <td>L    </td>\n",
       "        </tr>\n",
       "        <tr>\n",
       "            <td>CMPSC   111  -1</td> <td>16      </td> <td>nan </td> <td>GIBOU F G    </td> <td>70       </td> <td>20243  </td> <td>100    </td> <td>nan   </td> <td>CMPSC</td> <td>111      </td> <td>1     </td> <td>True     </td> <td>U    </td>\n",
       "        </tr>\n",
       "        <tr>\n",
       "            <td>CMPSC   192  -1</td> <td>0       </td> <td>nan </td> <td>nan          </td> <td>5        </td> <td>20243  </td> <td>100    </td> <td>nan   </td> <td>CMPSC</td> <td>192      </td> <td>1     </td> <td>True     </td> <td>U    </td>\n",
       "        </tr>\n",
       "        <tr>\n",
       "            <td>CMPSC   192  -2</td> <td>1       </td> <td>nan </td> <td>YAN X        </td> <td>5        </td> <td>20243  </td> <td>200    </td> <td>nan   </td> <td>CMPSC</td> <td>192      </td> <td>2     </td> <td>True     </td> <td>U    </td>\n",
       "        </tr>\n",
       "        <tr>\n",
       "            <td>CMPSC   193  -1</td> <td>0       </td> <td>nan </td> <td>nan          </td> <td>90       </td> <td>20243  </td> <td>100    </td> <td>nan   </td> <td>CMPSC</td> <td>193      </td> <td>1     </td> <td>True     </td> <td>U    </td>\n",
       "        </tr>\n",
       "    </tbody>\n",
       "</table>\n",
       "<p>... (209 rows omitted)</p>"
      ],
      "text/plain": [
       "COURSEID        | ENROLLED | GES  | INSTRUCTOR    | MAXENROLL | QUARTER | SECTION | STATUS | dept  | courseNum | suffix | isLecture | level\n",
       "CMPSC     9  -1 | 57       | nan  | WANG R K      | 75        | 20243   | 100     | nan    | CMPSC | 9         | 1      | True      | L\n",
       "CMPSC     9  -2 | 30       | nan  | SISCO Z D     | 40        | 20243   | 200     | nan    | CMPSC | 9         | 2      | True      | L\n",
       "CMPSC    16  -1 | 24       | nan  | DOWNING M E   | 75        | 20243   | 100     | nan    | CMPSC | 16        | 1      | True      | L\n",
       "CMPSC    24  -1 | 15       | nan  | MAJEDI M      | 35        | 20243   | 100     | nan    | CMPSC | 24        | 1      | True      | L\n",
       "CMPSC    40  -1 | 12       | nan  | SURIANARAYANA | 40        | 20243   | 100     | nan    | CMPSC | 40        | 1      | True      | L\n",
       "CMPSC    99  -1 | 0        | nan  | nan           | 5         | 20243   | 100     | nan    | CMPSC | 99        | 1      | True      | L\n",
       "CMPSC   111  -1 | 16       | nan  | GIBOU F G     | 70        | 20243   | 100     | nan    | CMPSC | 111       | 1      | True      | U\n",
       "CMPSC   192  -1 | 0        | nan  | nan           | 5         | 20243   | 100     | nan    | CMPSC | 192       | 1      | True      | U\n",
       "CMPSC   192  -2 | 1        | nan  | YAN X         | 5         | 20243   | 200     | nan    | CMPSC | 192       | 2      | True      | U\n",
       "CMPSC   193  -1 | 0        | nan  | nan           | 90        | 20243   | 100     | nan    | CMPSC | 193       | 1      | True      | U\n",
       "... (209 rows omitted)"
      ]
     },
     "execution_count": 37,
     "metadata": {},
     "output_type": "execute_result"
    }
   ],
   "source": [
    "tables[11]"
   ]
  },
  {
   "cell_type": "code",
   "execution_count": null,
   "metadata": {
    "id": "oVKmKUws3ojD"
   },
   "outputs": [],
   "source": []
  },
  {
   "cell_type": "markdown",
   "metadata": {
    "id": "awtKKfLQ4EiE"
   },
   "source": [
    "Our next step is to combine all of these into one table.  Let's ask Gemini how to do that."
   ]
  },
  {
   "cell_type": "code",
   "execution_count": null,
   "metadata": {
    "id": "-AjE-KO54KUJ"
   },
   "outputs": [],
   "source": [
    "# prompt: Write a function that takes a list of datascience Tables as a parameter, each of which has the same columns, and returns a new table that has all of the contents of the individual tables combined into one.\n",
    "\n",
    "def combine_tables(list_of_tables):\n",
    "    \"\"\"\n",
    "    Combines a list of datascience Tables into a single Table.\n",
    "\n",
    "    Args:\n",
    "        list_of_tables: A list of datascience Tables, each with the same columns.\n",
    "\n",
    "    Returns:\n",
    "        A new datascience Table containing all the rows from the input tables.\n",
    "        Returns an empty table if the input list is empty or None.\n",
    "    \"\"\"\n",
    "    if not list_of_tables:\n",
    "        return Table()  # Return an empty table for an empty or None input\n",
    "\n",
    "    combined_table = list_of_tables[0].copy()  # Start with a copy of the first table\n",
    "    for table in list_of_tables[1:]:\n",
    "        combined_table = combined_table.append(table)\n",
    "    return combined_table\n"
   ]
  },
  {
   "cell_type": "markdown",
   "metadata": {
    "id": "5MtvfbHZ4esF"
   },
   "source": [
    "We can see that this function uses the accumulator pattern. Instead of starting with an empty table, it starts with a copy of the first table.  It then uses the `append` method of `datascience.table.Table` to add all of the rows of the other tables to the result.\n",
    "\n",
    "It also has this code to give us an empty in case we give it an empty list as input:\n",
    "```python\n",
    "    if not list_of_tables:\n",
    "        return Table()  # Return an empty table for an empty or None input\n",
    "```\n",
    "\n",
    "Let's try that function now on our list of tables:"
   ]
  },
  {
   "cell_type": "code",
   "execution_count": null,
   "metadata": {
    "colab": {
     "base_uri": "https://localhost:8080/",
     "height": 392
    },
    "id": "lB6W2D4Q41zn",
    "outputId": "d82a14fa-4d5f-41b2-be2d-710c0534d9b3"
   },
   "outputs": [
    {
     "data": {
      "text/html": [
       "<table border=\"1\" class=\"dataframe\">\n",
       "    <thead>\n",
       "        <tr>\n",
       "            <th>COURSEID</th> <th>ENROLLED</th> <th>GES</th> <th>INSTRUCTOR</th> <th>MAXENROLL</th> <th>QUARTER</th> <th>SECTION</th> <th>STATUS</th> <th>dept</th> <th>courseNum</th> <th>suffix</th> <th>isLecture</th> <th>level</th>\n",
       "        </tr>\n",
       "    </thead>\n",
       "    <tbody>\n",
       "        <tr>\n",
       "            <td>CMPSC     5A -1</td> <td>78      </td> <td>nan </td> <td>SOLIS S W   </td> <td>90       </td> <td>20214  </td> <td>100    </td> <td>nan   </td> <td>CMPSC</td> <td>5A       </td> <td>1     </td> <td>True     </td> <td>L    </td>\n",
       "        </tr>\n",
       "        <tr>\n",
       "            <td>CMPSC     5B -1</td> <td>22      </td> <td>nan </td> <td>SOLIS S W   </td> <td>80       </td> <td>20214  </td> <td>100    </td> <td>nan   </td> <td>CMPSC</td> <td>5B       </td> <td>1     </td> <td>True     </td> <td>L    </td>\n",
       "        </tr>\n",
       "        <tr>\n",
       "            <td>CMPSC     9  -1</td> <td>130     </td> <td>nan </td> <td>WANG R K    </td> <td>150      </td> <td>20214  </td> <td>100    </td> <td>nan   </td> <td>CMPSC</td> <td>9        </td> <td>1     </td> <td>True     </td> <td>L    </td>\n",
       "        </tr>\n",
       "        <tr>\n",
       "            <td>CMPSC    24A -1</td> <td>2       </td> <td>nan </td> <td>WANG R K    </td> <td>0        </td> <td>20214  </td> <td>100    </td> <td>nan   </td> <td>CMPSC</td> <td>24A      </td> <td>1     </td> <td>True     </td> <td>L    </td>\n",
       "        </tr>\n",
       "        <tr>\n",
       "            <td>CMPSC    32  -1</td> <td>89      </td> <td>nan </td> <td>EMRE M      </td> <td>90       </td> <td>20214  </td> <td>100    </td> <td>nan   </td> <td>CMPSC</td> <td>32       </td> <td>1     </td> <td>True     </td> <td>L    </td>\n",
       "        </tr>\n",
       "        <tr>\n",
       "            <td>CMPSC    40  -1</td> <td>73      </td> <td>nan </td> <td>MIRZA D     </td> <td>70       </td> <td>20214  </td> <td>100    </td> <td>nan   </td> <td>CMPSC</td> <td>40       </td> <td>1     </td> <td>True     </td> <td>L    </td>\n",
       "        </tr>\n",
       "        <tr>\n",
       "            <td>CMPSC    64  -1</td> <td>85      </td> <td>nan </td> <td>SHERWOOD T P</td> <td>90       </td> <td>20214  </td> <td>100    </td> <td>nan   </td> <td>CMPSC</td> <td>64       </td> <td>1     </td> <td>True     </td> <td>L    </td>\n",
       "        </tr>\n",
       "        <tr>\n",
       "            <td>CMPSC    99  -1</td> <td>0       </td> <td>nan </td> <td>nan         </td> <td>5        </td> <td>20214  </td> <td>100    </td> <td>nan   </td> <td>CMPSC</td> <td>99       </td> <td>1     </td> <td>True     </td> <td>L    </td>\n",
       "        </tr>\n",
       "        <tr>\n",
       "            <td>CMPSC    99  -2</td> <td>2       </td> <td>nan </td> <td>LOKSHTANOV D</td> <td>5        </td> <td>20214  </td> <td>200    </td> <td>nan   </td> <td>CMPSC</td> <td>99       </td> <td>2     </td> <td>True     </td> <td>L    </td>\n",
       "        </tr>\n",
       "        <tr>\n",
       "            <td>CMPSC    99  -3</td> <td>0       </td> <td>nan </td> <td>KOZERAWSKI J</td> <td>5        </td> <td>20214  </td> <td>300    </td> <td>nan   </td> <td>CMPSC</td> <td>99       </td> <td>3     </td> <td>True     </td> <td>L    </td>\n",
       "        </tr>\n",
       "    </tbody>\n",
       "</table>\n",
       "<p>... (5095 rows omitted)</p>"
      ],
      "text/plain": [
       "COURSEID        | ENROLLED | GES  | INSTRUCTOR   | MAXENROLL | QUARTER | SECTION | STATUS | dept  | courseNum | suffix | isLecture | level\n",
       "CMPSC     5A -1 | 78       | nan  | SOLIS S W    | 90        | 20214   | 100     | nan    | CMPSC | 5A        | 1      | True      | L\n",
       "CMPSC     5B -1 | 22       | nan  | SOLIS S W    | 80        | 20214   | 100     | nan    | CMPSC | 5B        | 1      | True      | L\n",
       "CMPSC     9  -1 | 130      | nan  | WANG R K     | 150       | 20214   | 100     | nan    | CMPSC | 9         | 1      | True      | L\n",
       "CMPSC    24A -1 | 2        | nan  | WANG R K     | 0         | 20214   | 100     | nan    | CMPSC | 24A       | 1      | True      | L\n",
       "CMPSC    32  -1 | 89       | nan  | EMRE M       | 90        | 20214   | 100     | nan    | CMPSC | 32        | 1      | True      | L\n",
       "CMPSC    40  -1 | 73       | nan  | MIRZA D      | 70        | 20214   | 100     | nan    | CMPSC | 40        | 1      | True      | L\n",
       "CMPSC    64  -1 | 85       | nan  | SHERWOOD T P | 90        | 20214   | 100     | nan    | CMPSC | 64        | 1      | True      | L\n",
       "CMPSC    99  -1 | 0        | nan  | nan          | 5         | 20214   | 100     | nan    | CMPSC | 99        | 1      | True      | L\n",
       "CMPSC    99  -2 | 2        | nan  | LOKSHTANOV D | 5         | 20214   | 200     | nan    | CMPSC | 99        | 2      | True      | L\n",
       "CMPSC    99  -3 | 0        | nan  | KOZERAWSKI J | 5         | 20214   | 300     | nan    | CMPSC | 99        | 3      | True      | L\n",
       "... (5095 rows omitted)"
      ]
     },
     "execution_count": 40,
     "metadata": {},
     "output_type": "execute_result"
    }
   ],
   "source": [
    "courses = combine_tables(tables)\n",
    "courses"
   ]
  },
  {
   "cell_type": "markdown",
   "metadata": {
    "id": "miel6w2r5Io3"
   },
   "source": [
    "Now we can try things like this:"
   ]
  },
  {
   "cell_type": "code",
   "execution_count": null,
   "metadata": {
    "colab": {
     "base_uri": "https://localhost:8080/",
     "height": 392
    },
    "id": "RwKnEJqP5BDE",
    "outputId": "7c07f603-9a05-423d-81ce-815e947d14b6"
   },
   "outputs": [
    {
     "data": {
      "text/html": [
       "<table border=\"1\" class=\"dataframe\">\n",
       "    <thead>\n",
       "        <tr>\n",
       "            <th>COURSEID</th> <th>ENROLLED</th> <th>GES</th> <th>INSTRUCTOR</th> <th>MAXENROLL</th> <th>QUARTER</th> <th>SECTION</th> <th>STATUS</th> <th>dept</th> <th>courseNum</th> <th>suffix</th> <th>isLecture</th> <th>level</th>\n",
       "        </tr>\n",
       "    </thead>\n",
       "    <tbody>\n",
       "        <tr>\n",
       "            <td>CMPSC   100  -1 </td> <td>19      </td> <td>nan </td> <td>CONRAD P T</td> <td>25       </td> <td>20214  </td> <td>100    </td> <td>nan   </td> <td>CMPSC</td> <td>100      </td> <td>1     </td> <td>True     </td> <td>U    </td>\n",
       "        </tr>\n",
       "        <tr>\n",
       "            <td>CMPSC   596  -2 </td> <td>1       </td> <td>nan </td> <td>CONRAD P T</td> <td>20       </td> <td>20221  </td> <td>200    </td> <td>nan   </td> <td>CMPSC</td> <td>596      </td> <td>2     </td> <td>True     </td> <td>G    </td>\n",
       "        </tr>\n",
       "        <tr>\n",
       "            <td>CMPSC   156  -1 </td> <td>71      </td> <td>nan </td> <td>CONRAD P T</td> <td>72       </td> <td>20222  </td> <td>100    </td> <td>nan   </td> <td>CMPSC</td> <td>156      </td> <td>1     </td> <td>True     </td> <td>U    </td>\n",
       "        </tr>\n",
       "        <tr>\n",
       "            <td>CMPSC   190D -1 </td> <td>9       </td> <td>nan </td> <td>CONRAD P T</td> <td>2        </td> <td>20222  </td> <td>100    </td> <td>nan   </td> <td>CMPSC</td> <td>190D     </td> <td>1     </td> <td>True     </td> <td>U    </td>\n",
       "        </tr>\n",
       "        <tr>\n",
       "            <td>CMPSC   192  -2 </td> <td>1       </td> <td>nan </td> <td>CONRAD P T</td> <td>20       </td> <td>20222  </td> <td>200    </td> <td>nan   </td> <td>CMPSC</td> <td>192      </td> <td>2     </td> <td>True     </td> <td>U    </td>\n",
       "        </tr>\n",
       "        <tr>\n",
       "            <td>CMPSC   596  -3 </td> <td>1       </td> <td>nan </td> <td>CONRAD P T</td> <td>30       </td> <td>20222  </td> <td>300    </td> <td>nan   </td> <td>CMPSC</td> <td>596      </td> <td>3     </td> <td>True     </td> <td>G    </td>\n",
       "        </tr>\n",
       "        <tr>\n",
       "            <td>CMPSC    16  -1 </td> <td>156     </td> <td>nan </td> <td>CONRAD P T</td> <td>150      </td> <td>20231  </td> <td>100    </td> <td>nan   </td> <td>CMPSC</td> <td>16       </td> <td>1     </td> <td>True     </td> <td>L    </td>\n",
       "        </tr>\n",
       "        <tr>\n",
       "            <td>CMPSC   192  -2 </td> <td>1       </td> <td>nan </td> <td>CONRAD P T</td> <td>10       </td> <td>20231  </td> <td>200    </td> <td>nan   </td> <td>CMPSC</td> <td>192      </td> <td>2     </td> <td>True     </td> <td>U    </td>\n",
       "        </tr>\n",
       "        <tr>\n",
       "            <td>CMPSC   596  -38</td> <td>1       </td> <td>nan </td> <td>CONRAD P T</td> <td>20       </td> <td>20231  </td> <td>3800   </td> <td>nan   </td> <td>CMPSC</td> <td>596      </td> <td>38    </td> <td>True     </td> <td>G    </td>\n",
       "        </tr>\n",
       "        <tr>\n",
       "            <td>CMPSC   596  -37</td> <td>1       </td> <td>nan </td> <td>CONRAD P T</td> <td>30       </td> <td>20232  </td> <td>3700   </td> <td>nan   </td> <td>CMPSC</td> <td>596      </td> <td>37    </td> <td>True     </td> <td>G    </td>\n",
       "        </tr>\n",
       "    </tbody>\n",
       "</table>\n",
       "<p>... (10 rows omitted)</p>"
      ],
      "text/plain": [
       "COURSEID         | ENROLLED | GES  | INSTRUCTOR | MAXENROLL | QUARTER | SECTION | STATUS | dept  | courseNum | suffix | isLecture | level\n",
       "CMPSC   100  -1  | 19       | nan  | CONRAD P T | 25        | 20214   | 100     | nan    | CMPSC | 100       | 1      | True      | U\n",
       "CMPSC   596  -2  | 1        | nan  | CONRAD P T | 20        | 20221   | 200     | nan    | CMPSC | 596       | 2      | True      | G\n",
       "CMPSC   156  -1  | 71       | nan  | CONRAD P T | 72        | 20222   | 100     | nan    | CMPSC | 156       | 1      | True      | U\n",
       "CMPSC   190D -1  | 9        | nan  | CONRAD P T | 2         | 20222   | 100     | nan    | CMPSC | 190D      | 1      | True      | U\n",
       "CMPSC   192  -2  | 1        | nan  | CONRAD P T | 20        | 20222   | 200     | nan    | CMPSC | 192       | 2      | True      | U\n",
       "CMPSC   596  -3  | 1        | nan  | CONRAD P T | 30        | 20222   | 300     | nan    | CMPSC | 596       | 3      | True      | G\n",
       "CMPSC    16  -1  | 156      | nan  | CONRAD P T | 150       | 20231   | 100     | nan    | CMPSC | 16        | 1      | True      | L\n",
       "CMPSC   192  -2  | 1        | nan  | CONRAD P T | 10        | 20231   | 200     | nan    | CMPSC | 192       | 2      | True      | U\n",
       "CMPSC   596  -38 | 1        | nan  | CONRAD P T | 20        | 20231   | 3800    | nan    | CMPSC | 596       | 38     | True      | G\n",
       "CMPSC   596  -37 | 1        | nan  | CONRAD P T | 30        | 20232   | 3700    | nan    | CMPSC | 596       | 37     | True      | G\n",
       "... (10 rows omitted)"
      ]
     },
     "execution_count": 43,
     "metadata": {},
     "output_type": "execute_result"
    }
   ],
   "source": [
    "conrads_courses = courses.where(\"INSTRUCTOR\", are.equal_to(\"CONRAD P T\"))\n",
    "conrads_courses"
   ]
  },
  {
   "cell_type": "markdown",
   "metadata": {
    "id": "4CySB0lw5xqm"
   },
   "source": [
    "Let's try a simple pivot table to see the number of Upper Division, Lower Divison, and Grad classes, by department:"
   ]
  },
  {
   "cell_type": "code",
   "execution_count": null,
   "metadata": {
    "colab": {
     "base_uri": "https://localhost:8080/",
     "height": 206
    },
    "id": "wwo9ahQ15xdG",
    "outputId": "e326a841-31fc-4fa5-cfac-198e03f47e43"
   },
   "outputs": [
    {
     "data": {
      "text/html": [
       "<table border=\"1\" class=\"dataframe\">\n",
       "    <thead>\n",
       "        <tr>\n",
       "            <th>dept</th> <th>G</th> <th>L</th> <th>U</th>\n",
       "        </tr>\n",
       "    </thead>\n",
       "    <tbody>\n",
       "        <tr>\n",
       "            <td>CMPSC</td> <td>3607</td> <td>4900 </td> <td>7874 </td>\n",
       "        </tr>\n",
       "        <tr>\n",
       "            <td>COMM </td> <td>806 </td> <td>6795 </td> <td>14059</td>\n",
       "        </tr>\n",
       "        <tr>\n",
       "            <td>ECON </td> <td>2192</td> <td>19066</td> <td>25466</td>\n",
       "        </tr>\n",
       "        <tr>\n",
       "            <td>MATH </td> <td>2357</td> <td>32807</td> <td>10461</td>\n",
       "        </tr>\n",
       "        <tr>\n",
       "            <td>PSTAT</td> <td>2599</td> <td>8720 </td> <td>20568</td>\n",
       "        </tr>\n",
       "    </tbody>\n",
       "</table>"
      ],
      "text/plain": [
       "dept  | G    | L     | U\n",
       "CMPSC | 3607 | 4900  | 7874\n",
       "COMM  | 806  | 6795  | 14059\n",
       "ECON  | 2192 | 19066 | 25466\n",
       "MATH  | 2357 | 32807 | 10461\n",
       "PSTAT | 2599 | 8720  | 20568"
      ]
     },
     "execution_count": 45,
     "metadata": {},
     "output_type": "execute_result"
    }
   ],
   "source": [
    "courses.pivot(\"level\", \"dept\", \"ENROLLED\", sum)"
   ]
  },
  {
   "cell_type": "markdown",
   "metadata": {
    "id": "VVSUC4-P6MCW"
   },
   "source": [
    "# Review of Bar Graphs\n",
    "\n",
    "If we want a simple bar chart of all Lower Division, Upper Division and Grad classes, we can do a simple bar chart by level:"
   ]
  },
  {
   "cell_type": "code",
   "execution_count": null,
   "metadata": {
    "colab": {
     "base_uri": "https://localhost:8080/",
     "height": 143
    },
    "id": "BtSxbUkh62zr",
    "outputId": "d64fc8e6-5521-4c75-ea7b-d0241f34ba4a"
   },
   "outputs": [
    {
     "data": {
      "text/html": [
       "<table border=\"1\" class=\"dataframe\">\n",
       "    <thead>\n",
       "        <tr>\n",
       "            <th>level</th> <th>count</th>\n",
       "        </tr>\n",
       "    </thead>\n",
       "    <tbody>\n",
       "        <tr>\n",
       "            <td>G    </td> <td>2053 </td>\n",
       "        </tr>\n",
       "        <tr>\n",
       "            <td>L    </td> <td>747  </td>\n",
       "        </tr>\n",
       "        <tr>\n",
       "            <td>U    </td> <td>2305 </td>\n",
       "        </tr>\n",
       "    </tbody>\n",
       "</table>"
      ],
      "text/plain": [
       "level | count\n",
       "G     | 2053\n",
       "L     | 747\n",
       "U     | 2305"
      ]
     },
     "execution_count": 55,
     "metadata": {},
     "output_type": "execute_result"
    }
   ],
   "source": [
    "courses.group(\"level\")"
   ]
  },
  {
   "cell_type": "code",
   "execution_count": null,
   "metadata": {
    "colab": {
     "base_uri": "https://localhost:8080/",
     "height": 394
    },
    "id": "OlzdT3Tc5TDX",
    "outputId": "261e14d6-ae71-44d8-ee83-6368d34f9c7c"
   },
   "outputs": [
    {
     "data": {
      "image/png": "[encoded data removed]",
      "text/plain": [
       "<Figure size 600x400 with 1 Axes>"
      ]
     },
     "metadata": {},
     "output_type": "display_data"
    }
   ],
   "source": [
    "courses.group(\"level\").barh(\"level\")"
   ]
  },
  {
   "cell_type": "markdown",
   "metadata": {
    "id": "ZpjJj52l6jSq"
   },
   "source": [
    "## Short Digression: Vertical Bar Charts\n",
    "Unforunately, the Berkeley Data 8 `datascience` module doesn't do vertical bar graphs very well.  \n",
    "\n",
    "In principle, you just use `bar` instead of `barh`.  But you'll notice that it isn't included in the documentation or the textbook; probably because it's broken.\n",
    "\n",
    "You can try it, but you get weird results (duplicated labels on the x axis).  Notice the weird multiple \"G\", \"L\" and \"U\" labels in the chart shown below."
   ]
  },
  {
   "cell_type": "code",
   "execution_count": null,
   "metadata": {
    "colab": {
     "base_uri": "https://localhost:8080/",
     "height": 394
    },
    "id": "Kzpgk0v36bbG",
    "outputId": "0b264b61-62fa-4ee0-fb85-8110da90cb10"
   },
   "outputs": [
    {
     "data": {
      "image/png": "[encoded data removed]",
      "text/plain": [
       "<Figure size 600x400 with 1 Axes>"
      ]
     },
     "metadata": {},
     "output_type": "display_data"
    }
   ],
   "source": [
    "courses.group(\"level\").bar(\"level\")"
   ]
  },
  {
   "cell_type": "markdown",
   "metadata": {
    "id": "GYYkPzlY-Jti"
   },
   "source": [
    "The only way I've found to overcome this is to directly use the library that `datascience` uses \"under the hood\", which is called `matplotlib`.  This library is the one that is used directly by more advanced data science professionals.  \n",
    "\n",
    "*We are not requiring you to become familiar with `matplotlib` in this course*.\n",
    "\n",
    "But just for reference, here's how that looks."
   ]
  },
  {
   "cell_type": "code",
   "execution_count": null,
   "metadata": {
    "colab": {
     "base_uri": "https://localhost:8080/",
     "height": 487
    },
    "id": "-eCEK7uJ_NL6",
    "outputId": "711a0c06-c6f3-408f-9467-e18619de26d3"
   },
   "outputs": [
    {
     "data": {
      "image/png": "[encoded data removed]",
      "text/plain": [
       "<Figure size 640x480 with 1 Axes>"
      ]
     },
     "metadata": {},
     "output_type": "display_data"
    }
   ],
   "source": [
    "import matplotlib.pyplot as plt\n",
    "grouped = data.group(\"level\", sum)\n",
    "levels = grouped.column(\"level\")\n",
    "counts = grouped.column(\"count sum\")\n",
    "\n",
    "# Plot using matplotlib for full control\n",
    "plt.bar(levels, counts)\n",
    "plt.xlabel(\"level\")\n",
    "plt.ylabel(\"Total Count\")\n",
    "plt.title(\"level Counts\")\n",
    "# plt.xticks(rotation=45)\n",
    "plt.tight_layout()\n",
    "plt.show()"
   ]
  },
  {
   "cell_type": "markdown",
   "metadata": {
    "id": "lx4PGuGpBPb1"
   },
   "source": [
    "## Multiple Bar Graphs (Section 7.3)\n",
    "\n",
    "Let's return to the original horizontal bar graph\n"
   ]
  },
  {
   "cell_type": "code",
   "execution_count": null,
   "metadata": {
    "colab": {
     "base_uri": "https://localhost:8080/",
     "height": 394
    },
    "id": "TUMvJ4og9nIb",
    "outputId": "bfd9f9b0-0e91-46d3-c9d6-3dbd13250826"
   },
   "outputs": [
    {
     "data": {
      "image/png": "[encoded data removed]",
      "text/plain": [
       "<Figure size 600x400 with 1 Axes>"
      ]
     },
     "metadata": {},
     "output_type": "display_data"
    }
   ],
   "source": [
    "courses.group(\"level\").barh(\"level\")\n"
   ]
  },
  {
   "cell_type": "markdown",
   "metadata": {
    "id": "a9XjBbLQBauF"
   },
   "source": [
    "Suppose that instead of one bar per level, we want multiple bars: one for each of our departments (`CMPSC`, `PSTAT`, `MATH`, `COMM` and `ECON`).\n",
    "\n",
    "We start with a pivot, like this.  A simple `pivot` that doesn't specify any column or collection function just returns a simple count of the number of rows that have this combination of categorical values:\n"
   ]
  },
  {
   "cell_type": "code",
   "execution_count": null,
   "metadata": {
    "colab": {
     "base_uri": "https://localhost:8080/",
     "height": 143
    },
    "id": "KfLjOwjyBZmS",
    "outputId": "6e72af45-9f68-4128-c661-5351f7c35d83"
   },
   "outputs": [
    {
     "data": {
      "text/html": [
       "<table border=\"1\" class=\"dataframe\">\n",
       "    <thead>\n",
       "        <tr>\n",
       "            <th>level</th> <th>CMPSC</th> <th>COMM</th> <th>ECON</th> <th>MATH</th> <th>PSTAT</th>\n",
       "        </tr>\n",
       "    </thead>\n",
       "    <tbody>\n",
       "        <tr>\n",
       "            <td>G    </td> <td>508  </td> <td>280 </td> <td>359 </td> <td>514 </td> <td>392  </td>\n",
       "        </tr>\n",
       "        <tr>\n",
       "            <td>L    </td> <td>82   </td> <td>148 </td> <td>167 </td> <td>278 </td> <td>72   </td>\n",
       "        </tr>\n",
       "        <tr>\n",
       "            <td>U    </td> <td>553  </td> <td>478 </td> <td>427 </td> <td>396 </td> <td>451  </td>\n",
       "        </tr>\n",
       "    </tbody>\n",
       "</table>"
      ],
      "text/plain": [
       "level | CMPSC | COMM | ECON | MATH | PSTAT\n",
       "G     | 508   | 280  | 359  | 514  | 392\n",
       "L     | 82    | 148  | 167  | 278  | 72\n",
       "U     | 553   | 478  | 427  | 396  | 451"
      ]
     },
     "execution_count": 96,
     "metadata": {},
     "output_type": "execute_result"
    }
   ],
   "source": [
    "courses.pivot(\"dept\",\"level\")"
   ]
  },
  {
   "cell_type": "markdown",
   "metadata": {
    "id": "x9XZLbDGCol9"
   },
   "source": [
    "We can then apply `barh` to that to get a bar chart with multiple bars, like this:"
   ]
  },
  {
   "cell_type": "code",
   "execution_count": null,
   "metadata": {
    "colab": {
     "base_uri": "https://localhost:8080/",
     "height": 368
    },
    "id": "ujicidJ0CuGh",
    "outputId": "b8c41eba-7d37-4c2b-80c6-7896266de728"
   },
   "outputs": [
    {
     "data": {
      "image/png": "[encoded data removed]",
      "text/plain": [
       "<Figure size 600x400 with 1 Axes>"
      ]
     },
     "metadata": {},
     "output_type": "display_data"
    }
   ],
   "source": [
    "courses.pivot(\"dept\",\"level\").barh('level')"
   ]
  },
  {
   "cell_type": "markdown",
   "metadata": {
    "id": "aQwJxplqDDu9"
   },
   "source": [
    "The number of grad and upper division courses for `CMPSC` seems really high, but as it turns out, many of these are independent study (research) courses with a very small number of students.  If we repeat this analysis using a sum of enrollment, we get a different result:"
   ]
  },
  {
   "cell_type": "code",
   "execution_count": null,
   "metadata": {
    "colab": {
     "base_uri": "https://localhost:8080/",
     "height": 368
    },
    "id": "jaCWxiWTB--Y",
    "outputId": "495ea015-271c-4663-dc65-93671a48a351"
   },
   "outputs": [
    {
     "data": {
      "image/png": "[encoded data removed]",
      "text/plain": [
       "<Figure size 600x400 with 1 Axes>"
      ]
     },
     "metadata": {},
     "output_type": "display_data"
    }
   ],
   "source": [
    "courses.pivot(\"dept\",\"level\", \"ENROLLED\", sum).barh('level')"
   ]
  },
  {
   "cell_type": "markdown",
   "metadata": {
    "id": "hoHYVHdiDhpj"
   },
   "source": [
    "If we want to group by department first, we just invert the order:"
   ]
  },
  {
   "cell_type": "code",
   "execution_count": null,
   "metadata": {
    "colab": {
     "base_uri": "https://localhost:8080/",
     "height": 368
    },
    "id": "klBn-HCqDaxD",
    "outputId": "3aae6db4-8cfa-4e3a-9505-aa01fbb71869"
   },
   "outputs": [
    {
     "data": {
      "image/png": "[encoded data removed]",
      "text/plain": [
       "<Figure size 600x400 with 1 Axes>"
      ]
     },
     "metadata": {},
     "output_type": "display_data"
    }
   ],
   "source": [
    "courses.pivot(\"level\",\"dept\", \"ENROLLED\", sum).barh('dept')"
   ]
  },
  {
   "cell_type": "markdown",
   "metadata": {
    "id": "QRUDF_6VDu5Q"
   },
   "source": [
    "As you can see, the mix of lower div, upper div, and grad courses varies considerably from department to department!"
   ]
  },
  {
   "cell_type": "markdown",
   "metadata": {
    "id": "-qM0sdjmEJSy"
   },
   "source": [
    "# Lines graphs over time\n",
    "\n",
    "Now let's consider how we might show total enrollment in undergraduate courses over time, for the five departments.\n",
    "\n",
    "We'll first select out only the courses that are not grad courses"
   ]
  },
  {
   "cell_type": "code",
   "execution_count": null,
   "metadata": {
    "colab": {
     "base_uri": "https://localhost:8080/"
    },
    "id": "qpfo0DlbDnGL",
    "outputId": "7c5fa3d0-de46-439f-c56e-54ffae3abf1e"
   },
   "outputs": [
    {
     "name": "stdout",
     "output_type": "stream",
     "text": [
      "Total courses = 5105\n",
      "Total undergrad courses = 3052\n"
     ]
    }
   ],
   "source": [
    "undergrad = courses.where(\"level\", are.not_equal_to(\"G\"))\n",
    "\n",
    "print(f\"Total courses = {courses.num_rows}\")\n",
    "print(f\"Total undergrad courses = {undergrad.num_rows}\")\n"
   ]
  },
  {
   "cell_type": "code",
   "execution_count": null,
   "metadata": {
    "colab": {
     "base_uri": "https://localhost:8080/",
     "height": 392
    },
    "id": "Hq01UkR7FAGV",
    "outputId": "36955705-252b-470b-fede-04ad22bc8bb5"
   },
   "outputs": [
    {
     "data": {
      "text/html": [
       "<table border=\"1\" class=\"dataframe\">\n",
       "    <thead>\n",
       "        <tr>\n",
       "            <th>QUARTER</th> <th>CMPSC</th> <th>COMM</th> <th>ECON</th> <th>MATH</th> <th>PSTAT</th>\n",
       "        </tr>\n",
       "    </thead>\n",
       "    <tbody>\n",
       "        <tr>\n",
       "            <td>20214  </td> <td>1314 </td> <td>1171</td> <td>4675</td> <td>4646</td> <td>2134 </td>\n",
       "        </tr>\n",
       "        <tr>\n",
       "            <td>20221  </td> <td>427  </td> <td>2360</td> <td>4587</td> <td>4722</td> <td>2683 </td>\n",
       "        </tr>\n",
       "        <tr>\n",
       "            <td>20222  </td> <td>1017 </td> <td>2276</td> <td>4602</td> <td>3524</td> <td>2794 </td>\n",
       "        </tr>\n",
       "        <tr>\n",
       "            <td>20223  </td> <td>221  </td> <td>802 </td> <td>805 </td> <td>1296</td> <td>1104 </td>\n",
       "        </tr>\n",
       "        <tr>\n",
       "            <td>20224  </td> <td>1215 </td> <td>2269</td> <td>4461</td> <td>4869</td> <td>3007 </td>\n",
       "        </tr>\n",
       "        <tr>\n",
       "            <td>20231  </td> <td>1596 </td> <td>2618</td> <td>4738</td> <td>5004</td> <td>3234 </td>\n",
       "        </tr>\n",
       "        <tr>\n",
       "            <td>20232  </td> <td>1441 </td> <td>707 </td> <td>4455</td> <td>3626</td> <td>2909 </td>\n",
       "        </tr>\n",
       "        <tr>\n",
       "            <td>20233  </td> <td>248  </td> <td>843 </td> <td>959 </td> <td>1060</td> <td>898  </td>\n",
       "        </tr>\n",
       "        <tr>\n",
       "            <td>20234  </td> <td>1326 </td> <td>1979</td> <td>4542</td> <td>4922</td> <td>3039 </td>\n",
       "        </tr>\n",
       "        <tr>\n",
       "            <td>20241  </td> <td>1722 </td> <td>2116</td> <td>4873</td> <td>4956</td> <td>3226 </td>\n",
       "        </tr>\n",
       "    </tbody>\n",
       "</table>\n",
       "<p>... (2 rows omitted)</p>"
      ],
      "text/plain": [
       "QUARTER | CMPSC | COMM | ECON | MATH | PSTAT\n",
       "20214   | 1314  | 1171 | 4675 | 4646 | 2134\n",
       "20221   | 427   | 2360 | 4587 | 4722 | 2683\n",
       "20222   | 1017  | 2276 | 4602 | 3524 | 2794\n",
       "20223   | 221   | 802  | 805  | 1296 | 1104\n",
       "20224   | 1215  | 2269 | 4461 | 4869 | 3007\n",
       "20231   | 1596  | 2618 | 4738 | 5004 | 3234\n",
       "20232   | 1441  | 707  | 4455 | 3626 | 2909\n",
       "20233   | 248   | 843  | 959  | 1060 | 898\n",
       "20234   | 1326  | 1979 | 4542 | 4922 | 3039\n",
       "20241   | 1722  | 2116 | 4873 | 4956 | 3226\n",
       "... (2 rows omitted)"
      ]
     },
     "execution_count": 123,
     "metadata": {},
     "output_type": "execute_result"
    }
   ],
   "source": [
    "enrollment = undergrad.pivot(\"dept\",\"QUARTER\",\"ENROLLED\", sum).sort(\"QUARTER\")\n",
    "enrollment"
   ]
  },
  {
   "cell_type": "markdown",
   "metadata": {
    "id": "VT_rSlCnFgat"
   },
   "source": [
    "We can try producing a bar chart for this.  But as you can see it's a bit cluttered and hard to read."
   ]
  },
  {
   "cell_type": "code",
   "execution_count": null,
   "metadata": {
    "colab": {
     "base_uri": "https://localhost:8080/",
     "height": 522
    },
    "id": "cg9F2YlvFGQh",
    "outputId": "79ec0d99-3283-4503-8ade-03957b0d3467"
   },
   "outputs": [
    {
     "data": {
      "image/png": "[encoded data removed]",
      "text/plain": [
       "<Figure size 600x600 with 1 Axes>"
      ]
     },
     "metadata": {},
     "output_type": "display_data"
    }
   ],
   "source": [
    "enrollment.barh(\"QUARTER\")"
   ]
  },
  {
   "cell_type": "markdown",
   "metadata": {
    "id": "aTK0wiZ8Fyqq"
   },
   "source": [
    "Let's try a line graph instead.  This is how we put \"QUARTER\" on the x axis, and make a line for every other column in the table."
   ]
  },
  {
   "cell_type": "code",
   "execution_count": null,
   "metadata": {
    "colab": {
     "base_uri": "https://localhost:8080/",
     "height": 542
    },
    "id": "G-A_eXuWFqVV",
    "outputId": "b2be84e4-05bd-4f89-ee92-7ff1de5cd7c7"
   },
   "outputs": [
    {
     "data": {
      "image/png": "[encoded data removed]",
      "text/plain": [
       "<Figure size 600x600 with 1 Axes>"
      ]
     },
     "metadata": {},
     "output_type": "display_data"
    }
   ],
   "source": [
    "enrollment.plot(\"QUARTER\")"
   ]
  },
  {
   "cell_type": "markdown",
   "metadata": {
    "id": "M4ooN04RGw0p"
   },
   "source": [
    "Clearly, the summer quarters are making this graph a bit hard to interpret. There are two approaches we could try, so let's try them both:\n",
    "* Combine each entire academic year into one number (Fall, Winter, Spring, Summer) for each year\n",
    "* Omit summer from this graph, and plot it as a separate graph\n",
    "\n",
    "Here's the version where we omit summer.  We'll add a function to determine if a quarter is a summer quarter.  We'll convert the quarter from a number to a string, and then look at the last character:"
   ]
  },
  {
   "cell_type": "code",
   "execution_count": null,
   "metadata": {
    "id": "5lnX6PYIGVxN"
   },
   "outputs": [],
   "source": [
    "def isSummer(quarter):\n",
    "  quarterStr = str(quarter)\n",
    "  return quarterStr[-1] == \"3\"\n",
    "\n",
    "undergrad1 = undergrad.with_column(\"isSummer\", undergrad.apply(isSummer, \"QUARTER\"))\n",
    "undergrad1\n",
    "\n",
    "regularQuarterCourses = undergrad1.where(\"isSummer\", are.equal_to(False))\n",
    "summerCourses = undergrad1.where(\"isSummer\", are.equal_to(True))"
   ]
  },
  {
   "cell_type": "code",
   "execution_count": null,
   "metadata": {
    "colab": {
     "base_uri": "https://localhost:8080/",
     "height": 331
    },
    "id": "stSxc2CtHmH0",
    "outputId": "3839eaa9-ea23-4516-d870-9ac792803a8c"
   },
   "outputs": [
    {
     "data": {
      "text/html": [
       "<table border=\"1\" class=\"dataframe\">\n",
       "    <thead>\n",
       "        <tr>\n",
       "            <th>QUARTER</th> <th>CMPSC</th> <th>COMM</th> <th>ECON</th> <th>MATH</th> <th>PSTAT</th>\n",
       "        </tr>\n",
       "    </thead>\n",
       "    <tbody>\n",
       "        <tr>\n",
       "            <td>20214  </td> <td>1314 </td> <td>1171</td> <td>4675</td> <td>4646</td> <td>2134 </td>\n",
       "        </tr>\n",
       "        <tr>\n",
       "            <td>20221  </td> <td>427  </td> <td>2360</td> <td>4587</td> <td>4722</td> <td>2683 </td>\n",
       "        </tr>\n",
       "        <tr>\n",
       "            <td>20222  </td> <td>1017 </td> <td>2276</td> <td>4602</td> <td>3524</td> <td>2794 </td>\n",
       "        </tr>\n",
       "        <tr>\n",
       "            <td>20224  </td> <td>1215 </td> <td>2269</td> <td>4461</td> <td>4869</td> <td>3007 </td>\n",
       "        </tr>\n",
       "        <tr>\n",
       "            <td>20231  </td> <td>1596 </td> <td>2618</td> <td>4738</td> <td>5004</td> <td>3234 </td>\n",
       "        </tr>\n",
       "        <tr>\n",
       "            <td>20232  </td> <td>1441 </td> <td>707 </td> <td>4455</td> <td>3626</td> <td>2909 </td>\n",
       "        </tr>\n",
       "        <tr>\n",
       "            <td>20234  </td> <td>1326 </td> <td>1979</td> <td>4542</td> <td>4922</td> <td>3039 </td>\n",
       "        </tr>\n",
       "        <tr>\n",
       "            <td>20241  </td> <td>1722 </td> <td>2116</td> <td>4873</td> <td>4956</td> <td>3226 </td>\n",
       "        </tr>\n",
       "        <tr>\n",
       "            <td>20242  </td> <td>2040 </td> <td>2765</td> <td>4751</td> <td>3562</td> <td>3265 </td>\n",
       "        </tr>\n",
       "    </tbody>\n",
       "</table>"
      ],
      "text/plain": [
       "QUARTER | CMPSC | COMM | ECON | MATH | PSTAT\n",
       "20214   | 1314  | 1171 | 4675 | 4646 | 2134\n",
       "20221   | 427   | 2360 | 4587 | 4722 | 2683\n",
       "20222   | 1017  | 2276 | 4602 | 3524 | 2794\n",
       "20224   | 1215  | 2269 | 4461 | 4869 | 3007\n",
       "20231   | 1596  | 2618 | 4738 | 5004 | 3234\n",
       "20232   | 1441  | 707  | 4455 | 3626 | 2909\n",
       "20234   | 1326  | 1979 | 4542 | 4922 | 3039\n",
       "20241   | 1722  | 2116 | 4873 | 4956 | 3226\n",
       "20242   | 2040  | 2765 | 4751 | 3562 | 3265"
      ]
     },
     "execution_count": 126,
     "metadata": {},
     "output_type": "execute_result"
    }
   ],
   "source": [
    "enrollmentRegularQuarterCourses = regularQuarterCourses.pivot(\"dept\",\"QUARTER\",\"ENROLLED\", sum).sort(\"QUARTER\")\n",
    "enrollmentRegularQuarterCourses"
   ]
  },
  {
   "cell_type": "code",
   "execution_count": null,
   "metadata": {
    "colab": {
     "base_uri": "https://localhost:8080/",
     "height": 143
    },
    "id": "wT6ba_OEIKQU",
    "outputId": "09677599-1b55-4b21-f1e5-7ccacfca954c"
   },
   "outputs": [
    {
     "data": {
      "text/html": [
       "<table border=\"1\" class=\"dataframe\">\n",
       "    <thead>\n",
       "        <tr>\n",
       "            <th>QUARTER</th> <th>CMPSC</th> <th>COMM</th> <th>ECON</th> <th>MATH</th> <th>PSTAT</th>\n",
       "        </tr>\n",
       "    </thead>\n",
       "    <tbody>\n",
       "        <tr>\n",
       "            <td>20223  </td> <td>221  </td> <td>802 </td> <td>805 </td> <td>1296</td> <td>1104 </td>\n",
       "        </tr>\n",
       "        <tr>\n",
       "            <td>20233  </td> <td>248  </td> <td>843 </td> <td>959 </td> <td>1060</td> <td>898  </td>\n",
       "        </tr>\n",
       "        <tr>\n",
       "            <td>20243  </td> <td>207  </td> <td>948 </td> <td>1084</td> <td>1081</td> <td>995  </td>\n",
       "        </tr>\n",
       "    </tbody>\n",
       "</table>"
      ],
      "text/plain": [
       "QUARTER | CMPSC | COMM | ECON | MATH | PSTAT\n",
       "20223   | 221   | 802  | 805  | 1296 | 1104\n",
       "20233   | 248   | 843  | 959  | 1060 | 898\n",
       "20243   | 207   | 948  | 1084 | 1081 | 995"
      ]
     },
     "execution_count": 127,
     "metadata": {},
     "output_type": "execute_result"
    }
   ],
   "source": [
    "enrollmentSummerCourses = summerCourses.pivot(\"dept\",\"QUARTER\",\"ENROLLED\", sum).sort(\"QUARTER\")\n",
    "enrollmentSummerCourses"
   ]
  },
  {
   "cell_type": "code",
   "execution_count": null,
   "metadata": {
    "colab": {
     "base_uri": "https://localhost:8080/",
     "height": 542
    },
    "id": "7Of1byO-IMnc",
    "outputId": "91451824-8b76-4337-e13e-ae60b18d25d1"
   },
   "outputs": [
    {
     "data": {
      "image/png": "[encoded data removed]",
      "text/plain": [
       "<Figure size 600x600 with 1 Axes>"
      ]
     },
     "metadata": {},
     "output_type": "display_data"
    }
   ],
   "source": [
    "enrollmentRegularQuarterCourses.plot(\"QUARTER\")"
   ]
  },
  {
   "cell_type": "markdown",
   "metadata": {
    "id": "k_qU5757JByh"
   },
   "source": [
    "This is a little misleading, of course, because it's using the quarter number as an integer on the x axis, when it's really more of a category.  \n",
    "\n",
    "That is:\n",
    "* The distance from 20244 to 20251 *in reality* is really the same as the distance from 20251 to 20252 (it's just one quarter later)\n",
    "* But on this plot, treating these weird \"quarter numbers\" as actual numbers, that distance is distorted.  The distance from Fall Quarter to Winter Quarter is stretched way out, while Winter and Spring quarters are next to each other.\n",
    "\n",
    "In addition, the plot is plotting units of 5, when in fact, there is no quarter called 20224 or 20230; those values literally don't exist.\n",
    "\n",
    "Let's try asking the Gemini AI if it can help out here.  "
   ]
  },
  {
   "cell_type": "code",
   "execution_count": null,
   "metadata": {
    "colab": {
     "base_uri": "https://localhost:8080/",
     "height": 487
    },
    "id": "S6lzjuZ7IQ2q",
    "outputId": "b73b89a8-3832-44ba-e2e2-649e2e00b322"
   },
   "outputs": [
    {
     "data": {
      "image/png": "[encoded data removed]",
      "text/plain": [
       "<Figure size 640x480 with 1 Axes>"
      ]
     },
     "metadata": {},
     "output_type": "display_data"
    }
   ],
   "source": [
    "# prompt: Generate the plot for enrollmentRegularQuarterCourses.plot(\"QUARTER\") but label every value for QUARTER, not just every fifth value\n",
    "\n",
    "import matplotlib.pyplot as plt\n",
    "\n",
    "# Assuming enrollmentRegularQuarterCourses is already defined as in the provided code\n",
    "\n",
    "quarters = enrollmentRegularQuarterCourses.column(\"QUARTER\")\n",
    "for dept in enrollmentRegularQuarterCourses.labels[1:]:\n",
    "    enrollments = enrollmentRegularQuarterCourses.column(dept)\n",
    "    plt.plot(quarters, enrollments, label=dept)\n",
    "\n",
    "plt.xlabel(\"QUARTER\")\n",
    "plt.ylabel(\"Enrollment\")\n",
    "plt.title(\"Enrollment by Quarter and Department\")\n",
    "plt.xticks(quarters, rotation=45, ha=\"right\")  # Set x-axis ticks to all quarters\n",
    "plt.legend()\n",
    "plt.tight_layout()\n",
    "plt.show()\n"
   ]
  },
  {
   "cell_type": "markdown",
   "metadata": {
    "id": "JmLnkINyKOnW"
   },
   "source": [
    "This is a little better.   We are now seeing labels on each of the specific quarters, which makes it a bit easier to interpret the data.\n",
    "\n",
    "One of the things we see is that *something* strange appears to have happened in 20221 (Winter 2022) where the total enrollment in `CMPSC` went way down compared to previous quarters.  \n",
    "\n",
    "That appears to have been some kind of anomaly.  When we see something like this we may want to check whether this is because something really happened, then, or if this is just an error in our data.\n",
    "\n",
    "We see a similar strange drop for `COMM` in Spring of 2023 (`20233`).\n",
    "\n",
    "We also see a repeating pattern for `MATH` that undergrad enrollment seems to go way down every Spring, and then go back up again.  It might be interesting to collect more data and see whether this is in fact a repeating pattern, or again, just some error in our data collection."
   ]
  },
  {
   "cell_type": "markdown",
   "metadata": {
    "id": "F3aeuXZqLXp9"
   },
   "source": [
    "### Summer Enrollments\n",
    "\n",
    "We can now plot the summer enrollments separately"
   ]
  },
  {
   "cell_type": "code",
   "execution_count": null,
   "metadata": {
    "colab": {
     "base_uri": "https://localhost:8080/",
     "height": 542
    },
    "id": "gnQoBbKOI3KT",
    "outputId": "ac5369ed-3fe0-45a9-fbb7-ded1aa16680b"
   },
   "outputs": [
    {
     "data": {
      "image/png": "[encoded data removed]",
      "text/plain": [
       "<Figure size 600x600 with 1 Axes>"
      ]
     },
     "metadata": {},
     "output_type": "display_data"
    }
   ],
   "source": [
    "enrollmentSummerCourses.plot(\"QUARTER\")"
   ]
  },
  {
   "cell_type": "markdown",
   "metadata": {
    "id": "rJ5ybP6zLoa4"
   },
   "source": [
    "Again, the x axis is weird.   Let's try the Gemini trick again"
   ]
  },
  {
   "cell_type": "code",
   "execution_count": null,
   "metadata": {
    "colab": {
     "base_uri": "https://localhost:8080/",
     "height": 487
    },
    "id": "saztWVgkLgRh",
    "outputId": "b5a05124-1f72-4872-aaba-763f4061ae02"
   },
   "outputs": [
    {
     "data": {
      "image/png": "[encoded data removed]",
      "text/plain": [
       "<Figure size 640x480 with 1 Axes>"
      ]
     },
     "metadata": {},
     "output_type": "display_data"
    }
   ],
   "source": [
    "# prompt: # prompt: Generate the plot for enrollmentSummerCourses.plot(\"QUARTER\") but label every value for QUARTER\n",
    "\n",
    "import matplotlib.pyplot as plt\n",
    "# Assuming enrollmentSummerCourses is already defined as in the provided code\n",
    "\n",
    "quarters = enrollmentSummerCourses.column(\"QUARTER\")\n",
    "for dept in enrollmentSummerCourses.labels[1:]:\n",
    "    enrollments = enrollmentSummerCourses.column(dept)\n",
    "    plt.plot(quarters, enrollments, label=dept)\n",
    "\n",
    "plt.xlabel(\"QUARTER\")\n",
    "plt.ylabel(\"Enrollment\")\n",
    "plt.title(\"Summer Enrollment by Quarter and Department\")\n",
    "plt.xticks(quarters, rotation=45, ha=\"right\")  # Set x-axis ticks to all quarters\n",
    "plt.legend()\n",
    "plt.tight_layout()\n",
    "plt.show()\n"
   ]
  },
  {
   "cell_type": "markdown",
   "metadata": {
    "id": "ppv85h7sL5gz"
   },
   "source": [
    "Now that's a nice clean graph.   With only three data points, it's hard to make any solid conclusions, but we can at least compare the sizes of the enrollments, as well as see the trend over time."
   ]
  },
  {
   "cell_type": "markdown",
   "metadata": {
    "id": "PXn6Gjc8MGGC"
   },
   "source": [
    "## Summarizing by academic year\n",
    "\n",
    "Let's add academic year to our graph.   We'll use the year of the fall quarter to summarize the year, i.e. `20214`, `20221`, `20222` and `20223` will all belong to academic year `2021`.\n",
    "\n",
    "Note that I tried using Gemini AI to write this function.  It originally had this code at the end:\n",
    "\n",
    "```python\n",
    "    if quarter == 4:  # Fall quarter belongs to the current year\n",
    "      return year\n",
    "    else:  # Other quarters belong to the previous year\n",
    "      return year\n",
    "```\n",
    "\n",
    "That was incorrect, so I had to change it to this:\n",
    "\n",
    "```python\n",
    "    if quarter == 4:  # Fall quarter belongs to the current year\n",
    "      return year\n",
    "    else:  # Other quarters belong to the previous year\n",
    "      return year - 1\n",
    "```\n",
    "\n",
    "It's important to actually read the code that AI generates and understand how it works!"
   ]
  },
  {
   "cell_type": "code",
   "execution_count": null,
   "metadata": {
    "id": "5KL0pwbtL1Jw"
   },
   "outputs": [],
   "source": [
    "# prompt: Write a python function that will convert quarters as integers\n",
    "# in the pattern yyyyq where q is 1 for winter, 2 for spring, 3 for summer and 4 for fall\n",
    "# into a four digit academc year as an integer.\n",
    "# Please treat fall, winter, spring and summer as one academic year.\n",
    "\n",
    "def quarter_to_academic_year(quarter_int):\n",
    "    \"\"\"Converts a quarter integer (yyyyq) to a four-digit academic year.\n",
    "\n",
    "    Args:\n",
    "        quarter_int: An integer representing the quarter in the format yyyyq,\n",
    "                     where q is 1 (winter), 2 (spring), 3 (summer), or 4 (fall).\n",
    "\n",
    "    Returns:\n",
    "        An integer representing the four-digit academic year.\n",
    "        Returns None if the input is invalid.\n",
    "    \"\"\"\n",
    "    quarter_str = str(quarter_int)\n",
    "    if len(quarter_str) != 5 or not quarter_str[:4].isdigit() or not quarter_str[4].isdigit():\n",
    "        return None  # Invalid input format\n",
    "\n",
    "    year = int(quarter_str[:4])\n",
    "    quarter = int(quarter_str[4])\n",
    "\n",
    "    if quarter == 4:  # Fall quarter belongs to the current year\n",
    "      return year\n",
    "    else:  # Other quarters belong to the previous year\n",
    "      return year-1\n",
    "\n"
   ]
  },
  {
   "cell_type": "markdown",
   "metadata": {
    "id": "GUGW9_FKNhxo"
   },
   "source": [
    "Let's apply this function to the `QUARTER` column in our table and add a year for academic year"
   ]
  },
  {
   "cell_type": "code",
   "execution_count": null,
   "metadata": {
    "colab": {
     "base_uri": "https://localhost:8080/",
     "height": 392
    },
    "id": "S4TqLL2GNJEW",
    "outputId": "39147303-fe8c-486d-a309-977a75eb7bab"
   },
   "outputs": [
    {
     "data": {
      "text/html": [
       "<table border=\"1\" class=\"dataframe\">\n",
       "    <thead>\n",
       "        <tr>\n",
       "            <th>COURSEID</th> <th>ENROLLED</th> <th>GES</th> <th>INSTRUCTOR</th> <th>MAXENROLL</th> <th>QUARTER</th> <th>SECTION</th> <th>STATUS</th> <th>dept</th> <th>courseNum</th> <th>suffix</th> <th>isLecture</th> <th>level</th> <th>AY</th>\n",
       "        </tr>\n",
       "    </thead>\n",
       "    <tbody>\n",
       "        <tr>\n",
       "            <td>CMPSC     5A -1</td> <td>78      </td> <td>nan </td> <td>SOLIS S W   </td> <td>90       </td> <td>20214  </td> <td>100    </td> <td>nan   </td> <td>CMPSC</td> <td>5A       </td> <td>1     </td> <td>True     </td> <td>L    </td> <td>2021</td>\n",
       "        </tr>\n",
       "        <tr>\n",
       "            <td>CMPSC     5B -1</td> <td>22      </td> <td>nan </td> <td>SOLIS S W   </td> <td>80       </td> <td>20214  </td> <td>100    </td> <td>nan   </td> <td>CMPSC</td> <td>5B       </td> <td>1     </td> <td>True     </td> <td>L    </td> <td>2021</td>\n",
       "        </tr>\n",
       "        <tr>\n",
       "            <td>CMPSC     9  -1</td> <td>130     </td> <td>nan </td> <td>WANG R K    </td> <td>150      </td> <td>20214  </td> <td>100    </td> <td>nan   </td> <td>CMPSC</td> <td>9        </td> <td>1     </td> <td>True     </td> <td>L    </td> <td>2021</td>\n",
       "        </tr>\n",
       "        <tr>\n",
       "            <td>CMPSC    24A -1</td> <td>2       </td> <td>nan </td> <td>WANG R K    </td> <td>0        </td> <td>20214  </td> <td>100    </td> <td>nan   </td> <td>CMPSC</td> <td>24A      </td> <td>1     </td> <td>True     </td> <td>L    </td> <td>2021</td>\n",
       "        </tr>\n",
       "        <tr>\n",
       "            <td>CMPSC    32  -1</td> <td>89      </td> <td>nan </td> <td>EMRE M      </td> <td>90       </td> <td>20214  </td> <td>100    </td> <td>nan   </td> <td>CMPSC</td> <td>32       </td> <td>1     </td> <td>True     </td> <td>L    </td> <td>2021</td>\n",
       "        </tr>\n",
       "        <tr>\n",
       "            <td>CMPSC    40  -1</td> <td>73      </td> <td>nan </td> <td>MIRZA D     </td> <td>70       </td> <td>20214  </td> <td>100    </td> <td>nan   </td> <td>CMPSC</td> <td>40       </td> <td>1     </td> <td>True     </td> <td>L    </td> <td>2021</td>\n",
       "        </tr>\n",
       "        <tr>\n",
       "            <td>CMPSC    64  -1</td> <td>85      </td> <td>nan </td> <td>SHERWOOD T P</td> <td>90       </td> <td>20214  </td> <td>100    </td> <td>nan   </td> <td>CMPSC</td> <td>64       </td> <td>1     </td> <td>True     </td> <td>L    </td> <td>2021</td>\n",
       "        </tr>\n",
       "        <tr>\n",
       "            <td>CMPSC    99  -1</td> <td>0       </td> <td>nan </td> <td>nan         </td> <td>5        </td> <td>20214  </td> <td>100    </td> <td>nan   </td> <td>CMPSC</td> <td>99       </td> <td>1     </td> <td>True     </td> <td>L    </td> <td>2021</td>\n",
       "        </tr>\n",
       "        <tr>\n",
       "            <td>CMPSC    99  -2</td> <td>2       </td> <td>nan </td> <td>LOKSHTANOV D</td> <td>5        </td> <td>20214  </td> <td>200    </td> <td>nan   </td> <td>CMPSC</td> <td>99       </td> <td>2     </td> <td>True     </td> <td>L    </td> <td>2021</td>\n",
       "        </tr>\n",
       "        <tr>\n",
       "            <td>CMPSC    99  -3</td> <td>0       </td> <td>nan </td> <td>KOZERAWSKI J</td> <td>5        </td> <td>20214  </td> <td>300    </td> <td>nan   </td> <td>CMPSC</td> <td>99       </td> <td>3     </td> <td>True     </td> <td>L    </td> <td>2021</td>\n",
       "        </tr>\n",
       "    </tbody>\n",
       "</table>\n",
       "<p>... (3042 rows omitted)</p>"
      ],
      "text/plain": [
       "COURSEID        | ENROLLED | GES  | INSTRUCTOR   | MAXENROLL | QUARTER | SECTION | STATUS | dept  | courseNum | suffix | isLecture | level | AY\n",
       "CMPSC     5A -1 | 78       | nan  | SOLIS S W    | 90        | 20214   | 100     | nan    | CMPSC | 5A        | 1      | True      | L     | 2021\n",
       "CMPSC     5B -1 | 22       | nan  | SOLIS S W    | 80        | 20214   | 100     | nan    | CMPSC | 5B        | 1      | True      | L     | 2021\n",
       "CMPSC     9  -1 | 130      | nan  | WANG R K     | 150       | 20214   | 100     | nan    | CMPSC | 9         | 1      | True      | L     | 2021\n",
       "CMPSC    24A -1 | 2        | nan  | WANG R K     | 0         | 20214   | 100     | nan    | CMPSC | 24A       | 1      | True      | L     | 2021\n",
       "CMPSC    32  -1 | 89       | nan  | EMRE M       | 90        | 20214   | 100     | nan    | CMPSC | 32        | 1      | True      | L     | 2021\n",
       "CMPSC    40  -1 | 73       | nan  | MIRZA D      | 70        | 20214   | 100     | nan    | CMPSC | 40        | 1      | True      | L     | 2021\n",
       "CMPSC    64  -1 | 85       | nan  | SHERWOOD T P | 90        | 20214   | 100     | nan    | CMPSC | 64        | 1      | True      | L     | 2021\n",
       "CMPSC    99  -1 | 0        | nan  | nan          | 5         | 20214   | 100     | nan    | CMPSC | 99        | 1      | True      | L     | 2021\n",
       "CMPSC    99  -2 | 2        | nan  | LOKSHTANOV D | 5         | 20214   | 200     | nan    | CMPSC | 99        | 2      | True      | L     | 2021\n",
       "CMPSC    99  -3 | 0        | nan  | KOZERAWSKI J | 5         | 20214   | 300     | nan    | CMPSC | 99        | 3      | True      | L     | 2021\n",
       "... (3042 rows omitted)"
      ]
     },
     "execution_count": 138,
     "metadata": {},
     "output_type": "execute_result"
    }
   ],
   "source": [
    "undergrad_with_ay = undergrad.with_column(\"AY\", undergrad.apply(quarter_to_academic_year, \"QUARTER\"))\n",
    "undergrad_with_ay"
   ]
  },
  {
   "cell_type": "markdown",
   "metadata": {
    "id": "O_3BkdHqNxEn"
   },
   "source": [
    "Let's use the technique of random sampling to check whether the function appears to be working properly.\n",
    "\n",
    "As it turns out there's a simpler way to sample from a table than what we've used in the past:"
   ]
  },
  {
   "cell_type": "code",
   "execution_count": null,
   "metadata": {
    "colab": {
     "base_uri": "https://localhost:8080/",
     "height": 363
    },
    "id": "C5n-kyTXNtyC",
    "outputId": "a78095fb-1f76-4486-a06c-22eabee0c242"
   },
   "outputs": [
    {
     "data": {
      "text/html": [
       "<table border=\"1\" class=\"dataframe\">\n",
       "    <thead>\n",
       "        <tr>\n",
       "            <th>COURSEID</th> <th>ENROLLED</th> <th>GES</th> <th>INSTRUCTOR</th> <th>MAXENROLL</th> <th>QUARTER</th> <th>SECTION</th> <th>STATUS</th> <th>dept</th> <th>courseNum</th> <th>suffix</th> <th>isLecture</th> <th>level</th> <th>AY</th>\n",
       "        </tr>\n",
       "    </thead>\n",
       "    <tbody>\n",
       "        <tr>\n",
       "            <td>ECON      9  -1 </td> <td>85      </td> <td>D (L&S), D (ENGR)</td> <td>BENELLI C A </td> <td>100      </td> <td>20222  </td> <td>100    </td> <td>nan   </td> <td>ECON </td> <td>9        </td> <td>1     </td> <td>True     </td> <td>L    </td> <td>2021</td>\n",
       "        </tr>\n",
       "        <tr>\n",
       "            <td>COMM    199RA-15</td> <td>1       </td> <td>nan              </td> <td>AFIFI W A   </td> <td>50       </td> <td>20233  </td> <td>1500   </td> <td>nan   </td> <td>COMM </td> <td>199RA    </td> <td>15    </td> <td>True     </td> <td>U    </td> <td>2022</td>\n",
       "        </tr>\n",
       "        <tr>\n",
       "            <td>MATH    147A -1 </td> <td>30      </td> <td>nan              </td> <td>CHO G       </td> <td>50       </td> <td>20223  </td> <td>100    </td> <td>nan   </td> <td>MATH </td> <td>147A     </td> <td>1     </td> <td>True     </td> <td>U    </td> <td>2021</td>\n",
       "        </tr>\n",
       "        <tr>\n",
       "            <td>MATH    111C -1 </td> <td>47      </td> <td>nan              </td> <td>SCHLEY N B  </td> <td>60       </td> <td>20222  </td> <td>100    </td> <td>nan   </td> <td>MATH </td> <td>111C     </td> <td>1     </td> <td>True     </td> <td>U    </td> <td>2021</td>\n",
       "        </tr>\n",
       "        <tr>\n",
       "            <td>COMM    197  -1 </td> <td>6       </td> <td>nan              </td> <td>KIM YOUNG JI</td> <td>50       </td> <td>20233  </td> <td>100    </td> <td>nan   </td> <td>COMM </td> <td>197      </td> <td>1     </td> <td>True     </td> <td>U    </td> <td>2022</td>\n",
       "        </tr>\n",
       "        <tr>\n",
       "            <td>COMM    199RA-16</td> <td>2       </td> <td>nan              </td> <td>RICE R E    </td> <td>60       </td> <td>20221  </td> <td>1600   </td> <td>nan   </td> <td>COMM </td> <td>199RA    </td> <td>16    </td> <td>True     </td> <td>U    </td> <td>2021</td>\n",
       "        </tr>\n",
       "        <tr>\n",
       "            <td>MATH    124A -1 </td> <td>21      </td> <td>nan              </td> <td>CHO G       </td> <td>50       </td> <td>20223  </td> <td>100    </td> <td>nan   </td> <td>MATH </td> <td>124A     </td> <td>1     </td> <td>True     </td> <td>U    </td> <td>2021</td>\n",
       "        </tr>\n",
       "        <tr>\n",
       "            <td>PSTAT   199  -4 </td> <td>2       </td> <td>nan              </td> <td>DETERING N  </td> <td>10       </td> <td>20214  </td> <td>400    </td> <td>nan   </td> <td>PSTAT</td> <td>199      </td> <td>4     </td> <td>True     </td> <td>U    </td> <td>2021</td>\n",
       "        </tr>\n",
       "        <tr>\n",
       "            <td>CMPSC   196  -2 </td> <td>6       </td> <td>nan              </td> <td>GUPTA A     </td> <td>10       </td> <td>20231  </td> <td>200    </td> <td>nan   </td> <td>CMPSC</td> <td>196      </td> <td>2     </td> <td>True     </td> <td>U    </td> <td>2022</td>\n",
       "        </tr>\n",
       "        <tr>\n",
       "            <td>COMM    199RA-9 </td> <td>5       </td> <td>nan              </td> <td>SALEEM M    </td> <td>60       </td> <td>20234  </td> <td>900    </td> <td>nan   </td> <td>COMM </td> <td>199RA    </td> <td>9     </td> <td>True     </td> <td>U    </td> <td>2023</td>\n",
       "        </tr>\n",
       "    </tbody>\n",
       "</table>"
      ],
      "text/plain": [
       "COURSEID         | ENROLLED | GES               | INSTRUCTOR   | MAXENROLL | QUARTER | SECTION | STATUS | dept  | courseNum | suffix | isLecture | level | AY\n",
       "ECON      9  -1  | 85       | D (L&S), D (ENGR) | BENELLI C A  | 100       | 20222   | 100     | nan    | ECON  | 9         | 1      | True      | L     | 2021\n",
       "COMM    199RA-15 | 1        | nan               | AFIFI W A    | 50        | 20233   | 1500    | nan    | COMM  | 199RA     | 15     | True      | U     | 2022\n",
       "MATH    147A -1  | 30       | nan               | CHO G        | 50        | 20223   | 100     | nan    | MATH  | 147A      | 1      | True      | U     | 2021\n",
       "MATH    111C -1  | 47       | nan               | SCHLEY N B   | 60        | 20222   | 100     | nan    | MATH  | 111C      | 1      | True      | U     | 2021\n",
       "COMM    197  -1  | 6        | nan               | KIM YOUNG JI | 50        | 20233   | 100     | nan    | COMM  | 197       | 1      | True      | U     | 2022\n",
       "COMM    199RA-16 | 2        | nan               | RICE R E     | 60        | 20221   | 1600    | nan    | COMM  | 199RA     | 16     | True      | U     | 2021\n",
       "MATH    124A -1  | 21       | nan               | CHO G        | 50        | 20223   | 100     | nan    | MATH  | 124A      | 1      | True      | U     | 2021\n",
       "PSTAT   199  -4  | 2        | nan               | DETERING N   | 10        | 20214   | 400     | nan    | PSTAT | 199       | 4      | True      | U     | 2021\n",
       "CMPSC   196  -2  | 6        | nan               | GUPTA A      | 10        | 20231   | 200     | nan    | CMPSC | 196       | 2      | True      | U     | 2022\n",
       "COMM    199RA-9  | 5        | nan               | SALEEM M     | 60        | 20234   | 900     | nan    | COMM  | 199RA     | 9      | True      | U     | 2023"
      ]
     },
     "execution_count": 139,
     "metadata": {},
     "output_type": "execute_result"
    }
   ],
   "source": [
    "random_sample = undergrad_with_ay.sample(10)\n",
    "random_sample"
   ]
  },
  {
   "cell_type": "markdown",
   "metadata": {
    "id": "P7Fbpq5XOJ6V"
   },
   "source": [
    "This appears to be working!  Now let's try creating an analysis of enrollment by academic year for the five departments"
   ]
  },
  {
   "cell_type": "code",
   "execution_count": null,
   "metadata": {
    "colab": {
     "base_uri": "https://localhost:8080/",
     "height": 143
    },
    "id": "kvgxHx6VN3Vj",
    "outputId": "eb3c1458-bf94-435c-ad61-d2bf580aab98"
   },
   "outputs": [
    {
     "data": {
      "text/html": [
       "<table border=\"1\" class=\"dataframe\">\n",
       "    <thead>\n",
       "        <tr>\n",
       "            <th>AY</th> <th>CMPSC</th> <th>COMM</th> <th>ECON</th> <th>MATH</th> <th>PSTAT</th>\n",
       "        </tr>\n",
       "    </thead>\n",
       "    <tbody>\n",
       "        <tr>\n",
       "            <td>2021</td> <td>2979 </td> <td>6609</td> <td>14669</td> <td>14188</td> <td>8715 </td>\n",
       "        </tr>\n",
       "        <tr>\n",
       "            <td>2022</td> <td>4500 </td> <td>6437</td> <td>14613</td> <td>14559</td> <td>10048</td>\n",
       "        </tr>\n",
       "        <tr>\n",
       "            <td>2023</td> <td>5295 </td> <td>7808</td> <td>15250</td> <td>14521</td> <td>10525</td>\n",
       "        </tr>\n",
       "    </tbody>\n",
       "</table>"
      ],
      "text/plain": [
       "AY   | CMPSC | COMM | ECON  | MATH  | PSTAT\n",
       "2021 | 2979  | 6609 | 14669 | 14188 | 8715\n",
       "2022 | 4500  | 6437 | 14613 | 14559 | 10048\n",
       "2023 | 5295  | 7808 | 15250 | 14521 | 10525"
      ]
     },
     "execution_count": 140,
     "metadata": {},
     "output_type": "execute_result"
    }
   ],
   "source": [
    "by_ay = undergrad_with_ay.pivot(\"dept\",\"AY\",\"ENROLLED\", sum)\n",
    "by_ay"
   ]
  },
  {
   "cell_type": "code",
   "execution_count": null,
   "metadata": {
    "colab": {
     "base_uri": "https://localhost:8080/",
     "height": 542
    },
    "id": "5dqm_y74OWOY",
    "outputId": "3eb09314-c707-498d-f39f-95be0d51dde0"
   },
   "outputs": [
    {
     "data": {
      "image/png": "[encoded data removed]",
      "text/plain": [
       "<Figure size 600x600 with 1 Axes>"
      ]
     },
     "metadata": {},
     "output_type": "display_data"
    }
   ],
   "source": [
    "by_ay.plot(\"AY\")"
   ]
  },
  {
   "cell_type": "markdown",
   "metadata": {
    "id": "cYqLa-iBOjn4"
   },
   "source": [
    "Ok, this plot is clean except for that awful looking X axis.  \n",
    "\n",
    "There's also something misleading: note that the y axis *does not start at zero*.  This can cause the differences between/among departments to be distorted.  Let's fix both issues."
   ]
  },
  {
   "cell_type": "code",
   "execution_count": null,
   "metadata": {
    "colab": {
     "base_uri": "https://localhost:8080/",
     "height": 487
    },
    "id": "WZxRu-91OZia",
    "outputId": "461ead62-5446-43cd-b46d-21be6388b1de"
   },
   "outputs": [
    {
     "data": {
      "image/png": "[encoded data removed]",
      "text/plain": [
       "<Figure size 640x480 with 1 Axes>"
      ]
     },
     "metadata": {},
     "output_type": "display_data"
    }
   ],
   "source": [
    "# prompt: The plot by_ay.plot(\"AY\") has the data I want, but I prefer the y axis to start at zero, and for the x axis to only be labelled with points that actually occur in the data.\n",
    "\n",
    "# Assuming by_ay is already defined as in the provided code\n",
    "\n",
    "import matplotlib.pyplot as plt\n",
    "\n",
    "quarters = by_ay.column(\"AY\")\n",
    "for dept in by_ay.labels[1:]:\n",
    "    enrollments = by_ay.column(dept)\n",
    "    plt.plot(quarters, enrollments, label=dept)\n",
    "\n",
    "plt.xlabel(\"Academic Year\")\n",
    "plt.ylabel(\"Enrollment\")\n",
    "plt.title(\"Enrollment by Academic Year and Department\")\n",
    "plt.xticks(quarters)  # Set x-axis ticks to all academic years\n",
    "plt.ylim(bottom=0) # set the y axis to start at zero\n",
    "plt.legend()\n",
    "plt.tight_layout()\n",
    "plt.show()\n"
   ]
  },
  {
   "cell_type": "code",
   "execution_count": null,
   "metadata": {
    "id": "2tbsgep8O9oq"
   },
   "outputs": [],
   "source": []
  }
 ],
 "metadata": {
  "colab": {
   "provenance": []
  },
  "kernelspec": {
   "display_name": "Python 3 (ipykernel)",
   "language": "python",
   "name": "python3"
  },
  "language_info": {
   "codemirror_mode": {
    "name": "ipython",
    "version": 3
   },
   "file_extension": ".py",
   "mimetype": "text/x-python",
   "name": "python",
   "nbconvert_exporter": "python",
   "pygments_lexer": "ipython3",
   "version": "3.12.9"
  }
 },
 "nbformat": 4,
 "nbformat_minor": 4
}
