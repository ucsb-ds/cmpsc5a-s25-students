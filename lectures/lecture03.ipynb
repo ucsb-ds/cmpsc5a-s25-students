{
 "cells": [
  {
   "cell_type": "code",
   "execution_count": 17,
   "id": "f862eb89-9866-437b-8672-46ff313dbd18",
   "metadata": {},
   "outputs": [],
   "source": [
    "# Click into this cell and press shift-enter before using this notebook.\n",
    "# This line loads the ability to use %%ai in your file\n",
    "%load_ext jupyter_ai_magics\n",
    "# This line loads the data science library; the * means \"everything\"\n",
    "from datascience import *"
   ]
  },
  {
   "cell_type": "markdown",
   "id": "1e98073f-7be8-4eaf-aa71-3adabe76b841",
   "metadata": {},
   "source": [
    "# CMPSC 5A, Lecture 3, S25\n",
    "\n",
    "A few quick reminders (and updates for anyone that missed the first lecture)\n",
    "\n",
    "* Bring a laptop to class every class\n",
    "* Always start by opening up Canvas and going to the link **Update My Jupyter Notebook**\n",
    "* Then, double click into the `lectures` folder and open the lecture folder for that day\n",
    "* Then, find the first cell, click into it, and do **shift-enter** to run the contents of the top cell"
   ]
  },
  {
   "cell_type": "markdown",
   "id": "f7d0e1a7-1833-41a4-af9a-a3b1165f0b7a",
   "metadata": {},
   "source": [
    "## Where are we in the reading?\n",
    "\n",
    "Last week I asked you to read:\n",
    "* [Chapter 1: What is Data Science](https://inferentialthinking.com/chapters/01/what-is-data-science.html)\n",
    "* [Section 3.1 (Expressions)](https://inferentialthinking.com/chapters/03/1/Expressions.html)\n",
    "* [Section 3.2 (Names)](https://inferentialthinking.com/chapters/03/2/Names.html)\n",
    "* [Section 3.3 (Call Expresssions)](https://inferentialthinking.com/chapters/03/3/Calls.html)\n",
    "* [Section 3.4 (Introduction to Tables)](https://inferentialthinking.com/chapters/03/4/Introduction_to_Tables.html)\n",
    "\n",
    "For today, you were also asked to read:\n",
    "* [Section 4.1 (Numbers)](https://inferentialthinking.com/chapters/04/1/Numbers.html)\n",
    "* [Section 4.2 (Strings)](https://inferentialthinking.com/chapters/04/2/Strings.html)\n",
    "\n",
    "That's what you'll need for tomorrow's lab as well.\n",
    "\n",
    "For Thursday, later this week, please also read:\n",
    "* [Section 4.3 (Comparisons)](https://inferentialthinking.com/chapters/04/3/Comparison.html)\n",
    "* [Chapter 5 (Sequences)](https://inferentialthinking.com/chapters/05/Sequences.html) (the entire chapter, covering Arrays and Ranges).\n",
    "\n",
    "For next Tuesday, 04/15, please also read: \n",
    "* [Chapter 6 (Intro)](https://inferentialthinking.com/chapters/06/Tables.html)\n",
    "* [Section 6.1 (Sorting Rows)](https://inferentialthinking.com/chapters/06/1/Sorting_Rows.html#)\n",
    "* [Section 6.2 (Selecting Rows)](https://inferentialthinking.com/chapters/06/2/Selecting_Rows.html)\n"
   ]
  },
  {
   "cell_type": "markdown",
   "id": "1501ae65-1400-4a90-a1c2-7497c1cff5f2",
   "metadata": {},
   "source": [
    "## Preview of lab01\n",
    "\n",
    "This week's lab will be more typical of the labs that you get throughout the quarter.\n",
    "\n",
    "In a momenbt, we'll take a look at that file and walk through it.  \n",
    "\n",
    "But first, let me show you a couple of problems that are in the *style* of the lab problems, and talk about how you might go about solving them.\n",
    "\n",
    "### Example lab01 problem\n",
    "\n",
    "(Note: this is not an actual problem from lab01, but it is in the style of lab01.)\n",
    "\n",
    "\n",
    "#### Expressions and Names\n",
    "\n",
    "[Section 3.1](https://inferentialthinking.com/chapters/03/1/Expressions.html) of your textbook covers Expressions, and [Section 3.2](https://inferentialthinking.com/chapters/03/2/Names.html) covers Names. \n",
    "\n",
    "If you haven't read these yet, please read them now before continuing.\n",
    "\n",
    "\n",
    "**Q1 (sample)** Suppose we have the following code cell that defines the values of `m`, `b`, and `x`.  Note that we should be able to change these values to any number and then recompute our results.\n"
   ]
  },
  {
   "cell_type": "code",
   "execution_count": 7,
   "id": "1a36eac8-adea-4ec9-bc7b-65bef062cc96",
   "metadata": {},
   "outputs": [],
   "source": [
    "m = 4\n",
    "b = 3\n",
    "x = 1"
   ]
  },
  {
   "cell_type": "markdown",
   "id": "481c1706-687f-48bc-ad27-6f35907b9938",
   "metadata": {},
   "source": [
    "From high school algebra, the formula for a line is $y = mx + b$ where:\n",
    "* $m$ is the *slope* of the line (rise over run), and\n",
    "* $b$ is the *y-intercept*, the value of $y$ when the line crosses the y-axis.  Another way to say this is: the value of $y$ when $x$ is zero.\n",
    "\n",
    "Your job: write a Python assignment statement for the formula $y = mx + b$  \n",
    "\n",
    "Then determine the value of $y$ for these values of $m$, $b$ and $x$ by pressing-shift enter in the cell that shows the value of `y`.  Your answer should replace the code in the next cell:"
   ]
  },
  {
   "cell_type": "code",
   "execution_count": 5,
   "id": "0c234386-8dfe-468d-977a-dc5eeafb4ad5",
   "metadata": {},
   "outputs": [],
   "source": [
    "y = 0 # REPLACE THIS WITH YOUR ANSWER"
   ]
  },
  {
   "cell_type": "code",
   "execution_count": 6,
   "id": "044fb128-7d3d-46a9-89ff-810b49f5294e",
   "metadata": {},
   "outputs": [
    {
     "data": {
      "text/plain": [
       "0"
      ]
     },
     "execution_count": 6,
     "metadata": {},
     "output_type": "execute_result"
    }
   ],
   "source": [
    "y"
   ]
  },
  {
   "cell_type": "markdown",
   "id": "a444c604-3926-486f-b584-0ae03755b796",
   "metadata": {},
   "source": [
    "#### You may use the prompt below to answer Q1 (sample) if you like"
   ]
  },
  {
   "cell_type": "code",
   "execution_count": null,
   "id": "91778f2b-98d6-4e5e-bb78-29198748f985",
   "metadata": {},
   "outputs": [],
   "source": [
    "%%ai openai-chat:gpt-3.5-turbo\n"
   ]
  },
  {
   "cell_type": "markdown",
   "id": "81c9e78c-ba6e-438d-a7f4-c45d923421e5",
   "metadata": {},
   "source": [
    "#### Explain your workflow for Q1 (sample)\n",
    "\n",
    "(This is where you describe how you came up with the answer to Q1.\n",
    "Please leave the heading `#### Explain your workflow for Q1` above, \n",
    "but delete all of the other text in this cell and replace it with \n",
    "your explanation.  Please do this every time you see a cell that asks\n",
    "you to explain your workflow for a question.)"
   ]
  },
  {
   "cell_type": "markdown",
   "id": "b9af3930-c4b6-443a-b4b4-da86f54397e1",
   "metadata": {},
   "source": [
    "## Discussion of Q1 (sample)\n",
    "\n",
    "First, take notes of all of the parts of Q1 (sample):\n",
    "* The **context** for the problem; this is often a reference to some material from the textbook or lecture; it tells you where you were supposed to have learned the background skills or knowledge you should have before attempting the question.\n",
    "* The **question** itself.\n",
    "* A code cell for the answer.  In this case, it has these contents: <br />`y = 0 # REPLACE THIS WITH YOUR ANSWER` <br /> but more typically it will look like this: <br />`# SOLUTION`<br />\n",
    "* An **ai prompt** where you can ask for help from chatgpt *if you want*. You aren't required to do this, but if you do use AI, we require that you *only* use it this way.\n",
    "* A cell where you **explain your workflow**.  This part *is required*.  Here you might say either: \"I used chatgpt to come up with the answer\", or \"I came up with the answer without using AI\", or \"I used chatgpt to get a hint, and then come up with the answer on my own\".\n",
    "\n",
    "## Can I use more than one AI prompt?\n",
    "\n",
    "Yes you may!  If you want to ask more than one queestion, please *create multiple AI code cells immediately below the one provided*.   \n",
    "\n",
    "The important thing is that we can see your process.\n",
    "\n",
    "And if you use multiple cells, mention this when you describe your \"workflow\".\n",
    "\n",
    "## Now, let's look at the problem itself.\n",
    "\n",
    "The problem asks you to translate $y = mx + b$ into Python.  \n",
    "\n",
    "Note that $mx$, in algebra, means $m$ multiplied by $x$, so we need to write `m * x` in Python.  Other than that, it's a straightforward answer.  Here's what the answer would look like:\n"
   ]
  },
  {
   "cell_type": "code",
   "execution_count": 14,
   "id": "17750dec-b4b5-45f9-898a-616be3f52879",
   "metadata": {},
   "outputs": [],
   "source": [
    "y = m * x + b"
   ]
  },
  {
   "cell_type": "markdown",
   "id": "408baf7f-6685-4ae3-8933-7784c18d2ed6",
   "metadata": {},
   "source": [
    "After that cell, there's a cell that shows the value of y.  If we run that cell, we see the value, and it would be this:"
   ]
  },
  {
   "cell_type": "code",
   "execution_count": 15,
   "id": "373354c7-e96a-4452-a612-32c6b5b0a68a",
   "metadata": {},
   "outputs": [
    {
     "data": {
      "text/plain": [
       "7"
      ]
     },
     "execution_count": 15,
     "metadata": {},
     "output_type": "execute_result"
    }
   ],
   "source": [
    "y"
   ]
  },
  {
   "cell_type": "markdown",
   "id": "17282437-8d32-46d5-a4b2-06fc8dc2456d",
   "metadata": {},
   "source": [
    "For this question you really should *not* need the AI, but if you wanted to try it to see what it would come up with, you might use a prompt like this:"
   ]
  },
  {
   "cell_type": "code",
   "execution_count": 18,
   "id": "2ae3dcd0-d114-4d32-a054-477ae52c45cc",
   "metadata": {},
   "outputs": [
    {
     "data": {
      "text/markdown": [
       "```python\n",
       "y = mx + b\n",
       "```"
      ],
      "text/plain": [
       "<IPython.core.display.Markdown object>"
      ]
     },
     "execution_count": 18,
     "metadata": {
      "text/markdown": {
       "jupyter_ai": {
        "model_id": "gpt-3.5-turbo",
        "provider_id": "openai-chat"
       }
      }
     },
     "output_type": "execute_result"
    }
   ],
   "source": [
    "%%ai openai-chat:gpt-3.5-turbo\n",
    "How do I write the formula for a line, y=mx+b in Python?"
   ]
  },
  {
   "cell_type": "markdown",
   "id": "1808a2f5-231e-4c2f-bbda-0717f2488d84",
   "metadata": {},
   "source": [
    "Note that this answer is *wrong*.   AI doesn't always give you the right answer the first time.  If you tried this answer, you'd get:"
   ]
  },
  {
   "cell_type": "code",
   "execution_count": 19,
   "id": "ccd3bc9e-40fc-4795-8ea0-01980bb577fa",
   "metadata": {},
   "outputs": [
    {
     "ename": "NameError",
     "evalue": "name 'mx' is not defined",
     "output_type": "error",
     "traceback": [
      "\u001b[31m---------------------------------------------------------------------------\u001b[39m",
      "\u001b[31mNameError\u001b[39m                                 Traceback (most recent call last)",
      "\u001b[36mCell\u001b[39m\u001b[36m \u001b[39m\u001b[32mIn[19]\u001b[39m\u001b[32m, line 1\u001b[39m\n\u001b[32m----> \u001b[39m\u001b[32m1\u001b[39m y = \u001b[43mmx\u001b[49m + b\n",
      "\u001b[31mNameError\u001b[39m: name 'mx' is not defined"
     ]
    }
   ],
   "source": [
    "y = mx + b"
   ]
  },
  {
   "cell_type": "code",
   "execution_count": null,
   "id": "c03848ea-5e94-402f-a87a-d133b5e3ed1c",
   "metadata": {},
   "outputs": [],
   "source": [
    "So, you might need to ask again:"
   ]
  },
  {
   "cell_type": "code",
   "execution_count": 20,
   "id": "2850e3e9-699b-4a9b-9fbb-1d0526977c26",
   "metadata": {},
   "outputs": [
    {
     "data": {
      "text/markdown": [
       "```python\n",
       "y = m*x + b\n",
       "```"
      ],
      "text/plain": [
       "<IPython.core.display.Markdown object>"
      ]
     },
     "execution_count": 20,
     "metadata": {
      "text/markdown": {
       "jupyter_ai": {
        "model_id": "gpt-3.5-turbo",
        "provider_id": "openai-chat"
       }
      }
     },
     "output_type": "execute_result"
    }
   ],
   "source": [
    "%%ai openai-chat:gpt-3.5-turbo\n",
    "I got name 'mx' is not defined.  My variables are m, x and b.  Can you try again?"
   ]
  },
  {
   "cell_type": "markdown",
   "id": "e62aa835-aa08-477d-a4e9-727686151dc9",
   "metadata": {},
   "source": [
    "In your workflow, you might write something like this:\n",
    "\n",
    "I came up with the solution on my own, but then just to see what the AI would do, I asked it the questions shown. It got the answer wrong the first time, so I tried it's answer to see what it would do.  I then asked it about the error message, and it then came up with the correct solution."
   ]
  },
  {
   "cell_type": "markdown",
   "id": "b19651a3-834e-4f6a-8092-f7f5a8d99c36",
   "metadata": {},
   "source": [
    "## Any questions about this explanation?"
   ]
  },
  {
   "cell_type": "markdown",
   "id": "a0262f75-871b-4bbf-a189-c17573417611",
   "metadata": {},
   "source": [
    "## Avoiding the \"hard coding trap\""
   ]
  },
  {
   "cell_type": "markdown",
   "id": "5ee79c48-f792-459f-a5e6-2890a2175466",
   "metadata": {},
   "source": [
    "Now, let's revisit this sample lab question.  Here's the question again:\n",
    "\n",
    "**Q1 (sample)** Suppose we have the following code cell that defines the values of `m`, `b`, and `x`.  Note that we should be able to change these values to any number and then recompute our results."
   ]
  },
  {
   "cell_type": "code",
   "execution_count": 23,
   "id": "91b3dd94-1763-463d-825a-136ef8a41c99",
   "metadata": {},
   "outputs": [],
   "source": [
    "m = 4\n",
    "b = 3\n",
    "x = 1"
   ]
  },
  {
   "cell_type": "markdown",
   "id": "65996007-5b4b-44a0-b278-3718e8f35f5e",
   "metadata": {},
   "source": [
    "From high school algebra, the formula for a line is $y = mx + b$ where:\n",
    "* $m$ is the *slope* of the line (rise over run), and\n",
    "* $b$ is the *y-intercept*, the value of $y$ when the line crosses the y-axis.  Another way to say this is: the value of $y$ when $x$ is zero.\n",
    "\n",
    "Your job: write a Python assignment statement for the formula $y = mx + b$  \n",
    "\n",
    "Then determine the value of $y$ for these values of $m$, $b$ and $x$ by pressing-shift enter in the cell that shows the value of `y`.  Your answer should replace the code in the next cell:"
   ]
  },
  {
   "cell_type": "code",
   "execution_count": 24,
   "id": "36250a54-7418-4572-abd2-88c0f9d550df",
   "metadata": {},
   "outputs": [],
   "source": [
    "y = 0 # REPLACE THIS WITH YOUR ANSWER"
   ]
  },
  {
   "cell_type": "code",
   "execution_count": 25,
   "id": "0a7444b1-a276-4d25-884d-f772bd8816b7",
   "metadata": {},
   "outputs": [
    {
     "data": {
      "text/plain": [
       "0"
      ]
     },
     "execution_count": 25,
     "metadata": {},
     "output_type": "execute_result"
    }
   ],
   "source": [
    "y"
   ]
  },
  {
   "cell_type": "markdown",
   "id": "41dbf3ab-d011-4cee-ad8d-8e635111c8e8",
   "metadata": {},
   "source": [
    "The **hard coding trap** is to put in an answer like this one that uses the *specific* values given for `m`, `b`, and `x`.  Note that the following answer would *not* get full credit:"
   ]
  },
  {
   "cell_type": "code",
   "execution_count": 28,
   "id": "5a8a683d-d252-4f8e-8903-1cf97fa4cf46",
   "metadata": {},
   "outputs": [],
   "source": [
    "y = 4 * 1 + 3 # This is a BAD solution because it's hard coded"
   ]
  },
  {
   "cell_type": "code",
   "execution_count": 29,
   "id": "bd7bcbf7-57bd-4349-a37c-4399fb1b31e1",
   "metadata": {},
   "outputs": [
    {
     "data": {
      "text/plain": [
       "7"
      ]
     },
     "execution_count": 29,
     "metadata": {},
     "output_type": "execute_result"
    }
   ],
   "source": [
    "y"
   ]
  },
  {
   "cell_type": "markdown",
   "id": "e6d94518-f943-472b-9151-e6cb303e4014",
   "metadata": {},
   "source": [
    "Students often find this confusing.   They say: but look, it got the right answer!  The answer is y!\n",
    "\n",
    "That misses the point though.  The values provided:\n",
    "\n",
    "```\n",
    "m = 4\n",
    "b = 3\n",
    "x = 1\n",
    "```\n",
    "\n",
    "are just *examples* of values for these variables.  The point is to come up with code that works for *any* values of `m`, `b` and `x`, not just *these* particular values.\n",
    "\n",
    "Similarly, suppose you have this question:\n",
    "\n",
    "**Q2 (sample)** Suppose we have the following code cell that defines the values of `a`, `b`,  `c` and `d`.  Write python code that computes the absolute value of the difference between the maximum of `a` and `b` and the minimum of `c` and `d`. "
   ]
  },
  {
   "cell_type": "code",
   "execution_count": 33,
   "id": "f1ee5135-65e9-4bdc-b618-eeaf832e66a3",
   "metadata": {},
   "outputs": [],
   "source": [
    "a = 13\n",
    "b = 15\n",
    "c = -4\n",
    "d = -6"
   ]
  },
  {
   "cell_type": "markdown",
   "id": "f4c45113-1b19-4175-8be7-7aae1547cc20",
   "metadata": {},
   "source": [
    "Here's a WRONG answer:"
   ]
  },
  {
   "cell_type": "code",
   "execution_count": 31,
   "id": "cab58ea7-d53f-4a16-b182-3d781a51c5dd",
   "metadata": {},
   "outputs": [
    {
     "data": {
      "text/plain": [
       "21"
      ]
     },
     "execution_count": 31,
     "metadata": {},
     "output_type": "execute_result"
    }
   ],
   "source": [
    "abs(15 - -6)"
   ]
  },
  {
   "cell_type": "markdown",
   "id": "15b7d45a-a461-4346-b23d-47977e6a77b5",
   "metadata": {},
   "source": [
    "The answer we are looking for here is: "
   ]
  },
  {
   "cell_type": "code",
   "execution_count": 34,
   "id": "0bcb109d-a8f1-40d4-ab89-f21836ed524b",
   "metadata": {},
   "outputs": [
    {
     "data": {
      "text/plain": [
       "21"
      ]
     },
     "execution_count": 34,
     "metadata": {},
     "output_type": "execute_result"
    }
   ],
   "source": [
    "abs( max(a,b) - min(c,d))"
   ]
  },
  {
   "cell_type": "markdown",
   "id": "ee930a6b-b469-43d4-8615-d4f4c55ff4d6",
   "metadata": {},
   "source": [
    "Again: don't be confused by the fact that both answers compute \"the correct result\" (21).  The point is that one answer is *resuable* for any values that we assign to the variables.  (They are called *variables* precisely because they can *vary*.). \n",
    "\n",
    "When we write an answer that doesn't allow the variables to vary, we call that a *hard coded answer*. The ideas is that it isn't flexible; it's rigid, and designed only for one very specific set of values.   In Computer Science and Data Science, we are typically looking for *reusable*, *general* solutions to problems.\n",
    "\n",
    "### Reviewing the hard coding example (Q2 Sample):\n",
    "\n",
    "So, given: \n",
    "```\n",
    "a = 13\n",
    "b = 15\n",
    "c = -4\n",
    "d = -6\n",
    "```\n",
    "When you are asked to write a python expression for the absolute value of the difference between the maximum of a and b and the minimum of c and d\":\n",
    "* `abs( max(a,b) - min(c,d))` is correct, and\n",
    "* `abs(15 - -6)` is incorrect\n",
    "* *even though* they both compute the same \"result\" (21).\n",
    "\n",
    "Is everyone clear on this?  Please ask if you are confused."
   ]
  },
  {
   "cell_type": "markdown",
   "id": "b98c473e-aece-46e1-aee1-f7dd4eb8cd40",
   "metadata": {},
   "source": [
    "## Review: `# SOLUTION` \n",
    "\n",
    "As a review, the place where you are typically supposed to put your answer in the Jupyter notebooks in lab is a code cell marked `# SOLUTION`.\n",
    "\n",
    "This won't be the case 100% of the time but it's the typical situation, and the correct answer to today's particpation/attendance check, which is the next thing we are doing."
   ]
  },
  {
   "cell_type": "markdown",
   "id": "3b205d40-fdf4-4ea7-a76c-a44d1e48c9b2",
   "metadata": {},
   "source": [
    "## ic04: Today's attendance check\n",
    "\n",
    "Now, please open Gradescope and access this assignment: \n",
    "* ic04: <https://www.gradescope.com/courses/1014383/assignments/6057075/>\n",
    "\n",
    "I'll give you 5 minutes to complete it.\n",
    "\n",
    "* [5 minute countdown timer](https://www.youtube.com/watch?v=_W0bSen8Qjg)"
   ]
  },
  {
   "cell_type": "markdown",
   "id": "2412b5c2-f33e-4652-bca2-55b420d5b2a0",
   "metadata": {},
   "source": [
    "## Review from last time\n",
    "\n",
    "And here's the first code cell from [Section 1.3 (Plotting the classics)](https://inferentialthinking.com/chapters/01/3/Plotting_the_Classics.html) *without* modification.  Note that when we try it run it, it doesn't work at first, because `read_url` is not defined."
   ]
  },
  {
   "cell_type": "code",
   "execution_count": null,
   "id": "9477aa5a-ecb4-499d-bd19-640b77d1d2f4",
   "metadata": {},
   "outputs": [],
   "source": [
    "# Read two books, fast!\n",
    "\n",
    "huck_finn_url = 'https://www.inferentialthinking.com/data/huck_finn.txt'\n",
    "huck_finn_text = read_url(huck_finn_url)\n",
    "huck_finn_chapters = huck_finn_text.split('CHAPTER ')[44:]\n",
    "\n",
    "little_women_url = 'https://www.inferentialthinking.com/data/little_women.txt'\n",
    "little_women_text = read_url(little_women_url)\n",
    "little_women_chapters = little_women_text.split('CHAPTER ')[1:]"
   ]
  },
  {
   "cell_type": "markdown",
   "id": "83b19b3c-f92b-4715-8db1-192a7b672ce8",
   "metadata": {},
   "source": [
    "But we found this bit of missing code hiding in some [lecture notes from Berkeley](https://www.data8.org/sp23/assets/demo_html/lec01.html):"
   ]
  },
  {
   "cell_type": "code",
   "execution_count": 2,
   "id": "2faa1046-2a6b-41f7-9e66-f074d1bdd539",
   "metadata": {},
   "outputs": [],
   "source": [
    "# A tiny program to download text from the web.\n",
    "def read_url(url): \n",
    "    from urllib.request import urlopen \n",
    "    import re\n",
    "    return re.sub('\\\\s+', ' ', urlopen(url).read().decode())\n"
   ]
  },
  {
   "cell_type": "markdown",
   "id": "73f7c297-42d5-444e-b90d-385db3503732",
   "metadata": {},
   "source": [
    "It's a *function definition*.  To review:\n",
    "* This defines a function called `read_url`\n",
    "* This allows us to get the contents of any webpage by writing assignment statements such as the ones in the next code cell:\n"
   ]
  },
  {
   "cell_type": "code",
   "execution_count": 3,
   "id": "25903d65-e12b-4201-a1bb-cac3cb1219a1",
   "metadata": {},
   "outputs": [],
   "source": [
    "huck_finn_text = read_url('https://www.inferentialthinking.com/data/huck_finn.txt')\n",
    "ucsb_home_page = read_url('https://www.ucsb.edu')"
   ]
  },
  {
   "cell_type": "markdown",
   "id": "afd24218-26f8-4ac7-9f0c-cd2467a97270",
   "metadata": {},
   "source": [
    "We remember from last time that if I ask for the full contents of `huck_finn_text` it's way too big.  As a reminder of what that looks like, we can shift-enter in the cell below, then use `Edit/Clear Cell Output` from the Jupyter Notebook menu to clear it."
   ]
  },
  {
   "cell_type": "code",
   "execution_count": null,
   "id": "a979faff-8396-48ed-a0cc-8a97382cc348",
   "metadata": {},
   "outputs": [],
   "source": [
    "huck_finn_text"
   ]
  },
  {
   "cell_type": "markdown",
   "id": "8fa0c0da-648b-49c8-b2c4-7ce9cf232368",
   "metadata": {},
   "source": [
    "So, instead, we check the type of `huck_finn_text` like this:"
   ]
  },
  {
   "cell_type": "code",
   "execution_count": null,
   "id": "d7f960d9-50b9-44ea-b825-2dc60d84b005",
   "metadata": {},
   "outputs": [],
   "source": [
    "type(huck_finn_text)"
   ]
  },
  {
   "cell_type": "markdown",
   "id": "7ae4b4f6-9feb-41f1-9ab7-a3c96b44f112",
   "metadata": {},
   "source": [
    "And since the result is `str` (string, a sequence of characters), we can use:\n",
    "* `len(huck_finn_text)` to get it's length\n",
    "* `huck_finn_text[:100]` to get the first 100 characters ([:100]) is called a *slice*)\n",
    "  \n",
    "Let's demonstrate both of those again"
   ]
  },
  {
   "cell_type": "code",
   "execution_count": null,
   "id": "0a883814-0a34-41fa-8844-6f8d57dd0fcb",
   "metadata": {},
   "outputs": [],
   "source": [
    "len(huck_finn_text)"
   ]
  },
  {
   "cell_type": "code",
   "execution_count": null,
   "id": "8eabe1b9-1074-4dbe-aa51-8224ac2b907d",
   "metadata": {},
   "outputs": [],
   "source": [
    "huck_finn_text[:100]"
   ]
  },
  {
   "cell_type": "markdown",
   "id": "86d8485a-3de2-4d62-a0c9-769c56103ef8",
   "metadata": {},
   "source": [
    "By the way, that `\\ufeff` was described in the previous lectures notes, but to be honest, it's not that important. I'll put it in one of those \"detail triangles\" below for anyone that cares.   Remember that those contains things that might be interesting to some students, but that aren't really crucial to the learning objectives of the course, so you may skip if you want.\n"
   ]
  },
  {
   "cell_type": "markdown",
   "id": "01580311-e269-4022-8c42-eb34617a6c34",
   "metadata": {},
   "source": [
    "<details>\n",
    "<summary><strong>What's that `\\ufeff`?</strong> Click the triangle if you *really* want to know</summary>\n",
    "\n",
    "You probably don't need to know, but if you are *really* curious:\n",
    "\n",
    "The `\\ufeff` is a Byte Order Mark.  \n",
    "    \n",
    "It's an invisible character that sometimes appears at the beginning of a computer file to signal that way in which the 1s and 0s that represent the information inside the computer are organized into bytes (groups of 8-bits), and the ways in which those bytes are organized into larger units of information.   \n",
    "    \n",
    "It has to do with something called \"endian-ness\", which specifies whether the *most significant byte* of the information comes first, or last.\n",
    "\n",
    "The `\\u` indicates that this is a Unicode character, and `feff` is the hexidecimal (base 16) representation of the information.\n",
    "\n",
    "Like I said up top: this is probably more information that you require, and raises more questions than it answers. It probably won't be important to anything in this course.\n",
    "</details>"
   ]
  },
  {
   "cell_type": "markdown",
   "id": "6c4f0a57-b43a-4a9f-81de-78d82ce54be4",
   "metadata": {},
   "source": [
    "Now, we still have a few other variables we defined earlier to look at:"
   ]
  },
  {
   "cell_type": "code",
   "execution_count": null,
   "id": "67e8023a-c62a-49e8-82f1-31a2a4aeced4",
   "metadata": {},
   "outputs": [],
   "source": [
    "ucsb_home_page = read_url('https://www.ucsb.edu')"
   ]
  },
  {
   "cell_type": "code",
   "execution_count": null,
   "id": "6791ecde-9c78-46fc-b7ae-a5e89cb68ce6",
   "metadata": {},
   "outputs": [],
   "source": [
    "ucsb_home_page[0:1024]"
   ]
  },
  {
   "cell_type": "markdown",
   "id": "1696760e-da33-472a-9864-45cbc2970e4b",
   "metadata": {},
   "source": [
    "I picked `[0:1024]` after some trial and error, because it revealed some text that we could recognize as belonging to the UCSB Home Page."
   ]
  },
  {
   "cell_type": "markdown",
   "id": "a39b8cff-d907-479d-a6c2-4159036ca583",
   "metadata": {},
   "source": [
    "## Reminders about function definitions\n",
    "\n",
    "Looking again at that function definition from earlier for `read_url`:\n",
    "\n",
    "```python\n",
    "# A tiny program to download text from the web.\n",
    "def read_url(url): \n",
    "    from urllib.request import urlopen \n",
    "    import re\n",
    "    return re.sub('\\\\s+', ' ', urlopen(url).read().decode())\n",
    "```\n",
    "\n",
    "Let's remind ourselves about function definitions:\n",
    "\n",
    "* A function definition creates a *new unit of software* and gives it a name (in this case, `read_url`)\n",
    "* When a programmer creates a function definition, they write down the steps to compute something in a particular language (in this case Python)\n",
    "* Once a function definition is created, it becomes a \"short hand\" for carrying out all of those steps.\n",
    "* In this case, there are three things the program is doing (the three lines of code after `read_url(url)`.\n",
    "* But from now on, when we want to do *those three things*, we only have to write `read_url(...)`, which is *much shorter to write!*\n",
    "\n"
   ]
  },
  {
   "cell_type": "markdown",
   "id": "8c6353d8-bc1b-47c7-ad75-a1e9d5ea2939",
   "metadata": {},
   "source": [
    "## With the missing piece loaded, let's look at the Chapter 1 code\n",
    "\n",
    "Ok, now that the missing piece is loaded, let's try the Chapter 1 code again. Here it is:"
   ]
  },
  {
   "cell_type": "code",
   "execution_count": null,
   "id": "19a7c66a-73c8-4c03-b2f0-477601cd9fb2",
   "metadata": {},
   "outputs": [],
   "source": [
    "# Read two books, fast!\n",
    "\n",
    "huck_finn_url = 'https://www.inferentialthinking.com/data/huck_finn.txt'\n",
    "huck_finn_text = read_url(huck_finn_url)\n",
    "huck_finn_chapters = huck_finn_text.split('CHAPTER ')[44:]\n",
    "\n",
    "little_women_url = 'https://www.inferentialthinking.com/data/little_women.txt'\n",
    "little_women_text = read_url(little_women_url)\n",
    "little_women_chapters = little_women_text.split('CHAPTER ')[1:]"
   ]
  },
  {
   "cell_type": "markdown",
   "id": "fbcb08e6-b9ed-478b-9e81-88bcd3b6e558",
   "metadata": {},
   "source": [
    "As you may recall from last time, these are six *assignment statements*, and we've given a value to each one.  Last time, we started looking at those values, and learned about:\n",
    "* finding the type of a variable with code such as `type(huck_finn_text)` or `type(huck_finn_chapters)`\n",
    "* the type `str` for string (sequence of characters), and `list` for a sequence of values\n",
    "* using the function `len` in a call expression to find the length of a string or list (e.g. `len(huck_finn_chapters`)\n",
    "\n",
    "We also learned about using indexes on strings and lists, where:\n",
    "\n",
    "* `value[0]` gives us the first thing in value\n",
    "* `value[1]` gives the second thing in value\n",
    "\n",
    "We didn't mention it, but I'll tell you now that \n",
    "* `value[-1]` is the last thing in value\n",
    "* `value[-2]` is the second to the last thing in value\n",
    "\n",
    "And we learned about slices:\n",
    "\n",
    "| Slice | Explanation |\n",
    "|-------|---------|\n",
    "| `[10:]` | start from the item indexed with `[10]` and go to the end |\n",
    "| `[:10]` | start at the beginning and stop *before* you get to item indexed `[10]`|\n",
    "| `[10:20]` | start from the item indexed with `[10]` stop *before* you get to the item indexed `[20]`  |\n",
    "| `[:]` | start at the beginning, and go all the way to the end |\n",
    "\n",
    "That last one might seem useless, but it's not as useless as it seems.  You get back the same thing you started with, but you get a \"new copy\" of that thing.  (We'll come back to that later.)\n",
    "\n"
   ]
  },
  {
   "cell_type": "markdown",
   "id": "066cd35e-c2ba-4d7c-b1bd-279544082dd5",
   "metadata": {},
   "source": [
    "So these are our tools: `type()`, `len()`, and slices `[start:end]`.  With those tools, let's examine these six variables."
   ]
  },
  {
   "cell_type": "code",
   "execution_count": null,
   "id": "d11fc7f0-3b14-41e3-b535-5058692984f7",
   "metadata": {},
   "outputs": [],
   "source": [
    "type(huck_finn_url)"
   ]
  },
  {
   "cell_type": "code",
   "execution_count": null,
   "id": "90c5c17c-3df9-4b22-8f89-ac6fdc7e41d0",
   "metadata": {},
   "outputs": [],
   "source": [
    "len(huck_finn_url)"
   ]
  },
  {
   "cell_type": "code",
   "execution_count": null,
   "id": "a08ed3d8-8ce0-492b-b3bb-d521e78d50ca",
   "metadata": {},
   "outputs": [],
   "source": [
    "huck_finn_url"
   ]
  },
  {
   "cell_type": "code",
   "execution_count": null,
   "id": "466f5ab2-d162-4fcf-9fda-b4687528b371",
   "metadata": {},
   "outputs": [],
   "source": [
    "type(huck_finn_text)"
   ]
  },
  {
   "cell_type": "code",
   "execution_count": null,
   "id": "07b47a72-2765-4a8b-b8b3-c5d0b552e96f",
   "metadata": {},
   "outputs": [],
   "source": [
    "len(huck_finn_text)"
   ]
  },
  {
   "cell_type": "code",
   "execution_count": null,
   "id": "7f569947-15b0-4485-83e3-0aacb5246e23",
   "metadata": {},
   "outputs": [],
   "source": [
    "huck_finn_text[0:1000]"
   ]
  },
  {
   "cell_type": "code",
   "execution_count": null,
   "id": "87875548-4e0d-4192-8fc4-aaebdd97ad02",
   "metadata": {},
   "outputs": [],
   "source": [
    "type(huck_finn_chapters)"
   ]
  },
  {
   "cell_type": "code",
   "execution_count": null,
   "id": "e2608565-0032-4013-9a72-7f15d8f143c8",
   "metadata": {},
   "outputs": [],
   "source": [
    "len(huck_finn_chapters)"
   ]
  },
  {
   "cell_type": "code",
   "execution_count": null,
   "id": "5221a266-05ff-4ae0-8915-ae9ded950907",
   "metadata": {},
   "outputs": [],
   "source": [
    "type(huck_finn_chapters[0])"
   ]
  },
  {
   "cell_type": "code",
   "execution_count": null,
   "id": "f7e598f0-f6cf-4e59-a8eb-9b2478b6a4ef",
   "metadata": {},
   "outputs": [],
   "source": [
    "len(huck_finn_chapters[0])"
   ]
  },
  {
   "cell_type": "markdown",
   "id": "5b3006a8-c72d-474f-be84-62bd039c94d4",
   "metadata": {},
   "source": [
    "Now we know that `huck_finn_chapters[0]` is a string of length 7026.   We can get the first 1000 characters by applying a slice operation *after* that expression:"
   ]
  },
  {
   "cell_type": "code",
   "execution_count": null,
   "id": "20bfbe70-f92d-4619-850a-0291d9750d93",
   "metadata": {},
   "outputs": [],
   "source": [
    "huck_finn_chapters[0][:1000]"
   ]
  },
  {
   "cell_type": "markdown",
   "id": "6685bfd1-bb03-481e-b594-027f509dbcef",
   "metadata": {},
   "source": [
    "## How did we get the text split into Chapters\n",
    "\n",
    "So going back to the first three lines of code from Chapter 1, we have"
   ]
  },
  {
   "cell_type": "code",
   "execution_count": null,
   "id": "2630c643-cb17-4efd-be27-034d4d307392",
   "metadata": {},
   "outputs": [],
   "source": [
    "huck_finn_url = 'https://www.inferentialthinking.com/data/huck_finn.txt'\n",
    "huck_finn_text = read_url(huck_finn_url)\n",
    "huck_finn_chapters = huck_finn_text.split('CHAPTER ')[44:]"
   ]
  },
  {
   "cell_type": "markdown",
   "id": "e4b50551-1f3f-4a52-b3ba-c19492e99451",
   "metadata": {},
   "source": [
    "The next three are pretty much the same; just a different novel:"
   ]
  },
  {
   "cell_type": "code",
   "execution_count": null,
   "id": "7ecd2882-de8e-4fc9-b207-c7483c6f1edf",
   "metadata": {},
   "outputs": [],
   "source": [
    "little_women_url = 'https://www.inferentialthinking.com/data/little_women.txt'\n",
    "little_women_text = read_url(little_women_url)\n",
    "little_women_chapters = little_women_text.split('CHAPTER ')[1:]"
   ]
  },
  {
   "cell_type": "markdown",
   "id": "12dba392-dacd-451c-8b8b-ddf4e33cc431",
   "metadata": {},
   "source": [
    "What they both have in common is that we used the `.split('CHAPTER ')` to convert a big long string into a list of strings.   \n",
    "\n",
    "Here's a smaller example to show what's going on. We'll use some AI to help"
   ]
  },
  {
   "cell_type": "code",
   "execution_count": null,
   "id": "46c62116-82dc-40a3-8e6e-8261624fa39e",
   "metadata": {},
   "outputs": [],
   "source": [
    "%%ai openai-chat:gpt-3.5-turbo\n",
    "What are the University of Califoria campuses?"
   ]
  },
  {
   "cell_type": "code",
   "execution_count": null,
   "id": "710551e3-1373-4a78-8daf-86826e03f298",
   "metadata": {},
   "outputs": [],
   "source": [
    "%%ai openai-chat:gpt-3.5-turbo\n",
    "Can you give me those as abbreviations?"
   ]
  },
  {
   "cell_type": "code",
   "execution_count": null,
   "id": "7e58ea7d-cf86-4ac7-bc98-451719954401",
   "metadata": {},
   "outputs": [],
   "source": [
    "%%ai openai-chat:gpt-3.5-turbo\n",
    "Can you put those abbreviations in a python string, separated by commas and assign that to the variable UCString?"
   ]
  },
  {
   "cell_type": "code",
   "execution_count": null,
   "id": "ca4bc64e-fbc3-4796-ac8f-512c4dcb8938",
   "metadata": {},
   "outputs": [],
   "source": [
    "%%ai openai-chat:gpt-3.5-turbo\n",
    "Ok, pretty good, but I'd prefer it without the full names and the parens.  Just like \"UCB,UCD\" etc"
   ]
  },
  {
   "cell_type": "markdown",
   "id": "967649f4-547d-4928-bb82-eba0251dc918",
   "metadata": {},
   "source": [
    "Ok, that was some helpful use of AI there.   Now lets show how `.split` works on that string."
   ]
  },
  {
   "cell_type": "code",
   "execution_count": null,
   "id": "07a7d423-dedb-4591-9653-b4ea0d8c7ec6",
   "metadata": {},
   "outputs": [],
   "source": [
    "UCString = \"UCB, UCD, UCI, UCLA, UCM, UCR, UCSD, UCSF, UCSB, UCSC\"\n",
    "UCList = UCString.split(\",\")\n",
    "UCList"
   ]
  },
  {
   "cell_type": "code",
   "execution_count": null,
   "id": "53e3bf87-602b-4ddd-a946-9441c9deec3a",
   "metadata": {},
   "outputs": [],
   "source": [
    "len(UCList)"
   ]
  },
  {
   "cell_type": "code",
   "execution_count": null,
   "id": "b372ad9f-b838-42d4-af99-bb6b690a0db0",
   "metadata": {},
   "outputs": [],
   "source": [
    "UCList[-1]"
   ]
  },
  {
   "cell_type": "code",
   "execution_count": null,
   "id": "dbdc1dcd-ebc2-4dc8-8b07-263f3b73d463",
   "metadata": {},
   "outputs": [],
   "source": [
    "UCList[-2]"
   ]
  },
  {
   "cell_type": "markdown",
   "id": "15aabd35-7d58-425c-b15e-2a4ebd1f3976",
   "metadata": {},
   "source": [
    "Hmm... it looks like each of our UC abbreviations has a space at the start.  Let's try again and see if we can fix that.  Instead of splitting on `\",\"`, we'll split on `\", \"`"
   ]
  },
  {
   "cell_type": "code",
   "execution_count": null,
   "id": "210cb0e3-c57c-42c7-8821-b10d83d35c86",
   "metadata": {},
   "outputs": [],
   "source": [
    "UCList = UCString.split(\", \")"
   ]
  },
  {
   "cell_type": "code",
   "execution_count": null,
   "id": "c8972f65-ae4d-4ebc-985c-f78c66b315b4",
   "metadata": {},
   "outputs": [],
   "source": [
    "UCList"
   ]
  },
  {
   "cell_type": "markdown",
   "id": "379d268c-4322-499e-9b8d-d596c7a607a8",
   "metadata": {},
   "source": [
    "That's nicer!  Let's practice some slices:"
   ]
  },
  {
   "cell_type": "code",
   "execution_count": null,
   "id": "db03a1db-672d-47a8-b072-538bd044a988",
   "metadata": {},
   "outputs": [],
   "source": [
    "UCList[3:5]"
   ]
  },
  {
   "cell_type": "code",
   "execution_count": null,
   "id": "d9197c78-cf90-4452-bffb-88a9b1ef7709",
   "metadata": {},
   "outputs": [],
   "source": [
    "UCList[::2]"
   ]
  },
  {
   "cell_type": "code",
   "execution_count": null,
   "id": "018e98db-5923-4b52-a543-bcc799c3fe68",
   "metadata": {},
   "outputs": [],
   "source": [
    "UCList[1::2]"
   ]
  },
  {
   "cell_type": "markdown",
   "id": "d714b8a3-b18a-479e-9e6d-45f0d122df10",
   "metadata": {},
   "source": [
    "Returning to the chapters, we see that the way that the code divided up the text into Chapters is just by doing a split on the string `\"CHAPTER \"` (all caps, followed by a space).  In addition, with Huck Finn it added `[44:]` to the result, while it did NOT do that for Little Women:"
   ]
  },
  {
   "cell_type": "code",
   "execution_count": 7,
   "id": "124ec754-3422-41b3-9546-1efe03069af1",
   "metadata": {},
   "outputs": [],
   "source": [
    "huck_finn_url = 'https://www.inferentialthinking.com/data/huck_finn.txt'\n",
    "huck_finn_text = read_url(huck_finn_url)\n",
    "huck_finn_chapters = huck_finn_text.split('CHAPTER ')[44:]\n",
    "\n",
    "little_women_url = 'https://www.inferentialthinking.com/data/little_women.txt'\n",
    "little_women_text = read_url(little_women_url)\n",
    "little_women_chapters = little_women_text.split('CHAPTER ')[1:]"
   ]
  },
  {
   "cell_type": "markdown",
   "id": "61b1414b-b82b-4368-9e76-177f757e64ea",
   "metadata": {},
   "source": [
    "I wonder if you can figure out why?  (I'll leave that as an exercise for you to figure out)."
   ]
  },
  {
   "cell_type": "markdown",
   "id": "9f397ddf-3f52-44ce-b2f8-c396a43a14d4",
   "metadata": {},
   "source": [
    "Anyway, now that we understand what's in these variables, let's move on to the next bit of code from Chapter 1, because that's going to get us into *Tables*, which is what we will focus on for most of the course!\n"
   ]
  },
  {
   "cell_type": "code",
   "execution_count": 20,
   "id": "8c1ff744-0fa0-41a6-8cef-ad4b00ce2a74",
   "metadata": {},
   "outputs": [
    {
     "data": {
      "text/html": [
       "<table border=\"1\" class=\"dataframe\">\n",
       "    <thead>\n",
       "        <tr>\n",
       "            <th>Chapters</th>\n",
       "        </tr>\n",
       "    </thead>\n",
       "    <tbody>\n",
       "        <tr>\n",
       "            <td>I. YOU don't know about me without you have read a book  ...</td>\n",
       "        </tr>\n",
       "        <tr>\n",
       "            <td>II. WE went tiptoeing along a path amongst the trees bac ...</td>\n",
       "        </tr>\n",
       "        <tr>\n",
       "            <td>III. WELL, I got a good going-over in the morning from o ...</td>\n",
       "        </tr>\n",
       "        <tr>\n",
       "            <td>IV. WELL, three or four months run along, and it was wel ...</td>\n",
       "        </tr>\n",
       "        <tr>\n",
       "            <td>V. I had shut the door to. Then I turned around and ther ...</td>\n",
       "        </tr>\n",
       "        <tr>\n",
       "            <td>VI. WELL, pretty soon the old man was up and around agai ...</td>\n",
       "        </tr>\n",
       "        <tr>\n",
       "            <td>VII. \"GIT up! What you 'bout?\" I opened my eyes and look ...</td>\n",
       "        </tr>\n",
       "        <tr>\n",
       "            <td>VIII. THE sun was up so high when I waked that I judged  ...</td>\n",
       "        </tr>\n",
       "        <tr>\n",
       "            <td>IX. I wanted to go and look at a place right about the m ...</td>\n",
       "        </tr>\n",
       "        <tr>\n",
       "            <td>X. AFTER breakfast I wanted to talk about the dead man a ...</td>\n",
       "        </tr>\n",
       "    </tbody>\n",
       "</table>\n",
       "<p>... (33 rows omitted)</p>"
      ],
      "text/plain": [
       "Chapters\n",
       "I. YOU don't know about me without you have read a book  ...\n",
       "II. WE went tiptoeing along a path amongst the trees bac ...\n",
       "III. WELL, I got a good going-over in the morning from o ...\n",
       "IV. WELL, three or four months run along, and it was wel ...\n",
       "V. I had shut the door to. Then I turned around and ther ...\n",
       "VI. WELL, pretty soon the old man was up and around agai ...\n",
       "VII. \"GIT up! What you 'bout?\" I opened my eyes and look ...\n",
       "VIII. THE sun was up so high when I waked that I judged  ...\n",
       "IX. I wanted to go and look at a place right about the m ...\n",
       "X. AFTER breakfast I wanted to talk about the dead man a ...\n",
       "... (33 rows omitted)"
      ]
     },
     "execution_count": 20,
     "metadata": {},
     "output_type": "execute_result"
    }
   ],
   "source": [
    "# Display the chapters of Huckleberry Finn in a table.\n",
    "\n",
    "Table().with_column('Chapters', huck_finn_chapters)\n"
   ]
  },
  {
   "cell_type": "markdown",
   "id": "29650e1c-e077-44de-a0e6-d0e2d425ffa9",
   "metadata": {},
   "source": [
    "We see here that we can create a new Table by just saying `Table()` in Python.  Here's an empty table"
   ]
  },
  {
   "cell_type": "code",
   "execution_count": null,
   "id": "1ea585d5-07d1-4019-9e20-2687618bd3ff",
   "metadata": {},
   "outputs": [],
   "source": [
    "Table()"
   ]
  },
  {
   "cell_type": "markdown",
   "id": "de0c9338-f5ad-4636-a2eb-4d9944cf1f51",
   "metadata": {},
   "source": [
    "Recalling that we still have a variable that has a list of UC Abbreviatons in it:"
   ]
  },
  {
   "cell_type": "code",
   "execution_count": null,
   "id": "ff8c9eb0-be06-44c9-8c84-c7d5e1496ae8",
   "metadata": {},
   "outputs": [],
   "source": [
    "UCList"
   ]
  },
  {
   "cell_type": "code",
   "execution_count": null,
   "id": "624cdef3-11a3-4db3-8f97-e55f7efb1798",
   "metadata": {},
   "outputs": [],
   "source": [
    "We can make a table of UCs:"
   ]
  },
  {
   "cell_type": "code",
   "execution_count": null,
   "id": "9ea086e8-4c75-4211-a73f-f66d6a62e3a7",
   "metadata": {},
   "outputs": [],
   "source": [
    "Table().with_column(\"UCs\",UCList)"
   ]
  },
  {
   "cell_type": "markdown",
   "id": "c1d5955a-8a39-4282-960f-cddd72ab1398",
   "metadata": {},
   "source": [
    "So that's our first couple of tables. But let's see where Chapter 1 goes next..."
   ]
  },
  {
   "cell_type": "code",
   "execution_count": 9,
   "id": "188e7896-ad4f-4373-8c74-c2c7f68be33e",
   "metadata": {},
   "outputs": [],
   "source": [
    "counts = Table().with_columns([\n",
    "        'Jim', np.cumsum(np.char.count(huck_finn_chapters, 'Jim')),\n",
    "        'Tom', np.cumsum(np.char.count(huck_finn_chapters, 'Tom')),\n",
    "        'Huck', np.cumsum(np.char.count(huck_finn_chapters, 'Huck'))\n",
    "    ])\n"
   ]
  },
  {
   "cell_type": "markdown",
   "id": "313a0931-1b00-4574-8b1e-45da95f492e0",
   "metadata": {},
   "source": [
    "Oh no, again with the `NameError: name 'np' is not defined`?\n",
    "\n",
    "This time the fix is that we need another bit of magic code at the top of our Jupyter Notebook, and from now on, we'll usally include it at the top of each Jupyter Notebook we work with.  I\n",
    "\n",
    "To be honest, it can be anywhere in the Notebook as long as we run it with shift-enter before other code that needs it, but we typically put it at the top to remind ourselves to run it before starting.  Here's that bit of code: "
   ]
  },
  {
   "cell_type": "code",
   "execution_count": 10,
   "id": "764fad8b-a83e-43ed-b4e4-4e83e28079fd",
   "metadata": {},
   "outputs": [],
   "source": [
    "import numpy as np"
   ]
  },
  {
   "cell_type": "markdown",
   "id": "5a2aec26-32b6-478c-a6fa-5743e9c7409b",
   "metadata": {},
   "source": [
    "It turns out that `numpy` (for \"Numerical Python\") is a very commonly used module for doing Data Science in Python.   \n",
    "\n",
    "While we could just do `import numpy`, it's a very common practice to instead write:\n",
    "```\n",
    "import numpy as np\n",
    "```\n",
    "\n",
    "because from then on, instead of writing `numpy`, we can just write `np`.  That's a lot shorter, and we have to write it *so often* that it saves lots of time (for the humans, not the computers).  (Remember what I said in Lecture 2 about programmers being lazy?)\n",
    "\n",
    "\n",
    "After running that, if we run the cell from Chapter 1 again, we should get no error:"
   ]
  },
  {
   "cell_type": "code",
   "execution_count": 21,
   "id": "b5724627-4432-494f-b703-b0917a907bfa",
   "metadata": {},
   "outputs": [],
   "source": [
    "counts = Table().with_columns([\n",
    "        'Jim', np.cumsum(np.char.count(huck_finn_chapters, 'Jim')),\n",
    "        'Tom', np.cumsum(np.char.count(huck_finn_chapters, 'Tom')),\n",
    "        'Huck', np.cumsum(np.char.count(huck_finn_chapters, 'Huck'))\n",
    "    ])\n"
   ]
  },
  {
   "cell_type": "markdown",
   "id": "a0963857-5310-48d9-ae8d-2e9f6c687c67",
   "metadata": {},
   "source": [
    "Ok, that defined a variable for us.  We can guess that the variable `counts` is going to be a `Table`, but let's check:"
   ]
  },
  {
   "cell_type": "code",
   "execution_count": null,
   "id": "1b46ef7b-f7ea-4234-b1e5-a3798b9ca8a4",
   "metadata": {},
   "outputs": [],
   "source": [
    "type(counts)"
   ]
  },
  {
   "cell_type": "markdown",
   "id": "e31ad6f5-0355-4535-aeb2-e7c311bd0119",
   "metadata": {},
   "source": [
    "Indeed, the variable `counts` is of type `datascience.tables.Table`.  This tells us that the type `Table` is not built into Python, but comes from a *module* called `datascience`.  Remember this at the top of our file?"
   ]
  },
  {
   "cell_type": "code",
   "execution_count": null,
   "id": "a644a608-deb3-491a-8a96-0db7d0e32b29",
   "metadata": {},
   "outputs": [],
   "source": [
    "from datascience import *"
   ]
  },
  {
   "cell_type": "markdown",
   "id": "bbba41f3-3181-4ce0-ae7d-bb9dc5458c38",
   "metadata": {},
   "source": [
    "The `*` in this case is a *wildcard*, and it means \"import everything in that module\"."
   ]
  },
  {
   "cell_type": "markdown",
   "id": "b2158c01-9442-46da-a695-c0c12e1adadf",
   "metadata": {},
   "source": [
    "Now how can we see this table?  We can just put the variable `counts` by itself in a code cell:"
   ]
  },
  {
   "cell_type": "code",
   "execution_count": null,
   "id": "d1dedbb7-ce1b-433f-8b18-2c4e73ecf630",
   "metadata": {},
   "outputs": [],
   "source": [
    "counts"
   ]
  },
  {
   "cell_type": "markdown",
   "id": "7443f82a-1294-48f1-9d1f-21f1e945d3c0",
   "metadata": {},
   "source": [
    "What does this table represent?  Well to decode that, we can look at the code that produced it:"
   ]
  },
  {
   "cell_type": "code",
   "execution_count": 22,
   "id": "e75a12c3-c538-40fb-8fb4-5e9c063fcb32",
   "metadata": {},
   "outputs": [],
   "source": [
    "counts = Table().with_columns([\n",
    "        'Jim', np.cumsum(np.char.count(huck_finn_chapters, 'Jim')),\n",
    "        'Tom', np.cumsum(np.char.count(huck_finn_chapters, 'Tom')),\n",
    "        'Huck', np.cumsum(np.char.count(huck_finn_chapters, 'Huck'))\n",
    "    ])"
   ]
  },
  {
   "cell_type": "markdown",
   "id": "46310bb9-ee8e-4e8d-8a76-65078305045f",
   "metadata": {},
   "source": [
    "We start from the inside with huck_finn_chapters, since we know that's a list of strings that represents each chapter.   To understand what's happening, let's start with just a smaller bit of code:"
   ]
  },
  {
   "cell_type": "code",
   "execution_count": null,
   "id": "25f0734c-ec65-456a-be5d-9af6ebba9bd3",
   "metadata": {},
   "outputs": [],
   "source": [
    "np.char.count(huck_finn_chapters, 'Jim')"
   ]
  },
  {
   "cell_type": "markdown",
   "id": "cc8cf85e-9566-4dc2-ac30-5af58312c79e",
   "metadata": {},
   "source": [
    "To make it easier to work with, we can assign this to a variable"
   ]
  },
  {
   "cell_type": "code",
   "execution_count": null,
   "id": "4110b559-5085-4898-8fd6-68d72f5b3491",
   "metadata": {},
   "outputs": [],
   "source": [
    "JimCount = np.char.count(huck_finn_chapters, 'Jim')"
   ]
  },
  {
   "cell_type": "code",
   "execution_count": null,
   "id": "b461a68a-b6d9-48b5-aefa-0b3695ad4fe0",
   "metadata": {},
   "outputs": [],
   "source": [
    "type(JimCount)"
   ]
  },
  {
   "cell_type": "code",
   "execution_count": null,
   "id": "55067770-708b-4414-958d-5f1f9b59403b",
   "metadata": {},
   "outputs": [],
   "source": [
    "len(JimCount)"
   ]
  },
  {
   "cell_type": "markdown",
   "id": "8c0e880f-1a5c-4b05-8f8c-0b7da28b4276",
   "metadata": {},
   "source": [
    "We can also ask our AI to help us figure out what `np.char.count` does.  It's important to give the AI the context that we did `import numpy as np`"
   ]
  },
  {
   "cell_type": "code",
   "execution_count": null,
   "id": "b4fdd6b4-0227-44b3-b17c-dd8646b02095",
   "metadata": {},
   "outputs": [],
   "source": [
    "%%ai openai-chat:gpt-3.5-turbo\n",
    "If numpy is imported as np, what does np.char.count do?"
   ]
  },
  {
   "cell_type": "markdown",
   "id": "5b2adef6-ecca-4c5d-b686-003a6dfd7000",
   "metadata": {},
   "source": [
    "Ok, so this is basically an array of how many times the character Jim is mentioned in each of the chapters."
   ]
  },
  {
   "cell_type": "markdown",
   "id": "39045a3e-e5b6-42c7-a109-4e467d17c45e",
   "metadata": {},
   "source": [
    "The next bit of code in the book plots this data"
   ]
  },
  {
   "cell_type": "code",
   "execution_count": 23,
   "id": "ef316446-4030-4421-a5a0-5de5cd6a7250",
   "metadata": {},
   "outputs": [
    {
     "data": {
      "text/plain": [
       "Text(0.5, 1.08, 'Cumulative Number of Times Each Name Appears')"
      ]
     },
     "execution_count": 23,
     "metadata": {},
     "output_type": "execute_result"
    },
    {
     "data": {
      "image/png": "[encoded data removed]",
      "text/plain": [
       "<Figure size 600x600 with 1 Axes>"
      ]
     },
     "metadata": {},
     "output_type": "display_data"
    }
   ],
   "source": [
    "# Plot the cumulative counts:\n",
    "# how many times in Chapter 1, how many times in Chapters 1 and 2, and so on.\n",
    "\n",
    "cum_counts = counts.with_column('Chapter', np.arange(1, 44, 1))\n",
    "cum_counts.plot(column_for_xticks=3)\n",
    "plots.title('Cumulative Number of Times Each Name Appears', y=1.08)"
   ]
  },
  {
   "cell_type": "markdown",
   "id": "07fb30ed-cf11-446b-b3b7-572315923dcd",
   "metadata": {},
   "source": [
    "Ack, so aggravating!  The first time we run this, we get\n",
    "\n",
    "\n",
    "```\n",
    "NameError: name 'plots' is not defined\n",
    "```\n",
    "\n",
    "So the magic bit of missing code here is this, which we'll start incorporating into every Notebook starting from the next one:"
   ]
  },
  {
   "cell_type": "code",
   "execution_count": 16,
   "id": "e3cf2136-6d1e-45ff-8e46-ed6b1aa40436",
   "metadata": {},
   "outputs": [],
   "source": [
    "%matplotlib inline\n",
    "import matplotlib.pyplot as plots"
   ]
  },
  {
   "cell_type": "markdown",
   "id": "236a23ad-eeac-48ea-b32b-66f23b9568a2",
   "metadata": {},
   "source": [
    "After running that, let's see what we get if we run the plot code again."
   ]
  },
  {
   "cell_type": "markdown",
   "id": "5bfcac10-49f1-4bb2-9e4f-8f3a3f71c9de",
   "metadata": {},
   "source": [
    "The textbook chapter has similar code for the other novel:"
   ]
  },
  {
   "cell_type": "code",
   "execution_count": 24,
   "id": "7171afaf-e04d-4ef6-97ab-b212e43261cc",
   "metadata": {},
   "outputs": [
    {
     "data": {
      "text/plain": [
       "Text(0.5, 1.08, 'Cumulative Number of Times Each Name Appears')"
      ]
     },
     "execution_count": 24,
     "metadata": {},
     "output_type": "execute_result"
    },
    {
     "data": {
      "image/png": "[encoded data removed]",
      "text/plain": [
       "<Figure size 600x600 with 1 Axes>"
      ]
     },
     "metadata": {},
     "output_type": "display_data"
    }
   ],
   "source": [
    "# Get the cumulative counts of the names in the chapters of Little Women\n",
    "\n",
    "counts = Table().with_columns([\n",
    "        'Amy', np.cumsum(np.char.count(little_women_chapters, 'Amy')),\n",
    "        'Beth', np.cumsum(np.char.count(little_women_chapters, 'Beth')),\n",
    "        'Jo', np.cumsum(np.char.count(little_women_chapters, 'Jo')),\n",
    "        'Meg', np.cumsum(np.char.count(little_women_chapters, 'Meg')),\n",
    "        'Laurie', np.cumsum(np.char.count(little_women_chapters, 'Laurie')),\n",
    "\n",
    "    ])\n",
    "\n",
    "# Plot the cumulative counts.\n",
    "\n",
    "cum_counts = counts.with_column('Chapter', np.arange(1, 48, 1))\n",
    "cum_counts.plot(column_for_xticks=5)\n",
    "plots.title('Cumulative Number of Times Each Name Appears', y=1.08)"
   ]
  },
  {
   "cell_type": "markdown",
   "id": "cfb253a1-3b5a-452e-8e66-42095a55a78a",
   "metadata": {},
   "source": [
    "# The Rest of the Chapter 1 code should now work\n",
    "\n",
    "We won't have time to do a deep dive in lecture into the rest of the Chapter 1 code, because we need to move ahead, but I do want to briefly show you that with these imports done, which will appear at the top of our files from now on, the rest of the code in Chapter 1 runs without errors:"
   ]
  },
  {
   "cell_type": "code",
   "execution_count": 25,
   "id": "61da6a21-c1a7-4123-ad8f-feac39bc03f5",
   "metadata": {},
   "outputs": [],
   "source": [
    "# These lines import the Python modules we commonly use in CMPSC 5A\n",
    "from datascience import *\n",
    "import numpy as np\n",
    "%matplotlib inline\n",
    "import matplotlib.pyplot as plots"
   ]
  },
  {
   "cell_type": "code",
   "execution_count": 26,
   "id": "55f4c315-2ccc-4426-bd3e-14390f351266",
   "metadata": {},
   "outputs": [],
   "source": [
    "# In each chapter, count the number of all characters;\n",
    "# call this the \"length\" of the chapter.\n",
    "# Also count the number of periods.\n",
    "\n",
    "chars_periods_huck_finn = Table().with_columns([\n",
    "        'Huck Finn Chapter Length', [len(s) for s in huck_finn_chapters],\n",
    "        'Number of Periods', np.char.count(huck_finn_chapters, '.')\n",
    "    ])\n",
    "chars_periods_little_women = Table().with_columns([\n",
    "        'Little Women Chapter Length', [len(s) for s in little_women_chapters],\n",
    "        'Number of Periods', np.char.count(little_women_chapters, '.')\n",
    "    ])"
   ]
  },
  {
   "cell_type": "code",
   "execution_count": 27,
   "id": "f961e203-77b9-4e0b-9164-8587fdf3e3ce",
   "metadata": {},
   "outputs": [
    {
     "data": {
      "text/html": [
       "<table border=\"1\" class=\"dataframe\">\n",
       "    <thead>\n",
       "        <tr>\n",
       "            <th>Huck Finn Chapter Length</th> <th>Number of Periods</th>\n",
       "        </tr>\n",
       "    </thead>\n",
       "    <tbody>\n",
       "        <tr>\n",
       "            <td>7026                    </td> <td>66               </td>\n",
       "        </tr>\n",
       "        <tr>\n",
       "            <td>11982                   </td> <td>117              </td>\n",
       "        </tr>\n",
       "        <tr>\n",
       "            <td>8529                    </td> <td>72               </td>\n",
       "        </tr>\n",
       "        <tr>\n",
       "            <td>6799                    </td> <td>84               </td>\n",
       "        </tr>\n",
       "        <tr>\n",
       "            <td>8166                    </td> <td>91               </td>\n",
       "        </tr>\n",
       "        <tr>\n",
       "            <td>14550                   </td> <td>125              </td>\n",
       "        </tr>\n",
       "        <tr>\n",
       "            <td>13218                   </td> <td>127              </td>\n",
       "        </tr>\n",
       "        <tr>\n",
       "            <td>22208                   </td> <td>249              </td>\n",
       "        </tr>\n",
       "        <tr>\n",
       "            <td>8081                    </td> <td>71               </td>\n",
       "        </tr>\n",
       "        <tr>\n",
       "            <td>7036                    </td> <td>70               </td>\n",
       "        </tr>\n",
       "    </tbody>\n",
       "</table>\n",
       "<p>... (33 rows omitted)</p>"
      ],
      "text/plain": [
       "Huck Finn Chapter Length | Number of Periods\n",
       "7026                     | 66\n",
       "11982                    | 117\n",
       "8529                     | 72\n",
       "6799                     | 84\n",
       "8166                     | 91\n",
       "14550                    | 125\n",
       "13218                    | 127\n",
       "22208                    | 249\n",
       "8081                     | 71\n",
       "7036                     | 70\n",
       "... (33 rows omitted)"
      ]
     },
     "execution_count": 27,
     "metadata": {},
     "output_type": "execute_result"
    }
   ],
   "source": [
    "chars_periods_huck_finn"
   ]
  },
  {
   "cell_type": "code",
   "execution_count": 28,
   "id": "847d71f3-45f9-4997-a055-3698ada575fe",
   "metadata": {},
   "outputs": [
    {
     "data": {
      "text/html": [
       "<table border=\"1\" class=\"dataframe\">\n",
       "    <thead>\n",
       "        <tr>\n",
       "            <th>Little Women Chapter Length</th> <th>Number of Periods</th>\n",
       "        </tr>\n",
       "    </thead>\n",
       "    <tbody>\n",
       "        <tr>\n",
       "            <td>21759                      </td> <td>189              </td>\n",
       "        </tr>\n",
       "        <tr>\n",
       "            <td>22148                      </td> <td>188              </td>\n",
       "        </tr>\n",
       "        <tr>\n",
       "            <td>20558                      </td> <td>231              </td>\n",
       "        </tr>\n",
       "        <tr>\n",
       "            <td>25526                      </td> <td>195              </td>\n",
       "        </tr>\n",
       "        <tr>\n",
       "            <td>23395                      </td> <td>255              </td>\n",
       "        </tr>\n",
       "        <tr>\n",
       "            <td>14622                      </td> <td>140              </td>\n",
       "        </tr>\n",
       "        <tr>\n",
       "            <td>14431                      </td> <td>131              </td>\n",
       "        </tr>\n",
       "        <tr>\n",
       "            <td>22476                      </td> <td>214              </td>\n",
       "        </tr>\n",
       "        <tr>\n",
       "            <td>33767                      </td> <td>337              </td>\n",
       "        </tr>\n",
       "        <tr>\n",
       "            <td>18508                      </td> <td>185              </td>\n",
       "        </tr>\n",
       "    </tbody>\n",
       "</table>\n",
       "<p>... (37 rows omitted)</p>"
      ],
      "text/plain": [
       "Little Women Chapter Length | Number of Periods\n",
       "21759                       | 189\n",
       "22148                       | 188\n",
       "20558                       | 231\n",
       "25526                       | 195\n",
       "23395                       | 255\n",
       "14622                       | 140\n",
       "14431                       | 131\n",
       "22476                       | 214\n",
       "33767                       | 337\n",
       "18508                       | 185\n",
       "... (37 rows omitted)"
      ]
     },
     "execution_count": 28,
     "metadata": {},
     "output_type": "execute_result"
    }
   ],
   "source": [
    "chars_periods_little_women"
   ]
  },
  {
   "cell_type": "code",
   "execution_count": 29,
   "id": "76a7cf0f-4e72-4359-802c-ae240846c0da",
   "metadata": {},
   "outputs": [
    {
     "data": {
      "image/png": "[encoded data removed]",
      "text/plain": [
       "<Figure size 600x600 with 1 Axes>"
      ]
     },
     "metadata": {},
     "output_type": "display_data"
    }
   ],
   "source": [
    "plots.figure(figsize=(6, 6))\n",
    "plots.scatter(chars_periods_huck_finn.column(1), \n",
    "              chars_periods_huck_finn.column(0), \n",
    "              color='darkblue')\n",
    "plots.scatter(chars_periods_little_women.column(1), \n",
    "              chars_periods_little_women.column(0), \n",
    "              color='gold')\n",
    "plots.xlabel('Number of periods in chapter')\n",
    "plots.ylabel('Number of characters in chapter');"
   ]
  },
  {
   "cell_type": "markdown",
   "id": "2bcc3e34-c6d3-4661-a541-38e9820653a6",
   "metadata": {},
   "source": [
    "# Next up\n",
    "\n",
    "We\n",
    "* Chapter 3 (Expressions, Names, Call Expressions and Tables)\n",
    "* Chapter 4 (Data Types)"
   ]
  }
 ],
 "metadata": {
  "kernelspec": {
   "display_name": "Python 3 (ipykernel)",
   "language": "python",
   "name": "python3"
  },
  "language_info": {
   "codemirror_mode": {
    "name": "ipython",
    "version": 3
   },
   "file_extension": ".py",
   "mimetype": "text/x-python",
   "name": "python",
   "nbconvert_exporter": "python",
   "pygments_lexer": "ipython3",
   "version": "3.12.9"
  }
 },
 "nbformat": 4,
 "nbformat_minor": 5
}
