{
 "cells": [
  {
   "cell_type": "code",
   "execution_count": 3,
   "id": "25a0c03f-26b6-445e-8b5f-19c99f9dea86",
   "metadata": {},
   "outputs": [],
   "source": [
    "# Click into this cell and press shift-enter before using this notebook.\n",
    "# This line loads the ability to use %%ai in your file\n",
    "%load_ext jupyter_ai_magics\n",
    "# These lines import the Python modules we commonly use in CMPSC 5A\n",
    "from datascience import *\n",
    "import numpy as np\n",
    "%matplotlib inline\n",
    "import matplotlib.pyplot as plots"
   ]
  },
  {
   "cell_type": "markdown",
   "id": "9321debc-abd4-4199-8c65-4b9a57b77962",
   "metadata": {},
   "source": [
    "# Lecture 10, CMPSC 5A, S25\n",
    "\n",
    "Thu 05/01/2025, Week 5\n",
    "\n",
    "## Updates on ic's\n",
    "\n",
    "### ic12\n",
    "\n",
    "* ic12 is almost fully graded as of noon (110/128).   I'll be finished grading it soon.\n",
    "  * I gave credit for ic12 if you got all five activities done in *any* of the files in either the ic10 folders from Tuesday 04/22 or the ic12 folders from Thursday 04/24\n",
    "  * If you did get all five activities done before 2pm today (Thu May 1st), but you got a grade less than 100, please submit a private EdPost (not an email) and ask for a regrade by midnight tonight, 05/02/2025.  Include a link to the file where all of this was completed.\n",
    "\n",
    "### ic13\n",
    "\n",
    "* ic13: This was the participation activity from Tuesday.  It's fully graded.\n",
    "  * The instructions for this appear in the lecture09 notebook which you can access by updating your\n",
    "    JupyterHub (via the link on canvas) and looking in the lectures folder.\n",
    "  * I gave credit if I found a post from you int the [Week 4 Chat Group Folder](https://docs.google.com/spreadsheets/d/1X7GF5QxbYTAauvdKb-7LFD3zUwj2oqFMBi6Q8RHNjoM/edit?usp=sharing) that followed the instructions.\n",
    "  * I was pretty generous; you were supposed to include a link to the folder where you did the ic10/ic12 work if you said that you had completed it.  Not everyone did, but I gave credit anyway.\n",
    "  * If you got a zero on this, you can make it up if you (a) did the required posts before 2pm May 1st and (b) send a private EdStem post (not an email) requesting a regrade by midnight tonight 05/01/2025.\n",
    "\n",
    "### ic14 \n",
    "* ic14: I have not yet started on grading this one.\n",
    "  * This one required you to make a post in your [Midterm Group Chat Channel](https://docs.google.com/spreadsheets/d/1oLPWP0j1jvx7eLq7kcQc15PiSDUwjlnZAolUVSHWBOQ/edit?gid=1128224438#gid=1128224438) following the instructions on [this Ed Post](https://edstem.org/us/courses/77825/discussion/6634588)\n",
    "  * You'll get credit if I see a post in your chat channel.\n",
    "  * If you haven't done it yet, do it before 8pm tonight 05/01/2025 to ensure full credit.\n",
    "  \n",
    "### ic15: Today's individual participation assignment\n",
    "\n",
    "A simple one today, on Gradescope.  \n",
    "\n",
    "* <https://www.gradescope.com/courses/1014383/assignments/6178129>\n",
    "* [Five Minute Countdown](https://www.youtube.com/watch?v=_W0bSen8Qjg)\n",
    "\n",
    "### ic16: Group participation assignment\n",
    "\n",
    "See: <https://ucsb.instructure.com/courses/25658/assignments/360359>\n",
    "\n",
    "* Try to get this done in class today (I'll give you the last 15 minutes to work on it).\n",
    "* You have until midnight Friday in case you need to try to track down people that are not here.\n",
    "* Grace period until midnight Saturday (no late penalty, but also no further extensions).\n",
    "\n",
    "## Outline\n",
    "\n",
    "* Review of `print` vs. `return`\n",
    "* Some slides about group, pivot and join\n",
    "* Some Time to work on ic16\n"
   ]
  },
  {
   "cell_type": "markdown",
   "id": "49291bdc-95dd-4980-a42c-a92ed04de6ce",
   "metadata": {},
   "source": [
    "## Setting up our course table\n",
    "\n",
    "These first few cells are just setting up our course table with the usual columns so that we can use it as an example."
   ]
  },
  {
   "cell_type": "code",
   "execution_count": 4,
   "id": "6d977acc-2951-4f76-a3c4-ab3cbb75fa74",
   "metadata": {},
   "outputs": [],
   "source": [
    "courseTable = Table.read_table(\"data/ucsb-s25-courses.csv\")"
   ]
  },
  {
   "cell_type": "code",
   "execution_count": 5,
   "id": "2929592c-93e9-4603-ad32-2a59560bfc3e",
   "metadata": {},
   "outputs": [],
   "source": [
    "def courseIdToDept(courseId):\n",
    "    return courseId[0:8].strip()\n",
    "\n",
    "def courseIdToCourseNum(courseId):\n",
    "    return courseId[8:13].strip()\n",
    "\n",
    "def courseIdToSuffix(courseId):\n",
    "    return courseId[14:].strip()\n",
    "\n",
    "def isLecture(sectionNum):\n",
    "    # if section number is divisible by 100, it's a lecture\n",
    "    return sectionNum % 100 == 0"
   ]
  },
  {
   "cell_type": "code",
   "execution_count": 6,
   "id": "523ea9f0-27d7-4cd5-a8e9-5c74f8b77aeb",
   "metadata": {},
   "outputs": [],
   "source": [
    "courses = courseTable.with_columns(\n",
    "    \"dept\", courseTable.apply(courseIdToDept, 0),\n",
    "    \"courseNum\", courseTable.apply(courseIdToCourseNum, 0),\n",
    "    \"suffix\", courseTable.apply(courseIdToSuffix, 0),\n",
    "    \"isLecture\", courseTable.apply(isLecture, \"SECTION\")\n",
    ")\n"
   ]
  },
  {
   "cell_type": "code",
   "execution_count": 8,
   "id": "85ebb423-d55c-46a1-b454-0e91637ed5ef",
   "metadata": {},
   "outputs": [],
   "source": [
    "csLectures = courses \\\n",
    "   .where(\"dept\",are.equal_to(\"CMPSC\")) \\\n",
    "   .where(\"isLecture\",are.equal_to(True)) \\\n",
    "   .where(\"STATUS\",are.not_equal_to(\"Closed\"))"
   ]
  },
  {
   "cell_type": "markdown",
   "id": "9710e4b2-02ed-40d5-81e0-bcd1e96f852f",
   "metadata": {},
   "source": [
    "## Print vs. Return Review\n",
    "\n",
    "Remember these two function definitions:"
   ]
  },
  {
   "cell_type": "code",
   "execution_count": 11,
   "id": "68ca6a44-143a-493f-9e5a-5b6bbc484a7f",
   "metadata": {},
   "outputs": [],
   "source": [
    "def addNumbers(a, b):\n",
    "    return a + b\n",
    "\n",
    "def sumNumbers(a, b):\n",
    "    print(a + b)"
   ]
  },
  {
   "cell_type": "markdown",
   "id": "88e86422-632f-407f-905a-513a49abc93c",
   "metadata": {},
   "source": [
    "Suppose we use call expressions with each of these:"
   ]
  },
  {
   "cell_type": "code",
   "execution_count": 15,
   "id": "c863f157-541e-488f-9dec-558eee28e28f",
   "metadata": {},
   "outputs": [
    {
     "data": {
      "text/plain": [
       "22"
      ]
     },
     "execution_count": 15,
     "metadata": {},
     "output_type": "execute_result"
    }
   ],
   "source": [
    "# What happens when I run this cell?\n",
    "result1 = addNumbers(3, 8)\n",
    "result1 * 2"
   ]
  },
  {
   "cell_type": "code",
   "execution_count": 14,
   "id": "a03452fd-027a-4482-88dd-43e57c4a5695",
   "metadata": {},
   "outputs": [
    {
     "name": "stdout",
     "output_type": "stream",
     "text": [
      "7\n"
     ]
    },
    {
     "ename": "TypeError",
     "evalue": "unsupported operand type(s) for *: 'NoneType' and 'int'",
     "output_type": "error",
     "traceback": [
      "\u001b[31m---------------------------------------------------------------------------\u001b[39m",
      "\u001b[31mTypeError\u001b[39m                                 Traceback (most recent call last)",
      "\u001b[36mCell\u001b[39m\u001b[36m \u001b[39m\u001b[32mIn[14]\u001b[39m\u001b[32m, line 3\u001b[39m\n\u001b[32m      1\u001b[39m \u001b[38;5;66;03m# What happens when I run this cell?\u001b[39;00m\n\u001b[32m      2\u001b[39m result2 = sumNumbers(\u001b[32m2\u001b[39m, \u001b[32m5\u001b[39m)\n\u001b[32m----> \u001b[39m\u001b[32m3\u001b[39m \u001b[43mresult2\u001b[49m\u001b[43m \u001b[49m\u001b[43m*\u001b[49m\u001b[43m \u001b[49m\u001b[32;43m2\u001b[39;49m\n",
      "\u001b[31mTypeError\u001b[39m: unsupported operand type(s) for *: 'NoneType' and 'int'"
     ]
    }
   ],
   "source": [
    "# What happens when I run this cell?\n",
    "result2 = sumNumbers(2, 5)\n",
    "result2 * 2"
   ]
  },
  {
   "cell_type": "code",
   "execution_count": null,
   "id": "7f3869a0-d375-4d91-a792-b11dcd5ea855",
   "metadata": {},
   "outputs": [],
   "source": [
    "Lets pause to understand why."
   ]
  },
  {
   "cell_type": "markdown",
   "id": "3b95d914-96b2-43b6-b8ed-aadbf33e514d",
   "metadata": {},
   "source": [
    "One way to see the difference is what happens when we assign the result.  Let's look at the values, and the types we get back:"
   ]
  },
  {
   "cell_type": "markdown",
   "id": "f98b8ccf-4f01-4bf4-b9fa-54b3f640d94b",
   "metadata": {},
   "source": [
    "## Review: summary of print vs. return\n",
    "\n",
    "<table>\n",
    "    <thead>\n",
    "        <tr>\n",
    "            <th>With Return</th>\n",
    "            <th>With Print</th>\n",
    "        </tr>\n",
    "    </thead>\n",
    "    <tbody>\n",
    "        <tr>\n",
    "            <td markdown=\"1\">\n",
    "<pre>\n",
    "def addNumbers(a, b):            \n",
    "    return a + b\n",
    "</pre>\n",
    "            </td>\n",
    "            <td markdown=\"1\">\n",
    "<pre>\n",
    "def sumNumbers(a, b):         \n",
    "    print(a + b)\n",
    "</pre>\n",
    "            </td>\n",
    "        </tr>\n",
    "        <tr>\n",
    "            <td>return doesn't require ( ) </td>\n",
    "            <td>print requires ( ) </td>\n",
    "        </tr>\n",
    "        <tr>\n",
    "            <td>Assigning to variable <em>works</em>; the sum is <em>returned</em></td>\n",
    "            <td>Assigning to a variable <em>doesn't work</em>; <code>None</code> is returned</td>\n",
    "        </tr>\n",
    "        <tr>\n",
    "            <td>Result can be used in other expressions (e.g. `addNumbers(3,4)+1` gives 8</td>\n",
    "            <td>Result CANNOT be used in other expressions (e.g. `sumNumbers(3,4)+1` gives an error</td>\n",
    "        </tr>\n",
    "    </tbody>\n",
    "</table>"
   ]
  },
  {
   "cell_type": "markdown",
   "id": "c4fcb274-c02a-49e0-80aa-5f25ac6646ab",
   "metadata": {},
   "source": [
    "## *Every* function returns a value, but it's sometimes `None`\n",
    "\n"
   ]
  },
  {
   "cell_type": "markdown",
   "id": "b4cb6460-48d4-470e-9ee5-b04c107bee49",
   "metadata": {},
   "source": [
    "One way to understand this more easily is if you memorize this rule:\n",
    "* If a function encounters a `return` statement, the expression after the `return` is what we *get* as the *result* of the function call, i.e. the value we can assign to a variable.\n",
    "* If a function *has not return* statement, then at the end, there is an implied statement like this:\n",
    "  ```\n",
    "  return None\n",
    "  ```\n",
    "\n",
    "\n",
    "As a result, this is what happens:\n",
    "<table>\n",
    "    <thead>\n",
    "        <tr>\n",
    "            <th>If you write this function:</th>\n",
    "            <th>What you get is actually this function:</th>\n",
    "        </tr>\n",
    "    </thead>\n",
    "    <tbody>\n",
    "        <tr>\n",
    "            <td markdown=\"1\">\n",
    "<pre>\n",
    "def sumNumbers(a, b):         \n",
    "    print(a + b)\n",
    "</pre>\n",
    "            </td>\n",
    "            <td markdown=\"1\">\n",
    "<pre>\n",
    "def sumNumbers(a, b):         \n",
    "    print(a + b)\n",
    "    return None\n",
    "</pre>\n",
    "            </td>\n",
    "        </tr>\n",
    "        <tr>\n",
    "            <td>A function with no explicit <code>return</code> statement... </td>\n",
    "            <td>... turns into one with <code>return None</code> as the last line </td>\n",
    "        </tr>\n",
    "    </tbody>\n",
    "</table>\n",
    "\n",
    "\n",
    "That doesn't mean that functions that `return None` are bad, or useless!  \n",
    "\n",
    "It just means we have to be aware of this behavior.\n",
    "\n",
    "    \n",
    "\n"
   ]
  },
  {
   "cell_type": "markdown",
   "id": "09aecb34-0d71-4503-b2d9-35999a40b19e",
   "metadata": {},
   "source": [
    "BUT this doesn't work if you try it with functions that just *print* the sum:"
   ]
  },
  {
   "cell_type": "markdown",
   "id": "f13bad42-815e-4f41-a560-ba8e2a48dda0",
   "metadata": {},
   "source": [
    "# Grouping and Pivots"
   ]
  },
  {
   "cell_type": "markdown",
   "id": "846c8417-1a75-4d54-aa2d-75ab543c9d05",
   "metadata": {},
   "source": [
    "Slides: <https://docs.google.com/presentation/d/1FYg-mE8X0H5X0BHUUGlYIc0MAM9WzX8CtoVWGIrrg9k/edit?usp=sharing>"
   ]
  },
  {
   "cell_type": "code",
   "execution_count": 16,
   "id": "d7d2c1b9-39b1-4b3e-b228-17615a7c56ca",
   "metadata": {},
   "outputs": [
    {
     "data": {
      "text/plain": [
       "('COURSEID',\n",
       " 'ENROLLED',\n",
       " 'GES',\n",
       " 'INSTRUCTOR',\n",
       " 'MAXENROLL',\n",
       " 'QUARTER',\n",
       " 'SECTION',\n",
       " 'STATUS',\n",
       " 'dept',\n",
       " 'courseNum',\n",
       " 'suffix',\n",
       " 'isLecture')"
      ]
     },
     "execution_count": 16,
     "metadata": {},
     "output_type": "execute_result"
    }
   ],
   "source": [
    "courses.labels"
   ]
  },
  {
   "cell_type": "code",
   "execution_count": 18,
   "id": "50f7c295-8440-47ab-8b52-d8fc5c187d3f",
   "metadata": {},
   "outputs": [
    {
     "data": {
      "text/plain": [
       "6879"
      ]
     },
     "execution_count": 18,
     "metadata": {},
     "output_type": "execute_result"
    }
   ],
   "source": [
    "courses.num_rows"
   ]
  },
  {
   "cell_type": "code",
   "execution_count": null,
   "id": "61f5c95a-0f0c-4c21-be1a-b21870aab334",
   "metadata": {},
   "outputs": [],
   "source": []
  }
 ],
 "metadata": {
  "kernelspec": {
   "display_name": "Python 3 (ipykernel)",
   "language": "python",
   "name": "python3"
  },
  "language_info": {
   "codemirror_mode": {
    "name": "ipython",
    "version": 3
   },
   "file_extension": ".py",
   "mimetype": "text/x-python",
   "name": "python",
   "nbconvert_exporter": "python",
   "pygments_lexer": "ipython3",
   "version": "3.12.9"
  }
 },
 "nbformat": 4,
 "nbformat_minor": 5
}
