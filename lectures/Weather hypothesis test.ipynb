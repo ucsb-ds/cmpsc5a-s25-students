{
 "cells": [
  {
   "cell_type": "code",
   "execution_count": 2,
   "id": "22b5ab7a-6a1f-4923-93c5-e54027841786",
   "metadata": {},
   "outputs": [],
   "source": [
    "from datascience import *\n",
    "import numpy as np\n",
    "import matplotlib.pyplot as plt\n",
    "%matplotlib inline"
   ]
  },
  {
   "cell_type": "code",
   "execution_count": 3,
   "id": "b1d82ce2-ed99-44eb-a04a-627d38f569c1",
   "metadata": {},
   "outputs": [],
   "source": [
    "# Seed for reproducibility\n",
    "np.random.seed(42)\n",
    "\n",
    "# Simulate daily precipitation for 12 months, 30 days each\n",
    "months = np.repeat(np.arange(1, 13), 30)\n",
    "precip = np.random.normal(5, 2, 360)  # average 5mm, std dev 2mm"
   ]
  },
  {
   "cell_type": "code",
   "execution_count": 4,
   "id": "9898070b-afe0-4587-a314-4c3e6011048b",
   "metadata": {},
   "outputs": [],
   "source": [
    "april_indices = (months == 4)\n",
    "precip[april_indices] += np.random.normal(0.5, 0.5, april_indices.sum()) # add extra rain (average, std dev)\n",
    "\n",
    "# Create table\n",
    "weather = Table().with_columns(\n",
    "    \"Month\", months,\n",
    "    \"Precipitation\", precip\n",
    ")"
   ]
  },
  {
   "cell_type": "code",
   "execution_count": 5,
   "id": "02fa5abe-8de2-4ea2-bf87-9540cd78a426",
   "metadata": {},
   "outputs": [
    {
     "data": {
      "text/html": [
       "<table border=\"1\" class=\"dataframe\">\n",
       "    <thead>\n",
       "        <tr>\n",
       "            <th>Month</th> <th>Precipitation mean</th>\n",
       "        </tr>\n",
       "    </thead>\n",
       "    <tbody>\n",
       "        <tr>\n",
       "            <td>1    </td> <td>4.62371           </td>\n",
       "        </tr>\n",
       "        <tr>\n",
       "            <td>2    </td> <td>4.75768           </td>\n",
       "        </tr>\n",
       "        <tr>\n",
       "            <td>3    </td> <td>5.02577           </td>\n",
       "        </tr>\n",
       "        <tr>\n",
       "            <td>4    </td> <td>5.57358           </td>\n",
       "        </tr>\n",
       "        <tr>\n",
       "            <td>5    </td> <td>4.81008           </td>\n",
       "        </tr>\n",
       "        <tr>\n",
       "            <td>6    </td> <td>5.55757           </td>\n",
       "        </tr>\n",
       "        <tr>\n",
       "            <td>7    </td> <td>5.13118           </td>\n",
       "        </tr>\n",
       "        <tr>\n",
       "            <td>8    </td> <td>5.09607           </td>\n",
       "        </tr>\n",
       "        <tr>\n",
       "            <td>9    </td> <td>4.71314           </td>\n",
       "        </tr>\n",
       "        <tr>\n",
       "            <td>10   </td> <td>5.21433           </td>\n",
       "        </tr>\n",
       "    </tbody>\n",
       "</table>\n",
       "<p>... (2 rows omitted)</p>"
      ],
      "text/plain": [
       "Month | Precipitation mean\n",
       "1     | 4.62371\n",
       "2     | 4.75768\n",
       "3     | 5.02577\n",
       "4     | 5.57358\n",
       "5     | 4.81008\n",
       "6     | 5.55757\n",
       "7     | 5.13118\n",
       "8     | 5.09607\n",
       "9     | 4.71314\n",
       "10    | 5.21433\n",
       "... (2 rows omitted)"
      ]
     },
     "execution_count": 5,
     "metadata": {},
     "output_type": "execute_result"
    }
   ],
   "source": [
    "weather.group(\"Month\",np.mean)"
   ]
  },
  {
   "cell_type": "markdown",
   "id": "bd0af79b-9846-47fd-99ef-0ef668bdbda2",
   "metadata": {},
   "source": [
    "#### Null: April’s average precipitation is not significantly different from other months — the difference is due to chance."
   ]
  },
  {
   "cell_type": "markdown",
   "id": "23c20884-f846-4af7-a61e-9e2f11585599",
   "metadata": {},
   "source": [
    "#### Alternate: April’s average precipitation is higher than other months."
   ]
  },
  {
   "cell_type": "code",
   "execution_count": 6,
   "id": "57e388fd-f9ab-47d6-bca9-1ed0d948ae49",
   "metadata": {},
   "outputs": [
    {
     "name": "stdout",
     "output_type": "stream",
     "text": [
      "Observed Difference (April - Other Months): 0.566293350158\n"
     ]
    }
   ],
   "source": [
    "# Compare April to all other months\n",
    "april = weather.where(\"Month\", 4)\n",
    "non_april = weather.where(\"Month\", are.not_equal_to(4))\n",
    "\n",
    "# Observed difference\n",
    "observed_diff = april.column(\"Precipitation\").mean() - non_april.column(\"Precipitation\").mean()\n",
    "print(\"Observed Difference (April - Other Months):\", observed_diff)"
   ]
  },
  {
   "cell_type": "code",
   "execution_count": 7,
   "id": "1682cb5d-c4c6-4416-af9a-fe98f13ea3e2",
   "metadata": {},
   "outputs": [],
   "source": [
    "# Permutation test\n",
    "def permutation_sample():\n",
    "    shuffled_labels = np.random.permutation(weather.column(\"Month\"))\n",
    "    shuffled = weather.with_column(\"Shuffled Month\", shuffled_labels)\n",
    "    april_shuffled = shuffled.where(\"Shuffled Month\", 4)\n",
    "    other_shuffled = shuffled.where(\"Shuffled Month\", are.not_equal_to(4))\n",
    "    return april_shuffled.column(\"Precipitation\").mean() - other_shuffled.column(\"Precipitation\").mean()\n",
    "\n",
    "simulated_diffs = [permutation_sample() for _ in range(1000)]"
   ]
  },
  {
   "cell_type": "code",
   "execution_count": 8,
   "id": "35605539-31d4-42a9-b726-5e8a5b02b5cd",
   "metadata": {},
   "outputs": [
    {
     "data": {
      "image/png": "[encoded data removed]",
      "text/plain": [
       "<Figure size 600x400 with 1 Axes>"
      ]
     },
     "metadata": {},
     "output_type": "display_data"
    }
   ],
   "source": [
    "# Plot\n",
    "Table().with_column(\"Simulated Differences\", simulated_diffs).hist()\n",
    "plt.axvline(observed_diff, color='red', label='Observed Difference')\n",
    "plt.legend()\n",
    "plt.show()"
   ]
  },
  {
   "cell_type": "code",
   "execution_count": 9,
   "id": "99824714-397f-4fdc-a3a4-32939c4a5c42",
   "metadata": {},
   "outputs": [
    {
     "name": "stdout",
     "output_type": "stream",
     "text": [
      "Empirical p-value: 0.06\n"
     ]
    }
   ],
   "source": [
    "# Empirical p-value\n",
    "p_val = np.count_nonzero(np.array(simulated_diffs) >= observed_diff) / 1000\n",
    "print(\"Empirical p-value:\", p_val)"
   ]
  },
  {
   "cell_type": "markdown",
   "id": "74c6712c-31c5-4051-8607-858fb02e0214",
   "metadata": {},
   "source": [
    "If p < 0.05: \"We have evidence that April was unusually rainy.\"\n",
    "\n",
    "Else: \"We don't have enough evidence to say April was different.\""
   ]
  },
  {
   "cell_type": "markdown",
   "id": "1f6d206c-15a1-4f4f-9f41-7029856a4207",
   "metadata": {},
   "source": [
    "## Your usual one sample test"
   ]
  },
  {
   "cell_type": "code",
   "execution_count": 65,
   "id": "002ee49a-cb56-499b-997d-ed3e6fcf758f",
   "metadata": {},
   "outputs": [
    {
     "name": "stdout",
     "output_type": "stream",
     "text": [
      "April Mean Precipitation: 5.57358307508\n"
     ]
    }
   ],
   "source": [
    "# Step 1: Calculate April's mean\n",
    "april_precip = weather.where(\"Month\", 4).column(\"Precipitation\")\n",
    "april_mean = np.mean(april_precip)\n",
    "\n",
    "print(\"April Mean Precipitation:\", april_mean)"
   ]
  },
  {
   "cell_type": "code",
   "execution_count": 73,
   "id": "1b236ce9-a923-4c7c-96c9-a3703c99454c",
   "metadata": {},
   "outputs": [],
   "source": [
    "# Step 2: Build null distribution\n",
    "# Sample 30 days at random (without regard to month), repeat\n",
    "simulated_means = []\n",
    "for _ in range(1000):\n",
    "    sample = weather.sample(30)\n",
    "    simulated_means.append(sample.column(\"Precipitation\").mean())"
   ]
  },
  {
   "cell_type": "code",
   "execution_count": 74,
   "id": "d84a3dc8-dc07-4840-a4f5-a73d29770a47",
   "metadata": {},
   "outputs": [
    {
     "data": {
      "image/png": "[encoded data removed]",
      "text/plain": [
       "<Figure size 600x400 with 1 Axes>"
      ]
     },
     "metadata": {},
     "output_type": "display_data"
    }
   ],
   "source": [
    "# Step 3: Plot\n",
    "Table().with_column(\"Simulated Means\", simulated_means).hist()\n",
    "plt.axvline(april_mean, color='red', label='April Mean')\n",
    "plt.legend()\n",
    "plt.show()"
   ]
  },
  {
   "cell_type": "code",
   "execution_count": 75,
   "id": "ac2e813e-dedc-447a-b59e-8461e054ebcc",
   "metadata": {},
   "outputs": [
    {
     "name": "stdout",
     "output_type": "stream",
     "text": [
      "Empirical p-value: 0.075\n"
     ]
    }
   ],
   "source": [
    "# Step 4: Compute empirical p-value (one-sided: April mean is high)\n",
    "p_val = np.count_nonzero(np.array(simulated_means) >= april_mean) / 1000\n",
    "print(\"Empirical p-value:\", p_val)"
   ]
  },
  {
   "cell_type": "markdown",
   "id": "f0e68d7b-f641-44a9-b5db-ad0ebfc68620",
   "metadata": {},
   "source": [
    "#### If p_val < 0.05, April is significantly rainier than we’d expect from a random 30-day period."
   ]
  },
  {
   "cell_type": "code",
   "execution_count": null,
   "id": "08cec300-bf71-4bb8-bff8-e5222abaab8f",
   "metadata": {},
   "outputs": [],
   "source": []
  }
 ],
 "metadata": {
  "kernelspec": {
   "display_name": "Python 3 (ipykernel)",
   "language": "python",
   "name": "python3"
  },
  "language_info": {
   "codemirror_mode": {
    "name": "ipython",
    "version": 3
   },
   "file_extension": ".py",
   "mimetype": "text/x-python",
   "name": "python",
   "nbconvert_exporter": "python",
   "pygments_lexer": "ipython3",
   "version": "3.12.9"
  }
 },
 "nbformat": 4,
 "nbformat_minor": 5
}
