{
  "nbformat": 4,
  "nbformat_minor": 0,
  "metadata": {
    "colab": {
      "provenance": []
    },
    "kernelspec": {
      "name": "python3",
      "display_name": "Python 3"
    },
    "language_info": {
      "name": "python"
    }
  },
  "cells": [
    {
      "cell_type": "code",
      "execution_count": null,
      "metadata": {
        "colab": {
          "base_uri": "https://localhost:8080/"
        },
        "id": "hZN2fHoBhCK-",
        "outputId": "86d3cc55-a752-41c9-a5b7-114d1b1a2664"
      },
      "outputs": [
        {
          "output_type": "stream",
          "name": "stdout",
          "text": [
            "%%ai cells will not work in this notebook\n",
            "Please use Gemini for AI queries instead\n",
            "Mounted at /content/drive\n",
            "Retrieving folder contents\n",
            "Processing file 1hOMU36QJH-8E1xMqZqick7tdYPtRqXWc codes.csv\n",
            "Processing file 1-pQmPDnV44eDEVIOm_dglgktbO1ng7pe data_science_salaries_raw.csv\n",
            "Processing file 1Cl56p5ygZPsG_TdGagMpd2wxMAnsNUN0 ucsb-f25-courses.csv\n",
            "Processing file 1A6TJBGq7Fg5eO_4XrHgrRRM27RRxB6w7 ucsb-m25-courses.csv\n",
            "Processing file 1KqFgPgttI11ADhBdGWipQ4RaCyM7S8iZ ucsb-s25-courses.csv\n",
            "Processing file 1DHBdvECi_-cQtiJ1FZl4v_JfLgAMrauE world_happiness_2015.csv\n",
            "Processing file 10lU_ehl4CmZqXZ8Ow4tz_G4zHvB9kkwV world_happiness_2019.csv\n",
            "Retrieving folder contents completed\n",
            "Building directory structure\n",
            "Building directory structure completed\n",
            "Downloading...\n",
            "From: https://drive.google.com/uc?id=1hOMU36QJH-8E1xMqZqick7tdYPtRqXWc\n",
            "To: /content/data/codes.csv\n",
            "100% 6.40k/6.40k [00:00<00:00, 18.2MB/s]\n",
            "Downloading...\n",
            "From: https://drive.google.com/uc?id=1-pQmPDnV44eDEVIOm_dglgktbO1ng7pe\n",
            "To: /content/data/data_science_salaries_raw.csv\n",
            "100% 388k/388k [00:00<00:00, 10.4MB/s]\n",
            "Downloading...\n",
            "From: https://drive.google.com/uc?id=1Cl56p5ygZPsG_TdGagMpd2wxMAnsNUN0\n",
            "To: /content/data/ucsb-f25-courses.csv\n",
            "100% 333k/333k [00:00<00:00, 17.9MB/s]\n",
            "Downloading...\n",
            "From: https://drive.google.com/uc?id=1A6TJBGq7Fg5eO_4XrHgrRRM27RRxB6w7\n",
            "To: /content/data/ucsb-m25-courses.csv\n",
            "100% 136k/136k [00:00<00:00, 11.8MB/s]\n",
            "Downloading...\n",
            "From: https://drive.google.com/uc?id=1KqFgPgttI11ADhBdGWipQ4RaCyM7S8iZ\n",
            "To: /content/data/ucsb-s25-courses.csv\n",
            "100% 467k/467k [00:00<00:00, 20.1MB/s]\n",
            "Downloading...\n",
            "From: https://drive.google.com/uc?id=1DHBdvECi_-cQtiJ1FZl4v_JfLgAMrauE\n",
            "To: /content/data/world_happiness_2015.csv\n",
            "100% 16.6k/16.6k [00:00<00:00, 49.0MB/s]\n",
            "Downloading...\n",
            "From: https://drive.google.com/uc?id=10lU_ehl4CmZqXZ8Ow4tz_G4zHvB9kkwV\n",
            "To: /content/data/world_happiness_2019.csv\n",
            "100% 8.82k/8.82k [00:00<00:00, 34.5MB/s]\n",
            "Download completed\n",
            "total 1344\n",
            "-rw-r--r-- 1 root root   6398 May  3 23:18 codes.csv\n",
            "-rw-r--r-- 1 root root 388472 May 12 01:18 data_science_salaries_raw.csv\n",
            "-rw-r--r-- 1 root root 333319 May  3 16:55 ucsb-f25-courses.csv\n",
            "-rw-r--r-- 1 root root 136234 May  3 16:55 ucsb-m25-courses.csv\n",
            "-rw-r--r-- 1 root root 467356 May  1 20:25 ucsb-s25-courses.csv\n",
            "-rw-r--r-- 1 root root  16557 May 12 18:04 world_happiness_2015.csv\n",
            "-rw-r--r-- 1 root root   8822 May 12 18:04 world_happiness_2019.csv\n"
          ]
        }
      ],
      "source": [
        "# Run this cell once when starting on notebook.\n",
        "# On Google Colab, wait for the Google Drive permission prompts before proceeding\n",
        "import matplotlib.pyplot as plt\n",
        "%matplotlib inline\n",
        "import os\n",
        "import sys\n",
        "try:\n",
        "    %load_ext jupyter_ai_magics\n",
        "except:\n",
        "    print(\"%%ai cells will not work in this notebook\")\n",
        "    print(\"Please use Gemini for AI queries instead\")\n",
        "from datascience import *\n",
        "import numpy as np\n",
        "import math\n",
        "\n",
        "DATA_FOLDER=\"data/\"\n",
        "try:\n",
        "  from google.colab import drive\n",
        "  drive.mount('/content/drive', force_remount=True)\n",
        "  !mkdir -p /content/data\n",
        "  !gdown --folder https://drive.google.com/drive/folders/1XifjqyxFHvjK6nOUi4doYsG12hGPhOcI?usp=drive_link -O /content/data\n",
        "  DATA_FOLDER = DATA_FOLDER.replace(\"data/\", \"/content/data/\")\n",
        "  !ls -l /content/data\n",
        "except:\n",
        "  print(\"Google Drive not mounted; this is normal on Jupyter Hub\")\n"
      ]
    },
    {
      "cell_type": "markdown",
      "source": [
        "# Lecture 15, CMPSC 5A, S25\n",
        "\n",
        "Tue 05/20/2025, Week 8\n",
        "\n",
        "Google Colab versions of lecture notebooks can be found in this folder:\n",
        "* <https://drive.google.com/drive/folders/1jS1Fa0BpGUVaijXwIYX0I21Un6XOGQM-?usp=sharing>\n",
        "\n",
        "Note that the Google Colab version will have any updates made during class, while the copy on Jupyter Hub may not.\n"
      ],
      "metadata": {
        "id": "mYtNl-6GhLX3"
      }
    },
    {
      "cell_type": "markdown",
      "source": [
        "# Midterm Project\n",
        "\n",
        "Any questions about the midterm project?\n",
        "\n",
        "* For reference, here's a link to the [General Instructions, CS5A S25 Midterm](https://docs.google.com/document/d/1gYMuXukOTtJkEthxUeHmWuA1Qn9BtIYkSJa37Gb524E/edit?usp=sharing)\n",
        "\n"
      ],
      "metadata": {
        "id": "EQbVKOcXkGRo"
      }
    },
    {
      "cell_type": "markdown",
      "source": [
        "# The rest of the course\n",
        "\n",
        "| Week | Tue | Wed | Thu | Fri |\n",
        "|-|-|-|-|-|\n",
        "| 8 | | 05/21 Start lab05 (required) | | |\n",
        "| 8 | | 05/21 Start worksheet7 (optional) | | |\n",
        "| 9 | 05/27 lab05 due (required) | start final projects* (required) | |\n",
        "| 9 | 05/27 worksheet7 due (optional) | (*earlier if available) | |\n",
        "| 9 |                                 | start worksheet8 (optional) | |\n",
        "| 10 | 06/03 worksheet8 due (optional) | *(time to work on final)* | final projects (notebook due) | final projects (slides, video due) |\n",
        "\n"
      ],
      "metadata": {
        "id": "9m2cxjLMSU09"
      }
    },
    {
      "cell_type": "markdown",
      "source": [
        "\n",
        "## ic24 Participation Assignment\n",
        "\n",
        "TODO: Create this and link to it on Gradescope\n",
        "\n",
        "Just one today, on Gradescope as [ic24]()\n",
        "\n"
      ],
      "metadata": {
        "id": "mm3oaAvJkFRK"
      }
    },
    {
      "cell_type": "markdown",
      "source": [
        "\n",
        "# Where are we in the reading?\n",
        "\n",
        "By today, you should have finished reading:\n",
        "\n",
        "* [Chapter 1: What is Data Science](https://inferentialthinking.com/chapters/01/what-is-data-science.html)\n",
        "* [Chapter 2 Causality and Experiments](https://inferentialthinking.com/chapters/02/causality-and-experiments.html)\n",
        "* [Chapter 3: Programming in Python](https://inferentialthinking.com/chapters/03/programming-in-python.html)\n",
        "* [Chapter 4: Data Types](https://inferentialthinking.com/chapters/04/Data_Types.html)\n",
        "* [Chapter 5: Sequences](https://inferentialthinking.com/chapters/05/Sequences.html)\n",
        "* [Chapter 6: Tables](https://inferentialthinking.com/chapters/06/Tables.html)\n",
        "* [Chapter 7: Visualization](https://inferentialthinking.com/chapters/07/Visualization.html)\n",
        "* [Chapter 8: Functions and Tables (Intro)](https://inferentialthinking.com/chapters/08/Functions_and_Tables.html)\n",
        "* [Chapter 9: Randomness](https://inferentialthinking.com/chapters/09/Randomness.html)\n",
        "\n",
        "New Reading for Today (week 8, 05/20):\n",
        "\n",
        "* [Chapter 14 (intro, Why the Mean Matters)](https://inferentialthinking.com/chapters/14/Why_the_Mean_Matters.html)\n",
        "* [Section 14.1, (Properties of the Mean)](https://inferentialthinking.com/chapters/14/1/Properties_of_the_Mean.html)\n",
        "* [Section 14.2, (Variability)](https://inferentialthinking.com/chapters/14/2/Variability.html)\n",
        "* [Section 15.1, (Correlation)](https://inferentialthinking.com/chapters/15/1/Correlation.html)\n",
        "\n",
        "*New Reading for next Thursday (week 8, 05/22):*\n",
        "\n",
        "* [Chapter 10 (Sampling and Empirical Distributions)](https://inferentialthinking.com/chapters/10/Sampling_and_Empirical_Distributions.html)\n",
        "\n",
        "*New Reading for Tuesday (week 9, 05/27):*\n",
        "\n",
        "* [Chapter 11 (Testing Hypotheses, including p-values)](https://inferentialthinking.com/chapters/11/Testing_Hypotheses.html) (**Needed for final project**)\n",
        "\n",
        "New Reading for Thursday (week 9, 05/29):\n",
        "* [Chapter 12 (Comparing Two Samples, including A/B testing)](https://inferentialthinking.com/chapters/11/Testing_Hypotheses.html) (**Needed for final project**)\n",
        "\n",
        "Unless I update you otherwise, this is all the reading for the quarter.\n",
        "\n"
      ],
      "metadata": {
        "id": "EHfRHuV6AEHA"
      }
    },
    {
      "cell_type": "code",
      "source": [],
      "metadata": {
        "id": "uGhtLF1WQvbD"
      },
      "execution_count": null,
      "outputs": []
    },
    {
      "cell_type": "markdown",
      "source": [
        "# Midterm Announcements: Limited Extension to Check your work\n",
        "\n",
        "I'm announcing a *limited* extension to the deadline for the midterm notebook, slides and video.\n",
        "\n",
        "The purpose of this extension is one thing, and one thing only:\n",
        "* We are clarifying one part of the instructions/rubric\n",
        "* We are giving you a chance, *assuming you were already on track for the original deadline* to check your work.\n",
        "* This is *not* extra time to work on the project, so no further extensions will be given.\n",
        "\n",
        "(I do note that every group submitted the notebook already, so thanks for that!)\n",
        "\n",
        "Here's the clarification:\n",
        "\n",
        "* The old rubric had an item on it where you would lose points for using \"python and data science concepts not covered in class\".\n",
        "* I understand the *intent* of that old rubric item; it was to penalize students that just blindly copy code from an AI result or advice from an advanced student *without understanding*.\n",
        "* BUT: I objected to the wording of this.  I am *fine* with:\n",
        "  * Students that use material not covered in class *when it's from an AI prompt, and they have shown their prompt, and explained in the workflow*\n",
        "  * Students that use material not covered in class *when they read ahead in the textbook, or used other online materials to learn something useful*, and they are able to explain what they did and why, and show that they *understand* their code (in the workflow description).\n",
        "\n",
        "SO: The new rubric item is:\n",
        "* Used concepts not covered in class *without adequate explanation demonstrating understanding* through some combination of including the AI prompts and detailed workflow explanations.\n",
        "\n",
        "## What *you need to do*:\n",
        "\n",
        "Go over your group's notebook and be sure that for every code cell:\n",
        "* If you used AI, you included the prompt.\n",
        "* You have explanations in the workflow cell about how you got the answers you got\n",
        "* If you used things not covered in class, be *extra* sure that you did both of these two things.\n",
        "\n",
        "For the notebook, if you already submitted, and the URL is staying the same, you do NOT need to resubmit.  Just know that we won't start grading until after the deadline Wednesday night at midnight.\n",
        "\n",
        "I've also extended the deadline for the slides and video to Thursday so that you'll have time to do this final check.\n",
        "\n"
      ],
      "metadata": {
        "id": "WRwn5JwpZyk6"
      }
    },
    {
      "cell_type": "markdown",
      "source": [],
      "metadata": {
        "id": "Buq2pFwRZyfu"
      }
    },
    {
      "cell_type": "markdown",
      "source": [
        "# An introduction to p values\n",
        "\n",
        "Last time we looked at the [World Happiness Dataset from Kaggle.com](https://www.kaggle.com/datasets/unsdsn/world-happiness) for 2015 and found some interesting correlations.  \n",
        "\n",
        "Here is a review of what we found:\n",
        "\n",
        "First, we loaded the dataset:\n",
        "\n",
        "\n",
        "\n"
      ],
      "metadata": {
        "id": "Mesf_schQyXT"
      }
    },
    {
      "cell_type": "markdown",
      "source": [],
      "metadata": {
        "id": "ZZ9xrDS8oTqc"
      }
    },
    {
      "cell_type": "code",
      "source": [
        "happiness_raw = Table.read_table(DATA_FOLDER + \"world_happiness_2015.csv\")\n",
        "happiness_raw"
      ],
      "metadata": {
        "colab": {
          "base_uri": "https://localhost:8080/",
          "height": 445
        },
        "id": "KAZVzvCtqmN9",
        "outputId": "deeb7a54-d128-4280-af98-83c89c2a7369"
      },
      "execution_count": null,
      "outputs": [
        {
          "output_type": "execute_result",
          "data": {
            "text/plain": [
              "Country     | Region                    | Happiness Rank | Happiness Score | Standard Error | Economy (GDP per Capita) | Family  | Health (Life Expectancy) | Freedom | Trust (Government Corruption) | Generosity | Dystopia Residual\n",
              "Switzerland | Western Europe            | 1              | 7.587           | 0.03411        | 1.39651                  | 1.34951 | 0.94143                  | 0.66557 | 0.41978                       | 0.29678    | 2.51738\n",
              "Iceland     | Western Europe            | 2              | 7.561           | 0.04884        | 1.30232                  | 1.40223 | 0.94784                  | 0.62877 | 0.14145                       | 0.4363     | 2.70201\n",
              "Denmark     | Western Europe            | 3              | 7.527           | 0.03328        | 1.32548                  | 1.36058 | 0.87464                  | 0.64938 | 0.48357                       | 0.34139    | 2.49204\n",
              "Norway      | Western Europe            | 4              | 7.522           | 0.0388         | 1.459                    | 1.33095 | 0.88521                  | 0.66973 | 0.36503                       | 0.34699    | 2.46531\n",
              "Canada      | North America             | 5              | 7.427           | 0.03553        | 1.32629                  | 1.32261 | 0.90563                  | 0.63297 | 0.32957                       | 0.45811    | 2.45176\n",
              "Finland     | Western Europe            | 6              | 7.406           | 0.0314         | 1.29025                  | 1.31826 | 0.88911                  | 0.64169 | 0.41372                       | 0.23351    | 2.61955\n",
              "Netherlands | Western Europe            | 7              | 7.378           | 0.02799        | 1.32944                  | 1.28017 | 0.89284                  | 0.61576 | 0.31814                       | 0.4761     | 2.4657\n",
              "Sweden      | Western Europe            | 8              | 7.364           | 0.03157        | 1.33171                  | 1.28907 | 0.91087                  | 0.6598  | 0.43844                       | 0.36262    | 2.37119\n",
              "New Zealand | Australia and New Zealand | 9              | 7.286           | 0.03371        | 1.25018                  | 1.31967 | 0.90837                  | 0.63938 | 0.42922                       | 0.47501    | 2.26425\n",
              "Australia   | Australia and New Zealand | 10             | 7.284           | 0.04083        | 1.33358                  | 1.30923 | 0.93156                  | 0.65124 | 0.35637                       | 0.43562    | 2.26646\n",
              "... (148 rows omitted)"
            ],
            "text/html": [
              "<table border=\"1\" class=\"dataframe\">\n",
              "    <thead>\n",
              "        <tr>\n",
              "            <th>Country</th> <th>Region</th> <th>Happiness Rank</th> <th>Happiness Score</th> <th>Standard Error</th> <th>Economy (GDP per Capita)</th> <th>Family</th> <th>Health (Life Expectancy)</th> <th>Freedom</th> <th>Trust (Government Corruption)</th> <th>Generosity</th> <th>Dystopia Residual</th>\n",
              "        </tr>\n",
              "    </thead>\n",
              "    <tbody>\n",
              "        <tr>\n",
              "            <td>Switzerland</td> <td>Western Europe           </td> <td>1             </td> <td>7.587          </td> <td>0.03411       </td> <td>1.39651                 </td> <td>1.34951</td> <td>0.94143                 </td> <td>0.66557</td> <td>0.41978                      </td> <td>0.29678   </td> <td>2.51738          </td>\n",
              "        </tr>\n",
              "        <tr>\n",
              "            <td>Iceland    </td> <td>Western Europe           </td> <td>2             </td> <td>7.561          </td> <td>0.04884       </td> <td>1.30232                 </td> <td>1.40223</td> <td>0.94784                 </td> <td>0.62877</td> <td>0.14145                      </td> <td>0.4363    </td> <td>2.70201          </td>\n",
              "        </tr>\n",
              "        <tr>\n",
              "            <td>Denmark    </td> <td>Western Europe           </td> <td>3             </td> <td>7.527          </td> <td>0.03328       </td> <td>1.32548                 </td> <td>1.36058</td> <td>0.87464                 </td> <td>0.64938</td> <td>0.48357                      </td> <td>0.34139   </td> <td>2.49204          </td>\n",
              "        </tr>\n",
              "        <tr>\n",
              "            <td>Norway     </td> <td>Western Europe           </td> <td>4             </td> <td>7.522          </td> <td>0.0388        </td> <td>1.459                   </td> <td>1.33095</td> <td>0.88521                 </td> <td>0.66973</td> <td>0.36503                      </td> <td>0.34699   </td> <td>2.46531          </td>\n",
              "        </tr>\n",
              "        <tr>\n",
              "            <td>Canada     </td> <td>North America            </td> <td>5             </td> <td>7.427          </td> <td>0.03553       </td> <td>1.32629                 </td> <td>1.32261</td> <td>0.90563                 </td> <td>0.63297</td> <td>0.32957                      </td> <td>0.45811   </td> <td>2.45176          </td>\n",
              "        </tr>\n",
              "        <tr>\n",
              "            <td>Finland    </td> <td>Western Europe           </td> <td>6             </td> <td>7.406          </td> <td>0.0314        </td> <td>1.29025                 </td> <td>1.31826</td> <td>0.88911                 </td> <td>0.64169</td> <td>0.41372                      </td> <td>0.23351   </td> <td>2.61955          </td>\n",
              "        </tr>\n",
              "        <tr>\n",
              "            <td>Netherlands</td> <td>Western Europe           </td> <td>7             </td> <td>7.378          </td> <td>0.02799       </td> <td>1.32944                 </td> <td>1.28017</td> <td>0.89284                 </td> <td>0.61576</td> <td>0.31814                      </td> <td>0.4761    </td> <td>2.4657           </td>\n",
              "        </tr>\n",
              "        <tr>\n",
              "            <td>Sweden     </td> <td>Western Europe           </td> <td>8             </td> <td>7.364          </td> <td>0.03157       </td> <td>1.33171                 </td> <td>1.28907</td> <td>0.91087                 </td> <td>0.6598 </td> <td>0.43844                      </td> <td>0.36262   </td> <td>2.37119          </td>\n",
              "        </tr>\n",
              "        <tr>\n",
              "            <td>New Zealand</td> <td>Australia and New Zealand</td> <td>9             </td> <td>7.286          </td> <td>0.03371       </td> <td>1.25018                 </td> <td>1.31967</td> <td>0.90837                 </td> <td>0.63938</td> <td>0.42922                      </td> <td>0.47501   </td> <td>2.26425          </td>\n",
              "        </tr>\n",
              "        <tr>\n",
              "            <td>Australia  </td> <td>Australia and New Zealand</td> <td>10            </td> <td>7.284          </td> <td>0.04083       </td> <td>1.33358                 </td> <td>1.30923</td> <td>0.93156                 </td> <td>0.65124</td> <td>0.35637                      </td> <td>0.43562   </td> <td>2.26646          </td>\n",
              "        </tr>\n",
              "    </tbody>\n",
              "</table>\n",
              "<p>... (148 rows omitted)</p>"
            ]
          },
          "metadata": {},
          "execution_count": 4
        }
      ]
    },
    {
      "cell_type": "markdown",
      "source": [
        "Then we relabelled some colums to make it easier to work with:"
      ],
      "metadata": {
        "id": "qX-ct18Fro3y"
      }
    },
    {
      "cell_type": "code",
      "source": [
        "happiness = happiness_raw \\\n",
        "  .relabel(\"Happiness Rank\",\"Rank\")  \\\n",
        "  .relabel(\"Happiness Score\", \"Score\") \\\n",
        "  .relabel(\"Standard Error\", \"Error\") \\\n",
        "  .relabel(\"Economy (GDP per Capita)\", \"Economy\") \\\n",
        "  .relabel(\"Health (Life Expectancy)\", \"Health\") \\\n",
        "  .relabel(\"Trust (Government Corruption)\", \"Trust\") \\\n",
        "  .relabel(\"Dystopia Residual\", \"Dystopia\")\n",
        "happiness"
      ],
      "metadata": {
        "id": "zZmRsS4WYSof",
        "colab": {
          "base_uri": "https://localhost:8080/",
          "height": 392
        },
        "outputId": "f72b40bd-ba43-48f1-e226-3f68353f1533"
      },
      "execution_count": null,
      "outputs": [
        {
          "output_type": "execute_result",
          "data": {
            "text/plain": [
              "Country     | Region                    | Rank | Score | Error   | Economy | Family  | Health  | Freedom | Trust   | Generosity | Dystopia\n",
              "Switzerland | Western Europe            | 1    | 7.587 | 0.03411 | 1.39651 | 1.34951 | 0.94143 | 0.66557 | 0.41978 | 0.29678    | 2.51738\n",
              "Iceland     | Western Europe            | 2    | 7.561 | 0.04884 | 1.30232 | 1.40223 | 0.94784 | 0.62877 | 0.14145 | 0.4363     | 2.70201\n",
              "Denmark     | Western Europe            | 3    | 7.527 | 0.03328 | 1.32548 | 1.36058 | 0.87464 | 0.64938 | 0.48357 | 0.34139    | 2.49204\n",
              "Norway      | Western Europe            | 4    | 7.522 | 0.0388  | 1.459   | 1.33095 | 0.88521 | 0.66973 | 0.36503 | 0.34699    | 2.46531\n",
              "Canada      | North America             | 5    | 7.427 | 0.03553 | 1.32629 | 1.32261 | 0.90563 | 0.63297 | 0.32957 | 0.45811    | 2.45176\n",
              "Finland     | Western Europe            | 6    | 7.406 | 0.0314  | 1.29025 | 1.31826 | 0.88911 | 0.64169 | 0.41372 | 0.23351    | 2.61955\n",
              "Netherlands | Western Europe            | 7    | 7.378 | 0.02799 | 1.32944 | 1.28017 | 0.89284 | 0.61576 | 0.31814 | 0.4761     | 2.4657\n",
              "Sweden      | Western Europe            | 8    | 7.364 | 0.03157 | 1.33171 | 1.28907 | 0.91087 | 0.6598  | 0.43844 | 0.36262    | 2.37119\n",
              "New Zealand | Australia and New Zealand | 9    | 7.286 | 0.03371 | 1.25018 | 1.31967 | 0.90837 | 0.63938 | 0.42922 | 0.47501    | 2.26425\n",
              "Australia   | Australia and New Zealand | 10   | 7.284 | 0.04083 | 1.33358 | 1.30923 | 0.93156 | 0.65124 | 0.35637 | 0.43562    | 2.26646\n",
              "... (148 rows omitted)"
            ],
            "text/html": [
              "<table border=\"1\" class=\"dataframe\">\n",
              "    <thead>\n",
              "        <tr>\n",
              "            <th>Country</th> <th>Region</th> <th>Rank</th> <th>Score</th> <th>Error</th> <th>Economy</th> <th>Family</th> <th>Health</th> <th>Freedom</th> <th>Trust</th> <th>Generosity</th> <th>Dystopia</th>\n",
              "        </tr>\n",
              "    </thead>\n",
              "    <tbody>\n",
              "        <tr>\n",
              "            <td>Switzerland</td> <td>Western Europe           </td> <td>1   </td> <td>7.587</td> <td>0.03411</td> <td>1.39651</td> <td>1.34951</td> <td>0.94143</td> <td>0.66557</td> <td>0.41978</td> <td>0.29678   </td> <td>2.51738 </td>\n",
              "        </tr>\n",
              "        <tr>\n",
              "            <td>Iceland    </td> <td>Western Europe           </td> <td>2   </td> <td>7.561</td> <td>0.04884</td> <td>1.30232</td> <td>1.40223</td> <td>0.94784</td> <td>0.62877</td> <td>0.14145</td> <td>0.4363    </td> <td>2.70201 </td>\n",
              "        </tr>\n",
              "        <tr>\n",
              "            <td>Denmark    </td> <td>Western Europe           </td> <td>3   </td> <td>7.527</td> <td>0.03328</td> <td>1.32548</td> <td>1.36058</td> <td>0.87464</td> <td>0.64938</td> <td>0.48357</td> <td>0.34139   </td> <td>2.49204 </td>\n",
              "        </tr>\n",
              "        <tr>\n",
              "            <td>Norway     </td> <td>Western Europe           </td> <td>4   </td> <td>7.522</td> <td>0.0388 </td> <td>1.459  </td> <td>1.33095</td> <td>0.88521</td> <td>0.66973</td> <td>0.36503</td> <td>0.34699   </td> <td>2.46531 </td>\n",
              "        </tr>\n",
              "        <tr>\n",
              "            <td>Canada     </td> <td>North America            </td> <td>5   </td> <td>7.427</td> <td>0.03553</td> <td>1.32629</td> <td>1.32261</td> <td>0.90563</td> <td>0.63297</td> <td>0.32957</td> <td>0.45811   </td> <td>2.45176 </td>\n",
              "        </tr>\n",
              "        <tr>\n",
              "            <td>Finland    </td> <td>Western Europe           </td> <td>6   </td> <td>7.406</td> <td>0.0314 </td> <td>1.29025</td> <td>1.31826</td> <td>0.88911</td> <td>0.64169</td> <td>0.41372</td> <td>0.23351   </td> <td>2.61955 </td>\n",
              "        </tr>\n",
              "        <tr>\n",
              "            <td>Netherlands</td> <td>Western Europe           </td> <td>7   </td> <td>7.378</td> <td>0.02799</td> <td>1.32944</td> <td>1.28017</td> <td>0.89284</td> <td>0.61576</td> <td>0.31814</td> <td>0.4761    </td> <td>2.4657  </td>\n",
              "        </tr>\n",
              "        <tr>\n",
              "            <td>Sweden     </td> <td>Western Europe           </td> <td>8   </td> <td>7.364</td> <td>0.03157</td> <td>1.33171</td> <td>1.28907</td> <td>0.91087</td> <td>0.6598 </td> <td>0.43844</td> <td>0.36262   </td> <td>2.37119 </td>\n",
              "        </tr>\n",
              "        <tr>\n",
              "            <td>New Zealand</td> <td>Australia and New Zealand</td> <td>9   </td> <td>7.286</td> <td>0.03371</td> <td>1.25018</td> <td>1.31967</td> <td>0.90837</td> <td>0.63938</td> <td>0.42922</td> <td>0.47501   </td> <td>2.26425 </td>\n",
              "        </tr>\n",
              "        <tr>\n",
              "            <td>Australia  </td> <td>Australia and New Zealand</td> <td>10  </td> <td>7.284</td> <td>0.04083</td> <td>1.33358</td> <td>1.30923</td> <td>0.93156</td> <td>0.65124</td> <td>0.35637</td> <td>0.43562   </td> <td>2.26646 </td>\n",
              "        </tr>\n",
              "    </tbody>\n",
              "</table>\n",
              "<p>... (148 rows omitted)</p>"
            ]
          },
          "metadata": {},
          "execution_count": 5
        }
      ]
    },
    {
      "cell_type": "markdown",
      "source": [
        "We made some scatter plots (I'm not showing all of them now; just three of them to remind you):"
      ],
      "metadata": {
        "id": "dRJXM00ms09j"
      }
    },
    {
      "cell_type": "code",
      "source": [
        "# Uncomment  \"%matplotlib inline\" and run it again if graphs are not showing up;\n",
        "# Rerun the cell if you get multiple graphs stacked up\n",
        "\n",
        "%matplotlib inline\n",
        "happiness.scatter(\"Economy\",\"Score\")"
      ],
      "metadata": {
        "colab": {
          "base_uri": "https://localhost:8080/",
          "height": 471
        },
        "id": "TYQ3bK3ls0ty",
        "outputId": "01699b6e-e56e-45cf-f86c-7b7b8ca5c9e0"
      },
      "execution_count": null,
      "outputs": [
        {
          "output_type": "display_data",
          "data": {
            "text/plain": [
              "<Figure size 500x500 with 1 Axes>"
            ],
            "image/png": "[encoded data removed]"
          },
          "metadata": {}
        }
      ]
    },
    {
      "cell_type": "code",
      "source": [
        "happiness.scatter(\"Family\",\"Score\")"
      ],
      "metadata": {
        "colab": {
          "base_uri": "https://localhost:8080/",
          "height": 471
        },
        "id": "OJelxkCfsVHS",
        "outputId": "7d09ce23-4352-4a46-9603-4e136d68d343"
      },
      "execution_count": null,
      "outputs": [
        {
          "output_type": "display_data",
          "data": {
            "text/plain": [
              "<Figure size 500x500 with 1 Axes>"
            ],
            "image/png": "[encoded data removed]"
          },
          "metadata": {}
        }
      ]
    },
    {
      "cell_type": "code",
      "source": [
        "happiness.scatter(\"Health\",\"Score\")"
      ],
      "metadata": {
        "colab": {
          "base_uri": "https://localhost:8080/",
          "height": 471
        },
        "id": "PKkiVrgYsuaQ",
        "outputId": "f2b05f44-a1f2-4c7d-ac1e-e679e4dc80ff"
      },
      "execution_count": null,
      "outputs": [
        {
          "output_type": "display_data",
          "data": {
            "text/plain": [
              "<Figure size 500x500 with 1 Axes>"
            ],
            "image/png": "[encoded data removed]"
          },
          "metadata": {}
        }
      ]
    },
    {
      "cell_type": "code",
      "source": [],
      "metadata": {
        "id": "LE1B6wdWubDB"
      },
      "execution_count": null,
      "outputs": []
    },
    {
      "cell_type": "markdown",
      "source": [
        "We talked about how these all seem to be vaguely correlated from a visual inspection.  But we wanted to see if we could quantify that.\n",
        "\n",
        "And for that, we used the *Pearson Correlation Coefficient*.   \n",
        "\n",
        "We first did this for two variables:\n"
      ],
      "metadata": {
        "id": "hfxfzsiTuc6P"
      }
    },
    {
      "cell_type": "code",
      "source": [
        "economy = np.array(happiness.column(\"Economy\"))\n",
        "score = np.array(happiness.column(\"Score\"))\n",
        "economy_vs_score = np.corrcoef(economy, score)\n",
        "economy_vs_score"
      ],
      "metadata": {
        "colab": {
          "base_uri": "https://localhost:8080/"
        },
        "id": "yomxj9UTvcsN",
        "outputId": "06c86e67-aa52-4ae2-a495-4715d3344e7d"
      },
      "execution_count": null,
      "outputs": [
        {
          "output_type": "execute_result",
          "data": {
            "text/plain": [
              "array([[ 1.        ,  0.78096553],\n",
              "       [ 0.78096553,  1.        ]])"
            ]
          },
          "metadata": {},
          "execution_count": 13
        }
      ]
    },
    {
      "cell_type": "markdown",
      "source": [
        "And we saw that we get the output back as a two by two matrix.\n",
        "\n",
        "We then did it for three variables:"
      ],
      "metadata": {
        "id": "eO8cD-8pvhsx"
      }
    },
    {
      "cell_type": "code",
      "source": [
        "economy = np.array(happiness.column(\"Economy\"))\n",
        "family = np.array(happiness.column(\"Family\"))\n",
        "score = np.array(happiness.column(\"Score\"))\n",
        "\n",
        "three_data_sets = np.array([economy, family, score])\n",
        "three_way_correlation = np.corrcoef(three_data_sets)\n",
        "three_way_correlation"
      ],
      "metadata": {
        "colab": {
          "base_uri": "https://localhost:8080/"
        },
        "id": "Vy3SmSSOvfNp",
        "outputId": "14808509-1d0e-45de-bcdd-6d84b2a28dd3"
      },
      "execution_count": null,
      "outputs": [
        {
          "output_type": "execute_result",
          "data": {
            "text/plain": [
              "array([[ 1.        ,  0.64529939,  0.78096553],\n",
              "       [ 0.64529939,  1.        ,  0.7406052 ],\n",
              "       [ 0.78096553,  0.7406052 ,  1.        ]])"
            ]
          },
          "metadata": {},
          "execution_count": 36
        }
      ]
    },
    {
      "cell_type": "markdown",
      "source": [
        "\n",
        "And as a reminder, this is how we interpret the data:\n",
        "\n",
        "|         | economy         | family         | score          |\n",
        "|---------|-----------------|----------------|----------------|\n",
        "| economy | economy,economy | economy,family | economy, score |\n",
        "| family  | family,economy  | family,family  | family, score  |\n",
        "| score   | quality,economy | score,family   | score, score   |\n"
      ],
      "metadata": {
        "id": "YYPz7inov8On"
      }
    },
    {
      "cell_type": "code",
      "source": [],
      "metadata": {
        "id": "DIUca2dgv6jp"
      },
      "execution_count": null,
      "outputs": []
    },
    {
      "cell_type": "markdown",
      "source": [
        "We can extended it to all of our variables:"
      ],
      "metadata": {
        "id": "h4SvMciQxcD3"
      }
    },
    {
      "cell_type": "code",
      "source": [
        "economy = np.array(happiness.column(\"Economy\"))\n",
        "family = np.array(happiness.column(\"Family\"))\n",
        "score = np.array(happiness.column(\"Score\"))\n",
        "health = np.array(happiness.column(\"Health\"))\n",
        "freedom = np.array(happiness.column(\"Freedom\"))\n",
        "trust = np.array(happiness.column(\"Trust\"))\n",
        "generositty = np.array(happiness.column(\"Generosity\"))\n",
        "\n",
        "data_all = np.array([economy, family, score, health, freedom, trust, generositty])\n",
        "all_ways_correlation = np.corrcoef(data_all)\n",
        "all_ways_correlation"
      ],
      "metadata": {
        "colab": {
          "base_uri": "https://localhost:8080/"
        },
        "id": "IY4DUeAWxfWR",
        "outputId": "fa794891-0270-47b5-9e2a-d0d0dc9c03d2"
      },
      "execution_count": null,
      "outputs": [
        {
          "output_type": "execute_result",
          "data": {
            "text/plain": [
              "array([[ 1.        ,  0.64529939,  0.78096553,  0.816478  ,  0.37029971,\n",
              "         0.3078852 , -0.01046544],\n",
              "       [ 0.64529939,  1.        ,  0.7406052 ,  0.53110399,  0.44151821,\n",
              "         0.20560511,  0.08751324],\n",
              "       [ 0.78096553,  0.7406052 ,  1.        ,  0.7241996 ,  0.5682109 ,\n",
              "         0.39519858,  0.18031853],\n",
              "       [ 0.816478  ,  0.53110399,  0.7241996 ,  1.        ,  0.36047653,\n",
              "         0.24833468,  0.10833522],\n",
              "       [ 0.37029971,  0.44151821,  0.5682109 ,  0.36047653,  1.        ,\n",
              "         0.49352352,  0.37391613],\n",
              "       [ 0.3078852 ,  0.20560511,  0.39519858,  0.24833468,  0.49352352,\n",
              "         1.        ,  0.2761227 ],\n",
              "       [-0.01046544,  0.08751324,  0.18031853,  0.10833522,  0.37391613,\n",
              "         0.2761227 ,  1.        ]])"
            ]
          },
          "metadata": {},
          "execution_count": 37
        }
      ]
    },
    {
      "cell_type": "markdown",
      "source": [
        "But the output was confusing to read.  So we wrote a function to make things more convenient:\n",
        "\n",
        "It's called `calculate_correlation_table` and takes two arguments:\n",
        "* A table\n",
        "* A list of column names (as strings)\n",
        "\n",
        "It returns two results:\n",
        "* The matrix of Pearson Correlation Coefficients\n",
        "* A table of the results, sorted in descending order by correlation.\n",
        "\n",
        "It doesn't include correlations of columns with themselves, and it only includes each correlation once (i.e. if (a,b) is included, (b,a) is ommited.)"
      ],
      "metadata": {
        "id": "HhtHenVqzQnn"
      }
    },
    {
      "cell_type": "code",
      "source": [
        "def calculate_correlation_table(table, variable_names):\n",
        "\n",
        "  # First make a list of all the data we are going to pass to np.corrcoef\n",
        "\n",
        "  data_list = []\n",
        "  for name in variable_names:\n",
        "    data_list.append(np.array(table.column(name)))\n",
        "  data_array = np.array(data_list)\n",
        "\n",
        "  # Calculate the Pearson Coefficient matrix\n",
        "  all_ways_correlation = np.corrcoef(data_array)\n",
        "\n",
        "  # Make a list of dictionaries that we will use to construct a table\n",
        "  correlation_table_rows = [] # start with empty list\n",
        "  n = len(variable_names)  # n is the number of variables\n",
        "  for i in range(n):       # iterate 0 .. n-1\n",
        "    for j in range(i):     # iterate 0 to i (avoids listing a,b and b,a)\n",
        "      if i == j:           # don't include self correlation\n",
        "        continue           # continue \"skips\" to next iteration of the loop\n",
        "      # construct one row of the table as a Python dictionary\n",
        "      this_row = {\n",
        "          \"variable1\": variable_names[i],\n",
        "          \"variable2\": variable_names[j],\n",
        "          \"correlation\": all_ways_correlation[i][j]\n",
        "      }\n",
        "      correlation_table_rows.append(this_row) # add to the list\n",
        "\n",
        "  # Create a table from the list of dictionaries and sort\n",
        "  correlation_table = Table.from_records(correlation_table_rows) \\\n",
        "    .sort(\"correlation\",descending=True)\n",
        "  # return both results\n",
        "  return all_ways_correlation, correlation_table\n"
      ],
      "metadata": {
        "id": "88n2FuIexe8S"
      },
      "execution_count": null,
      "outputs": []
    },
    {
      "cell_type": "markdown",
      "source": [
        "And we tried it on the entire dataset:"
      ],
      "metadata": {
        "id": "In8ukbSD5LqV"
      }
    },
    {
      "cell_type": "code",
      "source": [
        "matrix_all, table_all = calculate_correlation_table(happiness, [\"Economy\", \"Family\", \"Health\", \"Freedom\", \"Trust\", \"Generosity\", \"Score\"])"
      ],
      "metadata": {
        "id": "Y8M3yHjt1NIL"
      },
      "execution_count": null,
      "outputs": []
    },
    {
      "cell_type": "code",
      "source": [
        "table_all.show()"
      ],
      "metadata": {
        "colab": {
          "base_uri": "https://localhost:8080/",
          "height": 708
        },
        "id": "Hxnkp5bZ5aSJ",
        "outputId": "6e3795d2-ad15-428d-db79-2188506b37e4"
      },
      "execution_count": null,
      "outputs": [
        {
          "output_type": "display_data",
          "data": {
            "text/plain": [
              "<IPython.core.display.HTML object>"
            ],
            "text/html": [
              "<table border=\"1\" class=\"dataframe\">\n",
              "    <thead>\n",
              "        <tr>\n",
              "            <th>correlation</th> <th>variable1</th> <th>variable2</th>\n",
              "        </tr>\n",
              "    </thead>\n",
              "    <tbody>\n",
              "        <tr>\n",
              "            <td>0.816478   </td> <td>Health    </td> <td>Economy   </td>\n",
              "        </tr>\n",
              "        <tr>\n",
              "            <td>0.780966   </td> <td>Score     </td> <td>Economy   </td>\n",
              "        </tr>\n",
              "        <tr>\n",
              "            <td>0.740605   </td> <td>Score     </td> <td>Family    </td>\n",
              "        </tr>\n",
              "        <tr>\n",
              "            <td>0.7242     </td> <td>Score     </td> <td>Health    </td>\n",
              "        </tr>\n",
              "        <tr>\n",
              "            <td>0.645299   </td> <td>Family    </td> <td>Economy   </td>\n",
              "        </tr>\n",
              "        <tr>\n",
              "            <td>0.568211   </td> <td>Score     </td> <td>Freedom   </td>\n",
              "        </tr>\n",
              "        <tr>\n",
              "            <td>0.531104   </td> <td>Health    </td> <td>Family    </td>\n",
              "        </tr>\n",
              "        <tr>\n",
              "            <td>0.493524   </td> <td>Trust     </td> <td>Freedom   </td>\n",
              "        </tr>\n",
              "        <tr>\n",
              "            <td>0.441518   </td> <td>Freedom   </td> <td>Family    </td>\n",
              "        </tr>\n",
              "        <tr>\n",
              "            <td>0.395199   </td> <td>Score     </td> <td>Trust     </td>\n",
              "        </tr>\n",
              "        <tr>\n",
              "            <td>0.373916   </td> <td>Generosity</td> <td>Freedom   </td>\n",
              "        </tr>\n",
              "        <tr>\n",
              "            <td>0.3703     </td> <td>Freedom   </td> <td>Economy   </td>\n",
              "        </tr>\n",
              "        <tr>\n",
              "            <td>0.360477   </td> <td>Freedom   </td> <td>Health    </td>\n",
              "        </tr>\n",
              "        <tr>\n",
              "            <td>0.307885   </td> <td>Trust     </td> <td>Economy   </td>\n",
              "        </tr>\n",
              "        <tr>\n",
              "            <td>0.276123   </td> <td>Generosity</td> <td>Trust     </td>\n",
              "        </tr>\n",
              "        <tr>\n",
              "            <td>0.248335   </td> <td>Trust     </td> <td>Health    </td>\n",
              "        </tr>\n",
              "        <tr>\n",
              "            <td>0.205605   </td> <td>Trust     </td> <td>Family    </td>\n",
              "        </tr>\n",
              "        <tr>\n",
              "            <td>0.180319   </td> <td>Score     </td> <td>Generosity</td>\n",
              "        </tr>\n",
              "        <tr>\n",
              "            <td>0.108335   </td> <td>Generosity</td> <td>Health    </td>\n",
              "        </tr>\n",
              "        <tr>\n",
              "            <td>0.0875132  </td> <td>Generosity</td> <td>Family    </td>\n",
              "        </tr>\n",
              "        <tr>\n",
              "            <td>-0.0104654 </td> <td>Generosity</td> <td>Economy   </td>\n",
              "        </tr>\n",
              "    </tbody>\n",
              "</table>"
            ]
          },
          "metadata": {}
        }
      ]
    },
    {
      "cell_type": "markdown",
      "source": [
        "## Are these correlations significant?\n",
        "\n",
        "There are some strong correlations here.  But are they *statistially significant*?\n",
        "\n",
        "When we say *statistically signficant*, we mean something very precise:\n",
        "\n",
        "* The probability that we are making a Type 1 Error is small (e.g. less than 5% or less than 1%)\n",
        "\n",
        "## What do we mean by Type 1 error?\n",
        "\n",
        "The fields of Statistics has defined two types of errors:\n",
        "\n",
        "* Type 1 Errors: You claim something is happening, but it really isn't.  \n",
        "  \n",
        "  For example in the case of a Pearson Correlation Coefficient, we might be claiming, based on some data, and a high coefficient that two variables are correlated, but in fact, this is just a freak accident.  \n",
        "  \n",
        "  For example, if we are studying a link between smoking and lung cancer,\n",
        "  and we pull 100 random medical records, there is some probability that just by *random chance*, nearly every single record of a smoker we pull is also someone that had lung cancer.\n",
        "  \n",
        "  That is, there are patients that had lung cancer and were not smokers, and there are smokers that never developed lung cancer, but our random selection process came up with very few of these; much fewer than exist in reality.\n",
        "\n",
        "  In this circumstance, our study would *overestimate* the correlation between lung cancer and smoking.  This would be a type 1 error.\n",
        "  \n",
        "\n",
        "* Type 2 Errors: Something is really there; but we miss it.\n",
        "\n",
        "  For example, suppose in our study, by random chance we hardly every pull a record of someone that's a smoker and had lung cancer.  The number we pull is much, much smaller than the number you'd expect, and it's just due to random chance.\n",
        "\n",
        "  So our study would *underestimate* the correlation bewteen lung cancer and smoking.\n",
        "\n",
        "For the Pearson Coefficient r, the tells us how likely it is that we'd  a correlation at least as strong as the one you got *purely by chance*, if the *true* correlation were zero.\n",
        "\n",
        "## Calculating the p values\n",
        "\n",
        "There isn't a direct way to calculate p values for Pearson coefficients in the Data 8 datascience module or in `numpy`, but we can use another module called `scipy` to do it.\n",
        "\n",
        "Here's an example. Let's return first to our first calculation for Pearson's $r$:\n"
      ],
      "metadata": {
        "id": "xclLHMHE5v_f"
      }
    },
    {
      "cell_type": "code",
      "source": [
        "economy = np.array(happiness.column(\"Economy\"))\n",
        "score = np.array(happiness.column(\"Score\"))\n",
        "economy_vs_score = np.corrcoef(economy, score)\n",
        "economy_vs_score"
      ],
      "metadata": {
        "id": "Hgn2ygta5cOD",
        "colab": {
          "base_uri": "https://localhost:8080/"
        },
        "outputId": "ce30e6d6-d6d5-46b8-f413-a2ccb8c786bd"
      },
      "execution_count": null,
      "outputs": [
        {
          "output_type": "execute_result",
          "data": {
            "text/plain": [
              "array([[ 1.        ,  0.78096553],\n",
              "       [ 0.78096553,  1.        ]])"
            ]
          },
          "metadata": {},
          "execution_count": 22
        }
      ]
    },
    {
      "cell_type": "code",
      "source": [],
      "metadata": {
        "id": "veIl78RuBl4C"
      },
      "execution_count": null,
      "outputs": []
    },
    {
      "cell_type": "markdown",
      "source": [
        "First we import scipy.stats"
      ],
      "metadata": {
        "id": "cgiedDRPBnE8"
      }
    },
    {
      "cell_type": "code",
      "source": [
        "import scipy.stats"
      ],
      "metadata": {
        "id": "xtQjGyl1Bofh"
      },
      "execution_count": null,
      "outputs": []
    },
    {
      "cell_type": "markdown",
      "source": [
        "Here's how to calculate both r and the p values using `scipy.stats.pearson`"
      ],
      "metadata": {
        "id": "o_VIwDULB2VE"
      }
    },
    {
      "cell_type": "markdown",
      "source": [],
      "metadata": {
        "id": "yvfKxppwByJX"
      }
    },
    {
      "cell_type": "code",
      "source": [
        "economy = np.array(happiness.column(\"Economy\"))\n",
        "score = np.array(happiness.column(\"Score\"))\n",
        "r, p_value = scipy.stats.pearsonr(economy, score)\n",
        "print(\"r:\", r)\n",
        "print(\"p value:\", p_value)"
      ],
      "metadata": {
        "colab": {
          "base_uri": "https://localhost:8080/"
        },
        "id": "wYwui35FBpPK",
        "outputId": "72f54dd2-813f-48c4-f755-c90769fbcdc4"
      },
      "execution_count": null,
      "outputs": [
        {
          "output_type": "stream",
          "name": "stdout",
          "text": [
            "r: 0.780965526866\n",
            "p value: 1.0505384132e-33\n"
          ]
        }
      ]
    },
    {
      "cell_type": "markdown",
      "source": [
        "That's a *very* small p value.  The `e-33` here means that this is expressed in scientific notation as $ 1.0505384132 \\times 10^{-33}$.\n",
        "\n",
        "The small p value is a result of at least two factors:\n",
        "* the strength of the coorelation\n",
        "* the relatively large number of items in the dataset\n",
        "\n",
        "If we had far fewer items in the dataset, or a weaker correlation, we might not get nearly as high a p-value.\n",
        "\n",
        "Let's explore that by taking one of the weaker correlations from our dataset:\n",
        "\n",
        "```\n",
        "0.180319 \tScore \tGenerosity\n",
        "```"
      ],
      "metadata": {
        "id": "W7h__oheCIVq"
      }
    },
    {
      "cell_type": "code",
      "source": [
        "score = np.array(happiness.column(\"Score\"))\n",
        "generosity = np.array(happiness.column(\"Generosity\"))\n",
        "r, p_value = scipy.stats.pearsonr(score, generosity)\n",
        "print(\"r:\", r)\n",
        "print(\"p value:\", p_value)"
      ],
      "metadata": {
        "colab": {
          "base_uri": "https://localhost:8080/"
        },
        "id": "uJdmGFbXB_wi",
        "outputId": "56f56dc1-1f44-4ae0-d6fd-d769213a1635"
      },
      "execution_count": null,
      "outputs": [
        {
          "output_type": "stream",
          "name": "stdout",
          "text": [
            "r: 0.180318526697\n",
            "p value: 0.0233787159128\n"
          ]
        }
      ]
    },
    {
      "cell_type": "markdown",
      "source": [
        "That's a much more common p value.  Still, the usual standard for \"statistical significance\" is a p value < 0.05.   The correlation here is weak, but statistically significant.\n",
        "\n",
        "One thing to take from this is that just because something is *statistically signficant* does not mean it is *significant*.  You can make anything *statistically* significant if the number of items in the data set is large enough!\n",
        "\n",
        "Let's try something else.  Let's take a few  samples of our dataset of different sizes and see what p values we get for the economy vs happiness score calculation; and let's do this twenty times.\n",
        "\n",
        "As you can see, for small sample sizes, both the p values and the calculated Pearson coefficients vary a lot!"
      ],
      "metadata": {
        "id": "YHNdsex7DUNX"
      }
    },
    {
      "cell_type": "code",
      "source": [
        "for i in range(20):\n",
        "  sample_5 = happiness.sample(5)\n",
        "  economy = np.array(sample_5.column(\"Economy\"))\n",
        "  score = np.array(sample_5.column(\"Score\"))\n",
        "  r, p_value = scipy.stats.pearsonr(economy, score)\n",
        "  print(f\"i={i:2} r={r:6.3f} p value={p_value:6.3f}\")\n"
      ],
      "metadata": {
        "colab": {
          "base_uri": "https://localhost:8080/"
        },
        "id": "sQt6aQcJDP-L",
        "outputId": "ba4bca5b-c960-42ff-cb51-fdbb048cb4d9"
      },
      "execution_count": null,
      "outputs": [
        {
          "output_type": "stream",
          "name": "stdout",
          "text": [
            "i= 0 r= 0.890 p value= 0.043\n",
            "i= 1 r= 0.813 p value= 0.094\n",
            "i= 2 r= 0.968 p value= 0.007\n",
            "i= 3 r= 0.872 p value= 0.054\n",
            "i= 4 r= 0.986 p value= 0.002\n",
            "i= 5 r= 0.989 p value= 0.001\n",
            "i= 6 r= 0.288 p value= 0.639\n",
            "i= 7 r= 0.877 p value= 0.051\n",
            "i= 8 r= 0.980 p value= 0.003\n",
            "i= 9 r= 0.844 p value= 0.072\n",
            "i=10 r= 0.866 p value= 0.057\n",
            "i=11 r= 0.933 p value= 0.021\n",
            "i=12 r= 0.913 p value= 0.030\n",
            "i=13 r= 0.714 p value= 0.175\n",
            "i=14 r= 0.361 p value= 0.550\n",
            "i=15 r= 0.798 p value= 0.106\n",
            "i=16 r= 0.462 p value= 0.434\n",
            "i=17 r= 0.773 p value= 0.125\n",
            "i=18 r= 0.785 p value= 0.116\n",
            "i=19 r= 0.890 p value= 0.043\n"
          ]
        }
      ]
    },
    {
      "cell_type": "markdown",
      "source": [
        "Let's try this with a larger sample size; 20 instead of 5.  You can see that a larger sample size gives us a much lower p value; and in the cases where the p values is large, it's associated with the fact that we ended up (randomly) choosing a randoms sample where the correlation was much weaker."
      ],
      "metadata": {
        "id": "Mc5i7awuFiKr"
      }
    },
    {
      "cell_type": "code",
      "source": [],
      "metadata": {
        "id": "aZ_59wVWFh_D"
      },
      "execution_count": null,
      "outputs": []
    },
    {
      "cell_type": "code",
      "source": [
        "for i in range(20):\n",
        "  sample_5 = happiness.sample(20)\n",
        "  economy = np.array(sample_5.column(\"Economy\"))\n",
        "  score = np.array(sample_5.column(\"Score\"))\n",
        "  r, p_value = scipy.stats.pearsonr(economy, score)\n",
        "  print(f\"i={i:2} r={r:6.3f} p value={p_value:6.3f}\")\n"
      ],
      "metadata": {
        "colab": {
          "base_uri": "https://localhost:8080/"
        },
        "id": "mPeM4FC3EK3v",
        "outputId": "08066565-cc65-4b70-f1c5-23cc6815fcd0"
      },
      "execution_count": null,
      "outputs": [
        {
          "output_type": "stream",
          "name": "stdout",
          "text": [
            "i= 0 r= 0.895 p value= 0.000\n",
            "i= 1 r= 0.862 p value= 0.000\n",
            "i= 2 r= 0.695 p value= 0.001\n",
            "i= 3 r= 0.858 p value= 0.000\n",
            "i= 4 r= 0.885 p value= 0.000\n",
            "i= 5 r= 0.800 p value= 0.000\n",
            "i= 6 r= 0.440 p value= 0.052\n",
            "i= 7 r= 0.819 p value= 0.000\n",
            "i= 8 r= 0.642 p value= 0.002\n",
            "i= 9 r= 0.834 p value= 0.000\n",
            "i=10 r= 0.820 p value= 0.000\n",
            "i=11 r= 0.760 p value= 0.000\n",
            "i=12 r= 0.687 p value= 0.001\n",
            "i=13 r= 0.758 p value= 0.000\n",
            "i=14 r= 0.739 p value= 0.000\n",
            "i=15 r= 0.679 p value= 0.001\n",
            "i=16 r= 0.773 p value= 0.000\n",
            "i=17 r= 0.848 p value= 0.000\n",
            "i=18 r= 0.808 p value= 0.000\n",
            "i=19 r= 0.891 p value= 0.000\n"
          ]
        }
      ]
    },
    {
      "cell_type": "markdown",
      "source": [
        "Let's now incorporate this into our function that makes a table of correlations:"
      ],
      "metadata": {
        "id": "Kx7ACIsrGBjk"
      }
    },
    {
      "cell_type": "code",
      "source": [
        "def calculate_correlation_table_with_p_values(table, variable_names):\n",
        "\n",
        "  # First make a list of all the data we are going to pass to np.corrcoef\n",
        "\n",
        "  data_dict = {}\n",
        "  for name in variable_names:\n",
        "    data_dict[name] = np.array(table.column(name))\n",
        "\n",
        "  # Make a list of dictionaries that we will use to construct a table\n",
        "  correlation_table_rows = [] # start with empty list\n",
        "  n = len(variable_names)  # n is the number of variables\n",
        "  for i in range(n):       # iterate 0 .. n-1\n",
        "    for j in range(i):     # iterate 0 to i (avoids listing a,b and b,a)\n",
        "      if i == j:           # don't include self correlation\n",
        "        continue           # continue \"skips\" to next iteration of the loop\n",
        "      # construct one row of the table as a Python dictionary\n",
        "\n",
        "      r, p_value = scipy.stats.pearsonr(data_dict[variable_names[i]], data_dict[variable_names[j]])\n",
        "\n",
        "      this_row = {\n",
        "          \"variable1\": variable_names[i],\n",
        "          \"variable2\": variable_names[j],\n",
        "          \"correlation\": r,\n",
        "          \"p value\": p_value\n",
        "      }\n",
        "      correlation_table_rows.append(this_row) # add to the list\n",
        "\n",
        "  # Create a table from the list of dictionaries and sort\n",
        "  correlation_table = Table.from_records(correlation_table_rows) \\\n",
        "    .sort(\"correlation\",descending=True)\n",
        "  return  correlation_table\n"
      ],
      "metadata": {
        "id": "Yfp0eEAxFnP6"
      },
      "execution_count": null,
      "outputs": []
    },
    {
      "cell_type": "code",
      "source": [
        "table_with_p_values = calculate_correlation_table_with_p_values(happiness, [\"Economy\", \"Family\", \"Health\", \"Freedom\", \"Trust\", \"Generosity\", \"Score\"])\n",
        "table_with_p_values.show()"
      ],
      "metadata": {
        "colab": {
          "base_uri": "https://localhost:8080/",
          "height": 708
        },
        "id": "eyXBsZfOG3De",
        "outputId": "d5e1dc6d-8b9e-49cf-facf-fe5ec5f495fb"
      },
      "execution_count": null,
      "outputs": [
        {
          "output_type": "display_data",
          "data": {
            "text/plain": [
              "<IPython.core.display.HTML object>"
            ],
            "text/html": [
              "<table border=\"1\" class=\"dataframe\">\n",
              "    <thead>\n",
              "        <tr>\n",
              "            <th>correlation</th> <th>p value</th> <th>variable1</th> <th>variable2</th>\n",
              "        </tr>\n",
              "    </thead>\n",
              "    <tbody>\n",
              "        <tr>\n",
              "            <td>0.816478   </td> <td>4.77527e-39</td> <td>Health    </td> <td>Economy   </td>\n",
              "        </tr>\n",
              "        <tr>\n",
              "            <td>0.780966   </td> <td>1.05054e-33</td> <td>Score     </td> <td>Economy   </td>\n",
              "        </tr>\n",
              "        <tr>\n",
              "            <td>0.740605   </td> <td>9.91885e-29</td> <td>Score     </td> <td>Family    </td>\n",
              "        </tr>\n",
              "        <tr>\n",
              "            <td>0.7242     </td> <td>5.7889e-27 </td> <td>Score     </td> <td>Health    </td>\n",
              "        </tr>\n",
              "        <tr>\n",
              "            <td>0.645299   </td> <td>5.59094e-20</td> <td>Family    </td> <td>Economy   </td>\n",
              "        </tr>\n",
              "        <tr>\n",
              "            <td>0.568211   </td> <td>6.87581e-15</td> <td>Score     </td> <td>Freedom   </td>\n",
              "        </tr>\n",
              "        <tr>\n",
              "            <td>0.531104   </td> <td>7.03234e-13</td> <td>Health    </td> <td>Family    </td>\n",
              "        </tr>\n",
              "        <tr>\n",
              "            <td>0.493524   </td> <td>4.43998e-11</td> <td>Trust     </td> <td>Freedom   </td>\n",
              "        </tr>\n",
              "        <tr>\n",
              "            <td>0.441518   </td> <td>6.36367e-09</td> <td>Freedom   </td> <td>Family    </td>\n",
              "        </tr>\n",
              "        <tr>\n",
              "            <td>0.395199   </td> <td>2.7638e-07 </td> <td>Score     </td> <td>Trust     </td>\n",
              "        </tr>\n",
              "        <tr>\n",
              "            <td>0.373916   </td> <td>1.302e-06  </td> <td>Generosity</td> <td>Freedom   </td>\n",
              "        </tr>\n",
              "        <tr>\n",
              "            <td>0.3703     </td> <td>1.67621e-06</td> <td>Freedom   </td> <td>Economy   </td>\n",
              "        </tr>\n",
              "        <tr>\n",
              "            <td>0.360477   </td> <td>3.27886e-06</td> <td>Freedom   </td> <td>Health    </td>\n",
              "        </tr>\n",
              "        <tr>\n",
              "            <td>0.307885   </td> <td>8.30728e-05</td> <td>Trust     </td> <td>Economy   </td>\n",
              "        </tr>\n",
              "        <tr>\n",
              "            <td>0.276123   </td> <td>0.000445123</td> <td>Generosity</td> <td>Trust     </td>\n",
              "        </tr>\n",
              "        <tr>\n",
              "            <td>0.248335   </td> <td>0.00165425 </td> <td>Trust     </td> <td>Health    </td>\n",
              "        </tr>\n",
              "        <tr>\n",
              "            <td>0.205605   </td> <td>0.00955183 </td> <td>Trust     </td> <td>Family    </td>\n",
              "        </tr>\n",
              "        <tr>\n",
              "            <td>0.180319   </td> <td>0.0233787  </td> <td>Score     </td> <td>Generosity</td>\n",
              "        </tr>\n",
              "        <tr>\n",
              "            <td>0.108335   </td> <td>0.17544    </td> <td>Generosity</td> <td>Health    </td>\n",
              "        </tr>\n",
              "        <tr>\n",
              "            <td>0.0875132  </td> <td>0.274223   </td> <td>Generosity</td> <td>Family    </td>\n",
              "        </tr>\n",
              "        <tr>\n",
              "            <td>-0.0104654 </td> <td>0.896165   </td> <td>Generosity</td> <td>Economy   </td>\n",
              "        </tr>\n",
              "    </tbody>\n",
              "</table>"
            ]
          },
          "metadata": {}
        }
      ]
    },
    {
      "cell_type": "markdown",
      "source": [
        "As you can see from this table, the p values are :\n",
        "* statistically significant at the $p<0.01$ level for all but the last four rows\n",
        "* statistically significant at the $p<0.05$ for (Score,Generosity)\n",
        "* not statistically signficant for the last three rows\n"
      ],
      "metadata": {
        "id": "_XE9FMSnHJbE"
      }
    },
    {
      "cell_type": "code",
      "source": [],
      "metadata": {
        "id": "4sDGeIXeG_iy"
      },
      "execution_count": null,
      "outputs": []
    }
  ]
}