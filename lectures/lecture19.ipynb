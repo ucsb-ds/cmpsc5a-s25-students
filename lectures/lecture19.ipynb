{
  "nbformat": 4,
  "nbformat_minor": 0,
  "metadata": {
    "colab": {
      "provenance": []
    },
    "kernelspec": {
      "name": "python3",
      "display_name": "Python 3"
    },
    "language_info": {
      "name": "python"
    }
  },
  "cells": [
    {
      "cell_type": "code",
      "execution_count": null,
      "metadata": {
        "colab": {
          "base_uri": "https://localhost:8080/"
        },
        "id": "hZN2fHoBhCK-",
        "outputId": "86d3cc55-a752-41c9-a5b7-114d1b1a2664"
      },
      "outputs": [
        {
          "output_type": "stream",
          "name": "stdout",
          "text": [
            "%%ai cells will not work in this notebook\n",
            "Please use Gemini for AI queries instead\n",
            "Mounted at /content/drive\n",
            "Retrieving folder contents\n",
            "Processing file 1hOMU36QJH-8E1xMqZqick7tdYPtRqXWc codes.csv\n",
            "Processing file 1-pQmPDnV44eDEVIOm_dglgktbO1ng7pe data_science_salaries_raw.csv\n",
            "Processing file 1Cl56p5ygZPsG_TdGagMpd2wxMAnsNUN0 ucsb-f25-courses.csv\n",
            "Processing file 1A6TJBGq7Fg5eO_4XrHgrRRM27RRxB6w7 ucsb-m25-courses.csv\n",
            "Processing file 1KqFgPgttI11ADhBdGWipQ4RaCyM7S8iZ ucsb-s25-courses.csv\n",
            "Processing file 1DHBdvECi_-cQtiJ1FZl4v_JfLgAMrauE world_happiness_2015.csv\n",
            "Processing file 10lU_ehl4CmZqXZ8Ow4tz_G4zHvB9kkwV world_happiness_2019.csv\n",
            "Retrieving folder contents completed\n",
            "Building directory structure\n",
            "Building directory structure completed\n",
            "Downloading...\n",
            "From: https://drive.google.com/uc?id=1hOMU36QJH-8E1xMqZqick7tdYPtRqXWc\n",
            "To: /content/data/codes.csv\n",
            "100% 6.40k/6.40k [00:00<00:00, 18.2MB/s]\n",
            "Downloading...\n",
            "From: https://drive.google.com/uc?id=1-pQmPDnV44eDEVIOm_dglgktbO1ng7pe\n",
            "To: /content/data/data_science_salaries_raw.csv\n",
            "100% 388k/388k [00:00<00:00, 10.4MB/s]\n",
            "Downloading...\n",
            "From: https://drive.google.com/uc?id=1Cl56p5ygZPsG_TdGagMpd2wxMAnsNUN0\n",
            "To: /content/data/ucsb-f25-courses.csv\n",
            "100% 333k/333k [00:00<00:00, 17.9MB/s]\n",
            "Downloading...\n",
            "From: https://drive.google.com/uc?id=1A6TJBGq7Fg5eO_4XrHgrRRM27RRxB6w7\n",
            "To: /content/data/ucsb-m25-courses.csv\n",
            "100% 136k/136k [00:00<00:00, 11.8MB/s]\n",
            "Downloading...\n",
            "From: https://drive.google.com/uc?id=1KqFgPgttI11ADhBdGWipQ4RaCyM7S8iZ\n",
            "To: /content/data/ucsb-s25-courses.csv\n",
            "100% 467k/467k [00:00<00:00, 20.1MB/s]\n",
            "Downloading...\n",
            "From: https://drive.google.com/uc?id=1DHBdvECi_-cQtiJ1FZl4v_JfLgAMrauE\n",
            "To: /content/data/world_happiness_2015.csv\n",
            "100% 16.6k/16.6k [00:00<00:00, 49.0MB/s]\n",
            "Downloading...\n",
            "From: https://drive.google.com/uc?id=10lU_ehl4CmZqXZ8Ow4tz_G4zHvB9kkwV\n",
            "To: /content/data/world_happiness_2019.csv\n",
            "100% 8.82k/8.82k [00:00<00:00, 34.5MB/s]\n",
            "Download completed\n",
            "total 1344\n",
            "-rw-r--r-- 1 root root   6398 May  3 23:18 codes.csv\n",
            "-rw-r--r-- 1 root root 388472 May 12 01:18 data_science_salaries_raw.csv\n",
            "-rw-r--r-- 1 root root 333319 May  3 16:55 ucsb-f25-courses.csv\n",
            "-rw-r--r-- 1 root root 136234 May  3 16:55 ucsb-m25-courses.csv\n",
            "-rw-r--r-- 1 root root 467356 May  1 20:25 ucsb-s25-courses.csv\n",
            "-rw-r--r-- 1 root root  16557 May 12 18:04 world_happiness_2015.csv\n",
            "-rw-r--r-- 1 root root   8822 May 12 18:04 world_happiness_2019.csv\n"
          ]
        }
      ],
      "source": [
        "# Run this cell once when starting on notebook.\n",
        "# On Google Colab, wait for the Google Drive permission prompts before proceeding\n",
        "import matplotlib.pyplot as plt\n",
        "%matplotlib inline\n",
        "import os\n",
        "import sys\n",
        "try:\n",
        "    %load_ext jupyter_ai_magics\n",
        "except:\n",
        "    print(\"%%ai cells will not work in this notebook\")\n",
        "    print(\"Please use Gemini for AI queries instead\")\n",
        "from datascience import *\n",
        "import numpy as np\n",
        "import math\n",
        "\n",
        "DATA_FOLDER=\"data/\"\n",
        "try:\n",
        "  from google.colab import drive\n",
        "  drive.mount('/content/drive', force_remount=True)\n",
        "  !mkdir -p /content/data\n",
        "  !gdown --folder https://drive.google.com/drive/folders/1XifjqyxFHvjK6nOUi4doYsG12hGPhOcI?usp=drive_link -O /content/data\n",
        "  DATA_FOLDER = DATA_FOLDER.replace(\"data/\", \"/content/data/\")\n",
        "  !ls -l /content/data\n",
        "except:\n",
        "  print(\"Google Drive not mounted; this is normal on Jupyter Hub\")\n"
      ]
    },
    {
      "cell_type": "markdown",
      "source": [
        "# Lecture 19, CMPSC 5A, S25\n",
        "\n",
        "Tue 06/03/2025, Week 10\n",
        "\n",
        "Google Colab versions of lecture notebooks can be found in this folder:\n",
        "* <https://drive.google.com/drive/folders/1jS1Fa0BpGUVaijXwIYX0I21Un6XOGQM-?usp=sharing>\n",
        "\n",
        "Note that the Google Colab version will have any updates made during class, while the copy on Jupyter Hub may not.\n"
      ],
      "metadata": {
        "id": "mYtNl-6GhLX3"
      }
    },
    {
      "cell_type": "markdown",
      "source": [
        "\n",
        "## ic30 Participation Assignment\n",
        "\n",
        "TODO: Create this and link to it on Gradescope\n",
        "\n",
        "Just one today, on Gradescope as [ic30]()\n",
        "\n"
      ],
      "metadata": {
        "id": "mm3oaAvJkFRK"
      }
    },
    {
      "cell_type": "markdown",
      "source": [
        "\n",
        "# Where are we in the reading?\n",
        "\n",
        "By today, you should have finished reading:\n",
        "\n",
        "* [Chapter 1: What is Data Science](https://inferentialthinking.com/chapters/01/what-is-data-science.html)\n",
        "* [Chapter 2 Causality and Experiments](https://inferentialthinking.com/chapters/02/causality-and-experiments.html)\n",
        "* [Chapter 3: Programming in Python](https://inferentialthinking.com/chapters/03/programming-in-python.html)\n",
        "* [Chapter 4: Data Types](https://inferentialthinking.com/chapters/04/Data_Types.html)\n",
        "* [Chapter 5: Sequences](https://inferentialthinking.com/chapters/05/Sequences.html)\n",
        "* [Chapter 6: Tables](https://inferentialthinking.com/chapters/06/Tables.html)\n",
        "* [Chapter 7: Visualization](https://inferentialthinking.com/chapters/07/Visualization.html)\n",
        "* [Chapter 8: Functions and Tables (Intro)](https://inferentialthinking.com/chapters/08/Functions_and_Tables.html)\n",
        "* [Chapter 9: Randomness](https://inferentialthinking.com/chapters/09/Randomness.html)\n",
        "* [Chapter 10 (Sampling and Empirical Distributions)](https://inferentialthinking.com/chapters/10/Sampling_and_Empirical_Distributions.html)\n",
        "* [Chapter 11 (Testing Hypotheses, including p-values)](https://inferentialthinking.com/chapters/11/Testing_Hypotheses.html)\n",
        "* [Chapter 12 (Comparing Two Samples, including A/B testing)](https://inferentialthinking.com/chapters/11/Testing_Hypotheses.html)\n",
        "* [Chapter 14 (intro, Why the Mean Matters)](https://inferentialthinking.com/chapters/14/Why_the_Mean_Matters.html)\n",
        "* [Section 14.1, (Properties of the Mean)](https://inferentialthinking.com/chapters/14/1/Properties_of_the_Mean.html)\n",
        "* [Section 14.2, (Variability)](https://inferentialthinking.com/chapters/14/2/Variability.html)\n",
        "* [Section 15.1, (Correlation)](https://inferentialthinking.com/chapters/15/1/Correlation.html)\n",
        "\n",
        "This is all of the reading for the quarter\n",
        "\n"
      ],
      "metadata": {
        "id": "EHfRHuV6AEHA"
      }
    },
    {
      "cell_type": "markdown",
      "source": [
        "# Final Project Deadlines\n",
        "\n",
        "Final Project Deadlines are posted on Canvas.\n",
        "\n",
        "* Notebooks are due 11:59pm Thursday night 06/05\n",
        "* Slides/Videos are due 11:59pm Friday night 06/06\n",
        "\n",
        "We are unable to extend these because:\n",
        "* the staff needs the time to be able to grade your work\n",
        "* the staff have their own finals as well\n",
        "\n",
        "\n",
        "In both cases, I've set it up so that Canvas will accept files for about *ten minutes* after these deadlines just in case you are truly submitting at the last minute, but no more than that.\n",
        "\n",
        "When midnight comes, just submit whatever you have by then.\n",
        "\n",
        "# Please make sure that your filename includes your project\n",
        "\n",
        "The staff have requested that when you submit on canvas, the name of the file you submit should contain one of the strings:\n",
        "* `Air`\n",
        "* `Liver`\n",
        "* `Movies`\n",
        "\n",
        "That makes it much easier for the staff to know projects they should grade (they divide up the work by project so that the grading is consistent):\n",
        "\n",
        "For example, these are good names:\n",
        "* CS5A-S25-Final-**Movies**.ipynb\n",
        "* Final-Version-**Air**Quality-Group17.ipynb\n",
        "* **Liver**Disease-Version3-Group17.ipynb\n",
        "* **Movies**-OMG-We-Are-Done-Yet.ipynb\n",
        "* **air**-final-cs5.ipynb (case doesn't matter)\n",
        "\n",
        "These are *not* good names:\n",
        "* Final-Project-Group17.ipynb\n",
        "* OMG-Are-we-done-yet.ipynb\n",
        "\n",
        "Thanks for your help!"
      ],
      "metadata": {
        "id": "gTu79za7IVEm"
      }
    },
    {
      "cell_type": "markdown",
      "source": [
        "# Final Notebook Folders and Groups\n",
        "\n",
        "Folders and chat groups are available from the link on Canvas here:\n",
        "\n",
        "* <https://ucsb.instructure.com/courses/25658/modules/items/1742585>\n",
        "\n",
        "Or directly, here:\n",
        "\n",
        "* [Final Exam Groups](https://docs.google.com/spreadsheets/d/10pfUpWvCQJqKWYJTAnBTUwaJOyfduSz8unL8jQyWVdg/edit?gid=1177375427#gid=1177375427)\n",
        "\n",
        "Take a moment to double check that you are in the group you think you are, and that you have access to the folder.\n",
        "\n",
        "Each folder should have a spreadsheet in it with the member names and emails listed.\n",
        "\n",
        "You also should be able to send messages in the chat."
      ],
      "metadata": {
        "id": "ExR8jGo0I4U3"
      }
    },
    {
      "cell_type": "markdown",
      "source": [
        "# Today's Participation Assignment\n",
        "\n",
        "Please make a post in the group chat for your group with this information.\n",
        "\n",
        "Please do this *even if* you are in a group by yourself.\n",
        "\n",
        "1. Name you want to be called by fellow group members and by staff\n",
        "2. Pronouns you use\n",
        "3. Which of the three projects you are working on (Liver, Air, Movies)\n",
        "4. What your role is in the division of work (e.g. \"questions 4,5,6)\n",
        "5. Where things stand at the moment (e.g. \"haven't started\", \"done with 4, working on 5, haven't started 6)\n",
        "6. Your plan for finishing and submitting by Thursday night at 11:59pm.\n",
        "\n",
        "\n"
      ],
      "metadata": {
        "id": "oo5UUzzecxQ1"
      }
    },
    {
      "cell_type": "code",
      "source": [],
      "metadata": {
        "id": "ya6ZhKtjLifq"
      },
      "execution_count": null,
      "outputs": []
    },
    {
      "cell_type": "markdown",
      "source": [
        "# After that: Time to work on your projects!\n",
        "\n",
        "I think the best way I can help you finish is to give you this time to work with your group partners (or on your own if you are in a group of 1).\n",
        "\n",
        "You may:\n",
        "* use the group chats we've set up\n",
        "* or any other means of communication you prefer\n",
        "\n",
        "The point of the chat is to be sure there's at least *one* way you can all reach one another.   But you don't *have* to use it."
      ],
      "metadata": {
        "id": "6BkjE1KcduX0"
      }
    },
    {
      "cell_type": "markdown",
      "source": [
        "# One last announcement:  lab03/lab04 limited amnesty\n",
        "\n",
        "There have been some requests for do-overs on lab03/lab04.  I've discussed this with the staff, and we are prepared to offer a *limited* amnesty for folks that got below a 70 on lab03 and/or lab04:\n",
        "\n",
        "* A submission window will open AFTER the deadline for the final projects; please work on the final projects FIRST.\n",
        "* It will open 12:01am Saturday morning 06/07, and extend until 11:59 on Tuesday 06/10.\n",
        "* Note that this is only for folks that got a grade lower than 70.\n",
        "* The grade that you will be awarded for this is *capped* at 70.\n",
        "* We won't assess a late penalty of 30 points; instead, we'll calculate your grade, and then if it's higher than 70 for the resubmission, a late penalty will be applied that brings it down to exactly 70.\n",
        "* If you get below 70 on the resubmission, you'll get the grade we calculate (*not* the higher of the original grade and the resubmitted work.)\n",
        "\n",
        "This is mainly intended for students that had a zero or a catastrophically low grade on lab03/lab04.\n",
        "\n",
        "Due to limited time available for grading, we are unable to offer other amnesties, do-overs, or extensions.\n",
        "\n",
        "\n"
      ],
      "metadata": {
        "id": "WJYKDFy2eYSv"
      }
    },
    {
      "cell_type": "code",
      "source": [],
      "metadata": {
        "id": "_w1UrOt_eWon"
      },
      "execution_count": 2,
      "outputs": []
    }
  ]
}