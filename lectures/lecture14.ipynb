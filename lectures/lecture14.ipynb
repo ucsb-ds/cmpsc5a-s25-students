{
  "nbformat": 4,
  "nbformat_minor": 0,
  "metadata": {
    "colab": {
      "provenance": []
    },
    "kernelspec": {
      "name": "python3",
      "display_name": "Python 3"
    },
    "language_info": {
      "name": "python"
    }
  },
  "cells": [
    {
      "cell_type": "code",
      "execution_count": null,
      "metadata": {
        "colab": {
          "base_uri": "https://localhost:8080/"
        },
        "id": "hZN2fHoBhCK-",
        "outputId": "619acf4a-22b1-4aad-eb2b-bbf2756e22e4"
      },
      "outputs": [
        {
          "output_type": "stream",
          "name": "stdout",
          "text": [
            "%%ai cells will not work in this notebook\n",
            "Please use Gemini for AI queries instead\n",
            "Mounted at /content/drive\n",
            "Retrieving folder contents\n",
            "Processing file 1hOMU36QJH-8E1xMqZqick7tdYPtRqXWc codes.csv\n",
            "Processing file 1-pQmPDnV44eDEVIOm_dglgktbO1ng7pe data_science_salaries_raw.csv\n",
            "Processing file 1Cl56p5ygZPsG_TdGagMpd2wxMAnsNUN0 ucsb-f25-courses.csv\n",
            "Processing file 1A6TJBGq7Fg5eO_4XrHgrRRM27RRxB6w7 ucsb-m25-courses.csv\n",
            "Processing file 1KqFgPgttI11ADhBdGWipQ4RaCyM7S8iZ ucsb-s25-courses.csv\n",
            "Processing file 1DHBdvECi_-cQtiJ1FZl4v_JfLgAMrauE world_happiness_2015.csv\n",
            "Processing file 10lU_ehl4CmZqXZ8Ow4tz_G4zHvB9kkwV world_happiness_2019.csv\n",
            "Retrieving folder contents completed\n",
            "Building directory structure\n",
            "Building directory structure completed\n",
            "Downloading...\n",
            "From: https://drive.google.com/uc?id=1hOMU36QJH-8E1xMqZqick7tdYPtRqXWc\n",
            "To: /content/data/codes.csv\n",
            "100% 6.40k/6.40k [00:00<00:00, 19.5MB/s]\n",
            "Downloading...\n",
            "From: https://drive.google.com/uc?id=1-pQmPDnV44eDEVIOm_dglgktbO1ng7pe\n",
            "To: /content/data/data_science_salaries_raw.csv\n",
            "100% 388k/388k [00:00<00:00, 77.7MB/s]\n",
            "Downloading...\n",
            "From: https://drive.google.com/uc?id=1Cl56p5ygZPsG_TdGagMpd2wxMAnsNUN0\n",
            "To: /content/data/ucsb-f25-courses.csv\n",
            "100% 333k/333k [00:00<00:00, 80.7MB/s]\n",
            "Downloading...\n",
            "From: https://drive.google.com/uc?id=1A6TJBGq7Fg5eO_4XrHgrRRM27RRxB6w7\n",
            "To: /content/data/ucsb-m25-courses.csv\n",
            "100% 136k/136k [00:00<00:00, 96.0MB/s]\n",
            "Downloading...\n",
            "From: https://drive.google.com/uc?id=1KqFgPgttI11ADhBdGWipQ4RaCyM7S8iZ\n",
            "To: /content/data/ucsb-s25-courses.csv\n",
            "100% 467k/467k [00:00<00:00, 112MB/s]\n",
            "Downloading...\n",
            "From: https://drive.google.com/uc?id=1DHBdvECi_-cQtiJ1FZl4v_JfLgAMrauE\n",
            "To: /content/data/world_happiness_2015.csv\n",
            "100% 16.6k/16.6k [00:00<00:00, 46.4MB/s]\n",
            "Downloading...\n",
            "From: https://drive.google.com/uc?id=10lU_ehl4CmZqXZ8Ow4tz_G4zHvB9kkwV\n",
            "To: /content/data/world_happiness_2019.csv\n",
            "100% 8.82k/8.82k [00:00<00:00, 24.3MB/s]\n",
            "Download completed\n",
            "total 1344\n",
            "-rw-r--r-- 1 root root   6398 May  3 23:18 codes.csv\n",
            "-rw-r--r-- 1 root root 388472 May 12 01:18 data_science_salaries_raw.csv\n",
            "-rw-r--r-- 1 root root 333319 May  3 16:55 ucsb-f25-courses.csv\n",
            "-rw-r--r-- 1 root root 136234 May  3 16:55 ucsb-m25-courses.csv\n",
            "-rw-r--r-- 1 root root 467356 May  1 20:25 ucsb-s25-courses.csv\n",
            "-rw-r--r-- 1 root root  16557 May 12 18:04 world_happiness_2015.csv\n",
            "-rw-r--r-- 1 root root   8822 May 12 18:04 world_happiness_2019.csv\n"
          ]
        }
      ],
      "source": [
        "# Run this cell once when starting on notebook.\n",
        "# On Google Colab, wait for the Google Drive permission prompts before proceeding\n",
        "import matplotlib.pyplot as plt\n",
        "%matplotlib inline\n",
        "import os\n",
        "import sys\n",
        "try:\n",
        "    %load_ext jupyter_ai_magics\n",
        "except:\n",
        "    print(\"%%ai cells will not work in this notebook\")\n",
        "    print(\"Please use Gemini for AI queries instead\")\n",
        "from datascience import *\n",
        "import numpy as np\n",
        "import math\n",
        "\n",
        "DATA_FOLDER=\"data/\"\n",
        "try:\n",
        "  from google.colab import drive\n",
        "  drive.mount('/content/drive', force_remount=True)\n",
        "  !mkdir -p /content/data\n",
        "  !gdown --folder https://drive.google.com/drive/folders/1XifjqyxFHvjK6nOUi4doYsG12hGPhOcI?usp=drive_link -O /content/data\n",
        "  DATA_FOLDER = DATA_FOLDER.replace(\"data/\", \"/content/data/\")\n",
        "  !ls -l /content/data\n",
        "except:\n",
        "  print(\"Google Drive not mounted; this is normal on Jupyter Hub\")\n"
      ]
    },
    {
      "cell_type": "markdown",
      "source": [
        "# Lecture 14, CMPSC 5A, S25\n",
        "\n",
        "Thu 05/15/2025, Week 7\n",
        "\n",
        "Google Colab versions of lecture notebooks can be found in this folder:\n",
        "* <https://drive.google.com/drive/folders/1jS1Fa0BpGUVaijXwIYX0I21Un6XOGQM-?usp=sharing>\n",
        "\n",
        "Note that the Google Colab version will have any updates made during class, while the copy on Jupyter Hub may not.\n"
      ],
      "metadata": {
        "id": "mYtNl-6GhLX3"
      }
    },
    {
      "cell_type": "markdown",
      "source": [
        "# Midterm Project\n",
        "\n",
        "Any questions about the midterm project?\n",
        "\n",
        "* For reference, here's a link to the [General Instructions, CS5A S25 Midterm](https://docs.google.com/document/d/1gYMuXukOTtJkEthxUeHmWuA1Qn9BtIYkSJa37Gb524E/edit?usp=sharing)\n",
        "\n"
      ],
      "metadata": {
        "id": "EQbVKOcXkGRo"
      }
    },
    {
      "cell_type": "markdown",
      "source": [
        "\n",
        "## ic23 Participation Assignment\n",
        "\n",
        "Just one today, on Gradescope as [ic23](https://www.gradescope.com/courses/1014383/assignments/6227844)\n",
        "\n"
      ],
      "metadata": {
        "id": "mm3oaAvJkFRK"
      }
    },
    {
      "cell_type": "markdown",
      "source": [
        "\n",
        "# Where are we in the reading?\n",
        "\n",
        "By today, you should have finished reading:\n",
        "\n",
        "* [Chapter 1: What is Data Science](https://inferentialthinking.com/chapters/01/what-is-data-science.html)\n",
        "* [Chapter 2 Causality and Experiments](https://inferentialthinking.com/chapters/02/causality-and-experiments.html)\n",
        "* [Chapter 3: Programming in Python](https://inferentialthinking.com/chapters/03/programming-in-python.html)\n",
        "* [Chapter 4: Data Types](https://inferentialthinking.com/chapters/04/Data_Types.html)\n",
        "* [Chapter 5: Sequences](https://inferentialthinking.com/chapters/05/Sequences.html)\n",
        "* [Chapter 6: Tables](https://inferentialthinking.com/chapters/06/Tables.html)\n",
        "* [Chapter 7: Visualization](https://inferentialthinking.com/chapters/07/Visualization.html)\n",
        "* [Chapter 8: Functions and Tables (Intro)](https://inferentialthinking.com/chapters/08/Functions_and_Tables.html)\n",
        "* [Chapter 9 (intro)](https://inferentialthinking.com/chapters/09/Randomness.html#) - Booleans (`True`, `False`) and comparisons\n",
        "* [Section 9.1 (Conditional Statements)](https://inferentialthinking.com/chapters/09/1/Conditional_Statements.html#) - `if`/`elif`/`else`\n",
        "* [Section 9.2 (Iteration)](https://inferentialthinking.com/chapters/09/2/Iteration.html) - loops, for loops, \"augmenting arrays\" (the *accumulator pattern*)\n",
        "\n",
        "New Reading for Today (week 7, 05/15)\n",
        "\n",
        "* Second part of [Chapter 9](https://inferentialthinking.com/chapters/09/Randomness.html#)\n",
        "  * [Section 9.3 (Simulation)](https://inferentialthinking.com/chapters/09/3/Simulation.html)\n",
        "  * [Section 9.4 (The Monty Hall Problem)](https://inferentialthinking.com/chapters/09/4/Monty_Hall_Problem.html)\n",
        "  * [Section 9.5 (Finding Probabilities)](https://inferentialthinking.com/chapters/09/5/Finding_Probabilities.html)\n",
        "\n",
        "\n",
        "\n",
        "*New Reading for next Tuesday (week 8, 05/20):*\n",
        "\n",
        "Don't worry that these first four are slightly out of order; they are relatively simple and don't depend on material from earlier chapters.  \n",
        "\n",
        "This textbook was intended for a 15 week semester course, and we only have 10 weeks; I want to make sure that you don't miss out on the most important concepts.\n",
        "\n",
        "* [Chapter 14 (intro, Why the Mean Matters)](https://inferentialthinking.com/chapters/14/Why_the_Mean_Matters.html)\n",
        "* [Section 14.1, (Properties of the Mean)](https://inferentialthinking.com/chapters/14/1/Properties_of_the_Mean.html)\n",
        "* [Section 14.2, (Variability)](https://inferentialthinking.com/chapters/14/2/Variability.html)\n",
        "* [Section 15.1, (Correlation)](https://inferentialthinking.com/chapters/15/1/Correlation.html)\n",
        "\n",
        "*New Reading for next Thursday (week 8, 05/22):*\n",
        "\n",
        "* [Chapter 10 (Sampling and Empirical Distributions)](https://inferentialthinking.com/chapters/10/Sampling_and_Empirical_Distributions.html)\n",
        "\n",
        "*New Reading for Tuesday (week 9, 05/27):*\n",
        "\n",
        "* [Chapter 11 (Testing Hypotheses, including p-values)](https://inferentialthinking.com/chapters/11/Testing_Hypotheses.html)\n",
        "\n",
        "New Reading for Thursday (week 9, 05/29):\n",
        "* [Chapter 12 (Comparing Two Samples, including A/B testing)](https://inferentialthinking.com/chapters/11/Testing_Hypotheses.html)\n",
        "\n",
        "Unless I update you otherwise, this is all the reading for the quarter.\n",
        "\n"
      ],
      "metadata": {
        "id": "EHfRHuV6AEHA"
      }
    },
    {
      "cell_type": "code",
      "source": [],
      "metadata": {
        "id": "uGhtLF1WQvbD"
      },
      "execution_count": null,
      "outputs": []
    },
    {
      "cell_type": "markdown",
      "source": [
        "# An introduction to Correlation\n",
        "\n",
        "## Why are we skipping ahead to [Section 15.1, (Correlation)](https://inferentialthinking.com/chapters/15/1/Correlation.html) in the reading?\n",
        "\n",
        "The textbook we are using is designed for a 15 week semester, not a 10 week quarter.  So we won't be able to cover *all* of the interesting statistics content.  \n",
        "\n",
        "If you want the rest of it, I'll be offering CMPSC 5B, which is the follow on to this course, in Spring 2026.\n",
        "\n",
        "So, we have to \"pick and choose\" what topics to cover, knowing that many of you may not have the opportunity or the interest in taking another 10 week course in Data Science.\n",
        "\n",
        "So: I've decided that two most important things I want you to understand are:\n",
        "* correlation\n",
        "* p-values\n",
        "\n",
        "So, we'll be skipping around a bit in the reading; that's why I'm asking you to read [Section 15.1, (Correlation)](https://inferentialthinking.com/chapters/15/1/Correlation.html) out of order.  You will need this for lab05 which is being assigned next Wednesday after you finish the midterm project.\n",
        "\n",
        "**_Don't worry that it's out of order; it doesn't depend on any content we haven't already covered_**.  In addition, I'll be going over what you need to know in lecture today.\n",
        "\n"
      ],
      "metadata": {
        "id": "Mesf_schQyXT"
      }
    },
    {
      "cell_type": "code",
      "source": [],
      "metadata": {
        "id": "2az2aFIGSP1j"
      },
      "execution_count": null,
      "outputs": []
    },
    {
      "cell_type": "markdown",
      "source": [
        "### Mean, Variance, Standard Deviation\n",
        "\n",
        "When we talk about correlation, we are going to mention the Pearson Correlation Coefficient.\n",
        "\n",
        "And while we are not necessarily going to need all of the deep math behind it for what we're doing in this course, I want to at least *show* you the math so that if you *want* to go deeper you can.\n",
        "\n",
        "The formula for the Pearson Correlation Coefficient uses a few things we haven't formally defined yet, so it's time to do that:\n",
        "\n",
        "* Mean\n",
        "* Variance\n",
        "* Standard Deviation\n",
        "\n",
        "You'll read more about these in this reading for next Tuesday:\n",
        "\n",
        "* [Chapter 14 (intro, Why the Mean Matters)](https://inferentialthinking.com/chapters/14/Why_the_Mean_Matters.html)\n",
        "* [Section 14.1, (Properties of the Mean)](https://inferentialthinking.com/chapters/14/1/Properties_of_the_Mean.html)\n",
        "* [Section 14.2, (Variability)](https://inferentialthinking.com/chapters/14/2/Variability.html)\n",
        "\n",
        "*Mean* is just the average: the sum of all of the values, divided by the number of values.  Mean is typically represented one of two ways:\n",
        "\n",
        "| Population Mean | Sample Mean |\n",
        "|---------------------|----------------|\n",
        "| $ \\mu $ (greek letter mu) | $ \\bar{x} $ (bar x) |\n",
        "\n",
        "\n",
        "We'll go into this more later, but for now:\n",
        "* Population is used when have access to the entire population under study\n",
        "* Sample is used when you are taking a sample of that population\n",
        "\n",
        "*Variance* tells you how much a set of numbers differs from the average, and is typically represented as\n",
        "\n",
        "| Population Variance | Sample Variance |\n",
        "|---------------------|----------------|\n",
        "| $ \\sigma^2 $ (sigma squared) | $ s^2 $ (s squared) |\n",
        "\n",
        "\n",
        "* When variance is low, tend to be closer to the average\n",
        "* When it's high, the numbers tend to be farther from the average\n",
        "\n",
        "The formula for variance has two forms:\n",
        "\n",
        "| Population Variance (access to entire population)  | Sample Variance (access to only a sample)   |\n",
        "|--------------------------------------------------|-------------------------------------------------------|\n",
        "| $ \\sigma^2 = \\frac{1}{n}\\sum_{i=1}^{n}{(x_i-\\mu)^2} $ | $ s^2 = \\frac{1}{n - 1}\\sum_{i=1}^{n}{(x_i-\\bar{x})^2} $ |\n",
        "\n",
        "\n",
        "What this notation means is:\n",
        "* Take each value, determine how far it is from the mean (or sample mean), and then square the result.\n",
        "* Add up all of those results\n",
        "* Divide by n or n-1 (depending whether it's a population variance or a sample variance)\n",
        "\n",
        "(If you want to know *why* that's the formula, the PSTAT 120A/120B/120C faculty would be happy to explain it; in this lower division data science, we just take it on faith.)\n",
        "\n",
        "You'll notice that the symbols we use for variance, $ \\sigma^2 $  or  $ s^2 $, have a \"squared\" in them.   \n",
        "\n",
        "That's because $s$ or $\\sigma$ represents something called *standard deviation*.  \n",
        "\n",
        "| Population Standard Deviation | Sample Standard Deviation |\n",
        "|---------------------|----------------|\n",
        "| $ \\sigma $ (sigma) | $ s $  |\n",
        "\n",
        "\n",
        "\n",
        "Standard deviation is simply the square root of the variance:\n",
        "\n",
        "| Population Standard Deviation (access to entire population)  | Sample Standard Deviation (access to only a sample)   |\n",
        "|--------------------------------------------------|-------------------------------------------------------|\n",
        "| $ \\sigma = \\sqrt{\\frac{1}{n}\\sum_{i=1}^{n}{(x_i-\\mu)^2}} $ | $ s = \\sqrt{\\frac{1}{n - 1}\\sum_{i=1}^{n}{(x_i-\\bar{x})^2}} $ |\n",
        "\n",
        "\n",
        "To summarize the conventions for these numbers, we have:\n",
        "There are conventions for how we refer to these variables:\n",
        "- For population parameters, we use Greek letters.\n",
        "- For sample estimates, we use English letters.\n",
        "\n",
        "| Measure.       | Population Parameter | Pronounced |  Estimator | Pronounced |\n",
        "|----------------|-------------------------------|------------|-----------------------|------------|\n",
        "| Mean (Average) |   $ \\mu $ |  mu |$ \\bar{x} $ |  x bar     |\n",
        "| Variance |   $ \\sigma^2 $ |  sigma squared |$ s^2 $ |  s squared    |\n",
        "| Standard Deviation |   $ \\sigma $ |  sigma  |$ s $ |  s     |\n"
      ],
      "metadata": {
        "id": "bEJJql6XhvQy"
      }
    },
    {
      "cell_type": "markdown",
      "source": [
        "## The [World Happiness Dataset from Kaggle.com](https://www.kaggle.com/datasets/unsdsn/world-happiness)"
      ],
      "metadata": {
        "id": "boZXpsbKSo1A"
      }
    },
    {
      "cell_type": "markdown",
      "source": [
        "The website [kaggle.com](https://www.kaggle.com) has a variety of datasets to explore.\n",
        "\n",
        "I asked Chatgpt this question:\n",
        "\n",
        "> What are some good datasets on kaggle to explore Pearson correlation?\n",
        "\n",
        "This is one of the three it suggested (you can explore the others if you like).\n",
        "\n",
        "Here's a few points from the description of this dataset on Kaggle:\n",
        "\n",
        "* First Published in 2012; Kaggle has data for 2015 through 2019. We'll look at 2015.\n",
        "* Ranks 155 countries and their happiness levels.\n",
        "* \"Leading experts across fields—economics, psychology, survey analysis, national statistics, health, public policy and more—describe how measurements of well-being can be used effectively to assess the progress of nations.\"\n",
        "\n",
        "* \"The happiness scores and rankings use data from the Gallup World Poll.\"\n",
        "* \"The scores are based on answers to the main life evaluation question asked in the poll. This question, known as the Cantril ladder, asks respondents to think of a ladder with the best possible life for them being a 10 and the worst possible life being a 0 and to rate their own current lives on that scale\"\n",
        "\n",
        "I want to emphasize this next point, since we're going to be talking more about sampling in the upcoming lectures.  I don't want to get too distracted by this, becuase today's lecture is about Correlation, but I do want to plant some seeds and get you thinking about what this statement means:\n",
        "\n",
        "* \"The scores are from nationally representative samples for the years 2013-2016 and use the Gallup weights to make the estimates representative.\"\n",
        "\n",
        "What do you think it means to use \"weights\" to make estimates \"representative\"?\n",
        "\n",
        "Think about that, and we'll return to it in a future lecture.\n",
        "\n",
        "* \"The columns following the happiness score estimate the extent to which each of six factors ... contribute to making life evaluations higher in each country than they are in Dystopia, a hypothetical country that has values equal to the world’s lowest national averages for each of the six factors.\"\n",
        "* The six factors are:\n",
        "  * economic production\n",
        "  * social support\n",
        "  * life expectancy\n",
        "  * freedom\n",
        "  * absence of corruption\n",
        "  * and generosity\n",
        "* \"[The six factors] have no impact on the total score reported for each country, but they do explain why some countries rank higher than others.\"\n",
        "\n",
        "That's what we'll exploring today: the *correlations* between and among six factors, and the overall happiness score.\n",
        "\n",
        "There are a few other details about the Happiness dataset that we'll come back to later, but that's enough for now.\n",
        "\n",
        "Remember that *correlation does not imply causation*.\n",
        "* Causation means *a causes b*, *b happens because of a*.\n",
        "* Correlations simply means *when we see a we also see b*, and vice-versa.\n",
        "\n",
        "We can also observe:\n",
        "* Causation is directional.\n",
        "* Correlations is symmetrical.\n",
        "\n",
        "For example:\n",
        "\n",
        "* If we observe that lung cancer and smoking are *correlated* it means that in a population\n",
        "  * whenever we see that an individual is (or has been) a smoker, it's more  likely that they may have (or have had) lung cancer, _**AND**_\n",
        "  * whenever we see that an individual has (or has had) lung cancer, it's more likely that they are (or were) a smoker.\n",
        "  * the more highly correlated they are, the more often they occur together, and the less often the occur separately.\n",
        "  * It goes both ways; it's symmetrical.  The math even shows that; we get the same number either way.\n",
        "  * To say that lung cancer and smoking are  *correlated*  means exactly the same thing as saying that smoking and lung cancer are correlated.\n",
        "* BUT, if we say that smoking *causes* lung cancer, that's directional.  \n",
        "  * It doesn't mean the same thing to say that lung cancer *causes* smoking.\n",
        "  * The direction *matters*.\n",
        "\n",
        "\n",
        "And: if two things are hightly correlated, it just means that they *tend* to occur together more often than not.  \n",
        "\n",
        "But it *cannot* tell us, alone, which one *causes* the other.  For that, we need more information.  (But that's for another lecture; today, we'll just focus on correlations).\n",
        "\n",
        "## The Pearson Correlation Coefficient\n",
        "\n",
        "The measure of correlation is called the *Pearson Correlation Coefficient*.\n",
        "\n",
        "I want to briefly mention the math, though we will not go into the math in this course (if you want to understand the math, PSTAT 120A/120B/120C is the course sequence that explores that.)\n",
        "\n",
        "The input to a correlation calculation is a set of (x,y) pairs.  Think of these a points on a scatter plot such as this one from our textbook, which shows data about cars.  \n",
        "\n",
        "On the x axis, you see `msrp`, which is \"manufacturer’s suggested retail price in 2013 dollars\".   \n",
        "\n",
        "On the y axis, you see `acceleration`, i.e. acceleration rate in km per hour per second.\n",
        "\n",
        "In plain english, we are looking at the association between price and how fast a car can accelerate.  \n",
        "\n",
        "\n",
        "* Are cars that can accelerate quickly more expensive, and\n",
        "* Do expensive cars accelerate faster?\n",
        "\n",
        "Remember that correlation is always symmetrical, bi-directional.\n",
        "\n"
      ],
      "metadata": {
        "id": "oSw51gJ7S1Xa"
      }
    },
    {
      "cell_type": "markdown",
      "source": [
        "![scatter plot of msrp vs acceleration](data:image/png;base64,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)\n",
        "\n",
        "\n"
      ],
      "metadata": {
        "id": "mEryvJ1nZp01"
      }
    },
    {
      "cell_type": "markdown",
      "source": [
        "So, suppose we have all of the $(x,y)$ pairs represented by this scatter plot.\n",
        "\n",
        "And in addition, we can calculate:\n",
        "\n",
        "* $\\mu_x$ = mean of all of the $x$ values\n",
        "* $\\mu_y$ = mean of all of the $y$ values\n",
        "* $\\sigma_x$ = standard deviation of all of the $x$ values\n",
        "* $\\sigma_y$ = standard deviation of all of the $y$ values\n",
        "\n",
        "Then: the formula for correlation is:\n",
        "\n",
        "$ r = \\frac{\\sum{(x - \\mu_x)(y - \\mu_y)}}{\\sigma_x \\sigma_y} $\n",
        "\n",
        "Or, on one line: r = Σ((x - μₓ)(y - μᵧ)) / (σₓσᵧ)\n",
        "\n",
        "That is:\n",
        "* For each $(x,y)$ pair\n",
        "  * We take x minus the mean of the x values\n",
        "  * We take y minus the mean of the y values\n",
        "  * We multiply those together\n",
        "* We add up all of those values, and divide by the product of the standard deviations of x and y.\n",
        "\n",
        "(Just like with variance: if you want to know *why* that's the formula, the PSTAT 120A/120B/120C faculty would be happy to explain it; in this lower division data science, we just take it on faith.)\n",
        "\n",
        "What this gives us is a number between -1 and 1, with the following interpretation:\n",
        "\n",
        "* +1: Perfect positive correlation: as one goes up, the other goes up\n",
        "* -1: Perfect negative correlation: as one goes up, the other goes down\n",
        "* 0: No correlation\n",
        "\n",
        "We can go a step further, and use this table to interpret the results:\n",
        "\n",
        "The following table shows how we can interpret the results:\n",
        "\n",
        "| Correlation Coefficient (r) | Strength & Direction         |\n",
        "|-----------------------------|-------------------------------|\n",
        "| +1.0                        | Perfect positive correlation  |\n",
        "| +0.7 to +0.9                | Strong positive correlation   |\n",
        "| +0.4 to +0.6                | Moderate positive correlation |\n",
        "| +0.1 to +0.3                | Weak positive correlation     |\n",
        "| 0                           | No correlation                |\n",
        "| -0.1 to -0.3                | Weak negative correlation     |\n",
        "| -0.4 to -0.6                | Moderate negative correlation |\n",
        "| -0.7 to -0.9                | Strong negative correlation   |\n",
        "| -1.0                        | Perfect negative correlation  |\n",
        "\n",
        "\n"
      ],
      "metadata": {
        "id": "XZaMk4_9afA8"
      }
    },
    {
      "cell_type": "markdown",
      "source": [
        "# But fortunately, we can just use `np.corrcoef()`\n",
        "\n",
        "Fortunately, we don't really need to implement the details of this mathematical formula;  `numpy` will compute this for us with this function:\n",
        "\n",
        "\n",
        "```\n",
        "np.corrcoef(array_x, array_y)\n",
        "```\n",
        "\n",
        "where `array_x` and `array_y` contain the $(x,y)$ values.\n",
        "\n",
        "Let's apply that to our Happiness Data set as an example."
      ],
      "metadata": {
        "id": "rUzygJwEn5LP"
      }
    },
    {
      "cell_type": "markdown",
      "source": [
        "## Loading the 2015 Happiness Dataset\n",
        "\n",
        "Datasets are available for 2015 through 2019 at <https://www.kaggle.com/datasets/unsdsn/world-happiness>; I've uploaded 2015 and 2019 data into our data folders.  We'll look at 2015 data today, but the 2019 data is there if you want to explore it on your own.\n"
      ],
      "metadata": {
        "id": "ZZ9xrDS8oTqc"
      }
    },
    {
      "cell_type": "code",
      "source": [
        "happiness_raw = Table.read_table(DATA_FOLDER + \"world_happiness_2015.csv\")\n",
        "happiness_raw"
      ],
      "metadata": {
        "colab": {
          "base_uri": "https://localhost:8080/",
          "height": 566
        },
        "id": "KAZVzvCtqmN9",
        "outputId": "714cfa69-3936-4dac-8ec7-cf99c50b6cdb"
      },
      "execution_count": null,
      "outputs": [
        {
          "output_type": "execute_result",
          "data": {
            "text/plain": [
              "Country     | Region                    | Happiness Rank | Happiness Score | Standard Error | Economy (GDP per Capita) | Family  | Health (Life Expectancy) | Freedom | Trust (Government Corruption) | Generosity | Dystopia Residual\n",
              "Switzerland | Western Europe            | 1              | 7.587           | 0.03411        | 1.39651                  | 1.34951 | 0.94143                  | 0.66557 | 0.41978                       | 0.29678    | 2.51738\n",
              "Iceland     | Western Europe            | 2              | 7.561           | 0.04884        | 1.30232                  | 1.40223 | 0.94784                  | 0.62877 | 0.14145                       | 0.4363     | 2.70201\n",
              "Denmark     | Western Europe            | 3              | 7.527           | 0.03328        | 1.32548                  | 1.36058 | 0.87464                  | 0.64938 | 0.48357                       | 0.34139    | 2.49204\n",
              "Norway      | Western Europe            | 4              | 7.522           | 0.0388         | 1.459                    | 1.33095 | 0.88521                  | 0.66973 | 0.36503                       | 0.34699    | 2.46531\n",
              "Canada      | North America             | 5              | 7.427           | 0.03553        | 1.32629                  | 1.32261 | 0.90563                  | 0.63297 | 0.32957                       | 0.45811    | 2.45176\n",
              "Finland     | Western Europe            | 6              | 7.406           | 0.0314         | 1.29025                  | 1.31826 | 0.88911                  | 0.64169 | 0.41372                       | 0.23351    | 2.61955\n",
              "Netherlands | Western Europe            | 7              | 7.378           | 0.02799        | 1.32944                  | 1.28017 | 0.89284                  | 0.61576 | 0.31814                       | 0.4761     | 2.4657\n",
              "Sweden      | Western Europe            | 8              | 7.364           | 0.03157        | 1.33171                  | 1.28907 | 0.91087                  | 0.6598  | 0.43844                       | 0.36262    | 2.37119\n",
              "New Zealand | Australia and New Zealand | 9              | 7.286           | 0.03371        | 1.25018                  | 1.31967 | 0.90837                  | 0.63938 | 0.42922                       | 0.47501    | 2.26425\n",
              "Australia   | Australia and New Zealand | 10             | 7.284           | 0.04083        | 1.33358                  | 1.30923 | 0.93156                  | 0.65124 | 0.35637                       | 0.43562    | 2.26646\n",
              "... (148 rows omitted)"
            ],
            "text/html": [
              "<table border=\"1\" class=\"dataframe\">\n",
              "    <thead>\n",
              "        <tr>\n",
              "            <th>Country</th> <th>Region</th> <th>Happiness Rank</th> <th>Happiness Score</th> <th>Standard Error</th> <th>Economy (GDP per Capita)</th> <th>Family</th> <th>Health (Life Expectancy)</th> <th>Freedom</th> <th>Trust (Government Corruption)</th> <th>Generosity</th> <th>Dystopia Residual</th>\n",
              "        </tr>\n",
              "    </thead>\n",
              "    <tbody>\n",
              "        <tr>\n",
              "            <td>Switzerland</td> <td>Western Europe           </td> <td>1             </td> <td>7.587          </td> <td>0.03411       </td> <td>1.39651                 </td> <td>1.34951</td> <td>0.94143                 </td> <td>0.66557</td> <td>0.41978                      </td> <td>0.29678   </td> <td>2.51738          </td>\n",
              "        </tr>\n",
              "        <tr>\n",
              "            <td>Iceland    </td> <td>Western Europe           </td> <td>2             </td> <td>7.561          </td> <td>0.04884       </td> <td>1.30232                 </td> <td>1.40223</td> <td>0.94784                 </td> <td>0.62877</td> <td>0.14145                      </td> <td>0.4363    </td> <td>2.70201          </td>\n",
              "        </tr>\n",
              "        <tr>\n",
              "            <td>Denmark    </td> <td>Western Europe           </td> <td>3             </td> <td>7.527          </td> <td>0.03328       </td> <td>1.32548                 </td> <td>1.36058</td> <td>0.87464                 </td> <td>0.64938</td> <td>0.48357                      </td> <td>0.34139   </td> <td>2.49204          </td>\n",
              "        </tr>\n",
              "        <tr>\n",
              "            <td>Norway     </td> <td>Western Europe           </td> <td>4             </td> <td>7.522          </td> <td>0.0388        </td> <td>1.459                   </td> <td>1.33095</td> <td>0.88521                 </td> <td>0.66973</td> <td>0.36503                      </td> <td>0.34699   </td> <td>2.46531          </td>\n",
              "        </tr>\n",
              "        <tr>\n",
              "            <td>Canada     </td> <td>North America            </td> <td>5             </td> <td>7.427          </td> <td>0.03553       </td> <td>1.32629                 </td> <td>1.32261</td> <td>0.90563                 </td> <td>0.63297</td> <td>0.32957                      </td> <td>0.45811   </td> <td>2.45176          </td>\n",
              "        </tr>\n",
              "        <tr>\n",
              "            <td>Finland    </td> <td>Western Europe           </td> <td>6             </td> <td>7.406          </td> <td>0.0314        </td> <td>1.29025                 </td> <td>1.31826</td> <td>0.88911                 </td> <td>0.64169</td> <td>0.41372                      </td> <td>0.23351   </td> <td>2.61955          </td>\n",
              "        </tr>\n",
              "        <tr>\n",
              "            <td>Netherlands</td> <td>Western Europe           </td> <td>7             </td> <td>7.378          </td> <td>0.02799       </td> <td>1.32944                 </td> <td>1.28017</td> <td>0.89284                 </td> <td>0.61576</td> <td>0.31814                      </td> <td>0.4761    </td> <td>2.4657           </td>\n",
              "        </tr>\n",
              "        <tr>\n",
              "            <td>Sweden     </td> <td>Western Europe           </td> <td>8             </td> <td>7.364          </td> <td>0.03157       </td> <td>1.33171                 </td> <td>1.28907</td> <td>0.91087                 </td> <td>0.6598 </td> <td>0.43844                      </td> <td>0.36262   </td> <td>2.37119          </td>\n",
              "        </tr>\n",
              "        <tr>\n",
              "            <td>New Zealand</td> <td>Australia and New Zealand</td> <td>9             </td> <td>7.286          </td> <td>0.03371       </td> <td>1.25018                 </td> <td>1.31967</td> <td>0.90837                 </td> <td>0.63938</td> <td>0.42922                      </td> <td>0.47501   </td> <td>2.26425          </td>\n",
              "        </tr>\n",
              "        <tr>\n",
              "            <td>Australia  </td> <td>Australia and New Zealand</td> <td>10            </td> <td>7.284          </td> <td>0.04083       </td> <td>1.33358                 </td> <td>1.30923</td> <td>0.93156                 </td> <td>0.65124</td> <td>0.35637                      </td> <td>0.43562   </td> <td>2.26646          </td>\n",
              "        </tr>\n",
              "    </tbody>\n",
              "</table>\n",
              "<p>... (148 rows omitted)</p>"
            ]
          },
          "metadata": {},
          "execution_count": 4
        }
      ]
    },
    {
      "cell_type": "markdown",
      "source": [
        "Let's start by relabelling some of these categories to make them easier to work with, since these labels are a bit long to type:"
      ],
      "metadata": {
        "id": "qX-ct18Fro3y"
      }
    },
    {
      "cell_type": "code",
      "source": [
        "happiness = happiness_raw \\\n",
        "  .relabel(\"Happiness Rank\",\"Rank\")  \\\n",
        "  .relabel(\"Happiness Score\", \"Score\") \\\n",
        "  .relabel(\"Standard Error\", \"Error\") \\\n",
        "  .relabel(\"Economy (GDP per Capita)\", \"Economy\") \\\n",
        "  .relabel(\"Health (Life Expectancy)\", \"Health\") \\\n",
        "  .relabel(\"Trust (Government Corruption)\", \"Trust\") \\\n",
        "  .relabel(\"Dystopia Residual\", \"Dystopia\")\n",
        "happiness"
      ],
      "metadata": {
        "id": "zZmRsS4WYSof",
        "colab": {
          "base_uri": "https://localhost:8080/",
          "height": 392
        },
        "outputId": "79e1c97f-aad4-431f-aedb-57b8847871da"
      },
      "execution_count": null,
      "outputs": [
        {
          "output_type": "execute_result",
          "data": {
            "text/plain": [
              "Country     | Region                    | Rank | Score | Error   | Economy | Family  | Health  | Freedom | Trust   | Generosity | Dystopia\n",
              "Switzerland | Western Europe            | 1    | 7.587 | 0.03411 | 1.39651 | 1.34951 | 0.94143 | 0.66557 | 0.41978 | 0.29678    | 2.51738\n",
              "Iceland     | Western Europe            | 2    | 7.561 | 0.04884 | 1.30232 | 1.40223 | 0.94784 | 0.62877 | 0.14145 | 0.4363     | 2.70201\n",
              "Denmark     | Western Europe            | 3    | 7.527 | 0.03328 | 1.32548 | 1.36058 | 0.87464 | 0.64938 | 0.48357 | 0.34139    | 2.49204\n",
              "Norway      | Western Europe            | 4    | 7.522 | 0.0388  | 1.459   | 1.33095 | 0.88521 | 0.66973 | 0.36503 | 0.34699    | 2.46531\n",
              "Canada      | North America             | 5    | 7.427 | 0.03553 | 1.32629 | 1.32261 | 0.90563 | 0.63297 | 0.32957 | 0.45811    | 2.45176\n",
              "Finland     | Western Europe            | 6    | 7.406 | 0.0314  | 1.29025 | 1.31826 | 0.88911 | 0.64169 | 0.41372 | 0.23351    | 2.61955\n",
              "Netherlands | Western Europe            | 7    | 7.378 | 0.02799 | 1.32944 | 1.28017 | 0.89284 | 0.61576 | 0.31814 | 0.4761     | 2.4657\n",
              "Sweden      | Western Europe            | 8    | 7.364 | 0.03157 | 1.33171 | 1.28907 | 0.91087 | 0.6598  | 0.43844 | 0.36262    | 2.37119\n",
              "New Zealand | Australia and New Zealand | 9    | 7.286 | 0.03371 | 1.25018 | 1.31967 | 0.90837 | 0.63938 | 0.42922 | 0.47501    | 2.26425\n",
              "Australia   | Australia and New Zealand | 10   | 7.284 | 0.04083 | 1.33358 | 1.30923 | 0.93156 | 0.65124 | 0.35637 | 0.43562    | 2.26646\n",
              "... (148 rows omitted)"
            ],
            "text/html": [
              "<table border=\"1\" class=\"dataframe\">\n",
              "    <thead>\n",
              "        <tr>\n",
              "            <th>Country</th> <th>Region</th> <th>Rank</th> <th>Score</th> <th>Error</th> <th>Economy</th> <th>Family</th> <th>Health</th> <th>Freedom</th> <th>Trust</th> <th>Generosity</th> <th>Dystopia</th>\n",
              "        </tr>\n",
              "    </thead>\n",
              "    <tbody>\n",
              "        <tr>\n",
              "            <td>Switzerland</td> <td>Western Europe           </td> <td>1   </td> <td>7.587</td> <td>0.03411</td> <td>1.39651</td> <td>1.34951</td> <td>0.94143</td> <td>0.66557</td> <td>0.41978</td> <td>0.29678   </td> <td>2.51738 </td>\n",
              "        </tr>\n",
              "        <tr>\n",
              "            <td>Iceland    </td> <td>Western Europe           </td> <td>2   </td> <td>7.561</td> <td>0.04884</td> <td>1.30232</td> <td>1.40223</td> <td>0.94784</td> <td>0.62877</td> <td>0.14145</td> <td>0.4363    </td> <td>2.70201 </td>\n",
              "        </tr>\n",
              "        <tr>\n",
              "            <td>Denmark    </td> <td>Western Europe           </td> <td>3   </td> <td>7.527</td> <td>0.03328</td> <td>1.32548</td> <td>1.36058</td> <td>0.87464</td> <td>0.64938</td> <td>0.48357</td> <td>0.34139   </td> <td>2.49204 </td>\n",
              "        </tr>\n",
              "        <tr>\n",
              "            <td>Norway     </td> <td>Western Europe           </td> <td>4   </td> <td>7.522</td> <td>0.0388 </td> <td>1.459  </td> <td>1.33095</td> <td>0.88521</td> <td>0.66973</td> <td>0.36503</td> <td>0.34699   </td> <td>2.46531 </td>\n",
              "        </tr>\n",
              "        <tr>\n",
              "            <td>Canada     </td> <td>North America            </td> <td>5   </td> <td>7.427</td> <td>0.03553</td> <td>1.32629</td> <td>1.32261</td> <td>0.90563</td> <td>0.63297</td> <td>0.32957</td> <td>0.45811   </td> <td>2.45176 </td>\n",
              "        </tr>\n",
              "        <tr>\n",
              "            <td>Finland    </td> <td>Western Europe           </td> <td>6   </td> <td>7.406</td> <td>0.0314 </td> <td>1.29025</td> <td>1.31826</td> <td>0.88911</td> <td>0.64169</td> <td>0.41372</td> <td>0.23351   </td> <td>2.61955 </td>\n",
              "        </tr>\n",
              "        <tr>\n",
              "            <td>Netherlands</td> <td>Western Europe           </td> <td>7   </td> <td>7.378</td> <td>0.02799</td> <td>1.32944</td> <td>1.28017</td> <td>0.89284</td> <td>0.61576</td> <td>0.31814</td> <td>0.4761    </td> <td>2.4657  </td>\n",
              "        </tr>\n",
              "        <tr>\n",
              "            <td>Sweden     </td> <td>Western Europe           </td> <td>8   </td> <td>7.364</td> <td>0.03157</td> <td>1.33171</td> <td>1.28907</td> <td>0.91087</td> <td>0.6598 </td> <td>0.43844</td> <td>0.36262   </td> <td>2.37119 </td>\n",
              "        </tr>\n",
              "        <tr>\n",
              "            <td>New Zealand</td> <td>Australia and New Zealand</td> <td>9   </td> <td>7.286</td> <td>0.03371</td> <td>1.25018</td> <td>1.31967</td> <td>0.90837</td> <td>0.63938</td> <td>0.42922</td> <td>0.47501   </td> <td>2.26425 </td>\n",
              "        </tr>\n",
              "        <tr>\n",
              "            <td>Australia  </td> <td>Australia and New Zealand</td> <td>10  </td> <td>7.284</td> <td>0.04083</td> <td>1.33358</td> <td>1.30923</td> <td>0.93156</td> <td>0.65124</td> <td>0.35637</td> <td>0.43562   </td> <td>2.26646 </td>\n",
              "        </tr>\n",
              "    </tbody>\n",
              "</table>\n",
              "<p>... (148 rows omitted)</p>"
            ]
          },
          "metadata": {},
          "execution_count": 5
        }
      ]
    },
    {
      "cell_type": "markdown",
      "source": [
        "Ok, that's a bit easier to work with!  Now let's make some scatter plots."
      ],
      "metadata": {
        "id": "dRJXM00ms09j"
      }
    },
    {
      "cell_type": "code",
      "source": [
        "# Uncomment  \"%matplotlib inline\" and run it again if graphs are not showing up;\n",
        "# Rerun the cell if you get multiple graphs stacked up\n",
        "\n",
        "%matplotlib inline\n",
        "happiness.scatter(\"Economy\",\"Score\")"
      ],
      "metadata": {
        "id": "TYQ3bK3ls0ty",
        "colab": {
          "base_uri": "https://localhost:8080/",
          "height": 471
        },
        "outputId": "18100949-1455-40e7-bdfd-ad50655f6596"
      },
      "execution_count": null,
      "outputs": [
        {
          "output_type": "display_data",
          "data": {
            "text/plain": [
              "<Figure size 500x500 with 1 Axes>"
            ],
            "image/png": "[encoded data removed]"
          },
          "metadata": {}
        }
      ]
    },
    {
      "cell_type": "markdown",
      "source": [
        "That looks like a pretty clear relationship!  You can see that the points are clustered around a line that goes up and to the right; as the Economy score goes up, so does Happiness.  Let's try a few more:"
      ],
      "metadata": {
        "id": "75h5ZTwttojC"
      }
    },
    {
      "cell_type": "code",
      "source": [
        "happiness.scatter(\"Family\",\"Score\")"
      ],
      "metadata": {
        "id": "OJelxkCfsVHS",
        "colab": {
          "base_uri": "https://localhost:8080/",
          "height": 471
        },
        "outputId": "cd40dbd2-e826-4568-bc9e-c8497e420201"
      },
      "execution_count": null,
      "outputs": [
        {
          "output_type": "display_data",
          "data": {
            "text/plain": [
              "<Figure size 500x500 with 1 Axes>"
            ],
            "image/png": "[encoded data removed]"
          },
          "metadata": {}
        }
      ]
    },
    {
      "cell_type": "code",
      "source": [
        "happiness.scatter(\"Health\",\"Score\")"
      ],
      "metadata": {
        "id": "PKkiVrgYsuaQ",
        "colab": {
          "base_uri": "https://localhost:8080/",
          "height": 471
        },
        "outputId": "20aad8c0-b35b-4564-9c7f-2a7d595b5448"
      },
      "execution_count": null,
      "outputs": [
        {
          "output_type": "display_data",
          "data": {
            "text/plain": [
              "<Figure size 500x500 with 1 Axes>"
            ],
            "image/png": "[encoded data removed]"
          },
          "metadata": {}
        }
      ]
    },
    {
      "cell_type": "code",
      "source": [
        "happiness.scatter(\"Freedom\",\"Score\")"
      ],
      "metadata": {
        "id": "ZshFpysIuK91",
        "colab": {
          "base_uri": "https://localhost:8080/",
          "height": 471
        },
        "outputId": "c19df2d3-8d3d-4d21-ca9a-4711a41cecf7"
      },
      "execution_count": null,
      "outputs": [
        {
          "output_type": "display_data",
          "data": {
            "text/plain": [
              "<Figure size 500x500 with 1 Axes>"
            ],
            "image/png": "[encoded data removed]"
          },
          "metadata": {}
        }
      ]
    },
    {
      "cell_type": "code",
      "source": [
        "happiness.scatter(\"Trust\",\"Score\")"
      ],
      "metadata": {
        "id": "ka6sS0TuuS_G",
        "colab": {
          "base_uri": "https://localhost:8080/",
          "height": 471
        },
        "outputId": "2fcd02cc-2a61-462e-da23-6e9872b0ef7a"
      },
      "execution_count": null,
      "outputs": [
        {
          "output_type": "display_data",
          "data": {
            "text/plain": [
              "<Figure size 500x500 with 1 Axes>"
            ],
            "image/png": "[encoded data removed]"
          },
          "metadata": {}
        }
      ]
    },
    {
      "cell_type": "code",
      "source": [
        "happiness.scatter(\"Generosity\",\"Score\")"
      ],
      "metadata": {
        "id": "YgWzHkyruWu5",
        "colab": {
          "base_uri": "https://localhost:8080/",
          "height": 471
        },
        "outputId": "95b72301-9011-476f-bd13-2954114d3d21"
      },
      "execution_count": null,
      "outputs": [
        {
          "output_type": "display_data",
          "data": {
            "text/plain": [
              "<Figure size 500x500 with 1 Axes>"
            ],
            "image/png": "[encoded data removed]"
          },
          "metadata": {}
        }
      ]
    },
    {
      "cell_type": "code",
      "source": [],
      "metadata": {
        "id": "LE1B6wdWubDB"
      },
      "execution_count": null,
      "outputs": []
    },
    {
      "cell_type": "markdown",
      "source": [
        "As we look at these, they all seem to be vaguely correlated.  \n",
        "\n",
        "But how can we measure how strong each of these correlations are so that we can compare them?  Our eyes may not be a reliable measure of that, but see if you can form a hypothesis about which two of these are the strongest:\n",
        "\n",
        "* Economy\n",
        "* Family\n",
        "* Health\n",
        "* Freedom\n",
        "* Trust\n",
        "* Generosity\n"
      ],
      "metadata": {
        "id": "hfxfzsiTuc6P"
      }
    },
    {
      "cell_type": "markdown",
      "source": [
        "Now we'll do the calculations!\n",
        "\n",
        "Let's start by just doing the calculation on Economy.  To remind you, here's the scatter plot:"
      ],
      "metadata": {
        "id": "W2GRNmYBu57g"
      }
    },
    {
      "cell_type": "code",
      "source": [
        "happiness.scatter(\"Economy\",\"Score\")"
      ],
      "metadata": {
        "id": "w6jR6tHuuz-U"
      },
      "execution_count": null,
      "outputs": []
    },
    {
      "cell_type": "markdown",
      "source": [
        "And here's how we calculated the Pearson Coefficient.  We first need to pull out the variables into `numpy` arrays:\n"
      ],
      "metadata": {
        "id": "ZY-p1WABvFkU"
      }
    },
    {
      "cell_type": "code",
      "source": [
        "economy = np.array(happiness.column(\"Economy\"))\n",
        "score = np.array(happiness.column(\"Score\"))"
      ],
      "metadata": {
        "id": "B4tUePIcvEKT"
      },
      "execution_count": null,
      "outputs": []
    },
    {
      "cell_type": "markdown",
      "source": [
        "Then, we calculate the Persaon Correlation:"
      ],
      "metadata": {
        "id": "ehY6dsqwvZDB"
      }
    },
    {
      "cell_type": "code",
      "source": [
        "economy_vs_score = np.corrcoef(economy, score)\n",
        "economy_vs_score"
      ],
      "metadata": {
        "colab": {
          "base_uri": "https://localhost:8080/"
        },
        "id": "yomxj9UTvcsN",
        "outputId": "8883ebe4-f90c-4ebf-b6bd-28325008c1d9"
      },
      "execution_count": null,
      "outputs": [
        {
          "output_type": "execute_result",
          "data": {
            "text/plain": [
              "array([[ 1.        ,  0.78096553],\n",
              "       [ 0.78096553,  1.        ]])"
            ]
          },
          "metadata": {},
          "execution_count": 56
        }
      ]
    },
    {
      "cell_type": "markdown",
      "source": [
        "The output we get back may be a bit confusing, because it comes back as a 2x2 matrix.\n",
        "\n",
        "The actual pearson coefficient is in position `[0][1]` and `[1][0]`.  The reason is that we specified two variables, and what we are getting back is actually the coefficients for every combination of those, including comparing each variable with itself (which, obviously, has a correlation of 1.0).\n",
        "\n",
        "We can also specify three or more variables, but to do that, we need to structure things a bit differently.  Here's an example with three variables:\n"
      ],
      "metadata": {
        "id": "eO8cD-8pvhsx"
      }
    },
    {
      "cell_type": "code",
      "source": [
        "economy = np.array(happiness.column(\"Economy\"))\n",
        "family = np.array(happiness.column(\"Family\"))\n",
        "score = np.array(happiness.column(\"Score\"))\n",
        "\n",
        "three_data_sets = np.array([economy, family, score])\n",
        "three_way_correlation = np.corrcoef(three_data_sets)\n",
        "three_way_correlation"
      ],
      "metadata": {
        "colab": {
          "base_uri": "https://localhost:8080/"
        },
        "id": "Vy3SmSSOvfNp",
        "outputId": "c3d88449-4061-4672-c560-6f72d2897077"
      },
      "execution_count": null,
      "outputs": [
        {
          "output_type": "execute_result",
          "data": {
            "text/plain": [
              "array([[ 1.        ,  0.64529939,  0.78096553],\n",
              "       [ 0.64529939,  1.        ,  0.7406052 ],\n",
              "       [ 0.78096553,  0.7406052 ,  1.        ]])"
            ]
          },
          "metadata": {},
          "execution_count": 57
        }
      ]
    },
    {
      "cell_type": "markdown",
      "source": [
        "\n",
        "Here's how to interpret the data:\n",
        "\n",
        "|         | economy         | family         | score          |\n",
        "|---------|-----------------|----------------|----------------|\n",
        "| economy | economy,economy | economy,family | economy, score |\n",
        "| family  | family,economy  | family,family  | family, score  |\n",
        "| score   | score,economy | score,family   | score, score   |\n"
      ],
      "metadata": {
        "id": "YYPz7inov8On"
      }
    },
    {
      "cell_type": "markdown",
      "source": [
        "From these three variables, what is the strongest correlation?\n",
        "\n",
        "Excludig the `1.` values for a variable with itself, we see that they rank as follows:\n",
        "\n",
        "| Pairing | Correlation |\n",
        "|---------|-------------|\n",
        "| economy, score | 0.78096553 |\n",
        "| family, score |  0.7406052   |\n",
        "| economy, family | 0.64529939 |"
      ],
      "metadata": {
        "id": "0xHg_dCYwxZV"
      }
    },
    {
      "cell_type": "code",
      "source": [],
      "metadata": {
        "id": "DIUca2dgv6jp"
      },
      "execution_count": null,
      "outputs": []
    },
    {
      "cell_type": "markdown",
      "source": [
        "We can extend this to all of our variables like this:"
      ],
      "metadata": {
        "id": "h4SvMciQxcD3"
      }
    },
    {
      "cell_type": "code",
      "source": [
        "economy = np.array(happiness.column(\"Economy\"))\n",
        "family = np.array(happiness.column(\"Family\"))\n",
        "score = np.array(happiness.column(\"Score\"))\n",
        "health = np.array(happiness.column(\"Health\"))\n",
        "freedom = np.array(happiness.column(\"Freedom\"))\n",
        "trust = np.array(happiness.column(\"Trust\"))\n",
        "generositty = np.array(happiness.column(\"Generosity\"))\n",
        "\n",
        "data_all = np.array([economy, family, score, health, freedom, trust, generositty])\n",
        "all_ways_correlation = np.corrcoef(data_all)\n",
        "all_ways_correlation"
      ],
      "metadata": {
        "colab": {
          "base_uri": "https://localhost:8080/"
        },
        "id": "IY4DUeAWxfWR",
        "outputId": "c0e9d066-5d60-4b20-9880-4e0700026cd2"
      },
      "execution_count": null,
      "outputs": [
        {
          "output_type": "execute_result",
          "data": {
            "text/plain": [
              "array([[ 1.        ,  0.64529939,  0.78096553,  0.816478  ,  0.37029971,\n",
              "         0.3078852 , -0.01046544],\n",
              "       [ 0.64529939,  1.        ,  0.7406052 ,  0.53110399,  0.44151821,\n",
              "         0.20560511,  0.08751324],\n",
              "       [ 0.78096553,  0.7406052 ,  1.        ,  0.7241996 ,  0.5682109 ,\n",
              "         0.39519858,  0.18031853],\n",
              "       [ 0.816478  ,  0.53110399,  0.7241996 ,  1.        ,  0.36047653,\n",
              "         0.24833468,  0.10833522],\n",
              "       [ 0.37029971,  0.44151821,  0.5682109 ,  0.36047653,  1.        ,\n",
              "         0.49352352,  0.37391613],\n",
              "       [ 0.3078852 ,  0.20560511,  0.39519858,  0.24833468,  0.49352352,\n",
              "         1.        ,  0.2761227 ],\n",
              "       [-0.01046544,  0.08751324,  0.18031853,  0.10833522,  0.37391613,\n",
              "         0.2761227 ,  1.        ]])"
            ]
          },
          "metadata": {},
          "execution_count": 16
        }
      ]
    },
    {
      "cell_type": "markdown",
      "source": [
        "This output can be a bit tough to understand because it's so messy, especially the way that Jupyter Notebooks might \"wrap around\" when the code gets too wide for the screen.\n",
        "\n",
        "Here's a function definition that makes things a bit easier.\n",
        "\n",
        "It's called `calculate_correlation_table` and takes two arguments:\n",
        "* A table\n",
        "* A list of column names (as strings)\n",
        "\n",
        "It returns two results:\n",
        "* The matrix of Pearson Correlation Coefficients\n",
        "* A table of the results, sorted in descending order by correlation.\n",
        "\n",
        "It doesn't include correlations of columns with themselves, and it only includes each correlation once (i.e. if (a,b) is included, (b,a) is ommited.)"
      ],
      "metadata": {
        "id": "HhtHenVqzQnn"
      }
    },
    {
      "cell_type": "code",
      "source": [
        "def calculate_correlation_table(table, variable_names):\n",
        "\n",
        "  # First make a list of all the data we are going to pass to np.corrcoef\n",
        "\n",
        "  data_list = []\n",
        "  for name in variable_names:\n",
        "    data_list.append(np.array(table.column(name)))\n",
        "  data_array = np.array(data_list)\n",
        "\n",
        "  # Calculate the Pearson Coefficient matrix\n",
        "  all_ways_correlation = np.corrcoef(data_array)\n",
        "\n",
        "  # Make a list of dictionaries that we will use to construct a table\n",
        "  correlation_table_rows = [] # start with empty list\n",
        "  n = len(variable_names)  # n is the number of variables\n",
        "  for i in range(n):       # iterate 0 .. n-1\n",
        "    for j in range(i):     # iterate 0 to i (avoids listing a,b and b,a)\n",
        "      if i == j:           # don't include self correlation\n",
        "        continue           # continue \"skips\" to next iteration of the loop\n",
        "      # construct one row of the table as a Python dictionary\n",
        "      this_row = {\n",
        "          \"variable1\": variable_names[i],\n",
        "          \"variable2\": variable_names[j],\n",
        "          \"correlation\": all_ways_correlation[i][j]\n",
        "      }\n",
        "      correlation_table_rows.append(this_row) # add to the list\n",
        "\n",
        "  # Create a table from the list of dictionaries and sort\n",
        "  correlation_table = Table.from_records(correlation_table_rows) \\\n",
        "    .sort(\"correlation\",descending=True)\n",
        "  # return both results\n",
        "  return all_ways_correlation, correlation_table\n"
      ],
      "metadata": {
        "id": "88n2FuIexe8S"
      },
      "execution_count": null,
      "outputs": []
    },
    {
      "cell_type": "markdown",
      "source": [
        "Let's try out this function"
      ],
      "metadata": {
        "id": "PN6ugoWM5I-F"
      }
    },
    {
      "cell_type": "code",
      "source": [
        "# efs is Economy, Family, Score\n",
        "matrix_efs, table_efs = calculate_correlation_table(happiness, [\"Economy\", \"Family\", \"Score\"])"
      ],
      "metadata": {
        "id": "L4uvf-_25EFQ"
      },
      "execution_count": null,
      "outputs": []
    },
    {
      "cell_type": "code",
      "source": [
        "matrix_efs"
      ],
      "metadata": {
        "colab": {
          "base_uri": "https://localhost:8080/"
        },
        "id": "_jcWAHoBz5jZ",
        "outputId": "55f4728a-b73f-4ee0-e5ee-f0d94f90156e"
      },
      "execution_count": null,
      "outputs": [
        {
          "output_type": "execute_result",
          "data": {
            "text/plain": [
              "array([[ 1.        ,  0.64529939,  0.78096553],\n",
              "       [ 0.64529939,  1.        ,  0.7406052 ],\n",
              "       [ 0.78096553,  0.7406052 ,  1.        ]])"
            ]
          },
          "metadata": {},
          "execution_count": 19
        }
      ]
    },
    {
      "cell_type": "code",
      "source": [
        "table_efs"
      ],
      "metadata": {
        "colab": {
          "base_uri": "https://localhost:8080/",
          "height": 143
        },
        "id": "3Ios6-zu1LbD",
        "outputId": "44b6e9b7-62bc-48fe-b616-6607732b74e3"
      },
      "execution_count": null,
      "outputs": [
        {
          "output_type": "execute_result",
          "data": {
            "text/plain": [
              "correlation | variable1 | variable2\n",
              "0.780966    | Score     | Economy\n",
              "0.740605    | Score     | Family\n",
              "0.645299    | Family    | Economy"
            ],
            "text/html": [
              "<table border=\"1\" class=\"dataframe\">\n",
              "    <thead>\n",
              "        <tr>\n",
              "            <th>correlation</th> <th>variable1</th> <th>variable2</th>\n",
              "        </tr>\n",
              "    </thead>\n",
              "    <tbody>\n",
              "        <tr>\n",
              "            <td>0.780966   </td> <td>Score    </td> <td>Economy  </td>\n",
              "        </tr>\n",
              "        <tr>\n",
              "            <td>0.740605   </td> <td>Score    </td> <td>Family   </td>\n",
              "        </tr>\n",
              "        <tr>\n",
              "            <td>0.645299   </td> <td>Family   </td> <td>Economy  </td>\n",
              "        </tr>\n",
              "    </tbody>\n",
              "</table>"
            ]
          },
          "metadata": {},
          "execution_count": 59
        }
      ]
    },
    {
      "cell_type": "markdown",
      "source": [
        "Now let's try it on the entire dataset:"
      ],
      "metadata": {
        "id": "In8ukbSD5LqV"
      }
    },
    {
      "cell_type": "code",
      "source": [
        "happiness.labels"
      ],
      "metadata": {
        "colab": {
          "base_uri": "https://localhost:8080/"
        },
        "id": "-OexoART5VSl",
        "outputId": "4f41663d-77a2-4ae6-b8d4-078ca3dde61d"
      },
      "execution_count": null,
      "outputs": [
        {
          "output_type": "execute_result",
          "data": {
            "text/plain": [
              "('Country',\n",
              " 'Region',\n",
              " 'Rank',\n",
              " 'Score',\n",
              " 'Error',\n",
              " 'Economy',\n",
              " 'Family',\n",
              " 'Health',\n",
              " 'Freedom',\n",
              " 'Trust',\n",
              " 'Generosity',\n",
              " 'Dystopia')"
            ]
          },
          "metadata": {},
          "execution_count": 60
        }
      ]
    },
    {
      "cell_type": "code",
      "source": [
        "matrix_all, table_all = calculate_correlation_table(happiness, [\"Economy\", \"Family\", \"Health\", \"Freedom\", \"Trust\", \"Generosity\", \"Score\"])"
      ],
      "metadata": {
        "id": "Y8M3yHjt1NIL"
      },
      "execution_count": null,
      "outputs": []
    },
    {
      "cell_type": "code",
      "source": [
        "table_all.show()"
      ],
      "metadata": {
        "colab": {
          "base_uri": "https://localhost:8080/",
          "height": 708
        },
        "id": "Hxnkp5bZ5aSJ",
        "outputId": "63d1f133-eb47-4da1-824f-96dc6fa37324"
      },
      "execution_count": null,
      "outputs": [
        {
          "output_type": "display_data",
          "data": {
            "text/plain": [
              "<IPython.core.display.HTML object>"
            ],
            "text/html": [
              "<table border=\"1\" class=\"dataframe\">\n",
              "    <thead>\n",
              "        <tr>\n",
              "            <th>correlation</th> <th>variable1</th> <th>variable2</th>\n",
              "        </tr>\n",
              "    </thead>\n",
              "    <tbody>\n",
              "        <tr>\n",
              "            <td>0.816478   </td> <td>Health    </td> <td>Economy   </td>\n",
              "        </tr>\n",
              "        <tr>\n",
              "            <td>0.780966   </td> <td>Score     </td> <td>Economy   </td>\n",
              "        </tr>\n",
              "        <tr>\n",
              "            <td>0.740605   </td> <td>Score     </td> <td>Family    </td>\n",
              "        </tr>\n",
              "        <tr>\n",
              "            <td>0.7242     </td> <td>Score     </td> <td>Health    </td>\n",
              "        </tr>\n",
              "        <tr>\n",
              "            <td>0.645299   </td> <td>Family    </td> <td>Economy   </td>\n",
              "        </tr>\n",
              "        <tr>\n",
              "            <td>0.568211   </td> <td>Score     </td> <td>Freedom   </td>\n",
              "        </tr>\n",
              "        <tr>\n",
              "            <td>0.531104   </td> <td>Health    </td> <td>Family    </td>\n",
              "        </tr>\n",
              "        <tr>\n",
              "            <td>0.493524   </td> <td>Trust     </td> <td>Freedom   </td>\n",
              "        </tr>\n",
              "        <tr>\n",
              "            <td>0.441518   </td> <td>Freedom   </td> <td>Family    </td>\n",
              "        </tr>\n",
              "        <tr>\n",
              "            <td>0.395199   </td> <td>Score     </td> <td>Trust     </td>\n",
              "        </tr>\n",
              "        <tr>\n",
              "            <td>0.373916   </td> <td>Generosity</td> <td>Freedom   </td>\n",
              "        </tr>\n",
              "        <tr>\n",
              "            <td>0.3703     </td> <td>Freedom   </td> <td>Economy   </td>\n",
              "        </tr>\n",
              "        <tr>\n",
              "            <td>0.360477   </td> <td>Freedom   </td> <td>Health    </td>\n",
              "        </tr>\n",
              "        <tr>\n",
              "            <td>0.307885   </td> <td>Trust     </td> <td>Economy   </td>\n",
              "        </tr>\n",
              "        <tr>\n",
              "            <td>0.276123   </td> <td>Generosity</td> <td>Trust     </td>\n",
              "        </tr>\n",
              "        <tr>\n",
              "            <td>0.248335   </td> <td>Trust     </td> <td>Health    </td>\n",
              "        </tr>\n",
              "        <tr>\n",
              "            <td>0.205605   </td> <td>Trust     </td> <td>Family    </td>\n",
              "        </tr>\n",
              "        <tr>\n",
              "            <td>0.180319   </td> <td>Score     </td> <td>Generosity</td>\n",
              "        </tr>\n",
              "        <tr>\n",
              "            <td>0.108335   </td> <td>Generosity</td> <td>Health    </td>\n",
              "        </tr>\n",
              "        <tr>\n",
              "            <td>0.0875132  </td> <td>Generosity</td> <td>Family    </td>\n",
              "        </tr>\n",
              "        <tr>\n",
              "            <td>-0.0104654 </td> <td>Generosity</td> <td>Economy   </td>\n",
              "        </tr>\n",
              "    </tbody>\n",
              "</table>"
            ]
          },
          "metadata": {}
        }
      ]
    },
    {
      "cell_type": "markdown",
      "source": [],
      "metadata": {
        "id": "xclLHMHE5v_f"
      }
    },
    {
      "cell_type": "markdown",
      "source": [
        "# Another way to calculate the Pearson Coefficient: scipy.stats\n",
        "\n",
        "In this course, so far, we've been using:\n",
        "* the `datascience` module from UC Berkeley's Data 8 course\n",
        "* `numpy` a module for Numerical Python\n",
        "\n",
        "There's another useful module called `scipy` that has a submodule `scipy.stats`.\n",
        "\n",
        "I'm going to show you that `scipy.stats` can also be used to calculate the Pearson Cofficient.\n",
        "\n",
        "There's a reason, but it may not be apparent until this coming Tuesday.\n",
        "\n",
        "\n",
        "```\n",
        "  import scipy.stats\n",
        "  economy = np.array(happiness.column(\"Economy\"))\n",
        "  score = np.array(happiness.column(\"Score\"))\n",
        "  r = scipy.stats.pearsonr(economy, score)\n",
        "  print(f\"r={r:6.3f}\")\n",
        "```"
      ],
      "metadata": {
        "id": "NekinxTwjNX4"
      }
    },
    {
      "cell_type": "code",
      "source": [
        "import scipy.stats\n",
        "\n",
        "def calculate_correlation(table, variable_name_x, variable_name_y):\n",
        "  x = np.array(table.column(variable_name_x))\n",
        "  y = np.array(table.column(variable_name_y))\n",
        "  r,p = scipy.stats.pearsonr(x, y)\n",
        "  print(f\"Correlation between {variable_name_x:10} and {variable_name_y:10} is r={r:9.6f}\")\n",
        "  return r\n",
        "\n",
        "print(\"---\")\n",
        "calculate_correlation(happiness, \"Health\", \"Economy\")\n",
        "calculate_correlation(happiness, \"Score\", \"Economy\")\n",
        "calculate_correlation(happiness, \"Score\", \"Family\")\n",
        "calculate_correlation(happiness, \"Score\", \"Health\")\n",
        "calculate_correlation(happiness, \"Family\", \"Economy\")\n",
        "print(\"---\")"
      ],
      "metadata": {
        "colab": {
          "base_uri": "https://localhost:8080/"
        },
        "id": "ul9Gui4Mj9Em",
        "outputId": "96b3d8c7-5b08-4b59-c922-a863fdd5ef65"
      },
      "execution_count": null,
      "outputs": [
        {
          "output_type": "stream",
          "name": "stdout",
          "text": [
            "---\n",
            "Correlation between Health     and Economy    is r= 0.816478\n",
            "Correlation between Score      and Economy    is r= 0.780966\n",
            "Correlation between Score      and Family     is r= 0.740605\n",
            "Correlation between Score      and Health     is r= 0.724200\n",
            "Correlation between Family     and Economy    is r= 0.645299\n",
            "---\n"
          ]
        }
      ]
    },
    {
      "cell_type": "markdown",
      "source": [
        "For comparison, let's see those numbers from our previous calculation"
      ],
      "metadata": {
        "id": "qTi8fIa9lv2d"
      }
    },
    {
      "cell_type": "code",
      "source": [
        "table_all.show(5)"
      ],
      "metadata": {
        "colab": {
          "base_uri": "https://localhost:8080/",
          "height": 236
        },
        "id": "vBV-Q3y2jNK1",
        "outputId": "9a6f8a4a-4a44-447a-ebf6-a1d01659384d"
      },
      "execution_count": null,
      "outputs": [
        {
          "output_type": "display_data",
          "data": {
            "text/plain": [
              "<IPython.core.display.HTML object>"
            ],
            "text/html": [
              "<table border=\"1\" class=\"dataframe\">\n",
              "    <thead>\n",
              "        <tr>\n",
              "            <th>correlation</th> <th>variable1</th> <th>variable2</th>\n",
              "        </tr>\n",
              "    </thead>\n",
              "    <tbody>\n",
              "        <tr>\n",
              "            <td>0.816478   </td> <td>Health   </td> <td>Economy  </td>\n",
              "        </tr>\n",
              "        <tr>\n",
              "            <td>0.780966   </td> <td>Score    </td> <td>Economy  </td>\n",
              "        </tr>\n",
              "        <tr>\n",
              "            <td>0.740605   </td> <td>Score    </td> <td>Family   </td>\n",
              "        </tr>\n",
              "        <tr>\n",
              "            <td>0.7242     </td> <td>Score    </td> <td>Health   </td>\n",
              "        </tr>\n",
              "        <tr>\n",
              "            <td>0.645299   </td> <td>Family   </td> <td>Economy  </td>\n",
              "        </tr>\n",
              "    </tbody>\n",
              "</table>\n",
              "<p>... (16 rows omitted)</p>"
            ]
          },
          "metadata": {}
        }
      ]
    },
    {
      "cell_type": "markdown",
      "source": [
        "Now: what happens if we try this on a much smaller data set?  Our correlations are based on 158 data points:"
      ],
      "metadata": {
        "id": "DGcer2znl0m2"
      }
    },
    {
      "cell_type": "code",
      "source": [
        "happiness.num_rows"
      ],
      "metadata": {
        "colab": {
          "base_uri": "https://localhost:8080/"
        },
        "id": "dNJD2hk7jM2p",
        "outputId": "44f064a4-1ace-4143-fc5f-8f681bc17ddd"
      },
      "execution_count": null,
      "outputs": [
        {
          "output_type": "execute_result",
          "data": {
            "text/plain": [
              "158"
            ]
          },
          "metadata": {},
          "execution_count": 65
        }
      ]
    },
    {
      "cell_type": "markdown",
      "source": [
        "But what if they were based on far fewer?   \n",
        "* Would we still see correlations?\n",
        "* Could we draw strong conclusions?\n",
        "* Would those conclusions be valid?"
      ],
      "metadata": {
        "id": "66ZpNXFdl_IO"
      }
    },
    {
      "cell_type": "markdown",
      "source": [
        "## Strength vs. Significance\n",
        "\n",
        "We can see that some of these numbers fall into the category of \"Strong positive correlation, because they are between 0.7 and 0.9.\n",
        "\n",
        "But: it's possible to get strong correlation with just a few data points, and when that happens, it's possible that it's just *a freak accident*.\n",
        "\n",
        "Consider for example, what happens if we run a similar calculation, but on a very small sample of countries.\n",
        "\n"
      ],
      "metadata": {
        "id": "D1qzT7zXiSxN"
      }
    },
    {
      "cell_type": "code",
      "source": [
        "sample_10 = happiness.sample(10)\n",
        "\n",
        "print(\"---\")\n",
        "calculate_correlation(sample_10, \"Health\", \"Economy\")\n",
        "calculate_correlation(sample_10, \"Score\", \"Economy\")\n",
        "calculate_correlation(sample_10, \"Score\", \"Family\")\n",
        "calculate_correlation(sample_10, \"Score\", \"Health\")\n",
        "calculate_correlation(sample_10, \"Family\", \"Economy\")\n",
        "print(\"---\")"
      ],
      "metadata": {
        "id": "Hgn2ygta5cOD",
        "colab": {
          "base_uri": "https://localhost:8080/"
        },
        "outputId": "430a10f6-3135-49ef-8b40-356f1cbd0003"
      },
      "execution_count": null,
      "outputs": [
        {
          "output_type": "stream",
          "name": "stdout",
          "text": [
            "---\n",
            "Correlation between Health     and Economy    is r= 0.611687\n",
            "Correlation between Score      and Economy    is r= 0.837244\n",
            "Correlation between Score      and Family     is r= 0.823917\n",
            "Correlation between Score      and Health     is r= 0.775083\n",
            "Correlation between Family     and Economy    is r= 0.726926\n",
            "---\n"
          ]
        }
      ]
    },
    {
      "cell_type": "markdown",
      "source": [
        "Let's compare against the whole data set:"
      ],
      "metadata": {
        "id": "MhyMCHVkmqs1"
      }
    },
    {
      "cell_type": "code",
      "source": [
        "def calculate_correlation(table, variable_name_x, variable_name_y, sample_size):\n",
        "  x = np.array(table.column(variable_name_x))\n",
        "  y = np.array(table.column(variable_name_y))\n",
        "  r,p = scipy.stats.pearsonr(x, y)\n",
        "\n",
        "  sample = table.sample(sample_size)\n",
        "  x_sample = np.array(sample.column(variable_name_x))\n",
        "  y_sample = np.array(sample.column(variable_name_y))\n",
        "  r_sample,p_sample = scipy.stats.pearsonr(x_sample, y_sample)\n",
        "\n",
        "  print(f\"Correlation between {variable_name_x:10} and {variable_name_y:10} whole data set: r={r:9.6f} sample of size {sample_size:3}  r_sample={r_sample:9.6f} \")\n",
        "\n",
        "print(\"---\")\n",
        "calculate_correlation(happiness, \"Health\", \"Economy\", 10)\n",
        "calculate_correlation(happiness, \"Score\", \"Economy\", 10)\n",
        "calculate_correlation(happiness, \"Score\", \"Family\", 10)\n",
        "calculate_correlation(happiness, \"Score\", \"Health\", 10)\n",
        "calculate_correlation(happiness, \"Family\", \"Economy\", 10)\n",
        "print(\"---\")"
      ],
      "metadata": {
        "colab": {
          "base_uri": "https://localhost:8080/"
        },
        "id": "M8k7Mm5UmtnP",
        "outputId": "15d23dc1-c4f5-4bb2-9bee-5c96b6acab6b"
      },
      "execution_count": null,
      "outputs": [
        {
          "output_type": "stream",
          "name": "stdout",
          "text": [
            "---\n",
            "Correlation between Health     and Economy    whole data set: r= 0.816478 sample of size  10  r_sample= 0.924132 \n",
            "Correlation between Score      and Economy    whole data set: r= 0.780966 sample of size  10  r_sample= 0.780537 \n",
            "Correlation between Score      and Family     whole data set: r= 0.740605 sample of size  10  r_sample= 0.559207 \n",
            "Correlation between Score      and Health     whole data set: r= 0.724200 sample of size  10  r_sample= 0.687798 \n",
            "Correlation between Family     and Economy    whole data set: r= 0.645299 sample of size  10  r_sample= 0.829192 \n",
            "---\n"
          ]
        }
      ]
    },
    {
      "cell_type": "markdown",
      "source": [
        "This code illustrates a few things:\n",
        "\n",
        "* We can still do correlations calculation on small numbers of data points.\n",
        "* Sometimes those correlations will seem to be very strong!\n",
        "* BUT: those might be the result of random chance\n",
        "* AND: the smaller the sample, they more they might deviate from a larger sample.\n",
        "\n",
        "We are going to explore this more next Tuesday.\n",
        "\n",
        "Also: we see the power of *simulation* which is discussed in your book in the reading for today.\n",
        "\n"
      ],
      "metadata": {
        "id": "QDIynbERnYXt"
      }
    },
    {
      "cell_type": "code",
      "source": [],
      "metadata": {
        "id": "gIZKNKz9mpxr"
      },
      "execution_count": null,
      "outputs": []
    },
    {
      "cell_type": "code",
      "source": [],
      "metadata": {
        "id": "kqjw-mL3mZDM"
      },
      "execution_count": null,
      "outputs": []
    }
  ]
}