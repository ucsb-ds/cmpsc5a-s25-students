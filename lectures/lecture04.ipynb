{
 "cells": [
  {
   "cell_type": "code",
   "execution_count": 22,
   "id": "1df8fd2a-fd9b-46dc-a24c-41420c4d3195",
   "metadata": {},
   "outputs": [],
   "source": [
    "# Click into this cell and press shift-enter before using this notebook.\n",
    "# This line loads the ability to use %%ai in your file\n",
    "%load_ext jupyter_ai_magics\n",
    "# These lines import the Python modules we commonly use in CMPSC 5A\n",
    "from datascience import *\n",
    "import numpy as np\n",
    "%matplotlib inline\n",
    "import matplotlib.pyplot as plots"
   ]
  },
  {
   "cell_type": "markdown",
   "id": "bdadf1bf-95fa-45e4-91ea-f895bdcfb1e0",
   "metadata": {},
   "source": [
    "# Lecture 4, CMPSC 5A, S25"
   ]
  },
  {
   "cell_type": "markdown",
   "id": "df3b9734-528a-4ec8-aadf-f34ed55f5f89",
   "metadata": {},
   "source": [
    "## Note to self: check font size\n",
    "\n",
    "From ic04, where i asked for feedback on the course:\n",
    "* There was a request to check the font size.\n",
    "* So this is here to remind me to check in with the backrow to make sure the font size is comfortable, and\n",
    "* To invite you *at any time* to interrupt the lecture if you cannot see or hear what's going on.\n",
    "\n",
    "It's important to me that you be able to see and hear, otherwise, what's the point?  \n",
    "* *So definitely interrupt* if there's a problem with that.\n",
    "* I'll do what I can to address it.\n",
    "\n",
    "### The pace\n",
    "\n",
    "As for the pace, there were:\n",
    "* Many people that said it was going too fast\n",
    "* Many people that said it was just right\n",
    "* Many that said it was going too slow.\n",
    "\n",
    "That's a *subjective* impression and not a rigorous analysis; \n",
    "* we'll talk at some point about \"qualitative\" vs. \"quantitative\" data and the difficulty of rigorously analyzing qualitative data (e.g. free form text)\n",
    "* for now, it seems to be divided enough that I'm going to just stay on the current pace.\n",
    "\n",
    "But do feel free to continue to offer feedback on that.  I'll keep asking occasionally.  Maybe next time, I'll ask about pace with a quantitative scale to make it easier to analyze."
   ]
  },
  {
   "cell_type": "markdown",
   "id": "ad513a48-398a-4267-ba10-ce6a818d321e",
   "metadata": {},
   "source": [
    "## Review from last time\n",
    "\n",
    "The \"first cell\" that we start by running each time now has five things in it (not counting the comments):\n",
    "\n",
    "| Item | Expanation |\n",
    "|------|------------|\n",
    "|`%load_ext jupyter_ai_magics` | Loads the software needed to use `%%ai ` commands in code cells |\n",
    "|`from datascience import *` | Loads the UC Berkeley Data 8 software (`datascience` module) |\n",
    "|`import numpy as np` | Imports a module `numpy` for data science, and gives it the nickname `np` |\n",
    "|`%matplotlib inline` | Allows us to see `matplotlib` output in our Jupyter Notebook  (graphs)|\n",
    "|`import matplotlib.pyplot as plots` | Imports a module for plotting graphs as `plots` |\n",
    "\n",
    "Remember to shift-enter on this cell before you try any other code cells!"
   ]
  },
  {
   "cell_type": "markdown",
   "id": "ca77a500-9f07-4e95-9f5d-03394ed51424",
   "metadata": {},
   "source": [
    "## Where are we in the reading?\n",
    "\n",
    "By today, you should have finished reading:\n",
    "* [Chapter 1: What is Data Science](https://inferentialthinking.com/chapters/01/what-is-data-science.html)\n",
    "* [Chapter 3: Programming in Python](https://inferentialthinking.com/chapters/03/programming-in-python.html)\n",
    "* [Chapter 4: Data Types](https://inferentialthinking.com/chapters/04/Data_Types.html)\n",
    "* [Chapter 5 (Sequences)](https://inferentialthinking.com/chapters/05/Sequences.html) \n",
    "   \n",
    "\n",
    "For next Tuesday, 04/15, please also read: \n",
    "* [Chapter 6 (Intro)](https://inferentialthinking.com/chapters/06/Tables.html)\n",
    "* [Section 6.1 (Sorting Rows)](https://inferentialthinking.com/chapters/06/1/Sorting_Rows.html#)\n",
    "* [Section 6.2 (Selecting Rows)](https://inferentialthinking.com/chapters/06/2/Selecting_Rows.html)\n"
   ]
  },
  {
   "cell_type": "markdown",
   "id": "6697ab4d-814b-46b6-8913-251b72d070ae",
   "metadata": {},
   "source": [
    "## Programming in Python (Chapter 3)\n",
    "\n",
    "We've already covered most of this when we went through Chapter 1!\n",
    "\n",
    "So this should go fast.\n",
    "\n"
   ]
  },
  {
   "cell_type": "markdown",
   "id": "3ee8cd70-6631-40fa-9638-2f48432c2aba",
   "metadata": {},
   "source": [
    "## Section 3.1: Expressions\n",
    "\n",
    "\n",
    "In your text, [Section 3.1: Expressions](https://inferentialthinking.com/chapters/03/1/Expressions.html) covers expressions.\n",
    "\n",
    "We'll see lots of contexts for expressions, but one of the most common is the right hand side of an assignment statment, such as `y = m * x + b` in this block of code:"
   ]
  },
  {
   "cell_type": "code",
   "execution_count": 7,
   "id": "8acdfe3b-de2e-4b23-a823-0a668355ba0e",
   "metadata": {},
   "outputs": [
    {
     "data": {
      "text/plain": [
       "11"
      ]
     },
     "execution_count": 7,
     "metadata": {},
     "output_type": "execute_result"
    }
   ],
   "source": [
    "m = 2\n",
    "b = 3\n",
    "x = 4\n",
    "y = m * x + b\n",
    "y"
   ]
  },
  {
   "cell_type": "markdown",
   "id": "d66bbcfb-5b74-4b28-affa-17d8a6cc7e6f",
   "metadata": {},
   "source": [
    "But in truth, *every* right hand side of an assignment is an expression.  In fact, all of these are expressions:\n",
    "\n",
    "| Expression | Comments |\n",
    "|------------|----------|\n",
    "| `2`        | Every number is an expression |\n",
    "| `\"Data Science\"` | Every string is an expression | \n",
    "| `y`        | Every variable or name is an expression | is an expresssion (all strings are expressions) |\n",
    "| `m * x`    | Expressions connected by *operators* are also expresssions; here `*` is the multiplication operator |\n",
    "|`m * x + b` |  Another example of connecting two expresssions with an operator (`+`) |\n"
   ]
  },
  {
   "cell_type": "markdown",
   "id": "3e09bfee-d8a2-4208-aef8-1ba408dc68bd",
   "metadata": {},
   "source": [
    "In complicated expressions, we use \"order of operations\" to decide what to do first; Python uses the usual PEMDAS rules you may remember from high school algebra:\n",
    "\n",
    "* Parentheses\n",
    "* Exponentiation\n",
    "* Multiplication/Division\n",
    "* Addition/Subtraction\n",
    "\n",
    "Almost all Python operators *associate left to right* if they are at the same level of precedence.  That is, you apply the operators from left to right.\n",
    "\n",
    "There are only a handful of operators that associate right to left, and the only one of those we are likely to \n",
    "see is the exponentiation operators (i.e. $x^y$ written as `x**y`).\n",
    "\n",
    "Here are some examples:\n",
    "\n",
    "| Expression without parentheses | Equivalent Expression to show the order of evaluation |\n",
    "|--------------------------------|-------------------------------------------------------|\n",
    "| 2 + 3 * 5 + 1                  |  ((2 + (3 * 5)) + 1 )                                 |\n",
    "| 2 + 3 + 5                      |  ((2 + 3) + 5)                                        |\n",
    "| 2 ** 3 ** 4                    |  (2 ** (3 ** 4))                                      |\n",
    "\n",
    "<details>\n",
    "<summary>\n",
    "Optional: Click the triangle to learn about the other operators that associate right to left. \n",
    "</summary>\n",
    "\n",
    "<h5>Right to Left constructs in Python</h5>\n",
    "\n",
    "Here are the right-to-Left associative operators and operator-like constructs in Python.  Note that you probably *will not need* this information for CMPSC 5A, but it's here in case you are curious.\n",
    "\n",
    "| Operator / Construct   | Associativity    | Type           | Notes |\n",
    "|------------------------|------------------|----------------|-------|\n",
    "| `=` (assignment)       | Right-to-left    | Statement      | Does not return a value; can't be used in expressions |\n",
    "| `:=` (walrus)          | Right-to-left    | Expression     | Introduced in Python 3.8; returns a value |\n",
    "| `**` (exponentiation)  | Right-to-left    | Expression     | `2 ** 3 ** 2` is `2 ** (3 ** 2)` = 512 |\n",
    "| `lambda`               | Right-to-left    | Expression     | Rightmost `lambda` binds first |\n",
    "| `x if cond else y`     | Right-associative-ish | Expression | Conditional expressions nest from the right |\n",
    "| Function calls (`f()`) | N/A (nested eval) | Expression     | Inner (rightmost) call returns function for next call |\n",
    "| Attribute access (`obj.a.b`) | Left-to-right | Expression | Syntactically left-associative, but can chain deeply |\n",
    "| Chained comparisons (`1 < x < 5`) | Custom chaining | Expression | Equivalent to `1 < x and x < 5` |\n",
    "\n",
    "    \n",
    "</details>\n"
   ]
  },
  {
   "cell_type": "markdown",
   "id": "b7ede631-a081-41f6-a94a-b05614f4b663",
   "metadata": {},
   "source": [
    "## Table of Common Operators (from [Section 3.1: Expressions](https://inferentialthinking.com/chapters/03/1/Expressions.html))\n",
    "\n",
    "The following table is *not* a complete list of the operators in Python, but it does contain the ones you'll need most often.   We'll introduce others as and when needed.\n",
    "\n",
    "<table class=\"table\">\n",
    "<thead>\n",
    "<tr class=\"row-odd\"><th class=\"head\"><p>Expression Type</p></th>\n",
    "<th class=\"head\"><p>Operator</p></th>\n",
    "<th class=\"head\"><p>Example</p></th>\n",
    "<th class=\"head\"><p>Value</p></th>\n",
    "</tr>\n",
    "</thead>\n",
    "<tbody>\n",
    "<tr class=\"row-even\"><td><p>Addition</p></td>\n",
    "<td><p><code class=\"docutils literal notranslate\"><span class=\"pre\">+</span></code></p></td>\n",
    "<td><p><code class=\"docutils literal notranslate\"><span class=\"pre\">2</span> <span class=\"pre\">+</span> <span class=\"pre\">3</span></code></p></td>\n",
    "<td><p><code class=\"docutils literal notranslate\"><span class=\"pre\">5</span></code></p></td>\n",
    "</tr>\n",
    "<tr class=\"row-odd\"><td><p>Subtraction</p></td>\n",
    "<td><p><code class=\"docutils literal notranslate\"><span class=\"pre\">-</span></code></p></td>\n",
    "<td><p><code class=\"docutils literal notranslate\"><span class=\"pre\">2</span> <span class=\"pre\">-</span> <span class=\"pre\">3</span></code></p></td>\n",
    "<td><p><code class=\"docutils literal notranslate\"><span class=\"pre\">-1</span></code></p></td>\n",
    "</tr>\n",
    "<tr class=\"row-even\"><td><p>Multiplication</p></td>\n",
    "<td><p><code class=\"docutils literal notranslate\"><span class=\"pre\">*</span></code></p></td>\n",
    "<td><p><code class=\"docutils literal notranslate\"><span class=\"pre\">2</span> <span class=\"pre\">*</span> <span class=\"pre\">3</span></code></p></td>\n",
    "<td><p><code class=\"docutils literal notranslate\"><span class=\"pre\">6</span></code></p></td>\n",
    "</tr>\n",
    "<tr class=\"row-odd\"><td><p>Division</p></td>\n",
    "<td><p><code class=\"docutils literal notranslate\"><span class=\"pre\">/</span></code></p></td>\n",
    "<td><p><code class=\"docutils literal notranslate\"><span class=\"pre\">7</span> <span class=\"pre\">/</span> <span class=\"pre\">3</span></code></p></td>\n",
    "<td><p><code class=\"docutils literal notranslate\"><span class=\"pre\">2.66667</span></code></p></td>\n",
    "</tr>\n",
    "<tr class=\"row-even\"><td><p>Remainder</p></td>\n",
    "<td><p><code class=\"docutils literal notranslate\"><span class=\"pre\">%</span></code></p></td>\n",
    "<td><p><code class=\"docutils literal notranslate\"><span class=\"pre\">7</span> <span class=\"pre\">%</span> <span class=\"pre\">3</span></code></p></td>\n",
    "<td><p><code class=\"docutils literal notranslate\"><span class=\"pre\">1</span></code></p></td>\n",
    "</tr>\n",
    "<tr class=\"row-odd\"><td><p>Exponentiation</p></td>\n",
    "<td><p><code class=\"docutils literal notranslate\"><span class=\"pre\">**</span></code></p></td>\n",
    "<td><p><code class=\"docutils literal notranslate\"><span class=\"pre\">2</span> <span class=\"pre\">**</span> <span class=\"pre\">0.5</span></code></p></td>\n",
    "<td><p><code class=\"docutils literal notranslate\"><span class=\"pre\">1.41421</span></code></p></td>\n",
    "</tr>\n",
    "</tbody>\n",
    "</table>"
   ]
  },
  {
   "cell_type": "markdown",
   "id": "9a10bb88-2fbc-4808-b66c-e8a7f9654900",
   "metadata": {},
   "source": [
    "A couple of others that are worth mentioning:\n",
    "\n",
    "| Expression Type | Operator | Example | Value |\n",
    "|-|-|-|-|\n",
    "| String Concatenation | `+` | `'UC' + 'SB'` | `'UCSB'` |\n",
    "| Integer Division (divide and throw away remainder) | `//` | ` 7 // 2` | `3` (*not* `3.5`) |"
   ]
  },
  {
   "cell_type": "markdown",
   "id": "0fd755c0-edd3-4098-bd17-eab9398e74d6",
   "metadata": {},
   "source": [
    "## ic06!\n",
    "\n",
    "Let's do ic06 from Gradescope."
   ]
  },
  {
   "cell_type": "markdown",
   "id": "163c1ada-aeff-4c92-87cb-dc6e5e7bfdff",
   "metadata": {},
   "source": [
    "## Section 3.2: Names (Variables)\n",
    "\n",
    "\n",
    "In your text, [Section 3.2: Names](https://inferentialthinking.com/chapters/03/2/Names.html) covers *names* which are also called *variables*.\n",
    "\n",
    "We use names in Python to store *values*.  These values can include any of the following (this is *not* a complete list!)\n",
    "* numbers\n",
    "* strings\n",
    "* boolean values (values that are `True` or `False`)\n",
    "* lists\n",
    "* Arrays\n",
    "* Tables\n",
    "* functions\n",
    "* modules\n",
    "\n",
    "There are rules for names: \n",
    "* only letters, digits, underscore (no spaces)\n",
    "* must not start with a digit\n",
    "\n",
    "It turns out that what name you choose:\n",
    "* Doesn't matter to the computer\n",
    "* Is *very* signifcant to the humans trying to read your code (including you!)\n",
    "\n",
    "Good names help you understand your code better.  They help your \"short term memory\" (STM).\n",
    "\n",
    "Bad names get in the way.\n",
    "\n",
    "In fact, Felinne Herman, in her book *The Programmer's Brain* has an *entire chapter* called *How to Get Better at Naming Things*.\n",
    "\n",
    "* If you login here first with your UCSBNetId: <https://bit.ly/ucsb-or>\n",
    "* You can read that chapter [here](https://learning.oreilly.com/library/view/the-programmers-brain/9781617298677/Text/ch08.htm)\n",
    "* That site also has dozens and dozens of good Data Science and Programming books if you want to continue studying these topics after the course is over.\n",
    "\n"
   ]
  },
  {
   "cell_type": "markdown",
   "id": "72ad1046-d9fe-4e22-bab7-0a608d18f2b0",
   "metadata": {},
   "source": [
    "## Section 3.3: Call Expressions \n",
    "\n",
    "\n",
    "In your text, [Section 3.3: Call Expressions](https://inferentialthinking.com/chapters/03/3/Calls.html) covers *call expressions* which are also called *function calls* (or sometimes *method calls*, depending on the context.)\n",
    "\n",
    "Some examples:\n",
    "\n",
    "| Example | Result | What it does |\n",
    "|-|-|-|\n",
    "| `abs(-10)` | `10` | Takes the absolute value |\n",
    "| `round(1.51)` | `2` | Rounds the number to the nearest integer value and converts the type to int |\n",
    "| `max(2, 2 + 3, 4)` | `5` | Returns the largest of it's *arguments* (the things separated by commas) |\n",
    "\n",
    "### Arguments\n",
    "\n",
    "The call expression `abs(-10)` has one argument, namely `-10`.  It's the thing in the parentheses `()`.\n",
    "\n",
    "The call expresssion `max(2, 2+3, 4)` has three arguments:\n",
    "* `2`\n",
    "* `2+3`\n",
    "* `4`\n",
    "\n",
    "Each argument is an expression; in this case, we are only seeing numbers, and simple expressions made up of numbers, but the arguments to a call expression can be arbitrarily complex expressions, even other call expressions."
   ]
  },
  {
   "cell_type": "code",
   "execution_count": 18,
   "id": "d4f8dd0a-a26e-493e-9f12-aee9619fc8d6",
   "metadata": {},
   "outputs": [
    {
     "data": {
      "text/plain": [
       "5"
      ]
     },
     "execution_count": 18,
     "metadata": {},
     "output_type": "execute_result"
    }
   ],
   "source": [
    "\n",
    "x = 5\n",
    "y = 7\n",
    "z = 9\n",
    "answer = round(abs(max(x,y,z) - min(x-1,y-2,z-3)))\n",
    "answer"
   ]
  },
  {
   "cell_type": "markdown",
   "id": "8380fb65-42f0-4494-836d-61714b179f91",
   "metadata": {},
   "source": [
    "### A short digression: the *Terminal* in Jupyter Hub\n",
    "\n",
    "If you are just wanting to play around with Python to figure out how things work in the language, you *could* create code cells in a notebook, and press shift-enter each time.\n",
    "\n",
    "But this can be tedious. *There's a more efficient way*.\n",
    "\n",
    "In Jupyter Hub, on the `File` menu, select `New` then `Terminal`.\n",
    "\n",
    "You'll get a terminal session. If you then type `python3`, you'll get a *Python prompt*.  Now everything you type in will be interpreted *just like a code cell* but it goes a lot faster.\n",
    "\n",
    "Here's what that looks like; then I'll demonstrate:"
   ]
  },
  {
   "attachments": {
    "51462550-0026-456c-b2b3-4693f07da290.jpg": {
     "image/jpeg": "[encoded data removed]"
    }
   },
   "cell_type": "markdown",
   "id": "77e54712-5a46-42dd-a1df-26ab792c1ae9",
   "metadata": {},
   "source": [
    "![new-terminal.jpg](attachment:51462550-0026-456c-b2b3-4693f07da290.jpg)"
   ]
  },
  {
   "cell_type": "markdown",
   "id": "1a4445eb-4fc6-4a1a-9b14-39c0cbf1b60c",
   "metadata": {},
   "source": [
    "```\n",
    "jovyan@jupyter-phtcon:~$ python3\n",
    "Python 3.12.9 | packaged by conda-forge | (main, Mar  4 2025, 22:48:41) [GCC 13.3.0] on linux\n",
    "Type \"help\", \"copyright\", \"credits\" or \"license\" for more information.\n",
    ">>> abs(-10)\n",
    "10\n",
    ">>> round(5.01)\n",
    "5\n",
    ">>> type(round(5.01))\n",
    "<class 'int'>\n",
    ">>>\n",
    "```"
   ]
  },
  {
   "cell_type": "markdown",
   "id": "448d4b21-a259-4b10-9ca3-c2399822f464",
   "metadata": {},
   "source": [
    "### A special call expression: `print()`\n",
    "\n",
    "A particular call expression that is often misunderstood is `print()`.   Here's where the misunderstanding arises:\n",
    "\n",
    "Consider these code cells:\n"
   ]
  },
  {
   "cell_type": "code",
   "execution_count": 1,
   "id": "fb439eb6-b1e5-45f1-867d-dde555e1610b",
   "metadata": {},
   "outputs": [],
   "source": [
    "x = 3 + 4 * 5"
   ]
  },
  {
   "cell_type": "code",
   "execution_count": 2,
   "id": "e447ba6d-3268-4ac8-aa88-fb69c8b4fd55",
   "metadata": {},
   "outputs": [
    {
     "data": {
      "text/plain": [
       "23"
      ]
     },
     "execution_count": 2,
     "metadata": {},
     "output_type": "execute_result"
    }
   ],
   "source": [
    "x"
   ]
  },
  {
   "cell_type": "code",
   "execution_count": 3,
   "id": "2357cb8c-6195-4d53-8d1b-a5f6b6cf6c17",
   "metadata": {},
   "outputs": [
    {
     "name": "stdout",
     "output_type": "stream",
     "text": [
      "23\n"
     ]
    }
   ],
   "source": [
    "print(x)"
   ]
  },
  {
   "cell_type": "markdown",
   "id": "eef04d59-928f-49c4-a48d-79d689e51637",
   "metadata": {},
   "source": [
    "It may appear that using `print` to show the value of a variable or expression has no particular effect.  Consider also:"
   ]
  },
  {
   "cell_type": "code",
   "execution_count": 4,
   "id": "af5b9670-e347-4a33-952b-afccf2ec37bc",
   "metadata": {},
   "outputs": [
    {
     "data": {
      "text/plain": [
       "23"
      ]
     },
     "execution_count": 4,
     "metadata": {},
     "output_type": "execute_result"
    }
   ],
   "source": [
    "3 + 4 * 5"
   ]
  },
  {
   "cell_type": "code",
   "execution_count": 5,
   "id": "01f7101d-51d7-4f20-9c3e-15e7c8a33356",
   "metadata": {},
   "outputs": [
    {
     "name": "stdout",
     "output_type": "stream",
     "text": [
      "23\n"
     ]
    }
   ],
   "source": [
    "print(3 + 4 * 5)"
   ]
  },
  {
   "cell_type": "markdown",
   "id": "71fef164-2421-4644-ad44-0a070e1f7fba",
   "metadata": {},
   "source": [
    "However, there is a difference, and it's easiest to show with string data.  Consider these examples:"
   ]
  },
  {
   "cell_type": "code",
   "execution_count": 6,
   "id": "7ee08ae9-9d90-4a05-b936-6bf808f6a8cd",
   "metadata": {},
   "outputs": [],
   "source": [
    "school = \"UC Santa Barbara\""
   ]
  },
  {
   "cell_type": "code",
   "execution_count": 7,
   "id": "15dcdae3-2815-496d-9bca-b790bc9f60f0",
   "metadata": {},
   "outputs": [
    {
     "data": {
      "text/plain": [
       "'UC Santa Barbara'"
      ]
     },
     "execution_count": 7,
     "metadata": {},
     "output_type": "execute_result"
    }
   ],
   "source": [
    "school"
   ]
  },
  {
   "cell_type": "code",
   "execution_count": 8,
   "id": "37424f23-60d7-4685-b46d-eecbe14868a0",
   "metadata": {},
   "outputs": [
    {
     "name": "stdout",
     "output_type": "stream",
     "text": [
      "UC Santa Barbara\n"
     ]
    }
   ],
   "source": [
    "print(school)"
   ]
  },
  {
   "cell_type": "markdown",
   "id": "14df437a-b982-4357-bedf-45fa442aa97e",
   "metadata": {},
   "source": [
    "You can see that `print()` takes away the quotation marks.  It's even more dramatic with multi-line strings, which we *delimit* (mark the beginning and ending of) with triple quotes like this (as you saw in lab01):"
   ]
  },
  {
   "cell_type": "code",
   "execution_count": 20,
   "id": "7fd88440-6834-44b7-b6bf-4efbb945de78",
   "metadata": {},
   "outputs": [],
   "source": [
    "declaration_excerpt = \"\"\"\n",
    "  We hold these truths to be self-evident, \n",
    "  that all men are created equal, \n",
    "  that they are endowed by their Creator \n",
    "  with certain unalienable Rights, \n",
    "  that among these are Life, Liberty and the pursuit of Happiness.\n",
    "\"\"\""
   ]
  },
  {
   "cell_type": "code",
   "execution_count": 11,
   "id": "564701ba-4948-4c3d-9914-711f546b5677",
   "metadata": {},
   "outputs": [
    {
     "data": {
      "text/plain": [
       "'\\nWe hold these truths to be self-evident, \\nthat all men are created equal, \\nthat they are endowed by their Creator \\nwith certain unalienable Rights, \\nthat among these are Life, Liberty and the pursuit of Happiness.\\n'"
      ]
     },
     "execution_count": 11,
     "metadata": {},
     "output_type": "execute_result"
    }
   ],
   "source": [
    "declaration_excerpt"
   ]
  },
  {
   "cell_type": "code",
   "execution_count": 12,
   "id": "0640c171-5ef7-4092-b247-98e97d1edf0f",
   "metadata": {},
   "outputs": [
    {
     "name": "stdout",
     "output_type": "stream",
     "text": [
      "\n",
      "We hold these truths to be self-evident, \n",
      "that all men are created equal, \n",
      "that they are endowed by their Creator \n",
      "with certain unalienable Rights, \n",
      "that among these are Life, Liberty and the pursuit of Happiness.\n",
      "\n"
     ]
    }
   ],
   "source": [
    "print(declaration_excerpt)"
   ]
  },
  {
   "cell_type": "markdown",
   "id": "887f5e96-01e0-44b7-9dcf-57a714a1a85a",
   "metadata": {},
   "source": [
    "The `\\n` that you see when you just show the value of the variable is the indication of a *newline character*.  The `\\` is the backslash (it's leaning *back* if you consider the direction of english text, which is left to right.)  We can put that inside a string to show where a new line goes.  Compare:"
   ]
  },
  {
   "cell_type": "code",
   "execution_count": 13,
   "id": "3eb7cd8d-585c-4e64-b3c9-bc9bff873273",
   "metadata": {},
   "outputs": [
    {
     "name": "stdout",
     "output_type": "stream",
     "text": [
      "UC Santa Barbara\n"
     ]
    }
   ],
   "source": [
    "print(\"UC Santa Barbara\")"
   ]
  },
  {
   "cell_type": "code",
   "execution_count": 14,
   "id": "2b24d205-7b1e-413f-84d8-8afdd2a48e45",
   "metadata": {},
   "outputs": [
    {
     "name": "stdout",
     "output_type": "stream",
     "text": [
      "UC\n",
      "Santa\n",
      "Barbara\n"
     ]
    }
   ],
   "source": [
    "print(\"UC\\nSanta\\nBarbara\")"
   ]
  },
  {
   "cell_type": "markdown",
   "id": "35794d49-eb69-4588-964d-19a5bbdfdfe9",
   "metadata": {},
   "source": [
    "We'll talk more about the use of print() as the course continues, and especialy when we get to writing our own functions.\n",
    "\n",
    "In that context `print` vs. `return` is a *whole thing*! \n",
    "\n",
    "But that's for later."
   ]
  },
  {
   "cell_type": "markdown",
   "id": "2404a270-1bde-4df2-87a3-3be2897d99ef",
   "metadata": {},
   "source": [
    "## Section 3.4: Introduction To Tables \n",
    "\n",
    "\n",
    "In your text, [Section 3.4: Introduction to Tables](https://inferentialthinking.com/chapters/03/4/Introduction_to_Tables.html) covers *Tables* which are fundamental to *this* course in Data Science.\n",
    "\n",
    "### `Table()` is specific to `datascience`\n",
    "\n",
    "Note that in this course we use the Python `datascience` library that was developed at UC Berkeley for the course *Data 8*, and goes along with the textbook we are using in this course.\n",
    "\n",
    "In that library, the `Table()` data type is the main *abstraction* that is used for a table of data: it's something like a spreadsheet with rows and columns.\n",
    "\n",
    "Other datascience libraries exist, and they use different libraries.  I'm not going to derail things too much by talking about those, but I'll briefly mention the other libraries and what they use instead of `Table()`\n",
    "\n",
    "| Library        | Table Abstraction |\n",
    "|----------------|-------------------|\n",
    "| `datascience`  | `Table`           |\n",
    "| `pandas`       | `DataFrame`       |\n",
    "| `numpy`        | `ndarray`         |\n",
    "| `polars`       | `DataFrame`       |\n",
    "| `dask`         | `DataFrame`       |\n",
    "| `pyspark`      | `DataFrame`       |\n",
    "\n",
    "So, when we talk about a `Table()`, while that's a specific concept in the `datascience` library.  But it's also a pretty generic *idea*."
   ]
  },
  {
   "cell_type": "markdown",
   "id": "690f03d7-6fdb-46ea-9bd3-e73a4e84ebb7",
   "metadata": {},
   "source": [
    "Let's look at how to create an empty Table. An empty table is useful because it can be extended to contain new rows and columns."
   ]
  },
  {
   "cell_type": "code",
   "execution_count": 23,
   "id": "92c2295e-1402-47fc-b26a-4d8dd0cd3693",
   "metadata": {},
   "outputs": [
    {
     "data": {
      "text/html": [
       "<table border=\"1\" class=\"dataframe\">\n",
       "    <thead>\n",
       "        <tr>\n",
       "            \n",
       "        </tr>\n",
       "    </thead>\n",
       "    <tbody>\n",
       "    </tbody>\n",
       "</table>"
      ],
      "text/plain": []
     },
     "execution_count": 23,
     "metadata": {},
     "output_type": "execute_result"
    }
   ],
   "source": [
    "# create an empty Table\n",
    "Table()"
   ]
  },
  {
   "cell_type": "markdown",
   "id": "4e9255d9-43eb-4dc2-b79a-f5aef0593abb",
   "metadata": {},
   "source": [
    "If you get a name error on Table(), remember that you have to shift-enter the\n",
    "top cell in your notebook at the start of the session so that you run\n",
    "the `from datascience import *` command.\n",
    "\n",
    "Without that, `Table()` is undefined.\n",
    "\n"
   ]
  },
  {
   "cell_type": "markdown",
   "id": "220ade4d-57b5-45c6-bcf3-b20c076c1e58",
   "metadata": {},
   "source": [
    "##### with_columns\n",
    "The `with_columns` method on a table constructs a new table with additional labeled columns. "
   ]
  },
  {
   "cell_type": "code",
   "execution_count": 25,
   "id": "59039786-8359-47b5-a295-85afaf810fe6",
   "metadata": {},
   "outputs": [
    {
     "data": {
      "text/html": [
       "<table border=\"1\" class=\"dataframe\">\n",
       "    <thead>\n",
       "        <tr>\n",
       "            <th>Number of petals</th>\n",
       "        </tr>\n",
       "    </thead>\n",
       "    <tbody>\n",
       "        <tr>\n",
       "            <td>8               </td>\n",
       "        </tr>\n",
       "        <tr>\n",
       "            <td>34              </td>\n",
       "        </tr>\n",
       "        <tr>\n",
       "            <td>5               </td>\n",
       "        </tr>\n",
       "    </tbody>\n",
       "</table>"
      ],
      "text/plain": [
       "Number of petals\n",
       "8\n",
       "34\n",
       "5"
      ]
     },
     "execution_count": 25,
     "metadata": {},
     "output_type": "execute_result"
    }
   ],
   "source": [
    "# add one column\n",
    "Table().with_columns('Number of petals', make_array(8, 34, 5))"
   ]
  },
  {
   "cell_type": "code",
   "execution_count": 26,
   "id": "4b7cb10d-d5ab-4f39-bab4-d3567265a074",
   "metadata": {},
   "outputs": [
    {
     "data": {
      "text/html": [
       "<table border=\"1\" class=\"dataframe\">\n",
       "    <thead>\n",
       "        <tr>\n",
       "            <th>Number of petals</th> <th>Name</th>\n",
       "        </tr>\n",
       "    </thead>\n",
       "    <tbody>\n",
       "        <tr>\n",
       "            <td>8               </td> <td>lotus    </td>\n",
       "        </tr>\n",
       "        <tr>\n",
       "            <td>34              </td> <td>sunflower</td>\n",
       "        </tr>\n",
       "        <tr>\n",
       "            <td>5               </td> <td>rose     </td>\n",
       "        </tr>\n",
       "    </tbody>\n",
       "</table>"
      ],
      "text/plain": [
       "Number of petals | Name\n",
       "8                | lotus\n",
       "34               | sunflower\n",
       "5                | rose"
      ]
     },
     "execution_count": 26,
     "metadata": {},
     "output_type": "execute_result"
    }
   ],
   "source": [
    "# add two or more columns\n",
    "Table().with_columns(\n",
    "    'Number of petals', make_array(8, 34, 5),\n",
    "    'Name', make_array('lotus', 'sunflower', 'rose')\n",
    ")"
   ]
  },
  {
   "cell_type": "markdown",
   "id": "541459a8-2fa2-4d49-8336-5116be6c5be6",
   "metadata": {},
   "source": [
    "We can give it a name and further extend it!"
   ]
  },
  {
   "cell_type": "code",
   "execution_count": 28,
   "id": "fa25cc66-e727-4d58-84ae-186f7059aa96",
   "metadata": {},
   "outputs": [
    {
     "data": {
      "text/html": [
       "<table border=\"1\" class=\"dataframe\">\n",
       "    <thead>\n",
       "        <tr>\n",
       "            <th>Number of petals</th> <th>Name</th> <th>Color</th>\n",
       "        </tr>\n",
       "    </thead>\n",
       "    <tbody>\n",
       "        <tr>\n",
       "            <td>8               </td> <td>lotus    </td> <td>pink  </td>\n",
       "        </tr>\n",
       "        <tr>\n",
       "            <td>34              </td> <td>sunflower</td> <td>yellow</td>\n",
       "        </tr>\n",
       "        <tr>\n",
       "            <td>5               </td> <td>rose     </td> <td>red   </td>\n",
       "        </tr>\n",
       "    </tbody>\n",
       "</table>"
      ],
      "text/plain": [
       "Number of petals | Name      | Color\n",
       "8                | lotus     | pink\n",
       "34               | sunflower | yellow\n",
       "5                | rose      | red"
      ]
     },
     "execution_count": 28,
     "metadata": {},
     "output_type": "execute_result"
    }
   ],
   "source": [
    "flowers = Table().with_columns(\n",
    "    'Number of petals', make_array(8, 34, 5),\n",
    "    'Name', make_array('lotus', 'sunflower', 'rose')\n",
    ")\n",
    "\n",
    "flowers.with_columns(\n",
    "    'Color', make_array('pink', 'yellow', 'red')\n",
    ")"
   ]
  },
  {
   "cell_type": "markdown",
   "id": "30bbc9d8-4ad7-4ddd-8e41-0eccd5b6626b",
   "metadata": {},
   "source": [
    "#### read_table\n",
    "You may have an existing table that you may want to read! We will use the Table method `read_table` to read a CSV (comma-separated values) file below. Open up this file on your devices and see what it looks like! You should get very familiar with looking at data in this course!"
   ]
  },
  {
   "cell_type": "code",
   "execution_count": 30,
   "id": "d46ae08b-fab3-4edb-b2a8-6b9ae0cd506e",
   "metadata": {},
   "outputs": [
    {
     "data": {
      "text/html": [
       "<table border=\"1\" class=\"dataframe\">\n",
       "    <thead>\n",
       "        <tr>\n",
       "            <th>Year</th> <th>Average Ticket Price</th> <th>Total Gross</th> <th>Number of Movies</th> <th>#1 Movie</th>\n",
       "        </tr>\n",
       "    </thead>\n",
       "    <tbody>\n",
       "        <tr>\n",
       "            <td>2019</td> <td>9.16                </td> <td>11237.9    </td> <td>788             </td> <td>Avengers: Endgame                           </td>\n",
       "        </tr>\n",
       "        <tr>\n",
       "            <td>2018</td> <td>9.11                </td> <td>11611.3    </td> <td>878             </td> <td>Black Panther                               </td>\n",
       "        </tr>\n",
       "        <tr>\n",
       "            <td>2017</td> <td>8.97                </td> <td>11125.4    </td> <td>740             </td> <td>Star Wars: Episode VIII - The Last Jedi     </td>\n",
       "        </tr>\n",
       "        <tr>\n",
       "            <td>2016</td> <td>8.65                </td> <td>11373.7    </td> <td>737             </td> <td>Rogue One: A Star Wars Story                </td>\n",
       "        </tr>\n",
       "        <tr>\n",
       "            <td>2015</td> <td>8.43                </td> <td>11098.8    </td> <td>706             </td> <td>Star Wars: Episode VII - The Force Awakens  </td>\n",
       "        </tr>\n",
       "        <tr>\n",
       "            <td>2014</td> <td>8.17                </td> <td>10436.8    </td> <td>708             </td> <td>American Sniper                             </td>\n",
       "        </tr>\n",
       "        <tr>\n",
       "            <td>2013</td> <td>8.13                </td> <td>10955.9    </td> <td>689             </td> <td>The Hunger Games: Catching Fire             </td>\n",
       "        </tr>\n",
       "        <tr>\n",
       "            <td>2012</td> <td>7.96                </td> <td>10959.6    </td> <td>669             </td> <td>The Avengers                                </td>\n",
       "        </tr>\n",
       "        <tr>\n",
       "            <td>2011</td> <td>7.93                </td> <td>10114.1    </td> <td>601             </td> <td>Harry Potter and the Deathly Hallows: Part 2</td>\n",
       "        </tr>\n",
       "        <tr>\n",
       "            <td>2010</td> <td>7.89                </td> <td>10212.7    </td> <td>538             </td> <td>Toy Story 3                                 </td>\n",
       "        </tr>\n",
       "    </tbody>\n",
       "</table>\n",
       "<p>... (33 rows omitted)</p>"
      ],
      "text/plain": [
       "Year | Average Ticket Price | Total Gross | Number of Movies | #1 Movie\n",
       "2019 | 9.16                 | 11237.9     | 788              | Avengers: Endgame\n",
       "2018 | 9.11                 | 11611.3     | 878              | Black Panther\n",
       "2017 | 8.97                 | 11125.4     | 740              | Star Wars: Episode VIII - The Last Jedi\n",
       "2016 | 8.65                 | 11373.7     | 737              | Rogue One: A Star Wars Story\n",
       "2015 | 8.43                 | 11098.8     | 706              | Star Wars: Episode VII - The Force Awakens\n",
       "2014 | 8.17                 | 10436.8     | 708              | American Sniper\n",
       "2013 | 8.13                 | 10955.9     | 689              | The Hunger Games: Catching Fire\n",
       "2012 | 7.96                 | 10959.6     | 669              | The Avengers\n",
       "2011 | 7.93                 | 10114.1     | 601              | Harry Potter and the Deathly Hallows: Part 2\n",
       "2010 | 7.89                 | 10212.7     | 538              | Toy Story 3\n",
       "... (33 rows omitted)"
      ]
     },
     "execution_count": 30,
     "metadata": {},
     "output_type": "execute_result"
    }
   ],
   "source": [
    "movies = Table.read_table(\"data/movies_by_year_with_ticket_price.csv\")\n",
    "movies"
   ]
  },
  {
   "cell_type": "markdown",
   "id": "5fc9b2b2-fb27-465f-9286-25c789c4c08b",
   "metadata": {},
   "source": [
    "#### num_columns/num_rows\n",
    "The method `num_columns` gives the number of columns in the table, and `num_rows` the number of rows."
   ]
  },
  {
   "cell_type": "code",
   "execution_count": 31,
   "id": "3f2480f4-7492-4b74-8ab1-c1bf7e18d84a",
   "metadata": {},
   "outputs": [
    {
     "data": {
      "text/plain": [
       "5"
      ]
     },
     "execution_count": 31,
     "metadata": {},
     "output_type": "execute_result"
    }
   ],
   "source": [
    "movies.num_columns"
   ]
  },
  {
   "cell_type": "markdown",
   "id": "bb68fe96-5b09-480e-9408-af502e52fc5c",
   "metadata": {},
   "source": [
    "#### Accessing data in a column\n",
    "We can use a column’s label to access the array of data in the column as shown below. "
   ]
  },
  {
   "cell_type": "code",
   "execution_count": 32,
   "id": "fcadea99-640c-41e8-bcf7-02fe5af39be8",
   "metadata": {},
   "outputs": [
    {
     "data": {
      "text/plain": [
       "array(['Avengers: Endgame', 'Black Panther',\n",
       "       'Star Wars: Episode VIII - The Last Jedi',\n",
       "       'Rogue One: A Star Wars Story',\n",
       "       'Star Wars: Episode VII - The Force Awakens', 'American Sniper',\n",
       "       'The Hunger Games: Catching Fire', 'The Avengers',\n",
       "       'Harry Potter and the Deathly Hallows: Part 2', 'Toy Story 3',\n",
       "       'Avatar', 'The Dark Knight', 'Spider-Man 3',\n",
       "       \"Pirates of the Caribbean: Dead Man's Chest\",\n",
       "       'Star Wars: Episode III - Revenge of the Sith', 'Shrek 2',\n",
       "       'The Lord of the Rings: The Return of the King', 'Spider-Man',\n",
       "       \"Harry Potter and the Sorcerer's Stone\",\n",
       "       'How the Grinch Stole Christmas',\n",
       "       'Star Wars: Episode I - The Phantom Menace', 'Saving Private Ryan',\n",
       "       'Titanic', 'Independence Day', 'Toy Story', 'Forrest Gump',\n",
       "       'Jurassic Park', 'Aladdin', 'Terminator 2: Judgment Day',\n",
       "       'Home Alone', 'Batman', 'Rain Man', 'Three Men and a Baby',\n",
       "       'Top Gun', 'Back to the Future', 'Beverly Hills Cop',\n",
       "       'Star Wars: Episode VI - Return of the Jedi',\n",
       "       'E.T. the Extra-Terrestrial', 'Raiders of the Lost Ark',\n",
       "       'Star Wars: Episode V - The Empire Strikes Back',\n",
       "       'Kramer vs. Kramer', 'Grease', 'Star Wars: Episode IV - A New Hope'],\n",
       "      dtype='<U46')"
      ]
     },
     "execution_count": 32,
     "metadata": {},
     "output_type": "execute_result"
    }
   ],
   "source": [
    "movies.column(\"#1 Movie\")"
   ]
  },
  {
   "cell_type": "markdown",
   "id": "66c19007-9b0a-49ff-9ffd-dc3e471e2546",
   "metadata": {},
   "source": [
    "There are a variety of *methods* we can use on tables; these include \n",
    "* `show`\n",
    "* `select`\n",
    "* `drop`\n",
    "* `sort`\n",
    "* `where`\n",
    "and many others.\n",
    "\n",
    "Let's ask chatgpt for help:"
   ]
  },
  {
   "cell_type": "code",
   "execution_count": 34,
   "id": "ce193c24-0408-474a-8330-aa2bafc60b87",
   "metadata": {},
   "outputs": [
    {
     "data": {
      "text/markdown": [
       "### Summary of Useful Methods for Table() in Python Datascience Library\n",
       "\n",
       "1. **show()**: Display the table with customizable formatting options.\n",
       "2. **select()**: Select specific columns from the table.\n",
       "3. **sort()**: Sort the table based on specified columns.\n",
       "4. **where()**: Filter rows based on specified conditions.\n",
       "5. **group()**: Group rows based on specified columns.\n",
       "6. **join()**: Join two tables based on common columns.\n",
       "7. **pivot()**: Reshape the table using specified columns as row and column headers.\n",
       "8. **barh()**: Create a horizontal bar chart from the table data.\n",
       "9. **scatter()**: Create a scatter plot from the table data.\n",
       "10. **save()**: Save the table to a specified file format."
      ],
      "text/plain": [
       "<IPython.core.display.Markdown object>"
      ]
     },
     "execution_count": 34,
     "metadata": {
      "text/markdown": {
       "jupyter_ai": {
        "model_id": "gpt-3.5-turbo",
        "provider_id": "openai-chat"
       }
      }
     },
     "output_type": "execute_result"
    }
   ],
   "source": [
    "%%ai openai-chat:gpt-3.5-turbo\n",
    "Can you give me a brief summary of some of the most useful methods that\n",
    "we can use on a Table() from the Python datascience library?"
   ]
  },
  {
   "cell_type": "code",
   "execution_count": 35,
   "id": "002d99b8-e6a1-45cc-9955-260c29bca373",
   "metadata": {},
   "outputs": [
    {
     "data": {
      "text/markdown": [
       "### Examples of Using Useful Methods for Table() in Python Datascience Library with Movies Table\n",
       "\n",
       "1. **show()**:\n",
       "```python\n",
       "movies.show()\n",
       "```\n",
       "\n",
       "2. **select()**:\n",
       "```python\n",
       "selected_columns = movies.select('Title', 'Genre')\n",
       "selected_columns.show()\n",
       "```\n",
       "\n",
       "3. **sort()**:\n",
       "```python\n",
       "sorted_table = movies.sort('Year')\n",
       "sorted_table.show()\n",
       "```\n",
       "\n",
       "4. **where()**:\n",
       "```python\n",
       "filtered_rows = movies.where('Director', are.equal_to('Christopher Nolan'))\n",
       "filtered_rows.show()\n",
       "```\n",
       "\n",
       "5. **group()**:\n",
       "```python\n",
       "grouped_table = movies.group('Director')\n",
       "grouped_table.show()\n",
       "```\n",
       "\n",
       "6. **join()**:\n",
       "```python\n",
       "actors = Table().with_columns('Actor', ['Tom Hanks', 'Leonardo DiCaprio'], 'Movie', ['Forrest Gump', 'Inception'])\n",
       "joined_table = movies.join('Title', actors, 'Movie')\n",
       "joined_table.show()\n",
       "```\n",
       "\n",
       "7. **pivot()**:\n",
       "```python\n",
       "pivoted_table = movies.pivot('Genre', 'Director', 'Title', collect=sum)\n",
       "pivoted_table.show()\n",
       "```\n",
       "\n",
       "8. **barh()**:\n",
       "```python\n",
       "movies.barh('Director', 'Title')\n",
       "```\n",
       "\n",
       "9. **scatter()**:\n",
       "```python\n",
       "movies.scatter('Year', 'Revenue (Millions)')\n",
       "```\n",
       "\n",
       "10. **save()**:\n",
       "```python\n",
       "movies.save('movies_data.csv')\n",
       "```"
      ],
      "text/plain": [
       "<IPython.core.display.Markdown object>"
      ]
     },
     "execution_count": 35,
     "metadata": {
      "text/markdown": {
       "jupyter_ai": {
        "model_id": "gpt-3.5-turbo",
        "provider_id": "openai-chat"
       }
      }
     },
     "output_type": "execute_result"
    }
   ],
   "source": [
    "%%ai openai-chat:gpt-3.5-turbo\n",
    "Can you give an example of using each of those methods, using the movies table that is defined in this notebook?"
   ]
  },
  {
   "cell_type": "code",
   "execution_count": 36,
   "id": "759c53f4-ce19-47f5-ac79-d4a0b112315e",
   "metadata": {},
   "outputs": [
    {
     "data": {
      "text/markdown": [
       "### Examples of Using Useful Methods for Table() in Python Datascience Library with Movies Table\n",
       "\n",
       "1. **show()**:\n",
       "   - This method displays the contents of the table in a format that is easily readable for the user.\n",
       "   ```python\n",
       "   movies.show()\n",
       "   ```\n",
       "\n",
       "2. **select()**:\n",
       "   - Select method allows you to specify and display only the columns of interest from the table.\n",
       "   ```python\n",
       "   selected_columns = movies.select('Title', 'Genre')\n",
       "   selected_columns.show()\n",
       "   ```\n",
       "\n",
       "3. **sort()**:\n",
       "   - Sort method arranges the rows of the table in ascending order based on the specified column.\n",
       "   ```python\n",
       "   sorted_table = movies.sort('Year')\n",
       "   sorted_table.show()\n",
       "   ```\n",
       "\n",
       "4. **where()**:\n",
       "   - Where method filters the rows of the table based on a specified condition.\n",
       "   ```python\n",
       "   filtered_rows = movies.where('Director', are.equal_to('Christopher Nolan'))\n",
       "   filtered_rows.show()\n",
       "   ```\n",
       "\n",
       "5. **group()**:\n",
       "   - Group method groups the rows of the table based on a specified column, aggregating the data within each group.\n",
       "   ```python\n",
       "   grouped_table = movies.group('Director')\n",
       "   grouped_table.show()\n",
       "   ```\n",
       "\n",
       "6. **join()**:\n",
       "   - Join method merges two tables based on a common column, allowing you to combine related data.\n",
       "   ```python\n",
       "   actors = Table().with_columns('Actor', ['Tom Hanks', 'Leonardo DiCaprio'], 'Movie', ['Forrest Gump', 'Inception'])\n",
       "   joined_table = movies.join('Title', actors, 'Movie')\n",
       "   joined_table.show()\n",
       "   ```\n",
       "\n",
       "7. **pivot()**:\n",
       "   - Pivot method reshapes the table, using specified columns as row and column headers, and aggregating the data based on a function.\n",
       "   ```python\n",
       "   pivoted_table = movies.pivot('Genre', 'Director', 'Title', collect=sum)\n",
       "   pivoted_table.show()\n",
       "   ```\n",
       "\n",
       "8. **barh()**:\n",
       "   - Barh method creates a horizontal bar chart using the data from the specified columns in the table.\n",
       "   ```python\n",
       "   movies.barh('Director', 'Title')\n",
       "   ```\n",
       "\n",
       "9. **scatter()**:\n",
       "   - Scatter method creates a scatter plot using the data from the specified columns in the table.\n",
       "   ```python\n",
       "   movies.scatter('Year', 'Revenue (Millions)')\n",
       "   ```\n",
       "\n",
       "10. **save()**:\n",
       "    - Save method allows you to save the table data to a specified file format for future use or sharing.\n",
       "    ```python\n",
       "    movies.save('movies_data.csv')\n",
       "    ```"
      ],
      "text/plain": [
       "<IPython.core.display.Markdown object>"
      ]
     },
     "execution_count": 36,
     "metadata": {
      "text/markdown": {
       "jupyter_ai": {
        "model_id": "gpt-3.5-turbo",
        "provider_id": "openai-chat"
       }
      }
     },
     "output_type": "execute_result"
    }
   ],
   "source": [
    "%%ai openai-chat:gpt-3.5-turbo\n",
    "Can you repeat that, but add a brief explanation \n",
    "along with each example that would help a beginner understand\n",
    "what the methods does, and anything else they should know?"
   ]
  },
  {
   "cell_type": "code",
   "execution_count": null,
   "id": "8a2772b1-86b2-454e-994d-dc7752f36cd0",
   "metadata": {},
   "outputs": [],
   "source": []
  }
 ],
 "metadata": {
  "kernelspec": {
   "display_name": "Python 3 (ipykernel)",
   "language": "python",
   "name": "python3"
  },
  "language_info": {
   "codemirror_mode": {
    "name": "ipython",
    "version": 3
   },
   "file_extension": ".py",
   "mimetype": "text/x-python",
   "name": "python",
   "nbconvert_exporter": "python",
   "pygments_lexer": "ipython3",
   "version": "3.12.9"
  }
 },
 "nbformat": 4,
 "nbformat_minor": 5
}
