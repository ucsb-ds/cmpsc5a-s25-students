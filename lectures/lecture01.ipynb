{
 "cells": [
  {
   "cell_type": "markdown",
   "id": "cb3045df-2b48-46cb-81cb-a7141e968a3f",
   "metadata": {},
   "source": [
    "# Welcome to CMPSC 5A for Spring 2025\n",
    "\n",
    "This is a course in Data Science (with a little bit of Computer Science sprinked in).\n",
    "\n",
    "There are no pre-requisites; we assume only familiarity with high school algebra.\n",
    "\n",
    "Data Science is working with data sets to answer questions and produce charts and graphs to help people make better decisions.\n",
    "\n",
    "* How to load data\n",
    "* How to produce charts, tables and graphs that summarize data\n",
    "* How to \"clean\" data when it's messy (e.g. missing values, invalid values, etc.)\n",
    "\n",
    "Along the way, you'll learn:\n",
    "* A little bit of basic Python programming\n",
    "* A little bit of basic statistics"
   ]
  },
  {
   "cell_type": "markdown",
   "id": "3227d40f-5692-44f5-8e4b-a4152adc3bf6",
   "metadata": {},
   "source": [
    "# Bring your laptop to class \n",
    "\n",
    "Unlike some courses where there's a \"no device\" policy, in this class we *want you to bring a laptop or table to class every time* and open it to the Jupyter hub and follow along.\n",
    "\n",
    "* That means lecture AND discussion.  Please bring your laptop, and try to have it charged if possible.\n",
    "\n",
    "Out of respect for your fellow students, though, please don't use your laptop for anything distracting during class.  If the lecture is not capturing your attention, or you really need to so something else during lecture, so be it, but please don't watch videos or play games; the flickering of your screen may create a distraction to people behind you.   (Or just sit in the back row.  I'm not trying to police your choices; I'm trying to make sure that the class is a comfortable place for those that are trying to pay attention.)\n"
   ]
  },
  {
   "cell_type": "markdown",
   "id": "02571869-86c1-432b-943c-612b95e5bceb",
   "metadata": {},
   "source": [
    "# Attendance is Required\n",
    "\n",
    "There will be in-class activities that are graded (these are 10% of your course grade), and there will typically be *no opportunity to make these up*; if you miss them, you miss them.  \n",
    "\n",
    "I'm aware that from time-to-time, emergencies or legitimate will arise where you cannot be at class, or there may be day when you are just not feeling well. \n",
    "\n",
    "**For that reason, I will drop the grades of (at least) the lowest three in-class activities.**  \n",
    "\n",
    "That way, we won't need to spent time worrying about whether a given absence was \"excused\" or \"not excused\".  \n",
    "\n",
    "If you will need to miss more than three classes for a legitimate reason, you can make a private post on Ed (we'll talk about that next) and we can discuss your circumstances. But except in very unusual circumstances (an extended hospital stay, for example) in general, I don't think it's a good use of our time to be discussing whether or not a particular absence was excused.   Three drops should be enough to handle the occasional family emergency, bad cold, etc.\n"
   ]
  },
  {
   "cell_type": "markdown",
   "id": "41db7b65-297a-45b2-8348-3f7028536cda",
   "metadata": {},
   "source": [
    "# First in-class graded activity: Make a comment on EdStem.org\n",
    "\n",
    "Our first activity will be to make a post on EdStem, which is the platform where we communicate with one another.\n",
    "\n",
    "Please check your email; you should have an invitation to EdStem.org.  Please follow the instructions in that email to create your EdStem.org account.\n",
    "\n",
    "Once you have created the account, look for a post with the title \"04/01 Lecture\".  Under that post, please make a comment that includes:\n",
    "* The name you would like to be called\n",
    "* The pronouns you use (he/him, she/her, etc.)\n",
    "* Which discussion section you are in (noon, 1pm, 2pm, 3pm, 4pm)\n",
    "* A kind of data that you would find interesting to explore in this course\n",
    "* Optionally: tell us something about what that data is interesting to you\n",
    "\n",
    "For this last question, here are some examples of data that we can explore in this course. You can choose one of these if it appeals to you, but these are not the only choices.  Feel free to suggest something that's not on the list.\n",
    "* Entertainment Data (movies, TV shows, Broadway shows)\n",
    "* Sports Data (team and individual performance)\n",
    "* Economic Data (income, debt, cost of living)\n",
    "* Weather Data\n",
    "* Earthquake Data\n",
    "* UCSB Enrollment Trends (which courses fill up the fastest?)\n",
    "* Transportation Data (which airline routes are most often delayed?)"
   ]
  },
  {
   "cell_type": "markdown",
   "id": "40018d07-8c9b-407b-a3ce-6a7471262b79",
   "metadata": {},
   "source": [
    "# Please use EdStem early and often (rather than email)\n",
    "\n",
    "*Any* time you have a question about the course, please use EdStem to post the question.\n",
    "\n",
    "* For regular posts, everyone enrolled in the course and the course staff can see your post\n",
    "* You can also make private posts that only the course staff can see.\n",
    "\n",
    "Please avoid email for communicating with me and the course staff (the TAs and LAs).  Instead, please use edstem.org for all course related communications (unless a staff member specifically asks you to use email for some communication.)"
   ]
  },
  {
   "cell_type": "markdown",
   "id": "51c45f90-1397-4f2e-8c2d-5eae2bff8a72",
   "metadata": {},
   "source": [
    "# Getting your Jupyter Hub working\n",
    "\n",
    "One of the first things we need to do is make sure that your\n",
    "access to the Jupyter hub is working.\n",
    "\n",
    "You'll use this throughout the course to do almost everything,\n",
    "and it's where can follow along with the lectures.\n",
    "\n",
    "Look on Canvas for the link marked:\n",
    "* `Update my Jupyter Notebook`\n",
    "\n",
    "Click it and bring up your Notebook  \n",
    "\n",
    "*(Here, the instructor will demonstrate logging in to Jupyter hub,\n",
    "and ask the students to do the same.)*"
   ]
  },
  {
   "cell_type": "markdown",
   "id": "ec71f271-08e5-40de-a560-9e6a3a86aa30",
   "metadata": {},
   "source": [
    "# Turn off vim mode!\n",
    "\n",
    "Please go to the `Settings` menu in your Jupyter hub window,\n",
    "and find where it says `Enable Vim Mode`.  If there is a check mark\n",
    "beside it, that's what you DO NOT want.  Select the menu item, \n",
    "and make the check go away.\n",
    "\n"
   ]
  },
  {
   "cell_type": "markdown",
   "id": "2a496ab3-2ebe-4cf1-af12-fd9cc48cff18",
   "metadata": {},
   "source": [
    "# Python code can be embedded in a Notebook\n",
    "\n",
    "Here's an example.  This example shows assigning variables.   The *assignment statement* is one of the basic concepts of Python programming. \n",
    "\n",
    "Each assignment statement has a *variable name* e.g. `x`, `y`, or `z` on the left hand side, and an *expression* on the right hand side.  Expressions can take many forms, but some of the simplest ones are shown here: numbers, and variables that have already been assigned values.\n",
    "\n",
    "The line `print(z)` can be used to show the value of a particular variable.\n",
    "\n",
    "In a Jupyter notebook, you can have three kinds of cells: `Markdown`, `Code` and `Raw`.  We are only going to talk about Markdown and Code today.  \n",
    "* This is a `Markdown` cell; it has text in it formatted using a language called `Markdown`\n",
    "* The next cell is a `Code` cell; it contains Python code.\n",
    "* *Instructor: show the difference between the cells*\n",
    "\n",
    "You use `Control-Enter` to make a cell \"do something\" (format the text, or run the code).\n",
    "\n"
   ]
  },
  {
   "cell_type": "code",
   "execution_count": 1,
   "id": "d9eeb7bf-81f7-4efc-af96-118f892cb341",
   "metadata": {},
   "outputs": [
    {
     "name": "stdout",
     "output_type": "stream",
     "text": [
      "3\n"
     ]
    }
   ],
   "source": [
    "x = 1\n",
    "y = 2\n",
    "z = x + y\n",
    "print(z)"
   ]
  },
  {
   "cell_type": "markdown",
   "id": "a4646366-5e49-4e13-b409-d35214ad13f2",
   "metadata": {},
   "source": [
    "# A few more course logistics\n",
    "\n",
    "## Discussion Sections \n",
    "\n",
    "Discussion sections are tomorrow (Wednesday) at noon, 1pm, 2pm, 3pm and 4pm.\n",
    "\n",
    "Please attend the discussion section for which you are registered. This is especially important because the 2pm, 3pm, and 4pm sections are in small rooms that have no capacity for extra students.\n",
    "\n",
    "If attending a different section is your *only* option:\n",
    "* If it's a one-time thing, try to come to noon or 1pm, since they have extra space in the room.\n",
    "* If it's an every week thing, *make an Ed post* and we'll try to get your switched into another section.\n",
    "  "
   ]
  },
  {
   "cell_type": "markdown",
   "id": "4e0b3ed5-6b08-4c16-815e-4d53b83407bb",
   "metadata": {},
   "source": [
    "\n",
    "\n",
    "\n",
    "## Labs\n",
    "\n",
    "Labs are 40% of your course grade.   \n",
    "\n",
    "They will typically be introduced on Wednesdays in discussion section (that's one reason it's really important to go, so that you get the instructions!).\n",
    "\n",
    "They are typically due the following Tuesday. There's a link to a tentative schedule here (and on Canvas); note that it is subject to change!\n",
    "\n",
    "* [Schedule](https://docs.google.com/spreadsheets/d/1jCunQOTUpTs4e6KEVjWpy4-aghTTQYlyCtEj2-MoXhA/edit?usp=sharing)\n",
    "\n",
    "## Projects\n",
    "\n",
    "There are no exams.\n",
    "\n",
    "Instead, there's a midterm project and a final project, each worth 25% of your grade.\n",
    "\n",
    "The project involves actually *doing* data science; you'll be given a data set and some questions to answer about it. You'll prepare a Jupyter notebook, and a short video presentation. \n",
    "\n",
    "The midterm and final projects will be done in teams; being a good collaborator and team members will be part of your grade.  More on this later in the course.\n",
    "\n",
    "For now: try to find someone in your discussion section that you could work well with.  We'll have some activities where can get to know one another to try to help that along.\n",
    "\n",
    "\n",
    "## Syllabus\n",
    "\n",
    "* [Link to the Syllabus](https://docs.google.com/document/d/1xh9YFpqAxcvFnN1PpbIacQm53G7UmLjWGzNho6wYchw/edit?usp=sharing)\n",
    "* It's also on Canvas"
   ]
  },
  {
   "cell_type": "markdown",
   "id": "991d35f5-8910-471e-a3b6-394838a7b741",
   "metadata": {},
   "source": [
    "# Using AI in this course\n",
    "\n",
    "This may surprise you, but unlike in some courses where you may be told *not* to use AI, in this course *encourage* the *reponsible* use of AI resources within limits:\n",
    "\n",
    "* First, AI should be used to *enable* learning, not to *avoid* learning.\n",
    "* Second, you should use only the AI resources that are provided in the Jupyter notebook environment (we'll demonstrate how to use those shortly).\n",
    "\n",
    "Since you are using AI through the Jupyter notebook, it is possible to *save your prompts*, and you are *required* to do so.  That is: if you use AI to help you get an answer, we want you to *show your work*:\n",
    "* What did you ask the AI?\n",
    "* What was its response?\n",
    "* What did you do with that response?\n",
    "\n",
    "You will have access to ChatGPT 3.5 turbo or 4 through Jupyter AI\n",
    "\n",
    "## Limits on AI Usage\n",
    "\n",
    "Note that the AI resources used in this class aren't \"free\"; your tutition dollars are being used to pay for the resources.  So, you may use the AI resources provided through the Jupyter hub only for legitimate course purposes of learning data science.   Please do not abuse the resource, or use it for personal projects unrelated to the course material and learning objectives.  \n",
    "\n",
    "## Collaboration\n",
    "\n",
    "* Asking questions is greatly encouraged\n",
    "* Discuss questions and concepts with each other \n",
    "* Submit assignments individually or with partner(s) from your discussion section\n",
    "* Use provided AI/LLMs wisely to understand concepts, code, analyses\n",
    "\n",
    "## The Limits of collaboration\n",
    "* Don't share solutions with each other (except partners)\n",
    "* Submit LLM prompts and responses with your work\n",
    "* In general, observe usual principles of academic integrity: don't submit other people's work as your own.\n"
   ]
  },
  {
   "cell_type": "markdown",
   "id": "7b9c621d-b9ad-43c1-856f-f8a831ea8bfd",
   "metadata": {},
   "source": [
    "# Reading Assignment\n",
    "\n",
    "Before Section:\n",
    "* Please read [Chapter 1 in the textbook](https://inferentialthinking.com/chapters/01/what-is-data-science.html). Don't worry; it's short, and not all that technical!\n",
    "* Skip Chapter 2 for now; we'll come back to it after Chapter 3.\n",
    "* [Chapter 3](https://inferentialthinking.com/chapters/03/programming-in-python.html) is a bit more technical so we'll take it more slowly.  Please read at least 3.1 (Expressions) and 3.2 (Names) before Wednesday.\n",
    "\n",
    "Before next Lecture:\n",
    "* Please read everything in the list for section above\n",
    "* And add Sections [3.3 (Calls)](https://inferentialthinking.com/chapters/03/3/Calls.html) and [3.4 (Tables)](https://inferentialthinking.com/chapters/03/4/Introduction_to_Tables.html)."
   ]
  },
  {
   "cell_type": "code",
   "execution_count": null,
   "id": "70da437c-b2b1-418d-8200-d8aa43e18d7d",
   "metadata": {},
   "outputs": [],
   "source": []
  }
 ],
 "metadata": {
  "kernelspec": {
   "display_name": "Python 3 (ipykernel)",
   "language": "python",
   "name": "python3"
  },
  "language_info": {
   "codemirror_mode": {
    "name": "ipython",
    "version": 3
   },
   "file_extension": ".py",
   "mimetype": "text/x-python",
   "name": "python",
   "nbconvert_exporter": "python",
   "pygments_lexer": "ipython3",
   "version": "3.12.9"
  }
 },
 "nbformat": 4,
 "nbformat_minor": 5
}
